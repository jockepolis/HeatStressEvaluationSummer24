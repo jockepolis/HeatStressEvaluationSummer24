{
 "cells": [
  {
   "cell_type": "markdown",
   "metadata": {},
   "source": [
    "## Identifying Heat Stress Periods Based on Weather Data\n",
    "\n",
    "This approach focuses on identifying heat stress periods using weather data. Various weather variables, such as temperature, humidity, and the Temperature-Humidity Index (THI), are known to influence heat stress in cows. By setting specific thresholds for these variables, we can pinpoint days when the weather conditions are likely to cause heat stress."
   ]
  },
  {
   "cell_type": "code",
   "execution_count": 24,
   "metadata": {},
   "outputs": [
    {
     "name": "stdout",
     "output_type": "stream",
     "text": [
      "The autoreload extension is already loaded. To reload it, use:\n",
      "  %reload_ext autoreload\n"
     ]
    }
   ],
   "source": [
    "import pandas as pd\n",
    "import numpy as np\n",
    "import seaborn as sns\n",
    "from scipy.optimize import curve_fit, OptimizeWarning\n",
    "from tqdm import tqdm\n",
    "import warnings\n",
    "\n",
    "sns.set_theme()\n",
    "sns.set_context(\"notebook\")\n",
    "%load_ext autoreload\n",
    "%autoreload 2"
   ]
  },
  {
   "cell_type": "code",
   "execution_count": 25,
   "metadata": {},
   "outputs": [
    {
     "data": {
      "text/html": [
       "<div>\n",
       "<style scoped>\n",
       "    .dataframe tbody tr th:only-of-type {\n",
       "        vertical-align: middle;\n",
       "    }\n",
       "\n",
       "    .dataframe tbody tr th {\n",
       "        vertical-align: top;\n",
       "    }\n",
       "\n",
       "    .dataframe thead th {\n",
       "        text-align: right;\n",
       "    }\n",
       "</style>\n",
       "<table border=\"1\" class=\"dataframe\">\n",
       "  <thead>\n",
       "    <tr style=\"text-align: right;\">\n",
       "      <th></th>\n",
       "      <th>FarmName_Pseudo</th>\n",
       "      <th>SE_Number</th>\n",
       "      <th>AnimalNumber</th>\n",
       "      <th>StartDate</th>\n",
       "      <th>StartTime</th>\n",
       "      <th>LactationNumber</th>\n",
       "      <th>DaysInMilk</th>\n",
       "      <th>TotalYield</th>\n",
       "      <th>DateTime</th>\n",
       "      <th>YearSeason</th>\n",
       "      <th>...</th>\n",
       "      <th>Mother</th>\n",
       "      <th>Father</th>\n",
       "      <th>CullDecisionDate</th>\n",
       "      <th>Temperature</th>\n",
       "      <th>RelativeHumidity</th>\n",
       "      <th>THI_adj</th>\n",
       "      <th>HW</th>\n",
       "      <th>cum_HW</th>\n",
       "      <th>Temp15Threshold</th>\n",
       "      <th>Age</th>\n",
       "    </tr>\n",
       "  </thead>\n",
       "  <tbody>\n",
       "    <tr>\n",
       "      <th>0</th>\n",
       "      <td>a624fb9a</td>\n",
       "      <td>SE-064c0cec-1189</td>\n",
       "      <td>5189</td>\n",
       "      <td>2022-01-01</td>\n",
       "      <td>06:25:00</td>\n",
       "      <td>7</td>\n",
       "      <td>191</td>\n",
       "      <td>13.90</td>\n",
       "      <td>2022-01-01 06:25:00</td>\n",
       "      <td>2022-1</td>\n",
       "      <td>...</td>\n",
       "      <td>NaN</td>\n",
       "      <td>NaN</td>\n",
       "      <td>2022-12-20</td>\n",
       "      <td>-3.025000</td>\n",
       "      <td>0.930917</td>\n",
       "      <td>28.012944</td>\n",
       "      <td>0</td>\n",
       "      <td>0</td>\n",
       "      <td>0</td>\n",
       "      <td>3095</td>\n",
       "    </tr>\n",
       "    <tr>\n",
       "      <th>1</th>\n",
       "      <td>a624fb9a</td>\n",
       "      <td>SE-064c0cec-1189</td>\n",
       "      <td>5189</td>\n",
       "      <td>2022-01-01</td>\n",
       "      <td>16:41:00</td>\n",
       "      <td>7</td>\n",
       "      <td>191</td>\n",
       "      <td>16.87</td>\n",
       "      <td>2022-01-01 16:41:00</td>\n",
       "      <td>2022-1</td>\n",
       "      <td>...</td>\n",
       "      <td>NaN</td>\n",
       "      <td>NaN</td>\n",
       "      <td>2022-12-20</td>\n",
       "      <td>-3.025000</td>\n",
       "      <td>0.930917</td>\n",
       "      <td>28.012944</td>\n",
       "      <td>0</td>\n",
       "      <td>0</td>\n",
       "      <td>0</td>\n",
       "      <td>3095</td>\n",
       "    </tr>\n",
       "    <tr>\n",
       "      <th>2</th>\n",
       "      <td>a624fb9a</td>\n",
       "      <td>SE-064c0cec-1189</td>\n",
       "      <td>5189</td>\n",
       "      <td>2022-01-02</td>\n",
       "      <td>15:29:00</td>\n",
       "      <td>7</td>\n",
       "      <td>192</td>\n",
       "      <td>20.41</td>\n",
       "      <td>2022-01-02 15:29:00</td>\n",
       "      <td>2022-1</td>\n",
       "      <td>...</td>\n",
       "      <td>NaN</td>\n",
       "      <td>NaN</td>\n",
       "      <td>2022-12-20</td>\n",
       "      <td>-0.279167</td>\n",
       "      <td>0.990542</td>\n",
       "      <td>32.898193</td>\n",
       "      <td>0</td>\n",
       "      <td>0</td>\n",
       "      <td>0</td>\n",
       "      <td>3096</td>\n",
       "    </tr>\n",
       "    <tr>\n",
       "      <th>3</th>\n",
       "      <td>a624fb9a</td>\n",
       "      <td>SE-064c0cec-1189</td>\n",
       "      <td>5189</td>\n",
       "      <td>2022-01-02</td>\n",
       "      <td>03:31:00</td>\n",
       "      <td>7</td>\n",
       "      <td>192</td>\n",
       "      <td>16.28</td>\n",
       "      <td>2022-01-02 03:31:00</td>\n",
       "      <td>2022-1</td>\n",
       "      <td>...</td>\n",
       "      <td>NaN</td>\n",
       "      <td>NaN</td>\n",
       "      <td>2022-12-20</td>\n",
       "      <td>-0.279167</td>\n",
       "      <td>0.990542</td>\n",
       "      <td>32.898193</td>\n",
       "      <td>0</td>\n",
       "      <td>0</td>\n",
       "      <td>0</td>\n",
       "      <td>3096</td>\n",
       "    </tr>\n",
       "    <tr>\n",
       "      <th>4</th>\n",
       "      <td>a624fb9a</td>\n",
       "      <td>SE-064c0cec-1189</td>\n",
       "      <td>5189</td>\n",
       "      <td>2022-01-02</td>\n",
       "      <td>22:44:00</td>\n",
       "      <td>7</td>\n",
       "      <td>192</td>\n",
       "      <td>11.53</td>\n",
       "      <td>2022-01-02 22:44:00</td>\n",
       "      <td>2022-1</td>\n",
       "      <td>...</td>\n",
       "      <td>NaN</td>\n",
       "      <td>NaN</td>\n",
       "      <td>2022-12-20</td>\n",
       "      <td>-0.279167</td>\n",
       "      <td>0.990542</td>\n",
       "      <td>32.898193</td>\n",
       "      <td>0</td>\n",
       "      <td>0</td>\n",
       "      <td>0</td>\n",
       "      <td>3096</td>\n",
       "    </tr>\n",
       "  </tbody>\n",
       "</table>\n",
       "<p>5 rows × 21 columns</p>\n",
       "</div>"
      ],
      "text/plain": [
       "  FarmName_Pseudo         SE_Number  AnimalNumber  StartDate StartTime  \\\n",
       "0        a624fb9a  SE-064c0cec-1189          5189 2022-01-01  06:25:00   \n",
       "1        a624fb9a  SE-064c0cec-1189          5189 2022-01-01  16:41:00   \n",
       "2        a624fb9a  SE-064c0cec-1189          5189 2022-01-02  15:29:00   \n",
       "3        a624fb9a  SE-064c0cec-1189          5189 2022-01-02  03:31:00   \n",
       "4        a624fb9a  SE-064c0cec-1189          5189 2022-01-02  22:44:00   \n",
       "\n",
       "   LactationNumber  DaysInMilk  TotalYield            DateTime YearSeason  \\\n",
       "0                7         191       13.90 2022-01-01 06:25:00     2022-1   \n",
       "1                7         191       16.87 2022-01-01 16:41:00     2022-1   \n",
       "2                7         192       20.41 2022-01-02 15:29:00     2022-1   \n",
       "3                7         192       16.28 2022-01-02 03:31:00     2022-1   \n",
       "4                7         192       11.53 2022-01-02 22:44:00     2022-1   \n",
       "\n",
       "   ... Mother Father CullDecisionDate Temperature  RelativeHumidity  \\\n",
       "0  ...    NaN    NaN       2022-12-20   -3.025000          0.930917   \n",
       "1  ...    NaN    NaN       2022-12-20   -3.025000          0.930917   \n",
       "2  ...    NaN    NaN       2022-12-20   -0.279167          0.990542   \n",
       "3  ...    NaN    NaN       2022-12-20   -0.279167          0.990542   \n",
       "4  ...    NaN    NaN       2022-12-20   -0.279167          0.990542   \n",
       "\n",
       "     THI_adj  HW  cum_HW  Temp15Threshold   Age  \n",
       "0  28.012944   0       0                0  3095  \n",
       "1  28.012944   0       0                0  3095  \n",
       "2  32.898193   0       0                0  3096  \n",
       "3  32.898193   0       0                0  3096  \n",
       "4  32.898193   0       0                0  3096  \n",
       "\n",
       "[5 rows x 21 columns]"
      ]
     },
     "execution_count": 25,
     "metadata": {},
     "output_type": "execute_result"
    }
   ],
   "source": [
    "dtype_dict = {\n",
    "    'FarmName_Pseudo': 'str',\n",
    "    'SE_Number': 'str',\n",
    "    'AnimalNumber': 'Int64',          \n",
    "    'StartDate': 'str',\n",
    "    'StartTime': 'str',\n",
    "    'DateTime': 'str',\n",
    "    'LactationNumber': 'Int64',       \n",
    "    'DaysInMilk': 'Int64', \n",
    "    'YearSeason': 'str',           \n",
    "    'TotalYield': 'float',\n",
    "    'DateTime': 'str',\n",
    "    'BreedName': 'str',\n",
    "    'Age': 'Int64',\n",
    "    'Mother': 'str',\n",
    "    'Father': 'str',\n",
    "    'CullDecisionDate': 'str',\n",
    "    'Temperature': 'float',\n",
    "    'RelativeHumidity': 'float',      \n",
    "    'THI_adj': 'float',\n",
    "    'HW': 'Int64',                    \n",
    "    'cum_HW': 'Int64',                \n",
    "    'Temp15Threshold': 'Int64'        \n",
    "}\n",
    "\n",
    "\n",
    "# Load the CSV with specified dtypes\n",
    "data = pd.read_csv('../Data/MergedData/CleanedYieldData.csv', dtype=dtype_dict)\n",
    "\n",
    "# Convert date and time columns back to datetime and time objects\n",
    "data['DateTime'] = pd.to_datetime(data['DateTime'], errors='coerce')\n",
    "data['StartTime'] = pd.to_datetime(data['StartTime'], format='%H:%M:%S', errors='coerce').dt.time\n",
    "data['StartDate'] = pd.to_datetime(data['StartDate'], errors='coerce')\n",
    "data['CullDecisionDate'] = pd.to_datetime(data['CullDecisionDate'], errors='coerce')\n",
    "data['DateTime'] = pd.to_datetime(data['DateTime'], errors='coerce')\n",
    "data.head()"
   ]
  },
  {
   "cell_type": "code",
   "execution_count": 26,
   "metadata": {},
   "outputs": [
    {
     "data": {
      "text/html": [
       "<div>\n",
       "<style scoped>\n",
       "    .dataframe tbody tr th:only-of-type {\n",
       "        vertical-align: middle;\n",
       "    }\n",
       "\n",
       "    .dataframe tbody tr th {\n",
       "        vertical-align: top;\n",
       "    }\n",
       "\n",
       "    .dataframe thead th {\n",
       "        text-align: right;\n",
       "    }\n",
       "</style>\n",
       "<table border=\"1\" class=\"dataframe\">\n",
       "  <thead>\n",
       "    <tr style=\"text-align: right;\">\n",
       "      <th></th>\n",
       "      <th>SE_Number</th>\n",
       "      <th>FarmName_Pseudo</th>\n",
       "      <th>Date</th>\n",
       "      <th>DailyYield</th>\n",
       "      <th>PreviousDailyYield</th>\n",
       "      <th>DailyYieldChange</th>\n",
       "      <th>HW</th>\n",
       "      <th>MeanTemperature</th>\n",
       "      <th>MeanTHI_adj</th>\n",
       "      <th>DaysInMilk</th>\n",
       "      <th>YearSeason</th>\n",
       "      <th>cum_HW</th>\n",
       "      <th>Temp15Threshold</th>\n",
       "      <th>Age</th>\n",
       "      <th>BreedName</th>\n",
       "      <th>LactationNumber</th>\n",
       "    </tr>\n",
       "  </thead>\n",
       "  <tbody>\n",
       "    <tr>\n",
       "      <th>0</th>\n",
       "      <td>SE-064c0cec-1189</td>\n",
       "      <td>a624fb9a</td>\n",
       "      <td>2022-01-01</td>\n",
       "      <td>30.77</td>\n",
       "      <td>30.77</td>\n",
       "      <td>0.00</td>\n",
       "      <td>0</td>\n",
       "      <td>-3.025000</td>\n",
       "      <td>28.012944</td>\n",
       "      <td>191</td>\n",
       "      <td>2022-1</td>\n",
       "      <td>0</td>\n",
       "      <td>0</td>\n",
       "      <td>3095</td>\n",
       "      <td>02 SLB</td>\n",
       "      <td>7</td>\n",
       "    </tr>\n",
       "    <tr>\n",
       "      <th>1</th>\n",
       "      <td>SE-064c0cec-1189</td>\n",
       "      <td>a624fb9a</td>\n",
       "      <td>2022-01-02</td>\n",
       "      <td>48.22</td>\n",
       "      <td>30.77</td>\n",
       "      <td>17.45</td>\n",
       "      <td>0</td>\n",
       "      <td>-0.279167</td>\n",
       "      <td>32.898193</td>\n",
       "      <td>192</td>\n",
       "      <td>2022-1</td>\n",
       "      <td>0</td>\n",
       "      <td>0</td>\n",
       "      <td>3096</td>\n",
       "      <td>02 SLB</td>\n",
       "      <td>7</td>\n",
       "    </tr>\n",
       "    <tr>\n",
       "      <th>2</th>\n",
       "      <td>SE-064c0cec-1189</td>\n",
       "      <td>a624fb9a</td>\n",
       "      <td>2022-01-03</td>\n",
       "      <td>30.53</td>\n",
       "      <td>48.22</td>\n",
       "      <td>-17.69</td>\n",
       "      <td>0</td>\n",
       "      <td>2.033333</td>\n",
       "      <td>36.760487</td>\n",
       "      <td>193</td>\n",
       "      <td>2022-1</td>\n",
       "      <td>0</td>\n",
       "      <td>0</td>\n",
       "      <td>3097</td>\n",
       "      <td>02 SLB</td>\n",
       "      <td>7</td>\n",
       "    </tr>\n",
       "    <tr>\n",
       "      <th>3</th>\n",
       "      <td>SE-064c0cec-1189</td>\n",
       "      <td>a624fb9a</td>\n",
       "      <td>2022-01-04</td>\n",
       "      <td>42.26</td>\n",
       "      <td>30.53</td>\n",
       "      <td>11.73</td>\n",
       "      <td>0</td>\n",
       "      <td>0.066667</td>\n",
       "      <td>31.939524</td>\n",
       "      <td>194</td>\n",
       "      <td>2022-1</td>\n",
       "      <td>0</td>\n",
       "      <td>0</td>\n",
       "      <td>3098</td>\n",
       "      <td>02 SLB</td>\n",
       "      <td>7</td>\n",
       "    </tr>\n",
       "    <tr>\n",
       "      <th>4</th>\n",
       "      <td>SE-064c0cec-1189</td>\n",
       "      <td>a624fb9a</td>\n",
       "      <td>2022-01-05</td>\n",
       "      <td>38.49</td>\n",
       "      <td>42.26</td>\n",
       "      <td>-3.77</td>\n",
       "      <td>0</td>\n",
       "      <td>-3.700000</td>\n",
       "      <td>26.498206</td>\n",
       "      <td>195</td>\n",
       "      <td>2022-1</td>\n",
       "      <td>0</td>\n",
       "      <td>0</td>\n",
       "      <td>3099</td>\n",
       "      <td>02 SLB</td>\n",
       "      <td>7</td>\n",
       "    </tr>\n",
       "  </tbody>\n",
       "</table>\n",
       "</div>"
      ],
      "text/plain": [
       "          SE_Number FarmName_Pseudo       Date  DailyYield  \\\n",
       "0  SE-064c0cec-1189        a624fb9a 2022-01-01       30.77   \n",
       "1  SE-064c0cec-1189        a624fb9a 2022-01-02       48.22   \n",
       "2  SE-064c0cec-1189        a624fb9a 2022-01-03       30.53   \n",
       "3  SE-064c0cec-1189        a624fb9a 2022-01-04       42.26   \n",
       "4  SE-064c0cec-1189        a624fb9a 2022-01-05       38.49   \n",
       "\n",
       "   PreviousDailyYield  DailyYieldChange  HW  MeanTemperature  MeanTHI_adj  \\\n",
       "0               30.77              0.00   0        -3.025000    28.012944   \n",
       "1               30.77             17.45   0        -0.279167    32.898193   \n",
       "2               48.22            -17.69   0         2.033333    36.760487   \n",
       "3               30.53             11.73   0         0.066667    31.939524   \n",
       "4               42.26             -3.77   0        -3.700000    26.498206   \n",
       "\n",
       "   DaysInMilk YearSeason  cum_HW  Temp15Threshold   Age BreedName  \\\n",
       "0         191     2022-1       0                0  3095    02 SLB   \n",
       "1         192     2022-1       0                0  3096    02 SLB   \n",
       "2         193     2022-1       0                0  3097    02 SLB   \n",
       "3         194     2022-1       0                0  3098    02 SLB   \n",
       "4         195     2022-1       0                0  3099    02 SLB   \n",
       "\n",
       "   LactationNumber  \n",
       "0                7  \n",
       "1                7  \n",
       "2                7  \n",
       "3                7  \n",
       "4                7  "
      ]
     },
     "execution_count": 26,
     "metadata": {},
     "output_type": "execute_result"
    }
   ],
   "source": [
    "# Calculate the DailyYield for each cow each day\n",
    "data['DailyYield'] = data.groupby(['SE_Number', 'StartDate'])['TotalYield'].transform('sum')\n",
    "\n",
    "# Sort the data by AnimalNumber and StartDate\n",
    "data.sort_values(['AnimalNumber', 'StartDate'], inplace=True)\n",
    "\n",
    "# Calculate the previous day's total yield for each cow\n",
    "data['PreviousDailyYield'] = data.groupby('AnimalNumber')['DailyYield'].shift(1)\n",
    "\n",
    "# Calculate the daily yield change for each cow\n",
    "data['DailyYieldChange'] = data['DailyYield'] - data['PreviousDailyYield']\n",
    "\n",
    "# Group and aggregate data\n",
    "data = data.groupby(['SE_Number', 'FarmName_Pseudo', 'StartDate']).agg({\n",
    "    'DailyYield': 'first',\n",
    "    'PreviousDailyYield': 'first',\n",
    "    'DailyYieldChange': 'first',\n",
    "    'HW': 'max',\n",
    "    'Temperature': 'mean',\n",
    "    'THI_adj': 'mean',\n",
    "    'DaysInMilk': 'first',\n",
    "    'YearSeason': 'first',\n",
    "    'cum_HW': 'max',\n",
    "    'Temp15Threshold': 'max',\n",
    "    'Age': 'first',\n",
    "    'BreedName': 'first',\n",
    "    'LactationNumber': 'first'\n",
    "}).reset_index()\n",
    "\n",
    "# Renaming and formatting\n",
    "data.rename(columns={\n",
    "    'Temperature': 'MeanTemperature',\n",
    "    'THI_adj': 'MeanTHI_adj',\n",
    "    'StartDate': 'Date'\n",
    "}, inplace=True)\n",
    "data['Date'] = pd.to_datetime(data['Date'])\n",
    "\n",
    "# Display the first few rows of the transformed data\n",
    "data.head()"
   ]
  },
  {
   "cell_type": "code",
   "execution_count": 27,
   "metadata": {},
   "outputs": [
    {
     "data": {
      "text/html": [
       "<div>\n",
       "<style scoped>\n",
       "    .dataframe tbody tr th:only-of-type {\n",
       "        vertical-align: middle;\n",
       "    }\n",
       "\n",
       "    .dataframe tbody tr th {\n",
       "        vertical-align: top;\n",
       "    }\n",
       "\n",
       "    .dataframe thead th {\n",
       "        text-align: right;\n",
       "    }\n",
       "</style>\n",
       "<table border=\"1\" class=\"dataframe\">\n",
       "  <thead>\n",
       "    <tr style=\"text-align: right;\">\n",
       "      <th></th>\n",
       "      <th>SE_Number</th>\n",
       "      <th>FarmName_Pseudo</th>\n",
       "      <th>Date</th>\n",
       "      <th>DailyYield</th>\n",
       "      <th>PreviousDailyYield</th>\n",
       "      <th>DailyYieldChange</th>\n",
       "      <th>HW</th>\n",
       "      <th>MeanTemperature</th>\n",
       "      <th>MeanTHI_adj</th>\n",
       "      <th>DaysInMilk</th>\n",
       "      <th>YearSeason</th>\n",
       "      <th>cum_HW</th>\n",
       "      <th>Temp15Threshold</th>\n",
       "      <th>Age</th>\n",
       "      <th>BreedName</th>\n",
       "      <th>LactationNumber</th>\n",
       "      <th>HeatLoad</th>\n",
       "      <th>CumulativeHeatLoad</th>\n",
       "    </tr>\n",
       "  </thead>\n",
       "  <tbody>\n",
       "    <tr>\n",
       "      <th>0</th>\n",
       "      <td>SE-064c0cec-1189</td>\n",
       "      <td>a624fb9a</td>\n",
       "      <td>2022-01-01</td>\n",
       "      <td>30.77</td>\n",
       "      <td>30.77</td>\n",
       "      <td>0.00</td>\n",
       "      <td>0</td>\n",
       "      <td>-3.025000</td>\n",
       "      <td>28.012944</td>\n",
       "      <td>191</td>\n",
       "      <td>2022-1</td>\n",
       "      <td>0</td>\n",
       "      <td>0</td>\n",
       "      <td>3095</td>\n",
       "      <td>02 SLB</td>\n",
       "      <td>7</td>\n",
       "      <td>-32.987056</td>\n",
       "      <td>0</td>\n",
       "    </tr>\n",
       "    <tr>\n",
       "      <th>1</th>\n",
       "      <td>SE-064c0cec-1189</td>\n",
       "      <td>a624fb9a</td>\n",
       "      <td>2022-01-02</td>\n",
       "      <td>48.22</td>\n",
       "      <td>30.77</td>\n",
       "      <td>17.45</td>\n",
       "      <td>0</td>\n",
       "      <td>-0.279167</td>\n",
       "      <td>32.898193</td>\n",
       "      <td>192</td>\n",
       "      <td>2022-1</td>\n",
       "      <td>0</td>\n",
       "      <td>0</td>\n",
       "      <td>3096</td>\n",
       "      <td>02 SLB</td>\n",
       "      <td>7</td>\n",
       "      <td>-28.101807</td>\n",
       "      <td>0</td>\n",
       "    </tr>\n",
       "    <tr>\n",
       "      <th>2</th>\n",
       "      <td>SE-064c0cec-1189</td>\n",
       "      <td>a624fb9a</td>\n",
       "      <td>2022-01-03</td>\n",
       "      <td>30.53</td>\n",
       "      <td>48.22</td>\n",
       "      <td>-17.69</td>\n",
       "      <td>0</td>\n",
       "      <td>2.033333</td>\n",
       "      <td>36.760487</td>\n",
       "      <td>193</td>\n",
       "      <td>2022-1</td>\n",
       "      <td>0</td>\n",
       "      <td>0</td>\n",
       "      <td>3097</td>\n",
       "      <td>02 SLB</td>\n",
       "      <td>7</td>\n",
       "      <td>-24.239513</td>\n",
       "      <td>0</td>\n",
       "    </tr>\n",
       "    <tr>\n",
       "      <th>3</th>\n",
       "      <td>SE-064c0cec-1189</td>\n",
       "      <td>a624fb9a</td>\n",
       "      <td>2022-01-04</td>\n",
       "      <td>42.26</td>\n",
       "      <td>30.53</td>\n",
       "      <td>11.73</td>\n",
       "      <td>0</td>\n",
       "      <td>0.066667</td>\n",
       "      <td>31.939524</td>\n",
       "      <td>194</td>\n",
       "      <td>2022-1</td>\n",
       "      <td>0</td>\n",
       "      <td>0</td>\n",
       "      <td>3098</td>\n",
       "      <td>02 SLB</td>\n",
       "      <td>7</td>\n",
       "      <td>-29.060476</td>\n",
       "      <td>0</td>\n",
       "    </tr>\n",
       "    <tr>\n",
       "      <th>4</th>\n",
       "      <td>SE-064c0cec-1189</td>\n",
       "      <td>a624fb9a</td>\n",
       "      <td>2022-01-05</td>\n",
       "      <td>38.49</td>\n",
       "      <td>42.26</td>\n",
       "      <td>-3.77</td>\n",
       "      <td>0</td>\n",
       "      <td>-3.700000</td>\n",
       "      <td>26.498206</td>\n",
       "      <td>195</td>\n",
       "      <td>2022-1</td>\n",
       "      <td>0</td>\n",
       "      <td>0</td>\n",
       "      <td>3099</td>\n",
       "      <td>02 SLB</td>\n",
       "      <td>7</td>\n",
       "      <td>-34.501794</td>\n",
       "      <td>0</td>\n",
       "    </tr>\n",
       "    <tr>\n",
       "      <th>...</th>\n",
       "      <td>...</td>\n",
       "      <td>...</td>\n",
       "      <td>...</td>\n",
       "      <td>...</td>\n",
       "      <td>...</td>\n",
       "      <td>...</td>\n",
       "      <td>...</td>\n",
       "      <td>...</td>\n",
       "      <td>...</td>\n",
       "      <td>...</td>\n",
       "      <td>...</td>\n",
       "      <td>...</td>\n",
       "      <td>...</td>\n",
       "      <td>...</td>\n",
       "      <td>...</td>\n",
       "      <td>...</td>\n",
       "      <td>...</td>\n",
       "      <td>...</td>\n",
       "    </tr>\n",
       "    <tr>\n",
       "      <th>487083</th>\n",
       "      <td>SE-fcdf259d-0044-0</td>\n",
       "      <td>f454e660</td>\n",
       "      <td>2023-06-03</td>\n",
       "      <td>12.67</td>\n",
       "      <td>15.75</td>\n",
       "      <td>-3.08</td>\n",
       "      <td>0</td>\n",
       "      <td>12.666667</td>\n",
       "      <td>53.132530</td>\n",
       "      <td>347</td>\n",
       "      <td>2023-3</td>\n",
       "      <td>0</td>\n",
       "      <td>1</td>\n",
       "      <td>4150</td>\n",
       "      <td>41 Fjällko</td>\n",
       "      <td>10</td>\n",
       "      <td>-7.867470</td>\n",
       "      <td>0</td>\n",
       "    </tr>\n",
       "    <tr>\n",
       "      <th>487084</th>\n",
       "      <td>SE-fcdf259d-0044-0</td>\n",
       "      <td>f454e660</td>\n",
       "      <td>2023-06-04</td>\n",
       "      <td>22.31</td>\n",
       "      <td>12.67</td>\n",
       "      <td>9.64</td>\n",
       "      <td>0</td>\n",
       "      <td>13.079167</td>\n",
       "      <td>56.726870</td>\n",
       "      <td>348</td>\n",
       "      <td>2023-3</td>\n",
       "      <td>0</td>\n",
       "      <td>1</td>\n",
       "      <td>4151</td>\n",
       "      <td>41 Fjällko</td>\n",
       "      <td>10</td>\n",
       "      <td>-4.273130</td>\n",
       "      <td>0</td>\n",
       "    </tr>\n",
       "    <tr>\n",
       "      <th>487085</th>\n",
       "      <td>SE-fcdf259d-0044-0</td>\n",
       "      <td>f454e660</td>\n",
       "      <td>2023-06-05</td>\n",
       "      <td>12.84</td>\n",
       "      <td>22.31</td>\n",
       "      <td>-9.47</td>\n",
       "      <td>0</td>\n",
       "      <td>14.237500</td>\n",
       "      <td>58.482418</td>\n",
       "      <td>349</td>\n",
       "      <td>2023-3</td>\n",
       "      <td>0</td>\n",
       "      <td>1</td>\n",
       "      <td>4152</td>\n",
       "      <td>41 Fjällko</td>\n",
       "      <td>10</td>\n",
       "      <td>-2.517582</td>\n",
       "      <td>0</td>\n",
       "    </tr>\n",
       "    <tr>\n",
       "      <th>487086</th>\n",
       "      <td>SE-fcdf259d-0044-0</td>\n",
       "      <td>f454e660</td>\n",
       "      <td>2023-06-06</td>\n",
       "      <td>9.47</td>\n",
       "      <td>12.84</td>\n",
       "      <td>-3.37</td>\n",
       "      <td>0</td>\n",
       "      <td>15.345833</td>\n",
       "      <td>60.546358</td>\n",
       "      <td>350</td>\n",
       "      <td>2023-3</td>\n",
       "      <td>0</td>\n",
       "      <td>1</td>\n",
       "      <td>4153</td>\n",
       "      <td>41 Fjällko</td>\n",
       "      <td>10</td>\n",
       "      <td>-0.453642</td>\n",
       "      <td>0</td>\n",
       "    </tr>\n",
       "    <tr>\n",
       "      <th>487087</th>\n",
       "      <td>SE-fcdf259d-0044-0</td>\n",
       "      <td>f454e660</td>\n",
       "      <td>2023-06-07</td>\n",
       "      <td>8.97</td>\n",
       "      <td>9.47</td>\n",
       "      <td>-0.50</td>\n",
       "      <td>0</td>\n",
       "      <td>15.645833</td>\n",
       "      <td>61.559237</td>\n",
       "      <td>351</td>\n",
       "      <td>2023-3</td>\n",
       "      <td>0</td>\n",
       "      <td>1</td>\n",
       "      <td>4154</td>\n",
       "      <td>41 Fjällko</td>\n",
       "      <td>10</td>\n",
       "      <td>0.559237</td>\n",
       "      <td>0</td>\n",
       "    </tr>\n",
       "  </tbody>\n",
       "</table>\n",
       "<p>487088 rows × 18 columns</p>\n",
       "</div>"
      ],
      "text/plain": [
       "                 SE_Number FarmName_Pseudo       Date  DailyYield  \\\n",
       "0         SE-064c0cec-1189        a624fb9a 2022-01-01       30.77   \n",
       "1         SE-064c0cec-1189        a624fb9a 2022-01-02       48.22   \n",
       "2         SE-064c0cec-1189        a624fb9a 2022-01-03       30.53   \n",
       "3         SE-064c0cec-1189        a624fb9a 2022-01-04       42.26   \n",
       "4         SE-064c0cec-1189        a624fb9a 2022-01-05       38.49   \n",
       "...                    ...             ...        ...         ...   \n",
       "487083  SE-fcdf259d-0044-0        f454e660 2023-06-03       12.67   \n",
       "487084  SE-fcdf259d-0044-0        f454e660 2023-06-04       22.31   \n",
       "487085  SE-fcdf259d-0044-0        f454e660 2023-06-05       12.84   \n",
       "487086  SE-fcdf259d-0044-0        f454e660 2023-06-06        9.47   \n",
       "487087  SE-fcdf259d-0044-0        f454e660 2023-06-07        8.97   \n",
       "\n",
       "        PreviousDailyYield  DailyYieldChange  HW  MeanTemperature  \\\n",
       "0                    30.77              0.00   0        -3.025000   \n",
       "1                    30.77             17.45   0        -0.279167   \n",
       "2                    48.22            -17.69   0         2.033333   \n",
       "3                    30.53             11.73   0         0.066667   \n",
       "4                    42.26             -3.77   0        -3.700000   \n",
       "...                    ...               ...  ..              ...   \n",
       "487083               15.75             -3.08   0        12.666667   \n",
       "487084               12.67              9.64   0        13.079167   \n",
       "487085               22.31             -9.47   0        14.237500   \n",
       "487086               12.84             -3.37   0        15.345833   \n",
       "487087                9.47             -0.50   0        15.645833   \n",
       "\n",
       "        MeanTHI_adj  DaysInMilk YearSeason  cum_HW  Temp15Threshold   Age  \\\n",
       "0         28.012944         191     2022-1       0                0  3095   \n",
       "1         32.898193         192     2022-1       0                0  3096   \n",
       "2         36.760487         193     2022-1       0                0  3097   \n",
       "3         31.939524         194     2022-1       0                0  3098   \n",
       "4         26.498206         195     2022-1       0                0  3099   \n",
       "...             ...         ...        ...     ...              ...   ...   \n",
       "487083    53.132530         347     2023-3       0                1  4150   \n",
       "487084    56.726870         348     2023-3       0                1  4151   \n",
       "487085    58.482418         349     2023-3       0                1  4152   \n",
       "487086    60.546358         350     2023-3       0                1  4153   \n",
       "487087    61.559237         351     2023-3       0                1  4154   \n",
       "\n",
       "         BreedName  LactationNumber   HeatLoad  CumulativeHeatLoad  \n",
       "0           02 SLB                7 -32.987056                   0  \n",
       "1           02 SLB                7 -28.101807                   0  \n",
       "2           02 SLB                7 -24.239513                   0  \n",
       "3           02 SLB                7 -29.060476                   0  \n",
       "4           02 SLB                7 -34.501794                   0  \n",
       "...            ...              ...        ...                 ...  \n",
       "487083  41 Fjällko               10  -7.867470                   0  \n",
       "487084  41 Fjällko               10  -4.273130                   0  \n",
       "487085  41 Fjällko               10  -2.517582                   0  \n",
       "487086  41 Fjällko               10  -0.453642                   0  \n",
       "487087  41 Fjällko               10   0.559237                   0  \n",
       "\n",
       "[487088 rows x 18 columns]"
      ]
     },
     "execution_count": 27,
     "metadata": {},
     "output_type": "execute_result"
    }
   ],
   "source": [
    "# Define the THI threshold\n",
    "THI_THRESHOLD = 61\n",
    "\n",
    "# Calculate the daily heat load based on the THI threshold\n",
    "data['HeatLoad'] = data['MeanTHI_adj'].apply(lambda x: x - THI_THRESHOLD if x > THI_THRESHOLD else -(THI_THRESHOLD - x))\n",
    "\n",
    "# Calculate the cumulative heat load, ensuring it never goes negative\n",
    "data['CumulativeHeatLoad'] = data['HeatLoad'].cumsum()\n",
    "data['CumulativeHeatLoad'] = data['CumulativeHeatLoad'].apply(lambda x: max(x, 0))\n",
    "\n",
    "data.head(-5)"
   ]
  },
  {
   "cell_type": "markdown",
   "metadata": {},
   "source": [
    "## Wilmink Lactation Curve\n",
    "$$\n",
    "Y(t) = a + bt + c \\exp(-dt)\n",
    "$$\n",
    "- \\(Y(t)\\): Milk yield at time \\(t\\) post-calving, so t = DaysInMilk\n",
    "- \\(a\\): Intercept, representing baseline milk yield\n",
    "- \\(b\\): Linear increase rate of milk yield over time\n",
    "- \\(c\\): Initial exponential increase in milk yield\n",
    "- \\(d\\): Rate at which the exponential increase declines over time\n",
    "\n",
    "The Wilmink model captures the lactation curve by considering both linear and exponential components, providing a flexible representation of milk production dynamics over the lactation period.\n"
   ]
  },
  {
   "cell_type": "markdown",
   "metadata": {},
   "source": [
    "Normalize the dataset using Wood's lactattion curve and set thresholds for some outliers which have unreasonable values."
   ]
  },
  {
   "cell_type": "code",
   "execution_count": 28,
   "metadata": {},
   "outputs": [
    {
     "name": "stderr",
     "output_type": "stream",
     "text": [
      "  4%|▍         | 102/2315 [00:06<01:52, 19.74 Segments/s]"
     ]
    },
    {
     "name": "stdout",
     "output_type": "stream",
     "text": [
      "Insufficient data points for cow SE-5c06d92d-2621, lactation 3, skipping.\n"
     ]
    },
    {
     "name": "stderr",
     "output_type": "stream",
     "text": [
      "  5%|▍         | 114/2315 [00:08<03:51,  9.52 Segments/s]"
     ]
    },
    {
     "name": "stdout",
     "output_type": "stream",
     "text": [
      "Insufficient data points for cow SE-5c06d92d-2639, lactation 3, skipping.\n"
     ]
    },
    {
     "name": "stderr",
     "output_type": "stream",
     "text": [
      " 10%|▉         | 230/2315 [00:19<03:31,  9.88 Segments/s]"
     ]
    },
    {
     "name": "stdout",
     "output_type": "stream",
     "text": [
      "Insufficient data points for cow SE-5c06d92d-2804, lactation 5, skipping.\n",
      "Insufficient data points for cow SE-5c06d92d-2815, lactation 2, skipping.\n"
     ]
    },
    {
     "name": "stderr",
     "output_type": "stream",
     "text": [
      " 11%|█         | 247/2315 [00:21<04:20,  7.94 Segments/s]"
     ]
    },
    {
     "name": "stdout",
     "output_type": "stream",
     "text": [
      "Insufficient data points for cow SE-5c06d92d-2824, lactation 3, skipping.\n"
     ]
    },
    {
     "name": "stderr",
     "output_type": "stream",
     "text": [
      " 12%|█▏        | 284/2315 [00:24<01:51, 18.18 Segments/s]"
     ]
    },
    {
     "name": "stdout",
     "output_type": "stream",
     "text": [
      "Insufficient data points for cow SE-5c06d92d-2845, lactation 2, skipping.\n"
     ]
    },
    {
     "name": "stderr",
     "output_type": "stream",
     "text": [
      " 13%|█▎        | 290/2315 [00:24<02:29, 13.57 Segments/s]"
     ]
    },
    {
     "name": "stdout",
     "output_type": "stream",
     "text": [
      "Insufficient data points for cow SE-5c06d92d-2870, lactation 2, skipping.\n"
     ]
    },
    {
     "name": "stderr",
     "output_type": "stream",
     "text": [
      " 15%|█▌        | 352/2315 [00:25<00:36, 53.70 Segments/s]"
     ]
    },
    {
     "name": "stdout",
     "output_type": "stream",
     "text": [
      "Insufficient data points for cow SE-5c06d92d-2911, lactation 2, skipping.\n",
      "Insufficient data points for cow SE-5c06d92d-2914, lactation 2, skipping.\n",
      "Insufficient data points for cow SE-5c06d92d-2919, lactation 2, skipping.\n"
     ]
    },
    {
     "name": "stderr",
     "output_type": "stream",
     "text": [
      " 19%|█▊        | 433/2315 [00:35<04:21,  7.19 Segments/s]"
     ]
    },
    {
     "name": "stdout",
     "output_type": "stream",
     "text": [
      "Insufficient data points for cow SE-5c06d92d-3039, lactation 4, skipping.\n"
     ]
    },
    {
     "name": "stderr",
     "output_type": "stream",
     "text": [
      " 19%|█▉        | 450/2315 [00:37<04:19,  7.19 Segments/s]"
     ]
    },
    {
     "name": "stdout",
     "output_type": "stream",
     "text": [
      "Insufficient data points for cow SE-5c06d92d-3045, lactation 1, skipping.\n",
      "Insufficient data points for cow SE-5c06d92d-3047, lactation 1, skipping.\n",
      "Insufficient data points for cow SE-5c06d92d-3049, lactation 1, skipping.\n"
     ]
    },
    {
     "name": "stderr",
     "output_type": "stream",
     "text": [
      " 22%|██▏       | 516/2315 [00:38<00:42, 42.63 Segments/s]"
     ]
    },
    {
     "name": "stdout",
     "output_type": "stream",
     "text": [
      "Insufficient data points for cow SE-5c06d92d-3063, lactation 1, skipping.\n",
      "Insufficient data points for cow SE-5c06d92d-3063, lactation 3, skipping.\n",
      "Insufficient data points for cow SE-5c06d92d-3065, lactation 1, skipping.\n",
      "Insufficient data points for cow SE-5c06d92d-3068, lactation 1, skipping.\n"
     ]
    },
    {
     "name": "stderr",
     "output_type": "stream",
     "text": [
      " 24%|██▍       | 551/2315 [00:38<00:32, 53.88 Segments/s]"
     ]
    },
    {
     "name": "stdout",
     "output_type": "stream",
     "text": [
      "Insufficient data points for cow SE-5c06d92d-3116, lactation 3, skipping.\n"
     ]
    },
    {
     "name": "stderr",
     "output_type": "stream",
     "text": [
      " 27%|██▋       | 630/2315 [00:45<02:30, 11.23 Segments/s]"
     ]
    },
    {
     "name": "stdout",
     "output_type": "stream",
     "text": [
      "Insufficient data points for cow SE-5c06d92d-3173, lactation 3, skipping.\n"
     ]
    },
    {
     "name": "stderr",
     "output_type": "stream",
     "text": [
      " 32%|███▏      | 737/2315 [00:49<00:33, 46.80 Segments/s]"
     ]
    },
    {
     "name": "stdout",
     "output_type": "stream",
     "text": [
      "Insufficient data points for cow SE-5c06d92d-3267, lactation 2, skipping.\n"
     ]
    },
    {
     "name": "stderr",
     "output_type": "stream",
     "text": [
      " 35%|███▌      | 819/2315 [00:52<00:40, 36.86 Segments/s]"
     ]
    },
    {
     "name": "stdout",
     "output_type": "stream",
     "text": [
      "Insufficient data points for cow SE-5c06d92d-3357, lactation 2, skipping.\n",
      "Insufficient data points for cow SE-5c06d92d-3365, lactation 2, skipping.\n",
      "Insufficient data points for cow SE-5c06d92d-3370, lactation 2, skipping.\n",
      "Insufficient data points for cow SE-5c06d92d-3371, lactation 2, skipping.\n"
     ]
    },
    {
     "name": "stderr",
     "output_type": "stream",
     "text": [
      " 39%|███▉      | 905/2315 [00:54<00:42, 33.30 Segments/s]"
     ]
    },
    {
     "name": "stdout",
     "output_type": "stream",
     "text": [
      "Insufficient data points for cow SE-5c06d92d-3524, lactation 1, skipping.\n"
     ]
    },
    {
     "name": "stderr",
     "output_type": "stream",
     "text": [
      " 40%|███▉      | 917/2315 [00:54<00:49, 28.30 Segments/s]"
     ]
    },
    {
     "name": "stdout",
     "output_type": "stream",
     "text": [
      "Insufficient data points for cow SE-5c06d92d-3530, lactation 1, skipping.\n",
      "Insufficient data points for cow SE-5c06d92d-3536, lactation 1, skipping.\n",
      "Insufficient data points for cow SE-5c06d92d-3537, lactation 1, skipping.\n"
     ]
    },
    {
     "name": "stderr",
     "output_type": "stream",
     "text": [
      " 40%|████      | 937/2315 [00:57<01:42, 13.38 Segments/s]"
     ]
    },
    {
     "name": "stdout",
     "output_type": "stream",
     "text": [
      "Insufficient data points for cow SE-752efd72-0051, lactation 3, skipping.\n"
     ]
    },
    {
     "name": "stderr",
     "output_type": "stream",
     "text": [
      " 43%|████▎     | 1004/2315 [01:04<02:06, 10.38 Segments/s]"
     ]
    },
    {
     "name": "stdout",
     "output_type": "stream",
     "text": [
      "Insufficient data points for cow SE-752efd72-0117, lactation 2, skipping.\n"
     ]
    },
    {
     "name": "stderr",
     "output_type": "stream",
     "text": [
      " 44%|████▍     | 1019/2315 [01:04<01:28, 14.66 Segments/s]"
     ]
    },
    {
     "name": "stdout",
     "output_type": "stream",
     "text": [
      "Insufficient data points for cow SE-752efd72-0129, lactation 2, skipping.\n"
     ]
    },
    {
     "name": "stderr",
     "output_type": "stream",
     "text": [
      " 45%|████▌     | 1046/2315 [01:05<00:47, 26.76 Segments/s]"
     ]
    },
    {
     "name": "stdout",
     "output_type": "stream",
     "text": [
      "Insufficient data points for cow SE-752efd72-0136, lactation 2, skipping.\n",
      "Insufficient data points for cow SE-752efd72-0143, lactation 2, skipping.\n"
     ]
    },
    {
     "name": "stderr",
     "output_type": "stream",
     "text": [
      " 46%|████▌     | 1063/2315 [01:07<01:25, 14.72 Segments/s]"
     ]
    },
    {
     "name": "stdout",
     "output_type": "stream",
     "text": [
      "Insufficient data points for cow SE-752efd72-0166, lactation 1, skipping.\n"
     ]
    },
    {
     "name": "stderr",
     "output_type": "stream",
     "text": [
      " 51%|█████     | 1174/2315 [01:23<01:00, 18.80 Segments/s]"
     ]
    },
    {
     "name": "stdout",
     "output_type": "stream",
     "text": [
      "Insufficient data points for cow SE-752efd72-0232, lactation 1, skipping.\n",
      "Insufficient data points for cow SE-752efd72-0234, lactation 1, skipping.\n",
      "Insufficient data points for cow SE-752efd72-0239, lactation 1, skipping.\n",
      "Insufficient data points for cow SE-752efd72-0243, lactation 1, skipping.\n"
     ]
    },
    {
     "name": "stderr",
     "output_type": "stream",
     "text": [
      " 56%|█████▌    | 1298/2315 [01:34<00:58, 17.25 Segments/s]"
     ]
    },
    {
     "name": "stdout",
     "output_type": "stream",
     "text": [
      "Insufficient data points for cow SE-752efd72-0298, lactation 1, skipping.\n"
     ]
    },
    {
     "name": "stderr",
     "output_type": "stream",
     "text": [
      " 57%|█████▋    | 1317/2315 [01:37<01:54,  8.74 Segments/s]"
     ]
    },
    {
     "name": "stdout",
     "output_type": "stream",
     "text": [
      "Insufficient data points for cow SE-752efd72-0317, lactation 1, skipping.\n"
     ]
    },
    {
     "name": "stderr",
     "output_type": "stream",
     "text": [
      " 58%|█████▊    | 1338/2315 [01:39<01:46,  9.20 Segments/s]"
     ]
    },
    {
     "name": "stdout",
     "output_type": "stream",
     "text": [
      "Insufficient data points for cow SE-752efd72-0329, lactation 1, skipping.\n"
     ]
    },
    {
     "name": "stderr",
     "output_type": "stream",
     "text": [
      " 61%|██████    | 1413/2315 [01:41<00:18, 47.79 Segments/s]"
     ]
    },
    {
     "name": "stdout",
     "output_type": "stream",
     "text": [
      "Insufficient data points for cow SE-752efd72-0369, lactation 1, skipping.\n"
     ]
    },
    {
     "name": "stderr",
     "output_type": "stream",
     "text": [
      " 64%|██████▍   | 1493/2315 [01:44<00:28, 28.59 Segments/s]"
     ]
    },
    {
     "name": "stdout",
     "output_type": "stream",
     "text": [
      "Insufficient data points for cow SE-752efd72-0416, lactation 2, skipping.\n"
     ]
    },
    {
     "name": "stderr",
     "output_type": "stream",
     "text": [
      " 65%|██████▌   | 1510/2315 [01:44<00:27, 29.22 Segments/s]"
     ]
    },
    {
     "name": "stdout",
     "output_type": "stream",
     "text": [
      "Insufficient data points for cow SE-752efd72-0439, lactation 2, skipping.\n",
      "Insufficient data points for cow SE-752efd72-0440, lactation 2, skipping.\n"
     ]
    },
    {
     "name": "stderr",
     "output_type": "stream",
     "text": [
      " 66%|██████▌   | 1528/2315 [01:46<00:41, 19.06 Segments/s]"
     ]
    },
    {
     "name": "stdout",
     "output_type": "stream",
     "text": [
      "Insufficient data points for cow SE-752efd72-0446, lactation 2, skipping.\n"
     ]
    },
    {
     "name": "stderr",
     "output_type": "stream",
     "text": [
      " 69%|██████▉   | 1597/2315 [01:48<00:15, 45.89 Segments/s]"
     ]
    },
    {
     "name": "stdout",
     "output_type": "stream",
     "text": [
      "Insufficient data points for cow SE-752efd72-0533, lactation 1, skipping.\n"
     ]
    },
    {
     "name": "stderr",
     "output_type": "stream",
     "text": [
      " 70%|██████▉   | 1609/2315 [01:48<00:19, 36.60 Segments/s]"
     ]
    },
    {
     "name": "stdout",
     "output_type": "stream",
     "text": [
      "Insufficient data points for cow SE-752efd72-0544, lactation 1, skipping.\n"
     ]
    },
    {
     "name": "stderr",
     "output_type": "stream",
     "text": [
      " 71%|███████   | 1640/2315 [01:51<00:43, 15.55 Segments/s]"
     ]
    },
    {
     "name": "stdout",
     "output_type": "stream",
     "text": [
      "Insufficient data points for cow SE-752efd72-2751, lactation 5, skipping.\n"
     ]
    },
    {
     "name": "stderr",
     "output_type": "stream",
     "text": [
      " 72%|███████▏  | 1659/2315 [01:56<01:43,  6.37 Segments/s]"
     ]
    },
    {
     "name": "stdout",
     "output_type": "stream",
     "text": [
      "Insufficient data points for cow SE-752efd72-2794, lactation 6, skipping.\n"
     ]
    },
    {
     "name": "stderr",
     "output_type": "stream",
     "text": [
      " 73%|███████▎  | 1692/2315 [01:58<00:37, 16.44 Segments/s]"
     ]
    },
    {
     "name": "stdout",
     "output_type": "stream",
     "text": [
      "Insufficient data points for cow SE-752efd72-2797, lactation 3, skipping.\n",
      "Insufficient data points for cow SE-7fd04cd3-679, lactation 4, skipping.\n",
      "Insufficient data points for cow SE-a624fb9a-1162, lactation 7, skipping.\n",
      "Insufficient data points for cow SE-a624fb9a-1200, lactation 4, skipping.\n"
     ]
    },
    {
     "name": "stderr",
     "output_type": "stream",
     "text": [
      " 74%|███████▎  | 1707/2315 [02:03<01:41,  5.99 Segments/s]"
     ]
    },
    {
     "name": "stdout",
     "output_type": "stream",
     "text": [
      "Insufficient data points for cow SE-a624fb9a-1251, lactation 3, skipping.\n"
     ]
    },
    {
     "name": "stderr",
     "output_type": "stream",
     "text": [
      " 75%|███████▌  | 1739/2315 [02:04<00:42, 13.62 Segments/s]"
     ]
    },
    {
     "name": "stdout",
     "output_type": "stream",
     "text": [
      "Insufficient data points for cow SE-a624fb9a-1267, lactation 3, skipping.\n"
     ]
    },
    {
     "name": "stderr",
     "output_type": "stream",
     "text": [
      " 76%|███████▌  | 1762/2315 [02:07<01:08,  8.04 Segments/s]"
     ]
    },
    {
     "name": "stdout",
     "output_type": "stream",
     "text": [
      "Insufficient data points for cow SE-a624fb9a-1312, lactation 2, skipping.\n"
     ]
    },
    {
     "name": "stderr",
     "output_type": "stream",
     "text": [
      " 77%|███████▋  | 1777/2315 [02:08<00:52, 10.27 Segments/s]"
     ]
    },
    {
     "name": "stdout",
     "output_type": "stream",
     "text": [
      "Insufficient data points for cow SE-a624fb9a-1330, lactation 2, skipping.\n",
      "Insufficient data points for cow SE-a624fb9a-1333, lactation 1, skipping.\n"
     ]
    },
    {
     "name": "stderr",
     "output_type": "stream",
     "text": [
      " 79%|███████▊  | 1822/2315 [02:09<00:18, 26.54 Segments/s]"
     ]
    },
    {
     "name": "stdout",
     "output_type": "stream",
     "text": [
      "Insufficient data points for cow SE-a624fb9a-1373, lactation 1, skipping.\n",
      "Insufficient data points for cow SE-a624fb9a-1374, lactation 1, skipping.\n"
     ]
    },
    {
     "name": "stderr",
     "output_type": "stream",
     "text": [
      " 86%|████████▌ | 1990/2315 [02:18<00:21, 15.18 Segments/s]"
     ]
    },
    {
     "name": "stdout",
     "output_type": "stream",
     "text": [
      "Insufficient data points for cow SE-f454e660-0420, lactation 5, skipping.\n"
     ]
    },
    {
     "name": "stderr",
     "output_type": "stream",
     "text": [
      " 86%|████████▋ | 2002/2315 [02:20<00:28, 11.02 Segments/s]"
     ]
    },
    {
     "name": "stdout",
     "output_type": "stream",
     "text": [
      "Insufficient data points for cow SE-f454e660-0451, lactation 5, skipping.\n"
     ]
    },
    {
     "name": "stderr",
     "output_type": "stream",
     "text": [
      " 87%|████████▋ | 2018/2315 [02:21<00:18, 16.06 Segments/s]"
     ]
    },
    {
     "name": "stdout",
     "output_type": "stream",
     "text": [
      "Insufficient data points for cow SE-f454e660-0465, lactation 2, skipping.\n",
      "Insufficient data points for cow SE-f454e660-0494, lactation 2, skipping.\n"
     ]
    },
    {
     "name": "stderr",
     "output_type": "stream",
     "text": [
      " 89%|████████▊ | 2053/2315 [02:23<00:21, 12.14 Segments/s]"
     ]
    },
    {
     "name": "stdout",
     "output_type": "stream",
     "text": [
      "Insufficient data points for cow SE-f454e660-0545, lactation 4, skipping.\n",
      "Insufficient data points for cow SE-f454e660-0551, lactation 1, skipping.\n",
      "Insufficient data points for cow SE-f454e660-0559, lactation 1, skipping.\n"
     ]
    },
    {
     "name": "stderr",
     "output_type": "stream",
     "text": [
      " 90%|████████▉ | 2075/2315 [02:25<00:17, 13.64 Segments/s]"
     ]
    },
    {
     "name": "stdout",
     "output_type": "stream",
     "text": [
      "Insufficient data points for cow SE-f454e660-0585, lactation 1, skipping.\n"
     ]
    },
    {
     "name": "stderr",
     "output_type": "stream",
     "text": [
      " 93%|█████████▎| 2150/2315 [02:29<00:08, 20.37 Segments/s]"
     ]
    },
    {
     "name": "stdout",
     "output_type": "stream",
     "text": [
      "Insufficient data points for cow SE-f454e660-0713, lactation 2, skipping.\n",
      "Insufficient data points for cow SE-f454e660-0717, lactation 2, skipping.\n"
     ]
    },
    {
     "name": "stderr",
     "output_type": "stream",
     "text": [
      " 94%|█████████▍| 2187/2315 [02:29<00:03, 40.87 Segments/s]"
     ]
    },
    {
     "name": "stdout",
     "output_type": "stream",
     "text": [
      "Insufficient data points for cow SE-f454e660-0726, lactation 2, skipping.\n"
     ]
    },
    {
     "name": "stderr",
     "output_type": "stream",
     "text": [
      " 96%|█████████▌| 2216/2315 [02:30<00:02, 47.52 Segments/s]"
     ]
    },
    {
     "name": "stdout",
     "output_type": "stream",
     "text": [
      "Insufficient data points for cow SE-f454e660-0829, lactation 1, skipping.\n"
     ]
    },
    {
     "name": "stderr",
     "output_type": "stream",
     "text": [
      " 98%|█████████▊| 2265/2315 [02:35<00:03, 13.28 Segments/s]"
     ]
    },
    {
     "name": "stdout",
     "output_type": "stream",
     "text": [
      "Insufficient data points for cow SE-f454e660-509, lactation 3, skipping.\n",
      "Insufficient data points for cow SE-f454e660-510, lactation 2, skipping.\n"
     ]
    },
    {
     "name": "stderr",
     "output_type": "stream",
     "text": [
      " 98%|█████████▊| 2274/2315 [02:36<00:03, 12.38 Segments/s]"
     ]
    },
    {
     "name": "stdout",
     "output_type": "stream",
     "text": [
      "Insufficient data points for cow SE-f454e660-567, lactation 1, skipping.\n"
     ]
    },
    {
     "name": "stderr",
     "output_type": "stream",
     "text": [
      "100%|██████████| 2315/2315 [02:39<00:00, 14.51 Segments/s]\n"
     ]
    },
    {
     "name": "stdout",
     "output_type": "stream",
     "text": [
      "Insufficient data points for cow SE-f454e660-729, lactation 1, skipping.\n"
     ]
    }
   ],
   "source": [
    "# Define the Wilmink Lactation Curve function\n",
    "def wilmink_lactation_curve(dim, a, b, c, d):\n",
    "    dim = np.array(dim, dtype=float)\n",
    "    return a + b * dim + c * np.exp(-d * dim)\n",
    "\n",
    "# Function to detect and remove outliers\n",
    "def remove_outliers(group, threshold=3.5):\n",
    "    mean = np.mean(group['DailyYield'])\n",
    "    std_dev = np.std(group['DailyYield'])\n",
    "    return group[(group['DailyYield'] > mean - threshold * std_dev) & (group['DailyYield'] < mean + threshold * std_dev)]\n",
    "\n",
    "# Function to smooth the data using a rolling average\n",
    "def smooth_data(group, window=5):\n",
    "    group = group.copy()\n",
    "    group['DailyYield'] = group['DailyYield'].rolling(window, min_periods=1).mean()\n",
    "    return group\n",
    "\n",
    "# Function to fit the Wilmink Lactation Curve to the dataset\n",
    "def fit_wilmink_lactation_curve(dataset):\n",
    "    # Initialize the 'ExpectedYield' column to NaN\n",
    "    dataset['ExpectedYield'] = np.nan\n",
    "    \n",
    "    valid_indices = []\n",
    "\n",
    "    # Group the dataset by 'SE_Number' and 'LactationNumber' and fit the curve for each segment\n",
    "    for (animal_number, lactation_number), group in tqdm(dataset.groupby(['SE_Number', 'LactationNumber']), unit=\" Segments\"):\n",
    "        # Prepare the data for fitting\n",
    "        group = remove_outliers(group, threshold=3.5)  # Remove outliers with threshold 3.5\n",
    "        group = smooth_data(group)  # Smooth the data\n",
    "        x_data = group['DaysInMilk'].values\n",
    "        y_data = group['DailyYield'].values\n",
    "        \n",
    "        # Ensure there are no NaN or infinite values in the data\n",
    "        if not np.isfinite(x_data).all() or not np.isfinite(y_data).all():\n",
    "            print(f\"Non-finite values found for cow {animal_number}, lactation {lactation_number}, skipping.\")\n",
    "            continue\n",
    "        \n",
    "        # Ensure there are enough data points to fit the curve\n",
    "        if len(x_data) < 10 or len(y_data) < 10:\n",
    "            print(f\"Insufficient data points for cow {animal_number}, lactation {lactation_number}, skipping.\")\n",
    "            continue\n",
    "\n",
    "        valid_indices.extend(group.index)\n",
    "        \n",
    "        # Fit the model\n",
    "        try:\n",
    "            # Initial parameter guesses\n",
    "            initial_guesses = [np.mean(y_data), 0, np.mean(y_data) / 2, 0.1]\n",
    "            # Bounds on the parameters to prevent overflow\n",
    "            bounds = ([-np.inf, -np.inf, -np.inf, 0], [np.inf, np.inf, np.inf, np.inf])\n",
    "            \n",
    "            with warnings.catch_warnings():\n",
    "                warnings.filterwarnings('error', category=OptimizeWarning)\n",
    "                try:\n",
    "                    popt, pcov = curve_fit(\n",
    "                        wilmink_lactation_curve, x_data, y_data,\n",
    "                        p0=initial_guesses, bounds=bounds, maxfev=30000\n",
    "                    )\n",
    "                    \n",
    "                    # Predict the expected yield using the fitted model\n",
    "                    dataset.loc[group.index, 'ExpectedYield'] = wilmink_lactation_curve(group['DaysInMilk'], *popt)\n",
    "                    \n",
    "                    # Normalize the DailyYield\n",
    "                    dataset.loc[group.index, 'NormalizedDailyYield'] = group['DailyYield'] / dataset.loc[group.index, 'ExpectedYield']\n",
    "                    \n",
    "                    # Calculate the daily yield change and normalize it\n",
    "                    dataset.loc[group.index, 'PreviousDailyYield'] = group['DailyYield'].shift(1)\n",
    "                    dataset.loc[group.index, 'DailyYieldChange'] = group['DailyYield'] - dataset.loc[group.index, 'PreviousDailyYield']\n",
    "                    dataset.loc[group.index, 'NormalizedDailyYieldChange'] = dataset.loc[group.index, 'DailyYieldChange'] / dataset.loc[group.index, 'ExpectedYield']\n",
    "                \n",
    "                except OptimizeWarning:\n",
    "                    print(f\"OptimizeWarning for cow {animal_number}, lactation {lactation_number}, skipping.\")\n",
    "            \n",
    "        except RuntimeError as e:\n",
    "            print(f\"Curve fit failed for cow {animal_number}, lactation {lactation_number}: {e}\")\n",
    "        except ValueError as e:\n",
    "            print(f\"Value error for cow {animal_number}, lactation {lactation_number}: {e}\")\n",
    "    \n",
    "    # Keep only valid indices\n",
    "    dataset = dataset.loc[valid_indices].reset_index(drop=True)\n",
    "    \n",
    "    # Fill any NaN values in the newly created columns with 0\n",
    "    dataset['ExpectedYield'] = dataset['ExpectedYield'].fillna(0)\n",
    "    dataset['NormalizedDailyYield'] = dataset['NormalizedDailyYield'].fillna(0)\n",
    "    dataset['PreviousDailyYield'] = dataset['PreviousDailyYield'].fillna(0)\n",
    "    dataset['DailyYieldChange'] = dataset['DailyYieldChange'].fillna(0)\n",
    "    dataset['NormalizedDailyYieldChange'] = dataset['NormalizedDailyYieldChange'].fillna(0)\n",
    "    \n",
    "    return dataset\n",
    "\n",
    "# Apply the curve fitting function to your dataset\n",
    "data = fit_wilmink_lactation_curve(data)"
   ]
  },
  {
   "cell_type": "code",
   "execution_count": 29,
   "metadata": {},
   "outputs": [],
   "source": [
    "# # Define heat stress conditions\n",
    "# def identify_weather_based_heat_stress(row):\n",
    "#     if (row['HW'] == 1 or \n",
    "#         row['cum_HW'] > 0 or \n",
    "#         row['MeanTHI_adj'] > 63.5 or\n",
    "#         row['MeanTemperature'] > 17.5):\n",
    "#         return 1\n",
    "#     return 0\n",
    "\n",
    "# # Apply the function to identify heat stress periods\n",
    "# data['HeatStress'] = data.apply(identify_weather_based_heat_stress, axis=1)\n",
    "\n",
    "# data.head()"
   ]
  },
  {
   "cell_type": "code",
   "execution_count": 30,
   "metadata": {},
   "outputs": [
    {
     "data": {
      "text/html": [
       "<div>\n",
       "<style scoped>\n",
       "    .dataframe tbody tr th:only-of-type {\n",
       "        vertical-align: middle;\n",
       "    }\n",
       "\n",
       "    .dataframe tbody tr th {\n",
       "        vertical-align: top;\n",
       "    }\n",
       "\n",
       "    .dataframe thead th {\n",
       "        text-align: right;\n",
       "    }\n",
       "</style>\n",
       "<table border=\"1\" class=\"dataframe\">\n",
       "  <thead>\n",
       "    <tr style=\"text-align: right;\">\n",
       "      <th></th>\n",
       "      <th>SE_Number</th>\n",
       "      <th>FarmName_Pseudo</th>\n",
       "      <th>Date</th>\n",
       "      <th>DailyYield</th>\n",
       "      <th>PreviousDailyYield</th>\n",
       "      <th>DailyYieldChange</th>\n",
       "      <th>HW</th>\n",
       "      <th>MeanTemperature</th>\n",
       "      <th>MeanTHI_adj</th>\n",
       "      <th>DaysInMilk</th>\n",
       "      <th>...</th>\n",
       "      <th>Temp15Threshold</th>\n",
       "      <th>Age</th>\n",
       "      <th>BreedName</th>\n",
       "      <th>LactationNumber</th>\n",
       "      <th>HeatLoad</th>\n",
       "      <th>CumulativeHeatLoad</th>\n",
       "      <th>ExpectedYield</th>\n",
       "      <th>NormalizedDailyYield</th>\n",
       "      <th>NormalizedDailyYieldChange</th>\n",
       "      <th>HeatStress</th>\n",
       "    </tr>\n",
       "  </thead>\n",
       "  <tbody>\n",
       "    <tr>\n",
       "      <th>0</th>\n",
       "      <td>SE-064c0cec-1189</td>\n",
       "      <td>a624fb9a</td>\n",
       "      <td>2022-01-01</td>\n",
       "      <td>30.77</td>\n",
       "      <td>0.000000</td>\n",
       "      <td>0.000000</td>\n",
       "      <td>0</td>\n",
       "      <td>-3.025000</td>\n",
       "      <td>28.012944</td>\n",
       "      <td>191</td>\n",
       "      <td>...</td>\n",
       "      <td>0</td>\n",
       "      <td>3095</td>\n",
       "      <td>02 SLB</td>\n",
       "      <td>7</td>\n",
       "      <td>-32.987056</td>\n",
       "      <td>0</td>\n",
       "      <td>35.914865</td>\n",
       "      <td>0.856748</td>\n",
       "      <td>0.000000</td>\n",
       "      <td>0</td>\n",
       "    </tr>\n",
       "    <tr>\n",
       "      <th>1</th>\n",
       "      <td>SE-064c0cec-1189</td>\n",
       "      <td>a624fb9a</td>\n",
       "      <td>2022-01-02</td>\n",
       "      <td>48.22</td>\n",
       "      <td>30.770000</td>\n",
       "      <td>8.725000</td>\n",
       "      <td>0</td>\n",
       "      <td>-0.279167</td>\n",
       "      <td>32.898193</td>\n",
       "      <td>192</td>\n",
       "      <td>...</td>\n",
       "      <td>0</td>\n",
       "      <td>3096</td>\n",
       "      <td>02 SLB</td>\n",
       "      <td>7</td>\n",
       "      <td>-28.101807</td>\n",
       "      <td>0</td>\n",
       "      <td>35.799613</td>\n",
       "      <td>1.103224</td>\n",
       "      <td>0.243718</td>\n",
       "      <td>0</td>\n",
       "    </tr>\n",
       "    <tr>\n",
       "      <th>2</th>\n",
       "      <td>SE-064c0cec-1189</td>\n",
       "      <td>a624fb9a</td>\n",
       "      <td>2022-01-03</td>\n",
       "      <td>30.53</td>\n",
       "      <td>39.495000</td>\n",
       "      <td>-2.988333</td>\n",
       "      <td>0</td>\n",
       "      <td>2.033333</td>\n",
       "      <td>36.760487</td>\n",
       "      <td>193</td>\n",
       "      <td>...</td>\n",
       "      <td>0</td>\n",
       "      <td>3097</td>\n",
       "      <td>02 SLB</td>\n",
       "      <td>7</td>\n",
       "      <td>-24.239513</td>\n",
       "      <td>0</td>\n",
       "      <td>35.684360</td>\n",
       "      <td>1.023044</td>\n",
       "      <td>-0.083744</td>\n",
       "      <td>0</td>\n",
       "    </tr>\n",
       "    <tr>\n",
       "      <th>3</th>\n",
       "      <td>SE-064c0cec-1189</td>\n",
       "      <td>a624fb9a</td>\n",
       "      <td>2022-01-04</td>\n",
       "      <td>42.26</td>\n",
       "      <td>36.506667</td>\n",
       "      <td>1.438333</td>\n",
       "      <td>0</td>\n",
       "      <td>0.066667</td>\n",
       "      <td>31.939524</td>\n",
       "      <td>194</td>\n",
       "      <td>...</td>\n",
       "      <td>0</td>\n",
       "      <td>3098</td>\n",
       "      <td>02 SLB</td>\n",
       "      <td>7</td>\n",
       "      <td>-29.060476</td>\n",
       "      <td>0</td>\n",
       "      <td>35.569108</td>\n",
       "      <td>1.066796</td>\n",
       "      <td>0.040438</td>\n",
       "      <td>0</td>\n",
       "    </tr>\n",
       "    <tr>\n",
       "      <th>4</th>\n",
       "      <td>SE-064c0cec-1189</td>\n",
       "      <td>a624fb9a</td>\n",
       "      <td>2022-01-05</td>\n",
       "      <td>38.49</td>\n",
       "      <td>37.945000</td>\n",
       "      <td>0.109000</td>\n",
       "      <td>0</td>\n",
       "      <td>-3.700000</td>\n",
       "      <td>26.498206</td>\n",
       "      <td>195</td>\n",
       "      <td>...</td>\n",
       "      <td>0</td>\n",
       "      <td>3099</td>\n",
       "      <td>02 SLB</td>\n",
       "      <td>7</td>\n",
       "      <td>-34.501794</td>\n",
       "      <td>0</td>\n",
       "      <td>35.453856</td>\n",
       "      <td>1.073339</td>\n",
       "      <td>0.003074</td>\n",
       "      <td>0</td>\n",
       "    </tr>\n",
       "  </tbody>\n",
       "</table>\n",
       "<p>5 rows × 22 columns</p>\n",
       "</div>"
      ],
      "text/plain": [
       "          SE_Number FarmName_Pseudo       Date  DailyYield  \\\n",
       "0  SE-064c0cec-1189        a624fb9a 2022-01-01       30.77   \n",
       "1  SE-064c0cec-1189        a624fb9a 2022-01-02       48.22   \n",
       "2  SE-064c0cec-1189        a624fb9a 2022-01-03       30.53   \n",
       "3  SE-064c0cec-1189        a624fb9a 2022-01-04       42.26   \n",
       "4  SE-064c0cec-1189        a624fb9a 2022-01-05       38.49   \n",
       "\n",
       "   PreviousDailyYield  DailyYieldChange  HW  MeanTemperature  MeanTHI_adj  \\\n",
       "0            0.000000          0.000000   0        -3.025000    28.012944   \n",
       "1           30.770000          8.725000   0        -0.279167    32.898193   \n",
       "2           39.495000         -2.988333   0         2.033333    36.760487   \n",
       "3           36.506667          1.438333   0         0.066667    31.939524   \n",
       "4           37.945000          0.109000   0        -3.700000    26.498206   \n",
       "\n",
       "   DaysInMilk  ... Temp15Threshold   Age  BreedName  LactationNumber  \\\n",
       "0         191  ...               0  3095     02 SLB                7   \n",
       "1         192  ...               0  3096     02 SLB                7   \n",
       "2         193  ...               0  3097     02 SLB                7   \n",
       "3         194  ...               0  3098     02 SLB                7   \n",
       "4         195  ...               0  3099     02 SLB                7   \n",
       "\n",
       "    HeatLoad  CumulativeHeatLoad  ExpectedYield  NormalizedDailyYield  \\\n",
       "0 -32.987056                   0      35.914865              0.856748   \n",
       "1 -28.101807                   0      35.799613              1.103224   \n",
       "2 -24.239513                   0      35.684360              1.023044   \n",
       "3 -29.060476                   0      35.569108              1.066796   \n",
       "4 -34.501794                   0      35.453856              1.073339   \n",
       "\n",
       "   NormalizedDailyYieldChange  HeatStress  \n",
       "0                    0.000000           0  \n",
       "1                    0.243718           0  \n",
       "2                   -0.083744           0  \n",
       "3                    0.040438           0  \n",
       "4                    0.003074           0  \n",
       "\n",
       "[5 rows x 22 columns]"
      ]
     },
     "execution_count": 30,
     "metadata": {},
     "output_type": "execute_result"
    }
   ],
   "source": [
    "# When CumulativeHeatLoad is greater than 5, it indicates that the cow is under heat stress\n",
    "data['HeatStress'] = (data['CumulativeHeatLoad'] > 0).astype(int)\n",
    "data.head()"
   ]
  },
  {
   "cell_type": "code",
   "execution_count": 31,
   "metadata": {},
   "outputs": [
    {
     "data": {
      "text/html": [
       "<div>\n",
       "<style scoped>\n",
       "    .dataframe tbody tr th:only-of-type {\n",
       "        vertical-align: middle;\n",
       "    }\n",
       "\n",
       "    .dataframe tbody tr th {\n",
       "        vertical-align: top;\n",
       "    }\n",
       "\n",
       "    .dataframe thead th {\n",
       "        text-align: right;\n",
       "    }\n",
       "</style>\n",
       "<table border=\"1\" class=\"dataframe\">\n",
       "  <thead>\n",
       "    <tr style=\"text-align: right;\">\n",
       "      <th></th>\n",
       "      <th>Date</th>\n",
       "      <th>FarmName_Pseudo</th>\n",
       "      <th>SE_Number</th>\n",
       "      <th>Age</th>\n",
       "      <th>BreedName</th>\n",
       "      <th>LactationNumber</th>\n",
       "      <th>DaysInMilk</th>\n",
       "      <th>YearSeason</th>\n",
       "      <th>DailyYield</th>\n",
       "      <th>PreviousDailyYield</th>\n",
       "      <th>DailyYieldChange</th>\n",
       "      <th>ExpectedYield</th>\n",
       "      <th>NormalizedDailyYield</th>\n",
       "      <th>NormalizedDailyYieldChange</th>\n",
       "      <th>HeatStress</th>\n",
       "      <th>Temp15Threshold</th>\n",
       "      <th>HW</th>\n",
       "      <th>cum_HW</th>\n",
       "      <th>MeanTemperature</th>\n",
       "      <th>MeanTHI_adj</th>\n",
       "    </tr>\n",
       "  </thead>\n",
       "  <tbody>\n",
       "    <tr>\n",
       "      <th>0</th>\n",
       "      <td>2022-01-01</td>\n",
       "      <td>a624fb9a</td>\n",
       "      <td>SE-064c0cec-1189</td>\n",
       "      <td>3095</td>\n",
       "      <td>02 SLB</td>\n",
       "      <td>7</td>\n",
       "      <td>191</td>\n",
       "      <td>2022-1</td>\n",
       "      <td>30.77</td>\n",
       "      <td>0.000000</td>\n",
       "      <td>0.000000</td>\n",
       "      <td>35.914865</td>\n",
       "      <td>0.856748</td>\n",
       "      <td>0.000000</td>\n",
       "      <td>0</td>\n",
       "      <td>0</td>\n",
       "      <td>0</td>\n",
       "      <td>0</td>\n",
       "      <td>-3.025000</td>\n",
       "      <td>28.012944</td>\n",
       "    </tr>\n",
       "    <tr>\n",
       "      <th>1</th>\n",
       "      <td>2022-01-02</td>\n",
       "      <td>a624fb9a</td>\n",
       "      <td>SE-064c0cec-1189</td>\n",
       "      <td>3096</td>\n",
       "      <td>02 SLB</td>\n",
       "      <td>7</td>\n",
       "      <td>192</td>\n",
       "      <td>2022-1</td>\n",
       "      <td>48.22</td>\n",
       "      <td>30.770000</td>\n",
       "      <td>8.725000</td>\n",
       "      <td>35.799613</td>\n",
       "      <td>1.103224</td>\n",
       "      <td>0.243718</td>\n",
       "      <td>0</td>\n",
       "      <td>0</td>\n",
       "      <td>0</td>\n",
       "      <td>0</td>\n",
       "      <td>-0.279167</td>\n",
       "      <td>32.898193</td>\n",
       "    </tr>\n",
       "    <tr>\n",
       "      <th>2</th>\n",
       "      <td>2022-01-03</td>\n",
       "      <td>a624fb9a</td>\n",
       "      <td>SE-064c0cec-1189</td>\n",
       "      <td>3097</td>\n",
       "      <td>02 SLB</td>\n",
       "      <td>7</td>\n",
       "      <td>193</td>\n",
       "      <td>2022-1</td>\n",
       "      <td>30.53</td>\n",
       "      <td>39.495000</td>\n",
       "      <td>-2.988333</td>\n",
       "      <td>35.684360</td>\n",
       "      <td>1.023044</td>\n",
       "      <td>-0.083744</td>\n",
       "      <td>0</td>\n",
       "      <td>0</td>\n",
       "      <td>0</td>\n",
       "      <td>0</td>\n",
       "      <td>2.033333</td>\n",
       "      <td>36.760487</td>\n",
       "    </tr>\n",
       "    <tr>\n",
       "      <th>3</th>\n",
       "      <td>2022-01-04</td>\n",
       "      <td>a624fb9a</td>\n",
       "      <td>SE-064c0cec-1189</td>\n",
       "      <td>3098</td>\n",
       "      <td>02 SLB</td>\n",
       "      <td>7</td>\n",
       "      <td>194</td>\n",
       "      <td>2022-1</td>\n",
       "      <td>42.26</td>\n",
       "      <td>36.506667</td>\n",
       "      <td>1.438333</td>\n",
       "      <td>35.569108</td>\n",
       "      <td>1.066796</td>\n",
       "      <td>0.040438</td>\n",
       "      <td>0</td>\n",
       "      <td>0</td>\n",
       "      <td>0</td>\n",
       "      <td>0</td>\n",
       "      <td>0.066667</td>\n",
       "      <td>31.939524</td>\n",
       "    </tr>\n",
       "    <tr>\n",
       "      <th>4</th>\n",
       "      <td>2022-01-05</td>\n",
       "      <td>a624fb9a</td>\n",
       "      <td>SE-064c0cec-1189</td>\n",
       "      <td>3099</td>\n",
       "      <td>02 SLB</td>\n",
       "      <td>7</td>\n",
       "      <td>195</td>\n",
       "      <td>2022-1</td>\n",
       "      <td>38.49</td>\n",
       "      <td>37.945000</td>\n",
       "      <td>0.109000</td>\n",
       "      <td>35.453856</td>\n",
       "      <td>1.073339</td>\n",
       "      <td>0.003074</td>\n",
       "      <td>0</td>\n",
       "      <td>0</td>\n",
       "      <td>0</td>\n",
       "      <td>0</td>\n",
       "      <td>-3.700000</td>\n",
       "      <td>26.498206</td>\n",
       "    </tr>\n",
       "  </tbody>\n",
       "</table>\n",
       "</div>"
      ],
      "text/plain": [
       "        Date FarmName_Pseudo         SE_Number   Age BreedName  \\\n",
       "0 2022-01-01        a624fb9a  SE-064c0cec-1189  3095    02 SLB   \n",
       "1 2022-01-02        a624fb9a  SE-064c0cec-1189  3096    02 SLB   \n",
       "2 2022-01-03        a624fb9a  SE-064c0cec-1189  3097    02 SLB   \n",
       "3 2022-01-04        a624fb9a  SE-064c0cec-1189  3098    02 SLB   \n",
       "4 2022-01-05        a624fb9a  SE-064c0cec-1189  3099    02 SLB   \n",
       "\n",
       "   LactationNumber  DaysInMilk YearSeason  DailyYield  PreviousDailyYield  \\\n",
       "0                7         191     2022-1       30.77            0.000000   \n",
       "1                7         192     2022-1       48.22           30.770000   \n",
       "2                7         193     2022-1       30.53           39.495000   \n",
       "3                7         194     2022-1       42.26           36.506667   \n",
       "4                7         195     2022-1       38.49           37.945000   \n",
       "\n",
       "   DailyYieldChange  ExpectedYield  NormalizedDailyYield  \\\n",
       "0          0.000000      35.914865              0.856748   \n",
       "1          8.725000      35.799613              1.103224   \n",
       "2         -2.988333      35.684360              1.023044   \n",
       "3          1.438333      35.569108              1.066796   \n",
       "4          0.109000      35.453856              1.073339   \n",
       "\n",
       "   NormalizedDailyYieldChange  HeatStress  Temp15Threshold  HW  cum_HW  \\\n",
       "0                    0.000000           0                0   0       0   \n",
       "1                    0.243718           0                0   0       0   \n",
       "2                   -0.083744           0                0   0       0   \n",
       "3                    0.040438           0                0   0       0   \n",
       "4                    0.003074           0                0   0       0   \n",
       "\n",
       "   MeanTemperature  MeanTHI_adj  \n",
       "0        -3.025000    28.012944  \n",
       "1        -0.279167    32.898193  \n",
       "2         2.033333    36.760487  \n",
       "3         0.066667    31.939524  \n",
       "4        -3.700000    26.498206  "
      ]
     },
     "execution_count": 31,
     "metadata": {},
     "output_type": "execute_result"
    }
   ],
   "source": [
    "# Reorder columns\n",
    "new_order = [\n",
    "    \"Date\", \"FarmName_Pseudo\", \"SE_Number\", \"Age\", \"BreedName\", \"LactationNumber\", \"DaysInMilk\",'YearSeason', \"DailyYield\", \"PreviousDailyYield\", \n",
    "    \"DailyYieldChange\", \"ExpectedYield\", \"NormalizedDailyYield\", \n",
    "    \"NormalizedDailyYieldChange\", \"HeatStress\", \"Temp15Threshold\", \"HW\", \n",
    "    \"cum_HW\", \"MeanTemperature\", \"MeanTHI_adj\"\n",
    "]\n",
    "data = data[new_order]\n",
    "data.head()"
   ]
  },
  {
   "cell_type": "code",
   "execution_count": 32,
   "metadata": {},
   "outputs": [],
   "source": [
    "# Save the reordered DataFrame to a CSV file\n",
    "data.to_csv('../Data/MergedData/HeatApproachYieldData.csv', index=False)"
   ]
  },
  {
   "cell_type": "markdown",
   "metadata": {},
   "source": [
    "### Variables Explanation for `HeatApproachYieldData.csv`\n",
    "\n",
    "1. **Date**:\n",
    "   - Description: The date when the milk yield was recorded.\n",
    "   - Datatype: `datetime`\n",
    "   - Format: `YYYY-MM-DD`\n",
    "   - Example: `2022-01-01`\n",
    "\n",
    "2. **FarmName_Pseudo**:\n",
    "   - Description: A pseudo-identifier for the farm where the data was collected.\n",
    "   - Datatype: `str`\n",
    "   - Example: `a624fb9a`\n",
    "\n",
    "3. **SE_Number**:\n",
    "   - Description: A unique identifier for the cow, which has been formatted to include the farm and the animal number.\n",
    "   - Datatype: `str`\n",
    "   - Example: `SE-064c0cec-1189`\n",
    "\n",
    "4. **Age**:\n",
    "   - Description: The age of the cow in days.\n",
    "   - Datatype: `Int64`\n",
    "   - Example: `3095`\n",
    "\n",
    "5. **BreedName**:\n",
    "   - Description: The breed name of the cow.\n",
    "   - Datatype: `str`\n",
    "   - Example: `02 SLB`\n",
    "\n",
    "6. **LactationNumber**:\n",
    "   - Description: The number assigned to the cow's lactation cycle.\n",
    "   - Datatype: `Int64`\n",
    "   - Example: `7`\n",
    "\n",
    "7. **DaysInMilk**:\n",
    "   - Description: The number of days the cow has been in milk (lactating) at the time of recording.\n",
    "   - Datatype: `Int64`\n",
    "   - Example: `191`\n",
    "\n",
    "8. **YearSeason**:\n",
    "   - Description: The seasonal period based on the year and the month range.\n",
    "   - Datatype: `str`\n",
    "   - Example: `2022-1`\n",
    "   - YearSeason parameters in yield datasets:\n",
    "     - 1: Dec-Feb\n",
    "     - 2: Mar-May\n",
    "     - 3: Jun-Aug\n",
    "     - 4: Sep-Nov\n",
    "\n",
    "9. **DailyYield**:\n",
    "   - Description: The total amount of milk produced by the cow in a single day.\n",
    "   - Datatype: `float`\n",
    "   - Example: `30.77`\n",
    "\n",
    "10. **PreviousDailyYield**:\n",
    "    - Description: The total amount of milk produced by the cow on the previous day.\n",
    "    - Datatype: `float`\n",
    "    - Example: `0.0`\n",
    "\n",
    "11. **DailyYieldChange**:\n",
    "    - Description: The change in daily milk yield from the previous day.\n",
    "    - Datatype: `float`\n",
    "    - Example: `0.0`\n",
    "\n",
    "12. **ExpectedYield**:\n",
    "    - Description: The expected amount of milk yield based on certain models or predictions.\n",
    "    - Datatype: `float`\n",
    "    - Example: `35.914865`\n",
    "\n",
    "13. **NormalizedDailyYield**:\n",
    "    - Description: The daily yield normalized to account for various factors.\n",
    "    - Datatype: `float`\n",
    "    - Example: `0.856748`\n",
    "\n",
    "14. **NormalizedDailyYieldChange**:\n",
    "    - Description: The change in normalized daily yield from the previous day.\n",
    "    - Datatype: `float`\n",
    "    - Example: `0.0`\n",
    "\n",
    "15. **HeatStress**:\n",
    "    - Description: A binary variable indicating the presence of heat stress on the cow.\n",
    "    - Datatype: `Int64`\n",
    "    - Example: `0`\n",
    "\n",
    "16. **Temp15Threshold**:\n",
    "    - Description: A binary variable indicating if the temperature exceeded 15 degrees Celsius on the given day.\n",
    "    - Datatype: `Int64`\n",
    "    - Example: `0`\n",
    "\n",
    "17. **HW**:\n",
    "    - Description: A binary variable indicating the presence of a heatwave on the day.\n",
    "    - Datatype: `Int64`\n",
    "    - Example: `0`\n",
    "\n",
    "18. **cum_HW**:\n",
    "    - Description: Cumulative number of heatwave days up to the current date.\n",
    "    - Datatype: `Int64`\n",
    "    - Example: `0`\n",
    "\n",
    "19. **MeanTemperature**:\n",
    "    - Description: The mean temperature recorded on the day.\n",
    "    - Datatype: `float`\n",
    "    - Example: `-3.025`\n",
    "\n",
    "20. **MeanTHI_adj**:\n",
    "    - Description: The mean adjusted Temperature-Humidity Index for the day.\n",
    "    - Datatype: `float`\n",
    "    - Example: `28.012944`"
   ]
  }
 ],
 "metadata": {
  "kernelspec": {
   "display_name": "GIGACOW",
   "language": "python",
   "name": "python3"
  },
  "language_info": {
   "codemirror_mode": {
    "name": "ipython",
    "version": 3
   },
   "file_extension": ".py",
   "mimetype": "text/x-python",
   "name": "python",
   "nbconvert_exporter": "python",
   "pygments_lexer": "ipython3",
   "version": "3.11.9"
  }
 },
 "nbformat": 4,
 "nbformat_minor": 2
}
