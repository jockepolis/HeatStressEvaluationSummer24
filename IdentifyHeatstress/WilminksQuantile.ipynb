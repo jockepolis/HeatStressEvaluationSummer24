{
 "cells": [
  {
   "cell_type": "code",
   "execution_count": 29,
   "metadata": {},
   "outputs": [
    {
     "name": "stdout",
     "output_type": "stream",
     "text": [
      "The autoreload extension is already loaded. To reload it, use:\n",
      "  %reload_ext autoreload\n"
     ]
    }
   ],
   "source": [
    "import pandas as pd\n",
    "import numpy as np\n",
    "import seaborn as sns\n",
    "from scipy.optimize import curve_fit, OptimizeWarning\n",
    "from tqdm import tqdm\n",
    "import warnings\n",
    "from scipy.stats import zscore\n",
    "from statsmodels.tsa.stattools import acf, pacf\n",
    "from scipy.optimize import minimize\n",
    "from vqr import VectorQuantileRegressor\n",
    "from vqr.solvers.regularized_lse import RegularizedDualVQRSolver\n",
    "\n",
    "sns.set_theme()\n",
    "sns.set_context(\"notebook\")\n",
    "%load_ext autoreload\n",
    "%autoreload 2"
   ]
  },
  {
   "cell_type": "code",
   "execution_count": 30,
   "metadata": {},
   "outputs": [
    {
     "data": {
      "text/html": [
       "<div>\n",
       "<style scoped>\n",
       "    .dataframe tbody tr th:only-of-type {\n",
       "        vertical-align: middle;\n",
       "    }\n",
       "\n",
       "    .dataframe tbody tr th {\n",
       "        vertical-align: top;\n",
       "    }\n",
       "\n",
       "    .dataframe thead th {\n",
       "        text-align: right;\n",
       "    }\n",
       "</style>\n",
       "<table border=\"1\" class=\"dataframe\">\n",
       "  <thead>\n",
       "    <tr style=\"text-align: right;\">\n",
       "      <th></th>\n",
       "      <th>FarmName_Pseudo</th>\n",
       "      <th>SE_Number</th>\n",
       "      <th>AnimalNumber</th>\n",
       "      <th>StartDate</th>\n",
       "      <th>StartTime</th>\n",
       "      <th>LactationNumber</th>\n",
       "      <th>DaysInMilk</th>\n",
       "      <th>TotalYield</th>\n",
       "      <th>DateTime</th>\n",
       "      <th>YearSeason</th>\n",
       "      <th>...</th>\n",
       "      <th>Mother</th>\n",
       "      <th>Father</th>\n",
       "      <th>CullDecisionDate</th>\n",
       "      <th>Temperature</th>\n",
       "      <th>RelativeHumidity</th>\n",
       "      <th>THI_adj</th>\n",
       "      <th>HW</th>\n",
       "      <th>cum_HW</th>\n",
       "      <th>Temp15Threshold</th>\n",
       "      <th>Age</th>\n",
       "    </tr>\n",
       "  </thead>\n",
       "  <tbody>\n",
       "    <tr>\n",
       "      <th>0</th>\n",
       "      <td>a624fb9a</td>\n",
       "      <td>SE-064c0cec-1189</td>\n",
       "      <td>5189</td>\n",
       "      <td>2022-01-01</td>\n",
       "      <td>06:25:00</td>\n",
       "      <td>7</td>\n",
       "      <td>191</td>\n",
       "      <td>13.90</td>\n",
       "      <td>2022-01-01 06:25:00</td>\n",
       "      <td>2022-1</td>\n",
       "      <td>...</td>\n",
       "      <td>NaN</td>\n",
       "      <td>NaN</td>\n",
       "      <td>2022-12-20</td>\n",
       "      <td>-3.025000</td>\n",
       "      <td>0.930917</td>\n",
       "      <td>28.012944</td>\n",
       "      <td>0</td>\n",
       "      <td>0</td>\n",
       "      <td>0</td>\n",
       "      <td>3095</td>\n",
       "    </tr>\n",
       "    <tr>\n",
       "      <th>1</th>\n",
       "      <td>a624fb9a</td>\n",
       "      <td>SE-064c0cec-1189</td>\n",
       "      <td>5189</td>\n",
       "      <td>2022-01-01</td>\n",
       "      <td>16:41:00</td>\n",
       "      <td>7</td>\n",
       "      <td>191</td>\n",
       "      <td>16.87</td>\n",
       "      <td>2022-01-01 16:41:00</td>\n",
       "      <td>2022-1</td>\n",
       "      <td>...</td>\n",
       "      <td>NaN</td>\n",
       "      <td>NaN</td>\n",
       "      <td>2022-12-20</td>\n",
       "      <td>-3.025000</td>\n",
       "      <td>0.930917</td>\n",
       "      <td>28.012944</td>\n",
       "      <td>0</td>\n",
       "      <td>0</td>\n",
       "      <td>0</td>\n",
       "      <td>3095</td>\n",
       "    </tr>\n",
       "    <tr>\n",
       "      <th>2</th>\n",
       "      <td>a624fb9a</td>\n",
       "      <td>SE-064c0cec-1189</td>\n",
       "      <td>5189</td>\n",
       "      <td>2022-01-02</td>\n",
       "      <td>15:29:00</td>\n",
       "      <td>7</td>\n",
       "      <td>192</td>\n",
       "      <td>20.41</td>\n",
       "      <td>2022-01-02 15:29:00</td>\n",
       "      <td>2022-1</td>\n",
       "      <td>...</td>\n",
       "      <td>NaN</td>\n",
       "      <td>NaN</td>\n",
       "      <td>2022-12-20</td>\n",
       "      <td>-0.279167</td>\n",
       "      <td>0.990542</td>\n",
       "      <td>32.898193</td>\n",
       "      <td>0</td>\n",
       "      <td>0</td>\n",
       "      <td>0</td>\n",
       "      <td>3096</td>\n",
       "    </tr>\n",
       "    <tr>\n",
       "      <th>3</th>\n",
       "      <td>a624fb9a</td>\n",
       "      <td>SE-064c0cec-1189</td>\n",
       "      <td>5189</td>\n",
       "      <td>2022-01-02</td>\n",
       "      <td>03:31:00</td>\n",
       "      <td>7</td>\n",
       "      <td>192</td>\n",
       "      <td>16.28</td>\n",
       "      <td>2022-01-02 03:31:00</td>\n",
       "      <td>2022-1</td>\n",
       "      <td>...</td>\n",
       "      <td>NaN</td>\n",
       "      <td>NaN</td>\n",
       "      <td>2022-12-20</td>\n",
       "      <td>-0.279167</td>\n",
       "      <td>0.990542</td>\n",
       "      <td>32.898193</td>\n",
       "      <td>0</td>\n",
       "      <td>0</td>\n",
       "      <td>0</td>\n",
       "      <td>3096</td>\n",
       "    </tr>\n",
       "    <tr>\n",
       "      <th>4</th>\n",
       "      <td>a624fb9a</td>\n",
       "      <td>SE-064c0cec-1189</td>\n",
       "      <td>5189</td>\n",
       "      <td>2022-01-02</td>\n",
       "      <td>22:44:00</td>\n",
       "      <td>7</td>\n",
       "      <td>192</td>\n",
       "      <td>11.53</td>\n",
       "      <td>2022-01-02 22:44:00</td>\n",
       "      <td>2022-1</td>\n",
       "      <td>...</td>\n",
       "      <td>NaN</td>\n",
       "      <td>NaN</td>\n",
       "      <td>2022-12-20</td>\n",
       "      <td>-0.279167</td>\n",
       "      <td>0.990542</td>\n",
       "      <td>32.898193</td>\n",
       "      <td>0</td>\n",
       "      <td>0</td>\n",
       "      <td>0</td>\n",
       "      <td>3096</td>\n",
       "    </tr>\n",
       "  </tbody>\n",
       "</table>\n",
       "<p>5 rows × 21 columns</p>\n",
       "</div>"
      ],
      "text/plain": [
       "  FarmName_Pseudo         SE_Number  AnimalNumber  StartDate StartTime  \\\n",
       "0        a624fb9a  SE-064c0cec-1189          5189 2022-01-01  06:25:00   \n",
       "1        a624fb9a  SE-064c0cec-1189          5189 2022-01-01  16:41:00   \n",
       "2        a624fb9a  SE-064c0cec-1189          5189 2022-01-02  15:29:00   \n",
       "3        a624fb9a  SE-064c0cec-1189          5189 2022-01-02  03:31:00   \n",
       "4        a624fb9a  SE-064c0cec-1189          5189 2022-01-02  22:44:00   \n",
       "\n",
       "   LactationNumber  DaysInMilk  TotalYield            DateTime YearSeason  \\\n",
       "0                7         191       13.90 2022-01-01 06:25:00     2022-1   \n",
       "1                7         191       16.87 2022-01-01 16:41:00     2022-1   \n",
       "2                7         192       20.41 2022-01-02 15:29:00     2022-1   \n",
       "3                7         192       16.28 2022-01-02 03:31:00     2022-1   \n",
       "4                7         192       11.53 2022-01-02 22:44:00     2022-1   \n",
       "\n",
       "   ... Mother Father CullDecisionDate Temperature  RelativeHumidity  \\\n",
       "0  ...    NaN    NaN       2022-12-20   -3.025000          0.930917   \n",
       "1  ...    NaN    NaN       2022-12-20   -3.025000          0.930917   \n",
       "2  ...    NaN    NaN       2022-12-20   -0.279167          0.990542   \n",
       "3  ...    NaN    NaN       2022-12-20   -0.279167          0.990542   \n",
       "4  ...    NaN    NaN       2022-12-20   -0.279167          0.990542   \n",
       "\n",
       "     THI_adj  HW  cum_HW  Temp15Threshold   Age  \n",
       "0  28.012944   0       0                0  3095  \n",
       "1  28.012944   0       0                0  3095  \n",
       "2  32.898193   0       0                0  3096  \n",
       "3  32.898193   0       0                0  3096  \n",
       "4  32.898193   0       0                0  3096  \n",
       "\n",
       "[5 rows x 21 columns]"
      ]
     },
     "execution_count": 30,
     "metadata": {},
     "output_type": "execute_result"
    }
   ],
   "source": [
    "dtype_dict = {\n",
    "    'FarmName_Pseudo': 'str',\n",
    "    'SE_Number': 'str',\n",
    "    'AnimalNumber': 'Int64',          \n",
    "    'StartDate': 'str',\n",
    "    'StartTime': 'str',\n",
    "    'DateTime': 'str',\n",
    "    'LactationNumber': 'Int64',       \n",
    "    'DaysInMilk': 'Int64', \n",
    "    'YearSeason': 'str',           \n",
    "    'TotalYield': 'float',\n",
    "    'DateTime': 'str',\n",
    "    'BreedName': 'str',\n",
    "    'Age': 'Int64',\n",
    "    'Mother': 'str',\n",
    "    'Father': 'str',\n",
    "    'CullDecisionDate': 'str',\n",
    "    'Temperature': 'float',\n",
    "    'RelativeHumidity': 'float',      \n",
    "    'THI_adj': 'float',\n",
    "    'HW': 'Int64',                    \n",
    "    'cum_HW': 'Int64',                \n",
    "    'Temp15Threshold': 'Int64'        \n",
    "}\n",
    "\n",
    "\n",
    "# Load the CSV with specified dtypes\n",
    "data = pd.read_csv('../Data/MergedData/CleanedYieldData.csv', dtype=dtype_dict)\n",
    "\n",
    "# Convert date and time columns back to datetime and time objects\n",
    "data['DateTime'] = pd.to_datetime(data['DateTime'], errors='coerce')\n",
    "data['StartTime'] = pd.to_datetime(data['StartTime'], format='%H:%M:%S', errors='coerce').dt.time\n",
    "data['StartDate'] = pd.to_datetime(data['StartDate'], errors='coerce')\n",
    "data['CullDecisionDate'] = pd.to_datetime(data['CullDecisionDate'], errors='coerce')\n",
    "data['DateTime'] = pd.to_datetime(data['DateTime'], errors='coerce')\n",
    "data.head()"
   ]
  },
  {
   "cell_type": "code",
   "execution_count": 31,
   "metadata": {},
   "outputs": [
    {
     "data": {
      "text/html": [
       "<div>\n",
       "<style scoped>\n",
       "    .dataframe tbody tr th:only-of-type {\n",
       "        vertical-align: middle;\n",
       "    }\n",
       "\n",
       "    .dataframe tbody tr th {\n",
       "        vertical-align: top;\n",
       "    }\n",
       "\n",
       "    .dataframe thead th {\n",
       "        text-align: right;\n",
       "    }\n",
       "</style>\n",
       "<table border=\"1\" class=\"dataframe\">\n",
       "  <thead>\n",
       "    <tr style=\"text-align: right;\">\n",
       "      <th></th>\n",
       "      <th>FarmName_Pseudo</th>\n",
       "      <th>SE_Number</th>\n",
       "      <th>AnimalNumber</th>\n",
       "      <th>StartDate</th>\n",
       "      <th>StartTime</th>\n",
       "      <th>LactationNumber</th>\n",
       "      <th>DaysInMilk</th>\n",
       "      <th>TotalYield</th>\n",
       "      <th>DateTime</th>\n",
       "      <th>YearSeason</th>\n",
       "      <th>...</th>\n",
       "      <th>CullDecisionDate</th>\n",
       "      <th>Temperature</th>\n",
       "      <th>RelativeHumidity</th>\n",
       "      <th>THI_adj</th>\n",
       "      <th>HW</th>\n",
       "      <th>cum_HW</th>\n",
       "      <th>Temp15Threshold</th>\n",
       "      <th>Age</th>\n",
       "      <th>HeatLoad</th>\n",
       "      <th>CumulativeHeatLoad</th>\n",
       "    </tr>\n",
       "  </thead>\n",
       "  <tbody>\n",
       "    <tr>\n",
       "      <th>0</th>\n",
       "      <td>a624fb9a</td>\n",
       "      <td>SE-064c0cec-1189</td>\n",
       "      <td>5189</td>\n",
       "      <td>2022-01-01</td>\n",
       "      <td>06:25:00</td>\n",
       "      <td>7</td>\n",
       "      <td>191</td>\n",
       "      <td>13.90</td>\n",
       "      <td>2022-01-01 06:25:00</td>\n",
       "      <td>2022-1</td>\n",
       "      <td>...</td>\n",
       "      <td>2022-12-20</td>\n",
       "      <td>-3.025000</td>\n",
       "      <td>0.930917</td>\n",
       "      <td>28.012944</td>\n",
       "      <td>0</td>\n",
       "      <td>0</td>\n",
       "      <td>0</td>\n",
       "      <td>3095</td>\n",
       "      <td>-32.987056</td>\n",
       "      <td>0.000000</td>\n",
       "    </tr>\n",
       "    <tr>\n",
       "      <th>1</th>\n",
       "      <td>a624fb9a</td>\n",
       "      <td>SE-064c0cec-1189</td>\n",
       "      <td>5189</td>\n",
       "      <td>2022-01-01</td>\n",
       "      <td>16:41:00</td>\n",
       "      <td>7</td>\n",
       "      <td>191</td>\n",
       "      <td>16.87</td>\n",
       "      <td>2022-01-01 16:41:00</td>\n",
       "      <td>2022-1</td>\n",
       "      <td>...</td>\n",
       "      <td>2022-12-20</td>\n",
       "      <td>-3.025000</td>\n",
       "      <td>0.930917</td>\n",
       "      <td>28.012944</td>\n",
       "      <td>0</td>\n",
       "      <td>0</td>\n",
       "      <td>0</td>\n",
       "      <td>3095</td>\n",
       "      <td>-32.987056</td>\n",
       "      <td>0.000000</td>\n",
       "    </tr>\n",
       "    <tr>\n",
       "      <th>2</th>\n",
       "      <td>a624fb9a</td>\n",
       "      <td>SE-064c0cec-1189</td>\n",
       "      <td>5189</td>\n",
       "      <td>2022-01-02</td>\n",
       "      <td>15:29:00</td>\n",
       "      <td>7</td>\n",
       "      <td>192</td>\n",
       "      <td>20.41</td>\n",
       "      <td>2022-01-02 15:29:00</td>\n",
       "      <td>2022-1</td>\n",
       "      <td>...</td>\n",
       "      <td>2022-12-20</td>\n",
       "      <td>-0.279167</td>\n",
       "      <td>0.990542</td>\n",
       "      <td>32.898193</td>\n",
       "      <td>0</td>\n",
       "      <td>0</td>\n",
       "      <td>0</td>\n",
       "      <td>3096</td>\n",
       "      <td>-28.101807</td>\n",
       "      <td>0.000000</td>\n",
       "    </tr>\n",
       "    <tr>\n",
       "      <th>3</th>\n",
       "      <td>a624fb9a</td>\n",
       "      <td>SE-064c0cec-1189</td>\n",
       "      <td>5189</td>\n",
       "      <td>2022-01-02</td>\n",
       "      <td>03:31:00</td>\n",
       "      <td>7</td>\n",
       "      <td>192</td>\n",
       "      <td>16.28</td>\n",
       "      <td>2022-01-02 03:31:00</td>\n",
       "      <td>2022-1</td>\n",
       "      <td>...</td>\n",
       "      <td>2022-12-20</td>\n",
       "      <td>-0.279167</td>\n",
       "      <td>0.990542</td>\n",
       "      <td>32.898193</td>\n",
       "      <td>0</td>\n",
       "      <td>0</td>\n",
       "      <td>0</td>\n",
       "      <td>3096</td>\n",
       "      <td>-28.101807</td>\n",
       "      <td>0.000000</td>\n",
       "    </tr>\n",
       "    <tr>\n",
       "      <th>4</th>\n",
       "      <td>a624fb9a</td>\n",
       "      <td>SE-064c0cec-1189</td>\n",
       "      <td>5189</td>\n",
       "      <td>2022-01-02</td>\n",
       "      <td>22:44:00</td>\n",
       "      <td>7</td>\n",
       "      <td>192</td>\n",
       "      <td>11.53</td>\n",
       "      <td>2022-01-02 22:44:00</td>\n",
       "      <td>2022-1</td>\n",
       "      <td>...</td>\n",
       "      <td>2022-12-20</td>\n",
       "      <td>-0.279167</td>\n",
       "      <td>0.990542</td>\n",
       "      <td>32.898193</td>\n",
       "      <td>0</td>\n",
       "      <td>0</td>\n",
       "      <td>0</td>\n",
       "      <td>3096</td>\n",
       "      <td>-28.101807</td>\n",
       "      <td>0.000000</td>\n",
       "    </tr>\n",
       "    <tr>\n",
       "      <th>...</th>\n",
       "      <td>...</td>\n",
       "      <td>...</td>\n",
       "      <td>...</td>\n",
       "      <td>...</td>\n",
       "      <td>...</td>\n",
       "      <td>...</td>\n",
       "      <td>...</td>\n",
       "      <td>...</td>\n",
       "      <td>...</td>\n",
       "      <td>...</td>\n",
       "      <td>...</td>\n",
       "      <td>...</td>\n",
       "      <td>...</td>\n",
       "      <td>...</td>\n",
       "      <td>...</td>\n",
       "      <td>...</td>\n",
       "      <td>...</td>\n",
       "      <td>...</td>\n",
       "      <td>...</td>\n",
       "      <td>...</td>\n",
       "      <td>...</td>\n",
       "    </tr>\n",
       "    <tr>\n",
       "      <th>1364930</th>\n",
       "      <td>f454e660</td>\n",
       "      <td>SE-fcdf259d-0044-0</td>\n",
       "      <td>1044</td>\n",
       "      <td>2023-06-07</td>\n",
       "      <td>00:51:00</td>\n",
       "      <td>10</td>\n",
       "      <td>351</td>\n",
       "      <td>5.63</td>\n",
       "      <td>2023-06-07 00:51:00</td>\n",
       "      <td>2023-3</td>\n",
       "      <td>...</td>\n",
       "      <td>NaT</td>\n",
       "      <td>15.645833</td>\n",
       "      <td>0.731917</td>\n",
       "      <td>61.559237</td>\n",
       "      <td>0</td>\n",
       "      <td>0</td>\n",
       "      <td>1</td>\n",
       "      <td>4154</td>\n",
       "      <td>0.559237</td>\n",
       "      <td>0.559237</td>\n",
       "    </tr>\n",
       "    <tr>\n",
       "      <th>1364931</th>\n",
       "      <td>f454e660</td>\n",
       "      <td>SE-fcdf259d-0044-0</td>\n",
       "      <td>1044</td>\n",
       "      <td>2023-06-07</td>\n",
       "      <td>11:17:00</td>\n",
       "      <td>10</td>\n",
       "      <td>351</td>\n",
       "      <td>3.34</td>\n",
       "      <td>2023-06-07 11:17:00</td>\n",
       "      <td>2023-3</td>\n",
       "      <td>...</td>\n",
       "      <td>NaT</td>\n",
       "      <td>15.645833</td>\n",
       "      <td>0.731917</td>\n",
       "      <td>61.559237</td>\n",
       "      <td>0</td>\n",
       "      <td>0</td>\n",
       "      <td>1</td>\n",
       "      <td>4154</td>\n",
       "      <td>0.559237</td>\n",
       "      <td>1.118475</td>\n",
       "    </tr>\n",
       "    <tr>\n",
       "      <th>1364932</th>\n",
       "      <td>f454e660</td>\n",
       "      <td>SE-fcdf259d-0044-0</td>\n",
       "      <td>1044</td>\n",
       "      <td>2023-06-08</td>\n",
       "      <td>17:01:00</td>\n",
       "      <td>10</td>\n",
       "      <td>352</td>\n",
       "      <td>6.96</td>\n",
       "      <td>2023-06-08 17:01:00</td>\n",
       "      <td>2023-3</td>\n",
       "      <td>...</td>\n",
       "      <td>NaT</td>\n",
       "      <td>15.570833</td>\n",
       "      <td>0.601708</td>\n",
       "      <td>59.383267</td>\n",
       "      <td>0</td>\n",
       "      <td>0</td>\n",
       "      <td>1</td>\n",
       "      <td>4155</td>\n",
       "      <td>-1.616733</td>\n",
       "      <td>0.000000</td>\n",
       "    </tr>\n",
       "    <tr>\n",
       "      <th>1364933</th>\n",
       "      <td>f454e660</td>\n",
       "      <td>SE-fcdf259d-0044-0</td>\n",
       "      <td>1044</td>\n",
       "      <td>2023-06-08</td>\n",
       "      <td>02:23:00</td>\n",
       "      <td>10</td>\n",
       "      <td>352</td>\n",
       "      <td>8.18</td>\n",
       "      <td>2023-06-08 02:23:00</td>\n",
       "      <td>2023-3</td>\n",
       "      <td>...</td>\n",
       "      <td>NaT</td>\n",
       "      <td>15.570833</td>\n",
       "      <td>0.601708</td>\n",
       "      <td>59.383267</td>\n",
       "      <td>0</td>\n",
       "      <td>0</td>\n",
       "      <td>1</td>\n",
       "      <td>4155</td>\n",
       "      <td>-1.616733</td>\n",
       "      <td>0.000000</td>\n",
       "    </tr>\n",
       "    <tr>\n",
       "      <th>1364934</th>\n",
       "      <td>f454e660</td>\n",
       "      <td>SE-fcdf259d-0044-0</td>\n",
       "      <td>1044</td>\n",
       "      <td>2023-06-09</td>\n",
       "      <td>13:08:00</td>\n",
       "      <td>10</td>\n",
       "      <td>353</td>\n",
       "      <td>7.47</td>\n",
       "      <td>2023-06-09 13:08:00</td>\n",
       "      <td>2023-3</td>\n",
       "      <td>...</td>\n",
       "      <td>NaT</td>\n",
       "      <td>13.254167</td>\n",
       "      <td>0.518083</td>\n",
       "      <td>54.534255</td>\n",
       "      <td>0</td>\n",
       "      <td>0</td>\n",
       "      <td>1</td>\n",
       "      <td>4156</td>\n",
       "      <td>-6.465745</td>\n",
       "      <td>0.000000</td>\n",
       "    </tr>\n",
       "  </tbody>\n",
       "</table>\n",
       "<p>1364935 rows × 23 columns</p>\n",
       "</div>"
      ],
      "text/plain": [
       "        FarmName_Pseudo           SE_Number  AnimalNumber  StartDate  \\\n",
       "0              a624fb9a    SE-064c0cec-1189          5189 2022-01-01   \n",
       "1              a624fb9a    SE-064c0cec-1189          5189 2022-01-01   \n",
       "2              a624fb9a    SE-064c0cec-1189          5189 2022-01-02   \n",
       "3              a624fb9a    SE-064c0cec-1189          5189 2022-01-02   \n",
       "4              a624fb9a    SE-064c0cec-1189          5189 2022-01-02   \n",
       "...                 ...                 ...           ...        ...   \n",
       "1364930        f454e660  SE-fcdf259d-0044-0          1044 2023-06-07   \n",
       "1364931        f454e660  SE-fcdf259d-0044-0          1044 2023-06-07   \n",
       "1364932        f454e660  SE-fcdf259d-0044-0          1044 2023-06-08   \n",
       "1364933        f454e660  SE-fcdf259d-0044-0          1044 2023-06-08   \n",
       "1364934        f454e660  SE-fcdf259d-0044-0          1044 2023-06-09   \n",
       "\n",
       "        StartTime  LactationNumber  DaysInMilk  TotalYield  \\\n",
       "0        06:25:00                7         191       13.90   \n",
       "1        16:41:00                7         191       16.87   \n",
       "2        15:29:00                7         192       20.41   \n",
       "3        03:31:00                7         192       16.28   \n",
       "4        22:44:00                7         192       11.53   \n",
       "...           ...              ...         ...         ...   \n",
       "1364930  00:51:00               10         351        5.63   \n",
       "1364931  11:17:00               10         351        3.34   \n",
       "1364932  17:01:00               10         352        6.96   \n",
       "1364933  02:23:00               10         352        8.18   \n",
       "1364934  13:08:00               10         353        7.47   \n",
       "\n",
       "                   DateTime YearSeason  ... CullDecisionDate Temperature  \\\n",
       "0       2022-01-01 06:25:00     2022-1  ...       2022-12-20   -3.025000   \n",
       "1       2022-01-01 16:41:00     2022-1  ...       2022-12-20   -3.025000   \n",
       "2       2022-01-02 15:29:00     2022-1  ...       2022-12-20   -0.279167   \n",
       "3       2022-01-02 03:31:00     2022-1  ...       2022-12-20   -0.279167   \n",
       "4       2022-01-02 22:44:00     2022-1  ...       2022-12-20   -0.279167   \n",
       "...                     ...        ...  ...              ...         ...   \n",
       "1364930 2023-06-07 00:51:00     2023-3  ...              NaT   15.645833   \n",
       "1364931 2023-06-07 11:17:00     2023-3  ...              NaT   15.645833   \n",
       "1364932 2023-06-08 17:01:00     2023-3  ...              NaT   15.570833   \n",
       "1364933 2023-06-08 02:23:00     2023-3  ...              NaT   15.570833   \n",
       "1364934 2023-06-09 13:08:00     2023-3  ...              NaT   13.254167   \n",
       "\n",
       "        RelativeHumidity    THI_adj  HW  cum_HW  Temp15Threshold   Age  \\\n",
       "0               0.930917  28.012944   0       0                0  3095   \n",
       "1               0.930917  28.012944   0       0                0  3095   \n",
       "2               0.990542  32.898193   0       0                0  3096   \n",
       "3               0.990542  32.898193   0       0                0  3096   \n",
       "4               0.990542  32.898193   0       0                0  3096   \n",
       "...                  ...        ...  ..     ...              ...   ...   \n",
       "1364930         0.731917  61.559237   0       0                1  4154   \n",
       "1364931         0.731917  61.559237   0       0                1  4154   \n",
       "1364932         0.601708  59.383267   0       0                1  4155   \n",
       "1364933         0.601708  59.383267   0       0                1  4155   \n",
       "1364934         0.518083  54.534255   0       0                1  4156   \n",
       "\n",
       "          HeatLoad  CumulativeHeatLoad  \n",
       "0       -32.987056            0.000000  \n",
       "1       -32.987056            0.000000  \n",
       "2       -28.101807            0.000000  \n",
       "3       -28.101807            0.000000  \n",
       "4       -28.101807            0.000000  \n",
       "...            ...                 ...  \n",
       "1364930   0.559237            0.559237  \n",
       "1364931   0.559237            1.118475  \n",
       "1364932  -1.616733            0.000000  \n",
       "1364933  -1.616733            0.000000  \n",
       "1364934  -6.465745            0.000000  \n",
       "\n",
       "[1364935 rows x 23 columns]"
      ]
     },
     "execution_count": 31,
     "metadata": {},
     "output_type": "execute_result"
    }
   ],
   "source": [
    "# Define the THI threshold\n",
    "THI_THRESHOLD = 61\n",
    "\n",
    "# Calculate the daily heat load based on the THI threshold\n",
    "data['HeatLoad'] = data['THI_adj'].apply(lambda x: x - THI_THRESHOLD if x > THI_THRESHOLD else -(THI_THRESHOLD - x))\n",
    "\n",
    "# Initialize the cumulative heat load column with float type\n",
    "data['CumulativeHeatLoad'] = 0.0  # Explicitly set as float\n",
    "\n",
    "# Iterate through the data to calculate cumulative heat load correctly\n",
    "for i in range(1, len(data)):\n",
    "    previous_cumulative = data.at[i-1, 'CumulativeHeatLoad']\n",
    "    current_heat_load = data.at[i, 'HeatLoad']\n",
    "    if previous_cumulative + current_heat_load > 0:\n",
    "        data.at[i, 'CumulativeHeatLoad'] = previous_cumulative + current_heat_load\n",
    "    else:\n",
    "        data.at[i, 'CumulativeHeatLoad'] = 0.0  # Ensure float is maintained\n",
    "\n",
    "data.head(-5)"
   ]
  },
  {
   "cell_type": "code",
   "execution_count": 32,
   "metadata": {},
   "outputs": [
    {
     "data": {
      "text/html": [
       "<div>\n",
       "<style scoped>\n",
       "    .dataframe tbody tr th:only-of-type {\n",
       "        vertical-align: middle;\n",
       "    }\n",
       "\n",
       "    .dataframe tbody tr th {\n",
       "        vertical-align: top;\n",
       "    }\n",
       "\n",
       "    .dataframe thead th {\n",
       "        text-align: right;\n",
       "    }\n",
       "</style>\n",
       "<table border=\"1\" class=\"dataframe\">\n",
       "  <thead>\n",
       "    <tr style=\"text-align: right;\">\n",
       "      <th></th>\n",
       "      <th>FarmName_Pseudo</th>\n",
       "      <th>SE_Number</th>\n",
       "      <th>AnimalNumber</th>\n",
       "      <th>StartDate</th>\n",
       "      <th>StartTime</th>\n",
       "      <th>LactationNumber</th>\n",
       "      <th>DaysInMilk</th>\n",
       "      <th>TotalYield</th>\n",
       "      <th>DateTime</th>\n",
       "      <th>YearSeason</th>\n",
       "      <th>...</th>\n",
       "      <th>Temperature</th>\n",
       "      <th>RelativeHumidity</th>\n",
       "      <th>THI_adj</th>\n",
       "      <th>HW</th>\n",
       "      <th>cum_HW</th>\n",
       "      <th>Temp15Threshold</th>\n",
       "      <th>Age</th>\n",
       "      <th>HeatLoad</th>\n",
       "      <th>CumulativeHeatLoad</th>\n",
       "      <th>HeatStress</th>\n",
       "    </tr>\n",
       "  </thead>\n",
       "  <tbody>\n",
       "    <tr>\n",
       "      <th>0</th>\n",
       "      <td>a624fb9a</td>\n",
       "      <td>SE-064c0cec-1189</td>\n",
       "      <td>5189</td>\n",
       "      <td>2022-01-01</td>\n",
       "      <td>06:25:00</td>\n",
       "      <td>7</td>\n",
       "      <td>191</td>\n",
       "      <td>13.90</td>\n",
       "      <td>2022-01-01 06:25:00</td>\n",
       "      <td>2022-1</td>\n",
       "      <td>...</td>\n",
       "      <td>-3.025000</td>\n",
       "      <td>0.930917</td>\n",
       "      <td>28.012944</td>\n",
       "      <td>0</td>\n",
       "      <td>0</td>\n",
       "      <td>0</td>\n",
       "      <td>3095</td>\n",
       "      <td>-32.987056</td>\n",
       "      <td>0.000000</td>\n",
       "      <td>0</td>\n",
       "    </tr>\n",
       "    <tr>\n",
       "      <th>1</th>\n",
       "      <td>a624fb9a</td>\n",
       "      <td>SE-064c0cec-1189</td>\n",
       "      <td>5189</td>\n",
       "      <td>2022-01-01</td>\n",
       "      <td>16:41:00</td>\n",
       "      <td>7</td>\n",
       "      <td>191</td>\n",
       "      <td>16.87</td>\n",
       "      <td>2022-01-01 16:41:00</td>\n",
       "      <td>2022-1</td>\n",
       "      <td>...</td>\n",
       "      <td>-3.025000</td>\n",
       "      <td>0.930917</td>\n",
       "      <td>28.012944</td>\n",
       "      <td>0</td>\n",
       "      <td>0</td>\n",
       "      <td>0</td>\n",
       "      <td>3095</td>\n",
       "      <td>-32.987056</td>\n",
       "      <td>0.000000</td>\n",
       "      <td>0</td>\n",
       "    </tr>\n",
       "    <tr>\n",
       "      <th>2</th>\n",
       "      <td>a624fb9a</td>\n",
       "      <td>SE-064c0cec-1189</td>\n",
       "      <td>5189</td>\n",
       "      <td>2022-01-02</td>\n",
       "      <td>15:29:00</td>\n",
       "      <td>7</td>\n",
       "      <td>192</td>\n",
       "      <td>20.41</td>\n",
       "      <td>2022-01-02 15:29:00</td>\n",
       "      <td>2022-1</td>\n",
       "      <td>...</td>\n",
       "      <td>-0.279167</td>\n",
       "      <td>0.990542</td>\n",
       "      <td>32.898193</td>\n",
       "      <td>0</td>\n",
       "      <td>0</td>\n",
       "      <td>0</td>\n",
       "      <td>3096</td>\n",
       "      <td>-28.101807</td>\n",
       "      <td>0.000000</td>\n",
       "      <td>0</td>\n",
       "    </tr>\n",
       "    <tr>\n",
       "      <th>3</th>\n",
       "      <td>a624fb9a</td>\n",
       "      <td>SE-064c0cec-1189</td>\n",
       "      <td>5189</td>\n",
       "      <td>2022-01-02</td>\n",
       "      <td>03:31:00</td>\n",
       "      <td>7</td>\n",
       "      <td>192</td>\n",
       "      <td>16.28</td>\n",
       "      <td>2022-01-02 03:31:00</td>\n",
       "      <td>2022-1</td>\n",
       "      <td>...</td>\n",
       "      <td>-0.279167</td>\n",
       "      <td>0.990542</td>\n",
       "      <td>32.898193</td>\n",
       "      <td>0</td>\n",
       "      <td>0</td>\n",
       "      <td>0</td>\n",
       "      <td>3096</td>\n",
       "      <td>-28.101807</td>\n",
       "      <td>0.000000</td>\n",
       "      <td>0</td>\n",
       "    </tr>\n",
       "    <tr>\n",
       "      <th>4</th>\n",
       "      <td>a624fb9a</td>\n",
       "      <td>SE-064c0cec-1189</td>\n",
       "      <td>5189</td>\n",
       "      <td>2022-01-02</td>\n",
       "      <td>22:44:00</td>\n",
       "      <td>7</td>\n",
       "      <td>192</td>\n",
       "      <td>11.53</td>\n",
       "      <td>2022-01-02 22:44:00</td>\n",
       "      <td>2022-1</td>\n",
       "      <td>...</td>\n",
       "      <td>-0.279167</td>\n",
       "      <td>0.990542</td>\n",
       "      <td>32.898193</td>\n",
       "      <td>0</td>\n",
       "      <td>0</td>\n",
       "      <td>0</td>\n",
       "      <td>3096</td>\n",
       "      <td>-28.101807</td>\n",
       "      <td>0.000000</td>\n",
       "      <td>0</td>\n",
       "    </tr>\n",
       "    <tr>\n",
       "      <th>...</th>\n",
       "      <td>...</td>\n",
       "      <td>...</td>\n",
       "      <td>...</td>\n",
       "      <td>...</td>\n",
       "      <td>...</td>\n",
       "      <td>...</td>\n",
       "      <td>...</td>\n",
       "      <td>...</td>\n",
       "      <td>...</td>\n",
       "      <td>...</td>\n",
       "      <td>...</td>\n",
       "      <td>...</td>\n",
       "      <td>...</td>\n",
       "      <td>...</td>\n",
       "      <td>...</td>\n",
       "      <td>...</td>\n",
       "      <td>...</td>\n",
       "      <td>...</td>\n",
       "      <td>...</td>\n",
       "      <td>...</td>\n",
       "      <td>...</td>\n",
       "    </tr>\n",
       "    <tr>\n",
       "      <th>1364930</th>\n",
       "      <td>f454e660</td>\n",
       "      <td>SE-fcdf259d-0044-0</td>\n",
       "      <td>1044</td>\n",
       "      <td>2023-06-07</td>\n",
       "      <td>00:51:00</td>\n",
       "      <td>10</td>\n",
       "      <td>351</td>\n",
       "      <td>5.63</td>\n",
       "      <td>2023-06-07 00:51:00</td>\n",
       "      <td>2023-3</td>\n",
       "      <td>...</td>\n",
       "      <td>15.645833</td>\n",
       "      <td>0.731917</td>\n",
       "      <td>61.559237</td>\n",
       "      <td>0</td>\n",
       "      <td>0</td>\n",
       "      <td>1</td>\n",
       "      <td>4154</td>\n",
       "      <td>0.559237</td>\n",
       "      <td>0.559237</td>\n",
       "      <td>0</td>\n",
       "    </tr>\n",
       "    <tr>\n",
       "      <th>1364931</th>\n",
       "      <td>f454e660</td>\n",
       "      <td>SE-fcdf259d-0044-0</td>\n",
       "      <td>1044</td>\n",
       "      <td>2023-06-07</td>\n",
       "      <td>11:17:00</td>\n",
       "      <td>10</td>\n",
       "      <td>351</td>\n",
       "      <td>3.34</td>\n",
       "      <td>2023-06-07 11:17:00</td>\n",
       "      <td>2023-3</td>\n",
       "      <td>...</td>\n",
       "      <td>15.645833</td>\n",
       "      <td>0.731917</td>\n",
       "      <td>61.559237</td>\n",
       "      <td>0</td>\n",
       "      <td>0</td>\n",
       "      <td>1</td>\n",
       "      <td>4154</td>\n",
       "      <td>0.559237</td>\n",
       "      <td>1.118475</td>\n",
       "      <td>0</td>\n",
       "    </tr>\n",
       "    <tr>\n",
       "      <th>1364932</th>\n",
       "      <td>f454e660</td>\n",
       "      <td>SE-fcdf259d-0044-0</td>\n",
       "      <td>1044</td>\n",
       "      <td>2023-06-08</td>\n",
       "      <td>17:01:00</td>\n",
       "      <td>10</td>\n",
       "      <td>352</td>\n",
       "      <td>6.96</td>\n",
       "      <td>2023-06-08 17:01:00</td>\n",
       "      <td>2023-3</td>\n",
       "      <td>...</td>\n",
       "      <td>15.570833</td>\n",
       "      <td>0.601708</td>\n",
       "      <td>59.383267</td>\n",
       "      <td>0</td>\n",
       "      <td>0</td>\n",
       "      <td>1</td>\n",
       "      <td>4155</td>\n",
       "      <td>-1.616733</td>\n",
       "      <td>0.000000</td>\n",
       "      <td>0</td>\n",
       "    </tr>\n",
       "    <tr>\n",
       "      <th>1364933</th>\n",
       "      <td>f454e660</td>\n",
       "      <td>SE-fcdf259d-0044-0</td>\n",
       "      <td>1044</td>\n",
       "      <td>2023-06-08</td>\n",
       "      <td>02:23:00</td>\n",
       "      <td>10</td>\n",
       "      <td>352</td>\n",
       "      <td>8.18</td>\n",
       "      <td>2023-06-08 02:23:00</td>\n",
       "      <td>2023-3</td>\n",
       "      <td>...</td>\n",
       "      <td>15.570833</td>\n",
       "      <td>0.601708</td>\n",
       "      <td>59.383267</td>\n",
       "      <td>0</td>\n",
       "      <td>0</td>\n",
       "      <td>1</td>\n",
       "      <td>4155</td>\n",
       "      <td>-1.616733</td>\n",
       "      <td>0.000000</td>\n",
       "      <td>0</td>\n",
       "    </tr>\n",
       "    <tr>\n",
       "      <th>1364934</th>\n",
       "      <td>f454e660</td>\n",
       "      <td>SE-fcdf259d-0044-0</td>\n",
       "      <td>1044</td>\n",
       "      <td>2023-06-09</td>\n",
       "      <td>13:08:00</td>\n",
       "      <td>10</td>\n",
       "      <td>353</td>\n",
       "      <td>7.47</td>\n",
       "      <td>2023-06-09 13:08:00</td>\n",
       "      <td>2023-3</td>\n",
       "      <td>...</td>\n",
       "      <td>13.254167</td>\n",
       "      <td>0.518083</td>\n",
       "      <td>54.534255</td>\n",
       "      <td>0</td>\n",
       "      <td>0</td>\n",
       "      <td>1</td>\n",
       "      <td>4156</td>\n",
       "      <td>-6.465745</td>\n",
       "      <td>0.000000</td>\n",
       "      <td>0</td>\n",
       "    </tr>\n",
       "  </tbody>\n",
       "</table>\n",
       "<p>1364935 rows × 24 columns</p>\n",
       "</div>"
      ],
      "text/plain": [
       "        FarmName_Pseudo           SE_Number  AnimalNumber  StartDate  \\\n",
       "0              a624fb9a    SE-064c0cec-1189          5189 2022-01-01   \n",
       "1              a624fb9a    SE-064c0cec-1189          5189 2022-01-01   \n",
       "2              a624fb9a    SE-064c0cec-1189          5189 2022-01-02   \n",
       "3              a624fb9a    SE-064c0cec-1189          5189 2022-01-02   \n",
       "4              a624fb9a    SE-064c0cec-1189          5189 2022-01-02   \n",
       "...                 ...                 ...           ...        ...   \n",
       "1364930        f454e660  SE-fcdf259d-0044-0          1044 2023-06-07   \n",
       "1364931        f454e660  SE-fcdf259d-0044-0          1044 2023-06-07   \n",
       "1364932        f454e660  SE-fcdf259d-0044-0          1044 2023-06-08   \n",
       "1364933        f454e660  SE-fcdf259d-0044-0          1044 2023-06-08   \n",
       "1364934        f454e660  SE-fcdf259d-0044-0          1044 2023-06-09   \n",
       "\n",
       "        StartTime  LactationNumber  DaysInMilk  TotalYield  \\\n",
       "0        06:25:00                7         191       13.90   \n",
       "1        16:41:00                7         191       16.87   \n",
       "2        15:29:00                7         192       20.41   \n",
       "3        03:31:00                7         192       16.28   \n",
       "4        22:44:00                7         192       11.53   \n",
       "...           ...              ...         ...         ...   \n",
       "1364930  00:51:00               10         351        5.63   \n",
       "1364931  11:17:00               10         351        3.34   \n",
       "1364932  17:01:00               10         352        6.96   \n",
       "1364933  02:23:00               10         352        8.18   \n",
       "1364934  13:08:00               10         353        7.47   \n",
       "\n",
       "                   DateTime YearSeason  ... Temperature RelativeHumidity  \\\n",
       "0       2022-01-01 06:25:00     2022-1  ...   -3.025000         0.930917   \n",
       "1       2022-01-01 16:41:00     2022-1  ...   -3.025000         0.930917   \n",
       "2       2022-01-02 15:29:00     2022-1  ...   -0.279167         0.990542   \n",
       "3       2022-01-02 03:31:00     2022-1  ...   -0.279167         0.990542   \n",
       "4       2022-01-02 22:44:00     2022-1  ...   -0.279167         0.990542   \n",
       "...                     ...        ...  ...         ...              ...   \n",
       "1364930 2023-06-07 00:51:00     2023-3  ...   15.645833         0.731917   \n",
       "1364931 2023-06-07 11:17:00     2023-3  ...   15.645833         0.731917   \n",
       "1364932 2023-06-08 17:01:00     2023-3  ...   15.570833         0.601708   \n",
       "1364933 2023-06-08 02:23:00     2023-3  ...   15.570833         0.601708   \n",
       "1364934 2023-06-09 13:08:00     2023-3  ...   13.254167         0.518083   \n",
       "\n",
       "           THI_adj HW  cum_HW  Temp15Threshold   Age   HeatLoad  \\\n",
       "0        28.012944  0       0                0  3095 -32.987056   \n",
       "1        28.012944  0       0                0  3095 -32.987056   \n",
       "2        32.898193  0       0                0  3096 -28.101807   \n",
       "3        32.898193  0       0                0  3096 -28.101807   \n",
       "4        32.898193  0       0                0  3096 -28.101807   \n",
       "...            ... ..     ...              ...   ...        ...   \n",
       "1364930  61.559237  0       0                1  4154   0.559237   \n",
       "1364931  61.559237  0       0                1  4154   0.559237   \n",
       "1364932  59.383267  0       0                1  4155  -1.616733   \n",
       "1364933  59.383267  0       0                1  4155  -1.616733   \n",
       "1364934  54.534255  0       0                1  4156  -6.465745   \n",
       "\n",
       "         CumulativeHeatLoad  HeatStress  \n",
       "0                  0.000000           0  \n",
       "1                  0.000000           0  \n",
       "2                  0.000000           0  \n",
       "3                  0.000000           0  \n",
       "4                  0.000000           0  \n",
       "...                     ...         ...  \n",
       "1364930            0.559237           0  \n",
       "1364931            1.118475           0  \n",
       "1364932            0.000000           0  \n",
       "1364933            0.000000           0  \n",
       "1364934            0.000000           0  \n",
       "\n",
       "[1364935 rows x 24 columns]"
      ]
     },
     "execution_count": 32,
     "metadata": {},
     "output_type": "execute_result"
    }
   ],
   "source": [
    "# When CumulativeHeatLoad is greater than 5, it indicates that the cow is under heat stress\n",
    "data['HeatStress'] = (data['CumulativeHeatLoad'] > 5).astype(int)\n",
    "data.head(-5)"
   ]
  },
  {
   "cell_type": "code",
   "execution_count": 33,
   "metadata": {},
   "outputs": [
    {
     "data": {
      "text/html": [
       "<div>\n",
       "<style scoped>\n",
       "    .dataframe tbody tr th:only-of-type {\n",
       "        vertical-align: middle;\n",
       "    }\n",
       "\n",
       "    .dataframe tbody tr th {\n",
       "        vertical-align: top;\n",
       "    }\n",
       "\n",
       "    .dataframe thead th {\n",
       "        text-align: right;\n",
       "    }\n",
       "</style>\n",
       "<table border=\"1\" class=\"dataframe\">\n",
       "  <thead>\n",
       "    <tr style=\"text-align: right;\">\n",
       "      <th></th>\n",
       "      <th>SE_Number</th>\n",
       "      <th>FarmName_Pseudo</th>\n",
       "      <th>Date</th>\n",
       "      <th>DailyYield</th>\n",
       "      <th>PreviousDailyYield</th>\n",
       "      <th>DailyYieldChange</th>\n",
       "      <th>HW</th>\n",
       "      <th>MeanTemperature</th>\n",
       "      <th>MeanTHI_adj</th>\n",
       "      <th>DaysInMilk</th>\n",
       "      <th>YearSeason</th>\n",
       "      <th>cum_HW</th>\n",
       "      <th>Temp15Threshold</th>\n",
       "      <th>Age</th>\n",
       "      <th>BreedName</th>\n",
       "      <th>LactationNumber</th>\n",
       "      <th>HeatLoad</th>\n",
       "      <th>CumulativeHeatLoad</th>\n",
       "      <th>HeatStress</th>\n",
       "    </tr>\n",
       "  </thead>\n",
       "  <tbody>\n",
       "    <tr>\n",
       "      <th>0</th>\n",
       "      <td>SE-064c0cec-1189</td>\n",
       "      <td>a624fb9a</td>\n",
       "      <td>2022-01-01</td>\n",
       "      <td>30.77</td>\n",
       "      <td>30.77</td>\n",
       "      <td>0.00</td>\n",
       "      <td>0</td>\n",
       "      <td>-3.025000</td>\n",
       "      <td>28.012944</td>\n",
       "      <td>191</td>\n",
       "      <td>2022-1</td>\n",
       "      <td>0</td>\n",
       "      <td>0</td>\n",
       "      <td>3095</td>\n",
       "      <td>02 SLB</td>\n",
       "      <td>7</td>\n",
       "      <td>-32.987056</td>\n",
       "      <td>0.0</td>\n",
       "      <td>0</td>\n",
       "    </tr>\n",
       "    <tr>\n",
       "      <th>1</th>\n",
       "      <td>SE-064c0cec-1189</td>\n",
       "      <td>a624fb9a</td>\n",
       "      <td>2022-01-02</td>\n",
       "      <td>48.22</td>\n",
       "      <td>30.77</td>\n",
       "      <td>17.45</td>\n",
       "      <td>0</td>\n",
       "      <td>-0.279167</td>\n",
       "      <td>32.898193</td>\n",
       "      <td>192</td>\n",
       "      <td>2022-1</td>\n",
       "      <td>0</td>\n",
       "      <td>0</td>\n",
       "      <td>3096</td>\n",
       "      <td>02 SLB</td>\n",
       "      <td>7</td>\n",
       "      <td>-28.101807</td>\n",
       "      <td>0.0</td>\n",
       "      <td>0</td>\n",
       "    </tr>\n",
       "    <tr>\n",
       "      <th>2</th>\n",
       "      <td>SE-064c0cec-1189</td>\n",
       "      <td>a624fb9a</td>\n",
       "      <td>2022-01-03</td>\n",
       "      <td>30.53</td>\n",
       "      <td>48.22</td>\n",
       "      <td>-17.69</td>\n",
       "      <td>0</td>\n",
       "      <td>2.033333</td>\n",
       "      <td>36.760487</td>\n",
       "      <td>193</td>\n",
       "      <td>2022-1</td>\n",
       "      <td>0</td>\n",
       "      <td>0</td>\n",
       "      <td>3097</td>\n",
       "      <td>02 SLB</td>\n",
       "      <td>7</td>\n",
       "      <td>-24.239513</td>\n",
       "      <td>0.0</td>\n",
       "      <td>0</td>\n",
       "    </tr>\n",
       "    <tr>\n",
       "      <th>3</th>\n",
       "      <td>SE-064c0cec-1189</td>\n",
       "      <td>a624fb9a</td>\n",
       "      <td>2022-01-04</td>\n",
       "      <td>42.26</td>\n",
       "      <td>30.53</td>\n",
       "      <td>11.73</td>\n",
       "      <td>0</td>\n",
       "      <td>0.066667</td>\n",
       "      <td>31.939524</td>\n",
       "      <td>194</td>\n",
       "      <td>2022-1</td>\n",
       "      <td>0</td>\n",
       "      <td>0</td>\n",
       "      <td>3098</td>\n",
       "      <td>02 SLB</td>\n",
       "      <td>7</td>\n",
       "      <td>-29.060476</td>\n",
       "      <td>0.0</td>\n",
       "      <td>0</td>\n",
       "    </tr>\n",
       "    <tr>\n",
       "      <th>4</th>\n",
       "      <td>SE-064c0cec-1189</td>\n",
       "      <td>a624fb9a</td>\n",
       "      <td>2022-01-05</td>\n",
       "      <td>38.49</td>\n",
       "      <td>42.26</td>\n",
       "      <td>-3.77</td>\n",
       "      <td>0</td>\n",
       "      <td>-3.700000</td>\n",
       "      <td>26.498206</td>\n",
       "      <td>195</td>\n",
       "      <td>2022-1</td>\n",
       "      <td>0</td>\n",
       "      <td>0</td>\n",
       "      <td>3099</td>\n",
       "      <td>02 SLB</td>\n",
       "      <td>7</td>\n",
       "      <td>-34.501794</td>\n",
       "      <td>0.0</td>\n",
       "      <td>0</td>\n",
       "    </tr>\n",
       "  </tbody>\n",
       "</table>\n",
       "</div>"
      ],
      "text/plain": [
       "          SE_Number FarmName_Pseudo       Date  DailyYield  \\\n",
       "0  SE-064c0cec-1189        a624fb9a 2022-01-01       30.77   \n",
       "1  SE-064c0cec-1189        a624fb9a 2022-01-02       48.22   \n",
       "2  SE-064c0cec-1189        a624fb9a 2022-01-03       30.53   \n",
       "3  SE-064c0cec-1189        a624fb9a 2022-01-04       42.26   \n",
       "4  SE-064c0cec-1189        a624fb9a 2022-01-05       38.49   \n",
       "\n",
       "   PreviousDailyYield  DailyYieldChange  HW  MeanTemperature  MeanTHI_adj  \\\n",
       "0               30.77              0.00   0        -3.025000    28.012944   \n",
       "1               30.77             17.45   0        -0.279167    32.898193   \n",
       "2               48.22            -17.69   0         2.033333    36.760487   \n",
       "3               30.53             11.73   0         0.066667    31.939524   \n",
       "4               42.26             -3.77   0        -3.700000    26.498206   \n",
       "\n",
       "   DaysInMilk YearSeason  cum_HW  Temp15Threshold   Age BreedName  \\\n",
       "0         191     2022-1       0                0  3095    02 SLB   \n",
       "1         192     2022-1       0                0  3096    02 SLB   \n",
       "2         193     2022-1       0                0  3097    02 SLB   \n",
       "3         194     2022-1       0                0  3098    02 SLB   \n",
       "4         195     2022-1       0                0  3099    02 SLB   \n",
       "\n",
       "   LactationNumber   HeatLoad  CumulativeHeatLoad  HeatStress  \n",
       "0                7 -32.987056                 0.0           0  \n",
       "1                7 -28.101807                 0.0           0  \n",
       "2                7 -24.239513                 0.0           0  \n",
       "3                7 -29.060476                 0.0           0  \n",
       "4                7 -34.501794                 0.0           0  "
      ]
     },
     "execution_count": 33,
     "metadata": {},
     "output_type": "execute_result"
    }
   ],
   "source": [
    "# Calculate the DailyYield for each cow each day\n",
    "data['DailyYield'] = data.groupby(['SE_Number', 'StartDate'])['TotalYield'].transform('sum')\n",
    "\n",
    "# Sort the data by AnimalNumber and StartDate\n",
    "data.sort_values(['AnimalNumber', 'StartDate'], inplace=True)\n",
    "\n",
    "# Calculate the previous day's total yield for each cow\n",
    "data['PreviousDailyYield'] = data.groupby('AnimalNumber')['DailyYield'].shift(1)\n",
    "\n",
    "# Calculate the daily yield change for each cow\n",
    "data['DailyYieldChange'] = data['DailyYield'] - data['PreviousDailyYield']\n",
    "\n",
    "# Group and aggregate data\n",
    "data = data.groupby(['SE_Number', 'FarmName_Pseudo', 'StartDate']).agg({\n",
    "    'DailyYield': 'first',\n",
    "    'PreviousDailyYield': 'first',\n",
    "    'DailyYieldChange': 'first',\n",
    "    'HW': 'max',\n",
    "    'Temperature': 'mean',\n",
    "    'THI_adj': 'mean',\n",
    "    'DaysInMilk': 'first',\n",
    "    'YearSeason': 'first',\n",
    "    'cum_HW': 'max',\n",
    "    'Temp15Threshold': 'max',\n",
    "    'Age': 'first',\n",
    "    'BreedName': 'first',\n",
    "    'LactationNumber': 'first',\n",
    "    'HeatLoad': 'mean',\n",
    "    'CumulativeHeatLoad': 'mean',\n",
    "    'HeatStress': 'max'\n",
    "}).reset_index()\n",
    "\n",
    "# Renaming and formatting\n",
    "data.rename(columns={\n",
    "    'Temperature': 'MeanTemperature',\n",
    "    'THI_adj': 'MeanTHI_adj',\n",
    "    'StartDate': 'Date'\n",
    "}, inplace=True)\n",
    "data['Date'] = pd.to_datetime(data['Date'])\n",
    "\n",
    "# Display the first few rows of the transformed data\n",
    "data.head()"
   ]
  },
  {
   "cell_type": "code",
   "execution_count": 34,
   "metadata": {},
   "outputs": [
    {
     "name": "stdout",
     "output_type": "stream",
     "text": [
      "Mean of DailyYield: FarmName_Pseudo\n",
      "5c06d92d    37.389675\n",
      "752efd72    31.151716\n",
      "a624fb9a    33.413694\n",
      "f454e660    30.485127\n",
      "Name: DailyYield, dtype: float64\n",
      "Standard Deviation of DailyYield: FarmName_Pseudo\n",
      "5c06d92d     9.960240\n",
      "752efd72     7.799288\n",
      "a624fb9a    11.050811\n",
      "f454e660    11.833056\n",
      "Name: DailyYield, dtype: float64\n"
     ]
    }
   ],
   "source": [
    "# Check if DailyYield is centered around approx the same for each farm\n",
    "print(\"Mean of DailyYield:\", data.groupby('FarmName_Pseudo')['DailyYield'].mean())\n",
    "print(\"Standard Deviation of DailyYield:\", data.groupby('FarmName_Pseudo')['DailyYield'].std())"
   ]
  },
  {
   "cell_type": "code",
   "execution_count": 35,
   "metadata": {},
   "outputs": [
    {
     "name": "stderr",
     "output_type": "stream",
     "text": [
      "  0%|          | 0/2315 [00:00<?, ? Segments/s]/Users/user/anaconda3/envs/GIGACOW/lib/python3.11/site-packages/torch/optim/lr_scheduler.py:60: UserWarning: The verbose parameter is deprecated. Please use get_last_lr() to access the learning rate.\n",
      "  warnings.warn(\n",
      "  0%|          | 1/2315 [00:00<15:44,  2.45 Segments/s]"
     ]
    },
    {
     "name": "stdout",
     "output_type": "stream",
     "text": [
      "all_quantiles shape: (88, 1, 50)\n",
      "all_quantiles content: [[[31.325445 31.325445 32.783497 ... 39.182472 39.362144 39.488407]]\n",
      "\n",
      " [[31.214529 31.214529 32.6622   ... 39.056587 39.236065 39.36138 ]]\n",
      "\n",
      " [[31.10361  31.10361  32.540894 ... 38.93051  39.109802 39.234543]]\n",
      "\n",
      " ...\n",
      "\n",
      " [[21.897303 21.897303 22.473217 ... 28.48501  28.630445 28.701971]]\n",
      "\n",
      " [[21.675467 21.675467 22.230625 ... 28.233337 28.377913 28.4482  ]]\n",
      "\n",
      " [[21.453619 21.453619 21.988035 ... 27.981565 28.125477 28.19433 ]]]\n",
      "all_quantiles after squeezing shape: (88, 50)\n",
      "Error with cow SE-064c0cec-1189, lactation 7: too many values to unpack (expected 2)\n"
     ]
    },
    {
     "name": "stderr",
     "output_type": "stream",
     "text": [
      "/Users/user/anaconda3/envs/GIGACOW/lib/python3.11/site-packages/torch/optim/lr_scheduler.py:60: UserWarning: The verbose parameter is deprecated. Please use get_last_lr() to access the learning rate.\n",
      "  warnings.warn(\n",
      "  0%|          | 2/2315 [00:00<14:51,  2.59 Segments/s]"
     ]
    },
    {
     "name": "stdout",
     "output_type": "stream",
     "text": [
      "all_quantiles shape: (207, 1, 50)\n",
      "all_quantiles content: [[[18.076801 18.076801 22.384094 ... 43.85242  44.145966 44.439507]]\n",
      "\n",
      " [[18.096209 18.096209 22.386694 ... 43.769264 44.061466 44.353867]]\n",
      "\n",
      " [[18.115604 18.115604 22.389294 ... 43.686485 43.976974 44.268036]]\n",
      "\n",
      " ...\n",
      "\n",
      " [[22.035818 22.035818 22.913551 ... 26.916216 26.921558 26.942825]]\n",
      "\n",
      " [[22.055225 22.055225 22.91615  ... 26.833248 26.837156 26.856995]]\n",
      "\n",
      " [[22.074627 22.074627 22.918747 ... 26.750183 26.752758 26.77126 ]]]\n",
      "all_quantiles after squeezing shape: (207, 50)\n",
      "Error with cow SE-064c0cec-1189, lactation 8: too many values to unpack (expected 2)\n"
     ]
    },
    {
     "name": "stderr",
     "output_type": "stream",
     "text": [
      "/Users/user/anaconda3/envs/GIGACOW/lib/python3.11/site-packages/torch/optim/lr_scheduler.py:60: UserWarning: The verbose parameter is deprecated. Please use get_last_lr() to access the learning rate.\n",
      "  warnings.warn(\n",
      "  0%|          | 3/2315 [00:01<12:43,  3.03 Segments/s]"
     ]
    },
    {
     "name": "stdout",
     "output_type": "stream",
     "text": [
      "all_quantiles shape: (34, 1, 50)\n",
      "all_quantiles content: [[[27.102274 27.102274 27.239315 ... 32.66697  32.667255 32.667732]]\n",
      "\n",
      " [[26.722378 26.722378 26.85697  ... 32.302666 32.308388 32.313538]]\n",
      "\n",
      " [[26.342476 26.342476 26.474625 ... 31.938457 31.949423 31.959343]]\n",
      "\n",
      " ...\n",
      "\n",
      " [[14.945447 14.945447 15.004241 ... 21.012686 21.181679 21.33274 ]]\n",
      "\n",
      " [[14.185656 14.185656 14.239537 ... 20.284271 20.463848 20.624254]]\n",
      "\n",
      " [[14.185656 14.185656 14.239537 ... 20.284271 20.463848 20.624254]]]\n",
      "all_quantiles after squeezing shape: (34, 50)\n",
      "Error with cow SE-30dc5787-1389, lactation 5: too many values to unpack (expected 2)\n"
     ]
    },
    {
     "name": "stderr",
     "output_type": "stream",
     "text": [
      "/Users/user/anaconda3/envs/GIGACOW/lib/python3.11/site-packages/torch/optim/lr_scheduler.py:60: UserWarning: The verbose parameter is deprecated. Please use get_last_lr() to access the learning rate.\n",
      "  warnings.warn(\n",
      "  0%|          | 4/2315 [00:01<13:56,  2.76 Segments/s]"
     ]
    },
    {
     "name": "stdout",
     "output_type": "stream",
     "text": [
      "all_quantiles shape: (327, 1, 50)\n",
      "all_quantiles content: [[[32.56967  32.56967  34.89325  ... 55.426025 55.902287 56.733704]]\n",
      "\n",
      " [[32.53589  32.53589  34.856926 ... 55.3545   55.829998 56.659695]]\n",
      "\n",
      " [[32.5021   32.5021   34.82058  ... 55.282974 55.7579   56.585693]]\n",
      "\n",
      " ...\n",
      "\n",
      " [[21.589016 21.589016 23.084806 ... 32.17449  32.424355 32.669067]]\n",
      "\n",
      " [[21.52145  21.52145  23.012138 ... 32.03125  32.279873 32.521152]]\n",
      "\n",
      " [[21.453856 21.453856 22.939478 ... 31.888199 32.13539  32.373047]]]\n",
      "all_quantiles after squeezing shape: (327, 50)\n",
      "Error with cow SE-30dc5787-1389, lactation 6: too many values to unpack (expected 2)\n"
     ]
    },
    {
     "name": "stderr",
     "output_type": "stream",
     "text": [
      "/Users/user/anaconda3/envs/GIGACOW/lib/python3.11/site-packages/torch/optim/lr_scheduler.py:60: UserWarning: The verbose parameter is deprecated. Please use get_last_lr() to access the learning rate.\n",
      "  warnings.warn(\n",
      "  0%|          | 5/2315 [00:01<14:29,  2.66 Segments/s]"
     ]
    },
    {
     "name": "stdout",
     "output_type": "stream",
     "text": [
      "all_quantiles shape: (171, 1, 50)\n",
      "all_quantiles content: [[[20.528555 20.528555 24.961926 ... 53.276062 53.622814 54.43687 ]]\n",
      "\n",
      " [[20.594574 20.594574 25.000738 ... 53.16696  53.51257  54.32758 ]]\n",
      "\n",
      " [[20.660566 20.660566 25.03953  ... 53.05767  53.402325 54.218098]]\n",
      "\n",
      " ...\n",
      "\n",
      " [[31.619286 31.619286 31.481028 ... 34.9226   35.11467  36.060143]]\n",
      "\n",
      " [[31.685291 31.685291 31.51983  ... 34.81331  35.004425 35.95066 ]]\n",
      "\n",
      " [[31.751299 31.751299 31.558632 ... 34.70421  34.89418  35.84137 ]]]\n",
      "all_quantiles after squeezing shape: (171, 50)\n",
      "Error with cow SE-30dc5787-1389, lactation 7: too many values to unpack (expected 2)\n"
     ]
    },
    {
     "name": "stderr",
     "output_type": "stream",
     "text": [
      "/Users/user/anaconda3/envs/GIGACOW/lib/python3.11/site-packages/torch/optim/lr_scheduler.py:60: UserWarning: The verbose parameter is deprecated. Please use get_last_lr() to access the learning rate.\n",
      "  warnings.warn(\n",
      "  0%|          | 6/2315 [00:02<14:17,  2.69 Segments/s]"
     ]
    },
    {
     "name": "stdout",
     "output_type": "stream",
     "text": [
      "all_quantiles shape: (194, 1, 50)\n",
      "all_quantiles content: [[[24.17687  24.17687  24.758314 ... 37.757492 38.23805  40.44752 ]]\n",
      "\n",
      " [[24.106133 24.106133 24.696196 ... 37.69455  38.172913 40.368553]]\n",
      "\n",
      " [[24.035395 24.035395 24.634073 ... 37.631702 38.107777 40.289593]]\n",
      "\n",
      " ...\n",
      "\n",
      " [[11.373174 11.373174 13.515795 ... 26.380634 26.439953 26.157475]]\n",
      "\n",
      " [[11.373174 11.373174 13.515795 ... 26.380634 26.439953 26.157475]]\n",
      "\n",
      " [[11.373174 11.373174 13.515795 ... 26.380634 26.439953 26.157475]]]\n",
      "all_quantiles after squeezing shape: (194, 50)\n",
      "Error with cow SE-30dc5787-1396, lactation 5: too many values to unpack (expected 2)\n"
     ]
    },
    {
     "name": "stderr",
     "output_type": "stream",
     "text": [
      "/Users/user/anaconda3/envs/GIGACOW/lib/python3.11/site-packages/torch/optim/lr_scheduler.py:60: UserWarning: The verbose parameter is deprecated. Please use get_last_lr() to access the learning rate.\n",
      "  warnings.warn(\n",
      "  0%|          | 7/2315 [00:02<14:30,  2.65 Segments/s]"
     ]
    },
    {
     "name": "stdout",
     "output_type": "stream",
     "text": [
      "all_quantiles shape: (348, 1, 50)\n",
      "all_quantiles content: [[[22.353088 22.353088 29.986929 ... 59.620663 60.16674  60.49671 ]]\n",
      "\n",
      " [[22.346935 22.346935 29.96063  ... 59.542656 60.088154 60.419273]]\n",
      "\n",
      " [[22.340761 22.340761 29.934359 ... 59.464645 60.009766 60.34164 ]]\n",
      "\n",
      " ...\n",
      "\n",
      " [[20.219433 20.219433 20.893072 ... 32.59468  33.00991  33.711243]]\n",
      "\n",
      " [[20.213268 20.213268 20.866787 ... 32.516575 32.931328 33.633804]]\n",
      "\n",
      " [[20.207106 20.207106 20.840502 ... 32.43847  32.852745 33.55646 ]]]\n",
      "all_quantiles after squeezing shape: (348, 50)\n",
      "Error with cow SE-30dc5787-1396, lactation 6: too many values to unpack (expected 2)\n"
     ]
    },
    {
     "name": "stderr",
     "output_type": "stream",
     "text": [
      "/Users/user/anaconda3/envs/GIGACOW/lib/python3.11/site-packages/torch/optim/lr_scheduler.py:60: UserWarning: The verbose parameter is deprecated. Please use get_last_lr() to access the learning rate.\n",
      "  warnings.warn(\n",
      "  0%|          | 8/2315 [00:02<14:16,  2.69 Segments/s]"
     ]
    },
    {
     "name": "stdout",
     "output_type": "stream",
     "text": [
      "all_quantiles shape: (201, 1, 50)\n",
      "all_quantiles content: [[[19.07513   19.07513   20.596468  ... 42.4345    42.63687   43.390465 ]]\n",
      "\n",
      " [[19.036518  19.036518  20.566858  ... 42.421146  42.6239    43.3733   ]]\n",
      "\n",
      " [[18.997908  18.997908  20.537258  ... 42.407795  42.61093   43.355938 ]]\n",
      "\n",
      " ...\n",
      "\n",
      " [[11.429571  11.429571  14.733624  ... 39.78691   40.07244   39.958763 ]]\n",
      "\n",
      " [[11.390971  11.390971  14.704013  ... 39.77337   40.05947   39.941402 ]]\n",
      "\n",
      " [[11.3137245 11.3137245 14.644814  ... 39.746853  40.03334   39.906693 ]]]\n",
      "all_quantiles after squeezing shape: (201, 50)\n",
      "Error with cow SE-30dc5787-1402, lactation 5: too many values to unpack (expected 2)\n"
     ]
    },
    {
     "name": "stderr",
     "output_type": "stream",
     "text": [
      "/Users/user/anaconda3/envs/GIGACOW/lib/python3.11/site-packages/torch/optim/lr_scheduler.py:60: UserWarning: The verbose parameter is deprecated. Please use get_last_lr() to access the learning rate.\n",
      "  warnings.warn(\n",
      "  0%|          | 9/2315 [00:03<14:23,  2.67 Segments/s]"
     ]
    },
    {
     "name": "stdout",
     "output_type": "stream",
     "text": [
      "all_quantiles shape: (265, 1, 50)\n",
      "all_quantiles content: [[[36.432625 36.432625 36.469376 ... 43.27793  43.369675 43.404385]]\n",
      "\n",
      " [[36.319847 36.319847 36.359386 ... 43.168068 43.26038  43.29624 ]]\n",
      "\n",
      " [[36.20707  36.20707  36.24939  ... 43.058395 43.150898 43.187714]]\n",
      "\n",
      " ...\n",
      "\n",
      " [[18.049896 18.049896 18.540882 ... 25.382423 25.559614 25.736618]]\n",
      "\n",
      " [[18.049896 18.049896 18.540882 ... 25.382423 25.559614 25.736618]]\n",
      "\n",
      " [[18.049896 18.049896 18.540882 ... 25.382423 25.559614 25.736618]]]\n",
      "all_quantiles after squeezing shape: (265, 50)\n",
      "Error with cow SE-5c06d92d-2000, lactation 8: too many values to unpack (expected 2)\n"
     ]
    },
    {
     "name": "stderr",
     "output_type": "stream",
     "text": [
      "/Users/user/anaconda3/envs/GIGACOW/lib/python3.11/site-packages/torch/optim/lr_scheduler.py:60: UserWarning: The verbose parameter is deprecated. Please use get_last_lr() to access the learning rate.\n",
      "  warnings.warn(\n",
      "  0%|          | 10/2315 [00:03<14:26,  2.66 Segments/s]"
     ]
    },
    {
     "name": "stdout",
     "output_type": "stream",
     "text": [
      "all_quantiles shape: (292, 1, 50)\n",
      "all_quantiles content: [[[45.31146  45.31146  47.078465 ... 55.37662  54.73823  53.999325]]\n",
      "\n",
      " [[45.200546 45.200546 46.96455  ... 55.314632 54.68616  53.957176]]\n",
      "\n",
      " [[45.089645 45.089645 46.85061  ... 55.252834 54.6339   53.914833]]\n",
      "\n",
      " ...\n",
      "\n",
      " [[13.148451 13.148451 14.039015 ... 37.43429  39.602375 41.748238]]\n",
      "\n",
      " [[13.037539 13.037539 13.925076 ... 37.3724   39.55021  41.70589 ]]\n",
      "\n",
      " [[12.926626 12.926626 13.811135 ... 37.3106   39.497944 41.66374 ]]]\n",
      "all_quantiles after squeezing shape: (292, 50)\n",
      "Error with cow SE-5c06d92d-2016, lactation 8: too many values to unpack (expected 2)\n"
     ]
    },
    {
     "name": "stderr",
     "output_type": "stream",
     "text": [
      "/Users/user/anaconda3/envs/GIGACOW/lib/python3.11/site-packages/torch/optim/lr_scheduler.py:60: UserWarning: The verbose parameter is deprecated. Please use get_last_lr() to access the learning rate.\n",
      "  warnings.warn(\n",
      "  0%|          | 11/2315 [00:04<14:09,  2.71 Segments/s]"
     ]
    },
    {
     "name": "stdout",
     "output_type": "stream",
     "text": [
      "all_quantiles shape: (174, 1, 50)\n",
      "all_quantiles content: [[[45.604713 45.604713 47.838696 ... 52.41928  52.405357 52.383804]]\n",
      "\n",
      " [[45.465557 45.465557 47.702663 ... 52.319904 52.308655 52.291676]]\n",
      "\n",
      " [[45.326385 45.326385 47.566624 ... 52.22034  52.212143 52.199364]]\n",
      "\n",
      " ...\n",
      "\n",
      " [[21.80729  21.80729  24.576616 ... 35.40125  35.889244 36.629868]]\n",
      "\n",
      " [[21.6681   21.6681   24.440598 ... 35.30178  35.79254  36.53755 ]]\n",
      "\n",
      " [[21.528934 21.528934 24.304556 ... 35.202312 35.69603  36.445427]]]\n",
      "all_quantiles after squeezing shape: (174, 50)\n",
      "Error with cow SE-5c06d92d-2055, lactation 6: too many values to unpack (expected 2)\n"
     ]
    },
    {
     "name": "stderr",
     "output_type": "stream",
     "text": [
      "/Users/user/anaconda3/envs/GIGACOW/lib/python3.11/site-packages/torch/optim/lr_scheduler.py:60: UserWarning: The verbose parameter is deprecated. Please use get_last_lr() to access the learning rate.\n",
      "  warnings.warn(\n",
      "  1%|          | 12/2315 [00:04<14:21,  2.67 Segments/s]"
     ]
    },
    {
     "name": "stdout",
     "output_type": "stream",
     "text": [
      "all_quantiles shape: (371, 1, 50)\n",
      "all_quantiles content: [[[31.813883 31.813883 33.79445  ... 64.96086  66.44764  67.069435]]\n",
      "\n",
      " [[31.813883 31.813883 33.79445  ... 64.96086  66.44764  67.069435]]\n",
      "\n",
      " [[31.779242 31.779242 33.762333 ... 64.87999  66.36467  66.98685 ]]\n",
      "\n",
      " ...\n",
      "\n",
      " [[19.30424  19.30424  22.211216 ... 35.71472  36.48815  37.25071 ]]\n",
      "\n",
      " [[19.30424  19.30424  22.211216 ... 35.71472  36.48815  37.25071 ]]\n",
      "\n",
      " [[19.30424  19.30424  22.211216 ... 35.71472  36.48815  37.25071 ]]]\n",
      "all_quantiles after squeezing shape: (371, 50)\n",
      "Error with cow SE-5c06d92d-2055, lactation 7: too many values to unpack (expected 2)\n"
     ]
    },
    {
     "name": "stderr",
     "output_type": "stream",
     "text": [
      "/Users/user/anaconda3/envs/GIGACOW/lib/python3.11/site-packages/torch/optim/lr_scheduler.py:60: UserWarning: The verbose parameter is deprecated. Please use get_last_lr() to access the learning rate.\n",
      "  warnings.warn(\n",
      "  1%|          | 13/2315 [00:04<14:18,  2.68 Segments/s]"
     ]
    },
    {
     "name": "stdout",
     "output_type": "stream",
     "text": [
      "all_quantiles shape: (214, 1, 50)\n",
      "all_quantiles content: [[[41.878105 41.878105 42.445045 ... 47.151943 47.204777 47.27192 ]]\n",
      "\n",
      " [[41.80134  41.80134  42.367653 ... 47.09396  47.14794  47.216225]]\n",
      "\n",
      " [[41.724567 41.724567 42.29026  ... 47.03617  47.091103 47.160526]]\n",
      "\n",
      " ...\n",
      "\n",
      " [[25.526117 25.526117 25.959349 ... 34.81903  35.11982  35.390854]]\n",
      "\n",
      " [[25.449347 25.449347 25.881947 ... 34.761143 35.063076 35.33497 ]]\n",
      "\n",
      " [[25.449347 25.449347 25.881947 ... 34.761143 35.063076 35.33497 ]]]\n",
      "all_quantiles after squeezing shape: (214, 50)\n",
      "Error with cow SE-5c06d92d-2058, lactation 7: too many values to unpack (expected 2)\n"
     ]
    },
    {
     "name": "stderr",
     "output_type": "stream",
     "text": [
      "/Users/user/anaconda3/envs/GIGACOW/lib/python3.11/site-packages/torch/optim/lr_scheduler.py:60: UserWarning: The verbose parameter is deprecated. Please use get_last_lr() to access the learning rate.\n",
      "  warnings.warn(\n",
      "  1%|          | 14/2315 [00:05<14:26,  2.65 Segments/s]"
     ]
    },
    {
     "name": "stdout",
     "output_type": "stream",
     "text": [
      "all_quantiles shape: (341, 1, 50)\n",
      "all_quantiles content: [[[21.391487 21.391487 32.47814  ... 60.03685  60.24589  60.980797]]\n",
      "\n",
      " [[21.120523 21.120523 33.42738  ... 62.00027  62.17651  62.967678]]\n",
      "\n",
      " [[21.391487 21.391487 32.47814  ... 60.03685  60.24589  60.980797]]\n",
      "\n",
      " ...\n",
      "\n",
      " [[23.340965 23.340965 25.648355 ... 45.908165 46.3562   46.68579 ]]\n",
      "\n",
      " [[23.340965 23.340965 25.648355 ... 45.908165 46.3562   46.68579 ]]\n",
      "\n",
      " [[23.340965 23.340965 25.648355 ... 45.908165 46.3562   46.68579 ]]]\n",
      "all_quantiles after squeezing shape: (341, 50)\n",
      "Error with cow SE-5c06d92d-2058, lactation 8: too many values to unpack (expected 2)\n"
     ]
    },
    {
     "name": "stderr",
     "output_type": "stream",
     "text": [
      "/Users/user/anaconda3/envs/GIGACOW/lib/python3.11/site-packages/torch/optim/lr_scheduler.py:60: UserWarning: The verbose parameter is deprecated. Please use get_last_lr() to access the learning rate.\n",
      "  warnings.warn(\n",
      "  1%|          | 15/2315 [00:05<13:15,  2.89 Segments/s]"
     ]
    },
    {
     "name": "stdout",
     "output_type": "stream",
     "text": [
      "all_quantiles shape: (20, 1, 50)\n",
      "all_quantiles content: [[[20.24157  20.24157  20.266151 20.332314 20.474077 20.674227 20.85576\n",
      "   21.042252 21.35787  21.751451 22.040987 22.215794 22.318363 22.386503\n",
      "   22.44258  22.496605 22.554157 22.622538 22.714615 22.84894  23.0402\n",
      "   23.20261  21.808386 22.095201 22.526217 22.683048 22.757769 22.760439\n",
      "   22.789381 22.85757  22.880459 22.844887 22.762203 22.801876 22.871113\n",
      "   22.912693 22.94941  22.983074 23.009396 23.026466 23.035336 23.03953\n",
      "   23.042297 23.042488 23.038769 23.01941  22.962284 22.85471  22.787762\n",
      "   22.869015]]\n",
      "\n",
      " [[20.24157  20.24157  20.266151 20.332314 20.474077 20.674227 20.85576\n",
      "   21.042252 21.35787  21.751451 22.040987 22.215794 22.318363 22.386503\n",
      "   22.44258  22.496605 22.554157 22.622538 22.714615 22.84894  23.0402\n",
      "   23.20261  21.808386 22.095201 22.526217 22.683048 22.757769 22.760439\n",
      "   22.789381 22.85757  22.880459 22.844887 22.762203 22.801876 22.871113\n",
      "   22.912693 22.94941  22.983074 23.009396 23.026466 23.035336 23.03953\n",
      "   23.042297 23.042488 23.038769 23.01941  22.962284 22.85471  22.787762\n",
      "   22.869015]]\n",
      "\n",
      " [[21.28699  21.28699  21.30983  21.371674 21.505713 21.697474 21.87302\n",
      "   22.052883 22.355364 22.732925 23.008871 23.171043 23.26417  23.32716\n",
      "   23.380804 23.43359  23.490381 23.55795  23.648499 23.779488 23.963165\n",
      "   24.123716 22.976637 23.2965   23.705673 23.854256 23.927498 23.946571\n",
      "   24.004744 24.084187 24.109459 24.083138 24.027348 24.090574 24.16563\n",
      "   24.206543 24.241255 24.273014 24.297998 24.314688 24.323845 24.328897\n",
      "   24.332619 24.334238 24.33195  24.315834 24.265862 24.172113 24.122524\n",
      "   24.215029]]\n",
      "\n",
      " [[22.332428 22.332428 22.353506 22.41101  22.5374   22.720646 22.890327\n",
      "   23.063467 23.35286  23.714495 23.976755 24.126242 24.210024 24.267769\n",
      "   24.318981 24.37062  24.426603 24.493313 24.582481 24.710035 24.886082\n",
      "   25.04482  24.144888 24.497843 24.88513  25.025366 25.097322 25.132559\n",
      "   25.220203 25.310707 25.33865  25.321291 25.292395 25.379372 25.460148\n",
      "   25.500393 25.533102 25.562954 25.586605 25.602913 25.61245  25.618172\n",
      "   25.62294  25.625895 25.625324 25.612257 25.569246 25.489712 25.45719\n",
      "   25.561142]]\n",
      "\n",
      " [[23.377848 23.377848 23.397158 23.450397 23.56906  23.743866 23.907564\n",
      "   24.074125 24.350332 24.69604  24.94459  25.08154  25.155783 25.208426\n",
      "   25.257206 25.307606 25.362823 25.428675 25.516413 25.64063  25.808952\n",
      "   25.965977 25.313139 25.69909  26.064634 26.196527 26.267147 26.318645\n",
      "   26.435566 26.537321 26.567648 26.559544 26.557446 26.66807  26.75476\n",
      "   26.79424  26.824951 26.852894 26.875208 26.891136 26.900959 26.90754\n",
      "   26.913355 26.917458 26.9186   26.908682 26.872824 26.807213 26.791952\n",
      "   26.907063]]\n",
      "\n",
      " [[24.423264 24.423264 24.440836 24.489784 24.600721 24.767063 24.92485\n",
      "   25.084711 25.347853 25.677586 25.912428 26.036787 26.10159  26.149082\n",
      "   26.19543  26.24459  26.299047 26.364086 26.450298 26.571224 26.731873\n",
      "   26.887035 26.481438 26.900433 27.244091 27.367687 27.436924 27.504728\n",
      "   27.650928 27.763844 27.796745 27.797792 27.822495 27.956867 28.049278\n",
      "   28.088093 28.116894 28.142738 28.163815 28.179358 28.189466 28.196907\n",
      "   28.203772 28.209019 28.21188  28.205109 28.176308 28.124807 28.126621\n",
      "   28.253078]]\n",
      "\n",
      " [[25.468683 25.468683 25.4845   25.529158 25.632381 25.790262 25.942135\n",
      "   26.095343 26.345324 26.659107 26.880335 26.991987 27.047396 27.089739\n",
      "   27.133656 27.181576 27.23527  27.299452 27.384281 27.501774 27.65479\n",
      "   27.808142 27.649689 28.10173  28.423548 28.5388   28.606794 28.690815\n",
      "   28.866385 28.990362 29.025839 29.035948 29.087637 29.24547  29.343891\n",
      "   29.381943 29.408741 29.432583 29.452513 29.467583 29.477978 29.486273\n",
      "   29.494095 29.500769 29.505156 29.501534 29.47979  29.442215 29.461384\n",
      "   29.599094]]\n",
      "\n",
      " [[26.514112 26.514112 26.52818  26.568508 26.664066 26.81346  26.959394\n",
      "   27.105974 27.342821 27.640654 27.848173 27.94728  27.993202 28.030346\n",
      "   28.071833 28.11861  28.17149  28.234861 28.318167 28.432367 28.577707\n",
      "   28.729248 28.81794  29.303026 29.603052 29.709959 29.776573 29.876898\n",
      "   30.081749 30.21698  30.25484  30.2742   30.352688 30.534267 30.638409\n",
      "   30.67579  30.700588 30.722523 30.74112  30.755806 30.766485 30.775547\n",
      "   30.784607 30.79233  30.79853  30.797861 30.783365 30.759714 30.796146\n",
      "   30.945108]]\n",
      "\n",
      " [[27.559542 27.559542 27.571833 27.607893 27.695726 27.836657 27.976679\n",
      "   28.116585 28.340317 28.622173 28.816057 28.902506 28.939007 28.971003\n",
      "   29.010057 29.055595 29.107666 29.170273 29.252146 29.362917 29.500628\n",
      "   29.650305 29.986238 30.50432  30.782557 30.881021 30.946445 31.06289\n",
      "   31.297207 31.443499 31.483934 31.51245  31.617735 31.823061 31.932926\n",
      "   31.969738 31.992338 32.012463 32.029724 32.04403  32.05509  32.06482\n",
      "   32.075024 32.083893 32.09181  32.094288 32.086945 32.077217 32.130814\n",
      "   32.291126]]\n",
      "\n",
      " [[28.604965 28.604965 28.61551  28.647255 28.727375 28.859877 28.993938\n",
      "   29.127216 29.33781  29.60372  29.783915 29.857729 29.884815 29.91166\n",
      "   29.948282 29.99258  30.043886 30.105639 30.18608  30.293465 30.423594\n",
      "   30.571413 31.15449  31.705618 31.962013 32.05223  32.116127 32.24907\n",
      "   32.51257  32.670116 32.71303  32.750607 32.88288  33.111668 33.22754\n",
      "   33.263588 33.284187 33.302402 33.31833  33.332253 33.3436   33.354187\n",
      "   33.365345 33.37555  33.38518  33.390713 33.39033  33.394814 33.46548\n",
      "   33.637238]]\n",
      "\n",
      " [[29.650389 29.650389 29.659176 29.686628 29.759048 29.883076 30.011225\n",
      "   30.137825 30.335306 30.585264 30.751753 30.813026 30.830572 30.852316\n",
      "   30.88646  30.929611 30.98011  31.041048 31.119967 31.224058 31.346512\n",
      "   31.49252  32.32274  32.906914 33.14147  33.223343 33.286    33.435154\n",
      "   33.727932 33.896732 33.94203  33.988857 34.14793  34.400463 34.52196\n",
      "   34.557533 34.576035 34.592342 34.60703  34.62038  34.63211  34.643555\n",
      "   34.65576  34.66711  34.67846  34.687138 34.69391  34.712315 34.800148\n",
      "   34.983253]]\n",
      "\n",
      " [[30.695812 30.695812 30.702847 30.726004 30.790709 30.906296 31.02846\n",
      "   31.148457 31.332802 31.566786 31.719637 31.76825  31.776428 31.792927\n",
      "   31.824682 31.866596 31.916332 31.976414 32.053947 32.15461  32.26943\n",
      "   32.413578 33.49104  34.108208 34.321022 34.394455 34.455776 34.62124\n",
      "   34.943295 35.123253 35.171127 35.227108 35.41298  35.689255 35.81648\n",
      "   35.85138  35.867977 35.882187 35.895634 35.9086   35.92062  35.932922\n",
      "   35.946083 35.958862 35.971737 35.983562 35.997295 36.029816 36.135098\n",
      "   36.32908 ]]\n",
      "\n",
      " [[31.741241 31.741241 31.74652  31.765364 31.822382 31.929491 32.045746\n",
      "   32.159065 32.330296 32.548332 32.687496 32.723473 32.722233 32.73358\n",
      "   32.76291  32.80358  32.852554 32.911777 32.98788  33.0852   33.19235\n",
      "   33.334686 34.65929  35.309505 35.500477 35.565662 35.625553 35.807228\n",
      "   36.158752 36.34987  36.400223 36.465168 36.67822  36.977863 37.11109\n",
      "   37.145233 37.159824 37.172127 37.18424  37.196827 37.209225 37.222195\n",
      "   37.2365   37.250423 37.265015 37.279987 37.300873 37.347412 37.469673\n",
      "   37.675095]]\n",
      "\n",
      " [[32.786663 32.786663 32.790184 32.804733 32.854053 32.95269  33.06303\n",
      "   33.169674 33.327793 33.529854 33.65538  33.678722 33.66802  33.67424\n",
      "   33.701134 33.740566 33.788776 33.84719  33.921814 34.01575  34.115265\n",
      "   34.25579  35.827538 36.5108   36.679935 36.736774 36.795425 36.993313\n",
      "   37.374115 37.57639  37.62932  37.70342  37.943268 38.26666  38.40561\n",
      "   38.439083 38.45167  38.462063 38.472843 38.48505  38.497734 38.511467\n",
      "   38.52701  38.541985 38.558292 38.576504 38.604355 38.664818 38.804436\n",
      "   39.0213  ]]\n",
      "\n",
      " [[33.83209  33.83209  33.833847 33.844112 33.885715 33.975887 34.080288\n",
      "   34.180305 34.325264 34.51142  34.62324  34.633972 34.6138   34.614944\n",
      "   34.639263 34.6776   34.725    34.78255  34.855747 34.946346 35.038185\n",
      "   35.17685  36.99584  37.712097 37.85939  37.90798  37.965202 38.179398\n",
      "   38.589478 38.803    38.85832  38.94167  39.208317 39.555454 39.700127\n",
      "   39.732933 39.743515 39.75191  39.761543 39.77327  39.786243 39.800835\n",
      "   39.817333 39.83364  39.851665 39.87274  39.908024 39.982224 40.1392\n",
      "   40.367317]]\n",
      "\n",
      " [[34.877514 34.877514 34.87752  34.88348  34.917377 34.999096 35.097572\n",
      "   35.190914 35.32276  35.49297  35.591076 35.58922  35.559605 35.5556\n",
      "   35.577488 35.614586 35.66122  35.717964 35.78963  35.87694  35.9611\n",
      "   36.097958 38.16409  38.91339  39.038944 39.079    39.135075 39.365482\n",
      "   39.80484  40.029617 40.08741  40.17982  40.473457 40.84406  40.99474\n",
      "   41.02678  41.035366 41.04185  41.050148 41.061497 41.074753 41.090202\n",
      "   41.10775  41.125298 41.144943 41.169167 41.21151  41.29982  41.47377\n",
      "   41.713333]]\n",
      "\n",
      " [[35.922924 35.922924 35.921196 35.922848 35.949043 36.022305 36.114834\n",
      "   36.201546 36.320255 36.47449  36.55896  36.544464 36.505436 36.496212\n",
      "   36.515713 36.55157  36.597443 36.653328 36.723614 36.807487 36.88402\n",
      "   37.019062 39.33234  40.11464  40.21845  40.250206 40.304752 40.551662\n",
      "   41.0202   41.25614  41.31651  41.418076 41.73851  42.13285  42.289257\n",
      "   42.320633 42.32731  42.331696 42.338753 42.34972  42.363358 42.379475\n",
      "   42.398067 42.41695  42.438316 42.46559  42.51499  42.61722  42.808533\n",
      "   43.05935 ]]\n",
      "\n",
      " [[36.968357 36.968357 36.964867 36.962208 36.980713 37.0455   37.13212\n",
      "   37.212154 37.317753 37.45601  37.526844 37.49969  37.45124  37.436863\n",
      "   37.453888 37.4886   37.533665 37.58869  37.657547 37.738037 37.806988\n",
      "   37.940166 40.50059  41.315983 41.397858 41.421413 41.474533 41.737648\n",
      "   42.23566  42.482758 42.545605 42.65623  43.00356  43.421555 43.58387\n",
      "   43.614483 43.619156 43.621635 43.627354 43.637943 43.651867 43.66884\n",
      "   43.688583 43.708416 43.7315   43.762012 43.81847  43.935013 44.1431\n",
      "   44.40536 ]]\n",
      "\n",
      " [[38.013783 38.013783 38.008533 38.001583 38.012386 38.06871  38.14937\n",
      "   38.22279  38.31525  38.437557 38.494682 38.45496  38.397026 38.37752\n",
      "   38.392113 38.425587 38.469837 38.52415  38.59148  38.668583 38.729904\n",
      "   38.86123  41.66889  42.51723  42.577362 42.592525 42.644405 42.923737\n",
      "   43.451023 43.70928  43.7747   43.89448  44.2687   44.710255 44.878387\n",
      "   44.908333 44.911    44.911575 44.91596  44.926167 44.940376 44.95821\n",
      "   44.978905 45.000076 45.024868 45.058437 45.121956 45.25242  45.478054\n",
      "   45.75138 ]]\n",
      "\n",
      " [[39.059204 39.059204 39.0522   39.04096  39.044044 39.091908 39.166653\n",
      "   39.2334   39.31274  39.4191   39.46254  39.41021  39.342834 39.318157\n",
      "   39.330338 39.36257  39.40606  39.459515 39.525414 39.59918  39.652824\n",
      "   39.782333 42.837143 43.71858  43.756863 43.763634 43.814182 44.10982\n",
      "   44.666386 44.935894 45.0037   45.13273  45.533752 45.99905  46.172905\n",
      "   46.202183 46.202847 46.201515 46.204567 46.214386 46.22888  46.247574\n",
      "   46.269222 46.291733 46.318245 46.354862 46.425438 46.57001  46.812626\n",
      "   47.097397]]]\n",
      "all_quantiles after squeezing shape: (20, 50)\n",
      "Error with cow SE-5c06d92d-2058, lactation 9: too many values to unpack (expected 2)\n"
     ]
    },
    {
     "name": "stderr",
     "output_type": "stream",
     "text": [
      "/Users/user/anaconda3/envs/GIGACOW/lib/python3.11/site-packages/torch/optim/lr_scheduler.py:60: UserWarning: The verbose parameter is deprecated. Please use get_last_lr() to access the learning rate.\n",
      "  warnings.warn(\n",
      "  1%|          | 16/2315 [00:05<14:09,  2.71 Segments/s]"
     ]
    },
    {
     "name": "stdout",
     "output_type": "stream",
     "text": [
      "all_quantiles shape: (217, 1, 50)\n",
      "all_quantiles content: [[[12.703918  12.703918  14.24005   ... 65.40356   65.389824  65.24391  ]]\n",
      "\n",
      " [[12.3190155 12.3190155 13.80229   ... 65.85503   65.79628   65.5674   ]]\n",
      "\n",
      " [[12.348604  12.348604  13.8359785 ... 65.82012   65.765     65.5426   ]]\n",
      "\n",
      " ...\n",
      "\n",
      " [[19.424986  19.424986  21.883535  ... 57.525253  58.294865  59.592052 ]]\n",
      "\n",
      " [[19.454597  19.454597  21.917225  ... 57.49035   58.26378   59.56707  ]]\n",
      "\n",
      " [[19.543432  19.543432  22.018217  ... 57.386208  58.169746  59.49249  ]]]\n",
      "all_quantiles after squeezing shape: (217, 50)\n",
      "Error with cow SE-5c06d92d-2211, lactation 7: too many values to unpack (expected 2)\n"
     ]
    },
    {
     "name": "stderr",
     "output_type": "stream",
     "text": [
      "/Users/user/anaconda3/envs/GIGACOW/lib/python3.11/site-packages/torch/optim/lr_scheduler.py:60: UserWarning: The verbose parameter is deprecated. Please use get_last_lr() to access the learning rate.\n",
      "  warnings.warn(\n",
      "  1%|          | 17/2315 [00:06<14:02,  2.73 Segments/s]"
     ]
    },
    {
     "name": "stdout",
     "output_type": "stream",
     "text": [
      "all_quantiles shape: (174, 1, 50)\n",
      "all_quantiles content: [[[15.691852 15.691852 17.903614 ... 60.93292  61.10935  61.325836]]\n",
      "\n",
      " [[15.864395 15.864395 18.049717 ... 60.5402   60.71434  60.927578]]\n",
      "\n",
      " [[15.979409 15.979409 18.147158 ... 60.278507 60.45093  60.66208 ]]\n",
      "\n",
      " ...\n",
      "\n",
      " [[26.7918   26.7918   27.304552 ... 35.676575 35.695267 35.702133]]\n",
      "\n",
      " [[26.849318 26.849318 27.353264 ... 35.54573  35.56366  35.56919 ]]\n",
      "\n",
      " [[26.906824 26.906824 27.401972 ... 35.414886 35.43186  35.43663 ]]]\n",
      "all_quantiles after squeezing shape: (174, 50)\n",
      "Error with cow SE-5c06d92d-2246, lactation 6: too many values to unpack (expected 2)\n"
     ]
    },
    {
     "name": "stderr",
     "output_type": "stream",
     "text": [
      "/Users/user/anaconda3/envs/GIGACOW/lib/python3.11/site-packages/torch/optim/lr_scheduler.py:60: UserWarning: The verbose parameter is deprecated. Please use get_last_lr() to access the learning rate.\n",
      "  warnings.warn(\n",
      "  1%|          | 18/2315 [00:06<14:02,  2.73 Segments/s]"
     ]
    },
    {
     "name": "stdout",
     "output_type": "stream",
     "text": [
      "all_quantiles shape: (165, 1, 50)\n",
      "all_quantiles content: [[[47.35198  47.35198  47.557293 ... 50.43716  50.44212  50.52395 ]]\n",
      "\n",
      " [[47.266983 47.266983 47.476337 ... 50.40359  50.411415 50.49457 ]]\n",
      "\n",
      " [[47.181984 47.181984 47.395397 ... 50.37002  50.380512 50.46539 ]]\n",
      "\n",
      " ...\n",
      "\n",
      " [[33.49781  33.49781  34.36277  ... 44.960213 45.423317 45.755577]]\n",
      "\n",
      " [[33.412815 33.412815 34.281826 ... 44.926643 45.392605 45.7262  ]]\n",
      "\n",
      " [[33.327816 33.327816 34.20087  ... 44.893074 45.36171  45.697018]]]\n",
      "all_quantiles after squeezing shape: (165, 50)\n",
      "Error with cow SE-5c06d92d-2254, lactation 6: too many values to unpack (expected 2)\n"
     ]
    },
    {
     "name": "stderr",
     "output_type": "stream",
     "text": [
      "/Users/user/anaconda3/envs/GIGACOW/lib/python3.11/site-packages/torch/optim/lr_scheduler.py:60: UserWarning: The verbose parameter is deprecated. Please use get_last_lr() to access the learning rate.\n",
      "  warnings.warn(\n",
      "  1%|          | 19/2315 [00:07<14:06,  2.71 Segments/s]"
     ]
    },
    {
     "name": "stdout",
     "output_type": "stream",
     "text": [
      "all_quantiles shape: (240, 1, 50)\n",
      "all_quantiles content: [[[14.891338 14.891338 20.91477  ... 56.723022 56.76632  56.51493 ]]\n",
      "\n",
      " [[14.891338 14.891338 20.91477  ... 56.723022 56.76632  56.51493 ]]\n",
      "\n",
      " [[14.864111 14.864111 20.856644 ... 56.58722  56.635662 56.398773]]\n",
      "\n",
      " ...\n",
      "\n",
      " [[10.358953 10.358953 11.236382 ... 34.07383  35.038948 37.169647]]\n",
      "\n",
      " [[10.358953 10.358953 11.236382 ... 34.07383  35.038948 37.169647]]\n",
      "\n",
      " [[10.358953 10.358953 11.236382 ... 34.07383  35.038948 37.169647]]]\n",
      "all_quantiles after squeezing shape: (240, 50)\n",
      "Error with cow SE-5c06d92d-2254, lactation 7: too many values to unpack (expected 2)\n"
     ]
    },
    {
     "name": "stderr",
     "output_type": "stream",
     "text": [
      "/Users/user/anaconda3/envs/GIGACOW/lib/python3.11/site-packages/torch/optim/lr_scheduler.py:60: UserWarning: The verbose parameter is deprecated. Please use get_last_lr() to access the learning rate.\n",
      "  warnings.warn(\n",
      "  1%|          | 20/2315 [00:07<13:36,  2.81 Segments/s]"
     ]
    },
    {
     "name": "stdout",
     "output_type": "stream",
     "text": [
      "all_quantiles shape: (118, 1, 50)\n",
      "all_quantiles content: [[[38.519848 38.519848 39.578724 ... 53.977013 53.972435 53.641315]]\n",
      "\n",
      " [[38.42219  38.42219  39.5002   ... 53.823853 53.822132 53.498264]]\n",
      "\n",
      " [[38.324535 38.324535 39.421677 ... 53.67069  53.671837 53.355404]]\n",
      "\n",
      " ...\n",
      "\n",
      " [[27.875149 27.875149 31.020008 ... 37.28161  37.58583  38.059425]]\n",
      "\n",
      " [[27.875149 27.875149 31.020008 ... 37.28161  37.58583  38.059425]]\n",
      "\n",
      " [[27.875149 27.875149 31.020008 ... 37.28161  37.58583  38.059425]]]\n",
      "all_quantiles after squeezing shape: (118, 50)\n",
      "Error with cow SE-5c06d92d-2268, lactation 6: too many values to unpack (expected 2)\n"
     ]
    },
    {
     "name": "stderr",
     "output_type": "stream",
     "text": [
      "/Users/user/anaconda3/envs/GIGACOW/lib/python3.11/site-packages/torch/optim/lr_scheduler.py:60: UserWarning: The verbose parameter is deprecated. Please use get_last_lr() to access the learning rate.\n",
      "  warnings.warn(\n",
      "  1%|          | 21/2315 [00:07<14:24,  2.65 Segments/s]"
     ]
    },
    {
     "name": "stdout",
     "output_type": "stream",
     "text": [
      "all_quantiles shape: (362, 1, 50)\n",
      "all_quantiles content: [[[19.687319 19.687319 30.476236 ... 57.839394 58.397865 61.10573 ]]\n",
      "\n",
      " [[19.719088 19.719088 30.534027 ... 58.00686  58.567806 61.306   ]]\n",
      "\n",
      " [[19.687319 19.687319 30.476236 ... 57.839394 58.397865 61.10573 ]]\n",
      "\n",
      " ...\n",
      "\n",
      " [[16.827547 16.827547 25.273703 ... 42.76085  43.11638  43.08376 ]]\n",
      "\n",
      " [[16.827547 16.827547 25.273703 ... 42.76085  43.11638  43.08376 ]]\n",
      "\n",
      " [[16.827547 16.827547 25.273703 ... 42.76085  43.11638  43.08376 ]]]\n",
      "all_quantiles after squeezing shape: (362, 50)\n",
      "Error with cow SE-5c06d92d-2268, lactation 7: too many values to unpack (expected 2)\n"
     ]
    },
    {
     "name": "stderr",
     "output_type": "stream",
     "text": [
      "/Users/user/anaconda3/envs/GIGACOW/lib/python3.11/site-packages/torch/optim/lr_scheduler.py:60: UserWarning: The verbose parameter is deprecated. Please use get_last_lr() to access the learning rate.\n",
      "  warnings.warn(\n",
      "  1%|          | 22/2315 [00:08<13:08,  2.91 Segments/s]"
     ]
    },
    {
     "name": "stdout",
     "output_type": "stream",
     "text": [
      "all_quantiles shape: (15, 1, 50)\n",
      "all_quantiles content: [[[13.254833  13.254833  13.319176  13.460225  13.644749  13.793052\n",
      "   13.878584  13.929248  13.99163   14.117729  14.32085   14.512097\n",
      "   14.610588  14.649414  14.67011   14.687847  14.705849  14.724063\n",
      "   14.742017  14.759803  14.778208  14.796996  14.814258  14.843129\n",
      "   15.192819  16.160345  16.396523  16.402483  16.397238  16.43672\n",
      "   16.544437  16.728592  16.894817  17.003393  17.150593  17.337704\n",
      "   17.410898  17.424107  17.428255  17.43288   17.44008   17.453957\n",
      "   17.485046  17.57288   17.81559   18.084717  18.16864   18.182516\n",
      "   18.185091  18.186092 ]]\n",
      "\n",
      " [[13.345491  13.345491  13.459021  13.696403  13.9829035 14.194082\n",
      "   14.309251  14.376903  14.459824  14.608335  14.805161  14.969885\n",
      "   15.05245   15.084433  15.100288  15.112281  15.122866  15.132116\n",
      "   15.139794  15.14585   15.149617  15.1479    15.136026  15.138555\n",
      "   15.687131  17.33458   17.727757  17.6867    17.505884  17.348337\n",
      "   17.42673   17.693663  17.932272  18.05687   18.123198  18.133593\n",
      "   18.120337  18.118572  18.119478  18.120909  18.123577  18.132639\n",
      "   18.16864   18.306541  18.68658   19.060183  19.152403  19.155693\n",
      "   19.15102   19.148159 ]]\n",
      "\n",
      " [[13.254833  13.254833  13.319176  13.460225  13.644749  13.793052\n",
      "   13.878584  13.929248  13.99163   14.117729  14.32085   14.512097\n",
      "   14.610588  14.649414  14.67011   14.687847  14.705849  14.724063\n",
      "   14.742017  14.759803  14.778208  14.796996  14.814258  14.843129\n",
      "   15.192819  16.160345  16.396523  16.402483  16.397238  16.43672\n",
      "   16.544437  16.728592  16.894817  17.003393  17.150593  17.337704\n",
      "   17.410898  17.424107  17.428255  17.43288   17.44008   17.453957\n",
      "   17.485046  17.57288   17.81559   18.084717  18.16864   18.182516\n",
      "   18.185091  18.186092 ]]\n",
      "\n",
      " [[13.324573  13.324573  13.426747  13.641893  13.904869  14.101541\n",
      "   14.209867  14.273595  14.351785  14.495122  14.693391  14.864242\n",
      "   14.950479  14.984035  15.001034  15.014315  15.026641  15.037966\n",
      "   15.048003  15.056752  15.063905  15.06691   15.061783  15.070391\n",
      "   15.573049  17.063618  17.42053   17.390347  17.250061  17.137957\n",
      "   17.22312   17.47098   17.692852  17.81373   17.89875   17.949915\n",
      "   17.956638  17.958307  17.959976  17.962122  17.965841  17.976046\n",
      "   18.010855  18.137217  18.485641  18.83502   18.92538   18.93115\n",
      "   18.928099  18.926144 ]]\n",
      "\n",
      " [[13.247859  13.247859  13.308418  13.442057  13.618737  13.762206\n",
      "   13.845443  13.894819  13.955616  14.08      14.283585  14.476883\n",
      "   14.576614  14.61594   14.637017  14.655185  14.673781  14.692688\n",
      "   14.711403  14.730119  14.749622  14.770031  14.789485  14.820409\n",
      "   15.154791  16.070057  16.294098  16.303682  16.311932  16.366625\n",
      "   16.476583  16.654348  16.814995  16.92233   17.075825  17.276478\n",
      "   17.3563    17.3707    17.375088  17.379951  17.387486  17.401743\n",
      "   17.432499  17.51647   17.748547  18.00971   18.092966  18.107605\n",
      "   18.110847  18.112087 ]]\n",
      "\n",
      " [[13.247859  13.247859  13.308418  13.442057  13.618737  13.762206\n",
      "   13.845443  13.894819  13.955616  14.08      14.283585  14.476883\n",
      "   14.576614  14.61594   14.637017  14.655185  14.673781  14.692688\n",
      "   14.711403  14.730119  14.749622  14.770031  14.789485  14.820409\n",
      "   15.154791  16.070057  16.294098  16.303682  16.311932  16.366625\n",
      "   16.476583  16.654348  16.814995  16.92233   17.075825  17.276478\n",
      "   17.3563    17.3707    17.375088  17.379951  17.387486  17.401743\n",
      "   17.432499  17.51647   17.748547  18.00971   18.092966  18.107605\n",
      "   18.110847  18.112087 ]]\n",
      "\n",
      " [[13.20602   13.20602   13.243872  13.333053  13.462674  13.577104\n",
      "   13.646674  13.688218  13.739514  13.853574  14.060056  14.265608\n",
      "   14.372659  14.415168  14.438486  14.4593    14.481281  14.504361\n",
      "   14.527821  14.551949  14.578199  14.608073  14.640999  14.684057\n",
      "   14.926623  15.528082  15.679693  15.710973  15.800237  15.94591\n",
      "   16.069365  16.208935  16.336155  16.4361    16.62693   16.90917\n",
      "   17.028856  17.050123  17.056131  17.062378  17.07201   17.088509\n",
      "   17.117023  17.177868  17.346525  17.559528  17.638922  17.658424\n",
      "   17.665005  17.668152 ]]\n",
      "\n",
      " [[13.136279  13.136279  13.136297  13.151378  13.202559  13.268613\n",
      "   13.315392  13.34387   13.379359  13.476192  13.687504  13.913465\n",
      "   14.032769  14.080524  14.107608  14.132785  14.16049   14.190506\n",
      "   14.221835  14.254974  14.292502  14.33816   14.393473  14.4568205\n",
      "   14.5463705 14.624858  14.655638  14.72311   14.947414  15.244675\n",
      "   15.39073   15.466498  15.538167  15.625715  15.878773  16.296959\n",
      "   16.483116  16.515923  16.524458  16.533089  16.54625   16.56642\n",
      "   16.591215  16.613531  16.676521  16.809177  16.882181  16.90979\n",
      "   16.921997  16.9281   ]]\n",
      "\n",
      " [[13.136279  13.136279  13.136297  13.151378  13.202559  13.268613\n",
      "   13.315392  13.34387   13.379359  13.476192  13.687504  13.913465\n",
      "   14.032769  14.080524  14.107608  14.132785  14.16049   14.190506\n",
      "   14.221835  14.254974  14.292502  14.33816   14.393473  14.4568205\n",
      "   14.5463705 14.624858  14.655638  14.72311   14.947414  15.244675\n",
      "   15.39073   15.466498  15.538167  15.625715  15.878773  16.296959\n",
      "   16.483116  16.515923  16.524458  16.533089  16.54625   16.56642\n",
      "   16.591215  16.613531  16.676521  16.809177  16.882181  16.90979\n",
      "   16.921997  16.9281   ]]\n",
      "\n",
      " [[13.115358  13.115358  13.104028  13.096875  13.124519  13.176071\n",
      "   13.216006  13.240564  13.27132   13.3629675 13.575745  13.807821\n",
      "   13.93082   13.980126  14.008331  14.0348425 14.0642395 14.096331\n",
      "   14.130044  14.165902  14.20679   14.257193  14.319204  14.388632\n",
      "   14.432311  14.3538475 14.348458  14.426756  14.691544  15.034342\n",
      "   15.18712   15.243815  15.298747  15.382576  15.6543255 16.113281\n",
      "   16.319418  16.355658  16.364956  16.374302  16.388512  16.409779\n",
      "   16.433477  16.444254  16.475534  16.584015  16.655159  16.685247\n",
      "   16.699076  16.706085 ]]\n",
      "\n",
      " [[13.108384  13.108384  13.093268  13.078708  13.098515  13.145208\n",
      "   13.1828785 13.206136  13.235307  13.325226  13.538492  13.772607\n",
      "   13.896823  13.946675  13.975238  14.002203  14.032148  14.064956\n",
      "   14.099431  14.136218  14.178227  14.23018   14.2944565 14.3659115\n",
      "   14.394283  14.263558  14.245986  14.328003  14.606285  14.964199\n",
      "   15.1192665 15.169573  15.2189245 15.301561  15.57951   16.052055\n",
      "   16.26482   16.302252  16.311789  16.321373  16.335917  16.357613\n",
      "   16.380882  16.387796  16.408539  16.509008  16.579485  16.610336\n",
      "   16.624832  16.63208  ]]\n",
      "\n",
      " [[13.101405  13.101405  13.082517  13.060539  13.072496  13.114368\n",
      "   13.14975   13.171697  13.199294  13.287484  13.501239  13.737392\n",
      "   13.862848  13.913201  13.942145  13.969541  14.000082  14.033556\n",
      "   14.068842  14.106536  14.149642  14.203191  14.26971   14.343189\n",
      "   14.356255  14.173221  14.143609  14.229201  14.520979  14.894104\n",
      "   15.051365  15.095329  15.139151  15.220499  15.504741  15.990829\n",
      "   16.210222  16.248846  16.258574  16.268492  16.28337   16.305351\n",
      "   16.328335  16.331339  16.341543  16.434002  16.50381   16.535473\n",
      "   16.550493  16.558075 ]]\n",
      "\n",
      " [[13.094438  13.094438  13.071757  13.042372  13.046491  13.083517\n",
      "   13.116621  13.137258  13.1632805 13.249755  13.463973  13.702178\n",
      "   13.828849  13.879752  13.909054  13.936901  13.968015  14.002155\n",
      "   14.038229  14.076829  14.121079  14.176201  14.244962  14.320469\n",
      "   14.318228  14.082885  14.041233  14.130401  14.4357195 14.82396\n",
      "   14.983511  15.021086  15.059328  15.139484  15.429925  15.929604\n",
      "   16.155672  16.195393  16.205406  16.215563  16.230774  16.253185\n",
      "   16.275692  16.274977  16.2745    16.358948  16.428137  16.460657\n",
      "   16.476154  16.484118 ]]\n",
      "\n",
      " [[13.087462  13.087462  13.060998  13.024205  13.020474  13.052667\n",
      "   13.083493  13.10283   13.127268  13.212013  13.426721  13.666964\n",
      "   13.794851  13.846278  13.875984  13.904238  13.935946  13.97078\n",
      "   14.00764   14.047122  14.092517  14.149213  14.22019   14.297747\n",
      "   14.2802    13.992548  13.938808  14.031649  14.350414  14.753865\n",
      "   14.915657  14.946841  14.979506  15.05847   15.3550625 15.868424\n",
      "   16.101074  16.141987  16.152239  16.162634  16.178179  16.200972\n",
      "   16.223145  16.21852   16.207504  16.283941  16.352463  16.385746\n",
      "   16.40191   16.410065 ]]\n",
      "\n",
      " [[13.080489  13.080489  13.0502405 13.006038  12.994468  13.021815\n",
      "   13.0503645 13.068389  13.091254  13.174272  13.389467  13.631749\n",
      "   13.760877  13.812803  13.842868  13.871621  13.903855  13.939381\n",
      "   13.977051  14.017439  14.0639305 14.122224  14.195442  14.275026\n",
      "   14.242172  13.902258  13.836384  13.932848  14.265155  14.683723\n",
      "   14.847755  14.872646  14.899731  14.97736   15.280294  15.807152\n",
      "   16.046524  16.088581  16.099072  16.109705  16.125631  16.148758\n",
      "   16.17055   16.162062  16.140509  16.208935  16.276741  16.31093\n",
      "   16.327572  16.336107 ]]]\n",
      "all_quantiles after squeezing shape: (15, 50)\n",
      "Error with cow SE-5c06d92d-2268, lactation 8: too many values to unpack (expected 2)\n"
     ]
    },
    {
     "name": "stderr",
     "output_type": "stream",
     "text": [
      "/Users/user/anaconda3/envs/GIGACOW/lib/python3.11/site-packages/torch/optim/lr_scheduler.py:60: UserWarning: The verbose parameter is deprecated. Please use get_last_lr() to access the learning rate.\n",
      "  warnings.warn(\n",
      "  1%|          | 23/2315 [00:08<13:20,  2.86 Segments/s]"
     ]
    },
    {
     "name": "stdout",
     "output_type": "stream",
     "text": [
      "all_quantiles shape: (173, 1, 50)\n",
      "all_quantiles content: [[[45.882153 45.882153 45.919655 ... 51.07975  50.855637 50.914764]]\n",
      "\n",
      " [[45.77788  45.77788  45.821415 ... 51.002502 50.78525  50.845528]]\n",
      "\n",
      " [[45.67361  45.67361  45.72319  ... 50.925446 50.714874 50.776096]]\n",
      "\n",
      " ...\n",
      "\n",
      " [[28.155338 28.155338 29.220463 ... 37.974358 38.875008 39.134216]]\n",
      "\n",
      " [[28.051065 28.051065 29.122221 ... 37.8973   38.804436 39.064976]]\n",
      "\n",
      " [[27.946781 27.946781 29.024004 ... 37.820053 38.734055 38.995743]]]\n",
      "all_quantiles after squeezing shape: (173, 50)\n",
      "Error with cow SE-5c06d92d-2283, lactation 6: too many values to unpack (expected 2)\n"
     ]
    },
    {
     "name": "stderr",
     "output_type": "stream",
     "text": [
      "/Users/user/anaconda3/envs/GIGACOW/lib/python3.11/site-packages/torch/optim/lr_scheduler.py:60: UserWarning: The verbose parameter is deprecated. Please use get_last_lr() to access the learning rate.\n",
      "  warnings.warn(\n",
      "  1%|          | 24/2315 [00:08<13:52,  2.75 Segments/s]"
     ]
    },
    {
     "name": "stdout",
     "output_type": "stream",
     "text": [
      "all_quantiles shape: (340, 1, 50)\n",
      "all_quantiles content: [[[18.34898  18.34898  22.632313 ... 52.18162  52.41356  53.175545]]\n",
      "\n",
      " [[18.34898  18.34898  22.632313 ... 52.18162  52.41356  53.175545]]\n",
      "\n",
      " [[18.337965 18.337965 22.615551 ... 52.149006 52.382656 53.144455]]\n",
      "\n",
      " ...\n",
      "\n",
      " [[14.370179 14.370179 16.581345 ... 40.464973 41.282845 41.947365]]\n",
      "\n",
      " [[14.370179 14.370179 16.581345 ... 40.464973 41.282845 41.947365]]\n",
      "\n",
      " [[14.370179 14.370179 16.581345 ... 40.464973 41.282845 41.947365]]]\n",
      "all_quantiles after squeezing shape: (340, 50)\n",
      "Error with cow SE-5c06d92d-2283, lactation 7: too many values to unpack (expected 2)\n"
     ]
    },
    {
     "name": "stderr",
     "output_type": "stream",
     "text": [
      "/Users/user/anaconda3/envs/GIGACOW/lib/python3.11/site-packages/torch/optim/lr_scheduler.py:60: UserWarning: The verbose parameter is deprecated. Please use get_last_lr() to access the learning rate.\n",
      "  warnings.warn(\n",
      "  1%|          | 25/2315 [00:09<13:20,  2.86 Segments/s]"
     ]
    },
    {
     "name": "stdout",
     "output_type": "stream",
     "text": [
      "all_quantiles shape: (81, 1, 50)\n",
      "all_quantiles content: [[[45.884293 45.884293 45.88623  ... 48.343845 48.340225 48.336983]]\n",
      "\n",
      " [[45.378654 45.378654 45.403778 ... 48.159218 48.162266 48.163605]]\n",
      "\n",
      " [[44.873016 44.873016 44.921326 ... 47.974586 47.984505 47.990036]]\n",
      "\n",
      " ...\n",
      "\n",
      " [[39.311012 39.311012 39.614426 ... 45.943832 46.028137 46.081734]]\n",
      "\n",
      " [[39.311012 39.311012 39.614426 ... 45.943832 46.028137 46.081734]]\n",
      "\n",
      " [[39.311012 39.311012 39.614426 ... 45.943832 46.028137 46.081734]]]\n",
      "all_quantiles after squeezing shape: (81, 50)\n",
      "Error with cow SE-5c06d92d-2325, lactation 5: too many values to unpack (expected 2)\n"
     ]
    },
    {
     "name": "stderr",
     "output_type": "stream",
     "text": [
      "/Users/user/anaconda3/envs/GIGACOW/lib/python3.11/site-packages/torch/optim/lr_scheduler.py:60: UserWarning: The verbose parameter is deprecated. Please use get_last_lr() to access the learning rate.\n",
      "  warnings.warn(\n",
      "  1%|          | 26/2315 [00:09<14:32,  2.62 Segments/s]"
     ]
    },
    {
     "name": "stdout",
     "output_type": "stream",
     "text": [
      "all_quantiles shape: (428, 1, 50)\n",
      "all_quantiles content: [[[23.133373 23.133373 28.422283 ... 63.325115 63.91468  64.24084 ]]\n",
      "\n",
      " [[22.153496 22.153496 27.850962 ... 64.81094  65.42587  65.73238 ]]\n",
      "\n",
      " [[23.133373 23.133373 28.422283 ... 63.325115 63.91468  64.24084 ]]\n",
      "\n",
      " ...\n",
      "\n",
      " [[31.298923 31.298923 33.183334 ... 50.945663 51.32065  51.810833]]\n",
      "\n",
      " [[31.298923 31.298923 33.183334 ... 50.945663 51.32065  51.810833]]\n",
      "\n",
      " [[31.298923 31.298923 33.183334 ... 50.945663 51.32065  51.810833]]]\n",
      "all_quantiles after squeezing shape: (428, 50)\n",
      "Error with cow SE-5c06d92d-2325, lactation 6: too many values to unpack (expected 2)\n"
     ]
    },
    {
     "name": "stderr",
     "output_type": "stream",
     "text": [
      "/Users/user/anaconda3/envs/GIGACOW/lib/python3.11/site-packages/torch/optim/lr_scheduler.py:60: UserWarning: The verbose parameter is deprecated. Please use get_last_lr() to access the learning rate.\n",
      "  warnings.warn(\n",
      "  1%|          | 27/2315 [00:09<13:08,  2.90 Segments/s]"
     ]
    },
    {
     "name": "stdout",
     "output_type": "stream",
     "text": [
      "all_quantiles shape: (21, 1, 50)\n",
      "all_quantiles content: [[[ 6.566429  6.566429  6.566429 ... 39.977837 40.04345  40.054703]]\n",
      "\n",
      " [[ 6.566429  6.566429  6.566429 ... 39.977837 40.04345  40.054703]]\n",
      "\n",
      " [[11.482239 11.482239 11.482239 ... 43.3012   43.355556 43.364525]]\n",
      "\n",
      " ...\n",
      "\n",
      " [[48.35076  48.35076  48.350693 ... 68.22796  68.19553  68.18924 ]]\n",
      "\n",
      " [[50.808643 50.808643 50.808598 ... 69.88983  69.8513   69.84444 ]]\n",
      "\n",
      " [[53.26657  53.26657  53.26648  ... 71.551704 71.507256 71.49925 ]]]\n",
      "all_quantiles after squeezing shape: (21, 50)\n",
      "Error with cow SE-5c06d92d-2325, lactation 7: too many values to unpack (expected 2)\n"
     ]
    },
    {
     "name": "stderr",
     "output_type": "stream",
     "text": [
      "/Users/user/anaconda3/envs/GIGACOW/lib/python3.11/site-packages/torch/optim/lr_scheduler.py:60: UserWarning: The verbose parameter is deprecated. Please use get_last_lr() to access the learning rate.\n",
      "  warnings.warn(\n",
      "  1%|          | 28/2315 [00:10<12:31,  3.04 Segments/s]"
     ]
    },
    {
     "name": "stdout",
     "output_type": "stream",
     "text": [
      "all_quantiles shape: (48, 1, 50)\n",
      "all_quantiles content: [[[26.725296 26.725296 25.804113 ... 28.575897 28.615284 28.64475 ]]\n",
      "\n",
      " [[26.557892 26.557892 25.680206 ... 28.472994 28.51181  28.540516]]\n",
      "\n",
      " [[26.390488 26.390488 25.556307 ... 28.370092 28.408144 28.436375]]\n",
      "\n",
      " ...\n",
      "\n",
      " [[19.19216  19.19216  20.228315 ... 23.944473 23.954487 23.95706 ]]\n",
      "\n",
      " [[19.024754 19.024754 20.104414 ... 23.841572 23.850918 23.85292 ]]\n",
      "\n",
      " [[18.857353 18.857353 19.980509 ... 23.73867  23.747347 23.74878 ]]]\n",
      "all_quantiles after squeezing shape: (48, 50)\n",
      "Error with cow SE-5c06d92d-2327, lactation 6: too many values to unpack (expected 2)\n"
     ]
    },
    {
     "name": "stderr",
     "output_type": "stream",
     "text": [
      "/Users/user/anaconda3/envs/GIGACOW/lib/python3.11/site-packages/torch/optim/lr_scheduler.py:60: UserWarning: The verbose parameter is deprecated. Please use get_last_lr() to access the learning rate.\n",
      "  warnings.warn(\n",
      "  1%|▏         | 29/2315 [00:10<11:43,  3.25 Segments/s]"
     ]
    },
    {
     "name": "stdout",
     "output_type": "stream",
     "text": [
      "all_quantiles shape: (27, 1, 50)\n",
      "all_quantiles content: [[[24.402166 24.402166 24.411901 ... 24.531649 24.556446 24.555586]]\n",
      "\n",
      " [[24.145939 24.145939 24.15912  ... 24.57819  24.606419 24.610613]]\n",
      "\n",
      " [[23.889711 23.889711 23.906338 ... 24.624823 24.656391 24.66564 ]]\n",
      "\n",
      " ...\n",
      "\n",
      " [[18.252647 18.252647 18.345165 ... 25.649643 25.755787 25.876806]]\n",
      "\n",
      " [[17.996418 17.996418 18.09238  ... 25.696278 25.80576  25.931835]]\n",
      "\n",
      " [[17.74019  17.74019  17.839598 ... 25.742815 25.855732 25.986862]]]\n",
      "all_quantiles after squeezing shape: (27, 50)\n",
      "Error with cow SE-5c06d92d-2328, lactation 5: too many values to unpack (expected 2)\n"
     ]
    },
    {
     "name": "stderr",
     "output_type": "stream",
     "text": [
      "/Users/user/anaconda3/envs/GIGACOW/lib/python3.11/site-packages/torch/optim/lr_scheduler.py:60: UserWarning: The verbose parameter is deprecated. Please use get_last_lr() to access the learning rate.\n",
      "  warnings.warn(\n",
      "  1%|▏         | 30/2315 [00:10<12:38,  3.01 Segments/s]"
     ]
    },
    {
     "name": "stdout",
     "output_type": "stream",
     "text": [
      "all_quantiles shape: (327, 1, 50)\n",
      "all_quantiles content: [[[33.478973 33.478973 38.79305  ... 61.84864  63.563343 65.71045 ]]\n",
      "\n",
      " [[33.552395 33.552395 38.897274 ... 62.055588 63.783833 65.94772 ]]\n",
      "\n",
      " [[33.478973 33.478973 38.79305  ... 61.84864  63.563343 65.71045 ]]\n",
      "\n",
      " ...\n",
      "\n",
      " [[21.695816 21.695816 22.0675   ... 28.657436 28.193283 27.60353 ]]\n",
      "\n",
      " [[21.659113 21.659113 22.01538  ... 28.554152 28.083038 27.484798]]\n",
      "\n",
      " [[21.659113 21.659113 22.01538  ... 28.554152 28.083038 27.484798]]]\n",
      "all_quantiles after squeezing shape: (327, 50)\n",
      "Error with cow SE-5c06d92d-2333, lactation 6: too many values to unpack (expected 2)\n"
     ]
    },
    {
     "name": "stderr",
     "output_type": "stream",
     "text": [
      "/Users/user/anaconda3/envs/GIGACOW/lib/python3.11/site-packages/torch/optim/lr_scheduler.py:60: UserWarning: The verbose parameter is deprecated. Please use get_last_lr() to access the learning rate.\n",
      "  warnings.warn(\n",
      "  1%|▏         | 31/2315 [00:11<13:14,  2.87 Segments/s]"
     ]
    },
    {
     "name": "stdout",
     "output_type": "stream",
     "text": [
      "all_quantiles shape: (256, 1, 50)\n",
      "all_quantiles content: [[[16.738533 16.738533 23.246168 ... 74.86419  76.07803  74.29371 ]]\n",
      "\n",
      " [[16.738533 16.738533 23.246168 ... 74.86419  76.07803  74.29371 ]]\n",
      "\n",
      " [[16.83321  16.83321  23.298454 ... 74.50848  75.71583  73.968506]]\n",
      "\n",
      " ...\n",
      "\n",
      " [[28.66763  28.66763  29.832397 ... 30.04379  30.438614 33.31623 ]]\n",
      "\n",
      " [[28.714966 28.714966 29.85853  ... 29.865837 30.257607 33.153725]]\n",
      "\n",
      " [[28.762318 28.762318 29.884672 ... 29.688072 30.076408 32.991028]]]\n",
      "all_quantiles after squeezing shape: (256, 50)\n",
      "Error with cow SE-5c06d92d-2333, lactation 7: too many values to unpack (expected 2)\n"
     ]
    },
    {
     "name": "stderr",
     "output_type": "stream",
     "text": [
      "/Users/user/anaconda3/envs/GIGACOW/lib/python3.11/site-packages/torch/optim/lr_scheduler.py:60: UserWarning: The verbose parameter is deprecated. Please use get_last_lr() to access the learning rate.\n",
      "  warnings.warn(\n",
      "  1%|▏         | 32/2315 [00:11<13:37,  2.79 Segments/s]"
     ]
    },
    {
     "name": "stdout",
     "output_type": "stream",
     "text": [
      "all_quantiles shape: (243, 1, 50)\n",
      "all_quantiles content: [[[32.148014 32.148014 32.031456 ... 36.654663 36.72676  36.885452]]\n",
      "\n",
      " [[32.001865 32.001865 31.89582  ... 36.61499  36.68766  36.846924]]\n",
      "\n",
      " [[31.855715 31.855715 31.760197 ... 36.575127 36.64875  36.808205]]\n",
      "\n",
      " ...\n",
      "\n",
      " [[19.72537  19.72537  20.502806 ... 33.27198  33.41198  33.598328]]\n",
      "\n",
      " [[19.72537  19.72537  20.502806 ... 33.27198  33.41198  33.598328]]\n",
      "\n",
      " [[19.72537  19.72537  20.502806 ... 33.27198  33.41198  33.598328]]]\n",
      "all_quantiles after squeezing shape: (243, 50)\n",
      "Error with cow SE-5c06d92d-2351, lactation 5: too many values to unpack (expected 2)\n"
     ]
    },
    {
     "name": "stderr",
     "output_type": "stream",
     "text": [
      "/Users/user/anaconda3/envs/GIGACOW/lib/python3.11/site-packages/torch/optim/lr_scheduler.py:60: UserWarning: The verbose parameter is deprecated. Please use get_last_lr() to access the learning rate.\n",
      "  warnings.warn(\n",
      "  1%|▏         | 33/2315 [00:11<13:40,  2.78 Segments/s]"
     ]
    },
    {
     "name": "stdout",
     "output_type": "stream",
     "text": [
      "all_quantiles shape: (137, 1, 50)\n",
      "all_quantiles content: [[[16.529453 16.529453 16.899942 ... 24.056816 24.242401 24.296856]]\n",
      "\n",
      " [[17.738724 17.738724 17.688894 ... 21.43774  21.576023 21.547125]]\n",
      "\n",
      " [[16.529453 16.529453 16.899942 ... 24.056816 24.242401 24.296856]]\n",
      "\n",
      " ...\n",
      "\n",
      " [[12.082458 12.082458 13.998615 ... 33.68826  34.04789  34.408855]]\n",
      "\n",
      " [[12.043465 12.043465 13.973152 ... 33.772755 34.13391  34.497547]]\n",
      "\n",
      " [[12.004446 12.004446 13.947713 ... 33.85725  34.219933 34.58624 ]]]\n",
      "all_quantiles after squeezing shape: (137, 50)\n",
      "Error with cow SE-5c06d92d-2384, lactation 5: too many values to unpack (expected 2)\n"
     ]
    },
    {
     "name": "stderr",
     "output_type": "stream",
     "text": [
      "/Users/user/anaconda3/envs/GIGACOW/lib/python3.11/site-packages/torch/optim/lr_scheduler.py:60: UserWarning: The verbose parameter is deprecated. Please use get_last_lr() to access the learning rate.\n",
      "  warnings.warn(\n",
      "  1%|▏         | 34/2315 [00:12<13:53,  2.74 Segments/s]"
     ]
    },
    {
     "name": "stdout",
     "output_type": "stream",
     "text": [
      "all_quantiles shape: (226, 1, 50)\n",
      "all_quantiles content: [[[32.253166 32.253166 32.54331  ... 41.462894 41.752434 42.00153 ]]\n",
      "\n",
      " [[32.19877  32.19877  32.48824  ... 41.38527  41.67366  41.921997]]\n",
      "\n",
      " [[32.14437  32.14437  32.43316  ... 41.30764  41.594696 41.84265 ]]\n",
      "\n",
      " ...\n",
      "\n",
      " [[20.013712 20.013712 20.151459 ... 23.964977 24.032974 24.107264]]\n",
      "\n",
      " [[19.959307 19.959307 20.096386 ... 23.887157 23.9542   24.027729]]\n",
      "\n",
      " [[19.904905 19.904905 20.04132  ... 23.809431 23.875427 23.948193]]]\n",
      "all_quantiles after squeezing shape: (226, 50)\n",
      "Error with cow SE-5c06d92d-2397, lactation 5: too many values to unpack (expected 2)\n"
     ]
    },
    {
     "name": "stderr",
     "output_type": "stream",
     "text": [
      "/Users/user/anaconda3/envs/GIGACOW/lib/python3.11/site-packages/torch/optim/lr_scheduler.py:60: UserWarning: The verbose parameter is deprecated. Please use get_last_lr() to access the learning rate.\n",
      "  warnings.warn(\n",
      "  2%|▏         | 35/2315 [00:12<14:21,  2.65 Segments/s]"
     ]
    },
    {
     "name": "stdout",
     "output_type": "stream",
     "text": [
      "all_quantiles shape: (226, 1, 50)\n",
      "all_quantiles content: [[[30.221012 30.221012 32.391678 ... 38.7125   38.783836 38.708305]]\n",
      "\n",
      " [[30.16432  30.16432  32.32795  ... 38.659668 38.73272  38.661766]]\n",
      "\n",
      " [[30.107626 30.107626 32.26422  ... 38.606453 38.681793 38.615036]]\n",
      "\n",
      " ...\n",
      "\n",
      " [[18.82559  18.82559  19.58201  ... 28.055475 28.523062 29.335117]]\n",
      "\n",
      " [[18.82559  18.82559  19.58201  ... 28.055475 28.523062 29.335117]]\n",
      "\n",
      " [[18.82559  18.82559  19.58201  ... 28.055475 28.523062 29.335117]]]\n",
      "all_quantiles after squeezing shape: (226, 50)\n",
      "Error with cow SE-5c06d92d-2401, lactation 5: too many values to unpack (expected 2)\n"
     ]
    },
    {
     "name": "stderr",
     "output_type": "stream",
     "text": [
      "/Users/user/anaconda3/envs/GIGACOW/lib/python3.11/site-packages/torch/optim/lr_scheduler.py:60: UserWarning: The verbose parameter is deprecated. Please use get_last_lr() to access the learning rate.\n",
      "  warnings.warn(\n",
      "  2%|▏         | 36/2315 [00:13<14:07,  2.69 Segments/s]"
     ]
    },
    {
     "name": "stdout",
     "output_type": "stream",
     "text": [
      "all_quantiles shape: (142, 1, 50)\n",
      "all_quantiles content: [[[39.987988 39.987988 40.56952  ... 44.249344 42.90905  42.403603]]\n",
      "\n",
      " [[39.76759  39.76759  40.36536  ... 44.210815 42.892075 42.394447]]\n",
      "\n",
      " [[39.547215 39.547215 40.161182 ... 44.172478 42.874714 42.385483]]\n",
      "\n",
      " ...\n",
      "\n",
      " [[ 9.795046  9.795046 12.598896 ... 38.978672 40.56511  41.16449 ]]\n",
      "\n",
      " [[ 9.795046  9.795046 12.598896 ... 38.978672 40.56511  41.16449 ]]\n",
      "\n",
      " [[ 9.795046  9.795046 12.598896 ... 38.978672 40.56511  41.16449 ]]]\n",
      "all_quantiles after squeezing shape: (142, 50)\n",
      "Error with cow SE-5c06d92d-2405, lactation 5: too many values to unpack (expected 2)\n"
     ]
    },
    {
     "name": "stderr",
     "output_type": "stream",
     "text": [
      "/Users/user/anaconda3/envs/GIGACOW/lib/python3.11/site-packages/torch/optim/lr_scheduler.py:60: UserWarning: The verbose parameter is deprecated. Please use get_last_lr() to access the learning rate.\n",
      "  warnings.warn(\n",
      "  2%|▏         | 37/2315 [00:13<14:41,  2.58 Segments/s]"
     ]
    },
    {
     "name": "stdout",
     "output_type": "stream",
     "text": [
      "all_quantiles shape: (464, 1, 50)\n",
      "all_quantiles content: [[[20.709787 20.709787 30.172739 ... 51.40133  52.005005 52.56691 ]]\n",
      "\n",
      " [[20.147608 20.147608 30.670559 ... 52.979275 53.601837 54.164505]]\n",
      "\n",
      " [[20.176434 20.176434 30.64506  ... 52.898407 53.52001  54.08249 ]]\n",
      "\n",
      " ...\n",
      "\n",
      " [[25.380135 25.380135 26.03681  ... 38.290787 38.74054  39.29405 ]]\n",
      "\n",
      " [[25.380135 25.380135 26.03681  ... 38.290787 38.74054  39.29405 ]]\n",
      "\n",
      " [[25.380135 25.380135 26.03681  ... 38.290787 38.74054  39.29405 ]]]\n",
      "all_quantiles after squeezing shape: (464, 50)\n",
      "Error with cow SE-5c06d92d-2405, lactation 6: too many values to unpack (expected 2)\n"
     ]
    },
    {
     "name": "stderr",
     "output_type": "stream",
     "text": [
      "/Users/user/anaconda3/envs/GIGACOW/lib/python3.11/site-packages/torch/optim/lr_scheduler.py:60: UserWarning: The verbose parameter is deprecated. Please use get_last_lr() to access the learning rate.\n",
      "  warnings.warn(\n",
      "  2%|▏         | 38/2315 [00:13<14:36,  2.60 Segments/s]"
     ]
    },
    {
     "name": "stdout",
     "output_type": "stream",
     "text": [
      "all_quantiles shape: (320, 1, 50)\n",
      "all_quantiles content: [[[10.628152 10.628152 12.623072 ... 50.86727  51.106453 52.019688]]\n",
      "\n",
      " [[10.628152 10.628152 12.623072 ... 50.86727  51.106453 52.019688]]\n",
      "\n",
      " [[10.66184  10.66184  12.655138 ... 50.827026 51.067352 51.979065]]\n",
      "\n",
      " ...\n",
      "\n",
      " [[22.792076 22.792076 24.198008 ... 36.324024 37.01172  37.407303]]\n",
      "\n",
      " [[22.792076 22.792076 24.198008 ... 36.324024 37.01172  37.407303]]\n",
      "\n",
      " [[22.792076 22.792076 24.198008 ... 36.324024 37.01172  37.407303]]]\n",
      "all_quantiles after squeezing shape: (320, 50)\n",
      "Error with cow SE-5c06d92d-2406, lactation 5: too many values to unpack (expected 2)\n"
     ]
    },
    {
     "name": "stderr",
     "output_type": "stream",
     "text": [
      "/Users/user/anaconda3/envs/GIGACOW/lib/python3.11/site-packages/torch/optim/lr_scheduler.py:60: UserWarning: The verbose parameter is deprecated. Please use get_last_lr() to access the learning rate.\n",
      "  warnings.warn(\n",
      "  2%|▏         | 39/2315 [00:14<15:01,  2.52 Segments/s]"
     ]
    },
    {
     "name": "stdout",
     "output_type": "stream",
     "text": [
      "all_quantiles shape: (209, 1, 50)\n",
      "all_quantiles content: [[[44.09671  44.09671  44.501053 ... 50.93651  51.003075 50.80986 ]]\n",
      "\n",
      " [[44.04486  44.04486  44.448757 ... 50.893402 50.96035  50.77152 ]]\n",
      "\n",
      " [[43.993004 43.993004 44.39648  ... 50.850487 50.917244 50.73337 ]]\n",
      "\n",
      " ...\n",
      "\n",
      " [[33.10438  33.10438  33.416294 ... 41.799736 41.9281   42.681885]]\n",
      "\n",
      " [[33.052525 33.052525 33.36401  ... 41.75644  41.885185 42.643738]]\n",
      "\n",
      " [[33.000683 33.000683 33.31172  ... 41.713333 41.84246  42.6054  ]]]\n",
      "all_quantiles after squeezing shape: (209, 50)\n",
      "Error with cow SE-5c06d92d-2408, lactation 5: too many values to unpack (expected 2)\n"
     ]
    },
    {
     "name": "stderr",
     "output_type": "stream",
     "text": [
      "/Users/user/anaconda3/envs/GIGACOW/lib/python3.11/site-packages/torch/optim/lr_scheduler.py:60: UserWarning: The verbose parameter is deprecated. Please use get_last_lr() to access the learning rate.\n",
      "  warnings.warn(\n",
      "  2%|▏         | 40/2315 [00:14<14:59,  2.53 Segments/s]"
     ]
    },
    {
     "name": "stdout",
     "output_type": "stream",
     "text": [
      "all_quantiles shape: (357, 1, 50)\n",
      "all_quantiles content: [[[26.256573 26.256573 29.905033 ... 54.723354 55.22728  56.11057 ]]\n",
      "\n",
      " [[28.434729 28.434729 32.371212 ... 56.478115 57.00359  57.952305]]\n",
      "\n",
      " [[28.387367 28.387367 32.31759  ... 56.44016  56.96487  57.912254]]\n",
      "\n",
      " ...\n",
      "\n",
      " [[11.340928 11.340928 13.017034 ... 42.705917 43.063927 43.49918 ]]\n",
      "\n",
      " [[11.340928 11.340928 13.017034 ... 42.705917 43.063927 43.49918 ]]\n",
      "\n",
      " [[11.340928 11.340928 13.017034 ... 42.705917 43.063927 43.49918 ]]]\n",
      "all_quantiles after squeezing shape: (357, 50)\n",
      "Error with cow SE-5c06d92d-2408, lactation 6: too many values to unpack (expected 2)\n"
     ]
    },
    {
     "name": "stderr",
     "output_type": "stream",
     "text": [
      "/Users/user/anaconda3/envs/GIGACOW/lib/python3.11/site-packages/torch/optim/lr_scheduler.py:60: UserWarning: The verbose parameter is deprecated. Please use get_last_lr() to access the learning rate.\n",
      "  warnings.warn(\n",
      "  2%|▏         | 41/2315 [00:14<14:03,  2.70 Segments/s]"
     ]
    },
    {
     "name": "stdout",
     "output_type": "stream",
     "text": [
      "all_quantiles shape: (94, 1, 50)\n",
      "all_quantiles content: [[[36.42448  36.42448  36.452812 ... 37.430763 37.3024   37.200165]]\n",
      "\n",
      " [[32.998222 32.998222 33.91186  ... 37.102318 37.04338  36.997986]]\n",
      "\n",
      " [[29.571962 29.571962 31.370907 ... 36.773872 36.784744 36.795616]]\n",
      "\n",
      " ...\n",
      "\n",
      " [[15.866923 15.866923 21.207108 ... 35.459995 35.74953  35.98671 ]]\n",
      "\n",
      " [[15.866923 15.866923 21.207108 ... 35.459995 35.74953  35.98671 ]]\n",
      "\n",
      " [[15.866923 15.866923 21.207108 ... 35.459995 35.74953  35.98671 ]]]\n",
      "all_quantiles after squeezing shape: (94, 50)\n",
      "Error with cow SE-5c06d92d-2410, lactation 4: too many values to unpack (expected 2)\n"
     ]
    },
    {
     "name": "stderr",
     "output_type": "stream",
     "text": [
      "/Users/user/anaconda3/envs/GIGACOW/lib/python3.11/site-packages/torch/optim/lr_scheduler.py:60: UserWarning: The verbose parameter is deprecated. Please use get_last_lr() to access the learning rate.\n",
      "  warnings.warn(\n",
      "  2%|▏         | 42/2315 [00:15<14:45,  2.57 Segments/s]"
     ]
    },
    {
     "name": "stdout",
     "output_type": "stream",
     "text": [
      "all_quantiles shape: (488, 1, 50)\n",
      "all_quantiles content: [[[28.909624 28.909624 36.774635 ... 63.0476   63.470078 63.736916]]\n",
      "\n",
      " [[28.909624 28.909624 36.774635 ... 63.0476   63.470078 63.736916]]\n",
      "\n",
      " [[29.414938 29.414938 37.911915 ... 65.29846  65.72189  65.87677 ]]\n",
      "\n",
      " ...\n",
      "\n",
      " [[23.334265 23.334265 24.226881 ... 38.212967 38.625908 40.126038]]\n",
      "\n",
      " [[23.334265 23.334265 24.226881 ... 38.212967 38.625908 40.126038]]\n",
      "\n",
      " [[23.334265 23.334265 24.226881 ... 38.212967 38.625908 40.126038]]]\n",
      "all_quantiles after squeezing shape: (488, 50)\n",
      "Error with cow SE-5c06d92d-2410, lactation 5: too many values to unpack (expected 2)\n"
     ]
    },
    {
     "name": "stderr",
     "output_type": "stream",
     "text": [
      "/Users/user/anaconda3/envs/GIGACOW/lib/python3.11/site-packages/torch/optim/lr_scheduler.py:60: UserWarning: The verbose parameter is deprecated. Please use get_last_lr() to access the learning rate.\n",
      "  warnings.warn(\n",
      "  2%|▏         | 43/2315 [00:15<14:34,  2.60 Segments/s]"
     ]
    },
    {
     "name": "stdout",
     "output_type": "stream",
     "text": [
      "all_quantiles shape: (237, 1, 50)\n",
      "all_quantiles content: [[[48.240643 48.240643 49.762894 ... 63.53149  64.97021  67.91878 ]]\n",
      "\n",
      " [[48.092926 48.092926 49.633408 ... 63.393974 64.82639  67.76428 ]]\n",
      "\n",
      " [[47.94519  47.94519  49.503944 ... 63.256264 64.68277  67.6096  ]]\n",
      "\n",
      " ...\n",
      "\n",
      " [[13.524735 13.524735 19.336843 ... 31.203173 31.175232 31.61192 ]]\n",
      "\n",
      " [[13.377023 13.377023 19.207357 ... 31.065655 31.031511 31.457329]]\n",
      "\n",
      " [[13.081551 13.081551 18.948435 ... 30.790518 30.74379  31.148434]]]\n",
      "all_quantiles after squeezing shape: (237, 50)\n",
      "Error with cow SE-5c06d92d-2424, lactation 5: too many values to unpack (expected 2)\n"
     ]
    },
    {
     "name": "stderr",
     "output_type": "stream",
     "text": [
      "/Users/user/anaconda3/envs/GIGACOW/lib/python3.11/site-packages/torch/optim/lr_scheduler.py:60: UserWarning: The verbose parameter is deprecated. Please use get_last_lr() to access the learning rate.\n",
      "  warnings.warn(\n",
      "  2%|▏         | 44/2315 [00:16<14:30,  2.61 Segments/s]"
     ]
    },
    {
     "name": "stdout",
     "output_type": "stream",
     "text": [
      "all_quantiles shape: (293, 1, 50)\n",
      "all_quantiles content: [[[41.23645  41.23645  41.82801  ... 49.451637 49.38831  49.002453]]\n",
      "\n",
      " [[41.152653 41.152653 41.74211  ... 49.404526 49.342728 48.96145 ]]\n",
      "\n",
      " [[41.06885  41.06885  41.656227 ... 49.357224 49.29714  48.920246]]\n",
      "\n",
      " ...\n",
      "\n",
      " [[23.555063 23.555063 23.705267 ... 39.498325 39.77413  40.324783]]\n",
      "\n",
      " [[23.555063 23.555063 23.705267 ... 39.498325 39.77413  40.324783]]\n",
      "\n",
      " [[23.555063 23.555063 23.705267 ... 39.498325 39.77413  40.324783]]]\n",
      "all_quantiles after squeezing shape: (293, 50)\n",
      "Error with cow SE-5c06d92d-2430, lactation 5: too many values to unpack (expected 2)\n"
     ]
    },
    {
     "name": "stderr",
     "output_type": "stream",
     "text": [
      "/Users/user/anaconda3/envs/GIGACOW/lib/python3.11/site-packages/torch/optim/lr_scheduler.py:60: UserWarning: The verbose parameter is deprecated. Please use get_last_lr() to access the learning rate.\n",
      "  warnings.warn(\n",
      "  2%|▏         | 45/2315 [00:16<15:21,  2.46 Segments/s]"
     ]
    },
    {
     "name": "stdout",
     "output_type": "stream",
     "text": [
      "all_quantiles shape: (394, 1, 50)\n",
      "all_quantiles content: [[[26.681374 26.681374 39.45217  ... 70.02411  70.3434   70.71152 ]]\n",
      "\n",
      " [[25.835228 25.835228 39.401863 ... 71.297264 71.62399  72.00317 ]]\n",
      "\n",
      " [[26.681374 26.681374 39.45217  ... 70.02411  70.3434   70.71152 ]]\n",
      "\n",
      " ...\n",
      "\n",
      " [[41.235184 41.235184 40.317104 ... 48.130035 48.313904 48.49434 ]]\n",
      "\n",
      " [[41.235184 41.235184 40.317104 ... 48.130035 48.313904 48.49434 ]]\n",
      "\n",
      " [[41.235184 41.235184 40.317104 ... 48.130035 48.313904 48.49434 ]]]\n",
      "all_quantiles after squeezing shape: (394, 50)\n",
      "Error with cow SE-5c06d92d-2457, lactation 5: too many values to unpack (expected 2)\n"
     ]
    },
    {
     "name": "stderr",
     "output_type": "stream",
     "text": [
      "/Users/user/anaconda3/envs/GIGACOW/lib/python3.11/site-packages/torch/optim/lr_scheduler.py:60: UserWarning: The verbose parameter is deprecated. Please use get_last_lr() to access the learning rate.\n",
      "  warnings.warn(\n",
      "  2%|▏         | 46/2315 [00:16<14:52,  2.54 Segments/s]"
     ]
    },
    {
     "name": "stdout",
     "output_type": "stream",
     "text": [
      "all_quantiles shape: (203, 1, 50)\n",
      "all_quantiles content: [[[39.745472 39.745472 42.433693 ... 68.3609   69.64054  70.266914]]\n",
      "\n",
      " [[34.20851  34.20851  38.080452 ... 78.103065 80.02243  80.84984 ]]\n",
      "\n",
      " [[39.745472 39.745472 42.433693 ... 68.3609   69.64054  70.266914]]\n",
      "\n",
      " ...\n",
      "\n",
      " [[48.590206 48.590206 49.3876   ... 52.799034 53.056526 53.361702]]\n",
      "\n",
      " [[48.662113 48.662113 49.444126 ... 52.672386 52.921673 53.224182]]\n",
      "\n",
      " [[48.73403  48.73403  49.500656 ... 52.54593  52.786827 53.086853]]]\n",
      "all_quantiles after squeezing shape: (203, 50)\n",
      "Error with cow SE-5c06d92d-2457, lactation 6: too many values to unpack (expected 2)\n"
     ]
    },
    {
     "name": "stderr",
     "output_type": "stream",
     "text": [
      "/Users/user/anaconda3/envs/GIGACOW/lib/python3.11/site-packages/torch/optim/lr_scheduler.py:60: UserWarning: The verbose parameter is deprecated. Please use get_last_lr() to access the learning rate.\n",
      "  warnings.warn(\n",
      "  2%|▏         | 47/2315 [00:17<13:24,  2.82 Segments/s]"
     ]
    },
    {
     "name": "stdout",
     "output_type": "stream",
     "text": [
      "all_quantiles shape: (36, 1, 50)\n",
      "all_quantiles content: [[[17.004286 17.004286 17.686928 ... 35.264397 35.315704 35.346985]]\n",
      "\n",
      " [[17.004286 17.004286 17.686928 ... 35.264397 35.315704 35.346985]]\n",
      "\n",
      " [[17.004286 17.004286 17.686928 ... 35.264397 35.315704 35.346985]]\n",
      "\n",
      " ...\n",
      "\n",
      " [[17.004286 17.004286 17.686928 ... 35.264397 35.315704 35.346985]]\n",
      "\n",
      " [[17.004286 17.004286 17.686928 ... 35.264397 35.315704 35.346985]]\n",
      "\n",
      " [[17.004286 17.004286 17.686928 ... 35.264397 35.315704 35.346985]]]\n",
      "all_quantiles after squeezing shape: (36, 50)\n",
      "Error with cow SE-5c06d92d-2461, lactation 4: too many values to unpack (expected 2)\n"
     ]
    },
    {
     "name": "stderr",
     "output_type": "stream",
     "text": [
      "/Users/user/anaconda3/envs/GIGACOW/lib/python3.11/site-packages/torch/optim/lr_scheduler.py:60: UserWarning: The verbose parameter is deprecated. Please use get_last_lr() to access the learning rate.\n",
      "  warnings.warn(\n",
      "  2%|▏         | 48/2315 [00:17<14:03,  2.69 Segments/s]"
     ]
    },
    {
     "name": "stdout",
     "output_type": "stream",
     "text": [
      "all_quantiles shape: (422, 1, 50)\n",
      "all_quantiles content: [[[24.15123  24.15123  30.141258 ... 53.233147 53.819084 54.2942  ]]\n",
      "\n",
      " [[23.965157 23.965157 30.228233 ... 54.12922  54.718586 55.178642]]\n",
      "\n",
      " [[24.15123  24.15123  30.141258 ... 53.233147 53.819084 54.2942  ]]\n",
      "\n",
      " ...\n",
      "\n",
      " [[28.174543 28.174543 28.26066  ... 33.857346 34.36804  35.16693 ]]\n",
      "\n",
      " [[28.174543 28.174543 28.26066  ... 33.857346 34.36804  35.16693 ]]\n",
      "\n",
      " [[28.174543 28.174543 28.26066  ... 33.857346 34.36804  35.16693 ]]]\n",
      "all_quantiles after squeezing shape: (422, 50)\n",
      "Error with cow SE-5c06d92d-2461, lactation 5: too many values to unpack (expected 2)\n"
     ]
    },
    {
     "name": "stderr",
     "output_type": "stream",
     "text": [
      "/Users/user/anaconda3/envs/GIGACOW/lib/python3.11/site-packages/torch/optim/lr_scheduler.py:60: UserWarning: The verbose parameter is deprecated. Please use get_last_lr() to access the learning rate.\n",
      "  warnings.warn(\n",
      "  2%|▏         | 49/2315 [00:18<14:31,  2.60 Segments/s]"
     ]
    },
    {
     "name": "stdout",
     "output_type": "stream",
     "text": [
      "all_quantiles shape: (398, 1, 50)\n",
      "all_quantiles content: [[[43.829212 43.829212 44.82815  ... 60.897446 61.474987 62.562557]]\n",
      "\n",
      " [[43.7664   43.7664   44.76353  ... 60.80513  61.38153  62.46624 ]]\n",
      "\n",
      " [[43.7036   43.7036   44.698906 ... 60.71281  61.28769  62.36992 ]]\n",
      "\n",
      " ...\n",
      "\n",
      " [[24.2954   24.2954   24.733948 ... 32.202244 32.34272  32.609272]]\n",
      "\n",
      " [[24.2954   24.2954   24.733948 ... 32.202244 32.34272  32.609272]]\n",
      "\n",
      " [[24.2954   24.2954   24.733948 ... 32.202244 32.34272  32.609272]]]\n",
      "all_quantiles after squeezing shape: (398, 50)\n",
      "Error with cow SE-5c06d92d-2465, lactation 5: too many values to unpack (expected 2)\n"
     ]
    },
    {
     "name": "stderr",
     "output_type": "stream",
     "text": [
      "/Users/user/anaconda3/envs/GIGACOW/lib/python3.11/site-packages/torch/optim/lr_scheduler.py:60: UserWarning: The verbose parameter is deprecated. Please use get_last_lr() to access the learning rate.\n",
      "  warnings.warn(\n",
      "  2%|▏         | 50/2315 [00:18<13:07,  2.88 Segments/s]"
     ]
    },
    {
     "name": "stdout",
     "output_type": "stream",
     "text": [
      "all_quantiles shape: (36, 1, 50)\n",
      "all_quantiles content: [[[30.174171 30.174171 30.182838 ... 46.87557  46.881676 46.89026 ]]\n",
      "\n",
      " [[30.021822 30.021822 30.039297 ... 46.694756 46.703716 46.713634]]\n",
      "\n",
      " [[29.869461 29.869461 29.895746 ... 46.51432  46.525574 46.537014]]\n",
      "\n",
      " ...\n",
      "\n",
      " [[25.29882  25.29882  25.589287 ... 41.09573  41.184425 41.236115]]\n",
      "\n",
      " [[25.29882  25.29882  25.589287 ... 41.09573  41.184425 41.236115]]\n",
      "\n",
      " [[25.29882  25.29882  25.589287 ... 41.09573  41.184425 41.236115]]]\n",
      "all_quantiles after squeezing shape: (36, 50)\n",
      "Error with cow SE-5c06d92d-2470, lactation 4: too many values to unpack (expected 2)\n"
     ]
    },
    {
     "name": "stderr",
     "output_type": "stream",
     "text": [
      "/Users/user/anaconda3/envs/GIGACOW/lib/python3.11/site-packages/torch/optim/lr_scheduler.py:60: UserWarning: The verbose parameter is deprecated. Please use get_last_lr() to access the learning rate.\n",
      "  warnings.warn(\n",
      "  2%|▏         | 51/2315 [00:18<13:30,  2.79 Segments/s]"
     ]
    },
    {
     "name": "stdout",
     "output_type": "stream",
     "text": [
      "all_quantiles shape: (307, 1, 50)\n",
      "all_quantiles content: [[[39.35759  39.35759  44.405674 ... 64.42032  65.3841   65.77072 ]]\n",
      "\n",
      " [[39.35759  39.35759  44.405674 ... 64.42032  65.3841   65.77072 ]]\n",
      "\n",
      " [[39.316772 39.316772 44.351196 ... 64.346504 65.307045 65.6929  ]]\n",
      "\n",
      " ...\n",
      "\n",
      " [[26.987337 26.987337 27.897167 ... 42.051697 42.012405 42.232513]]\n",
      "\n",
      " [[26.987337 26.987337 27.897167 ... 42.051697 42.012405 42.232513]]\n",
      "\n",
      " [[26.987337 26.987337 27.897167 ... 42.051697 42.012405 42.232513]]]\n",
      "all_quantiles after squeezing shape: (307, 50)\n",
      "Error with cow SE-5c06d92d-2470, lactation 5: too many values to unpack (expected 2)\n"
     ]
    },
    {
     "name": "stderr",
     "output_type": "stream",
     "text": [
      "/Users/user/anaconda3/envs/GIGACOW/lib/python3.11/site-packages/torch/optim/lr_scheduler.py:60: UserWarning: The verbose parameter is deprecated. Please use get_last_lr() to access the learning rate.\n",
      "  warnings.warn(\n",
      "  2%|▏         | 52/2315 [00:19<13:41,  2.75 Segments/s]"
     ]
    },
    {
     "name": "stdout",
     "output_type": "stream",
     "text": [
      "all_quantiles shape: (203, 1, 50)\n",
      "all_quantiles content: [[[39.056778 39.056778 43.498203 ... 60.88962  61.54976  64.17313 ]]\n",
      "\n",
      " [[39.056778 39.056778 43.498203 ... 60.88962  61.54976  64.17313 ]]\n",
      "\n",
      " [[39.056778 39.056778 43.498203 ... 60.88962  61.54976  64.17313 ]]\n",
      "\n",
      " ...\n",
      "\n",
      " [[46.997963 46.997963 43.996143 ... 50.412556 50.678825 50.827785]]\n",
      "\n",
      " [[47.06254  47.06254  44.000183 ... 50.327488 50.59032  50.71945 ]]\n",
      "\n",
      " [[47.12709  47.12709  44.00424  ... 50.24204  50.502014 50.610924]]]\n",
      "all_quantiles after squeezing shape: (203, 50)\n",
      "Error with cow SE-5c06d92d-2470, lactation 6: too many values to unpack (expected 2)\n"
     ]
    },
    {
     "name": "stderr",
     "output_type": "stream",
     "text": [
      "/Users/user/anaconda3/envs/GIGACOW/lib/python3.11/site-packages/torch/optim/lr_scheduler.py:60: UserWarning: The verbose parameter is deprecated. Please use get_last_lr() to access the learning rate.\n",
      "  warnings.warn(\n",
      "  2%|▏         | 53/2315 [00:19<14:22,  2.62 Segments/s]"
     ]
    },
    {
     "name": "stdout",
     "output_type": "stream",
     "text": [
      "all_quantiles shape: (339, 1, 50)\n",
      "all_quantiles content: [[[23.661516 23.661516 29.525017 ... 63.26046  63.480186 63.799095]]\n",
      "\n",
      " [[23.379086 23.379086 29.028486 ... 60.04524  60.254665 60.554123]]\n",
      "\n",
      " [[23.635054 23.635054 29.478477 ... 62.958904 63.177868 63.494873]]\n",
      "\n",
      " ...\n",
      "\n",
      " [[20.537006 20.537006 24.032307 ... 27.689266 27.800083 27.899647]]\n",
      "\n",
      " [[20.537006 20.537006 24.032307 ... 27.689266 27.800083 27.899647]]\n",
      "\n",
      " [[20.537006 20.537006 24.032307 ... 27.689266 27.800083 27.899647]]]\n",
      "all_quantiles after squeezing shape: (339, 50)\n",
      "Error with cow SE-5c06d92d-2478, lactation 5: too many values to unpack (expected 2)\n"
     ]
    },
    {
     "name": "stderr",
     "output_type": "stream",
     "text": [
      "/Users/user/anaconda3/envs/GIGACOW/lib/python3.11/site-packages/torch/optim/lr_scheduler.py:60: UserWarning: The verbose parameter is deprecated. Please use get_last_lr() to access the learning rate.\n",
      "  warnings.warn(\n",
      "  2%|▏         | 54/2315 [00:19<14:26,  2.61 Segments/s]"
     ]
    },
    {
     "name": "stdout",
     "output_type": "stream",
     "text": [
      "all_quantiles shape: (250, 1, 50)\n",
      "all_quantiles content: [[[31.899738 31.899738 32.433628 ... 77.140045 78.268234 81.49109 ]]\n",
      "\n",
      " [[31.899738 31.899738 32.433628 ... 77.140045 78.268234 81.49109 ]]\n",
      "\n",
      " [[31.92165  31.92165  32.456326 ... 76.99547  78.12004  81.33087 ]]\n",
      "\n",
      " ...\n",
      "\n",
      " [[37.309002 37.309002 38.03818  ... 41.382214 41.69426  41.91494 ]]\n",
      "\n",
      " [[37.330902 37.330902 38.06089  ... 41.23745  41.54625  41.754723]]\n",
      "\n",
      " [[37.3528   37.3528   38.083576 ... 41.09268  41.39824  41.594315]]]\n",
      "all_quantiles after squeezing shape: (250, 50)\n",
      "Error with cow SE-5c06d92d-2478, lactation 6: too many values to unpack (expected 2)\n"
     ]
    },
    {
     "name": "stderr",
     "output_type": "stream",
     "text": [
      "/Users/user/anaconda3/envs/GIGACOW/lib/python3.11/site-packages/torch/optim/lr_scheduler.py:60: UserWarning: The verbose parameter is deprecated. Please use get_last_lr() to access the learning rate.\n",
      "  warnings.warn(\n",
      "  2%|▏         | 55/2315 [00:20<14:11,  2.66 Segments/s]"
     ]
    },
    {
     "name": "stdout",
     "output_type": "stream",
     "text": [
      "all_quantiles shape: (139, 1, 50)\n",
      "all_quantiles content: [[[35.567104 35.567104 39.394558 ... 50.48561  50.906563 51.31569 ]]\n",
      "\n",
      " [[35.505817 35.505817 39.31255  ... 50.38662  50.804134 51.209446]]\n",
      "\n",
      " [[35.444557 35.444557 39.23055  ... 50.28763  50.701523 51.10302 ]]\n",
      "\n",
      " ...\n",
      "\n",
      " [[27.233683 27.233683 28.241968 ... 37.0203   36.96022  36.85131 ]]\n",
      "\n",
      " [[27.17241  27.17241  28.159939 ... 36.92131  36.857796 36.74488 ]]\n",
      "\n",
      " [[27.17241  27.17241  28.159939 ... 36.92131  36.857796 36.74488 ]]]\n",
      "all_quantiles after squeezing shape: (139, 50)\n",
      "Error with cow SE-5c06d92d-2483, lactation 4: too many values to unpack (expected 2)\n"
     ]
    },
    {
     "name": "stderr",
     "output_type": "stream",
     "text": [
      "/Users/user/anaconda3/envs/GIGACOW/lib/python3.11/site-packages/torch/optim/lr_scheduler.py:60: UserWarning: The verbose parameter is deprecated. Please use get_last_lr() to access the learning rate.\n",
      "  warnings.warn(\n",
      "  2%|▏         | 56/2315 [00:20<14:19,  2.63 Segments/s]"
     ]
    },
    {
     "name": "stdout",
     "output_type": "stream",
     "text": [
      "all_quantiles shape: (357, 1, 50)\n",
      "all_quantiles content: [[[18.784142 18.784142 32.02522  ... 54.98352  55.312157 56.0976  ]]\n",
      "\n",
      " [[20.571814 20.571814 36.118805 ... 58.99887  59.325977 60.217663]]\n",
      "\n",
      " [[18.784142 18.784142 32.02522  ... 54.98352  55.312157 56.0976  ]]\n",
      "\n",
      " ...\n",
      "\n",
      " [[ 8.327961  8.327961  8.081532 ... 31.497478 31.834124 31.99911 ]]\n",
      "\n",
      " [[ 8.327961  8.327961  8.081532 ... 31.497478 31.834124 31.99911 ]]\n",
      "\n",
      " [[ 8.327961  8.327961  8.081532 ... 31.497478 31.834124 31.99911 ]]]\n",
      "all_quantiles after squeezing shape: (357, 50)\n",
      "Error with cow SE-5c06d92d-2483, lactation 5: too many values to unpack (expected 2)\n"
     ]
    },
    {
     "name": "stderr",
     "output_type": "stream",
     "text": [
      "/Users/user/anaconda3/envs/GIGACOW/lib/python3.11/site-packages/torch/optim/lr_scheduler.py:60: UserWarning: The verbose parameter is deprecated. Please use get_last_lr() to access the learning rate.\n",
      "  warnings.warn(\n",
      "  2%|▏         | 57/2315 [00:21<14:14,  2.64 Segments/s]"
     ]
    },
    {
     "name": "stdout",
     "output_type": "stream",
     "text": [
      "all_quantiles shape: (247, 1, 50)\n",
      "all_quantiles content: [[[55.261795 55.261795 56.0271   ... 59.347153 59.404755 59.74617 ]]\n",
      "\n",
      " [[55.093044 55.093044 55.85707  ... 59.28383  59.344097 59.684753]]\n",
      "\n",
      " [[54.924263 54.924263 55.68707  ... 59.2205   59.283447 59.623146]]\n",
      "\n",
      " ...\n",
      "\n",
      " [[13.745259 13.745259 14.202665 ... 43.76106  44.50092  44.621468]]\n",
      "\n",
      " [[13.407707 13.407707 13.86261  ... 43.634415 44.379616 44.498444]]\n",
      "\n",
      " [[13.070177 13.070177 13.522601 ... 43.507767 44.2585   44.37561 ]]]\n",
      "all_quantiles after squeezing shape: (247, 50)\n",
      "Error with cow SE-5c06d92d-2489, lactation 5: too many values to unpack (expected 2)\n"
     ]
    },
    {
     "name": "stderr",
     "output_type": "stream",
     "text": [
      "/Users/user/anaconda3/envs/GIGACOW/lib/python3.11/site-packages/torch/optim/lr_scheduler.py:60: UserWarning: The verbose parameter is deprecated. Please use get_last_lr() to access the learning rate.\n",
      "  warnings.warn(\n",
      "  3%|▎         | 58/2315 [00:21<14:29,  2.60 Segments/s]"
     ]
    },
    {
     "name": "stdout",
     "output_type": "stream",
     "text": [
      "all_quantiles shape: (377, 1, 50)\n",
      "all_quantiles content: [[[37.286636 37.286636 37.77797  ... 49.135967 49.102207 49.332428]]\n",
      "\n",
      " [[37.24277  37.24277  37.736393 ... 49.08867  49.056816 49.287792]]\n",
      "\n",
      " [[37.198914 37.198914 37.694824 ... 49.041367 49.0118   49.242973]]\n",
      "\n",
      " ...\n",
      "\n",
      " [[24.697601 24.697601 25.845253 ... 35.55422  36.145973 36.471176]]\n",
      "\n",
      " [[24.697601 24.697601 25.845253 ... 35.55422  36.145973 36.471176]]\n",
      "\n",
      " [[24.697601 24.697601 25.845253 ... 35.55422  36.145973 36.471176]]]\n",
      "all_quantiles after squeezing shape: (377, 50)\n",
      "Error with cow SE-5c06d92d-2501, lactation 5: too many values to unpack (expected 2)\n"
     ]
    },
    {
     "name": "stderr",
     "output_type": "stream",
     "text": [
      "/Users/user/anaconda3/envs/GIGACOW/lib/python3.11/site-packages/torch/optim/lr_scheduler.py:60: UserWarning: The verbose parameter is deprecated. Please use get_last_lr() to access the learning rate.\n",
      "  warnings.warn(\n",
      "  3%|▎         | 59/2315 [00:21<13:08,  2.86 Segments/s]"
     ]
    },
    {
     "name": "stdout",
     "output_type": "stream",
     "text": [
      "all_quantiles shape: (18, 1, 50)\n",
      "all_quantiles content: [[[25.424803 25.424803 25.835629 26.22943  26.467121 26.585922 26.635551\n",
      "   26.64727  26.63976  26.62556  26.61457  26.616787 26.641703 26.693226\n",
      "   26.763819 26.839352 26.909063 26.966524 27.00772  27.033329 27.048157\n",
      "   27.057934 27.065754 27.072906 27.079582 27.085016 27.08907  27.090406\n",
      "   27.087736 27.081535 27.075624 27.07572  27.082632 27.094173 27.108288\n",
      "   27.125072 27.144432 27.167702 27.195166 27.225779 27.256582 27.284431\n",
      "   27.305029 27.316378 27.321718 27.326487 27.332876 27.340792 27.348995\n",
      "   27.356148]]\n",
      "\n",
      " [[25.202988 25.202988 25.570955 25.92631  26.143944 26.254795 26.302517\n",
      "   26.315401 26.31066  26.299797 26.2918   26.29571  26.320219 26.369045\n",
      "   26.436018 26.508736 26.577734 26.636648 26.681278 26.711176 26.730154\n",
      "   26.743362 26.753664 26.762627 26.770685 26.777315 26.78256  26.78566\n",
      "   26.786041 26.784468 26.784325 26.789473 26.799582 26.81284  26.82743\n",
      "   26.843739 26.862335 26.884174 26.910305 26.939392 26.969337 26.997278\n",
      "   27.019882 27.03552  27.046108 27.055645 27.064896 27.073956 27.082539\n",
      "   27.0895  ]]\n",
      "\n",
      " [[24.981173 24.981173 25.306282 25.623194 25.820763 25.923662 25.96948\n",
      "   25.98355  25.981558 25.974012 25.969028 25.974678 25.998688 26.044916\n",
      "   26.108192 26.178146 26.24638  26.30682  26.354836 26.388979 26.4122\n",
      "   26.4287   26.441622 26.452396 26.461792 26.469564 26.476048 26.480911\n",
      "   26.484346 26.487446 26.492977 26.503134 26.516724 26.53141  26.546572\n",
      "   26.562405 26.580141 26.600838 26.625345 26.653004 26.682184 26.710129\n",
      "   26.734732 26.754475 26.77059  26.7848   26.796911 26.807213 26.815985\n",
      "   26.822851]]\n",
      "\n",
      " [[24.75936  24.75936  25.041601 25.320076 25.497591 25.59253  25.636446\n",
      "   25.65168  25.652445 25.64826  25.646255 25.653599 25.677204 25.720737\n",
      "   25.780392 25.847553 25.915026 25.976992 26.028347 26.066875 26.09415\n",
      "   26.114128 26.12953  26.14212  26.152945 26.161861 26.169489 26.176214\n",
      "   26.182602 26.190422 26.20163  26.216793 26.233768 26.250172 26.265524\n",
      "   26.281166 26.298046 26.317308 26.34039  26.366806 26.394844 26.423073\n",
      "   26.44949  26.473522 26.495075 26.513958 26.52893  26.540375 26.549435\n",
      "   26.556395]]\n",
      "\n",
      " [[24.537544 24.537544 24.77693  25.016953 25.174408 25.2614   25.303423\n",
      "   25.319813 25.323355 25.322483 25.323462 25.332546 25.35572  25.39656\n",
      "   25.452589 25.51694  25.583696 25.647116 25.701904 25.744724 25.776194\n",
      "   25.799513 25.817442 25.83189  25.844048 25.85411  25.86298  25.871466\n",
      "   25.880909 25.8934   25.91028  25.9305   25.950766 25.968838 25.984669\n",
      "   25.999928 26.015759 26.033876 26.055525 26.080418 26.107595 26.135921\n",
      "   26.164436 26.192474 26.219557 26.24321  26.260853 26.273537 26.282978\n",
      "   26.28975 ]]\n",
      "\n",
      " [[24.315731 24.315731 24.512255 24.713825 24.85124  24.930273 24.970388\n",
      "   24.987947 24.994242 24.99671  25.000713 25.011467 25.034212 25.072432\n",
      "   25.124763 25.186348 25.252342 25.317287 25.375414 25.422573 25.45819\n",
      "   25.484896 25.505352 25.521658 25.535202 25.54636  25.556469 25.566721\n",
      "   25.579214 25.596378 25.618933 25.644207 25.667763 25.687504 25.703812\n",
      "   25.718594 25.73366  25.750349 25.770664 25.794125 25.82035  25.84877\n",
      "   25.87919  25.911522 25.944042 25.972366 25.99287  26.006794 26.016426\n",
      "   26.023102]]\n",
      "\n",
      " [[24.093916 24.093916 24.24758  24.410706 24.52806  24.599146 24.637352\n",
      "   24.65608  24.665129 24.67096  24.67792  24.690414 24.712729 24.748253\n",
      "   24.796963 24.855757 24.92094  24.98746  25.049017 25.100372 25.140238\n",
      "   25.170279 25.19326  25.211428 25.226307 25.23861  25.249958 25.262022\n",
      "   25.277424 25.299406 25.327587 25.357914 25.38476  25.40617  25.42286\n",
      "   25.437355 25.45147  25.466919 25.485704 25.507832 25.533102 25.561712\n",
      "   25.594044 25.63057  25.66843  25.701523 25.724888 25.739956 25.749968\n",
      "   25.75655 ]]\n",
      "\n",
      " [[23.8721   23.8721   23.982906 24.107588 24.204885 24.268007 24.304317\n",
      "   24.324224 24.336039 24.34516  24.355173 24.369335 24.391222 24.424099\n",
      "   24.46916  24.525166 24.589586 24.65763  24.722528 24.77827  24.822187\n",
      "   24.855661 24.881218 24.901152 24.91746  24.930904 24.943398 24.957275\n",
      "   24.975729 25.002384 25.03619  25.07162  25.1019   25.124836 25.141905\n",
      "   25.156021 25.169277 25.183582 25.200748 25.221539 25.245762 25.274563\n",
      "   25.308893 25.349615 25.392912 25.430677 25.456903 25.473118 25.483511\n",
      "   25.489902]]\n",
      "\n",
      " [[23.650286 23.650286 23.718231 23.804468 23.88171  23.936878 23.971283\n",
      "   23.99236  24.006926 24.019407 24.032402 24.04828  24.069714 24.099945\n",
      "   24.141312 24.194572 24.258255 24.327755 24.396086 24.45612  24.50423\n",
      "   24.541044 24.56913  24.590921 24.608564 24.623156 24.636889 24.652527\n",
      "   24.674034 24.705362 24.744844 24.785328 24.818897 24.843502 24.861048\n",
      "   24.874783 24.887083 24.900055 24.915884 24.935148 24.958609 24.98741\n",
      "   25.023746 25.068567 25.117397 25.159836 25.188828 25.206469 25.21696\n",
      "   25.223253]]\n",
      "\n",
      " [[23.428469 23.428469 23.453556 23.501337 23.558544 23.60574  23.63826\n",
      "   23.660503 23.677801 23.693634 23.709631 23.727226 23.748207 23.775793\n",
      "   23.813509 23.863981 23.9269   23.997927 24.069593 24.133966 24.186228\n",
      "   24.226473 24.25704  24.280643 24.299667 24.315453 24.330376 24.347782\n",
      "   24.37234  24.40834  24.453497 24.499035 24.535894 24.562168 24.580193\n",
      "   24.593449 24.604893 24.616623 24.630928 24.648855 24.671364 24.70026\n",
      "   24.738598 24.787617 24.841879 24.889088 24.920748 24.93963  24.950504\n",
      "   24.956703]]\n",
      "\n",
      " [[23.206656 23.206656 23.188877 23.198223 23.235369 23.274612 23.305225\n",
      "   23.328638 23.348713 23.367857 23.38686  23.406147 23.426723 23.451612\n",
      "   23.485708 23.533392 23.595547 23.668098 23.743153 23.81177  23.868275\n",
      "   23.91181  23.944998 23.970413 23.990774 24.0077   24.023867 24.043081\n",
      "   24.070595 24.111317 24.16215  24.212694 24.25294  24.280834 24.29924\n",
      "   24.312208 24.322796 24.333096 24.346064 24.362562 24.38402  24.413204\n",
      "   24.453447 24.506664 24.566269 24.618244 24.652767 24.672792 24.683952\n",
      "   24.690151]]\n",
      "\n",
      " [[22.98484  22.98484  22.924208 22.895096 22.912191 22.943483 22.972189\n",
      "   22.99677  23.0196   23.042082 23.064087 23.085093 23.10524  23.127459\n",
      "   23.157883 23.202778 23.264217 23.338223 23.41671  23.489664 23.550224\n",
      "   23.597239 23.63286  23.660183 23.681927 23.699999 23.717308 23.738337\n",
      "   23.7689   23.814295 23.870802 23.926401 23.969936 23.9995   24.018383\n",
      "   24.03097  24.040506 24.049664 24.061203 24.076174 24.09687  24.126053\n",
      "   24.168205 24.225712 24.29075  24.3474   24.384785 24.406052 24.417398\n",
      "   24.423504]]\n",
      "\n",
      " [[22.763025 22.763025 22.659527 22.591984 22.589014 22.612345 22.639154\n",
      "   22.664915 22.690487 22.716331 22.741316 22.764015 22.783731 22.803305\n",
      "   22.83008  22.872187 22.932816 23.00844  23.09022  23.167515 23.232267\n",
      "   23.282621 23.320768 23.349953 23.37303  23.392248 23.410797 23.43359\n",
      "   23.467205 23.517227 23.579502 23.640108 23.686981 23.718214 23.73743\n",
      "   23.749636 23.758411 23.76623  23.776148 23.789978 23.809526 23.838902\n",
      "   23.88315  23.944664 24.015236 24.076555 24.1168   24.139214 24.150944\n",
      "   24.156857]]\n",
      "\n",
      " [[22.541212 22.541212 22.39486  22.288847 22.26585  22.281218 22.306122\n",
      "   22.33305  22.361397 22.390556 22.418545 22.44296  22.462225 22.479128\n",
      "   22.50228  22.541594 22.601461 22.678566 22.763775 22.845364 22.914265\n",
      "   22.968004 23.008726 23.039675 23.064182 23.084497 23.104286 23.128891\n",
      "   23.165464 23.220205 23.288155 23.353765 23.404024 23.43688  23.456476\n",
      "   23.468397 23.47622  23.482798 23.491287 23.50359  23.522282 23.551844\n",
      "   23.597908 23.66371  23.73972  23.805714 23.84882  23.872375 23.884487\n",
      "   23.890303]]\n",
      "\n",
      " [[22.319399 22.319399 22.130178 21.985731 21.942675 21.95009  21.973085\n",
      "   22.001183 22.032284 22.064781 22.095776 22.121906 22.140718 22.154997\n",
      "   22.174454 22.211002 22.270107 22.348738 22.437332 22.523163 22.596312\n",
      "   22.653387 22.696638 22.729445 22.75529  22.776747 22.797775 22.824144\n",
      "   22.86377  22.923183 22.996805 23.067474 23.121023 23.155546 23.17562\n",
      "   23.187063 23.194025 23.199366 23.206423 23.217201 23.235128 23.264599\n",
      "   23.312855 23.382662 23.464298 23.534775 23.580835 23.605633 23.617935\n",
      "   23.623655]]\n",
      "\n",
      " [[22.097586 22.097586 21.865498 21.68262  21.6195   21.61895  21.640062\n",
      "   21.669292 21.703194 21.739029 21.773005 21.800827 21.819233 21.83082\n",
      "   21.846651 21.880388 21.938778 22.018862 22.11089  22.201061 22.278261\n",
      "   22.33882  22.384548 22.419167 22.446442 22.469044 22.491217 22.519396\n",
      "   22.562075 22.626162 22.705458 22.781181 22.838066 22.874165 22.894764\n",
      "   22.905825 22.911835 22.91584  22.921467 22.931004 22.947788 22.977541\n",
      "   23.027609 23.101807 23.188686 23.264027 23.31276  23.338795 23.351477\n",
      "   23.35701 ]]\n",
      "\n",
      " [[21.875769 21.875769 21.60083  21.379494 21.296322 21.287823 21.307014\n",
      "   21.337461 21.37408  21.413229 21.450233 21.479773 21.497726 21.506666\n",
      "   21.51885  21.549797 21.607422 21.689034 21.7844   21.87891  21.960304\n",
      "   22.024155 22.072506 22.108936 22.137547 22.161293 22.184704 22.214651\n",
      "   22.26038  22.329138 22.414112 22.494839 22.555113 22.592878 22.613857\n",
      "   22.62449  22.62964  22.632408 22.636602 22.644615 22.66054  22.690487\n",
      "   22.742367 22.820854 22.913168 22.993183 23.044682 23.072052 23.08502\n",
      "   23.090458]]\n",
      "\n",
      " [[21.875769 21.875769 21.60083  21.379494 21.296322 21.287823 21.307014\n",
      "   21.337461 21.37408  21.413229 21.450233 21.479773 21.497726 21.506666\n",
      "   21.51885  21.549797 21.607422 21.689034 21.7844   21.87891  21.960304\n",
      "   22.024155 22.072506 22.108936 22.137547 22.161293 22.184704 22.214651\n",
      "   22.26038  22.329138 22.414112 22.494839 22.555113 22.592878 22.613857\n",
      "   22.62449  22.62964  22.632408 22.636602 22.644615 22.66054  22.690487\n",
      "   22.742367 22.820854 22.913168 22.993183 23.044682 23.072052 23.08502\n",
      "   23.090458]]]\n",
      "all_quantiles after squeezing shape: (18, 50)\n",
      "Error with cow SE-5c06d92d-2502, lactation 4: too many values to unpack (expected 2)\n"
     ]
    },
    {
     "name": "stderr",
     "output_type": "stream",
     "text": [
      "/Users/user/anaconda3/envs/GIGACOW/lib/python3.11/site-packages/torch/optim/lr_scheduler.py:60: UserWarning: The verbose parameter is deprecated. Please use get_last_lr() to access the learning rate.\n",
      "  warnings.warn(\n",
      "  3%|▎         | 60/2315 [00:22<13:41,  2.74 Segments/s]"
     ]
    },
    {
     "name": "stdout",
     "output_type": "stream",
     "text": [
      "all_quantiles shape: (346, 1, 50)\n",
      "all_quantiles content: [[[19.555042 19.555042 37.546944 ... 72.30834  73.95134  76.35956 ]]\n",
      "\n",
      " [[19.41893  19.41893  37.901615 ... 73.32649  75.014496 77.485275]]\n",
      "\n",
      " [[19.479418 19.479418 37.743973 ... 72.87407  74.541855 76.98517 ]]\n",
      "\n",
      " ...\n",
      "\n",
      " [[24.833858 24.833858 23.79296  ... 32.82528  32.727814 32.705116]]\n",
      "\n",
      " [[24.848986 24.848986 23.753548 ... 32.71208  32.60975  32.58009 ]]\n",
      "\n",
      " [[24.864101 24.864101 23.714136 ... 32.598972 32.491684 32.454967]]]\n",
      "all_quantiles after squeezing shape: (346, 50)\n",
      "Error with cow SE-5c06d92d-2506, lactation 5: too many values to unpack (expected 2)\n"
     ]
    },
    {
     "name": "stderr",
     "output_type": "stream",
     "text": [
      "/Users/user/anaconda3/envs/GIGACOW/lib/python3.11/site-packages/torch/optim/lr_scheduler.py:60: UserWarning: The verbose parameter is deprecated. Please use get_last_lr() to access the learning rate.\n",
      "  warnings.warn(\n",
      "  3%|▎         | 61/2315 [00:22<13:35,  2.76 Segments/s]"
     ]
    },
    {
     "name": "stdout",
     "output_type": "stream",
     "text": [
      "all_quantiles shape: (145, 1, 50)\n",
      "all_quantiles content: [[[34.306133 34.306133 36.55921  ... 47.325325 47.398758 47.462845]]\n",
      "\n",
      " [[34.304142 34.304142 36.54232  ... 47.286606 47.36099  47.42565 ]]\n",
      "\n",
      " [[34.30214  34.30214  36.52545  ... 47.248077 47.323032 47.38846 ]]\n",
      "\n",
      " ...\n",
      "\n",
      " [[34.0214   34.0214   34.145535 ... 41.809654 41.994095 42.128563]]\n",
      "\n",
      " [[34.01941  34.01941  34.128654 ... 41.770935 41.95652  42.09118 ]]\n",
      "\n",
      " [[34.01941  34.01941  34.128654 ... 41.770935 41.95652  42.09118 ]]]\n",
      "all_quantiles after squeezing shape: (145, 50)\n",
      "Error with cow SE-5c06d92d-2514, lactation 4: too many values to unpack (expected 2)\n"
     ]
    },
    {
     "name": "stderr",
     "output_type": "stream",
     "text": [
      "/Users/user/anaconda3/envs/GIGACOW/lib/python3.11/site-packages/torch/optim/lr_scheduler.py:60: UserWarning: The verbose parameter is deprecated. Please use get_last_lr() to access the learning rate.\n",
      "  warnings.warn(\n",
      "  3%|▎         | 62/2315 [00:22<14:16,  2.63 Segments/s]"
     ]
    },
    {
     "name": "stdout",
     "output_type": "stream",
     "text": [
      "all_quantiles shape: (355, 1, 50)\n",
      "all_quantiles content: [[[36.553585 36.553585 41.11446  ... 57.582092 57.97863  58.959198]]\n",
      "\n",
      " [[36.980106 36.980106 41.86196  ... 59.177204 59.59854  60.63251 ]]\n",
      "\n",
      " [[36.965393 36.965393 41.836178 ... 59.122276 59.542656 60.57472 ]]\n",
      "\n",
      " ...\n",
      "\n",
      " [[31.802988 31.802988 32.78873  ... 39.81552  39.937206 40.32116 ]]\n",
      "\n",
      " [[31.802988 31.802988 32.78873  ... 39.81552  39.937206 40.32116 ]]\n",
      "\n",
      " [[31.802988 31.802988 32.78873  ... 39.81552  39.937206 40.32116 ]]]\n",
      "all_quantiles after squeezing shape: (355, 50)\n",
      "Error with cow SE-5c06d92d-2514, lactation 5: too many values to unpack (expected 2)\n"
     ]
    },
    {
     "name": "stderr",
     "output_type": "stream",
     "text": [
      "/Users/user/anaconda3/envs/GIGACOW/lib/python3.11/site-packages/torch/optim/lr_scheduler.py:60: UserWarning: The verbose parameter is deprecated. Please use get_last_lr() to access the learning rate.\n",
      "  warnings.warn(\n",
      "  3%|▎         | 63/2315 [00:23<13:35,  2.76 Segments/s]"
     ]
    },
    {
     "name": "stdout",
     "output_type": "stream",
     "text": [
      "all_quantiles shape: (52, 1, 50)\n",
      "all_quantiles content: [[[11.486721 11.486721 11.678147 ... 27.770424 27.825832 27.844715]]\n",
      "\n",
      " [[11.486721 11.486721 11.678147 ... 27.770424 27.825832 27.844715]]\n",
      "\n",
      " [[12.552666 12.552666 12.752568 ... 27.593515 27.643488 27.66218 ]]\n",
      "\n",
      " ...\n",
      "\n",
      " [[23.425102 23.425102 23.71174  ... 25.78888  25.783442 25.800512]]\n",
      "\n",
      " [[23.638288 23.638288 23.926626 ... 25.753498 25.747013 25.763988]]\n",
      "\n",
      " [[23.85147  23.85147  24.141514 ... 25.718117 25.710583 25.727463]]]\n",
      "all_quantiles after squeezing shape: (52, 50)\n",
      "Error with cow SE-5c06d92d-2514, lactation 6: too many values to unpack (expected 2)\n"
     ]
    },
    {
     "name": "stderr",
     "output_type": "stream",
     "text": [
      "/Users/user/anaconda3/envs/GIGACOW/lib/python3.11/site-packages/torch/optim/lr_scheduler.py:60: UserWarning: The verbose parameter is deprecated. Please use get_last_lr() to access the learning rate.\n",
      "  warnings.warn(\n",
      "  3%|▎         | 64/2315 [00:23<12:41,  2.96 Segments/s]"
     ]
    },
    {
     "name": "stdout",
     "output_type": "stream",
     "text": [
      "all_quantiles shape: (28, 1, 50)\n",
      "all_quantiles content: [[[26.304192 26.304192 26.322145 ... 34.994125 35.02426  35.044003]]\n",
      "\n",
      " [[25.904278 25.904278 25.921572 ... 34.729958 34.759235 34.77831 ]]\n",
      "\n",
      " [[25.50437  25.50437  25.520998 ... 34.46579  34.494114 34.512806]]\n",
      "\n",
      " ...\n",
      "\n",
      " [[16.306328 16.306328 16.30789  ... 28.390503 28.39756  28.403282]]\n",
      "\n",
      " [[16.306328 16.306328 16.30789  ... 28.390503 28.39756  28.403282]]\n",
      "\n",
      " [[16.306328 16.306328 16.30789  ... 28.390503 28.39756  28.403282]]]\n",
      "all_quantiles after squeezing shape: (28, 50)\n",
      "Error with cow SE-5c06d92d-2515, lactation 4: too many values to unpack (expected 2)\n"
     ]
    },
    {
     "name": "stderr",
     "output_type": "stream",
     "text": [
      "/Users/user/anaconda3/envs/GIGACOW/lib/python3.11/site-packages/torch/optim/lr_scheduler.py:60: UserWarning: The verbose parameter is deprecated. Please use get_last_lr() to access the learning rate.\n",
      "  warnings.warn(\n",
      "  3%|▎         | 65/2315 [00:23<13:10,  2.85 Segments/s]"
     ]
    },
    {
     "name": "stdout",
     "output_type": "stream",
     "text": [
      "all_quantiles shape: (256, 1, 50)\n",
      "all_quantiles content: [[[44.69932  44.69932  45.38916  ... 62.02736  62.246513 62.560272]]\n",
      "\n",
      " [[44.69932  44.69932  45.38916  ... 62.02736  62.246513 62.560272]]\n",
      "\n",
      " [[44.645348 44.645348 45.342552 ... 61.94191  62.1603   62.473297]]\n",
      "\n",
      " ...\n",
      "\n",
      " [[31.0961   31.0961   33.646046 ... 40.466305 40.54985  40.641975]]\n",
      "\n",
      " [[31.04211  31.04211  33.59946  ... 40.380665 40.46383  40.555   ]]\n",
      "\n",
      " [[31.04211  31.04211  33.59946  ... 40.380665 40.46383  40.555   ]]]\n",
      "all_quantiles after squeezing shape: (256, 50)\n",
      "Error with cow SE-5c06d92d-2515, lactation 5: too many values to unpack (expected 2)\n"
     ]
    },
    {
     "name": "stderr",
     "output_type": "stream",
     "text": [
      "/Users/user/anaconda3/envs/GIGACOW/lib/python3.11/site-packages/torch/optim/lr_scheduler.py:60: UserWarning: The verbose parameter is deprecated. Please use get_last_lr() to access the learning rate.\n",
      "  warnings.warn(\n",
      "  3%|▎         | 66/2315 [00:24<13:31,  2.77 Segments/s]"
     ]
    },
    {
     "name": "stdout",
     "output_type": "stream",
     "text": [
      "all_quantiles shape: (279, 1, 50)\n",
      "all_quantiles content: [[[23.524689 23.524689 26.123188 ... 59.06734  58.89778  58.395573]]\n",
      "\n",
      " [[23.624205 23.624205 26.204727 ... 58.937073 58.774567 58.293533]]\n",
      "\n",
      " [[23.673914 23.673914 26.245546 ... 58.871838 58.71296  58.242603]]\n",
      "\n",
      " ...\n",
      "\n",
      " [[37.356102 37.356102 37.45824  ... 40.963936 41.758152 44.225502]]\n",
      "\n",
      " [[37.405846 37.405846 37.49901  ... 40.898895 41.696354 44.174576]]\n",
      "\n",
      " [[37.455605 37.455605 37.53978  ... 40.83366  41.634747 44.123837]]]\n",
      "all_quantiles after squeezing shape: (279, 50)\n",
      "Error with cow SE-5c06d92d-2515, lactation 6: too many values to unpack (expected 2)\n"
     ]
    },
    {
     "name": "stderr",
     "output_type": "stream",
     "text": [
      "/Users/user/anaconda3/envs/GIGACOW/lib/python3.11/site-packages/torch/optim/lr_scheduler.py:60: UserWarning: The verbose parameter is deprecated. Please use get_last_lr() to access the learning rate.\n",
      "  warnings.warn(\n",
      "  3%|▎         | 67/2315 [00:24<12:45,  2.94 Segments/s]"
     ]
    },
    {
     "name": "stdout",
     "output_type": "stream",
     "text": [
      "all_quantiles shape: (36, 1, 50)\n",
      "all_quantiles content: [[[31.599258 31.599258 31.712067 ... 33.777237 33.770943 33.767128]]\n",
      "\n",
      " [[31.090296 31.090296 31.20687  ... 33.567142 33.561707 33.558655]]\n",
      "\n",
      " [[30.581337 30.581337 30.701666 ... 33.357048 33.35266  33.350086]]\n",
      "\n",
      " ...\n",
      "\n",
      " [[15.312481 15.312481 15.545737 ... 27.053928 27.078054 27.094648]]\n",
      "\n",
      " [[15.312481 15.312481 15.545737 ... 27.053928 27.078054 27.094648]]\n",
      "\n",
      " [[15.312481 15.312481 15.545737 ... 27.053928 27.078054 27.094648]]]\n",
      "all_quantiles after squeezing shape: (36, 50)\n",
      "Error with cow SE-5c06d92d-2529, lactation 4: too many values to unpack (expected 2)\n"
     ]
    },
    {
     "name": "stderr",
     "output_type": "stream",
     "text": [
      "/Users/user/anaconda3/envs/GIGACOW/lib/python3.11/site-packages/torch/optim/lr_scheduler.py:60: UserWarning: The verbose parameter is deprecated. Please use get_last_lr() to access the learning rate.\n",
      "  warnings.warn(\n",
      "  3%|▎         | 68/2315 [00:24<13:38,  2.75 Segments/s]"
     ]
    },
    {
     "name": "stdout",
     "output_type": "stream",
     "text": [
      "all_quantiles shape: (334, 1, 50)\n",
      "all_quantiles content: [[[24.629248 24.629248 40.113438 ... 61.7342   62.403297 64.094925]]\n",
      "\n",
      " [[24.629248 24.629248 40.113438 ... 61.7342   62.403297 64.094925]]\n",
      "\n",
      " [[24.86577  24.86577  39.3154   ... 59.729004 60.36129  61.940193]]\n",
      "\n",
      " ...\n",
      "\n",
      " [[28.064022 28.064022 28.524374 ... 32.615852 32.746506 32.805443]]\n",
      "\n",
      " [[28.0743   28.0743   28.489683 ... 32.528687 32.65772  32.711792]]\n",
      "\n",
      " [[28.0846   28.0846   28.454971 ... 32.441425 32.569027 32.61814 ]]]\n",
      "all_quantiles after squeezing shape: (334, 50)\n",
      "Error with cow SE-5c06d92d-2529, lactation 5: too many values to unpack (expected 2)\n"
     ]
    },
    {
     "name": "stderr",
     "output_type": "stream",
     "text": [
      "/Users/user/anaconda3/envs/GIGACOW/lib/python3.11/site-packages/torch/optim/lr_scheduler.py:60: UserWarning: The verbose parameter is deprecated. Please use get_last_lr() to access the learning rate.\n",
      "  warnings.warn(\n",
      "  3%|▎         | 69/2315 [00:25<13:46,  2.72 Segments/s]"
     ]
    },
    {
     "name": "stdout",
     "output_type": "stream",
     "text": [
      "all_quantiles shape: (228, 1, 50)\n",
      "all_quantiles content: [[[37.165512 37.165512 37.897507 ... 43.040844 42.824364 42.061806]]\n",
      "\n",
      " [[37.077267 37.077267 37.80844  ... 42.962074 42.748833 41.996952]]\n",
      "\n",
      " [[36.989017 36.989017 37.719368 ... 42.8833   42.67292  41.932487]]\n",
      "\n",
      " ...\n",
      "\n",
      " [[17.310165 17.310165 17.855846 ... 25.310707 25.804995 27.515888]]\n",
      "\n",
      " [[17.221916 17.221916 17.766785 ... 25.231934 25.729275 27.451324]]\n",
      "\n",
      " [[17.133665 17.133665 17.677711 ... 25.15316  25.653553 27.386665]]]\n",
      "all_quantiles after squeezing shape: (228, 50)\n",
      "Error with cow SE-5c06d92d-2534, lactation 5: too many values to unpack (expected 2)\n"
     ]
    },
    {
     "name": "stderr",
     "output_type": "stream",
     "text": [
      "/Users/user/anaconda3/envs/GIGACOW/lib/python3.11/site-packages/torch/optim/lr_scheduler.py:60: UserWarning: The verbose parameter is deprecated. Please use get_last_lr() to access the learning rate.\n",
      "  warnings.warn(\n",
      "  3%|▎         | 70/2315 [00:25<13:51,  2.70 Segments/s]"
     ]
    },
    {
     "name": "stdout",
     "output_type": "stream",
     "text": [
      "all_quantiles shape: (172, 1, 50)\n",
      "all_quantiles content: [[[56.764236 56.764236 56.48803  ... 60.572243 60.84404  61.15246 ]]\n",
      "\n",
      " [[56.62212  56.62212  56.356834 ... 60.476685 60.74619  61.052128]]\n",
      "\n",
      " [[56.480007 56.480007 56.225636 ... 60.380745 60.648537 60.951992]]\n",
      "\n",
      " ...\n",
      "\n",
      " [[32.604717 32.604717 34.18386  ... 44.293022 44.22493  44.120407]]\n",
      "\n",
      " [[32.462597 32.462597 34.052658 ... 44.197083 44.127274 44.02027 ]]\n",
      "\n",
      " [[32.320484 32.320484 33.921467 ... 44.101524 44.029427 43.920135]]]\n",
      "all_quantiles after squeezing shape: (172, 50)\n",
      "Error with cow SE-5c06d92d-2536, lactation 4: too many values to unpack (expected 2)\n"
     ]
    },
    {
     "name": "stderr",
     "output_type": "stream",
     "text": [
      "/Users/user/anaconda3/envs/GIGACOW/lib/python3.11/site-packages/torch/optim/lr_scheduler.py:60: UserWarning: The verbose parameter is deprecated. Please use get_last_lr() to access the learning rate.\n",
      "  warnings.warn(\n",
      "  3%|▎         | 71/2315 [00:26<14:24,  2.60 Segments/s]"
     ]
    },
    {
     "name": "stdout",
     "output_type": "stream",
     "text": [
      "all_quantiles shape: (287, 1, 50)\n",
      "all_quantiles content: [[[29.205536 29.205536 32.79483  ... 62.05711  62.224957 62.952423]]\n",
      "\n",
      " [[29.199062 29.199062 32.79452  ... 62.222862 62.389755 63.120266]]\n",
      "\n",
      " [[29.202295 29.202295 32.79469  ... 62.139893 62.307358 63.036346]]\n",
      "\n",
      " ...\n",
      "\n",
      " [[30.112612 30.112612 32.84149  ... 38.753128 39.100456 39.353943]]\n",
      "\n",
      " [[30.112612 30.112612 32.84149  ... 38.753128 39.100456 39.353943]]\n",
      "\n",
      " [[30.112612 30.112612 32.84149  ... 38.753128 39.100456 39.353943]]]\n",
      "all_quantiles after squeezing shape: (287, 50)\n",
      "Error with cow SE-5c06d92d-2536, lactation 5: too many values to unpack (expected 2)\n"
     ]
    },
    {
     "name": "stderr",
     "output_type": "stream",
     "text": [
      "/Users/user/anaconda3/envs/GIGACOW/lib/python3.11/site-packages/torch/optim/lr_scheduler.py:60: UserWarning: The verbose parameter is deprecated. Please use get_last_lr() to access the learning rate.\n",
      "  warnings.warn(\n",
      "  3%|▎         | 72/2315 [00:26<14:11,  2.63 Segments/s]"
     ]
    },
    {
     "name": "stdout",
     "output_type": "stream",
     "text": [
      "all_quantiles shape: (90, 1, 50)\n",
      "all_quantiles content: [[[44.760895 44.760895 44.7906   ... 59.205433 59.409523 60.79788 ]]\n",
      "\n",
      " [[44.718716 44.718716 44.7492   ... 59.116364 59.321976 60.692596]]\n",
      "\n",
      " [[44.67654  44.67654  44.70777  ... 59.02729  59.234425 60.5875  ]]\n",
      "\n",
      " ...\n",
      "\n",
      " [[41.0918   41.0918   41.186855 ... 51.45225  51.789665 51.653862]]\n",
      "\n",
      " [[41.04961  41.04961  41.145443 ... 51.363182 51.702118 51.548763]]\n",
      "\n",
      " [[41.007446 41.007446 41.104004 ... 51.27411  51.614567 51.44367 ]]]\n",
      "all_quantiles after squeezing shape: (90, 50)\n",
      "Error with cow SE-5c06d92d-2536, lactation 6: too many values to unpack (expected 2)\n"
     ]
    },
    {
     "name": "stderr",
     "output_type": "stream",
     "text": [
      "/Users/user/anaconda3/envs/GIGACOW/lib/python3.11/site-packages/torch/optim/lr_scheduler.py:60: UserWarning: The verbose parameter is deprecated. Please use get_last_lr() to access the learning rate.\n",
      "  warnings.warn(\n",
      "  3%|▎         | 73/2315 [00:26<13:12,  2.83 Segments/s]"
     ]
    },
    {
     "name": "stdout",
     "output_type": "stream",
     "text": [
      "all_quantiles shape: (47, 1, 50)\n",
      "all_quantiles content: [[[20.567087 20.567087 21.125025 ... 29.579735 29.590511 29.609013]]\n",
      "\n",
      " [[20.5981   20.5981   21.146803 ... 29.452799 29.466343 29.486368]]\n",
      "\n",
      " [[20.629105 20.629105 21.16859  ... 29.325867 29.34227  29.363728]]\n",
      "\n",
      " ...\n",
      "\n",
      " [[21.962326 21.962326 22.105282 ... 23.868465 24.00255  24.091051]]\n",
      "\n",
      " [[21.99334  21.99334  22.127068 ... 23.741436 23.878477 23.96841 ]]\n",
      "\n",
      " [[22.02434  22.02434  22.148846 ... 23.614502 23.754309 23.845768]]]\n",
      "all_quantiles after squeezing shape: (47, 50)\n",
      "Error with cow SE-5c06d92d-2545, lactation 4: too many values to unpack (expected 2)\n"
     ]
    },
    {
     "name": "stderr",
     "output_type": "stream",
     "text": [
      "/Users/user/anaconda3/envs/GIGACOW/lib/python3.11/site-packages/torch/optim/lr_scheduler.py:60: UserWarning: The verbose parameter is deprecated. Please use get_last_lr() to access the learning rate.\n",
      "  warnings.warn(\n",
      "  3%|▎         | 74/2315 [00:27<13:00,  2.87 Segments/s]"
     ]
    },
    {
     "name": "stdout",
     "output_type": "stream",
     "text": [
      "all_quantiles shape: (113, 1, 50)\n",
      "all_quantiles content: [[[35.2417   35.2417   35.184914 ... 38.947296 39.36386  40.14969 ]]\n",
      "\n",
      " [[35.06184  35.06184  35.022587 ... 38.846207 39.26048  40.039062]]\n",
      "\n",
      " [[34.88199  34.88199  34.860252 ... 38.744926 39.157677 39.92824 ]]\n",
      "\n",
      " ...\n",
      "\n",
      " [[15.457571 15.457571 17.328142 ... 27.814482 28.029919 27.961159]]\n",
      "\n",
      " [[15.457571 15.457571 17.328142 ... 27.814482 28.029919 27.961159]]\n",
      "\n",
      " [[15.457571 15.457571 17.328142 ... 27.814482 28.029919 27.961159]]]\n",
      "all_quantiles after squeezing shape: (113, 50)\n",
      "Error with cow SE-5c06d92d-2550, lactation 4: too many values to unpack (expected 2)\n"
     ]
    },
    {
     "name": "stderr",
     "output_type": "stream",
     "text": [
      "/Users/user/anaconda3/envs/GIGACOW/lib/python3.11/site-packages/torch/optim/lr_scheduler.py:60: UserWarning: The verbose parameter is deprecated. Please use get_last_lr() to access the learning rate.\n",
      "  warnings.warn(\n",
      "  3%|▎         | 75/2315 [00:27<13:52,  2.69 Segments/s]"
     ]
    },
    {
     "name": "stdout",
     "output_type": "stream",
     "text": [
      "all_quantiles shape: (421, 1, 50)\n",
      "all_quantiles content: [[[20.842407 20.842407 31.474577 ... 53.659817 54.03843  54.382706]]\n",
      "\n",
      " [[20.283579 20.283579 31.501162 ... 54.84581  55.23319  55.571365]]\n",
      "\n",
      " [[20.842407 20.842407 31.474577 ... 53.659817 54.03843  54.382706]]\n",
      "\n",
      " ...\n",
      "\n",
      " [[29.969912 29.969912 31.040476 ... 34.288597 34.521675 34.968185]]\n",
      "\n",
      " [[29.969912 29.969912 31.040476 ... 34.288597 34.521675 34.968185]]\n",
      "\n",
      " [[29.969912 29.969912 31.040476 ... 34.288597 34.521675 34.968185]]]\n",
      "all_quantiles after squeezing shape: (421, 50)\n",
      "Error with cow SE-5c06d92d-2550, lactation 5: too many values to unpack (expected 2)\n"
     ]
    },
    {
     "name": "stderr",
     "output_type": "stream",
     "text": [
      "/Users/user/anaconda3/envs/GIGACOW/lib/python3.11/site-packages/torch/optim/lr_scheduler.py:60: UserWarning: The verbose parameter is deprecated. Please use get_last_lr() to access the learning rate.\n",
      "  warnings.warn(\n",
      "  3%|▎         | 76/2315 [00:27<13:53,  2.69 Segments/s]"
     ]
    },
    {
     "name": "stdout",
     "output_type": "stream",
     "text": [
      "all_quantiles shape: (258, 1, 50)\n",
      "all_quantiles content: [[[29.34323  29.34323  39.549694 ... 50.411034 50.58403  50.9737  ]]\n",
      "\n",
      " [[29.293972 29.293972 39.466736 ... 50.34809  50.52471  50.915527]]\n",
      "\n",
      " [[29.244701 29.244701 39.383793 ... 50.28534  50.465008 50.85735 ]]\n",
      "\n",
      " ...\n",
      "\n",
      " [[16.38615  16.38615  17.734015 ... 33.879852 34.937572 35.660458]]\n",
      "\n",
      " [[16.38615  16.38615  17.734015 ... 33.879852 34.937572 35.660458]]\n",
      "\n",
      " [[16.38615  16.38615  17.734015 ... 33.879852 34.937572 35.660458]]]\n",
      "all_quantiles after squeezing shape: (258, 50)\n",
      "Error with cow SE-5c06d92d-2558, lactation 5: too many values to unpack (expected 2)\n"
     ]
    },
    {
     "name": "stderr",
     "output_type": "stream",
     "text": [
      "/Users/user/anaconda3/envs/GIGACOW/lib/python3.11/site-packages/torch/optim/lr_scheduler.py:60: UserWarning: The verbose parameter is deprecated. Please use get_last_lr() to access the learning rate.\n",
      "  warnings.warn(\n",
      "  3%|▎         | 77/2315 [00:28<14:14,  2.62 Segments/s]"
     ]
    },
    {
     "name": "stdout",
     "output_type": "stream",
     "text": [
      "all_quantiles shape: (289, 1, 50)\n",
      "all_quantiles content: [[[40.888023  40.888023  42.87636   ... 63.011547  63.152313  63.541218 ]]\n",
      "\n",
      " [[40.888023  40.888023  42.87636   ... 63.011547  63.152313  63.541218 ]]\n",
      "\n",
      " [[40.785084  40.785084  42.769085  ... 62.920757  63.063618  63.453293 ]]\n",
      "\n",
      " ...\n",
      "\n",
      " [[ 6.404733   6.404733   6.9362164 ... 32.62148   33.388805  34.114647 ]]\n",
      "\n",
      " [[ 6.3017845  6.3017845  6.828904  ... 32.53069   33.30002   34.02672  ]]\n",
      "\n",
      " [[ 6.198859   6.198859   6.7216396 ... 32.439995  33.211136  33.93898  ]]]\n",
      "all_quantiles after squeezing shape: (289, 50)\n",
      "Error with cow SE-5c06d92d-2558, lactation 6: too many values to unpack (expected 2)\n"
     ]
    },
    {
     "name": "stderr",
     "output_type": "stream",
     "text": [
      "/Users/user/anaconda3/envs/GIGACOW/lib/python3.11/site-packages/torch/optim/lr_scheduler.py:60: UserWarning: The verbose parameter is deprecated. Please use get_last_lr() to access the learning rate.\n",
      "  warnings.warn(\n",
      "  3%|▎         | 78/2315 [00:28<14:01,  2.66 Segments/s]"
     ]
    },
    {
     "name": "stdout",
     "output_type": "stream",
     "text": [
      "all_quantiles shape: (142, 1, 50)\n",
      "all_quantiles content: [[[37.01629  37.01629  36.12315  ... 38.881493 38.944054 38.976097]]\n",
      "\n",
      " [[36.78303  36.78303  35.934883 ... 38.736343 38.80005  38.83362 ]]\n",
      "\n",
      " [[36.549786 36.549786 35.746613 ... 38.591194 38.656044 38.690945]]\n",
      "\n",
      " ...\n",
      "\n",
      " [[10.892367 10.892367 15.037095 ... 22.619818 22.82009  23.006151]]\n",
      "\n",
      " [[10.892367 10.892367 15.037095 ... 22.619818 22.82009  23.006151]]\n",
      "\n",
      " [[10.892367 10.892367 15.037095 ... 22.619818 22.82009  23.006151]]]\n",
      "all_quantiles after squeezing shape: (142, 50)\n",
      "Error with cow SE-5c06d92d-2564, lactation 4: too many values to unpack (expected 2)\n"
     ]
    },
    {
     "name": "stderr",
     "output_type": "stream",
     "text": [
      "/Users/user/anaconda3/envs/GIGACOW/lib/python3.11/site-packages/torch/optim/lr_scheduler.py:60: UserWarning: The verbose parameter is deprecated. Please use get_last_lr() to access the learning rate.\n",
      "  warnings.warn(\n",
      "  3%|▎         | 79/2315 [00:29<14:40,  2.54 Segments/s]"
     ]
    },
    {
     "name": "stdout",
     "output_type": "stream",
     "text": [
      "all_quantiles shape: (396, 1, 50)\n",
      "all_quantiles content: [[[26.907408 26.907408 36.821434 ... 54.61788  55.166245 56.085205]]\n",
      "\n",
      " [[29.137314 29.137314 40.490757 ... 59.270287 59.804153 60.756107]]\n",
      "\n",
      " [[29.097498 29.097498 40.42524  ... 59.187122 59.72118  60.67276 ]]\n",
      "\n",
      " ...\n",
      "\n",
      " [[14.762365 14.762365 16.836775 ... 29.28009  29.905413 30.645082]]\n",
      "\n",
      " [[14.762365 14.762365 16.836775 ... 29.28009  29.905413 30.645082]]\n",
      "\n",
      " [[14.762365 14.762365 16.836775 ... 29.28009  29.905413 30.645082]]]\n",
      "all_quantiles after squeezing shape: (396, 50)\n",
      "Error with cow SE-5c06d92d-2564, lactation 5: too many values to unpack (expected 2)\n"
     ]
    },
    {
     "name": "stderr",
     "output_type": "stream",
     "text": [
      "/Users/user/anaconda3/envs/GIGACOW/lib/python3.11/site-packages/torch/optim/lr_scheduler.py:60: UserWarning: The verbose parameter is deprecated. Please use get_last_lr() to access the learning rate.\n",
      "  warnings.warn(\n",
      "  3%|▎         | 80/2315 [00:29<14:54,  2.50 Segments/s]"
     ]
    },
    {
     "name": "stdout",
     "output_type": "stream",
     "text": [
      "all_quantiles shape: (282, 1, 50)\n",
      "all_quantiles content: [[[52.428143 52.428143 51.599503 ... 57.27062  57.32326  57.390213]]\n",
      "\n",
      " [[52.281906 52.281906 51.484596 ... 57.19185  57.245255 57.313534]]\n",
      "\n",
      " [[52.13566  52.13566  51.3697   ... 57.113262 57.167244 57.23686 ]]\n",
      "\n",
      " ...\n",
      "\n",
      " [[14.84406  14.84406  22.07029  ... 37.04872  37.283707 37.679863]]\n",
      "\n",
      " [[14.84406  14.84406  22.07029  ... 37.04872  37.283707 37.679863]]\n",
      "\n",
      " [[14.84406  14.84406  22.07029  ... 37.04872  37.283707 37.679863]]]\n",
      "all_quantiles after squeezing shape: (282, 50)\n",
      "Error with cow SE-5c06d92d-2566, lactation 4: too many values to unpack (expected 2)\n"
     ]
    },
    {
     "name": "stderr",
     "output_type": "stream",
     "text": [
      "/Users/user/anaconda3/envs/GIGACOW/lib/python3.11/site-packages/torch/optim/lr_scheduler.py:60: UserWarning: The verbose parameter is deprecated. Please use get_last_lr() to access the learning rate.\n",
      "  warnings.warn(\n",
      "  3%|▎         | 81/2315 [00:29<14:41,  2.54 Segments/s]"
     ]
    },
    {
     "name": "stdout",
     "output_type": "stream",
     "text": [
      "all_quantiles shape: (292, 1, 50)\n",
      "all_quantiles content: [[[44.079624 44.079624 43.711243 ... 58.261868 58.306694 58.488464]]\n",
      "\n",
      " [[44.079624 44.079624 43.711243 ... 58.261868 58.306694 58.488464]]\n",
      "\n",
      " [[43.987778 43.987778 43.632397 ... 58.16536  58.21209  58.39481 ]]\n",
      "\n",
      " ...\n",
      "\n",
      " [[17.81038  17.81038  21.16331  ... 30.659676 31.229973 31.708813]]\n",
      "\n",
      " [[17.81038  17.81038  21.16331  ... 30.659676 31.229973 31.708813]]\n",
      "\n",
      " [[17.81038  17.81038  21.16331  ... 30.659676 31.229973 31.708813]]]\n",
      "all_quantiles after squeezing shape: (292, 50)\n",
      "Error with cow SE-5c06d92d-2569, lactation 5: too many values to unpack (expected 2)\n"
     ]
    },
    {
     "name": "stderr",
     "output_type": "stream",
     "text": [
      "/Users/user/anaconda3/envs/GIGACOW/lib/python3.11/site-packages/torch/optim/lr_scheduler.py:60: UserWarning: The verbose parameter is deprecated. Please use get_last_lr() to access the learning rate.\n",
      "  warnings.warn(\n",
      "  4%|▎         | 82/2315 [00:30<14:19,  2.60 Segments/s]"
     ]
    },
    {
     "name": "stdout",
     "output_type": "stream",
     "text": [
      "all_quantiles shape: (177, 1, 50)\n",
      "all_quantiles content: [[[12.19511  12.19511  14.4176   ... 49.505234 49.438286 49.175453]]\n",
      "\n",
      " [[12.19511  12.19511  14.4176   ... 49.505234 49.438286 49.175453]]\n",
      "\n",
      " [[12.240124 12.240124 14.452481 ... 49.466133 49.407192 49.165726]]\n",
      "\n",
      " ...\n",
      "\n",
      " [[16.540003 16.540003 17.783356 ... 45.724106 46.441647 48.246956]]\n",
      "\n",
      " [[16.56251  16.56251  17.800783 ... 45.70465  46.426197 48.241997]]\n",
      "\n",
      " [[16.585016 16.585016 17.818235 ... 45.684814 46.41075  48.23723 ]]]\n",
      "all_quantiles after squeezing shape: (177, 50)\n",
      "Error with cow SE-5c06d92d-2569, lactation 6: too many values to unpack (expected 2)\n"
     ]
    },
    {
     "name": "stderr",
     "output_type": "stream",
     "text": [
      "/Users/user/anaconda3/envs/GIGACOW/lib/python3.11/site-packages/torch/optim/lr_scheduler.py:60: UserWarning: The verbose parameter is deprecated. Please use get_last_lr() to access the learning rate.\n",
      "  warnings.warn(\n",
      "  4%|▎         | 83/2315 [00:30<13:22,  2.78 Segments/s]"
     ]
    },
    {
     "name": "stdout",
     "output_type": "stream",
     "text": [
      "all_quantiles shape: (61, 1, 50)\n",
      "all_quantiles content: [[[35.74184  35.74184  35.643463 ... 36.49826  36.642265 36.857033]]\n",
      "\n",
      " [[35.58743  35.58743  35.498165 ... 36.499786 36.647797 36.860657]]\n",
      "\n",
      " [[35.433025 35.433025 35.352856 ... 36.50112  36.65352  36.86409 ]]\n",
      "\n",
      " ...\n",
      "\n",
      " [[26.786243 26.786243 27.215837 ... 36.577988 36.966896 37.06112 ]]\n",
      "\n",
      " [[26.631832 26.631832 27.070545 ... 36.579514 36.972427 37.064552]]\n",
      "\n",
      " [[26.477419 26.477419 26.925241 ... 36.580753 36.97796  37.068176]]]\n",
      "all_quantiles after squeezing shape: (61, 50)\n",
      "Error with cow SE-5c06d92d-2572, lactation 4: too many values to unpack (expected 2)\n"
     ]
    },
    {
     "name": "stderr",
     "output_type": "stream",
     "text": [
      "/Users/user/anaconda3/envs/GIGACOW/lib/python3.11/site-packages/torch/optim/lr_scheduler.py:60: UserWarning: The verbose parameter is deprecated. Please use get_last_lr() to access the learning rate.\n",
      "  warnings.warn(\n",
      "  4%|▎         | 84/2315 [00:31<14:28,  2.57 Segments/s]"
     ]
    },
    {
     "name": "stdout",
     "output_type": "stream",
     "text": [
      "all_quantiles shape: (568, 1, 50)\n",
      "all_quantiles content: [[[19.697987 19.697987 35.334347 ... 50.256344 50.610542 50.893593]]\n",
      "\n",
      " [[19.607674 19.607674 35.53649  ... 50.596046 50.95138  51.22757 ]]\n",
      "\n",
      " [[19.749594 19.749594 35.218834 ... 50.06237  50.41561  50.702667]]\n",
      "\n",
      " ...\n",
      "\n",
      " [[24.290956 24.290956 25.054132 ... 32.98502  33.2695   33.90732 ]]\n",
      "\n",
      " [[24.290956 24.290956 25.054132 ... 32.98502  33.2695   33.90732 ]]\n",
      "\n",
      " [[24.290956 24.290956 25.054132 ... 32.98502  33.2695   33.90732 ]]]\n",
      "all_quantiles after squeezing shape: (568, 50)\n",
      "Error with cow SE-5c06d92d-2572, lactation 5: too many values to unpack (expected 2)\n"
     ]
    },
    {
     "name": "stderr",
     "output_type": "stream",
     "text": [
      "/Users/user/anaconda3/envs/GIGACOW/lib/python3.11/site-packages/torch/optim/lr_scheduler.py:60: UserWarning: The verbose parameter is deprecated. Please use get_last_lr() to access the learning rate.\n",
      "  warnings.warn(\n",
      "  4%|▎         | 85/2315 [00:31<13:31,  2.75 Segments/s]"
     ]
    },
    {
     "name": "stdout",
     "output_type": "stream",
     "text": [
      "all_quantiles shape: (50, 1, 50)\n",
      "all_quantiles content: [[[32.897358 32.897358 32.88166  ... 41.513443 41.807365 41.91589 ]]\n",
      "\n",
      " [[32.485146 32.485146 32.494926 ... 41.223526 41.51058  41.61644 ]]\n",
      "\n",
      " [[32.07293  32.07293  32.108173 ... 40.933605 41.2138   41.317177]]\n",
      "\n",
      " ...\n",
      "\n",
      " [[13.935493 13.935493 15.091371 ... 28.178215 28.153227 28.146646]]\n",
      "\n",
      " [[13.935493 13.935493 15.091371 ... 28.178215 28.153227 28.146646]]\n",
      "\n",
      " [[13.935493 13.935493 15.091371 ... 28.178215 28.153227 28.146646]]]\n",
      "all_quantiles after squeezing shape: (50, 50)\n",
      "Error with cow SE-5c06d92d-2577, lactation 4: too many values to unpack (expected 2)\n"
     ]
    },
    {
     "name": "stderr",
     "output_type": "stream",
     "text": [
      "/Users/user/anaconda3/envs/GIGACOW/lib/python3.11/site-packages/torch/optim/lr_scheduler.py:60: UserWarning: The verbose parameter is deprecated. Please use get_last_lr() to access the learning rate.\n",
      "  warnings.warn(\n",
      "  4%|▎         | 86/2315 [00:31<13:58,  2.66 Segments/s]"
     ]
    },
    {
     "name": "stdout",
     "output_type": "stream",
     "text": [
      "all_quantiles shape: (303, 1, 50)\n",
      "all_quantiles content: [[[14.204108 14.204108 29.315887 ... 54.85744  55.303    56.246376]]\n",
      "\n",
      " [[14.204108 14.204108 29.315887 ... 54.85744  55.303    56.246376]]\n",
      "\n",
      " [[14.334369 14.334369 29.321383 ... 54.63009  55.0724   56.00719 ]]\n",
      "\n",
      " ...\n",
      "\n",
      " [[27.967333 27.967333 29.895674 ... 30.837536 30.927086 30.981443]]\n",
      "\n",
      " [[27.967333 27.967333 29.895674 ... 30.837536 30.927086 30.981443]]\n",
      "\n",
      " [[27.967333 27.967333 29.895674 ... 30.837536 30.927086 30.981443]]]\n",
      "all_quantiles after squeezing shape: (303, 50)\n",
      "Error with cow SE-5c06d92d-2577, lactation 5: too many values to unpack (expected 2)\n"
     ]
    },
    {
     "name": "stderr",
     "output_type": "stream",
     "text": [
      "/Users/user/anaconda3/envs/GIGACOW/lib/python3.11/site-packages/torch/optim/lr_scheduler.py:60: UserWarning: The verbose parameter is deprecated. Please use get_last_lr() to access the learning rate.\n",
      "  warnings.warn(\n",
      "  4%|▍         | 87/2315 [00:32<14:01,  2.65 Segments/s]"
     ]
    },
    {
     "name": "stdout",
     "output_type": "stream",
     "text": [
      "all_quantiles shape: (170, 1, 50)\n",
      "all_quantiles content: [[[16.608286 16.608286 23.744083 ... 54.123302 55.099674 57.296753]]\n",
      "\n",
      " [[16.608286 16.608286 23.744083 ... 54.123302 55.099674 57.296753]]\n",
      "\n",
      " [[16.608286 16.608286 23.744083 ... 54.123302 55.099674 57.296753]]\n",
      "\n",
      " ...\n",
      "\n",
      " [[29.351578 29.351578 33.501507 ... 36.743546 36.85646  36.82499 ]]\n",
      "\n",
      " [[29.455183 29.455183 33.580837 ... 36.60202  36.70826  36.65867 ]]\n",
      "\n",
      " [[29.558777 29.558777 33.66017  ... 36.460876 36.559868 36.492157]]]\n",
      "all_quantiles after squeezing shape: (170, 50)\n",
      "Error with cow SE-5c06d92d-2577, lactation 6: too many values to unpack (expected 2)\n"
     ]
    },
    {
     "name": "stderr",
     "output_type": "stream",
     "text": [
      "/Users/user/anaconda3/envs/GIGACOW/lib/python3.11/site-packages/torch/optim/lr_scheduler.py:60: UserWarning: The verbose parameter is deprecated. Please use get_last_lr() to access the learning rate.\n",
      "  warnings.warn(\n",
      "  4%|▍         | 88/2315 [00:32<12:43,  2.92 Segments/s]"
     ]
    },
    {
     "name": "stdout",
     "output_type": "stream",
     "text": [
      "all_quantiles shape: (23, 1, 50)\n",
      "all_quantiles content: [[[31.192522 31.192522 31.194746 ... 36.289215 36.299896 36.304283]]\n",
      "\n",
      " [[30.30206  30.30206  30.304293 ... 36.191177 36.203194 36.208916]]\n",
      "\n",
      " [[29.411602 29.411602 29.413818 ... 36.09295  36.10668  36.11355 ]]\n",
      "\n",
      " ...\n",
      "\n",
      " [[15.164256 15.164256 15.166461 ... 34.52282  34.56154  34.587097]]\n",
      "\n",
      " [[15.164256 15.164256 15.166461 ... 34.52282  34.56154  34.587097]]\n",
      "\n",
      " [[15.164256 15.164256 15.166461 ... 34.52282  34.56154  34.587097]]]\n",
      "all_quantiles after squeezing shape: (23, 50)\n",
      "Error with cow SE-5c06d92d-2582, lactation 4: too many values to unpack (expected 2)\n"
     ]
    },
    {
     "name": "stderr",
     "output_type": "stream",
     "text": [
      "/Users/user/anaconda3/envs/GIGACOW/lib/python3.11/site-packages/torch/optim/lr_scheduler.py:60: UserWarning: The verbose parameter is deprecated. Please use get_last_lr() to access the learning rate.\n",
      "  warnings.warn(\n",
      "  4%|▍         | 89/2315 [00:32<13:29,  2.75 Segments/s]"
     ]
    },
    {
     "name": "stdout",
     "output_type": "stream",
     "text": [
      "all_quantiles shape: (265, 1, 50)\n",
      "all_quantiles content: [[[17.621159 17.621159 24.057817 ... 68.57891  69.519424 70.55435 ]]\n",
      "\n",
      " [[17.621159 17.621159 24.057817 ... 68.57891  69.519424 70.55435 ]]\n",
      "\n",
      " [[17.628813 17.628813 24.043299 ... 68.48316  69.421005 70.45212 ]]\n",
      "\n",
      " ...\n",
      "\n",
      " [[19.865454 19.865454 19.79792  ... 40.431976 40.557667 40.56492 ]]\n",
      "\n",
      " [[19.865454 19.865454 19.79792  ... 40.431976 40.557667 40.56492 ]]\n",
      "\n",
      " [[19.865454 19.865454 19.79792  ... 40.431976 40.557667 40.56492 ]]]\n",
      "all_quantiles after squeezing shape: (265, 50)\n",
      "Error with cow SE-5c06d92d-2582, lactation 5: too many values to unpack (expected 2)\n"
     ]
    },
    {
     "name": "stderr",
     "output_type": "stream",
     "text": [
      "/Users/user/anaconda3/envs/GIGACOW/lib/python3.11/site-packages/torch/optim/lr_scheduler.py:60: UserWarning: The verbose parameter is deprecated. Please use get_last_lr() to access the learning rate.\n",
      "  warnings.warn(\n",
      "  4%|▍         | 90/2315 [00:33<13:19,  2.78 Segments/s]"
     ]
    },
    {
     "name": "stdout",
     "output_type": "stream",
     "text": [
      "all_quantiles shape: (166, 1, 50)\n",
      "all_quantiles content: [[[16.498518 16.498518 21.57719  ... 56.26011  57.0507   57.66735 ]]\n",
      "\n",
      " [[16.692019 16.692019 21.660685 ... 55.87101  56.632614 57.22675 ]]\n",
      "\n",
      " [[16.692019 16.692019 21.660685 ... 55.87101  56.632614 57.22675 ]]\n",
      "\n",
      " ...\n",
      "\n",
      " [[23.979927 23.979927 24.805735 ... 41.212654 40.88211  40.630722]]\n",
      "\n",
      " [[24.012182 24.012182 24.81966  ... 41.1478   40.812492 40.557095]]\n",
      "\n",
      " [[24.044418 24.044418 24.833584 ... 41.082954 40.74287  40.483665]]]\n",
      "all_quantiles after squeezing shape: (166, 50)\n",
      "Error with cow SE-5c06d92d-2582, lactation 6: too many values to unpack (expected 2)\n"
     ]
    },
    {
     "name": "stderr",
     "output_type": "stream",
     "text": [
      "/Users/user/anaconda3/envs/GIGACOW/lib/python3.11/site-packages/torch/optim/lr_scheduler.py:60: UserWarning: The verbose parameter is deprecated. Please use get_last_lr() to access the learning rate.\n",
      "  warnings.warn(\n",
      "  4%|▍         | 91/2315 [00:33<13:41,  2.71 Segments/s]"
     ]
    },
    {
     "name": "stdout",
     "output_type": "stream",
     "text": [
      "all_quantiles shape: (359, 1, 50)\n",
      "all_quantiles content: [[[21.996151 21.996151 35.148117 ... 61.394688 61.656376 62.026215]]\n",
      "\n",
      " [[21.884537 21.884537 35.306835 ... 62.017822 62.27932  62.6503  ]]\n",
      "\n",
      " [[21.996151 21.996151 35.148117 ... 61.394688 61.656376 62.026215]]\n",
      "\n",
      " ...\n",
      "\n",
      " [[27.560335 27.560335 27.235163 ... 30.330849 30.597303 30.910587]]\n",
      "\n",
      " [[27.57628  27.57628  27.212502 ... 30.241964 30.508232 30.821417]]\n",
      "\n",
      " [[27.592216 27.592216 27.189825 ... 30.152798 30.419254 30.732346]]]\n",
      "all_quantiles after squeezing shape: (359, 50)\n",
      "Error with cow SE-5c06d92d-2591, lactation 4: too many values to unpack (expected 2)\n"
     ]
    },
    {
     "name": "stderr",
     "output_type": "stream",
     "text": [
      "/Users/user/anaconda3/envs/GIGACOW/lib/python3.11/site-packages/torch/optim/lr_scheduler.py:60: UserWarning: The verbose parameter is deprecated. Please use get_last_lr() to access the learning rate.\n",
      "  warnings.warn(\n",
      "  4%|▍         | 92/2315 [00:33<13:40,  2.71 Segments/s]"
     ]
    },
    {
     "name": "stdout",
     "output_type": "stream",
     "text": [
      "all_quantiles shape: (221, 1, 50)\n",
      "all_quantiles content: [[[39.80411  39.80411  41.323265 ... 52.49939  52.708054 53.033447]]\n",
      "\n",
      " [[39.67878  39.67878  41.1985   ... 52.40555  52.614975 52.939415]]\n",
      "\n",
      " [[39.55346  39.55346  41.073727 ... 52.311703 52.521706 52.84557 ]]\n",
      "\n",
      " ...\n",
      "\n",
      " [[10.352576 10.352576 12.002945 ... 30.428886 30.8259   30.953217]]\n",
      "\n",
      " [[10.352576 10.352576 12.002945 ... 30.428886 30.8259   30.953217]]\n",
      "\n",
      " [[10.352576 10.352576 12.002945 ... 30.428886 30.8259   30.953217]]]\n",
      "all_quantiles after squeezing shape: (221, 50)\n",
      "Error with cow SE-5c06d92d-2594, lactation 4: too many values to unpack (expected 2)\n"
     ]
    },
    {
     "name": "stderr",
     "output_type": "stream",
     "text": [
      "/Users/user/anaconda3/envs/GIGACOW/lib/python3.11/site-packages/torch/optim/lr_scheduler.py:60: UserWarning: The verbose parameter is deprecated. Please use get_last_lr() to access the learning rate.\n",
      "  warnings.warn(\n",
      "  4%|▍         | 93/2315 [00:34<14:02,  2.64 Segments/s]"
     ]
    },
    {
     "name": "stdout",
     "output_type": "stream",
     "text": [
      "all_quantiles shape: (382, 1, 50)\n",
      "all_quantiles content: [[[18.509531 18.509531 27.709246 ... 59.163662 60.64377  61.039543]]\n",
      "\n",
      " [[17.815256 17.815256 27.649353 ... 61.07788  62.678143 63.044735]]\n",
      "\n",
      " [[18.509531 18.509531 27.709246 ... 59.163662 60.64377  61.039543]]\n",
      "\n",
      " ...\n",
      "\n",
      " [[27.896189 27.896189 28.519117 ... 33.2819   33.138847 33.929253]]\n",
      "\n",
      " [[27.896189 27.896189 28.519117 ... 33.2819   33.138847 33.929253]]\n",
      "\n",
      " [[27.896189 27.896189 28.519117 ... 33.2819   33.138847 33.929253]]]\n",
      "all_quantiles after squeezing shape: (382, 50)\n",
      "Error with cow SE-5c06d92d-2594, lactation 5: too many values to unpack (expected 2)\n"
     ]
    },
    {
     "name": "stderr",
     "output_type": "stream",
     "text": [
      "/Users/user/anaconda3/envs/GIGACOW/lib/python3.11/site-packages/torch/optim/lr_scheduler.py:60: UserWarning: The verbose parameter is deprecated. Please use get_last_lr() to access the learning rate.\n",
      "  warnings.warn(\n",
      "  4%|▍         | 94/2315 [00:34<14:09,  2.61 Segments/s]"
     ]
    },
    {
     "name": "stdout",
     "output_type": "stream",
     "text": [
      "all_quantiles shape: (357, 1, 50)\n",
      "all_quantiles content: [[[33.245346 33.245346 35.981773 ... 65.47737  66.17737  68.411255]]\n",
      "\n",
      " [[33.245346 33.245346 35.981773 ... 65.47737  66.17737  68.411255]]\n",
      "\n",
      " [[33.07035  33.07035  35.78608  ... 65.22789  65.9256   68.14346 ]]\n",
      "\n",
      " ...\n",
      "\n",
      " [[12.069297 12.069297 12.304663 ... 35.285473 35.70156  36.00588 ]]\n",
      "\n",
      " [[12.069297 12.069297 12.304663 ... 35.285473 35.70156  36.00588 ]]\n",
      "\n",
      " [[12.069297 12.069297 12.304663 ... 35.285473 35.70156  36.00588 ]]]\n",
      "all_quantiles after squeezing shape: (357, 50)\n",
      "Error with cow SE-5c06d92d-2595, lactation 4: too many values to unpack (expected 2)\n"
     ]
    },
    {
     "name": "stderr",
     "output_type": "stream",
     "text": [
      "/Users/user/anaconda3/envs/GIGACOW/lib/python3.11/site-packages/torch/optim/lr_scheduler.py:60: UserWarning: The verbose parameter is deprecated. Please use get_last_lr() to access the learning rate.\n",
      "  warnings.warn(\n",
      "  4%|▍         | 95/2315 [00:35<13:28,  2.75 Segments/s]"
     ]
    },
    {
     "name": "stdout",
     "output_type": "stream",
     "text": [
      "all_quantiles shape: (100, 1, 50)\n",
      "all_quantiles content: [[[27.812086 27.812086 33.83789  ... 43.576622 43.604084 43.624115]]\n",
      "\n",
      " [[27.719248 27.719248 33.70819  ... 43.493652 43.52131  43.541714]]\n",
      "\n",
      " [[27.626402 27.626402 33.578503 ... 43.410873 43.43853  43.45951 ]]\n",
      "\n",
      " ...\n",
      "\n",
      " [[18.899511 18.899511 21.3868   ... 35.616302 35.67009  35.713768]]\n",
      "\n",
      " [[18.899511 18.899511 21.3868   ... 35.616302 35.67009  35.713768]]\n",
      "\n",
      " [[18.899511 18.899511 21.3868   ... 35.616302 35.67009  35.713768]]]\n",
      "all_quantiles after squeezing shape: (100, 50)\n",
      "Error with cow SE-5c06d92d-2601, lactation 4: too many values to unpack (expected 2)\n"
     ]
    },
    {
     "name": "stderr",
     "output_type": "stream",
     "text": [
      "/Users/user/anaconda3/envs/GIGACOW/lib/python3.11/site-packages/torch/optim/lr_scheduler.py:60: UserWarning: The verbose parameter is deprecated. Please use get_last_lr() to access the learning rate.\n",
      "  warnings.warn(\n",
      "  4%|▍         | 96/2315 [00:35<14:31,  2.55 Segments/s]"
     ]
    },
    {
     "name": "stdout",
     "output_type": "stream",
     "text": [
      "all_quantiles shape: (495, 1, 50)\n",
      "all_quantiles content: [[[20.907713 20.907713 28.726028 ... 55.56316  56.881905 57.822227]]\n",
      "\n",
      " [[20.512747 20.512747 28.683853 ... 56.647873 58.0307   58.982273]]\n",
      "\n",
      " [[20.907713 20.907713 28.726028 ... 55.56316  56.881905 57.822227]]\n",
      "\n",
      " ...\n",
      "\n",
      " [[27.358913 27.358913 29.414759 ... 37.84542  38.11817  38.871193]]\n",
      "\n",
      " [[27.358913 27.358913 29.414759 ... 37.84542  38.11817  38.871193]]\n",
      "\n",
      " [[27.358913 27.358913 29.414759 ... 37.84542  38.11817  38.871193]]]\n",
      "all_quantiles after squeezing shape: (495, 50)\n",
      "Error with cow SE-5c06d92d-2601, lactation 5: too many values to unpack (expected 2)\n"
     ]
    },
    {
     "name": "stderr",
     "output_type": "stream",
     "text": [
      "/Users/user/anaconda3/envs/GIGACOW/lib/python3.11/site-packages/torch/optim/lr_scheduler.py:60: UserWarning: The verbose parameter is deprecated. Please use get_last_lr() to access the learning rate.\n",
      "  warnings.warn(\n",
      "  4%|▍         | 97/2315 [00:35<13:01,  2.84 Segments/s]"
     ]
    },
    {
     "name": "stdout",
     "output_type": "stream",
     "text": [
      "all_quantiles shape: (23, 1, 50)\n",
      "all_quantiles content: [[[33.55068  33.55068  33.57295  ... 36.114883 36.13968  36.162567]]\n",
      "\n",
      " [[32.533306 32.533306 32.554344 ... 35.74066  35.76479  35.786438]]\n",
      "\n",
      " [[31.515919 31.515919 31.53575  ... 35.366344 35.38971  35.4105  ]]\n",
      "\n",
      " ...\n",
      "\n",
      " [[15.237807 15.237807 15.238237 ... 29.378033 29.38919  29.394913]]\n",
      "\n",
      " [[15.237807 15.237807 15.238237 ... 29.378033 29.38919  29.394913]]\n",
      "\n",
      " [[15.237807 15.237807 15.238237 ... 29.378033 29.38919  29.394913]]]\n",
      "all_quantiles after squeezing shape: (23, 50)\n",
      "Error with cow SE-5c06d92d-2606, lactation 4: too many values to unpack (expected 2)\n"
     ]
    },
    {
     "name": "stderr",
     "output_type": "stream",
     "text": [
      "/Users/user/anaconda3/envs/GIGACOW/lib/python3.11/site-packages/torch/optim/lr_scheduler.py:60: UserWarning: The verbose parameter is deprecated. Please use get_last_lr() to access the learning rate.\n",
      "  warnings.warn(\n",
      "  4%|▍         | 98/2315 [00:36<13:15,  2.79 Segments/s]"
     ]
    },
    {
     "name": "stdout",
     "output_type": "stream",
     "text": [
      "all_quantiles shape: (292, 1, 50)\n",
      "all_quantiles content: [[[24.895954 24.895954 36.548973 ... 65.90538  67.17644  68.08338 ]]\n",
      "\n",
      " [[24.895954 24.895954 36.548973 ... 65.90538  67.17644  68.08338 ]]\n",
      "\n",
      " [[25.333357 25.333357 35.766933 ... 62.29496  63.494873 64.35032 ]]\n",
      "\n",
      " ...\n",
      "\n",
      " [[29.37564  29.37564  28.539919 ... 28.92971  29.473686 29.850672]]\n",
      "\n",
      " [[29.390726 29.390726 28.512966 ... 28.80516  29.346848 29.721926]]\n",
      "\n",
      " [[29.405807 29.405807 28.485989 ... 28.680704 29.219723 29.593275]]]\n",
      "all_quantiles after squeezing shape: (292, 50)\n",
      "Error with cow SE-5c06d92d-2606, lactation 5: too many values to unpack (expected 2)\n"
     ]
    },
    {
     "name": "stderr",
     "output_type": "stream",
     "text": [
      "/Users/user/anaconda3/envs/GIGACOW/lib/python3.11/site-packages/torch/optim/lr_scheduler.py:60: UserWarning: The verbose parameter is deprecated. Please use get_last_lr() to access the learning rate.\n",
      "  warnings.warn(\n",
      "  4%|▍         | 99/2315 [00:36<13:36,  2.71 Segments/s]"
     ]
    },
    {
     "name": "stdout",
     "output_type": "stream",
     "text": [
      "all_quantiles shape: (274, 1, 50)\n",
      "all_quantiles content: [[[28.174948 28.174948 35.29743  ... 53.930664 54.281998 54.530907]]\n",
      "\n",
      " [[28.553247 28.553247 35.83803  ... 55.4491   55.832672 56.08864 ]]\n",
      "\n",
      " [[28.536808 28.536808 35.814537 ... 55.38292  55.765343 56.020733]]\n",
      "\n",
      " ...\n",
      "\n",
      " [[24.145329 24.145329 29.538725 ... 37.75692  37.763023 37.939835]]\n",
      "\n",
      " [[24.145329 24.145329 29.538725 ... 37.75692  37.763023 37.939835]]\n",
      "\n",
      " [[24.145329 24.145329 29.538725 ... 37.75692  37.763023 37.939835]]]\n",
      "all_quantiles after squeezing shape: (274, 50)\n",
      "Error with cow SE-5c06d92d-2607, lactation 5: too many values to unpack (expected 2)\n"
     ]
    },
    {
     "name": "stderr",
     "output_type": "stream",
     "text": [
      "/Users/user/anaconda3/envs/GIGACOW/lib/python3.11/site-packages/torch/optim/lr_scheduler.py:60: UserWarning: The verbose parameter is deprecated. Please use get_last_lr() to access the learning rate.\n",
      "  warnings.warn(\n",
      "  4%|▍         | 100/2315 [00:36<14:10,  2.60 Segments/s]"
     ]
    },
    {
     "name": "stdout",
     "output_type": "stream",
     "text": [
      "all_quantiles shape: (221, 1, 50)\n",
      "all_quantiles content: [[[32.65362  32.65362  36.017143 ... 44.58065  44.858356 45.211597]]\n",
      "\n",
      " [[32.688457 32.688457 36.143982 ... 44.76452  45.038982 45.392605]]\n",
      "\n",
      " [[32.682655 32.682655 36.122833 ... 44.733807 45.00885  45.362473]]\n",
      "\n",
      " ...\n",
      "\n",
      " [[31.41693  31.41693  31.514585 ... 38.05294  38.446426 38.790703]]\n",
      "\n",
      " [[31.411121 31.411121 31.493437 ... 38.022423 38.4161   38.760757]]\n",
      "\n",
      " [[31.405317 31.405317 31.4723   ... 37.991714 38.386154 38.73062 ]]]\n",
      "all_quantiles after squeezing shape: (221, 50)\n",
      "Error with cow SE-5c06d92d-2607, lactation 6: too many values to unpack (expected 2)\n"
     ]
    },
    {
     "name": "stderr",
     "output_type": "stream",
     "text": [
      "/Users/user/anaconda3/envs/GIGACOW/lib/python3.11/site-packages/torch/optim/lr_scheduler.py:60: UserWarning: The verbose parameter is deprecated. Please use get_last_lr() to access the learning rate.\n",
      "  warnings.warn(\n",
      "  4%|▍         | 101/2315 [00:37<15:15,  2.42 Segments/s]"
     ]
    },
    {
     "name": "stdout",
     "output_type": "stream",
     "text": [
      "all_quantiles shape: (621, 1, 50)\n",
      "all_quantiles content: [[[27.234911 27.234911 30.56674  ... 66.71257  66.88042  66.648865]]\n",
      "\n",
      " [[27.168585 27.168585 30.49805  ... 66.57295  66.744995 66.52641 ]]\n",
      "\n",
      " [[27.13542  27.13542  30.463694 ... 66.50314  66.67709  66.46538 ]]\n",
      "\n",
      " ...\n",
      "\n",
      " [[18.247711 18.247711 21.26019  ... 47.782326 48.505398 50.092697]]\n",
      "\n",
      " [[18.247711 18.247711 21.26019  ... 47.782326 48.505398 50.092697]]\n",
      "\n",
      " [[18.247711 18.247711 21.26019  ... 47.782326 48.505398 50.092697]]]\n",
      "all_quantiles after squeezing shape: (621, 50)\n",
      "Error with cow SE-5c06d92d-2610, lactation 4: too many values to unpack (expected 2)\n"
     ]
    },
    {
     "name": "stderr",
     "output_type": "stream",
     "text": [
      "/Users/user/anaconda3/envs/GIGACOW/lib/python3.11/site-packages/torch/optim/lr_scheduler.py:60: UserWarning: The verbose parameter is deprecated. Please use get_last_lr() to access the learning rate.\n",
      "  warnings.warn(\n",
      "  4%|▍         | 102/2315 [00:37<14:53,  2.48 Segments/s]"
     ]
    },
    {
     "name": "stdout",
     "output_type": "stream",
     "text": [
      "all_quantiles shape: (292, 1, 50)\n",
      "all_quantiles content: [[[33.99684  33.99684  35.848057 ... 45.88566  46.113777 46.31958 ]]\n",
      "\n",
      " [[33.95654  33.95654  35.80278  ... 45.819664 46.047783 46.253395]]\n",
      "\n",
      " [[33.91625  33.91625  35.75748  ... 45.75348  45.98179  46.18721 ]]\n",
      "\n",
      " ...\n",
      "\n",
      " [[22.311085 22.311085 22.713303 ... 26.742935 26.9495   27.159498]]\n",
      "\n",
      " [[22.270798 22.270798 22.668003 ... 26.677036 26.883316 27.093506]]\n",
      "\n",
      " [[22.230494 22.230494 22.622717 ... 26.610945 26.817322 27.027416]]]\n",
      "all_quantiles after squeezing shape: (292, 50)\n",
      "Error with cow SE-5c06d92d-2618, lactation 4: too many values to unpack (expected 2)\n"
     ]
    },
    {
     "name": "stderr",
     "output_type": "stream",
     "text": [
      "/Users/user/anaconda3/envs/GIGACOW/lib/python3.11/site-packages/torch/optim/lr_scheduler.py:60: UserWarning: The verbose parameter is deprecated. Please use get_last_lr() to access the learning rate.\n",
      "  warnings.warn(\n",
      "  4%|▍         | 104/2315 [00:38<11:15,  3.27 Segments/s]"
     ]
    },
    {
     "name": "stdout",
     "output_type": "stream",
     "text": [
      "all_quantiles shape: (294, 1, 50)\n",
      "all_quantiles content: [[[21.499537 21.499537 32.089256 ... 70.05997  70.21408  70.046616]]\n",
      "\n",
      " [[21.506739 21.506739 32.090332 ... 69.94305  70.09773  69.932556]]\n",
      "\n",
      " [[21.513987 21.513987 32.0914   ... 69.8267   69.98119  69.818306]]\n",
      "\n",
      " ...\n",
      "\n",
      " [[23.612236 23.612236 32.409584 ... 35.89096  36.100388 36.618233]]\n",
      "\n",
      " [[23.612236 23.612236 32.409584 ... 35.89096  36.100388 36.618233]]\n",
      "\n",
      " [[23.612236 23.612236 32.409584 ... 35.89096  36.100388 36.618233]]]\n",
      "all_quantiles after squeezing shape: (294, 50)\n",
      "Error with cow SE-5c06d92d-2621, lactation 4: too many values to unpack (expected 2)\n"
     ]
    },
    {
     "name": "stderr",
     "output_type": "stream",
     "text": [
      "/Users/user/anaconda3/envs/GIGACOW/lib/python3.11/site-packages/torch/optim/lr_scheduler.py:60: UserWarning: The verbose parameter is deprecated. Please use get_last_lr() to access the learning rate.\n",
      "  warnings.warn(\n",
      "  5%|▍         | 105/2315 [00:38<11:54,  3.09 Segments/s]"
     ]
    },
    {
     "name": "stdout",
     "output_type": "stream",
     "text": [
      "all_quantiles shape: (256, 1, 50)\n",
      "all_quantiles content: [[[41.2351   41.2351   43.487965 ... 57.2258   57.18708  56.832886]]\n",
      "\n",
      " [[41.385147 41.385147 43.655025 ... 57.383347 57.336613 56.955524]]\n",
      "\n",
      " [[41.33514  41.33514  43.59933  ... 57.330704 57.286835 56.91471 ]]\n",
      "\n",
      " ...\n",
      "\n",
      " [[28.33135  28.33135  29.119837 ... 43.681335 44.33155  46.28448 ]]\n",
      "\n",
      " [[28.281342 28.281342 29.064142 ... 43.628693 44.281765 46.243477]]\n",
      "\n",
      " [[28.231323 28.231323 29.008472 ... 43.57624  44.231796 46.202656]]]\n",
      "all_quantiles after squeezing shape: (256, 50)\n",
      "Error with cow SE-5c06d92d-2621, lactation 5: too many values to unpack (expected 2)\n"
     ]
    },
    {
     "name": "stderr",
     "output_type": "stream",
     "text": [
      "/Users/user/anaconda3/envs/GIGACOW/lib/python3.11/site-packages/torch/optim/lr_scheduler.py:60: UserWarning: The verbose parameter is deprecated. Please use get_last_lr() to access the learning rate.\n",
      "  warnings.warn(\n",
      "  5%|▍         | 106/2315 [00:38<12:33,  2.93 Segments/s]"
     ]
    },
    {
     "name": "stdout",
     "output_type": "stream",
     "text": [
      "all_quantiles shape: (125, 1, 50)\n",
      "all_quantiles content: [[[43.57001  43.57001  43.833447 ... 48.792263 48.89965  48.902893]]\n",
      "\n",
      " [[43.5067   43.5067   43.77593  ... 48.759266 48.867416 48.873325]]\n",
      "\n",
      " [[43.4434   43.4434   43.71841  ... 48.726463 48.83518  48.84376 ]]\n",
      "\n",
      " ...\n",
      "\n",
      " [[35.846577 35.846577 36.816082 ... 44.773293 44.96212  45.296097]]\n",
      "\n",
      " [[35.783268 35.783268 36.758564 ... 44.740486 44.92969  45.266724]]\n",
      "\n",
      " [[35.783268 35.783268 36.758564 ... 44.740486 44.92969  45.266724]]]\n",
      "all_quantiles after squeezing shape: (125, 50)\n",
      "Error with cow SE-5c06d92d-2628, lactation 4: too many values to unpack (expected 2)\n"
     ]
    },
    {
     "name": "stderr",
     "output_type": "stream",
     "text": [
      "/Users/user/anaconda3/envs/GIGACOW/lib/python3.11/site-packages/torch/optim/lr_scheduler.py:60: UserWarning: The verbose parameter is deprecated. Please use get_last_lr() to access the learning rate.\n",
      "  warnings.warn(\n",
      "  5%|▍         | 107/2315 [00:39<12:26,  2.96 Segments/s]"
     ]
    },
    {
     "name": "stdout",
     "output_type": "stream",
     "text": [
      "all_quantiles shape: (107, 1, 50)\n",
      "all_quantiles content: [[[19.928694  19.928694  23.91672   ... 60.283276  60.704994  61.06548  ]]\n",
      "\n",
      " [[19.928694  19.928694  23.91672   ... 60.283276  60.704994  61.06548  ]]\n",
      "\n",
      " [[19.853876  19.853876  23.806572  ... 60.113144  60.53047   60.886192 ]]\n",
      "\n",
      " ...\n",
      "\n",
      " [[10.277176  10.277176   9.707117  ... 38.342667  38.184357  37.95433  ]]\n",
      "\n",
      " [[10.2023115 10.2023115  9.596968  ... 38.17253   38.00974   37.775135 ]]\n",
      "\n",
      " [[10.052681  10.052681   9.376669  ... 37.83245   37.660503  37.41684  ]]]\n",
      "all_quantiles after squeezing shape: (107, 50)\n",
      "Error with cow SE-5c06d92d-2628, lactation 5: too many values to unpack (expected 2)\n"
     ]
    },
    {
     "name": "stderr",
     "output_type": "stream",
     "text": [
      "/Users/user/anaconda3/envs/GIGACOW/lib/python3.11/site-packages/torch/optim/lr_scheduler.py:60: UserWarning: The verbose parameter is deprecated. Please use get_last_lr() to access the learning rate.\n",
      "  warnings.warn(\n",
      "  5%|▍         | 108/2315 [00:39<12:58,  2.84 Segments/s]"
     ]
    },
    {
     "name": "stdout",
     "output_type": "stream",
     "text": [
      "all_quantiles shape: (336, 1, 50)\n",
      "all_quantiles content: [[[54.62012  54.62012  55.640255 ... 60.174366 60.164066 60.464855]]\n",
      "\n",
      " [[54.4916   54.4916   55.51803  ... 60.09235  60.084343 60.386276]]\n",
      "\n",
      " [[54.363094 54.363094 55.395794 ... 60.010338 60.004425 60.30788 ]]\n",
      "\n",
      " ...\n",
      "\n",
      " [[12.851631 12.851631 15.914964 ... 33.51431  34.199333 34.980392]]\n",
      "\n",
      " [[12.851631 12.851631 15.914964 ... 33.51431  34.199333 34.980392]]\n",
      "\n",
      " [[12.851631 12.851631 15.914964 ... 33.51431  34.199333 34.980392]]]\n",
      "all_quantiles after squeezing shape: (336, 50)\n",
      "Error with cow SE-5c06d92d-2630, lactation 4: too many values to unpack (expected 2)\n"
     ]
    },
    {
     "name": "stderr",
     "output_type": "stream",
     "text": [
      "/Users/user/anaconda3/envs/GIGACOW/lib/python3.11/site-packages/torch/optim/lr_scheduler.py:60: UserWarning: The verbose parameter is deprecated. Please use get_last_lr() to access the learning rate.\n",
      "  warnings.warn(\n",
      "  5%|▍         | 109/2315 [00:40<13:08,  2.80 Segments/s]"
     ]
    },
    {
     "name": "stdout",
     "output_type": "stream",
     "text": [
      "all_quantiles shape: (235, 1, 50)\n",
      "all_quantiles content: [[[17.413162 17.413162 22.550486 ... 69.28139  70.39108  74.43371 ]]\n",
      "\n",
      " [[17.413162 17.413162 22.550486 ... 69.28139  70.39108  74.43371 ]]\n",
      "\n",
      " [[17.503428 17.503428 22.628498 ... 69.17229  70.27855  74.3042  ]]\n",
      "\n",
      " ...\n",
      "\n",
      " [[38.894115 38.894115 41.118633 ... 43.31398  43.598175 43.61381 ]]\n",
      "\n",
      " [[38.984367 38.984367 41.196655 ... 43.20488  43.48564  43.484116]]\n",
      "\n",
      " [[39.074635 39.074635 41.274666 ... 43.09578  43.373108 43.354607]]]\n",
      "all_quantiles after squeezing shape: (235, 50)\n",
      "Error with cow SE-5c06d92d-2630, lactation 5: too many values to unpack (expected 2)\n"
     ]
    },
    {
     "name": "stderr",
     "output_type": "stream",
     "text": [
      "/Users/user/anaconda3/envs/GIGACOW/lib/python3.11/site-packages/torch/optim/lr_scheduler.py:60: UserWarning: The verbose parameter is deprecated. Please use get_last_lr() to access the learning rate.\n",
      "  warnings.warn(\n",
      "  5%|▍         | 110/2315 [00:40<13:18,  2.76 Segments/s]"
     ]
    },
    {
     "name": "stdout",
     "output_type": "stream",
     "text": [
      "all_quantiles shape: (195, 1, 50)\n",
      "all_quantiles content: [[[38.909172 38.909172 40.432392 ... 45.28751  45.557594 44.548794]]\n",
      "\n",
      " [[38.859158 38.859158 40.37868  ... 45.247078 45.51601  44.524   ]]\n",
      "\n",
      " [[38.80915  38.80915  40.324986 ... 45.206448 45.474625 44.499207]]\n",
      "\n",
      " ...\n",
      "\n",
      " [[29.007063 29.007063 29.797947 ... 37.262154 37.332153 39.63909 ]]\n",
      "\n",
      " [[28.957056 28.957056 29.74423  ... 37.221527 37.290764 39.614296]]\n",
      "\n",
      " [[28.90705  28.90705  29.690516 ... 37.1809   37.249184 39.589497]]]\n",
      "all_quantiles after squeezing shape: (195, 50)\n",
      "Error with cow SE-5c06d92d-2631, lactation 4: too many values to unpack (expected 2)\n"
     ]
    },
    {
     "name": "stderr",
     "output_type": "stream",
     "text": [
      "/Users/user/anaconda3/envs/GIGACOW/lib/python3.11/site-packages/torch/optim/lr_scheduler.py:60: UserWarning: The verbose parameter is deprecated. Please use get_last_lr() to access the learning rate.\n",
      "  warnings.warn(\n",
      "  5%|▍         | 111/2315 [00:40<13:16,  2.77 Segments/s]"
     ]
    },
    {
     "name": "stdout",
     "output_type": "stream",
     "text": [
      "all_quantiles shape: (78, 1, 50)\n",
      "all_quantiles content: [[[15.861559 15.861559 15.961289 ... 44.059944 44.483566 45.05253 ]]\n",
      "\n",
      " [[15.861559 15.861559 15.961289 ... 44.059944 44.483566 45.05253 ]]\n",
      "\n",
      " [[15.81931  15.81931  16.022444 ... 44.559097 44.956398 45.488358]]\n",
      "\n",
      " ...\n",
      "\n",
      " [[14.763021 14.763021 17.551683 ... 57.037544 56.775284 56.38199 ]]\n",
      "\n",
      " [[14.748954 14.748954 17.57207  ... 57.20386  56.93302  56.527138]]\n",
      "\n",
      " [[14.734839 14.734839 17.592503 ... 57.370182 57.09057  56.672478]]]\n",
      "all_quantiles after squeezing shape: (78, 50)\n",
      "Error with cow SE-5c06d92d-2631, lactation 5: too many values to unpack (expected 2)\n"
     ]
    },
    {
     "name": "stderr",
     "output_type": "stream",
     "text": [
      "/Users/user/anaconda3/envs/GIGACOW/lib/python3.11/site-packages/torch/optim/lr_scheduler.py:60: UserWarning: The verbose parameter is deprecated. Please use get_last_lr() to access the learning rate.\n",
      "  warnings.warn(\n",
      "  5%|▍         | 112/2315 [00:41<13:22,  2.75 Segments/s]"
     ]
    },
    {
     "name": "stdout",
     "output_type": "stream",
     "text": [
      "all_quantiles shape: (231, 1, 50)\n",
      "all_quantiles content: [[[48.56579  48.56579  48.66562  ... 62.83188  63.181305 62.71629 ]]\n",
      "\n",
      " [[48.46246  48.46246  48.574554 ... 62.732697 63.082882 62.633133]]\n",
      "\n",
      " [[48.35913  48.35913  48.48348  ... 62.6337   62.984657 62.54959 ]]\n",
      "\n",
      " ...\n",
      "\n",
      " [[25.006197 25.006197 27.90315  ... 40.229416 40.797997 43.713375]]\n",
      "\n",
      " [[25.006197 25.006197 27.90315  ... 40.229416 40.797997 43.713375]]\n",
      "\n",
      " [[25.006197 25.006197 27.90315  ... 40.229416 40.797997 43.713375]]]\n",
      "all_quantiles after squeezing shape: (231, 50)\n",
      "Error with cow SE-5c06d92d-2636, lactation 4: too many values to unpack (expected 2)\n"
     ]
    },
    {
     "name": "stderr",
     "output_type": "stream",
     "text": [
      "/Users/user/anaconda3/envs/GIGACOW/lib/python3.11/site-packages/torch/optim/lr_scheduler.py:60: UserWarning: The verbose parameter is deprecated. Please use get_last_lr() to access the learning rate.\n",
      "  warnings.warn(\n",
      "  5%|▍         | 113/2315 [00:41<13:20,  2.75 Segments/s]"
     ]
    },
    {
     "name": "stdout",
     "output_type": "stream",
     "text": [
      "all_quantiles shape: (157, 1, 50)\n",
      "all_quantiles content: [[[12.91511  12.91511  14.373207 ... 65.60211  67.31377  68.027115]]\n",
      "\n",
      " [[12.968349 12.968349 14.121532 ... 72.85709  74.6645   75.34447 ]]\n",
      "\n",
      " [[12.91511  12.91511  14.373207 ... 65.60211  67.31377  68.027115]]\n",
      "\n",
      " ...\n",
      "\n",
      " [[12.54835  12.54835  16.106628 ... 15.624045 16.675186 17.620277]]\n",
      "\n",
      " [[12.54835  12.54835  16.106628 ... 15.624045 16.675186 17.620277]]\n",
      "\n",
      " [[12.546897 12.546897 16.113615 ... 15.422534 16.471004 17.41705 ]]]\n",
      "all_quantiles after squeezing shape: (157, 50)\n",
      "Error with cow SE-5c06d92d-2636, lactation 5: too many values to unpack (expected 2)\n"
     ]
    },
    {
     "name": "stderr",
     "output_type": "stream",
     "text": [
      "/Users/user/anaconda3/envs/GIGACOW/lib/python3.11/site-packages/torch/optim/lr_scheduler.py:60: UserWarning: The verbose parameter is deprecated. Please use get_last_lr() to access the learning rate.\n",
      "  warnings.warn(\n",
      "  5%|▍         | 114/2315 [00:41<13:59,  2.62 Segments/s]"
     ]
    },
    {
     "name": "stdout",
     "output_type": "stream",
     "text": [
      "all_quantiles shape: (271, 1, 50)\n",
      "all_quantiles content: [[[48.236996 48.236996 48.977993 ... 55.360794 55.606457 55.779266]]\n",
      "\n",
      " [[48.14883  48.14883  48.894547 ... 55.288506 55.533787 55.70717 ]]\n",
      "\n",
      " [[48.060673 48.060673 48.8111   ... 55.216026 55.46112  55.634876]]\n",
      "\n",
      " ...\n",
      "\n",
      " [[24.434137 24.434137 26.445518 ... 35.806847 35.97145  36.288452]]\n",
      "\n",
      " [[24.434137 24.434137 26.445518 ... 35.806847 35.97145  36.288452]]\n",
      "\n",
      " [[24.434137 24.434137 26.445518 ... 35.806847 35.97145  36.288452]]]\n",
      "all_quantiles after squeezing shape: (271, 50)\n",
      "Error with cow SE-5c06d92d-2638, lactation 4: too many values to unpack (expected 2)\n"
     ]
    },
    {
     "name": "stderr",
     "output_type": "stream",
     "text": [
      "/Users/user/anaconda3/envs/GIGACOW/lib/python3.11/site-packages/torch/optim/lr_scheduler.py:60: UserWarning: The verbose parameter is deprecated. Please use get_last_lr() to access the learning rate.\n",
      "  warnings.warn(\n",
      "  5%|▍         | 115/2315 [00:42<14:15,  2.57 Segments/s]"
     ]
    },
    {
     "name": "stdout",
     "output_type": "stream",
     "text": [
      "all_quantiles shape: (335, 1, 50)\n",
      "all_quantiles content: [[[22.712421 22.712421 30.144714 ... 60.454937 60.734367 61.04221 ]]\n",
      "\n",
      " [[22.712421 22.712421 30.144714 ... 60.454937 60.734367 61.04221 ]]\n",
      "\n",
      " [[22.712957 22.712957 30.107212 ... 60.248756 60.536762 60.844803]]\n",
      "\n",
      " ...\n",
      "\n",
      " [[22.769224 22.769224 26.01975  ... 37.74519  39.01739  39.31436 ]]\n",
      "\n",
      " [[22.769224 22.769224 26.01975  ... 37.74519  39.01739  39.31436 ]]\n",
      "\n",
      " [[22.769224 22.769224 26.01975  ... 37.74519  39.01739  39.31436 ]]]\n",
      "all_quantiles after squeezing shape: (335, 50)\n",
      "Error with cow SE-5c06d92d-2638, lactation 5: too many values to unpack (expected 2)\n"
     ]
    },
    {
     "name": "stderr",
     "output_type": "stream",
     "text": [
      "/Users/user/anaconda3/envs/GIGACOW/lib/python3.11/site-packages/torch/optim/lr_scheduler.py:60: UserWarning: The verbose parameter is deprecated. Please use get_last_lr() to access the learning rate.\n",
      "  warnings.warn(\n",
      "  5%|▌         | 117/2315 [00:42<10:56,  3.35 Segments/s]"
     ]
    },
    {
     "name": "stdout",
     "output_type": "stream",
     "text": [
      "all_quantiles shape: (274, 1, 50)\n",
      "all_quantiles content: [[[28.23819  28.23819  33.521603 ... 55.52292  55.841637 55.731964]]\n",
      "\n",
      " [[28.23888  28.23888  33.621857 ... 55.97458  56.2973   56.16741 ]]\n",
      "\n",
      " [[28.238749 28.238749 33.60181  ... 55.88436  56.205936 56.080437]]\n",
      "\n",
      " ...\n",
      "\n",
      " [[28.201208 28.201208 28.20804  ... 31.592274 31.690311 32.64408 ]]\n",
      "\n",
      " [[28.201067 28.201067 28.188    ... 31.50196  31.59914  32.556915]]\n",
      "\n",
      " [[28.201067 28.201067 28.188    ... 31.50196  31.59914  32.556915]]]\n",
      "all_quantiles after squeezing shape: (274, 50)\n",
      "Error with cow SE-5c06d92d-2639, lactation 4: too many values to unpack (expected 2)\n"
     ]
    },
    {
     "name": "stderr",
     "output_type": "stream",
     "text": [
      "/Users/user/anaconda3/envs/GIGACOW/lib/python3.11/site-packages/torch/optim/lr_scheduler.py:60: UserWarning: The verbose parameter is deprecated. Please use get_last_lr() to access the learning rate.\n",
      "  warnings.warn(\n",
      "  5%|▌         | 118/2315 [00:43<11:42,  3.13 Segments/s]"
     ]
    },
    {
     "name": "stdout",
     "output_type": "stream",
     "text": [
      "all_quantiles shape: (279, 1, 50)\n",
      "all_quantiles content: [[[24.185001 24.185001 26.925802 ... 48.43731  48.458286 48.525234]]\n",
      "\n",
      " [[24.201477 24.201477 26.96575  ... 48.799896 48.812485 48.8739  ]]\n",
      "\n",
      " [[24.198734 24.198734 26.959085 ... 48.73962  48.753162 48.815914]]\n",
      "\n",
      " ...\n",
      "\n",
      " [[23.45196  23.45196  25.14782  ... 32.29389  32.70321  33.010006]]\n",
      "\n",
      " [[23.45196  23.45196  25.14782  ... 32.29389  32.70321  33.010006]]\n",
      "\n",
      " [[23.45196  23.45196  25.14782  ... 32.29389  32.70321  33.010006]]]\n",
      "all_quantiles after squeezing shape: (279, 50)\n",
      "Error with cow SE-5c06d92d-2639, lactation 5: too many values to unpack (expected 2)\n"
     ]
    },
    {
     "name": "stderr",
     "output_type": "stream",
     "text": [
      "/Users/user/anaconda3/envs/GIGACOW/lib/python3.11/site-packages/torch/optim/lr_scheduler.py:60: UserWarning: The verbose parameter is deprecated. Please use get_last_lr() to access the learning rate.\n",
      "  warnings.warn(\n",
      "  5%|▌         | 119/2315 [00:43<12:02,  3.04 Segments/s]"
     ]
    },
    {
     "name": "stdout",
     "output_type": "stream",
     "text": [
      "all_quantiles shape: (145, 1, 50)\n",
      "all_quantiles content: [[[42.34171  42.34171  42.152172 ... 47.952267 49.353027 49.89071 ]]\n",
      "\n",
      " [[42.220043 42.220043 42.04067  ... 47.896576 49.283596 49.81689 ]]\n",
      "\n",
      " [[42.098366 42.098366 41.92918  ... 47.84088  49.214363 49.74289 ]]\n",
      "\n",
      " ...\n",
      "\n",
      " [[25.064362 25.064362 26.319706 ... 40.042877 39.513393 39.392853]]\n",
      "\n",
      " [[24.942696 24.942696 26.208208 ... 39.987373 39.44416  39.318848]]\n",
      "\n",
      " [[24.82103  24.82103  26.096714 ... 39.931488 39.37492  39.245033]]]\n",
      "all_quantiles after squeezing shape: (145, 50)\n",
      "Error with cow SE-5c06d92d-2643, lactation 4: too many values to unpack (expected 2)\n"
     ]
    },
    {
     "name": "stderr",
     "output_type": "stream",
     "text": [
      "/Users/user/anaconda3/envs/GIGACOW/lib/python3.11/site-packages/torch/optim/lr_scheduler.py:60: UserWarning: The verbose parameter is deprecated. Please use get_last_lr() to access the learning rate.\n",
      "  warnings.warn(\n",
      "  5%|▌         | 120/2315 [00:43<12:33,  2.91 Segments/s]"
     ]
    },
    {
     "name": "stdout",
     "output_type": "stream",
     "text": [
      "all_quantiles shape: (314, 1, 50)\n",
      "all_quantiles content: [[[26.953672 26.953672 31.96672  ... 53.832623 53.985786 54.23107 ]]\n",
      "\n",
      " [[26.890491 26.890491 32.548393 ... 56.284904 56.387707 56.61316 ]]\n",
      "\n",
      " [[26.89197  26.89197  32.53486  ... 56.227875 56.331825 56.557846]]\n",
      "\n",
      " ...\n",
      "\n",
      " [[27.366602 27.366602 28.165602 ... 37.807846 38.2904   38.664246]]\n",
      "\n",
      " [[27.366602 27.366602 28.165602 ... 37.807846 38.2904   38.664246]]\n",
      "\n",
      " [[27.366602 27.366602 28.165602 ... 37.807846 38.2904   38.664246]]]\n",
      "all_quantiles after squeezing shape: (314, 50)\n",
      "Error with cow SE-5c06d92d-2643, lactation 5: too many values to unpack (expected 2)\n"
     ]
    },
    {
     "name": "stderr",
     "output_type": "stream",
     "text": [
      "/Users/user/anaconda3/envs/GIGACOW/lib/python3.11/site-packages/torch/optim/lr_scheduler.py:60: UserWarning: The verbose parameter is deprecated. Please use get_last_lr() to access the learning rate.\n",
      "  warnings.warn(\n",
      "  5%|▌         | 121/2315 [00:44<12:16,  2.98 Segments/s]"
     ]
    },
    {
     "name": "stdout",
     "output_type": "stream",
     "text": [
      "all_quantiles shape: (91, 1, 50)\n",
      "all_quantiles content: [[[28.253435 28.253435 28.336048 ... 49.915123 49.83196  49.876404]]\n",
      "\n",
      " [[28.253435 28.253435 28.336048 ... 49.915123 49.83196  49.876404]]\n",
      "\n",
      " [[28.441881 28.441881 28.531597 ... 49.973866 49.89662  49.942207]]\n",
      "\n",
      " ...\n",
      "\n",
      " [[44.83645  44.83645  45.546005 ... 55.08423  55.521774 55.66902 ]]\n",
      "\n",
      " [[45.0249   45.0249   45.741558 ... 55.14297  55.58624  55.73482 ]]\n",
      "\n",
      " [[45.213337 45.213337 45.937134 ... 55.20172  55.651093 55.800625]]]\n",
      "all_quantiles after squeezing shape: (91, 50)\n",
      "Error with cow SE-5c06d92d-2643, lactation 6: too many values to unpack (expected 2)\n"
     ]
    },
    {
     "name": "stderr",
     "output_type": "stream",
     "text": [
      "/Users/user/anaconda3/envs/GIGACOW/lib/python3.11/site-packages/torch/optim/lr_scheduler.py:60: UserWarning: The verbose parameter is deprecated. Please use get_last_lr() to access the learning rate.\n",
      "  warnings.warn(\n",
      "  5%|▌         | 122/2315 [00:44<11:34,  3.16 Segments/s]"
     ]
    },
    {
     "name": "stdout",
     "output_type": "stream",
     "text": [
      "all_quantiles shape: (17, 1, 50)\n",
      "all_quantiles content: [[[32.73531   32.73531   32.735332  32.735275  32.728146  32.592117\n",
      "   32.566105  32.774033  33.47666   33.95078   33.18975   32.263443\n",
      "   32.287502  32.59523   34.320927  35.13188   34.366558  32.700825\n",
      "   32.797287  32.96442   33.155968  33.308315  33.432674  33.851\n",
      "   32.677696  30.416296  30.484486  30.554007  30.779934  31.392765\n",
      "   31.846521  31.983376  32.018185  32.020473  31.767178  31.405447\n",
      "   31.391811  31.388092  31.387234  31.54888   32.62396   33.17423\n",
      "   33.214855  33.217716  33.218002  33.218193  33.218193  33.218098\n",
      "   33.218384  33.21829  ]]\n",
      "\n",
      " [[30.715979  30.715979  30.716002  30.715979  30.719625  30.784393\n",
      "   30.832804  31.022358  31.661343  32.09288   31.627892  31.041454\n",
      "   31.06501   31.348658  32.924557  33.663895  33.11653   31.884192\n",
      "   31.97484   32.12738   32.301235  32.439518  32.553196  32.942436\n",
      "   32.073307  30.201815  30.263472  30.326843  30.536556  31.103516\n",
      "   31.51531   31.636047  31.666088  31.670952  31.551073  31.364916\n",
      "   31.357763  31.355858  31.357668  31.51512   32.5078    32.98464\n",
      "   33.030605  33.04386   33.05397   33.06656   33.078766  33.086586\n",
      "   33.090687  33.092117 ]]\n",
      "\n",
      " [[28.696655  28.696655  28.696669  28.69668   28.711103  28.976665\n",
      "   29.0995    29.270649  29.846025  30.235003  30.066061  29.81944\n",
      "   29.842518  30.102085  31.528187  32.1959    31.8665    31.067562\n",
      "   31.152437  31.290293  31.446505  31.570671  31.673813  32.033825\n",
      "   31.468914  29.987335  30.042458  30.099678  30.293274  30.814169\n",
      "   31.1841    31.288622  31.313992  31.321524  31.334877  31.324575\n",
      "   31.323624  31.323719  31.32801   31.481455  32.391644  32.794857\n",
      "   32.84645   32.86991   32.88994   32.915115  32.939243  32.955074\n",
      "   32.96299   32.965946 ]]\n",
      "\n",
      " [[26.67732   26.67732   26.677328  26.677376  26.702595  27.16894\n",
      "   27.366209  27.518965  28.030704  28.377104  28.504204  28.59745\n",
      "   28.620028  28.855515  30.131817  30.727911  30.616522  30.250883\n",
      "   30.329988  30.453205  30.591822  30.701826  30.794382  31.125305\n",
      "   30.864477  29.772854  29.821442  29.872416  30.049992  30.524826\n",
      "   30.852985  30.941296  30.961893  30.972004  31.11868   31.28414\n",
      "   31.289577  31.291485  31.29835   31.447886  32.27539   32.605267\n",
      "   32.662106  32.696056  32.725906  32.763577  32.799816  32.823563\n",
      "   32.835197  32.83987  ]]\n",
      "\n",
      " [[24.657988  24.657988  24.658007  24.658072  24.694086  25.361216\n",
      "   25.632881  25.767279  26.215385  26.519226  26.942347  27.37546\n",
      "   27.397535  27.608942  28.735445  29.25992   29.366493  29.434252\n",
      "   29.50754   29.616165  29.737139  29.832981  29.914904  30.21674\n",
      "   30.260086  29.558372  29.600382  29.6453    29.80671   30.235481\n",
      "   30.521774  30.593967  30.609703  30.622578  30.90248   31.243704\n",
      "   31.255625  31.259155  31.268787  31.414223  32.159233  32.415485\n",
      "   32.47795   32.522106  32.56197   32.611942  32.660484  32.69205\n",
      "   32.707405  32.7137   ]]\n",
      "\n",
      " [[22.638655  22.638655  22.638666  22.638773  22.685574  23.55349\n",
      "   23.899578  24.015594  24.400066  24.661325  25.380514  26.153444\n",
      "   26.175022  26.362394  27.339077  27.791927  28.116463  28.61762\n",
      "   28.68514   28.779076  28.882408  28.964136  29.03552   29.308174\n",
      "   29.655645  29.343937  29.37932   29.418133  29.563332  29.94623\n",
      "   30.190563  30.246637  30.257607  30.273054  30.686283  31.20327\n",
      "   31.221579  31.22692   31.239223  31.380463  32.043076  32.2258\n",
      "   32.293797  32.34825   32.397842  32.460403  32.521057  32.56054\n",
      "   32.57971   32.587433 ]]\n",
      "\n",
      " [[20.619333  20.619333  20.619322  20.619486  20.677042  21.745777\n",
      "   22.166275  22.263908  22.584724  22.80345   23.818659  24.931454\n",
      "   24.95253   25.115824  25.942755  26.32389   26.866436  27.80099\n",
      "   27.862692  27.94199   28.027725  28.095291  28.156088  28.39961\n",
      "   29.051254  29.129456  29.158306  29.190874  29.320145  29.656792\n",
      "   29.859447  29.899216  29.905508  29.92363   30.470085  31.162834\n",
      "   31.187534  31.194782  31.209562  31.346798  31.926918  32.036114\n",
      "   32.109547  32.1743    32.233906  32.30877   32.38163   32.429028\n",
      "   32.45201   32.46126  ]]\n",
      "\n",
      " [[18.599998  18.599998  18.599998  18.600178  18.66852   19.938063\n",
      "   20.432972  20.512197  20.76943   20.945549  22.256826  23.70944\n",
      "   23.73004   23.869253  24.546385  24.855947  25.616407  26.984356\n",
      "   27.040243  27.104902  27.173042  27.2264    27.276659  27.491093\n",
      "   28.446817  28.914974  28.937244  28.963755  29.076767  29.367542\n",
      "   29.528236  29.551888  29.553316  29.574297  30.25379   31.122398\n",
      "   31.153488  31.162546  31.179905  31.313229  31.810663  31.846426\n",
      "   31.92539   32.00035   32.069874  32.15723   32.242203  32.29761\n",
      "   32.324123  32.335186 ]]\n",
      "\n",
      " [[16.580666  16.580666  16.580652  16.58089   16.660023  18.130325\n",
      "   18.699646  18.760538  18.954086  19.087671  20.694971  22.487427\n",
      "   22.50757   22.622633  23.150063  23.387957  24.366379  26.167727\n",
      "   26.217794  26.267862  26.318312  26.357603  26.397179  26.582525\n",
      "   27.842426  28.700493  28.71623   28.736542  28.833532  29.078196\n",
      "   29.197025  29.204557  29.201221  29.224777  30.037594  31.081963\n",
      "   31.11944   31.130314  31.15034   31.279564  31.694508  31.656742\n",
      "   31.741047  31.826496  31.905935  32.00569   32.102776  32.166004\n",
      "   32.196426  32.209015 ]]\n",
      "\n",
      " [[14.561331  14.561331  14.561342  14.561582  14.651488  16.322588\n",
      "   16.966366  17.008852  17.138767  17.22977   19.133114  21.265436\n",
      "   21.285057  21.376085  21.753693  21.919964  23.11635   25.351093\n",
      "   25.395393  25.430727  25.463629  25.488758  25.517796  25.67396\n",
      "   27.237986  28.486061  28.495167  28.509378  28.590155  28.788853\n",
      "   28.865814  28.857327  28.84903   28.87535   29.821491  31.041431\n",
      "   31.085491  31.097982  31.120777  31.245802  31.57835   31.467054\n",
      "   31.556892  31.652641  31.741808  31.854153  31.963346  32.034492\n",
      "   32.06873   32.08275  ]]\n",
      "\n",
      " [[12.542009  12.542009  12.541985  12.542272  12.643003  14.514851\n",
      "   15.233064  15.257144  15.323472  15.37187   17.571281  20.043419\n",
      "   20.062565  20.129513  20.35732   20.451975  21.86632   24.534464\n",
      "   24.572945  24.593687  24.608946  24.619864  24.638367  24.765394\n",
      "   26.633595  28.27158   28.274155  28.282164  28.346872  28.499556\n",
      "   28.534601  28.509903  28.497026  28.52583   29.605291  31.001091\n",
      "   31.05135   31.065845  31.091116  31.212137  31.46219   31.27737\n",
      "   31.372643  31.478691  31.577873  31.702518  31.823921  31.90298\n",
      "   31.940937  31.956673 ]]\n",
      "\n",
      " [[10.522675  10.522675  10.522652  10.5229845 10.63447   12.707137\n",
      "   13.499761  13.505459  13.508128  13.513993  16.009426  18.82143\n",
      "   18.840075  18.88294   18.960953  18.983984  20.61634   23.717785\n",
      "   23.750496  23.7566    23.754263  23.751019  23.758936  23.856878\n",
      "   26.029158  28.057098  28.05314   28.054953  28.10359   28.210257\n",
      "   28.20339   28.162573  28.144836  28.176403  29.389095  30.960655\n",
      "   31.017303  31.03361   31.061459  31.178568  31.345938  31.087685\n",
      "   31.188486  31.30474   31.413841  31.550978  31.684492  31.771564\n",
      "   31.813143  31.830502 ]]\n",
      "\n",
      " [[10.522675  10.522675  10.522652  10.5229845 10.63447   12.707137\n",
      "   13.499761  13.505459  13.508128  13.513993  16.009426  18.82143\n",
      "   18.840075  18.88294   18.960953  18.983984  20.61634   23.717785\n",
      "   23.750496  23.7566    23.754263  23.751019  23.758936  23.856878\n",
      "   26.029158  28.057098  28.05314   28.054953  28.10359   28.210257\n",
      "   28.20339   28.162573  28.144836  28.176403  29.389095  30.960655\n",
      "   31.017303  31.03361   31.061459  31.178568  31.345938  31.087685\n",
      "   31.188486  31.30474   31.413841  31.550978  31.684492  31.771564\n",
      "   31.813143  31.830502 ]]\n",
      "\n",
      " [[10.522675  10.522675  10.522652  10.5229845 10.63447   12.707137\n",
      "   13.499761  13.505459  13.508128  13.513993  16.009426  18.82143\n",
      "   18.840075  18.88294   18.960953  18.983984  20.61634   23.717785\n",
      "   23.750496  23.7566    23.754263  23.751019  23.758936  23.856878\n",
      "   26.029158  28.057098  28.05314   28.054953  28.10359   28.210257\n",
      "   28.20339   28.162573  28.144836  28.176403  29.389095  30.960655\n",
      "   31.017303  31.03361   31.061459  31.178568  31.345938  31.087685\n",
      "   31.188486  31.30474   31.413841  31.550978  31.684492  31.771564\n",
      "   31.813143  31.830502 ]]\n",
      "\n",
      " [[10.522675  10.522675  10.522652  10.5229845 10.63447   12.707137\n",
      "   13.499761  13.505459  13.508128  13.513993  16.009426  18.82143\n",
      "   18.840075  18.88294   18.960953  18.983984  20.61634   23.717785\n",
      "   23.750496  23.7566    23.754263  23.751019  23.758936  23.856878\n",
      "   26.029158  28.057098  28.05314   28.054953  28.10359   28.210257\n",
      "   28.20339   28.162573  28.144836  28.176403  29.389095  30.960655\n",
      "   31.017303  31.03361   31.061459  31.178568  31.345938  31.087685\n",
      "   31.188486  31.30474   31.413841  31.550978  31.684492  31.771564\n",
      "   31.813143  31.830502 ]]\n",
      "\n",
      " [[10.522675  10.522675  10.522652  10.5229845 10.63447   12.707137\n",
      "   13.499761  13.505459  13.508128  13.513993  16.009426  18.82143\n",
      "   18.840075  18.88294   18.960953  18.983984  20.61634   23.717785\n",
      "   23.750496  23.7566    23.754263  23.751019  23.758936  23.856878\n",
      "   26.029158  28.057098  28.05314   28.054953  28.10359   28.210257\n",
      "   28.20339   28.162573  28.144836  28.176403  29.389095  30.960655\n",
      "   31.017303  31.03361   31.061459  31.178568  31.345938  31.087685\n",
      "   31.188486  31.30474   31.413841  31.550978  31.684492  31.771564\n",
      "   31.813143  31.830502 ]]\n",
      "\n",
      " [[10.522675  10.522675  10.522652  10.5229845 10.63447   12.707137\n",
      "   13.499761  13.505459  13.508128  13.513993  16.009426  18.82143\n",
      "   18.840075  18.88294   18.960953  18.983984  20.61634   23.717785\n",
      "   23.750496  23.7566    23.754263  23.751019  23.758936  23.856878\n",
      "   26.029158  28.057098  28.05314   28.054953  28.10359   28.210257\n",
      "   28.20339   28.162573  28.144836  28.176403  29.389095  30.960655\n",
      "   31.017303  31.03361   31.061459  31.178568  31.345938  31.087685\n",
      "   31.188486  31.30474   31.413841  31.550978  31.684492  31.771564\n",
      "   31.813143  31.830502 ]]]\n",
      "all_quantiles after squeezing shape: (17, 50)\n",
      "Error with cow SE-5c06d92d-2647, lactation 3: too many values to unpack (expected 2)\n"
     ]
    },
    {
     "name": "stderr",
     "output_type": "stream",
     "text": [
      "/Users/user/anaconda3/envs/GIGACOW/lib/python3.11/site-packages/torch/optim/lr_scheduler.py:60: UserWarning: The verbose parameter is deprecated. Please use get_last_lr() to access the learning rate.\n",
      "  warnings.warn(\n",
      "  5%|▌         | 123/2315 [00:44<12:31,  2.92 Segments/s]"
     ]
    },
    {
     "name": "stdout",
     "output_type": "stream",
     "text": [
      "all_quantiles shape: (257, 1, 50)\n",
      "all_quantiles content: [[[11.935639 11.935639 16.667532 ... 62.641716 62.21542  62.86583 ]]\n",
      "\n",
      " [[13.431299 13.431299 17.73641  ... 58.59871  58.397675 59.013176]]\n",
      "\n",
      " [[12.595499 12.595499 17.139101 ... 60.858154 60.53104  61.166187]]\n",
      "\n",
      " ...\n",
      "\n",
      " [[24.296795 24.296795 25.501465 ... 29.22592  30.664825 31.02293 ]]\n",
      "\n",
      " [[24.340784 24.340784 25.532911 ... 29.106997 30.552578 30.909536]]\n",
      "\n",
      " [[24.384785 24.384785 25.564337 ... 28.988073 30.440138 30.796432]]]\n",
      "all_quantiles after squeezing shape: (257, 50)\n",
      "Error with cow SE-5c06d92d-2647, lactation 4: too many values to unpack (expected 2)\n"
     ]
    },
    {
     "name": "stderr",
     "output_type": "stream",
     "text": [
      "/Users/user/anaconda3/envs/GIGACOW/lib/python3.11/site-packages/torch/optim/lr_scheduler.py:60: UserWarning: The verbose parameter is deprecated. Please use get_last_lr() to access the learning rate.\n",
      "  warnings.warn(\n",
      "  5%|▌         | 124/2315 [00:45<12:12,  2.99 Segments/s]"
     ]
    },
    {
     "name": "stdout",
     "output_type": "stream",
     "text": [
      "all_quantiles shape: (83, 1, 50)\n",
      "all_quantiles content: [[[36.894287 36.894287 37.034695 ... 41.319275 41.360664 41.38298 ]]\n",
      "\n",
      " [[36.722256 36.722256 36.862186 ... 41.18576  41.22696  41.249466]]\n",
      "\n",
      " [[36.550217 36.550217 36.689682 ... 41.052246 41.093254 41.11595 ]]\n",
      "\n",
      " ...\n",
      "\n",
      " [[23.131512 23.131512 23.234104 ... 30.634212 30.665207 30.698586]]\n",
      "\n",
      " [[23.131512 23.131512 23.234104 ... 30.634212 30.665207 30.698586]]\n",
      "\n",
      " [[23.131512 23.131512 23.234104 ... 30.634212 30.665207 30.698586]]]\n",
      "all_quantiles after squeezing shape: (83, 50)\n",
      "Error with cow SE-5c06d92d-2649, lactation 3: too many values to unpack (expected 2)\n"
     ]
    },
    {
     "name": "stderr",
     "output_type": "stream",
     "text": [
      "/Users/user/anaconda3/envs/GIGACOW/lib/python3.11/site-packages/torch/optim/lr_scheduler.py:60: UserWarning: The verbose parameter is deprecated. Please use get_last_lr() to access the learning rate.\n",
      "  warnings.warn(\n",
      "  5%|▌         | 125/2315 [00:45<12:53,  2.83 Segments/s]"
     ]
    },
    {
     "name": "stdout",
     "output_type": "stream",
     "text": [
      "all_quantiles shape: (324, 1, 50)\n",
      "all_quantiles content: [[[29.47148  29.47148  37.6068   ... 63.76152  64.253235 64.82506 ]]\n",
      "\n",
      " [[28.775059 28.775059 37.938488 ... 67.27276  67.814445 68.45169 ]]\n",
      "\n",
      " [[29.47148  29.47148  37.6068   ... 63.76152  64.253235 64.82506 ]]\n",
      "\n",
      " ...\n",
      "\n",
      " [[34.775032 34.775032 35.080826 ... 37.023163 37.133026 37.207413]]\n",
      "\n",
      " [[34.792885 34.792885 35.072327 ... 36.932945 37.041664 37.114525]]\n",
      "\n",
      " [[34.846462 34.846462 35.046803 ... 36.663055 36.76758  36.83548 ]]]\n",
      "all_quantiles after squeezing shape: (324, 50)\n",
      "Error with cow SE-5c06d92d-2649, lactation 4: too many values to unpack (expected 2)\n"
     ]
    },
    {
     "name": "stderr",
     "output_type": "stream",
     "text": [
      "/Users/user/anaconda3/envs/GIGACOW/lib/python3.11/site-packages/torch/optim/lr_scheduler.py:60: UserWarning: The verbose parameter is deprecated. Please use get_last_lr() to access the learning rate.\n",
      "  warnings.warn(\n",
      "  5%|▌         | 126/2315 [00:45<12:57,  2.82 Segments/s]"
     ]
    },
    {
     "name": "stdout",
     "output_type": "stream",
     "text": [
      "all_quantiles shape: (150, 1, 50)\n",
      "all_quantiles content: [[[20.582794 20.582794 23.788906 ... 54.41341  54.689217 53.300285]]\n",
      "\n",
      " [[20.582794 20.582794 23.788906 ... 54.41341  54.689217 53.300285]]\n",
      "\n",
      " [[20.582794 20.582794 23.788906 ... 54.41341  54.689217 53.300285]]\n",
      "\n",
      " ...\n",
      "\n",
      " [[45.54706  45.54706  46.627712 ... 73.78731  75.39272  79.67625 ]]\n",
      "\n",
      " [[45.75001  45.75001  46.81339  ... 73.945045 75.56095  79.89063 ]]\n",
      "\n",
      " [[45.952988 45.952988 46.99905  ... 74.1024   75.72937  80.10502 ]]]\n",
      "all_quantiles after squeezing shape: (150, 50)\n",
      "Error with cow SE-5c06d92d-2649, lactation 5: too many values to unpack (expected 2)\n"
     ]
    },
    {
     "name": "stderr",
     "output_type": "stream",
     "text": [
      "/Users/user/anaconda3/envs/GIGACOW/lib/python3.11/site-packages/torch/optim/lr_scheduler.py:60: UserWarning: The verbose parameter is deprecated. Please use get_last_lr() to access the learning rate.\n",
      "  warnings.warn(\n",
      "  5%|▌         | 127/2315 [00:46<13:21,  2.73 Segments/s]"
     ]
    },
    {
     "name": "stdout",
     "output_type": "stream",
     "text": [
      "all_quantiles shape: (220, 1, 50)\n",
      "all_quantiles content: [[[54.34528  54.34528  54.86109  ... 65.95974  70.54119  73.0978  ]]\n",
      "\n",
      " [[54.188656 54.188656 54.707016 ... 65.82775  70.384026 72.92862 ]]\n",
      "\n",
      " [[54.03204  54.03204  54.552914 ... 65.696144 70.22705  72.75925 ]]\n",
      "\n",
      " ...\n",
      "\n",
      " [[20.359514 20.359514 21.422457 ... 37.360764 36.44867  36.37104 ]]\n",
      "\n",
      " [[20.202898 20.202898 21.268343 ... 37.229156 36.291313 36.201855]]\n",
      "\n",
      " [[19.263195 19.263195 20.343803 ... 36.43837  35.3487   35.186195]]]\n",
      "all_quantiles after squeezing shape: (220, 50)\n",
      "Error with cow SE-5c06d92d-2650, lactation 4: too many values to unpack (expected 2)\n"
     ]
    },
    {
     "name": "stderr",
     "output_type": "stream",
     "text": [
      "/Users/user/anaconda3/envs/GIGACOW/lib/python3.11/site-packages/torch/optim/lr_scheduler.py:60: UserWarning: The verbose parameter is deprecated. Please use get_last_lr() to access the learning rate.\n",
      "  warnings.warn(\n",
      "  6%|▌         | 128/2315 [00:46<13:47,  2.64 Segments/s]"
     ]
    },
    {
     "name": "stdout",
     "output_type": "stream",
     "text": [
      "all_quantiles shape: (351, 1, 50)\n",
      "all_quantiles content: [[[29.374384 29.374384 33.169483 ... 54.586025 55.075455 55.952072]]\n",
      "\n",
      " [[29.374384 29.374384 33.169483 ... 54.586025 55.075455 55.952072]]\n",
      "\n",
      " [[29.378927 29.378927 33.163296 ... 54.530334 55.018612 55.892944]]\n",
      "\n",
      " ...\n",
      "\n",
      " [[30.954218 30.954218 31.011105 ... 35.150337 35.276794 35.425186]]\n",
      "\n",
      " [[30.954218 30.954218 31.011105 ... 35.150337 35.276794 35.425186]]\n",
      "\n",
      " [[30.95876  30.95876  31.004904 ... 35.094643 35.219765 35.36625 ]]]\n",
      "all_quantiles after squeezing shape: (351, 50)\n",
      "Error with cow SE-5c06d92d-2651, lactation 4: too many values to unpack (expected 2)\n"
     ]
    },
    {
     "name": "stderr",
     "output_type": "stream",
     "text": [
      "/Users/user/anaconda3/envs/GIGACOW/lib/python3.11/site-packages/torch/optim/lr_scheduler.py:60: UserWarning: The verbose parameter is deprecated. Please use get_last_lr() to access the learning rate.\n",
      "  warnings.warn(\n",
      "  6%|▌         | 129/2315 [00:47<13:54,  2.62 Segments/s]"
     ]
    },
    {
     "name": "stdout",
     "output_type": "stream",
     "text": [
      "all_quantiles shape: (215, 1, 50)\n",
      "all_quantiles content: [[[32.919693 32.919693 33.514046 ... 55.405422 56.53629  57.685658]]\n",
      "\n",
      " [[32.919693 32.919693 33.514046 ... 55.405422 56.53629  57.685658]]\n",
      "\n",
      " [[32.938026 32.938026 33.533287 ... 55.345345 56.471252 57.616425]]\n",
      "\n",
      " ...\n",
      "\n",
      " [[36.83924  36.83924  37.633896 ... 42.543602 42.641064 42.868614]]\n",
      "\n",
      " [[36.857544 36.857544 37.65315  ... 42.483517 42.576218 42.799377]]\n",
      "\n",
      " [[36.875866 36.875866 37.672398 ... 42.42344  42.511177 42.73014 ]]]\n",
      "all_quantiles after squeezing shape: (215, 50)\n",
      "Error with cow SE-5c06d92d-2651, lactation 5: too many values to unpack (expected 2)\n"
     ]
    },
    {
     "name": "stderr",
     "output_type": "stream",
     "text": [
      "/Users/user/anaconda3/envs/GIGACOW/lib/python3.11/site-packages/torch/optim/lr_scheduler.py:60: UserWarning: The verbose parameter is deprecated. Please use get_last_lr() to access the learning rate.\n",
      "  warnings.warn(\n",
      "  6%|▌         | 130/2315 [00:47<14:23,  2.53 Segments/s]"
     ]
    },
    {
     "name": "stdout",
     "output_type": "stream",
     "text": [
      "all_quantiles shape: (423, 1, 50)\n",
      "all_quantiles content: [[[43.359077 43.359077 44.19016  ... 54.832268 55.096817 55.163   ]]\n",
      "\n",
      " [[43.2873   43.2873   44.116844 ... 54.760742 55.026245 55.094906]]\n",
      "\n",
      " [[43.215523 43.215523 44.04349  ... 54.689026 54.955864 55.026436]]\n",
      "\n",
      " ...\n",
      "\n",
      " [[29.363419 29.363419 29.889334 ... 40.86075  41.354942 41.844746]]\n",
      "\n",
      " [[29.363419 29.363419 29.889334 ... 40.86075  41.354942 41.844746]]\n",
      "\n",
      " [[29.363419 29.363419 29.889334 ... 40.86075  41.354942 41.844746]]]\n",
      "all_quantiles after squeezing shape: (423, 50)\n",
      "Error with cow SE-5c06d92d-2656, lactation 4: too many values to unpack (expected 2)\n"
     ]
    },
    {
     "name": "stderr",
     "output_type": "stream",
     "text": [
      "/Users/user/anaconda3/envs/GIGACOW/lib/python3.11/site-packages/torch/optim/lr_scheduler.py:60: UserWarning: The verbose parameter is deprecated. Please use get_last_lr() to access the learning rate.\n",
      "  warnings.warn(\n",
      "  6%|▌         | 131/2315 [00:47<14:21,  2.53 Segments/s]"
     ]
    },
    {
     "name": "stdout",
     "output_type": "stream",
     "text": [
      "all_quantiles shape: (166, 1, 50)\n",
      "all_quantiles content: [[[42.050137 42.050137 42.377472 ... 50.068665 50.21496  50.216675]]\n",
      "\n",
      " [[41.98533  41.98533  42.317486 ... 49.991417 50.13752  50.14133 ]]\n",
      "\n",
      " [[41.92054  41.92054  42.2575   ... 49.91436  50.059887 50.0658  ]]\n",
      "\n",
      " ...\n",
      "\n",
      " [[31.42383  31.42383  32.53933  ... 37.410164 37.522507 37.831116]]\n",
      "\n",
      " [[31.359028 31.359028 32.479343 ... 37.332916 37.44507  37.755585]]\n",
      "\n",
      " [[31.359028 31.359028 32.479343 ... 37.332916 37.44507  37.755585]]]\n",
      "all_quantiles after squeezing shape: (166, 50)\n",
      "Error with cow SE-5c06d92d-2657, lactation 4: too many values to unpack (expected 2)\n"
     ]
    },
    {
     "name": "stderr",
     "output_type": "stream",
     "text": [
      "/Users/user/anaconda3/envs/GIGACOW/lib/python3.11/site-packages/torch/optim/lr_scheduler.py:60: UserWarning: The verbose parameter is deprecated. Please use get_last_lr() to access the learning rate.\n",
      "  warnings.warn(\n",
      "  6%|▌         | 132/2315 [00:48<14:09,  2.57 Segments/s]"
     ]
    },
    {
     "name": "stdout",
     "output_type": "stream",
     "text": [
      "all_quantiles shape: (261, 1, 50)\n",
      "all_quantiles content: [[[39.49964  39.49964  41.264725 ... 63.03577  63.76457  64.74323 ]]\n",
      "\n",
      " [[39.505028 39.505028 41.26413  ... 62.972828 63.69781  64.6719  ]]\n",
      "\n",
      " [[39.51043  39.51043  41.263554 ... 62.90989  63.630863 64.60075 ]]\n",
      "\n",
      " ...\n",
      "\n",
      " [[40.890957 40.890957 41.11494  ... 46.77601  46.55323  46.344185]]\n",
      "\n",
      " [[40.896355 40.896355 41.11437  ... 46.713062 46.486473 46.27266 ]]\n",
      "\n",
      " [[40.91253  40.91253  41.112625 ... 46.524048 46.286392 46.058846]]]\n",
      "all_quantiles after squeezing shape: (261, 50)\n",
      "Error with cow SE-5c06d92d-2657, lactation 5: too many values to unpack (expected 2)\n"
     ]
    },
    {
     "name": "stderr",
     "output_type": "stream",
     "text": [
      "/Users/user/anaconda3/envs/GIGACOW/lib/python3.11/site-packages/torch/optim/lr_scheduler.py:60: UserWarning: The verbose parameter is deprecated. Please use get_last_lr() to access the learning rate.\n",
      "  warnings.warn(\n",
      "  6%|▌         | 133/2315 [00:48<14:20,  2.54 Segments/s]"
     ]
    },
    {
     "name": "stdout",
     "output_type": "stream",
     "text": [
      "all_quantiles shape: (238, 1, 50)\n",
      "all_quantiles content: [[[16.760683 16.760683 25.097345 ... 66.547966 66.56647  66.52756 ]]\n",
      "\n",
      " [[17.014431 17.014431 25.747896 ... 68.62354  68.6224   68.53905 ]]\n",
      "\n",
      " [[16.760683 16.760683 25.097345 ... 66.547966 66.56647  66.52756 ]]\n",
      "\n",
      " ...\n",
      "\n",
      " [[13.609147 13.609147 17.016481 ... 40.76767  41.028973 41.540527]]\n",
      "\n",
      " [[13.582443 13.582443 16.948008 ... 40.549088 40.812492 41.32881 ]]\n",
      "\n",
      " [[13.582443 13.582443 16.948008 ... 40.549088 40.812492 41.32881 ]]]\n",
      "all_quantiles after squeezing shape: (238, 50)\n",
      "Error with cow SE-5c06d92d-2660, lactation 4: too many values to unpack (expected 2)\n"
     ]
    },
    {
     "name": "stderr",
     "output_type": "stream",
     "text": [
      "/Users/user/anaconda3/envs/GIGACOW/lib/python3.11/site-packages/torch/optim/lr_scheduler.py:60: UserWarning: The verbose parameter is deprecated. Please use get_last_lr() to access the learning rate.\n",
      "  warnings.warn(\n",
      "  6%|▌         | 134/2315 [00:49<14:09,  2.57 Segments/s]"
     ]
    },
    {
     "name": "stdout",
     "output_type": "stream",
     "text": [
      "all_quantiles shape: (288, 1, 50)\n",
      "all_quantiles content: [[[46.445866 46.445866 47.188423 ... 64.11457  64.77013  67.053604]]\n",
      "\n",
      " [[49.36485  49.36485  49.683308 ... 67.0145   67.71126  70.233154]]\n",
      "\n",
      " [[49.243225 49.243225 49.57937  ... 66.89358  67.588806 70.10059 ]]\n",
      "\n",
      " ...\n",
      "\n",
      " [[14.945137 14.945137 20.26423  ... 32.819653 33.02889  32.742596]]\n",
      "\n",
      " [[14.945137 14.945137 20.26423  ... 32.819653 33.02889  32.742596]]\n",
      "\n",
      " [[14.945137 14.945137 20.26423  ... 32.819653 33.02889  32.742596]]]\n",
      "all_quantiles after squeezing shape: (288, 50)\n",
      "Error with cow SE-5c06d92d-2662, lactation 4: too many values to unpack (expected 2)\n"
     ]
    },
    {
     "name": "stderr",
     "output_type": "stream",
     "text": [
      "/Users/user/anaconda3/envs/GIGACOW/lib/python3.11/site-packages/torch/optim/lr_scheduler.py:60: UserWarning: The verbose parameter is deprecated. Please use get_last_lr() to access the learning rate.\n",
      "  warnings.warn(\n",
      "  6%|▌         | 135/2315 [00:49<14:40,  2.48 Segments/s]"
     ]
    },
    {
     "name": "stdout",
     "output_type": "stream",
     "text": [
      "all_quantiles shape: (298, 1, 50)\n",
      "all_quantiles content: [[[18.553305 18.553305 28.948997 ... 63.432312 64.152336 66.14208 ]]\n",
      "\n",
      " [[18.534708 18.534708 28.943443 ... 63.49792  64.21356  66.207886]]\n",
      "\n",
      " [[18.59051  18.59051  28.960155 ... 63.301273 64.029884 66.010284]]\n",
      "\n",
      " ...\n",
      "\n",
      " [[24.414682 24.414682 30.701971 ... 42.775917 44.881435 45.368   ]]\n",
      "\n",
      " [[24.433277 24.433277 30.70755  ... 42.710495 44.82002  45.302006]]\n",
      "\n",
      " [[24.451912 24.451912 30.713081 ... 42.644882 44.758987 45.236015]]]\n",
      "all_quantiles after squeezing shape: (298, 50)\n",
      "Error with cow SE-5c06d92d-2662, lactation 5: too many values to unpack (expected 2)\n"
     ]
    },
    {
     "name": "stderr",
     "output_type": "stream",
     "text": [
      "/Users/user/anaconda3/envs/GIGACOW/lib/python3.11/site-packages/torch/optim/lr_scheduler.py:60: UserWarning: The verbose parameter is deprecated. Please use get_last_lr() to access the learning rate.\n",
      "  warnings.warn(\n",
      "  6%|▌         | 136/2315 [00:49<14:35,  2.49 Segments/s]"
     ]
    },
    {
     "name": "stdout",
     "output_type": "stream",
     "text": [
      "all_quantiles shape: (308, 1, 50)\n",
      "all_quantiles content: [[[43.227764 43.227764 45.47311  ... 61.204144 61.747166 62.16507 ]]\n",
      "\n",
      " [[43.152573 43.152573 45.392574 ... 61.09981  61.641502 62.05883 ]]\n",
      "\n",
      " [[43.07737  43.07737  45.312035 ... 60.995483 61.536026 61.952587]]\n",
      "\n",
      " ...\n",
      "\n",
      " [[20.291328 20.291328 20.906532 ... 29.374502 29.556084 29.74968 ]]\n",
      "\n",
      " [[19.689714 19.689714 20.262157 ... 28.53956  28.711891 28.899382]]\n",
      "\n",
      " [[19.689714 19.689714 20.262157 ... 28.53956  28.711891 28.899382]]]\n",
      "all_quantiles after squeezing shape: (308, 50)\n",
      "Error with cow SE-5c06d92d-2663, lactation 4: too many values to unpack (expected 2)\n"
     ]
    },
    {
     "name": "stderr",
     "output_type": "stream",
     "text": [
      "/Users/user/anaconda3/envs/GIGACOW/lib/python3.11/site-packages/torch/optim/lr_scheduler.py:60: UserWarning: The verbose parameter is deprecated. Please use get_last_lr() to access the learning rate.\n",
      "  warnings.warn(\n",
      "  6%|▌         | 137/2315 [00:50<13:43,  2.65 Segments/s]"
     ]
    },
    {
     "name": "stdout",
     "output_type": "stream",
     "text": [
      "all_quantiles shape: (52, 1, 50)\n",
      "all_quantiles content: [[[13.2231   13.2231   13.268852 ... 33.95996  34.472847 34.910965]]\n",
      "\n",
      " [[13.556503 13.556503 13.600111 ... 33.727646 34.454155 35.076427]]\n",
      "\n",
      " [[13.533497 13.533497 13.57727  ... 33.743572 34.45549  35.064983]]\n",
      "\n",
      " ...\n",
      "\n",
      " [[12.556337 12.556337 12.606335 ... 34.42459  34.509945 34.580326]]\n",
      "\n",
      " [[12.544847 12.544847 12.594914 ... 34.432507 34.510708 34.574604]]\n",
      "\n",
      " [[12.533355 12.533355 12.583469 ... 34.440613 34.51128  34.568882]]]\n",
      "all_quantiles after squeezing shape: (52, 50)\n",
      "Error with cow SE-5c06d92d-2669, lactation 3: too many values to unpack (expected 2)\n"
     ]
    },
    {
     "name": "stderr",
     "output_type": "stream",
     "text": [
      "/Users/user/anaconda3/envs/GIGACOW/lib/python3.11/site-packages/torch/optim/lr_scheduler.py:60: UserWarning: The verbose parameter is deprecated. Please use get_last_lr() to access the learning rate.\n",
      "  warnings.warn(\n",
      "  6%|▌         | 138/2315 [00:50<13:11,  2.75 Segments/s]"
     ]
    },
    {
     "name": "stdout",
     "output_type": "stream",
     "text": [
      "all_quantiles shape: (97, 1, 50)\n",
      "all_quantiles content: [[[39.78294  39.78294  39.78404  ... 41.53843  42.023468 42.15355 ]]\n",
      "\n",
      " [[39.51546  39.51546  39.53463  ... 41.43257  41.90483  42.033577]]\n",
      "\n",
      " [[39.24798  39.24798  39.285217 ... 41.326904 41.786194 41.913605]]\n",
      "\n",
      " ...\n",
      "\n",
      " [[31.491076 31.491076 32.05229  ... 38.25836  38.3461   38.43441 ]]\n",
      "\n",
      " [[31.491076 31.491076 32.05229  ... 38.25836  38.3461   38.43441 ]]\n",
      "\n",
      " [[31.491076 31.491076 32.05229  ... 38.25836  38.3461   38.43441 ]]]\n",
      "all_quantiles after squeezing shape: (97, 50)\n",
      "Error with cow SE-5c06d92d-2673, lactation 3: too many values to unpack (expected 2)\n"
     ]
    },
    {
     "name": "stderr",
     "output_type": "stream",
     "text": [
      "/Users/user/anaconda3/envs/GIGACOW/lib/python3.11/site-packages/torch/optim/lr_scheduler.py:60: UserWarning: The verbose parameter is deprecated. Please use get_last_lr() to access the learning rate.\n",
      "  warnings.warn(\n",
      "  6%|▌         | 139/2315 [00:50<14:02,  2.58 Segments/s]"
     ]
    },
    {
     "name": "stdout",
     "output_type": "stream",
     "text": [
      "all_quantiles shape: (515, 1, 50)\n",
      "all_quantiles content: [[[35.41086  35.41086  37.37192  ... 60.573006 61.45916  61.809345]]\n",
      "\n",
      " [[36.253452 36.253452 38.244843 ... 61.999508 62.90474  63.18836 ]]\n",
      "\n",
      " [[36.052834 36.052834 38.03699  ... 61.660004 62.560654 62.859917]]\n",
      "\n",
      " ...\n",
      "\n",
      " [[21.88903  21.88903  23.364054 ... 37.68196  38.259125 39.67848 ]]\n",
      "\n",
      " [[21.88903  21.88903  23.364054 ... 37.68196  38.259125 39.67848 ]]\n",
      "\n",
      " [[21.88903  21.88903  23.364054 ... 37.68196  38.259125 39.67848 ]]]\n",
      "all_quantiles after squeezing shape: (515, 50)\n",
      "Error with cow SE-5c06d92d-2673, lactation 4: too many values to unpack (expected 2)\n"
     ]
    },
    {
     "name": "stderr",
     "output_type": "stream",
     "text": [
      "/Users/user/anaconda3/envs/GIGACOW/lib/python3.11/site-packages/torch/optim/lr_scheduler.py:60: UserWarning: The verbose parameter is deprecated. Please use get_last_lr() to access the learning rate.\n",
      "  warnings.warn(\n",
      "  6%|▌         | 140/2315 [00:51<14:19,  2.53 Segments/s]"
     ]
    },
    {
     "name": "stdout",
     "output_type": "stream",
     "text": [
      "all_quantiles shape: (265, 1, 50)\n",
      "all_quantiles content: [[[37.734882 37.734882 38.637512 ... 42.258263 42.62371  42.96493 ]]\n",
      "\n",
      " [[37.648975 37.648975 38.549423 ... 42.20543  42.570305 42.910767]]\n",
      "\n",
      " [[37.563076 37.563076 38.46132  ... 42.152596 42.516705 42.856598]]\n",
      "\n",
      " ...\n",
      "\n",
      " [[21.241735 21.241735 21.722244 ... 32.105446 32.353973 32.57637 ]]\n",
      "\n",
      " [[21.241735 21.241735 21.722244 ... 32.105446 32.353973 32.57637 ]]\n",
      "\n",
      " [[21.241735 21.241735 21.722244 ... 32.105446 32.353973 32.57637 ]]]\n",
      "all_quantiles after squeezing shape: (265, 50)\n",
      "Error with cow SE-5c06d92d-2683, lactation 3: too many values to unpack (expected 2)\n"
     ]
    },
    {
     "name": "stderr",
     "output_type": "stream",
     "text": [
      "/Users/user/anaconda3/envs/GIGACOW/lib/python3.11/site-packages/torch/optim/lr_scheduler.py:60: UserWarning: The verbose parameter is deprecated. Please use get_last_lr() to access the learning rate.\n",
      "  warnings.warn(\n",
      "  6%|▌         | 141/2315 [00:51<14:05,  2.57 Segments/s]"
     ]
    },
    {
     "name": "stdout",
     "output_type": "stream",
     "text": [
      "all_quantiles shape: (230, 1, 50)\n",
      "all_quantiles content: [[[50.651432 50.651432 51.06796  ... 57.13539  58.034897 59.651184]]\n",
      "\n",
      " [[50.57318  50.57318  50.98945  ... 57.085228 57.97996  59.587856]]\n",
      "\n",
      " [[50.49493  50.49493  50.910934 ... 57.034683 57.925224 59.524345]]\n",
      "\n",
      " ...\n",
      "\n",
      " [[32.888733 32.888733 33.246376 ... 45.698357 45.60566  45.268436]]\n",
      "\n",
      " [[32.810486 32.810486 33.167862 ... 45.648003 45.550728 45.205116]]\n",
      "\n",
      " [[32.810486 32.810486 33.167862 ... 45.648003 45.550728 45.205116]]]\n",
      "all_quantiles after squeezing shape: (230, 50)\n",
      "Error with cow SE-5c06d92d-2688, lactation 4: too many values to unpack (expected 2)\n"
     ]
    },
    {
     "name": "stderr",
     "output_type": "stream",
     "text": [
      "/Users/user/anaconda3/envs/GIGACOW/lib/python3.11/site-packages/torch/optim/lr_scheduler.py:60: UserWarning: The verbose parameter is deprecated. Please use get_last_lr() to access the learning rate.\n",
      "  warnings.warn(\n",
      "  6%|▌         | 142/2315 [00:52<14:20,  2.53 Segments/s]"
     ]
    },
    {
     "name": "stdout",
     "output_type": "stream",
     "text": [
      "all_quantiles shape: (395, 1, 50)\n",
      "all_quantiles content: [[[26.179039 26.179039 44.32938  ... 64.938736 65.42759  67.16118 ]]\n",
      "\n",
      " [[25.311686 25.311686 45.711018 ... 67.00401  67.49325  69.324684]]\n",
      "\n",
      " [[26.179039 26.179039 44.32938  ... 64.938736 65.42759  67.16118 ]]\n",
      "\n",
      " ...\n",
      "\n",
      " [[33.384716 33.384716 32.85122  ... 47.778893 48.26889  49.184418]]\n",
      "\n",
      " [[33.384716 33.384716 32.85122  ... 47.778893 48.26889  49.184418]]\n",
      "\n",
      " [[33.384716 33.384716 32.85122  ... 47.778893 48.26889  49.184418]]]\n",
      "all_quantiles after squeezing shape: (395, 50)\n",
      "Error with cow SE-5c06d92d-2688, lactation 5: too many values to unpack (expected 2)\n"
     ]
    },
    {
     "name": "stderr",
     "output_type": "stream",
     "text": [
      "/Users/user/anaconda3/envs/GIGACOW/lib/python3.11/site-packages/torch/optim/lr_scheduler.py:60: UserWarning: The verbose parameter is deprecated. Please use get_last_lr() to access the learning rate.\n",
      "  warnings.warn(\n",
      "  6%|▌         | 143/2315 [00:52<14:10,  2.55 Segments/s]"
     ]
    },
    {
     "name": "stdout",
     "output_type": "stream",
     "text": [
      "all_quantiles shape: (230, 1, 50)\n",
      "all_quantiles content: [[[44.89891  44.89891  45.901882 ... 52.92816  52.843475 51.997566]]\n",
      "\n",
      " [[44.82121  44.82121  45.820988 ... 52.86369  52.782818 51.94969 ]]\n",
      "\n",
      " [[44.74349  44.74349  45.740093 ... 52.799416 52.721783 51.901817]]\n",
      "\n",
      " ...\n",
      "\n",
      " [[27.257633 27.257633 27.53837  ... 38.308716 39.027786 41.130257]]\n",
      "\n",
      " [[27.179909 27.179909 27.457487 ... 38.24444  38.96694  41.082382]]\n",
      "\n",
      " [[27.179909 27.179909 27.457487 ... 38.24444  38.96694  41.082382]]]\n",
      "all_quantiles after squeezing shape: (230, 50)\n",
      "Error with cow SE-5c06d92d-2689, lactation 4: too many values to unpack (expected 2)\n"
     ]
    },
    {
     "name": "stderr",
     "output_type": "stream",
     "text": [
      "/Users/user/anaconda3/envs/GIGACOW/lib/python3.11/site-packages/torch/optim/lr_scheduler.py:60: UserWarning: The verbose parameter is deprecated. Please use get_last_lr() to access the learning rate.\n",
      "  warnings.warn(\n",
      "  6%|▌         | 144/2315 [00:52<14:06,  2.57 Segments/s]"
     ]
    },
    {
     "name": "stdout",
     "output_type": "stream",
     "text": [
      "all_quantiles shape: (299, 1, 50)\n",
      "all_quantiles content: [[[27.573502 27.573502 35.42449  ... 55.772205 56.447983 57.683372]]\n",
      "\n",
      " [[27.915955 27.915955 36.227417 ... 56.853104 57.55119  58.885952]]\n",
      "\n",
      " [[27.90278  27.90278  36.19654  ... 56.81152  57.508846 58.839798]]\n",
      "\n",
      " ...\n",
      "\n",
      " [[24.056637 24.056637 27.179096 ... 44.671627 45.119854 45.332336]]\n",
      "\n",
      " [[24.056637 24.056637 27.179096 ... 44.671627 45.119854 45.332336]]\n",
      "\n",
      " [[24.056637 24.056637 27.179096 ... 44.671627 45.119854 45.332336]]]\n",
      "all_quantiles after squeezing shape: (299, 50)\n",
      "Error with cow SE-5c06d92d-2689, lactation 5: too many values to unpack (expected 2)\n"
     ]
    },
    {
     "name": "stderr",
     "output_type": "stream",
     "text": [
      "/Users/user/anaconda3/envs/GIGACOW/lib/python3.11/site-packages/torch/optim/lr_scheduler.py:60: UserWarning: The verbose parameter is deprecated. Please use get_last_lr() to access the learning rate.\n",
      "  warnings.warn(\n",
      "  6%|▋         | 145/2315 [00:53<12:41,  2.85 Segments/s]"
     ]
    },
    {
     "name": "stdout",
     "output_type": "stream",
     "text": [
      "all_quantiles shape: (22, 1, 50)\n",
      "all_quantiles content: [[[26.36876  26.36876  26.382874 ... 30.29928  29.548166 28.811453]]\n",
      "\n",
      " [[26.36876  26.36876  26.382874 ... 30.29928  29.548166 28.811453]]\n",
      "\n",
      " [[27.342033 27.342033 27.355957 ... 31.38666  30.712605 30.067823]]\n",
      "\n",
      " ...\n",
      "\n",
      " [[43.887707 43.887707 43.89807  ... 49.87297  50.506973 51.42841 ]]\n",
      "\n",
      " [[44.86099  44.86099  44.871128 ... 50.96035  51.671406 52.684784]]\n",
      "\n",
      " [[45.83426  45.83426  45.844196 ... 52.04773  52.835842 53.94115 ]]]\n",
      "all_quantiles after squeezing shape: (22, 50)\n",
      "Error with cow SE-5c06d92d-2689, lactation 6: too many values to unpack (expected 2)\n"
     ]
    },
    {
     "name": "stderr",
     "output_type": "stream",
     "text": [
      "/Users/user/anaconda3/envs/GIGACOW/lib/python3.11/site-packages/torch/optim/lr_scheduler.py:60: UserWarning: The verbose parameter is deprecated. Please use get_last_lr() to access the learning rate.\n",
      "  warnings.warn(\n",
      "  6%|▋         | 146/2315 [00:53<12:52,  2.81 Segments/s]"
     ]
    },
    {
     "name": "stdout",
     "output_type": "stream",
     "text": [
      "all_quantiles shape: (227, 1, 50)\n",
      "all_quantiles content: [[[45.804382 45.804382 47.43639  ... 55.911823 56.095314 55.86395 ]]\n",
      "\n",
      " [[45.74358  45.74358  47.375416 ... 55.854797 56.037903 55.809975]]\n",
      "\n",
      " [[45.682793 45.682793 47.31444  ... 55.797768 55.9803   55.756187]]\n",
      "\n",
      " ...\n",
      "\n",
      " [[32.00389  32.00389  33.59543  ... 42.964363 43.033028 43.64376 ]]\n",
      "\n",
      " [[31.943092 31.943092 33.534454 ... 42.90733  42.975616 43.58978 ]]\n",
      "\n",
      " [[31.943092 31.943092 33.534454 ... 42.90733  42.975616 43.58978 ]]]\n",
      "all_quantiles after squeezing shape: (227, 50)\n",
      "Error with cow SE-5c06d92d-2690, lactation 4: too many values to unpack (expected 2)\n"
     ]
    },
    {
     "name": "stderr",
     "output_type": "stream",
     "text": [
      "/Users/user/anaconda3/envs/GIGACOW/lib/python3.11/site-packages/torch/optim/lr_scheduler.py:60: UserWarning: The verbose parameter is deprecated. Please use get_last_lr() to access the learning rate.\n",
      "  warnings.warn(\n",
      "  6%|▋         | 147/2315 [00:53<13:08,  2.75 Segments/s]"
     ]
    },
    {
     "name": "stdout",
     "output_type": "stream",
     "text": [
      "all_quantiles shape: (302, 1, 50)\n",
      "all_quantiles content: [[[36.8129   36.8129   39.93294  ... 59.325214 59.553905 59.8629  ]]\n",
      "\n",
      " [[36.798058 36.798058 39.91011  ... 59.27715  59.50584  59.814835]]\n",
      "\n",
      " [[36.783207 36.783207 39.88726  ... 59.228897 59.457966 59.76677 ]]\n",
      "\n",
      " ...\n",
      "\n",
      " [[32.328175 32.328175 33.03677  ... 44.796368 45.080566 45.340153]]\n",
      "\n",
      " [[32.31333  32.31333  33.01394  ... 44.748302 45.032692 45.292088]]\n",
      "\n",
      " [[32.31333  32.31333  33.01394  ... 44.748302 45.032692 45.292088]]]\n",
      "all_quantiles after squeezing shape: (302, 50)\n",
      "Error with cow SE-5c06d92d-2690, lactation 5: too many values to unpack (expected 2)\n"
     ]
    },
    {
     "name": "stderr",
     "output_type": "stream",
     "text": [
      "/Users/user/anaconda3/envs/GIGACOW/lib/python3.11/site-packages/torch/optim/lr_scheduler.py:60: UserWarning: The verbose parameter is deprecated. Please use get_last_lr() to access the learning rate.\n",
      "  warnings.warn(\n",
      "  6%|▋         | 148/2315 [00:54<12:12,  2.96 Segments/s]"
     ]
    },
    {
     "name": "stdout",
     "output_type": "stream",
     "text": [
      "all_quantiles shape: (28, 1, 50)\n",
      "all_quantiles content: [[[ 5.6888576  5.6888576  5.8260913 ... 29.35648   29.593752  29.724787 ]]\n",
      "\n",
      " [[ 5.6888576  5.6888576  5.8260913 ... 29.35648   29.593752  29.724787 ]]\n",
      "\n",
      " [[ 9.3605995  9.3605995  9.49564   ... 31.357477  31.568813  31.685638 ]]\n",
      "\n",
      " ...\n",
      "\n",
      " [[49.749504  49.749504  49.86143   ... 53.368946  53.293224  53.25546  ]]\n",
      "\n",
      " [[51.585377  51.585377  51.696224  ... 54.369354  54.28085   54.23584  ]]\n",
      "\n",
      " [[53.421246  53.421246  53.531025  ... 55.36995   55.268288  55.216408 ]]]\n",
      "all_quantiles after squeezing shape: (28, 50)\n",
      "Error with cow SE-5c06d92d-2690, lactation 6: too many values to unpack (expected 2)\n"
     ]
    },
    {
     "name": "stderr",
     "output_type": "stream",
     "text": [
      "/Users/user/anaconda3/envs/GIGACOW/lib/python3.11/site-packages/torch/optim/lr_scheduler.py:60: UserWarning: The verbose parameter is deprecated. Please use get_last_lr() to access the learning rate.\n",
      "  warnings.warn(\n",
      "  6%|▋         | 149/2315 [00:54<12:44,  2.83 Segments/s]"
     ]
    },
    {
     "name": "stdout",
     "output_type": "stream",
     "text": [
      "all_quantiles shape: (57, 1, 50)\n",
      "all_quantiles content: [[[24.020527 24.020527 24.214827 ... 36.039448 36.11107  36.162758]]\n",
      "\n",
      " [[31.159437 31.159437 31.421553 ... 41.895103 41.525265 40.28206 ]]\n",
      "\n",
      " [[30.86199  30.86199  31.121271 ... 41.650963 41.29982  40.110397]]\n",
      "\n",
      " ...\n",
      "\n",
      " [[ 9.742713  9.742713  9.801388 ... 24.328232 25.282478 27.924345]]\n",
      "\n",
      " [[ 9.742713  9.742713  9.801388 ... 24.328232 25.282478 27.924345]]\n",
      "\n",
      " [[ 9.742713  9.742713  9.801388 ... 24.328232 25.282478 27.924345]]]\n",
      "all_quantiles after squeezing shape: (57, 50)\n",
      "Error with cow SE-5c06d92d-2697, lactation 3: too many values to unpack (expected 2)\n"
     ]
    },
    {
     "name": "stderr",
     "output_type": "stream",
     "text": [
      "/Users/user/anaconda3/envs/GIGACOW/lib/python3.11/site-packages/torch/optim/lr_scheduler.py:60: UserWarning: The verbose parameter is deprecated. Please use get_last_lr() to access the learning rate.\n",
      "  warnings.warn(\n",
      "  6%|▋         | 150/2315 [00:55<15:18,  2.36 Segments/s]"
     ]
    },
    {
     "name": "stdout",
     "output_type": "stream",
     "text": [
      "all_quantiles shape: (287, 1, 50)\n",
      "all_quantiles content: [[[13.175845 13.175845 20.689724 ... 50.34752  50.98934  51.5543  ]]\n",
      "\n",
      " [[13.175845 13.175845 20.689724 ... 50.34752  50.98934  51.5543  ]]\n",
      "\n",
      " [[13.205635 13.205635 20.697521 ... 50.276375 50.915146 51.478386]]\n",
      "\n",
      " ...\n",
      "\n",
      " [[21.66798  21.66798  22.906088 ... 30.008123 29.91533  29.845715]]\n",
      "\n",
      " [[21.66798  21.66798  22.906088 ... 30.008123 29.91533  29.845715]]\n",
      "\n",
      " [[21.66798  21.66798  22.906088 ... 30.008123 29.91533  29.845715]]]\n",
      "all_quantiles after squeezing shape: (287, 50)\n",
      "Error with cow SE-5c06d92d-2710, lactation 4: too many values to unpack (expected 2)\n"
     ]
    },
    {
     "name": "stderr",
     "output_type": "stream",
     "text": [
      "/Users/user/anaconda3/envs/GIGACOW/lib/python3.11/site-packages/torch/optim/lr_scheduler.py:60: UserWarning: The verbose parameter is deprecated. Please use get_last_lr() to access the learning rate.\n",
      "  warnings.warn(\n",
      "  7%|▋         | 151/2315 [00:55<15:00,  2.40 Segments/s]"
     ]
    },
    {
     "name": "stdout",
     "output_type": "stream",
     "text": [
      "all_quantiles shape: (281, 1, 50)\n",
      "all_quantiles content: [[[10.308146 10.308146 20.171833 ... 50.61493  50.29068  49.62215 ]]\n",
      "\n",
      " [[10.308146 10.308146 20.171833 ... 50.61493  50.29068  49.62215 ]]\n",
      "\n",
      " [[10.398817 10.398817 20.192778 ... 50.503727 50.189587 49.541664]]\n",
      "\n",
      " ...\n",
      "\n",
      " [[22.911251 22.911251 23.082254 ... 35.162735 36.22856  38.430595]]\n",
      "\n",
      " [[22.956585 22.956585 23.092724 ... 35.10704  36.178013 38.39035 ]]\n",
      "\n",
      " [[23.00192  23.00192  23.10319  ... 35.051537 36.127472 38.350105]]]\n",
      "all_quantiles after squeezing shape: (281, 50)\n",
      "Error with cow SE-5c06d92d-2710, lactation 5: too many values to unpack (expected 2)\n"
     ]
    },
    {
     "name": "stderr",
     "output_type": "stream",
     "text": [
      "/Users/user/anaconda3/envs/GIGACOW/lib/python3.11/site-packages/torch/optim/lr_scheduler.py:60: UserWarning: The verbose parameter is deprecated. Please use get_last_lr() to access the learning rate.\n",
      "  warnings.warn(\n",
      "  7%|▋         | 152/2315 [00:56<14:40,  2.46 Segments/s]"
     ]
    },
    {
     "name": "stdout",
     "output_type": "stream",
     "text": [
      "all_quantiles shape: (316, 1, 50)\n",
      "all_quantiles content: [[[30.259895 30.259895 40.858208 ... 66.95995  69.77196  71.715164]]\n",
      "\n",
      " [[30.228197 30.228197 40.797516 ... 66.84227  69.64264  71.57841 ]]\n",
      "\n",
      " [[30.1965   30.1965   40.736805 ... 66.72497  69.51332  71.44165 ]]\n",
      "\n",
      " ...\n",
      "\n",
      " [[19.960331 19.960331 21.12992  ... 28.780554 27.726458 27.270317]]\n",
      "\n",
      " [[19.928635 19.928635 21.06923  ... 28.663063 27.597046 27.133656]]\n",
      "\n",
      " [[19.896948 19.896948 21.008503 ... 28.545666 27.467728 26.996897]]]\n",
      "all_quantiles after squeezing shape: (316, 50)\n",
      "Error with cow SE-5c06d92d-2712, lactation 4: too many values to unpack (expected 2)\n"
     ]
    },
    {
     "name": "stderr",
     "output_type": "stream",
     "text": [
      "/Users/user/anaconda3/envs/GIGACOW/lib/python3.11/site-packages/torch/optim/lr_scheduler.py:60: UserWarning: The verbose parameter is deprecated. Please use get_last_lr() to access the learning rate.\n",
      "  warnings.warn(\n",
      "  7%|▋         | 153/2315 [00:56<13:39,  2.64 Segments/s]"
     ]
    },
    {
     "name": "stdout",
     "output_type": "stream",
     "text": [
      "all_quantiles shape: (63, 1, 50)\n",
      "all_quantiles content: [[[33.10236  33.10236  33.493492 ... 35.876083 36.023903 36.201096]]\n",
      "\n",
      " [[32.96051  32.96051  33.36628  ... 35.82058  35.966873 36.141777]]\n",
      "\n",
      " [[32.818665 32.818665 33.23908  ... 35.765266 35.909653 36.08246 ]]\n",
      "\n",
      " ...\n",
      "\n",
      " [[24.591673 24.591673 25.861    ... 32.55186  32.60002  32.636738]]\n",
      "\n",
      " [[24.591673 24.591673 25.861    ... 32.55186  32.60002  32.636738]]\n",
      "\n",
      " [[24.591673 24.591673 25.861    ... 32.55186  32.60002  32.636738]]]\n",
      "all_quantiles after squeezing shape: (63, 50)\n",
      "Error with cow SE-5c06d92d-2713, lactation 3: too many values to unpack (expected 2)\n"
     ]
    },
    {
     "name": "stderr",
     "output_type": "stream",
     "text": [
      "/Users/user/anaconda3/envs/GIGACOW/lib/python3.11/site-packages/torch/optim/lr_scheduler.py:60: UserWarning: The verbose parameter is deprecated. Please use get_last_lr() to access the learning rate.\n",
      "  warnings.warn(\n",
      "  7%|▋         | 154/2315 [00:56<13:46,  2.61 Segments/s]"
     ]
    },
    {
     "name": "stdout",
     "output_type": "stream",
     "text": [
      "all_quantiles shape: (348, 1, 50)\n",
      "all_quantiles content: [[[42.706345 42.706345 46.097256 ... 64.92863  65.19756  65.429306]]\n",
      "\n",
      " [[42.706345 42.706345 46.097256 ... 64.92863  65.19756  65.429306]]\n",
      "\n",
      " [[42.64859  42.64859  46.033024 ... 64.81266  65.08083  65.312386]]\n",
      "\n",
      " ...\n",
      "\n",
      " [[22.83089  22.83089  24.010468 ... 25.05369  25.099562 25.166512]]\n",
      "\n",
      " [[22.83089  22.83089  24.010468 ... 25.05369  25.099562 25.166512]]\n",
      "\n",
      " [[22.83089  22.83089  24.010468 ... 25.05369  25.099562 25.166512]]]\n",
      "all_quantiles after squeezing shape: (348, 50)\n",
      "Error with cow SE-5c06d92d-2713, lactation 4: too many values to unpack (expected 2)\n"
     ]
    },
    {
     "name": "stderr",
     "output_type": "stream",
     "text": [
      "/Users/user/anaconda3/envs/GIGACOW/lib/python3.11/site-packages/torch/optim/lr_scheduler.py:60: UserWarning: The verbose parameter is deprecated. Please use get_last_lr() to access the learning rate.\n",
      "  warnings.warn(\n",
      "  7%|▋         | 155/2315 [00:57<13:25,  2.68 Segments/s]"
     ]
    },
    {
     "name": "stdout",
     "output_type": "stream",
     "text": [
      "all_quantiles shape: (133, 1, 50)\n",
      "all_quantiles content: [[[27.46837  27.46837  28.683376 ... 58.557507 58.414455 58.878136]]\n",
      "\n",
      " [[27.46837  27.46837  28.683376 ... 58.557507 58.414455 58.878136]]\n",
      "\n",
      " [[27.46837  27.46837  28.683376 ... 58.557507 58.414455 58.878136]]\n",
      "\n",
      " ...\n",
      "\n",
      " [[52.069675 52.069675 52.10079  ... 61.144638 61.765858 61.76758 ]]\n",
      "\n",
      " [[52.269684 52.269684 52.291187 ... 61.165615 61.793137 61.791225]]\n",
      "\n",
      " [[52.469692 52.469692 52.481567 ... 61.18679  61.82022  61.814686]]]\n",
      "all_quantiles after squeezing shape: (133, 50)\n",
      "Error with cow SE-5c06d92d-2713, lactation 5: too many values to unpack (expected 2)\n"
     ]
    },
    {
     "name": "stderr",
     "output_type": "stream",
     "text": [
      "/Users/user/anaconda3/envs/GIGACOW/lib/python3.11/site-packages/torch/optim/lr_scheduler.py:60: UserWarning: The verbose parameter is deprecated. Please use get_last_lr() to access the learning rate.\n",
      "  warnings.warn(\n",
      "  7%|▋         | 156/2315 [00:57<13:24,  2.69 Segments/s]"
     ]
    },
    {
     "name": "stdout",
     "output_type": "stream",
     "text": [
      "all_quantiles shape: (217, 1, 50)\n",
      "all_quantiles content: [[[29.918253 29.918253 30.1314   ... 38.041878 38.19828  38.370705]]\n",
      "\n",
      " [[29.834837 29.834837 30.050879 ... 37.95681  38.11302  38.284492]]\n",
      "\n",
      " [[29.75143  29.75143  29.970346 ... 37.87155  38.027573 38.19866 ]]\n",
      "\n",
      " ...\n",
      "\n",
      " [[15.654027 15.654027 16.362238 ... 23.495865 23.592756 23.665714]]\n",
      "\n",
      " [[15.654027 15.654027 16.362238 ... 23.495865 23.592756 23.665714]]\n",
      "\n",
      " [[15.654027 15.654027 16.362238 ... 23.495865 23.592756 23.665714]]]\n",
      "all_quantiles after squeezing shape: (217, 50)\n",
      "Error with cow SE-5c06d92d-2719, lactation 3: too many values to unpack (expected 2)\n"
     ]
    },
    {
     "name": "stderr",
     "output_type": "stream",
     "text": [
      "/Users/user/anaconda3/envs/GIGACOW/lib/python3.11/site-packages/torch/optim/lr_scheduler.py:60: UserWarning: The verbose parameter is deprecated. Please use get_last_lr() to access the learning rate.\n",
      "  warnings.warn(\n",
      "  7%|▋         | 157/2315 [00:57<13:01,  2.76 Segments/s]"
     ]
    },
    {
     "name": "stdout",
     "output_type": "stream",
     "text": [
      "all_quantiles shape: (63, 1, 50)\n",
      "all_quantiles content: [[[33.735867 33.735867 34.365475 ... 40.136337 40.170097 40.19146 ]]\n",
      "\n",
      " [[33.576893 33.576893 34.23011  ... 39.99023  40.024757 40.04688 ]]\n",
      "\n",
      " [[33.41792  33.41792  34.09475  ... 39.844513 39.879414 39.902115]]\n",
      "\n",
      " ...\n",
      "\n",
      " [[24.197197 24.197197 26.243914 ... 31.380081 31.450365 31.506824]]\n",
      "\n",
      " [[24.197197 24.197197 26.243914 ... 31.380081 31.450365 31.506824]]\n",
      "\n",
      " [[24.197197 24.197197 26.243914 ... 31.380081 31.450365 31.506824]]]\n",
      "all_quantiles after squeezing shape: (63, 50)\n",
      "Error with cow SE-5c06d92d-2724, lactation 3: too many values to unpack (expected 2)\n"
     ]
    },
    {
     "name": "stderr",
     "output_type": "stream",
     "text": [
      "/Users/user/anaconda3/envs/GIGACOW/lib/python3.11/site-packages/torch/optim/lr_scheduler.py:60: UserWarning: The verbose parameter is deprecated. Please use get_last_lr() to access the learning rate.\n",
      "  warnings.warn(\n",
      "  7%|▋         | 158/2315 [00:58<14:01,  2.56 Segments/s]"
     ]
    },
    {
     "name": "stdout",
     "output_type": "stream",
     "text": [
      "all_quantiles shape: (270, 1, 50)\n",
      "all_quantiles content: [[[18.847036 18.847036 25.80247  ... 60.926437 61.12232  61.49311 ]]\n",
      "\n",
      " [[18.847036 18.847036 25.80247  ... 60.926437 61.12232  61.49311 ]]\n",
      "\n",
      " [[18.933594 18.933594 25.842571 ... 60.732647 60.929108 61.301994]]\n",
      "\n",
      " ...\n",
      "\n",
      " [[30.402958 30.402958 31.155203 ... 35.056686 35.339165 35.9787  ]]\n",
      "\n",
      " [[30.446243 30.446243 31.175255 ... 34.959793 35.242653 35.88314 ]]\n",
      "\n",
      " [[30.489527 30.489527 31.195307 ... 34.8629   35.14595  35.787582]]]\n",
      "all_quantiles after squeezing shape: (270, 50)\n",
      "Error with cow SE-5c06d92d-2724, lactation 4: too many values to unpack (expected 2)\n"
     ]
    },
    {
     "name": "stderr",
     "output_type": "stream",
     "text": [
      "/Users/user/anaconda3/envs/GIGACOW/lib/python3.11/site-packages/torch/optim/lr_scheduler.py:60: UserWarning: The verbose parameter is deprecated. Please use get_last_lr() to access the learning rate.\n",
      "  warnings.warn(\n",
      "  7%|▋         | 159/2315 [00:58<13:16,  2.71 Segments/s]"
     ]
    },
    {
     "name": "stdout",
     "output_type": "stream",
     "text": [
      "all_quantiles shape: (90, 1, 50)\n",
      "all_quantiles content: [[[38.515083 38.515083 38.298595 ... 40.098    42.03186  43.44921 ]]\n",
      "\n",
      " [[38.310112 38.310112 38.125668 ... 39.995956 41.905212 43.30921 ]]\n",
      "\n",
      " [[38.10513  38.10513  37.952744 ... 39.89391  41.778564 43.169212]]\n",
      "\n",
      " ...\n",
      "\n",
      " [[20.476866 20.476866 23.081337 ... 31.115055 30.896091 31.129646]]\n",
      "\n",
      " [[20.476866 20.476866 23.081337 ... 31.115055 30.896091 31.129646]]\n",
      "\n",
      " [[20.476866 20.476866 23.081337 ... 31.115055 30.896091 31.129646]]]\n",
      "all_quantiles after squeezing shape: (90, 50)\n",
      "Error with cow SE-5c06d92d-2731, lactation 3: too many values to unpack (expected 2)\n"
     ]
    },
    {
     "name": "stderr",
     "output_type": "stream",
     "text": [
      "/Users/user/anaconda3/envs/GIGACOW/lib/python3.11/site-packages/torch/optim/lr_scheduler.py:60: UserWarning: The verbose parameter is deprecated. Please use get_last_lr() to access the learning rate.\n",
      "  warnings.warn(\n",
      "  7%|▋         | 160/2315 [00:58<13:25,  2.68 Segments/s]"
     ]
    },
    {
     "name": "stdout",
     "output_type": "stream",
     "text": [
      "all_quantiles shape: (320, 1, 50)\n",
      "all_quantiles content: [[[39.51131  39.51131  42.912174 ... 59.22584  59.37347  59.644314]]\n",
      "\n",
      " [[40.208054 40.208054 43.668076 ... 60.29758  60.435104 60.705566]]\n",
      "\n",
      " [[40.144714 40.144714 43.599354 ... 60.20012  60.338593 60.609055]]\n",
      "\n",
      " ...\n",
      "\n",
      " [[19.495863 19.495863 21.197008 ... 28.43523  28.875256 29.15907 ]]\n",
      "\n",
      " [[19.495863 19.495863 21.197008 ... 28.43523  28.875256 29.15907 ]]\n",
      "\n",
      " [[19.495863 19.495863 21.197008 ... 28.43523  28.875256 29.15907 ]]]\n",
      "all_quantiles after squeezing shape: (320, 50)\n",
      "Error with cow SE-5c06d92d-2731, lactation 4: too many values to unpack (expected 2)\n"
     ]
    },
    {
     "name": "stderr",
     "output_type": "stream",
     "text": [
      "/Users/user/anaconda3/envs/GIGACOW/lib/python3.11/site-packages/torch/optim/lr_scheduler.py:60: UserWarning: The verbose parameter is deprecated. Please use get_last_lr() to access the learning rate.\n",
      "  warnings.warn(\n",
      "  7%|▋         | 161/2315 [00:59<12:50,  2.80 Segments/s]"
     ]
    },
    {
     "name": "stdout",
     "output_type": "stream",
     "text": [
      "all_quantiles shape: (107, 1, 50)\n",
      "all_quantiles content: [[[14.99126  14.99126  15.974808 ... 68.2518   70.71533  72.561455]]\n",
      "\n",
      " [[14.99126  14.99126  15.974808 ... 68.2518   70.71533  72.561455]]\n",
      "\n",
      " [[17.39137  17.39137  18.36009  ... 66.96243  69.151306 70.81146 ]]\n",
      "\n",
      " ...\n",
      "\n",
      " [[48.89269  48.89269  49.66664  ... 50.03872  48.623276 47.843357]]\n",
      "\n",
      " [[49.19269  49.19269  49.964787 ... 49.87755  48.427773 47.624588]]\n",
      "\n",
      " [[49.492702 49.492702 50.262947 ... 49.716373 48.23227  47.405815]]]\n",
      "all_quantiles after squeezing shape: (107, 50)\n",
      "Error with cow SE-5c06d92d-2731, lactation 5: too many values to unpack (expected 2)\n"
     ]
    },
    {
     "name": "stderr",
     "output_type": "stream",
     "text": [
      "/Users/user/anaconda3/envs/GIGACOW/lib/python3.11/site-packages/torch/optim/lr_scheduler.py:60: UserWarning: The verbose parameter is deprecated. Please use get_last_lr() to access the learning rate.\n",
      "  warnings.warn(\n",
      "  7%|▋         | 162/2315 [00:59<12:09,  2.95 Segments/s]"
     ]
    },
    {
     "name": "stdout",
     "output_type": "stream",
     "text": [
      "all_quantiles shape: (44, 1, 50)\n",
      "all_quantiles content: [[[35.24773  35.24773  35.511543 ... 37.88624  37.971687 38.09166 ]]\n",
      "\n",
      " [[34.712757 34.712757 35.001003 ... 37.7491   37.832638 37.950134]]\n",
      "\n",
      " [[34.177773 34.177773 34.49047  ... 37.61196  37.693787 37.808228]]\n",
      "\n",
      " ...\n",
      "\n",
      " [[14.38353  14.38353  15.600729 ... 32.535553 32.553196 32.565117]]\n",
      "\n",
      " [[14.38353  14.38353  15.600729 ... 32.535553 32.553196 32.565117]]\n",
      "\n",
      " [[14.38353  14.38353  15.600729 ... 32.535553 32.553196 32.565117]]]\n",
      "all_quantiles after squeezing shape: (44, 50)\n",
      "Error with cow SE-5c06d92d-2741, lactation 3: too many values to unpack (expected 2)\n"
     ]
    },
    {
     "name": "stderr",
     "output_type": "stream",
     "text": [
      "/Users/user/anaconda3/envs/GIGACOW/lib/python3.11/site-packages/torch/optim/lr_scheduler.py:60: UserWarning: The verbose parameter is deprecated. Please use get_last_lr() to access the learning rate.\n",
      "  warnings.warn(\n",
      "  7%|▋         | 163/2315 [00:59<12:37,  2.84 Segments/s]"
     ]
    },
    {
     "name": "stdout",
     "output_type": "stream",
     "text": [
      "all_quantiles shape: (322, 1, 50)\n",
      "all_quantiles content: [[[36.80527  36.80527  39.52935  ... 69.478226 69.99283  70.44945 ]]\n",
      "\n",
      " [[36.92808  36.92808  39.584805 ... 70.07561  70.59765  71.05656 ]]\n",
      "\n",
      " [[36.907623 36.907623 39.575527 ... 69.976234 70.49675  70.95528 ]]\n",
      "\n",
      " ...\n",
      "\n",
      " [[30.438946 30.438946 36.655045 ... 38.51509  38.64727  38.96885 ]]\n",
      "\n",
      " [[30.438946 30.438946 36.655045 ... 38.51509  38.64727  38.96885 ]]\n",
      "\n",
      " [[30.438946 30.438946 36.655045 ... 38.51509  38.64727  38.96885 ]]]\n",
      "all_quantiles after squeezing shape: (322, 50)\n",
      "Error with cow SE-5c06d92d-2741, lactation 4: too many values to unpack (expected 2)\n"
     ]
    },
    {
     "name": "stderr",
     "output_type": "stream",
     "text": [
      "/Users/user/anaconda3/envs/GIGACOW/lib/python3.11/site-packages/torch/optim/lr_scheduler.py:60: UserWarning: The verbose parameter is deprecated. Please use get_last_lr() to access the learning rate.\n",
      "  warnings.warn(\n",
      "  7%|▋         | 164/2315 [01:00<12:43,  2.82 Segments/s]"
     ]
    },
    {
     "name": "stdout",
     "output_type": "stream",
     "text": [
      "all_quantiles shape: (187, 1, 50)\n",
      "all_quantiles content: [[[43.294086 43.294086 45.090137 ... 59.789085 60.591507 61.040688]]\n",
      "\n",
      " [[43.294086 43.294086 45.090137 ... 59.789085 60.591507 61.040688]]\n",
      "\n",
      " [[43.294086 43.294086 45.090137 ... 59.789085 60.591507 61.040688]]\n",
      "\n",
      " ...\n",
      "\n",
      " [[43.521618 43.521618 43.307423 ... 50.63076  50.717922 51.379395]]\n",
      "\n",
      " [[43.52348  43.52348  43.29294  ... 50.55618  50.637623 51.300808]]\n",
      "\n",
      " [[43.525322 43.525322 43.278454 ... 50.481796 50.557327 51.22242 ]]]\n",
      "all_quantiles after squeezing shape: (187, 50)\n",
      "Error with cow SE-5c06d92d-2741, lactation 5: too many values to unpack (expected 2)\n"
     ]
    },
    {
     "name": "stderr",
     "output_type": "stream",
     "text": [
      "/Users/user/anaconda3/envs/GIGACOW/lib/python3.11/site-packages/torch/optim/lr_scheduler.py:60: UserWarning: The verbose parameter is deprecated. Please use get_last_lr() to access the learning rate.\n",
      "  warnings.warn(\n",
      "  7%|▋         | 165/2315 [01:00<13:22,  2.68 Segments/s]"
     ]
    },
    {
     "name": "stdout",
     "output_type": "stream",
     "text": [
      "all_quantiles shape: (321, 1, 50)\n",
      "all_quantiles content: [[[17.978382 17.978382 22.07421  ... 46.354485 46.48399  46.36993 ]]\n",
      "\n",
      " [[17.996634 17.996634 22.07588  ... 46.27571  46.405792 46.293827]]\n",
      "\n",
      " [[18.014883 18.014883 22.07756  ... 46.196747 46.327396 46.21792 ]]\n",
      "\n",
      " ...\n",
      "\n",
      " [[22.139267 22.139267 22.456573 ... 28.393269 28.60441  29.079056]]\n",
      "\n",
      " [[22.139267 22.139267 22.456573 ... 28.393269 28.60441  29.079056]]\n",
      "\n",
      " [[22.139267 22.139267 22.456573 ... 28.393269 28.60441  29.079056]]]\n",
      "all_quantiles after squeezing shape: (321, 50)\n",
      "Error with cow SE-5c06d92d-2742, lactation 3: too many values to unpack (expected 2)\n"
     ]
    },
    {
     "name": "stderr",
     "output_type": "stream",
     "text": [
      "/Users/user/anaconda3/envs/GIGACOW/lib/python3.11/site-packages/torch/optim/lr_scheduler.py:60: UserWarning: The verbose parameter is deprecated. Please use get_last_lr() to access the learning rate.\n",
      "  warnings.warn(\n",
      "  7%|▋         | 166/2315 [01:01<13:15,  2.70 Segments/s]"
     ]
    },
    {
     "name": "stdout",
     "output_type": "stream",
     "text": [
      "all_quantiles shape: (204, 1, 50)\n",
      "all_quantiles content: [[[42.986553  42.986553  42.841816  ... 48.441505  48.373222  48.342896 ]]\n",
      "\n",
      " [[42.84948   42.84948   42.722485  ... 48.364258  48.297882  48.268124 ]]\n",
      "\n",
      " [[42.712414  42.712414  42.603146  ... 48.287006  48.22216   48.19393  ]]\n",
      "\n",
      " ...\n",
      "\n",
      " [[15.5720825 15.5720825 18.975758  ... 32.98893   33.246613  33.446503 ]]\n",
      "\n",
      " [[15.5720825 15.5720825 18.975758  ... 32.98893   33.246613  33.446503 ]]\n",
      "\n",
      " [[15.5720825 15.5720825 18.975758  ... 32.98893   33.246613  33.446503 ]]]\n",
      "all_quantiles after squeezing shape: (204, 50)\n",
      "Error with cow SE-5c06d92d-2743, lactation 3: too many values to unpack (expected 2)\n"
     ]
    },
    {
     "name": "stderr",
     "output_type": "stream",
     "text": [
      "/Users/user/anaconda3/envs/GIGACOW/lib/python3.11/site-packages/torch/optim/lr_scheduler.py:60: UserWarning: The verbose parameter is deprecated. Please use get_last_lr() to access the learning rate.\n",
      "  warnings.warn(\n",
      "  7%|▋         | 167/2315 [01:01<13:24,  2.67 Segments/s]"
     ]
    },
    {
     "name": "stdout",
     "output_type": "stream",
     "text": [
      "all_quantiles shape: (299, 1, 50)\n",
      "all_quantiles content: [[[18.625807 18.625807 24.69679  ... 60.401154 60.87093  61.458015]]\n",
      "\n",
      " [[18.625807 18.625807 24.69679  ... 60.401154 60.87093  61.458015]]\n",
      "\n",
      " [[18.639183 18.639183 24.696672 ... 60.32467  60.794636 61.38153 ]]\n",
      "\n",
      " ...\n",
      "\n",
      " [[22.701763 22.701763 24.661541 ... 37.096214 37.578392 38.128662]]\n",
      "\n",
      " [[22.701763 22.701763 24.661541 ... 37.096214 37.578392 38.128662]]\n",
      "\n",
      " [[22.701763 22.701763 24.661541 ... 37.096214 37.578392 38.128662]]]\n",
      "all_quantiles after squeezing shape: (299, 50)\n",
      "Error with cow SE-5c06d92d-2743, lactation 4: too many values to unpack (expected 2)\n"
     ]
    },
    {
     "name": "stderr",
     "output_type": "stream",
     "text": [
      "/Users/user/anaconda3/envs/GIGACOW/lib/python3.11/site-packages/torch/optim/lr_scheduler.py:60: UserWarning: The verbose parameter is deprecated. Please use get_last_lr() to access the learning rate.\n",
      "  warnings.warn(\n",
      "  7%|▋         | 168/2315 [01:01<12:30,  2.86 Segments/s]"
     ]
    },
    {
     "name": "stdout",
     "output_type": "stream",
     "text": [
      "all_quantiles shape: (46, 1, 50)\n",
      "all_quantiles content: [[[40.95225  40.95225  41.214085 ... 54.121017 54.21524  54.307938]]\n",
      "\n",
      " [[41.331764 41.331764 41.591045 ... 54.296684 54.388428 54.478836]]\n",
      "\n",
      " [[41.711308 41.711308 41.96796  ... 54.47235  54.56161  54.649544]]\n",
      "\n",
      " ...\n",
      "\n",
      " [[57.271873 57.271873 57.42248  ... 61.67755  61.66382  61.649895]]\n",
      "\n",
      " [[57.6514   57.6514   57.799416 ... 61.853214 61.837006 61.820602]]\n",
      "\n",
      " [[58.030922 58.030922 58.17637  ... 62.02888  62.01019  61.991497]]]\n",
      "all_quantiles after squeezing shape: (46, 50)\n",
      "Error with cow SE-5c06d92d-2743, lactation 5: too many values to unpack (expected 2)\n"
     ]
    },
    {
     "name": "stderr",
     "output_type": "stream",
     "text": [
      "/Users/user/anaconda3/envs/GIGACOW/lib/python3.11/site-packages/torch/optim/lr_scheduler.py:60: UserWarning: The verbose parameter is deprecated. Please use get_last_lr() to access the learning rate.\n",
      "  warnings.warn(\n",
      "  7%|▋         | 169/2315 [01:02<12:09,  2.94 Segments/s]"
     ]
    },
    {
     "name": "stdout",
     "output_type": "stream",
     "text": [
      "all_quantiles shape: (77, 1, 50)\n",
      "all_quantiles content: [[[34.135372 34.135372 34.14868  ... 37.158585 37.211227 37.252617]]\n",
      "\n",
      " [[33.96178  33.96178  33.989372 ... 37.05082  37.106133 37.148285]]\n",
      "\n",
      " [[33.788185 33.788185 33.830067 ... 36.943245 37.000847 37.043953]]\n",
      "\n",
      " ...\n",
      "\n",
      " [[21.289492 21.289492 22.35993  ... 29.190634 29.424284 29.530334]]\n",
      "\n",
      " [[21.289492 21.289492 22.35993  ... 29.190634 29.424284 29.530334]]\n",
      "\n",
      " [[21.289492 21.289492 22.35993  ... 29.190634 29.424284 29.530334]]]\n",
      "all_quantiles after squeezing shape: (77, 50)\n",
      "Error with cow SE-5c06d92d-2744, lactation 3: too many values to unpack (expected 2)\n"
     ]
    },
    {
     "name": "stderr",
     "output_type": "stream",
     "text": [
      "/Users/user/anaconda3/envs/GIGACOW/lib/python3.11/site-packages/torch/optim/lr_scheduler.py:60: UserWarning: The verbose parameter is deprecated. Please use get_last_lr() to access the learning rate.\n",
      "  warnings.warn(\n",
      "  7%|▋         | 170/2315 [01:02<13:54,  2.57 Segments/s]"
     ]
    },
    {
     "name": "stdout",
     "output_type": "stream",
     "text": [
      "all_quantiles shape: (146, 1, 50)\n",
      "all_quantiles content: [[[33.677746 33.677746 35.739136 ... 55.009457 55.46055  55.670547]]\n",
      "\n",
      " [[31.440853 31.440853 33.940815 ... 60.123062 60.72445  60.892296]]\n",
      "\n",
      " [[31.495428 31.495428 33.984673 ... 59.998127 60.596275 60.76488 ]]\n",
      "\n",
      " ...\n",
      "\n",
      " [[39.242683 39.242683 40.213036 ... 42.288395 42.36469  42.679592]]\n",
      "\n",
      " [[39.297234 39.297234 40.256878 ... 42.163845 42.236134 42.552376]]\n",
      "\n",
      " [[39.351795 39.351795 40.30075  ... 42.03911  42.107773 42.424965]]]\n",
      "all_quantiles after squeezing shape: (146, 50)\n",
      "Error with cow SE-5c06d92d-2744, lactation 4: too many values to unpack (expected 2)\n"
     ]
    },
    {
     "name": "stderr",
     "output_type": "stream",
     "text": [
      "/Users/user/anaconda3/envs/GIGACOW/lib/python3.11/site-packages/torch/optim/lr_scheduler.py:60: UserWarning: The verbose parameter is deprecated. Please use get_last_lr() to access the learning rate.\n",
      "  warnings.warn(\n",
      "  7%|▋         | 171/2315 [01:02<13:15,  2.69 Segments/s]"
     ]
    },
    {
     "name": "stdout",
     "output_type": "stream",
     "text": [
      "all_quantiles shape: (72, 1, 50)\n",
      "all_quantiles content: [[[31.978703 31.978703 32.034252 ... 34.18026  34.19094  34.205055]]\n",
      "\n",
      " [[31.688684 31.688684 31.795067 ... 34.08165  34.093285 34.10778 ]]\n",
      "\n",
      " [[31.398659 31.398659 31.555883 ... 33.983135 33.995438 34.010506]]\n",
      "\n",
      " ...\n",
      "\n",
      " [[12.54704  12.54704  16.008902 ... 27.578924 27.640913 27.688501]]\n",
      "\n",
      " [[12.54704  12.54704  16.008902 ... 27.578924 27.640913 27.688501]]\n",
      "\n",
      " [[12.54704  12.54704  16.008902 ... 27.578924 27.640913 27.688501]]]\n",
      "all_quantiles after squeezing shape: (72, 50)\n",
      "Error with cow SE-5c06d92d-2745, lactation 3: too many values to unpack (expected 2)\n"
     ]
    },
    {
     "name": "stderr",
     "output_type": "stream",
     "text": [
      "/Users/user/anaconda3/envs/GIGACOW/lib/python3.11/site-packages/torch/optim/lr_scheduler.py:60: UserWarning: The verbose parameter is deprecated. Please use get_last_lr() to access the learning rate.\n",
      "  warnings.warn(\n",
      "  7%|▋         | 172/2315 [01:03<14:02,  2.54 Segments/s]"
     ]
    },
    {
     "name": "stdout",
     "output_type": "stream",
     "text": [
      "all_quantiles shape: (422, 1, 50)\n",
      "all_quantiles content: [[[27.243078 27.243078 39.15779  ... 60.602566 60.76851  61.039352]]\n",
      "\n",
      " [[27.243078 27.243078 39.15779  ... 60.602566 60.76851  61.039352]]\n",
      "\n",
      " [[26.158737 26.158737 36.58632  ... 56.02684  56.199837 56.45733 ]]\n",
      "\n",
      " ...\n",
      "\n",
      " [[19.210117 19.210117 20.107948 ... 26.703833 26.925276 27.093124]]\n",
      "\n",
      " [[19.210117 19.210117 20.107948 ... 26.703833 26.925276 27.093124]]\n",
      "\n",
      " [[19.210117 19.210117 20.107948 ... 26.703833 26.925276 27.093124]]]\n",
      "all_quantiles after squeezing shape: (422, 50)\n",
      "Error with cow SE-5c06d92d-2745, lactation 4: too many values to unpack (expected 2)\n"
     ]
    },
    {
     "name": "stderr",
     "output_type": "stream",
     "text": [
      "/Users/user/anaconda3/envs/GIGACOW/lib/python3.11/site-packages/torch/optim/lr_scheduler.py:60: UserWarning: The verbose parameter is deprecated. Please use get_last_lr() to access the learning rate.\n",
      "  warnings.warn(\n",
      "  7%|▋         | 173/2315 [01:03<14:44,  2.42 Segments/s]"
     ]
    },
    {
     "name": "stdout",
     "output_type": "stream",
     "text": [
      "all_quantiles shape: (360, 1, 50)\n",
      "all_quantiles content: [[[28.406769 28.406769 28.308771 ... 35.23693  34.52263  34.01451 ]]\n",
      "\n",
      " [[28.360151 28.360151 28.27135  ... 35.211372 34.510612 34.015083]]\n",
      "\n",
      " [[28.31354  28.31354  28.233921 ... 35.186005 34.498215 34.015846]]\n",
      "\n",
      " ...\n",
      "\n",
      " [[23.979002 23.979002 24.752663 ... 32.82194  33.3539   34.087276]]\n",
      "\n",
      " [[23.979002 23.979002 24.752663 ... 32.82194  33.3539   34.087276]]\n",
      "\n",
      " [[23.979002 23.979002 24.752663 ... 32.82194  33.3539   34.087276]]]\n",
      "all_quantiles after squeezing shape: (360, 50)\n",
      "Error with cow SE-5c06d92d-2746, lactation 3: too many values to unpack (expected 2)\n"
     ]
    },
    {
     "name": "stderr",
     "output_type": "stream",
     "text": [
      "/Users/user/anaconda3/envs/GIGACOW/lib/python3.11/site-packages/torch/optim/lr_scheduler.py:60: UserWarning: The verbose parameter is deprecated. Please use get_last_lr() to access the learning rate.\n",
      "  warnings.warn(\n",
      "  8%|▊         | 174/2315 [01:04<14:12,  2.51 Segments/s]"
     ]
    },
    {
     "name": "stdout",
     "output_type": "stream",
     "text": [
      "all_quantiles shape: (112, 1, 50)\n",
      "all_quantiles content: [[[36.917747 36.917747 38.06194  ... 43.271828 43.52951  43.78929 ]]\n",
      "\n",
      " [[36.826714 36.826714 37.95767  ... 43.155476 43.410683 43.667984]]\n",
      "\n",
      " [[36.735676 36.735676 37.853394 ... 43.03932  43.291855 43.546673]]\n",
      "\n",
      " ...\n",
      "\n",
      " [[26.994669 26.994669 26.696646 ... 30.60503  30.580805 30.557537]]\n",
      "\n",
      " [[26.90364  26.90364  26.592361 ... 30.488873 30.461979 30.436134]]\n",
      "\n",
      " [[26.90364  26.90364  26.592361 ... 30.488873 30.461979 30.436134]]]\n",
      "all_quantiles after squeezing shape: (112, 50)\n",
      "Error with cow SE-5c06d92d-2747, lactation 3: too many values to unpack (expected 2)\n"
     ]
    },
    {
     "name": "stderr",
     "output_type": "stream",
     "text": [
      "/Users/user/anaconda3/envs/GIGACOW/lib/python3.11/site-packages/torch/optim/lr_scheduler.py:60: UserWarning: The verbose parameter is deprecated. Please use get_last_lr() to access the learning rate.\n",
      "  warnings.warn(\n",
      "  8%|▊         | 175/2315 [01:04<14:57,  2.39 Segments/s]"
     ]
    },
    {
     "name": "stdout",
     "output_type": "stream",
     "text": [
      "all_quantiles shape: (303, 1, 50)\n",
      "all_quantiles content: [[[35.084377 35.084377 38.53613  ... 56.833458 56.990814 57.11479 ]]\n",
      "\n",
      " [[35.113396 35.113396 38.62004  ... 57.190895 57.348633 57.471466]]\n",
      "\n",
      " [[35.107586 35.107586 38.603256 ... 57.11937  57.277298 57.39994 ]]\n",
      "\n",
      " ...\n",
      "\n",
      " [[33.360073 33.360073 33.552513 ... 35.60047  35.731316 35.92758 ]]\n",
      "\n",
      " [[33.35427  33.35427  33.53573  ... 35.528946 35.65979  35.856438]]\n",
      "\n",
      " [[33.336853 33.336853 33.48539  ... 35.31456  35.44483  35.642433]]]\n",
      "all_quantiles after squeezing shape: (303, 50)\n",
      "Error with cow SE-5c06d92d-2747, lactation 4: too many values to unpack (expected 2)\n"
     ]
    },
    {
     "name": "stderr",
     "output_type": "stream",
     "text": [
      "/Users/user/anaconda3/envs/GIGACOW/lib/python3.11/site-packages/torch/optim/lr_scheduler.py:60: UserWarning: The verbose parameter is deprecated. Please use get_last_lr() to access the learning rate.\n",
      "  warnings.warn(\n",
      "  8%|▊         | 176/2315 [01:05<14:27,  2.47 Segments/s]"
     ]
    },
    {
     "name": "stdout",
     "output_type": "stream",
     "text": [
      "all_quantiles shape: (141, 1, 50)\n",
      "all_quantiles content: [[[22.688246 22.688246 24.6763   ... 58.30288  57.712173 55.647087]]\n",
      "\n",
      " [[22.688246 22.688246 24.6763   ... 58.30288  57.712173 55.647087]]\n",
      "\n",
      " [[22.688246 22.688246 24.6763   ... 58.30288  57.712173 55.647087]]\n",
      "\n",
      " ...\n",
      "\n",
      " [[30.965946 30.965946 31.81894  ... 51.400944 52.632713 55.979538]]\n",
      "\n",
      " [[31.033241 31.033241 31.877016 ... 51.34468  52.5917   55.982014]]\n",
      "\n",
      " [[31.100557 31.100557 31.935072 ... 51.288605 52.550316 55.98488 ]]]\n",
      "all_quantiles after squeezing shape: (141, 50)\n",
      "Error with cow SE-5c06d92d-2747, lactation 5: too many values to unpack (expected 2)\n"
     ]
    },
    {
     "name": "stderr",
     "output_type": "stream",
     "text": [
      "/Users/user/anaconda3/envs/GIGACOW/lib/python3.11/site-packages/torch/optim/lr_scheduler.py:60: UserWarning: The verbose parameter is deprecated. Please use get_last_lr() to access the learning rate.\n",
      "  warnings.warn(\n",
      "  8%|▊         | 177/2315 [01:05<14:22,  2.48 Segments/s]"
     ]
    },
    {
     "name": "stdout",
     "output_type": "stream",
     "text": [
      "all_quantiles shape: (304, 1, 50)\n",
      "all_quantiles content: [[[42.31609  42.31609  43.924305 ... 65.867615 66.31527  66.85829 ]]\n",
      "\n",
      " [[42.40577  42.40577  44.004818 ... 66.00227  66.45031  66.993904]]\n",
      "\n",
      " [[42.31609  42.31609  43.924305 ... 65.867615 66.31527  66.85829 ]]\n",
      "\n",
      " ...\n",
      "\n",
      " [[14.335108 14.335108 18.801819 ... 23.872948 24.13883  24.499512]]\n",
      "\n",
      " [[14.335108 14.335108 18.801819 ... 23.872948 24.13883  24.499512]]\n",
      "\n",
      " [[14.335108 14.335108 18.801819 ... 23.872948 24.13883  24.499512]]]\n",
      "all_quantiles after squeezing shape: (304, 50)\n",
      "Error with cow SE-5c06d92d-2748, lactation 4: too many values to unpack (expected 2)\n"
     ]
    },
    {
     "name": "stderr",
     "output_type": "stream",
     "text": [
      "/Users/user/anaconda3/envs/GIGACOW/lib/python3.11/site-packages/torch/optim/lr_scheduler.py:60: UserWarning: The verbose parameter is deprecated. Please use get_last_lr() to access the learning rate.\n",
      "  warnings.warn(\n",
      "  8%|▊         | 178/2315 [01:05<14:13,  2.50 Segments/s]"
     ]
    },
    {
     "name": "stdout",
     "output_type": "stream",
     "text": [
      "all_quantiles shape: (243, 1, 50)\n",
      "all_quantiles content: [[[37.043953 37.043953 44.285633 ... 81.6534   82.21779  83.7677  ]]\n",
      "\n",
      " [[37.043953 37.043953 44.285633 ... 81.6534   82.21779  83.7677  ]]\n",
      "\n",
      " [[37.055325 37.055325 44.26458  ... 81.4825   82.045364 83.58879 ]]\n",
      "\n",
      " ...\n",
      "\n",
      " [[39.773296 39.773296 39.229965 ... 40.625572 40.759468 40.908813]]\n",
      "\n",
      " [[39.78467  39.78467  39.20889  ... 40.454674 40.586662 40.730286]]\n",
      "\n",
      " [[39.796043 39.796043 39.187836 ... 40.283775 40.413853 40.551567]]]\n",
      "all_quantiles after squeezing shape: (243, 50)\n",
      "Error with cow SE-5c06d92d-2748, lactation 5: too many values to unpack (expected 2)\n"
     ]
    },
    {
     "name": "stderr",
     "output_type": "stream",
     "text": [
      "/Users/user/anaconda3/envs/GIGACOW/lib/python3.11/site-packages/torch/optim/lr_scheduler.py:60: UserWarning: The verbose parameter is deprecated. Please use get_last_lr() to access the learning rate.\n",
      "  warnings.warn(\n",
      "  8%|▊         | 179/2315 [01:06<12:53,  2.76 Segments/s]"
     ]
    },
    {
     "name": "stdout",
     "output_type": "stream",
     "text": [
      "all_quantiles shape: (23, 1, 50)\n",
      "all_quantiles content: [[[24.546598 24.546598 24.549204 ... 25.519943 25.52366  25.527287]]\n",
      "\n",
      " [[23.744244 23.744244 23.746752 ... 25.426579 25.430868 25.43516 ]]\n",
      "\n",
      " [[22.941893 22.941893 22.944307 ... 25.333307 25.338173 25.342941]]\n",
      "\n",
      " ...\n",
      "\n",
      " [[10.104227 10.104227 10.105156 ... 23.839474 23.85473  23.868465]]\n",
      "\n",
      " [[10.104227 10.104227 10.105156 ... 23.839474 23.85473  23.868465]]\n",
      "\n",
      " [[10.104227 10.104227 10.105156 ... 23.839474 23.85473  23.868465]]]\n",
      "all_quantiles after squeezing shape: (23, 50)\n",
      "Error with cow SE-5c06d92d-2754, lactation 3: too many values to unpack (expected 2)\n"
     ]
    },
    {
     "name": "stderr",
     "output_type": "stream",
     "text": [
      "/Users/user/anaconda3/envs/GIGACOW/lib/python3.11/site-packages/torch/optim/lr_scheduler.py:60: UserWarning: The verbose parameter is deprecated. Please use get_last_lr() to access the learning rate.\n",
      "  warnings.warn(\n",
      "  8%|▊         | 180/2315 [01:06<13:29,  2.64 Segments/s]"
     ]
    },
    {
     "name": "stdout",
     "output_type": "stream",
     "text": [
      "all_quantiles shape: (347, 1, 50)\n",
      "all_quantiles content: [[[15.212655 15.212655 22.946238 ... 54.126358 54.548645 54.99344 ]]\n",
      "\n",
      " [[15.138138 15.138138 22.927568 ... 54.32892  54.753876 55.200764]]\n",
      "\n",
      " [[15.212655 15.212655 22.946238 ... 54.126358 54.548645 54.99344 ]]\n",
      "\n",
      " ...\n",
      "\n",
      " [[23.782299 23.782299 25.091469 ... 30.79815  30.973623 31.162739]]\n",
      "\n",
      " [[23.80713  23.80713  25.09769  ... 30.730627 30.905247 31.093693]]\n",
      "\n",
      " [[23.83197  23.83197  25.103914 ... 30.663013 30.836868 31.024647]]]\n",
      "all_quantiles after squeezing shape: (347, 50)\n",
      "Error with cow SE-5c06d92d-2754, lactation 4: too many values to unpack (expected 2)\n"
     ]
    },
    {
     "name": "stderr",
     "output_type": "stream",
     "text": [
      "/Users/user/anaconda3/envs/GIGACOW/lib/python3.11/site-packages/torch/optim/lr_scheduler.py:60: UserWarning: The verbose parameter is deprecated. Please use get_last_lr() to access the learning rate.\n",
      "  warnings.warn(\n",
      "  8%|▊         | 181/2315 [01:06<13:56,  2.55 Segments/s]"
     ]
    },
    {
     "name": "stdout",
     "output_type": "stream",
     "text": [
      "all_quantiles shape: (267, 1, 50)\n",
      "all_quantiles content: [[[42.580925 42.580925 42.492565 ... 51.589966 51.86577  52.81715 ]]\n",
      "\n",
      " [[42.409264 42.409264 42.334137 ... 51.542473 51.81713  52.763744]]\n",
      "\n",
      " [[42.237617 42.237617 42.175697 ... 51.49479  51.768684 52.710533]]\n",
      "\n",
      " ...\n",
      "\n",
      " [[11.68363  11.68363  13.97326  ... 43.01834  43.14003  43.205833]]\n",
      "\n",
      " [[11.68363  11.68363  13.97326  ... 43.01834  43.14003  43.205833]]\n",
      "\n",
      " [[11.68363  11.68363  13.97326  ... 43.01834  43.14003  43.205833]]]\n",
      "all_quantiles after squeezing shape: (267, 50)\n",
      "Error with cow SE-5c06d92d-2756, lactation 3: too many values to unpack (expected 2)\n"
     ]
    },
    {
     "name": "stderr",
     "output_type": "stream",
     "text": [
      "/Users/user/anaconda3/envs/GIGACOW/lib/python3.11/site-packages/torch/optim/lr_scheduler.py:60: UserWarning: The verbose parameter is deprecated. Please use get_last_lr() to access the learning rate.\n",
      "  warnings.warn(\n",
      "  8%|▊         | 182/2315 [01:07<13:42,  2.59 Segments/s]"
     ]
    },
    {
     "name": "stdout",
     "output_type": "stream",
     "text": [
      "all_quantiles shape: (160, 1, 50)\n",
      "all_quantiles content: [[[38.514565   38.514565   40.250896   ... 69.11144    69.14196\n",
      "   68.45112   ]]\n",
      "\n",
      " [[38.514565   38.514565   40.250896   ... 69.11144    69.14196\n",
      "   68.45112   ]]\n",
      "\n",
      " [[38.398552   38.398552   40.133404   ... 69.00787    69.03973\n",
      "   68.36605   ]]\n",
      "\n",
      " ...\n",
      "\n",
      " [[-1.4076232  -1.4076232  -0.15301704 ... 33.472157   33.987236\n",
      "   39.12115   ]]\n",
      "\n",
      " [[-1.5236378  -1.5236378  -0.27050972 ... 33.368492   33.885098\n",
      "   39.035797  ]]\n",
      "\n",
      " [[-1.6396999  -1.6396999  -0.38790703 ... 33.264923   33.78296\n",
      "   38.95054   ]]]\n",
      "all_quantiles after squeezing shape: (160, 50)\n",
      "Error with cow SE-5c06d92d-2756, lactation 4: too many values to unpack (expected 2)\n"
     ]
    },
    {
     "name": "stderr",
     "output_type": "stream",
     "text": [
      "/Users/user/anaconda3/envs/GIGACOW/lib/python3.11/site-packages/torch/optim/lr_scheduler.py:60: UserWarning: The verbose parameter is deprecated. Please use get_last_lr() to access the learning rate.\n",
      "  warnings.warn(\n",
      "  8%|▊         | 183/2315 [01:07<13:09,  2.70 Segments/s]"
     ]
    },
    {
     "name": "stdout",
     "output_type": "stream",
     "text": [
      "all_quantiles shape: (91, 1, 50)\n",
      "all_quantiles content: [[[34.93259  34.93259  34.78725  ... 35.77137  35.757256 35.746956]]\n",
      "\n",
      " [[34.764923 34.764923 34.643723 ... 35.690308 35.67772  35.668755]]\n",
      "\n",
      " [[34.597244 34.597244 34.5002   ... 35.609245 35.598373 35.590363]]\n",
      "\n",
      " ...\n",
      "\n",
      " [[20.177626 20.177626 22.156977 ... 28.641415 28.766918 28.847216]]\n",
      "\n",
      " [[20.177626 20.177626 22.156977 ... 28.641415 28.766918 28.847216]]\n",
      "\n",
      " [[20.177626 20.177626 22.156977 ... 28.641415 28.766918 28.847216]]]\n",
      "all_quantiles after squeezing shape: (91, 50)\n",
      "Error with cow SE-5c06d92d-2757, lactation 3: too many values to unpack (expected 2)\n"
     ]
    },
    {
     "name": "stderr",
     "output_type": "stream",
     "text": [
      "/Users/user/anaconda3/envs/GIGACOW/lib/python3.11/site-packages/torch/optim/lr_scheduler.py:60: UserWarning: The verbose parameter is deprecated. Please use get_last_lr() to access the learning rate.\n",
      "  warnings.warn(\n",
      "  8%|▊         | 184/2315 [01:08<13:47,  2.57 Segments/s]"
     ]
    },
    {
     "name": "stdout",
     "output_type": "stream",
     "text": [
      "all_quantiles shape: (284, 1, 50)\n",
      "all_quantiles content: [[[45.391796 45.391796 45.930576 ... 55.980682 56.459614 57.013893]]\n",
      "\n",
      " [[46.666412 46.666412 47.091682 ... 57.38716  57.88269  58.45909 ]]\n",
      "\n",
      " [[46.470314 46.470314 46.91305  ... 57.170673 57.663727 58.236694]]\n",
      "\n",
      " ...\n",
      "\n",
      " [[18.52684  18.52684  21.457933 ... 26.338196 26.463985 26.55754 ]]\n",
      "\n",
      " [[18.52684  18.52684  21.457933 ... 26.338196 26.463985 26.55754 ]]\n",
      "\n",
      " [[18.52684  18.52684  21.457933 ... 26.338196 26.463985 26.55754 ]]]\n",
      "all_quantiles after squeezing shape: (284, 50)\n",
      "Error with cow SE-5c06d92d-2757, lactation 4: too many values to unpack (expected 2)\n"
     ]
    },
    {
     "name": "stderr",
     "output_type": "stream",
     "text": [
      "/Users/user/anaconda3/envs/GIGACOW/lib/python3.11/site-packages/torch/optim/lr_scheduler.py:60: UserWarning: The verbose parameter is deprecated. Please use get_last_lr() to access the learning rate.\n",
      "  warnings.warn(\n",
      "  8%|▊         | 185/2315 [01:08<13:34,  2.62 Segments/s]"
     ]
    },
    {
     "name": "stdout",
     "output_type": "stream",
     "text": [
      "all_quantiles shape: (164, 1, 50)\n",
      "all_quantiles content: [[[36.082554 36.082554 39.433243 ... 56.54831  56.718063 56.974216]]\n",
      "\n",
      " [[36.082554 36.082554 39.433243 ... 56.54831  56.718063 56.974216]]\n",
      "\n",
      " [[36.082554 36.082554 39.433243 ... 56.54831  56.718063 56.974216]]\n",
      "\n",
      " ...\n",
      "\n",
      " [[41.367374 41.367374 41.142223 ... 41.407776 41.908455 42.2451  ]]\n",
      "\n",
      " [[41.41035  41.41035  41.156113 ... 41.28456  41.788292 42.12513 ]]\n",
      "\n",
      " [[41.453304 41.453304 41.17002  ... 41.161537 41.667744 42.00554 ]]]\n",
      "all_quantiles after squeezing shape: (164, 50)\n",
      "Error with cow SE-5c06d92d-2757, lactation 5: too many values to unpack (expected 2)\n"
     ]
    },
    {
     "name": "stderr",
     "output_type": "stream",
     "text": [
      "/Users/user/anaconda3/envs/GIGACOW/lib/python3.11/site-packages/torch/optim/lr_scheduler.py:60: UserWarning: The verbose parameter is deprecated. Please use get_last_lr() to access the learning rate.\n",
      "  warnings.warn(\n",
      "  8%|▊         | 186/2315 [01:08<14:13,  2.50 Segments/s]"
     ]
    },
    {
     "name": "stdout",
     "output_type": "stream",
     "text": [
      "all_quantiles shape: (327, 1, 50)\n",
      "all_quantiles content: [[[41.011604 41.011604 41.862667 ... 47.581097 47.322464 47.165295]]\n",
      "\n",
      " [[40.89456  40.89456  41.745613 ... 47.525024 47.273445 47.120667]]\n",
      "\n",
      " [[40.777496 40.777496 41.628574 ... 47.46914  47.224426 47.07603 ]]\n",
      "\n",
      " ...\n",
      "\n",
      " [[22.048258 22.048258 22.901594 ... 38.52749  39.36863  39.932438]]\n",
      "\n",
      " [[22.048258 22.048258 22.901594 ... 38.52749  39.36863  39.932438]]\n",
      "\n",
      " [[22.048258 22.048258 22.901594 ... 38.52749  39.36863  39.932438]]]\n",
      "all_quantiles after squeezing shape: (327, 50)\n",
      "Error with cow SE-5c06d92d-2761, lactation 3: too many values to unpack (expected 2)\n"
     ]
    },
    {
     "name": "stderr",
     "output_type": "stream",
     "text": [
      "/Users/user/anaconda3/envs/GIGACOW/lib/python3.11/site-packages/torch/optim/lr_scheduler.py:60: UserWarning: The verbose parameter is deprecated. Please use get_last_lr() to access the learning rate.\n",
      "  warnings.warn(\n",
      "  8%|▊         | 187/2315 [01:09<13:52,  2.56 Segments/s]"
     ]
    },
    {
     "name": "stdout",
     "output_type": "stream",
     "text": [
      "all_quantiles shape: (80, 1, 50)\n",
      "all_quantiles content: [[[28.121418 28.121418 28.086477 ... 28.522776 28.498268 28.460026]]\n",
      "\n",
      " [[27.876019 27.876019 27.850603 ... 28.441618 28.418732 28.3823  ]]\n",
      "\n",
      " [[27.630621 27.630621 27.614725 ... 28.360367 28.339193 28.304768]]\n",
      "\n",
      " ...\n",
      "\n",
      " [[ 9.961795  9.961795 10.631871 ... 22.510815 22.611332 22.718525]]\n",
      "\n",
      " [[ 9.961795  9.961795 10.631871 ... 22.510815 22.611332 22.718525]]\n",
      "\n",
      " [[ 9.961795  9.961795 10.631871 ... 22.510815 22.611332 22.718525]]]\n",
      "all_quantiles after squeezing shape: (80, 50)\n",
      "Error with cow SE-5c06d92d-2762, lactation 3: too many values to unpack (expected 2)\n"
     ]
    },
    {
     "name": "stderr",
     "output_type": "stream",
     "text": [
      "/Users/user/anaconda3/envs/GIGACOW/lib/python3.11/site-packages/torch/optim/lr_scheduler.py:60: UserWarning: The verbose parameter is deprecated. Please use get_last_lr() to access the learning rate.\n",
      "  warnings.warn(\n",
      "  8%|▊         | 188/2315 [01:09<14:10,  2.50 Segments/s]"
     ]
    },
    {
     "name": "stdout",
     "output_type": "stream",
     "text": [
      "all_quantiles shape: (287, 1, 50)\n",
      "all_quantiles content: [[[34.386017 34.386017 38.885284 ... 67.38911  67.59014  67.81273 ]]\n",
      "\n",
      " [[34.40517  34.40517  38.893196 ... 67.32521  67.526245 67.74883 ]]\n",
      "\n",
      " [[34.42434  34.42434  38.90109  ... 67.261314 67.46254  67.68494 ]]\n",
      "\n",
      " ...\n",
      "\n",
      " [[40.077507 40.077507 41.232384 ... 48.446846 48.64845  48.80905 ]]\n",
      "\n",
      " [[40.096664 40.096664 41.240288 ... 48.38295  48.584747 48.74496 ]]\n",
      "\n",
      " [[40.15416  40.15416  41.263996 ... 48.19164  48.39344  48.55308 ]]]\n",
      "all_quantiles after squeezing shape: (287, 50)\n",
      "Error with cow SE-5c06d92d-2762, lactation 4: too many values to unpack (expected 2)\n"
     ]
    },
    {
     "name": "stderr",
     "output_type": "stream",
     "text": [
      "/Users/user/anaconda3/envs/GIGACOW/lib/python3.11/site-packages/torch/optim/lr_scheduler.py:60: UserWarning: The verbose parameter is deprecated. Please use get_last_lr() to access the learning rate.\n",
      "  warnings.warn(\n",
      "  8%|▊         | 189/2315 [01:10<13:53,  2.55 Segments/s]"
     ]
    },
    {
     "name": "stdout",
     "output_type": "stream",
     "text": [
      "all_quantiles shape: (136, 1, 50)\n",
      "all_quantiles content: [[[32.23841  32.23841  32.93276  ... 53.595734 52.56653  51.815987]]\n",
      "\n",
      " [[32.23841  32.23841  32.93276  ... 53.595734 52.56653  51.815987]]\n",
      "\n",
      " [[32.23841  32.23841  32.93276  ... 53.595734 52.56653  51.815987]]\n",
      "\n",
      " ...\n",
      "\n",
      " [[54.85176  54.85176  55.462452 ... 65.37018  68.42041  71.622086]]\n",
      "\n",
      " [[55.0356   55.0356   55.64563  ... 65.46593  68.54935  71.783066]]\n",
      "\n",
      " [[55.219456 55.219456 55.828808 ... 65.561485 68.678474 71.943855]]]\n",
      "all_quantiles after squeezing shape: (136, 50)\n",
      "Error with cow SE-5c06d92d-2762, lactation 5: too many values to unpack (expected 2)\n"
     ]
    },
    {
     "name": "stderr",
     "output_type": "stream",
     "text": [
      "/Users/user/anaconda3/envs/GIGACOW/lib/python3.11/site-packages/torch/optim/lr_scheduler.py:60: UserWarning: The verbose parameter is deprecated. Please use get_last_lr() to access the learning rate.\n",
      "  warnings.warn(\n",
      "  8%|▊         | 190/2315 [01:10<13:43,  2.58 Segments/s]"
     ]
    },
    {
     "name": "stdout",
     "output_type": "stream",
     "text": [
      "all_quantiles shape: (77, 1, 50)\n",
      "all_quantiles content: [[[35.50498  35.50498  37.4803   ... 41.283417 41.33835  41.412544]]\n",
      "\n",
      " [[35.377968 35.377968 37.35288  ... 41.177174 41.236115 41.313744]]\n",
      "\n",
      " [[35.25096  35.25096  37.225445 ... 41.07094  41.133877 41.21494 ]]\n",
      "\n",
      " ...\n",
      "\n",
      " [[26.106274 26.106274 28.050638 ... 33.420372 33.77323  34.105873]]\n",
      "\n",
      " [[26.106274 26.106274 28.050638 ... 33.420372 33.77323  34.105873]]\n",
      "\n",
      " [[26.106274 26.106274 28.050638 ... 33.420372 33.77323  34.105873]]]\n",
      "all_quantiles after squeezing shape: (77, 50)\n",
      "Error with cow SE-5c06d92d-2764, lactation 3: too many values to unpack (expected 2)\n"
     ]
    },
    {
     "name": "stderr",
     "output_type": "stream",
     "text": [
      "/Users/user/anaconda3/envs/GIGACOW/lib/python3.11/site-packages/torch/optim/lr_scheduler.py:60: UserWarning: The verbose parameter is deprecated. Please use get_last_lr() to access the learning rate.\n",
      "  warnings.warn(\n",
      "  8%|▊         | 191/2315 [01:10<13:57,  2.54 Segments/s]"
     ]
    },
    {
     "name": "stdout",
     "output_type": "stream",
     "text": [
      "all_quantiles shape: (346, 1, 50)\n",
      "all_quantiles content: [[[15.884327 15.884327 18.72983  ... 61.19041  61.501503 62.053295]]\n",
      "\n",
      " [[14.876223 14.876223 18.001795 ... 64.185524 64.51187  65.10544 ]]\n",
      "\n",
      " [[14.906764 14.906764 18.02385  ... 64.094925 64.42051  65.01293 ]]\n",
      "\n",
      " ...\n",
      "\n",
      " [[25.568521 25.568521 25.723015 ... 32.420826 32.58238  32.735443]]\n",
      "\n",
      " [[25.568521 25.568521 25.723015 ... 32.420826 32.58238  32.735443]]\n",
      "\n",
      " [[25.568521 25.568521 25.723015 ... 32.420826 32.58238  32.735443]]]\n",
      "all_quantiles after squeezing shape: (346, 50)\n",
      "Error with cow SE-5c06d92d-2764, lactation 4: too many values to unpack (expected 2)\n"
     ]
    },
    {
     "name": "stderr",
     "output_type": "stream",
     "text": [
      "/Users/user/anaconda3/envs/GIGACOW/lib/python3.11/site-packages/torch/optim/lr_scheduler.py:60: UserWarning: The verbose parameter is deprecated. Please use get_last_lr() to access the learning rate.\n",
      "  warnings.warn(\n",
      "  8%|▊         | 192/2315 [01:11<13:57,  2.54 Segments/s]"
     ]
    },
    {
     "name": "stdout",
     "output_type": "stream",
     "text": [
      "all_quantiles shape: (81, 1, 50)\n",
      "all_quantiles content: [[[36.12637  36.12637  36.634193 ... 38.77487  38.809395 38.83152 ]]\n",
      "\n",
      " [[35.802513 35.802513 36.30858  ... 38.666916 38.70125  38.723373]]\n",
      "\n",
      " [[35.478664 35.478664 35.982967 ... 38.55896  38.5931   38.615227]]\n",
      "\n",
      " ...\n",
      "\n",
      " [[12.161231 12.161231 12.538707 ... 30.785845 30.807495 30.827904]]\n",
      "\n",
      " [[12.161231 12.161231 12.538707 ... 30.785845 30.807495 30.827904]]\n",
      "\n",
      " [[12.161231 12.161231 12.538707 ... 30.785845 30.807495 30.827904]]]\n",
      "all_quantiles after squeezing shape: (81, 50)\n",
      "Error with cow SE-5c06d92d-2768, lactation 3: too many values to unpack (expected 2)\n"
     ]
    },
    {
     "name": "stderr",
     "output_type": "stream",
     "text": [
      "/Users/user/anaconda3/envs/GIGACOW/lib/python3.11/site-packages/torch/optim/lr_scheduler.py:60: UserWarning: The verbose parameter is deprecated. Please use get_last_lr() to access the learning rate.\n",
      "  warnings.warn(\n",
      "  8%|▊         | 193/2315 [01:11<17:52,  1.98 Segments/s]"
     ]
    },
    {
     "name": "stdout",
     "output_type": "stream",
     "text": [
      "all_quantiles shape: (301, 1, 50)\n",
      "all_quantiles content: [[[26.964558 26.964558 29.589985 ... 54.003902 54.33769  54.90341 ]]\n",
      "\n",
      " [[26.960527 26.960527 29.577995 ... 53.92265  54.256245 54.821396]]\n",
      "\n",
      " [[26.779245 26.779245 29.038536 ... 50.263023 50.5846   51.1383  ]]\n",
      "\n",
      " ...\n",
      "\n",
      " [[25.764084 25.764084 26.017582 ... 29.770277 30.023956 30.512142]]\n",
      "\n",
      " [[25.760048 25.760048 26.005602 ... 29.688833 29.942322 30.43041 ]]\n",
      "\n",
      " [[25.760048 25.760048 26.005602 ... 29.688833 29.942322 30.43041 ]]]\n",
      "all_quantiles after squeezing shape: (301, 50)\n",
      "Error with cow SE-5c06d92d-2768, lactation 4: too many values to unpack (expected 2)\n"
     ]
    },
    {
     "name": "stderr",
     "output_type": "stream",
     "text": [
      "/Users/user/anaconda3/envs/GIGACOW/lib/python3.11/site-packages/torch/optim/lr_scheduler.py:60: UserWarning: The verbose parameter is deprecated. Please use get_last_lr() to access the learning rate.\n",
      "  warnings.warn(\n",
      "  8%|▊         | 194/2315 [01:12<18:16,  1.93 Segments/s]"
     ]
    },
    {
     "name": "stdout",
     "output_type": "stream",
     "text": [
      "all_quantiles shape: (192, 1, 50)\n",
      "all_quantiles content: [[[33.36962  33.36962  36.1596   ... 47.807884 47.85824  47.89562 ]]\n",
      "\n",
      " [[33.36962  33.36962  36.1596   ... 47.807884 47.85824  47.89562 ]]\n",
      "\n",
      " [[33.36962  33.36962  36.1596   ... 47.807884 47.85824  47.89562 ]]\n",
      "\n",
      " ...\n",
      "\n",
      " [[36.942177 36.942177 36.908604 ... 40.613743 40.888405 41.315075]]\n",
      "\n",
      " [[36.97122  36.97122  36.914692 ... 40.55519  40.831757 41.261673]]\n",
      "\n",
      " [[37.00026  37.00026  36.920784 ... 40.496635 40.77511  41.208076]]]\n",
      "all_quantiles after squeezing shape: (192, 50)\n",
      "Error with cow SE-5c06d92d-2768, lactation 5: too many values to unpack (expected 2)\n"
     ]
    },
    {
     "name": "stderr",
     "output_type": "stream",
     "text": [
      "/Users/user/anaconda3/envs/GIGACOW/lib/python3.11/site-packages/torch/optim/lr_scheduler.py:60: UserWarning: The verbose parameter is deprecated. Please use get_last_lr() to access the learning rate.\n",
      "  warnings.warn(\n",
      "  8%|▊         | 195/2315 [01:13<18:35,  1.90 Segments/s]"
     ]
    },
    {
     "name": "stdout",
     "output_type": "stream",
     "text": [
      "all_quantiles shape: (275, 1, 50)\n",
      "all_quantiles content: [[[56.09624  56.09624  56.308792 ... 66.64314  67.8854   69.462776]]\n",
      "\n",
      " [[55.963932 55.963932 56.18887  ... 66.53786  67.775345 69.34662 ]]\n",
      "\n",
      " [[55.83161  55.83161  56.06896  ... 66.43257  67.66548  69.23027 ]]\n",
      "\n",
      " ...\n",
      "\n",
      " [[20.503223 20.503223 24.050402 ... 38.31787  38.27572  38.22651 ]]\n",
      "\n",
      " [[20.503223 20.503223 24.050402 ... 38.31787  38.27572  38.22651 ]]\n",
      "\n",
      " [[20.503223 20.503223 24.050402 ... 38.31787  38.27572  38.22651 ]]]\n",
      "all_quantiles after squeezing shape: (275, 50)\n",
      "Error with cow SE-5c06d92d-2769, lactation 3: too many values to unpack (expected 2)\n"
     ]
    },
    {
     "name": "stderr",
     "output_type": "stream",
     "text": [
      "/Users/user/anaconda3/envs/GIGACOW/lib/python3.11/site-packages/torch/optim/lr_scheduler.py:60: UserWarning: The verbose parameter is deprecated. Please use get_last_lr() to access the learning rate.\n",
      "  warnings.warn(\n",
      "  8%|▊         | 196/2315 [01:13<17:42,  1.99 Segments/s]"
     ]
    },
    {
     "name": "stdout",
     "output_type": "stream",
     "text": [
      "all_quantiles shape: (344, 1, 50)\n",
      "all_quantiles content: [[[42.726757 42.726757 48.396313 ... 67.80357  68.59589  69.06719 ]]\n",
      "\n",
      " [[42.726757 42.726757 48.396313 ... 67.80357  68.59589  69.06719 ]]\n",
      "\n",
      " [[42.673325 42.673325 48.33114  ... 67.72575  68.51807  68.99319 ]]\n",
      "\n",
      " ...\n",
      "\n",
      " [[24.66166  24.66166  26.370012 ... 41.487118 42.360687 43.918224]]\n",
      "\n",
      " [[24.66166  24.66166  26.370012 ... 41.487118 42.360687 43.918224]]\n",
      "\n",
      " [[24.66166  24.66166  26.370012 ... 41.487118 42.360687 43.918224]]]\n",
      "all_quantiles after squeezing shape: (344, 50)\n",
      "Error with cow SE-5c06d92d-2769, lactation 4: too many values to unpack (expected 2)\n"
     ]
    },
    {
     "name": "stderr",
     "output_type": "stream",
     "text": [
      "/Users/user/anaconda3/envs/GIGACOW/lib/python3.11/site-packages/torch/optim/lr_scheduler.py:60: UserWarning: The verbose parameter is deprecated. Please use get_last_lr() to access the learning rate.\n",
      "  warnings.warn(\n",
      "  9%|▊         | 197/2315 [01:13<16:23,  2.15 Segments/s]"
     ]
    },
    {
     "name": "stdout",
     "output_type": "stream",
     "text": [
      "all_quantiles shape: (202, 1, 50)\n",
      "all_quantiles content: [[[41.83119  41.83119  42.7551   ... 52.321815 52.239605 52.161026]]\n",
      "\n",
      " [[41.711674 41.711674 42.65556  ... 52.267643 52.18811  52.114296]]\n",
      "\n",
      " [[41.592167 41.592167 42.556023 ... 52.213478 52.13642  52.067562]]\n",
      "\n",
      " ...\n",
      "\n",
      " [[17.093515 17.093515 22.149324 ... 41.073418 41.589165 42.481804]]\n",
      "\n",
      " [[17.093515 17.093515 22.149324 ... 41.073418 41.589165 42.481804]]\n",
      "\n",
      " [[17.093515 17.093515 22.149324 ... 41.073418 41.589165 42.481804]]]\n",
      "all_quantiles after squeezing shape: (202, 50)\n",
      "Error with cow SE-5c06d92d-2775, lactation 3: too many values to unpack (expected 2)\n"
     ]
    },
    {
     "name": "stderr",
     "output_type": "stream",
     "text": [
      "/Users/user/anaconda3/envs/GIGACOW/lib/python3.11/site-packages/torch/optim/lr_scheduler.py:60: UserWarning: The verbose parameter is deprecated. Please use get_last_lr() to access the learning rate.\n",
      "  warnings.warn(\n",
      "  9%|▊         | 198/2315 [01:14<15:44,  2.24 Segments/s]"
     ]
    },
    {
     "name": "stdout",
     "output_type": "stream",
     "text": [
      "all_quantiles shape: (292, 1, 50)\n",
      "all_quantiles content: [[[17.575968 17.575968 25.216722 ... 58.66203  58.773994 58.96473 ]]\n",
      "\n",
      " [[17.575968 17.575968 25.216722 ... 58.66203  58.773994 58.96473 ]]\n",
      "\n",
      " [[17.585182 17.585182 25.169945 ... 58.375736 58.49743  58.71887 ]]\n",
      "\n",
      " ...\n",
      "\n",
      " [[18.38156  18.38156  21.125996 ... 33.598614 34.560013 37.447548]]\n",
      "\n",
      " [[18.383848 18.383848 21.1143   ... 33.52709  34.490776 37.38613 ]]\n",
      "\n",
      " [[18.386162 18.386162 21.10262  ... 33.455467 34.42154  37.324715]]]\n",
      "all_quantiles after squeezing shape: (292, 50)\n",
      "Error with cow SE-5c06d92d-2775, lactation 4: too many values to unpack (expected 2)\n"
     ]
    },
    {
     "name": "stderr",
     "output_type": "stream",
     "text": [
      "/Users/user/anaconda3/envs/GIGACOW/lib/python3.11/site-packages/torch/optim/lr_scheduler.py:60: UserWarning: The verbose parameter is deprecated. Please use get_last_lr() to access the learning rate.\n",
      "  warnings.warn(\n",
      "  9%|▊         | 199/2315 [01:14<15:51,  2.22 Segments/s]"
     ]
    },
    {
     "name": "stdout",
     "output_type": "stream",
     "text": [
      "all_quantiles shape: (404, 1, 50)\n",
      "all_quantiles content: [[[47.294678 47.294678 47.599636 ... 51.0067   51.115417 51.294518]]\n",
      "\n",
      " [[47.199192 47.199192 47.507404 ... 50.97294  51.08223  51.261517]]\n",
      "\n",
      " [[47.1037   47.1037   47.41516  ... 50.93918  51.049232 51.228138]]\n",
      "\n",
      " ...\n",
      "\n",
      " [[31.25175  31.25175  32.10349  ... 45.314407 45.564266 45.715332]]\n",
      "\n",
      " [[31.25175  31.25175  32.10349  ... 45.314407 45.564266 45.715332]]\n",
      "\n",
      " [[31.25175  31.25175  32.10349  ... 45.314407 45.564266 45.715332]]]\n",
      "all_quantiles after squeezing shape: (404, 50)\n",
      "Error with cow SE-5c06d92d-2776, lactation 3: too many values to unpack (expected 2)\n"
     ]
    },
    {
     "name": "stderr",
     "output_type": "stream",
     "text": [
      "/Users/user/anaconda3/envs/GIGACOW/lib/python3.11/site-packages/torch/optim/lr_scheduler.py:60: UserWarning: The verbose parameter is deprecated. Please use get_last_lr() to access the learning rate.\n",
      "  warnings.warn(\n",
      "  9%|▊         | 200/2315 [01:15<15:10,  2.32 Segments/s]"
     ]
    },
    {
     "name": "stdout",
     "output_type": "stream",
     "text": [
      "all_quantiles shape: (210, 1, 50)\n",
      "all_quantiles content: [[[28.901434 28.901434 32.890415 ... 74.92905  75.41523  75.97542 ]]\n",
      "\n",
      " [[28.901434 28.901434 32.890415 ... 74.92905  75.41523  75.97542 ]]\n",
      "\n",
      " [[28.970646 28.970646 32.942055 ... 74.790764 75.27561  75.834656]]\n",
      "\n",
      " ...\n",
      "\n",
      " [[43.23668  43.23668  43.574154 ... 46.33026  46.531483 46.813007]]\n",
      "\n",
      " [[43.305927 43.305927 43.62577  ... 46.19217  46.39187  46.67225 ]]\n",
      "\n",
      " [[43.37518  43.37518  43.67739  ... 46.054077 46.25244  46.531292]]]\n",
      "all_quantiles after squeezing shape: (210, 50)\n",
      "Error with cow SE-5c06d92d-2776, lactation 4: too many values to unpack (expected 2)\n"
     ]
    },
    {
     "name": "stderr",
     "output_type": "stream",
     "text": [
      "/Users/user/anaconda3/envs/GIGACOW/lib/python3.11/site-packages/torch/optim/lr_scheduler.py:60: UserWarning: The verbose parameter is deprecated. Please use get_last_lr() to access the learning rate.\n",
      "  warnings.warn(\n",
      "  9%|▊         | 201/2315 [01:15<14:46,  2.39 Segments/s]"
     ]
    },
    {
     "name": "stdout",
     "output_type": "stream",
     "text": [
      "all_quantiles shape: (173, 1, 50)\n",
      "all_quantiles content: [[[43.491444 43.491444 43.68161  ... 50.046154 50.12493  51.12667 ]]\n",
      "\n",
      " [[43.431396 43.431396 43.628086 ... 50.001717 50.081825 51.0746  ]]\n",
      "\n",
      " [[43.37133  43.37133  43.57458  ... 49.957275 50.03872  51.02272 ]]\n",
      "\n",
      " ...\n",
      "\n",
      " [[33.22277  33.22277  34.529446 ... 42.44003  42.76848  42.235943]]\n",
      "\n",
      " [[33.162724 33.162724 34.47592  ... 42.39559  42.72518  42.184067]]\n",
      "\n",
      " [[33.162724 33.162724 34.47592  ... 42.39559  42.72518  42.184067]]]\n",
      "all_quantiles after squeezing shape: (173, 50)\n",
      "Error with cow SE-5c06d92d-2778, lactation 3: too many values to unpack (expected 2)\n"
     ]
    },
    {
     "name": "stderr",
     "output_type": "stream",
     "text": [
      "/Users/user/anaconda3/envs/GIGACOW/lib/python3.11/site-packages/torch/optim/lr_scheduler.py:60: UserWarning: The verbose parameter is deprecated. Please use get_last_lr() to access the learning rate.\n",
      "  warnings.warn(\n",
      "  9%|▊         | 202/2315 [01:15<14:53,  2.36 Segments/s]"
     ]
    },
    {
     "name": "stdout",
     "output_type": "stream",
     "text": [
      "all_quantiles shape: (299, 1, 50)\n",
      "all_quantiles content: [[[33.469284 33.469284 37.68146  ... 59.853172 59.92012  60.008812]]\n",
      "\n",
      " [[33.396458 33.396458 37.74307  ... 60.472298 60.534477 60.617825]]\n",
      "\n",
      " [[33.403732 33.403732 37.736916 ... 60.4105   60.47306  60.556984]]\n",
      "\n",
      " ...\n",
      "\n",
      " [[35.566677 35.566677 35.907185 ... 42.022324 42.219162 42.472267]]\n",
      "\n",
      " [[35.566677 35.566677 35.907185 ... 42.022324 42.219162 42.472267]]\n",
      "\n",
      " [[35.566677 35.566677 35.907185 ... 42.022324 42.219162 42.472267]]]\n",
      "all_quantiles after squeezing shape: (299, 50)\n",
      "Error with cow SE-5c06d92d-2778, lactation 4: too many values to unpack (expected 2)\n"
     ]
    },
    {
     "name": "stderr",
     "output_type": "stream",
     "text": [
      "/Users/user/anaconda3/envs/GIGACOW/lib/python3.11/site-packages/torch/optim/lr_scheduler.py:60: UserWarning: The verbose parameter is deprecated. Please use get_last_lr() to access the learning rate.\n",
      "  warnings.warn(\n",
      "  9%|▉         | 203/2315 [01:16<14:05,  2.50 Segments/s]"
     ]
    },
    {
     "name": "stdout",
     "output_type": "stream",
     "text": [
      "all_quantiles shape: (91, 1, 50)\n",
      "all_quantiles content: [[[34.1609   34.1609   34.532116 ... 55.327988 56.14967  57.0219  ]]\n",
      "\n",
      " [[34.34472  34.34472  34.714005 ... 55.29632  56.103706 56.96106 ]]\n",
      "\n",
      " [[34.52854  34.52854  34.895897 ... 55.264473 56.05774  56.900215]]\n",
      "\n",
      " ...\n",
      "\n",
      " [[50.336872 50.336872 50.538265 ... 52.530857 52.11315  51.659775]]\n",
      "\n",
      " [[50.520687 50.520687 50.720154 ... 52.4992   52.06718  51.59893 ]]\n",
      "\n",
      " [[50.704502 50.704502 50.902046 ... 52.467346 52.021217 51.53789 ]]]\n",
      "all_quantiles after squeezing shape: (91, 50)\n",
      "Error with cow SE-5c06d92d-2778, lactation 5: too many values to unpack (expected 2)\n"
     ]
    },
    {
     "name": "stderr",
     "output_type": "stream",
     "text": [
      "/Users/user/anaconda3/envs/GIGACOW/lib/python3.11/site-packages/torch/optim/lr_scheduler.py:60: UserWarning: The verbose parameter is deprecated. Please use get_last_lr() to access the learning rate.\n",
      "  warnings.warn(\n",
      "  9%|▉         | 204/2315 [01:16<13:55,  2.53 Segments/s]"
     ]
    },
    {
     "name": "stdout",
     "output_type": "stream",
     "text": [
      "all_quantiles shape: (218, 1, 50)\n",
      "all_quantiles content: [[[36.86517  36.86517  38.11728  ... 48.624607 48.802567 49.038887]]\n",
      "\n",
      " [[36.834503 36.834503 38.082504 ... 48.57483  48.752594 48.987957]]\n",
      "\n",
      " [[36.80384  36.80384  38.04773  ... 48.525043 48.70262  48.937225]]\n",
      "\n",
      " ...\n",
      "\n",
      " [[30.241167 30.241167 30.606627 ... 37.869453 38.007355 38.069344]]\n",
      "\n",
      " [[30.210495 30.210495 30.571854 ... 37.81967  37.957382 38.018604]]\n",
      "\n",
      " [[30.179834 30.179834 30.53708  ... 37.76989  37.90722  37.967873]]]\n",
      "all_quantiles after squeezing shape: (218, 50)\n",
      "Error with cow SE-5c06d92d-2779, lactation 3: too many values to unpack (expected 2)\n"
     ]
    },
    {
     "name": "stderr",
     "output_type": "stream",
     "text": [
      "/Users/user/anaconda3/envs/GIGACOW/lib/python3.11/site-packages/torch/optim/lr_scheduler.py:60: UserWarning: The verbose parameter is deprecated. Please use get_last_lr() to access the learning rate.\n",
      "  warnings.warn(\n",
      "  9%|▉         | 205/2315 [01:17<14:06,  2.49 Segments/s]"
     ]
    },
    {
     "name": "stdout",
     "output_type": "stream",
     "text": [
      "all_quantiles shape: (223, 1, 50)\n",
      "all_quantiles content: [[[36.475384 36.475384 39.940117 ... 60.55145  60.47287  60.312077]]\n",
      "\n",
      " [[36.465775 36.465775 39.918827 ... 60.500526 60.425377 60.269924]]\n",
      "\n",
      " [[36.456165 36.456165 39.89756  ... 60.4496   60.377884 60.227585]]\n",
      "\n",
      " ...\n",
      "\n",
      " [[34.33361  34.33361  35.193478 ... 49.199295 49.905777 50.87204 ]]\n",
      "\n",
      " [[34.33361  34.33361  35.193478 ... 49.199295 49.905777 50.87204 ]]\n",
      "\n",
      " [[34.33361  34.33361  35.193478 ... 49.199295 49.905777 50.87204 ]]]\n",
      "all_quantiles after squeezing shape: (223, 50)\n",
      "Error with cow SE-5c06d92d-2779, lactation 4: too many values to unpack (expected 2)\n"
     ]
    },
    {
     "name": "stderr",
     "output_type": "stream",
     "text": [
      "/Users/user/anaconda3/envs/GIGACOW/lib/python3.11/site-packages/torch/optim/lr_scheduler.py:60: UserWarning: The verbose parameter is deprecated. Please use get_last_lr() to access the learning rate.\n",
      "  warnings.warn(\n",
      "  9%|▉         | 206/2315 [01:17<13:17,  2.65 Segments/s]"
     ]
    },
    {
     "name": "stdout",
     "output_type": "stream",
     "text": [
      "all_quantiles shape: (61, 1, 50)\n",
      "all_quantiles content: [[[36.39975  36.39975  35.41657  ... 39.501    39.92958  40.312958]]\n",
      "\n",
      " [[36.18467  36.18467  35.263012 ... 39.390755 39.81228  40.18917 ]]\n",
      "\n",
      " [[35.96959  35.96959  35.109447 ... 39.28051  39.694977 40.06538 ]]\n",
      "\n",
      " ...\n",
      "\n",
      " [[23.925053 23.925053 26.509916 ... 33.106136 33.127594 33.133125]]\n",
      "\n",
      " [[23.709965 23.709965 26.356363 ... 32.995796 33.010292 33.00934 ]]\n",
      "\n",
      " [[23.494886 23.494886 26.202797 ... 32.88555  32.89318  32.88536 ]]]\n",
      "all_quantiles after squeezing shape: (61, 50)\n",
      "Error with cow SE-5c06d92d-2780, lactation 3: too many values to unpack (expected 2)\n"
     ]
    },
    {
     "name": "stderr",
     "output_type": "stream",
     "text": [
      "/Users/user/anaconda3/envs/GIGACOW/lib/python3.11/site-packages/torch/optim/lr_scheduler.py:60: UserWarning: The verbose parameter is deprecated. Please use get_last_lr() to access the learning rate.\n",
      "  warnings.warn(\n",
      "  9%|▉         | 207/2315 [01:17<13:31,  2.60 Segments/s]"
     ]
    },
    {
     "name": "stdout",
     "output_type": "stream",
     "text": [
      "all_quantiles shape: (313, 1, 50)\n",
      "all_quantiles content: [[[38.528465 38.528465 39.670147 ... 55.200382 55.332184 55.503845]]\n",
      "\n",
      " [[40.389297 40.389297 41.40869  ... 57.69806  57.815933 57.982635]]\n",
      "\n",
      " [[40.340324 40.340324 41.36294  ... 57.63225  57.7507   57.917404]]\n",
      "\n",
      " ...\n",
      "\n",
      " [[25.11084  25.11084  27.134346 ... 37.190628 37.423325 37.630272]]\n",
      "\n",
      " [[25.11084  25.11084  27.134346 ... 37.190628 37.423325 37.630272]]\n",
      "\n",
      " [[25.11084  25.11084  27.134346 ... 37.190628 37.423325 37.630272]]]\n",
      "all_quantiles after squeezing shape: (313, 50)\n",
      "Error with cow SE-5c06d92d-2780, lactation 4: too many values to unpack (expected 2)\n"
     ]
    },
    {
     "name": "stderr",
     "output_type": "stream",
     "text": [
      "/Users/user/anaconda3/envs/GIGACOW/lib/python3.11/site-packages/torch/optim/lr_scheduler.py:60: UserWarning: The verbose parameter is deprecated. Please use get_last_lr() to access the learning rate.\n",
      "  warnings.warn(\n",
      "  9%|▉         | 208/2315 [01:18<12:53,  2.72 Segments/s]"
     ]
    },
    {
     "name": "stdout",
     "output_type": "stream",
     "text": [
      "all_quantiles shape: (69, 1, 50)\n",
      "all_quantiles content: [[[11.005497 11.005497 24.607586 ... 51.622772 51.73149  53.326603]]\n",
      "\n",
      " [[11.005497 11.005497 24.607586 ... 51.622772 51.73149  53.326603]]\n",
      "\n",
      " [[11.005497 11.005497 24.607586 ... 51.622772 51.73149  53.326603]]\n",
      "\n",
      " ...\n",
      "\n",
      " [[23.395348 23.395348 16.726685 ... 49.940487 50.4652   50.67081 ]]\n",
      "\n",
      " [[23.676918 23.676918 16.547585 ... 49.902153 50.43659  50.61035 ]]\n",
      "\n",
      " [[23.958538 23.958538 16.36839  ... 49.864006 50.407787 50.55008 ]]]\n",
      "all_quantiles after squeezing shape: (69, 50)\n",
      "Error with cow SE-5c06d92d-2780, lactation 5: too many values to unpack (expected 2)\n"
     ]
    },
    {
     "name": "stderr",
     "output_type": "stream",
     "text": [
      "/Users/user/anaconda3/envs/GIGACOW/lib/python3.11/site-packages/torch/optim/lr_scheduler.py:60: UserWarning: The verbose parameter is deprecated. Please use get_last_lr() to access the learning rate.\n",
      "  warnings.warn(\n",
      "  9%|▉         | 209/2315 [01:18<12:54,  2.72 Segments/s]"
     ]
    },
    {
     "name": "stdout",
     "output_type": "stream",
     "text": [
      "all_quantiles shape: (82, 1, 50)\n",
      "all_quantiles content: [[[28.474028 28.474028 28.4706   ... 30.144117 30.14221  30.143261]]\n",
      "\n",
      " [[28.352016 28.352016 28.34964  ... 30.056189 30.055616 30.057907]]\n",
      "\n",
      " [[28.230001 28.230001 28.228676 ... 29.968164 29.96912  29.972456]]\n",
      "\n",
      " ...\n",
      "\n",
      " [[18.835007 18.835007 18.914341 ... 23.191832 23.302555 23.397062]]\n",
      "\n",
      " [[18.712997 18.712997 18.793379 ... 23.103903 23.21596  23.311615]]\n",
      "\n",
      " [[18.712997 18.712997 18.793379 ... 23.103903 23.21596  23.311615]]]\n",
      "all_quantiles after squeezing shape: (82, 50)\n",
      "Error with cow SE-5c06d92d-2782, lactation 3: too many values to unpack (expected 2)\n"
     ]
    },
    {
     "name": "stderr",
     "output_type": "stream",
     "text": [
      "/Users/user/anaconda3/envs/GIGACOW/lib/python3.11/site-packages/torch/optim/lr_scheduler.py:60: UserWarning: The verbose parameter is deprecated. Please use get_last_lr() to access the learning rate.\n",
      "  warnings.warn(\n",
      "  9%|▉         | 210/2315 [01:18<13:23,  2.62 Segments/s]"
     ]
    },
    {
     "name": "stdout",
     "output_type": "stream",
     "text": [
      "all_quantiles shape: (266, 1, 50)\n",
      "all_quantiles content: [[[35.770535 35.770535 37.41679  ... 61.665154 62.008286 62.296482]]\n",
      "\n",
      " [[37.68934  37.68934  38.850594 ... 65.800476 66.17031  66.47644 ]]\n",
      "\n",
      " [[37.620804 37.620804 38.799404 ... 65.65285  66.02173  66.326904]]\n",
      "\n",
      " ...\n",
      "\n",
      " [[19.87177  19.87177  25.536774 ... 27.401733 27.521894 27.663422]]\n",
      "\n",
      " [[19.87177  19.87177  25.536774 ... 27.401733 27.521894 27.663422]]\n",
      "\n",
      " [[19.87177  19.87177  25.536774 ... 27.401733 27.521894 27.663422]]]\n",
      "all_quantiles after squeezing shape: (266, 50)\n",
      "Error with cow SE-5c06d92d-2782, lactation 4: too many values to unpack (expected 2)\n"
     ]
    },
    {
     "name": "stderr",
     "output_type": "stream",
     "text": [
      "/Users/user/anaconda3/envs/GIGACOW/lib/python3.11/site-packages/torch/optim/lr_scheduler.py:60: UserWarning: The verbose parameter is deprecated. Please use get_last_lr() to access the learning rate.\n",
      "  warnings.warn(\n",
      "  9%|▉         | 211/2315 [01:19<13:13,  2.65 Segments/s]"
     ]
    },
    {
     "name": "stdout",
     "output_type": "stream",
     "text": [
      "all_quantiles shape: (144, 1, 50)\n",
      "all_quantiles content: [[[35.701    35.701    37.838673 ... 60.435104 60.716816 60.861202]]\n",
      "\n",
      " [[35.701    35.701    37.838673 ... 60.435104 60.716816 60.861202]]\n",
      "\n",
      " [[35.701    35.701    37.838673 ... 60.435104 60.716816 60.861202]]\n",
      "\n",
      " ...\n",
      "\n",
      " [[40.0576   40.0576   40.68296  ... 46.97494  47.64881  49.983215]]\n",
      "\n",
      " [[40.114925 40.114925 40.72039  ... 46.797752 47.47696  49.839973]]\n",
      "\n",
      " [[40.17224  40.17224  40.757824 ... 46.62075  47.304913 49.696922]]]\n",
      "all_quantiles after squeezing shape: (144, 50)\n",
      "Error with cow SE-5c06d92d-2782, lactation 5: too many values to unpack (expected 2)\n"
     ]
    },
    {
     "name": "stderr",
     "output_type": "stream",
     "text": [
      "/Users/user/anaconda3/envs/GIGACOW/lib/python3.11/site-packages/torch/optim/lr_scheduler.py:60: UserWarning: The verbose parameter is deprecated. Please use get_last_lr() to access the learning rate.\n",
      "  warnings.warn(\n",
      "  9%|▉         | 212/2315 [01:19<13:21,  2.62 Segments/s]"
     ]
    },
    {
     "name": "stdout",
     "output_type": "stream",
     "text": [
      "all_quantiles shape: (240, 1, 50)\n",
      "all_quantiles content: [[[41.105576 41.105576 41.913193 ... 48.721504 47.61715  47.014618]]\n",
      "\n",
      " [[41.017212 41.017212 41.82681  ... 48.638912 47.545624 46.952248]]\n",
      "\n",
      " [[40.928852 40.928852 41.74042  ... 48.556137 47.4741   46.889874]]\n",
      "\n",
      " ...\n",
      "\n",
      " [[19.721603 19.721603 21.007776 ... 28.718565 30.321407 31.906986]]\n",
      "\n",
      " [[19.721603 19.721603 21.007776 ... 28.718565 30.321407 31.906986]]\n",
      "\n",
      " [[19.721603 19.721603 21.007776 ... 28.718565 30.321407 31.906986]]]\n",
      "all_quantiles after squeezing shape: (240, 50)\n",
      "Error with cow SE-5c06d92d-2783, lactation 3: too many values to unpack (expected 2)\n"
     ]
    },
    {
     "name": "stderr",
     "output_type": "stream",
     "text": [
      "/Users/user/anaconda3/envs/GIGACOW/lib/python3.11/site-packages/torch/optim/lr_scheduler.py:60: UserWarning: The verbose parameter is deprecated. Please use get_last_lr() to access the learning rate.\n",
      "  warnings.warn(\n",
      "  9%|▉         | 213/2315 [01:20<13:42,  2.55 Segments/s]"
     ]
    },
    {
     "name": "stdout",
     "output_type": "stream",
     "text": [
      "all_quantiles shape: (337, 1, 50)\n",
      "all_quantiles content: [[[23.088753 23.088753 32.85701  ... 61.26537  61.945534 62.634274]]\n",
      "\n",
      " [[23.027765 23.027765 33.173656 ... 62.439724 63.12275  63.826366]]\n",
      "\n",
      " [[23.035383 23.035383 33.134068 ... 62.292862 62.975502 63.677597]]\n",
      "\n",
      " ...\n",
      "\n",
      " [[24.293268 24.293268 26.603329 ... 38.074112 38.694    39.086533]]\n",
      "\n",
      " [[24.293268 24.293268 26.603329 ... 38.074112 38.694    39.086533]]\n",
      "\n",
      " [[24.293268 24.293268 26.603329 ... 38.074112 38.694    39.086533]]]\n",
      "all_quantiles after squeezing shape: (337, 50)\n",
      "Error with cow SE-5c06d92d-2783, lactation 4: too many values to unpack (expected 2)\n"
     ]
    },
    {
     "name": "stderr",
     "output_type": "stream",
     "text": [
      "/Users/user/anaconda3/envs/GIGACOW/lib/python3.11/site-packages/torch/optim/lr_scheduler.py:60: UserWarning: The verbose parameter is deprecated. Please use get_last_lr() to access the learning rate.\n",
      "  warnings.warn(\n",
      "  9%|▉         | 214/2315 [01:20<13:47,  2.54 Segments/s]"
     ]
    },
    {
     "name": "stdout",
     "output_type": "stream",
     "text": [
      "all_quantiles shape: (271, 1, 50)\n",
      "all_quantiles content: [[[50.58217  50.58217  51.0347   ... 58.142467 58.408546 58.59356 ]]\n",
      "\n",
      " [[50.476227 50.476227 50.93913  ... 58.070183 58.335495 58.51993 ]]\n",
      "\n",
      " [[50.37029  50.37029  50.84357  ... 57.997894 58.26244  58.446312]]\n",
      "\n",
      " ...\n",
      "\n",
      " [[22.083174 22.083174 25.327694 ... 38.708687 38.741684 38.771248]]\n",
      "\n",
      " [[22.083174 22.083174 25.327694 ... 38.708687 38.741684 38.771248]]\n",
      "\n",
      " [[22.083174 22.083174 25.327694 ... 38.708687 38.741684 38.771248]]]\n",
      "all_quantiles after squeezing shape: (271, 50)\n",
      "Error with cow SE-5c06d92d-2785, lactation 3: too many values to unpack (expected 2)\n"
     ]
    },
    {
     "name": "stderr",
     "output_type": "stream",
     "text": [
      "/Users/user/anaconda3/envs/GIGACOW/lib/python3.11/site-packages/torch/optim/lr_scheduler.py:60: UserWarning: The verbose parameter is deprecated. Please use get_last_lr() to access the learning rate.\n",
      "  warnings.warn(\n",
      "  9%|▉         | 215/2315 [01:20<14:04,  2.49 Segments/s]"
     ]
    },
    {
     "name": "stdout",
     "output_type": "stream",
     "text": [
      "all_quantiles shape: (328, 1, 50)\n",
      "all_quantiles content: [[[34.98739  34.98739  36.857246 ... 56.454082 56.525417 56.5897  ]]\n",
      "\n",
      " [[34.98739  34.98739  36.857246 ... 56.454082 56.525417 56.5897  ]]\n",
      "\n",
      " [[34.977757 34.977757 36.8422   ... 56.392666 56.464764 56.529617]]\n",
      "\n",
      " ...\n",
      "\n",
      " [[31.686396 31.686396 31.694208 ... 35.403633 35.660744 36.011696]]\n",
      "\n",
      " [[31.676767 31.676767 31.679152 ... 35.342216 35.60009  35.951614]]\n",
      "\n",
      " [[31.667143 31.667143 31.664108 ... 35.2808   35.539246 35.891724]]]\n",
      "all_quantiles after squeezing shape: (328, 50)\n",
      "Error with cow SE-5c06d92d-2785, lactation 4: too many values to unpack (expected 2)\n"
     ]
    },
    {
     "name": "stderr",
     "output_type": "stream",
     "text": [
      "/Users/user/anaconda3/envs/GIGACOW/lib/python3.11/site-packages/torch/optim/lr_scheduler.py:60: UserWarning: The verbose parameter is deprecated. Please use get_last_lr() to access the learning rate.\n",
      "  warnings.warn(\n",
      "  9%|▉         | 216/2315 [01:21<14:08,  2.47 Segments/s]"
     ]
    },
    {
     "name": "stdout",
     "output_type": "stream",
     "text": [
      "all_quantiles shape: (327, 1, 50)\n",
      "all_quantiles content: [[[32.545124 32.545124 32.66593  ... 34.708977 34.66091  34.62448 ]]\n",
      "\n",
      " [[32.48291  32.48291  32.608295 ... 34.685326 34.638405 34.60331 ]]\n",
      "\n",
      " [[32.42069  32.42069  32.550655 ... 34.661484 34.61609  34.581947]]\n",
      "\n",
      " ...\n",
      "\n",
      " [[20.723545 20.723545 21.715092 ... 30.193329 30.394743 30.587006]]\n",
      "\n",
      " [[20.723545 20.723545 21.715092 ... 30.193329 30.394743 30.587006]]\n",
      "\n",
      " [[20.723545 20.723545 21.715092 ... 30.193329 30.394743 30.587006]]]\n",
      "all_quantiles after squeezing shape: (327, 50)\n",
      "Error with cow SE-5c06d92d-2787, lactation 3: too many values to unpack (expected 2)\n"
     ]
    },
    {
     "name": "stderr",
     "output_type": "stream",
     "text": [
      "/Users/user/anaconda3/envs/GIGACOW/lib/python3.11/site-packages/torch/optim/lr_scheduler.py:60: UserWarning: The verbose parameter is deprecated. Please use get_last_lr() to access the learning rate.\n",
      "  warnings.warn(\n",
      "  9%|▉         | 217/2315 [01:21<14:20,  2.44 Segments/s]"
     ]
    },
    {
     "name": "stdout",
     "output_type": "stream",
     "text": [
      "all_quantiles shape: (150, 1, 50)\n",
      "all_quantiles content: [[[22.961819 22.961819 26.80638  ... 39.229965 39.197536 39.180374]]\n",
      "\n",
      " [[22.96149  22.96149  26.786648 ... 39.169117 39.138412 39.122196]]\n",
      "\n",
      " [[22.961163 22.961163 26.766933 ... 39.108276 39.07909  39.064022]]\n",
      "\n",
      " ...\n",
      "\n",
      " [[22.91039  22.91039  23.689674 ... 29.623318 29.83036  30.00946 ]]\n",
      "\n",
      " [[22.91039  22.91039  23.689674 ... 29.623318 29.83036  30.00946 ]]\n",
      "\n",
      " [[22.91039  22.91039  23.689674 ... 29.623318 29.83036  30.00946 ]]]\n",
      "all_quantiles after squeezing shape: (150, 50)\n",
      "Error with cow SE-5c06d92d-2789, lactation 3: too many values to unpack (expected 2)\n"
     ]
    },
    {
     "name": "stderr",
     "output_type": "stream",
     "text": [
      "/Users/user/anaconda3/envs/GIGACOW/lib/python3.11/site-packages/torch/optim/lr_scheduler.py:60: UserWarning: The verbose parameter is deprecated. Please use get_last_lr() to access the learning rate.\n",
      "  warnings.warn(\n",
      "  9%|▉         | 218/2315 [01:22<14:20,  2.44 Segments/s]"
     ]
    },
    {
     "name": "stdout",
     "output_type": "stream",
     "text": [
      "all_quantiles shape: (376, 1, 50)\n",
      "all_quantiles content: [[[22.719526 22.719526 32.185566 ... 48.400684 49.167633 49.90673 ]]\n",
      "\n",
      " [[22.908926 22.908926 32.769264 ... 49.20349  50.000572 50.767708]]\n",
      "\n",
      " [[22.897087 22.897087 32.732773 ... 49.153328 49.9485   50.713726]]\n",
      "\n",
      " ...\n",
      "\n",
      " [[18.63563  18.63563  19.599617 ... 31.092358 31.203651 31.345272]]\n",
      "\n",
      " [[18.63563  18.63563  19.599617 ... 31.092358 31.203651 31.345272]]\n",
      "\n",
      " [[18.63563  18.63563  19.599617 ... 31.092358 31.203651 31.345272]]]\n",
      "all_quantiles after squeezing shape: (376, 50)\n",
      "Error with cow SE-5c06d92d-2789, lactation 4: too many values to unpack (expected 2)\n"
     ]
    },
    {
     "name": "stderr",
     "output_type": "stream",
     "text": [
      "/Users/user/anaconda3/envs/GIGACOW/lib/python3.11/site-packages/torch/optim/lr_scheduler.py:60: UserWarning: The verbose parameter is deprecated. Please use get_last_lr() to access the learning rate.\n",
      "  warnings.warn(\n",
      "  9%|▉         | 219/2315 [01:22<13:55,  2.51 Segments/s]"
     ]
    },
    {
     "name": "stdout",
     "output_type": "stream",
     "text": [
      "all_quantiles shape: (167, 1, 50)\n",
      "all_quantiles content: [[[42.33608  42.33608  42.507206 ... 54.416466 54.579735 54.774284]]\n",
      "\n",
      " [[42.25314  42.25314  42.42518  ... 54.29821  54.463005 54.65908 ]]\n",
      "\n",
      " [[42.17022  42.17022  42.34314  ... 54.18014  54.345894 54.54426 ]]\n",
      "\n",
      " ...\n",
      "\n",
      " [[28.735422 28.735422 29.053867 ... 35.027885 35.400772 35.912132]]\n",
      "\n",
      " [[28.6525   28.6525   28.971838 ... 34.90963  35.28366  35.79731 ]]\n",
      "\n",
      " [[28.6525   28.6525   28.971838 ... 34.90963  35.28366  35.79731 ]]]\n",
      "all_quantiles after squeezing shape: (167, 50)\n",
      "Error with cow SE-5c06d92d-2795, lactation 3: too many values to unpack (expected 2)\n"
     ]
    },
    {
     "name": "stderr",
     "output_type": "stream",
     "text": [
      "/Users/user/anaconda3/envs/GIGACOW/lib/python3.11/site-packages/torch/optim/lr_scheduler.py:60: UserWarning: The verbose parameter is deprecated. Please use get_last_lr() to access the learning rate.\n",
      "  warnings.warn(\n",
      " 10%|▉         | 220/2315 [01:22<13:57,  2.50 Segments/s]"
     ]
    },
    {
     "name": "stdout",
     "output_type": "stream",
     "text": [
      "all_quantiles shape: (299, 1, 50)\n",
      "all_quantiles content: [[[29.012274 29.012274 35.384033 ... 54.76627  55.06916  55.480385]]\n",
      "\n",
      " [[29.023207 29.023207 35.3749   ... 54.713627 55.015945 55.42679 ]]\n",
      "\n",
      " [[29.03416  29.03416  35.36576  ... 54.660984 54.962917 55.372997]]\n",
      "\n",
      " ...\n",
      "\n",
      " [[32.275425 32.275425 32.659996 ... 39.065933 39.26239  39.463806]]\n",
      "\n",
      " [[32.275425 32.275425 32.659996 ... 39.065933 39.26239  39.463806]]\n",
      "\n",
      " [[32.275425 32.275425 32.659996 ... 39.065933 39.26239  39.463806]]]\n",
      "all_quantiles after squeezing shape: (299, 50)\n",
      "Error with cow SE-5c06d92d-2795, lactation 4: too many values to unpack (expected 2)\n"
     ]
    },
    {
     "name": "stderr",
     "output_type": "stream",
     "text": [
      "/Users/user/anaconda3/envs/GIGACOW/lib/python3.11/site-packages/torch/optim/lr_scheduler.py:60: UserWarning: The verbose parameter is deprecated. Please use get_last_lr() to access the learning rate.\n",
      "  warnings.warn(\n",
      " 10%|▉         | 221/2315 [01:23<13:16,  2.63 Segments/s]"
     ]
    },
    {
     "name": "stdout",
     "output_type": "stream",
     "text": [
      "all_quantiles shape: (68, 1, 50)\n",
      "all_quantiles content: [[[31.582163 31.582163 34.773136 ... 54.055405 54.216766 54.486465]]\n",
      "\n",
      " [[26.496077 26.496077 30.46553  ... 54.169273 54.39167  54.834557]]\n",
      "\n",
      " [[26.81396  26.81396  30.734753 ... 54.162025 54.380795 54.812813]]\n",
      "\n",
      " ...\n",
      "\n",
      " [[46.840427 46.840427 47.69591  ... 53.71418  53.691673 53.442383]]\n",
      "\n",
      " [[47.15831  47.15831  47.965134 ... 53.707123 53.6808   53.42064 ]]\n",
      "\n",
      " [[47.476192 47.476192 48.234356 ... 53.700066 53.669735 53.39889 ]]]\n",
      "all_quantiles after squeezing shape: (68, 50)\n",
      "Error with cow SE-5c06d92d-2795, lactation 5: too many values to unpack (expected 2)\n"
     ]
    },
    {
     "name": "stderr",
     "output_type": "stream",
     "text": [
      "/Users/user/anaconda3/envs/GIGACOW/lib/python3.11/site-packages/torch/optim/lr_scheduler.py:60: UserWarning: The verbose parameter is deprecated. Please use get_last_lr() to access the learning rate.\n",
      "  warnings.warn(\n",
      " 10%|▉         | 222/2315 [01:24<16:56,  2.06 Segments/s]"
     ]
    },
    {
     "name": "stdout",
     "output_type": "stream",
     "text": [
      "all_quantiles shape: (201, 1, 50)\n",
      "all_quantiles content: [[[34.013157 34.013157 34.93553  ... 40.976902 41.049767 41.106606]]\n",
      "\n",
      " [[33.96165  33.96165  34.88062  ... 40.925026 40.998077 41.054916]]\n",
      "\n",
      " [[33.91015  33.91015  34.8257   ... 40.87372  40.946198 41.002846]]\n",
      "\n",
      " ...\n",
      "\n",
      " [[23.815357 23.815357 24.061834 ... 30.75237  30.798817 30.842113]]\n",
      "\n",
      " [[23.763859 23.763859 24.006914 ... 30.700684 30.74703  30.790232]]\n",
      "\n",
      " [[23.712349 23.712349 23.951994 ... 30.648994 30.695246 30.73845 ]]]\n",
      "all_quantiles after squeezing shape: (201, 50)\n",
      "Error with cow SE-5c06d92d-2796, lactation 3: too many values to unpack (expected 2)\n"
     ]
    },
    {
     "name": "stderr",
     "output_type": "stream",
     "text": [
      "/Users/user/anaconda3/envs/GIGACOW/lib/python3.11/site-packages/torch/optim/lr_scheduler.py:60: UserWarning: The verbose parameter is deprecated. Please use get_last_lr() to access the learning rate.\n",
      "  warnings.warn(\n",
      " 10%|▉         | 223/2315 [01:24<16:17,  2.14 Segments/s]"
     ]
    },
    {
     "name": "stdout",
     "output_type": "stream",
     "text": [
      "all_quantiles shape: (274, 1, 50)\n",
      "all_quantiles content: [[[25.92852  25.92852  31.86984  ... 52.1347   52.8471   53.345867]]\n",
      "\n",
      " [[25.955927 25.955927 31.857681 ... 52.004814 52.713966 53.21159 ]]\n",
      "\n",
      " [[25.983334 25.983334 31.845509 ... 51.874924 52.581024 53.077507]]\n",
      "\n",
      " ...\n",
      "\n",
      " [[29.683416 29.683416 30.202461 ... 34.33342  34.618855 34.965324]]\n",
      "\n",
      " [[29.683416 29.683416 30.202461 ... 34.33342  34.618855 34.965324]]\n",
      "\n",
      " [[29.683416 29.683416 30.202461 ... 34.33342  34.618855 34.965324]]]\n",
      "all_quantiles after squeezing shape: (274, 50)\n",
      "Error with cow SE-5c06d92d-2796, lactation 4: too many values to unpack (expected 2)\n"
     ]
    },
    {
     "name": "stderr",
     "output_type": "stream",
     "text": [
      "/Users/user/anaconda3/envs/GIGACOW/lib/python3.11/site-packages/torch/optim/lr_scheduler.py:60: UserWarning: The verbose parameter is deprecated. Please use get_last_lr() to access the learning rate.\n",
      "  warnings.warn(\n",
      " 10%|▉         | 224/2315 [01:24<15:00,  2.32 Segments/s]"
     ]
    },
    {
     "name": "stdout",
     "output_type": "stream",
     "text": [
      "all_quantiles shape: (76, 1, 50)\n",
      "all_quantiles content: [[[33.15542  33.15542  33.237907 ... 46.96884  47.078896 47.180363]]\n",
      "\n",
      " [[33.15542  33.15542  33.237907 ... 46.96884  47.078896 47.180363]]\n",
      "\n",
      " [[33.21011  33.21011  33.291565 ... 46.880337 46.989056 47.089954]]\n",
      "\n",
      " ...\n",
      "\n",
      " [[37.203255 37.203255 37.208008 ... 40.42263  40.45124  40.47928 ]]\n",
      "\n",
      " [[37.257957 37.257957 37.261654 ... 40.33432  40.36159  40.38868 ]]\n",
      "\n",
      " [[37.31265  37.31265  37.315308 ... 40.24582  40.27195  40.29827 ]]]\n",
      "all_quantiles after squeezing shape: (76, 50)\n",
      "Error with cow SE-5c06d92d-2796, lactation 5: too many values to unpack (expected 2)\n"
     ]
    },
    {
     "name": "stderr",
     "output_type": "stream",
     "text": [
      "/Users/user/anaconda3/envs/GIGACOW/lib/python3.11/site-packages/torch/optim/lr_scheduler.py:60: UserWarning: The verbose parameter is deprecated. Please use get_last_lr() to access the learning rate.\n",
      "  warnings.warn(\n",
      " 10%|▉         | 225/2315 [01:25<15:13,  2.29 Segments/s]"
     ]
    },
    {
     "name": "stdout",
     "output_type": "stream",
     "text": [
      "all_quantiles shape: (321, 1, 50)\n",
      "all_quantiles content: [[[37.91839  37.91839  39.318916 ... 57.76138  58.18996  58.67386 ]]\n",
      "\n",
      " [[37.8863   37.8863   39.289272 ... 57.680317 58.10795  58.590885]]\n",
      "\n",
      " [[37.854206 37.854206 39.25961  ... 57.599636 58.025932 58.50773 ]]\n",
      "\n",
      " ...\n",
      "\n",
      " [[27.682358 27.682358 29.860304 ... 31.939123 32.032585 32.18212 ]]\n",
      "\n",
      " [[27.682358 27.682358 29.860304 ... 31.939123 32.032585 32.18212 ]]\n",
      "\n",
      " [[27.682358 27.682358 29.860304 ... 31.939123 32.032585 32.18212 ]]]\n",
      "all_quantiles after squeezing shape: (321, 50)\n",
      "Error with cow SE-5c06d92d-2797, lactation 3: too many values to unpack (expected 2)\n"
     ]
    },
    {
     "name": "stderr",
     "output_type": "stream",
     "text": [
      "/Users/user/anaconda3/envs/GIGACOW/lib/python3.11/site-packages/torch/optim/lr_scheduler.py:60: UserWarning: The verbose parameter is deprecated. Please use get_last_lr() to access the learning rate.\n",
      "  warnings.warn(\n",
      " 10%|▉         | 226/2315 [01:25<14:54,  2.33 Segments/s]"
     ]
    },
    {
     "name": "stdout",
     "output_type": "stream",
     "text": [
      "all_quantiles shape: (282, 1, 50)\n",
      "all_quantiles content: [[[27.305208 27.305208 31.226778 ... 57.97176  57.582474 57.025146]]\n",
      "\n",
      " [[27.305208 27.305208 31.226778 ... 57.97176  57.582474 57.025146]]\n",
      "\n",
      " [[27.314447 27.314447 31.223438 ... 57.90386  57.523533 56.97651 ]]\n",
      "\n",
      " ...\n",
      "\n",
      " [[29.883251 29.883251 30.295574 ... 39.022923 41.128918 43.40172 ]]\n",
      "\n",
      " [[29.89249  29.89249  30.292234 ... 38.954926 41.070175 43.3527  ]]\n",
      "\n",
      " [[29.901743 29.901743 30.288898 ... 38.887024 41.011047 43.304058]]]\n",
      "all_quantiles after squeezing shape: (282, 50)\n",
      "Error with cow SE-5c06d92d-2797, lactation 4: too many values to unpack (expected 2)\n"
     ]
    },
    {
     "name": "stderr",
     "output_type": "stream",
     "text": [
      "/Users/user/anaconda3/envs/GIGACOW/lib/python3.11/site-packages/torch/optim/lr_scheduler.py:60: UserWarning: The verbose parameter is deprecated. Please use get_last_lr() to access the learning rate.\n",
      "  warnings.warn(\n",
      " 10%|▉         | 227/2315 [01:26<14:32,  2.39 Segments/s]"
     ]
    },
    {
     "name": "stdout",
     "output_type": "stream",
     "text": [
      "all_quantiles shape: (190, 1, 50)\n",
      "all_quantiles content: [[[39.89139  39.89139  40.73674  ... 44.737053 44.62032  44.400593]]\n",
      "\n",
      " [[39.794357 39.794357 40.638947 ... 44.680405 44.567677 44.356155]]\n",
      "\n",
      " [[39.69731  39.69731  40.54116  ... 44.623566 44.515034 44.311523]]\n",
      "\n",
      " ...\n",
      "\n",
      " [[21.842314 21.842314 22.548388 ... 34.202194 34.819603 36.11927 ]]\n",
      "\n",
      " [[21.842314 21.842314 22.548388 ... 34.202194 34.819603 36.11927 ]]\n",
      "\n",
      " [[21.842314 21.842314 22.548388 ... 34.202194 34.819603 36.11927 ]]]\n",
      "all_quantiles after squeezing shape: (190, 50)\n",
      "Error with cow SE-5c06d92d-2798, lactation 3: too many values to unpack (expected 2)\n"
     ]
    },
    {
     "name": "stderr",
     "output_type": "stream",
     "text": [
      "/Users/user/anaconda3/envs/GIGACOW/lib/python3.11/site-packages/torch/optim/lr_scheduler.py:60: UserWarning: The verbose parameter is deprecated. Please use get_last_lr() to access the learning rate.\n",
      "  warnings.warn(\n",
      " 10%|▉         | 228/2315 [01:26<14:21,  2.42 Segments/s]"
     ]
    },
    {
     "name": "stdout",
     "output_type": "stream",
     "text": [
      "all_quantiles shape: (279, 1, 50)\n",
      "all_quantiles content: [[[25.338053 25.338053 35.90103  ... 53.00674  53.202816 53.30658 ]]\n",
      "\n",
      " [[25.324892 25.324892 35.92498  ... 53.07064  53.266907 53.3699  ]]\n",
      "\n",
      " [[25.338053 25.338053 35.90103  ... 53.00674  53.202816 53.30658 ]]\n",
      "\n",
      " ...\n",
      "\n",
      " [[28.956972 28.956972 29.312908 ... 35.446262 35.57434  35.88867 ]]\n",
      "\n",
      " [[28.956972 28.956972 29.312908 ... 35.446262 35.57434  35.88867 ]]\n",
      "\n",
      " [[28.956972 28.956972 29.312908 ... 35.446262 35.57434  35.88867 ]]]\n",
      "all_quantiles after squeezing shape: (279, 50)\n",
      "Error with cow SE-5c06d92d-2798, lactation 4: too many values to unpack (expected 2)\n"
     ]
    },
    {
     "name": "stderr",
     "output_type": "stream",
     "text": [
      "/Users/user/anaconda3/envs/GIGACOW/lib/python3.11/site-packages/torch/optim/lr_scheduler.py:60: UserWarning: The verbose parameter is deprecated. Please use get_last_lr() to access the learning rate.\n",
      "  warnings.warn(\n",
      " 10%|▉         | 229/2315 [01:26<13:29,  2.58 Segments/s]"
     ]
    },
    {
     "name": "stdout",
     "output_type": "stream",
     "text": [
      "all_quantiles shape: (69, 1, 50)\n",
      "all_quantiles content: [[[29.809189 29.809189 39.034294 ... 57.61528  57.999035 58.249092]]\n",
      "\n",
      " [[33.192635 33.192635 39.952206 ... 54.308506 54.592323 54.777527]]\n",
      "\n",
      " [[30.16535  30.16535  39.130917 ... 57.26719  57.640648 57.883453]]\n",
      "\n",
      " ...\n",
      "\n",
      " [[41.740284 41.740284 42.271133 ... 45.95432  45.985603 46.007153]]\n",
      "\n",
      " [[41.918358 41.918358 42.319443 ... 45.78018  45.806313 45.824432]]\n",
      "\n",
      " [[42.096436 42.096436 42.367756 ... 45.60604  45.62702  45.64171 ]]]\n",
      "all_quantiles after squeezing shape: (69, 50)\n",
      "Error with cow SE-5c06d92d-2798, lactation 5: too many values to unpack (expected 2)\n"
     ]
    },
    {
     "name": "stderr",
     "output_type": "stream",
     "text": [
      "/Users/user/anaconda3/envs/GIGACOW/lib/python3.11/site-packages/torch/optim/lr_scheduler.py:60: UserWarning: The verbose parameter is deprecated. Please use get_last_lr() to access the learning rate.\n",
      "  warnings.warn(\n",
      " 10%|▉         | 230/2315 [01:27<13:25,  2.59 Segments/s]"
     ]
    },
    {
     "name": "stdout",
     "output_type": "stream",
     "text": [
      "all_quantiles shape: (184, 1, 50)\n",
      "all_quantiles content: [[[44.158577 44.158577 44.44561  ... 49.2403   49.24774  49.270058]]\n",
      "\n",
      " [[44.03937  44.03937  44.351387 ... 49.204445 49.21322  49.236298]]\n",
      "\n",
      " [[43.92016  43.92016  44.25716  ... 49.168583 49.17869  49.202724]]\n",
      "\n",
      " ...\n",
      "\n",
      " [[21.985842 21.985842 26.919792 ... 42.579075 42.816162 43.011665]]\n",
      "\n",
      " [[21.985842 21.985842 26.919792 ... 42.579075 42.816162 43.011665]]\n",
      "\n",
      " [[21.985842 21.985842 26.919792 ... 42.579075 42.816162 43.011665]]]\n",
      "all_quantiles after squeezing shape: (184, 50)\n",
      "Error with cow SE-5c06d92d-2799, lactation 3: too many values to unpack (expected 2)\n"
     ]
    },
    {
     "name": "stderr",
     "output_type": "stream",
     "text": [
      "/Users/user/anaconda3/envs/GIGACOW/lib/python3.11/site-packages/torch/optim/lr_scheduler.py:60: UserWarning: The verbose parameter is deprecated. Please use get_last_lr() to access the learning rate.\n",
      "  warnings.warn(\n",
      " 10%|▉         | 231/2315 [01:27<14:15,  2.44 Segments/s]"
     ]
    },
    {
     "name": "stdout",
     "output_type": "stream",
     "text": [
      "all_quantiles shape: (429, 1, 50)\n",
      "all_quantiles content: [[[40.55353  40.55353  41.73485  ... 55.915257 55.948826 55.714035]]\n",
      "\n",
      " [[40.55353  40.55353  41.73485  ... 55.915257 55.948826 55.714035]]\n",
      "\n",
      " [[40.503727 40.503727 41.683254 ... 55.84354  55.88112  55.657764]]\n",
      "\n",
      " ...\n",
      "\n",
      " [[31.638811 31.638811 32.498837 ... 43.087006 43.83011  45.617676]]\n",
      "\n",
      " [[31.638811 31.638811 32.498837 ... 43.087006 43.83011  45.617676]]\n",
      "\n",
      " [[31.638811 31.638811 32.498837 ... 43.087006 43.83011  45.617676]]]\n",
      "all_quantiles after squeezing shape: (429, 50)\n",
      "Error with cow SE-5c06d92d-2799, lactation 4: too many values to unpack (expected 2)\n"
     ]
    },
    {
     "name": "stderr",
     "output_type": "stream",
     "text": [
      "/Users/user/anaconda3/envs/GIGACOW/lib/python3.11/site-packages/torch/optim/lr_scheduler.py:60: UserWarning: The verbose parameter is deprecated. Please use get_last_lr() to access the learning rate.\n",
      "  warnings.warn(\n",
      " 10%|█         | 232/2315 [01:28<14:29,  2.40 Segments/s]"
     ]
    },
    {
     "name": "stdout",
     "output_type": "stream",
     "text": [
      "all_quantiles shape: (224, 1, 50)\n",
      "all_quantiles content: [[[41.892914 41.892914 44.230377 ... 50.355907 50.49915  50.717354]]\n",
      "\n",
      " [[41.782852 41.782852 44.11973  ... 50.26741  50.411606 50.629425]]\n",
      "\n",
      " [[41.672783 41.672783 44.009098 ... 50.178905 50.323677 50.541874]]\n",
      "\n",
      " ...\n",
      "\n",
      " [[17.56779  17.56779  19.778992 ... 30.798435 31.099224 31.333921]]\n",
      "\n",
      " [[17.56779  17.56779  19.778992 ... 30.798435 31.099224 31.333921]]\n",
      "\n",
      " [[17.56779  17.56779  19.778992 ... 30.798435 31.099224 31.333921]]]\n",
      "all_quantiles after squeezing shape: (224, 50)\n",
      "Error with cow SE-5c06d92d-2801, lactation 3: too many values to unpack (expected 2)\n"
     ]
    },
    {
     "name": "stderr",
     "output_type": "stream",
     "text": [
      "/Users/user/anaconda3/envs/GIGACOW/lib/python3.11/site-packages/torch/optim/lr_scheduler.py:60: UserWarning: The verbose parameter is deprecated. Please use get_last_lr() to access the learning rate.\n",
      "  warnings.warn(\n",
      " 10%|█         | 233/2315 [01:28<14:23,  2.41 Segments/s]"
     ]
    },
    {
     "name": "stdout",
     "output_type": "stream",
     "text": [
      "all_quantiles shape: (279, 1, 50)\n",
      "all_quantiles content: [[[22.203289 22.203289 30.384457 ... 51.703453 51.853176 51.997185]]\n",
      "\n",
      " [[22.420765 22.420765 30.971727 ... 54.133987 54.28924  54.439545]]\n",
      "\n",
      " [[22.407984 22.407984 30.937183 ... 53.991127 54.146004 54.29592 ]]\n",
      "\n",
      " ...\n",
      "\n",
      " [[20.674551 20.674551 26.25625  ... 34.617233 34.728336 34.829235]]\n",
      "\n",
      " [[20.674551 20.674551 26.25625  ... 34.617233 34.728336 34.829235]]\n",
      "\n",
      " [[20.674551 20.674551 26.25625  ... 34.617233 34.728336 34.829235]]]\n",
      "all_quantiles after squeezing shape: (279, 50)\n",
      "Error with cow SE-5c06d92d-2801, lactation 4: too many values to unpack (expected 2)\n"
     ]
    },
    {
     "name": "stderr",
     "output_type": "stream",
     "text": [
      "/Users/user/anaconda3/envs/GIGACOW/lib/python3.11/site-packages/torch/optim/lr_scheduler.py:60: UserWarning: The verbose parameter is deprecated. Please use get_last_lr() to access the learning rate.\n",
      "  warnings.warn(\n",
      " 10%|█         | 234/2315 [01:28<13:19,  2.60 Segments/s]"
     ]
    },
    {
     "name": "stdout",
     "output_type": "stream",
     "text": [
      "all_quantiles shape: (51, 1, 50)\n",
      "all_quantiles content: [[[15.430021 15.430021 16.75396  ... 41.239353 40.507507 40.0074  ]]\n",
      "\n",
      " [[15.430021 15.430021 16.75396  ... 41.239353 40.507507 40.0074  ]]\n",
      "\n",
      " [[16.58957  16.58957  17.862724 ... 41.465187 40.803528 40.354347]]\n",
      "\n",
      " ...\n",
      "\n",
      " [[43.259537 43.259537 43.36393  ... 46.660038 47.610283 48.33603 ]]\n",
      "\n",
      " [[43.83931  43.83931  43.9183   ... 46.772766 47.758293 48.509598]]\n",
      "\n",
      " [[44.41911  44.41911  44.47266  ... 46.88568  47.906113 48.683167]]]\n",
      "all_quantiles after squeezing shape: (51, 50)\n",
      "Error with cow SE-5c06d92d-2801, lactation 5: too many values to unpack (expected 2)\n"
     ]
    },
    {
     "name": "stderr",
     "output_type": "stream",
     "text": [
      "/Users/user/anaconda3/envs/GIGACOW/lib/python3.11/site-packages/torch/optim/lr_scheduler.py:60: UserWarning: The verbose parameter is deprecated. Please use get_last_lr() to access the learning rate.\n",
      "  warnings.warn(\n",
      " 10%|█         | 235/2315 [01:29<13:24,  2.58 Segments/s]"
     ]
    },
    {
     "name": "stdout",
     "output_type": "stream",
     "text": [
      "all_quantiles shape: (254, 1, 50)\n",
      "all_quantiles content: [[[42.31457  42.31457  44.362446 ... 51.407814 51.416016 50.594707]]\n",
      "\n",
      " [[42.224125 42.224125 44.273487 ... 51.317215 51.326942 50.51651 ]]\n",
      "\n",
      " [[42.133675 42.133675 44.18453  ... 51.226234 51.238247 50.43831 ]]\n",
      "\n",
      " ...\n",
      "\n",
      " [[20.154272 20.154272 22.567308 ... 29.16908  29.623508 31.450176]]\n",
      "\n",
      " [[20.154272 20.154272 22.567308 ... 29.16908  29.623508 31.450176]]\n",
      "\n",
      " [[20.154272 20.154272 22.567308 ... 29.16908  29.623508 31.450176]]]\n",
      "all_quantiles after squeezing shape: (254, 50)\n",
      "Error with cow SE-5c06d92d-2804, lactation 3: too many values to unpack (expected 2)\n"
     ]
    },
    {
     "name": "stderr",
     "output_type": "stream",
     "text": [
      "/Users/user/anaconda3/envs/GIGACOW/lib/python3.11/site-packages/torch/optim/lr_scheduler.py:60: UserWarning: The verbose parameter is deprecated. Please use get_last_lr() to access the learning rate.\n",
      "  warnings.warn(\n",
      " 10%|█         | 236/2315 [01:29<13:26,  2.58 Segments/s]"
     ]
    },
    {
     "name": "stdout",
     "output_type": "stream",
     "text": [
      "all_quantiles shape: (264, 1, 50)\n",
      "all_quantiles content: [[[28.735888 28.735888 37.43714  ... 55.67245  55.8712   55.999947]]\n",
      "\n",
      " [[29.446781 29.446781 38.379395 ... 56.28624  56.48727  56.61354 ]]\n",
      "\n",
      " [[29.38752  29.38752  38.300873 ... 56.23493  56.436153 56.562424]]\n",
      "\n",
      " ...\n",
      "\n",
      " [[11.733937 11.733937 14.901757 ... 40.99369  41.132927 41.320606]]\n",
      "\n",
      " [[11.674714 11.674714 14.823222 ... 40.942574 41.081615 41.269302]]\n",
      "\n",
      " [[11.674714 11.674714 14.823222 ... 40.942574 41.081615 41.269302]]]\n",
      "all_quantiles after squeezing shape: (264, 50)\n",
      "Error with cow SE-5c06d92d-2804, lactation 4: too many values to unpack (expected 2)\n"
     ]
    },
    {
     "name": "stderr",
     "output_type": "stream",
     "text": [
      "/Users/user/anaconda3/envs/GIGACOW/lib/python3.11/site-packages/torch/optim/lr_scheduler.py:60: UserWarning: The verbose parameter is deprecated. Please use get_last_lr() to access the learning rate.\n",
      "  warnings.warn(\n",
      " 10%|█         | 238/2315 [01:29<10:08,  3.41 Segments/s]"
     ]
    },
    {
     "name": "stdout",
     "output_type": "stream",
     "text": [
      "all_quantiles shape: (144, 1, 50)\n",
      "all_quantiles content: [[[36.30794  36.30794  36.444912 ... 40.364647 40.52162  40.676685]]\n",
      "\n",
      " [[36.276302 36.276302 36.413036 ... 40.36331  40.519905 40.675354]]\n",
      "\n",
      " [[36.244663 36.244663 36.381172 ... 40.362164 40.51819  40.67402 ]]\n",
      "\n",
      " ...\n",
      "\n",
      " [[31.815409 31.815409 31.919277 ... 40.174866 40.279957 40.491486]]\n",
      "\n",
      " [[31.783772 31.783772 31.887411 ... 40.17372  40.278053 40.49053 ]]\n",
      "\n",
      " [[31.752132 31.752132 31.855536 ... 40.172386 40.276333 40.489197]]]\n",
      "all_quantiles after squeezing shape: (144, 50)\n",
      "Error with cow SE-5c06d92d-2808, lactation 3: too many values to unpack (expected 2)\n"
     ]
    },
    {
     "name": "stderr",
     "output_type": "stream",
     "text": [
      "/Users/user/anaconda3/envs/GIGACOW/lib/python3.11/site-packages/torch/optim/lr_scheduler.py:60: UserWarning: The verbose parameter is deprecated. Please use get_last_lr() to access the learning rate.\n",
      "  warnings.warn(\n",
      " 10%|█         | 239/2315 [01:30<10:59,  3.15 Segments/s]"
     ]
    },
    {
     "name": "stdout",
     "output_type": "stream",
     "text": [
      "all_quantiles shape: (273, 1, 50)\n",
      "all_quantiles content: [[[32.844925 32.844925 33.944584 ... 47.086334 47.26925  47.39494 ]]\n",
      "\n",
      " [[32.7173   32.7173   33.907066 ... 48.49949  48.696896 48.825832]]\n",
      "\n",
      " [[32.72073  32.72073  33.908104 ... 48.46115  48.658367 48.787113]]\n",
      "\n",
      " ...\n",
      "\n",
      " [[33.65216  33.65216  34.1817   ... 38.147926 38.24005  38.3461  ]]\n",
      "\n",
      " [[33.655613 33.655613 34.182713 ... 38.10959  38.201523 38.30738 ]]\n",
      "\n",
      " [[33.665966 33.665966 34.185745 ... 37.995148 38.085747 38.191414]]]\n",
      "all_quantiles after squeezing shape: (273, 50)\n",
      "Error with cow SE-5c06d92d-2808, lactation 4: too many values to unpack (expected 2)\n"
     ]
    },
    {
     "name": "stderr",
     "output_type": "stream",
     "text": [
      "/Users/user/anaconda3/envs/GIGACOW/lib/python3.11/site-packages/torch/optim/lr_scheduler.py:60: UserWarning: The verbose parameter is deprecated. Please use get_last_lr() to access the learning rate.\n",
      "  warnings.warn(\n",
      " 10%|█         | 240/2315 [01:30<11:26,  3.02 Segments/s]"
     ]
    },
    {
     "name": "stdout",
     "output_type": "stream",
     "text": [
      "all_quantiles shape: (144, 1, 50)\n",
      "all_quantiles content: [[[16.105223 16.105223 19.212103 ... 47.38617  47.07451  46.731373]]\n",
      "\n",
      " [[16.105223 16.105223 19.212103 ... 47.38617  47.07451  46.731373]]\n",
      "\n",
      " [[16.105223 16.105223 19.212103 ... 47.38617  47.07451  46.731373]]\n",
      "\n",
      " ...\n",
      "\n",
      " [[41.7173   41.7173   41.90322  ... 46.998783 47.756195 48.492622]]\n",
      "\n",
      " [[41.925526 41.925526 42.08771  ... 46.995735 47.761723 48.506737]]\n",
      "\n",
      " [[42.133747 42.133747 42.272198 ... 46.992683 47.767254 48.52104 ]]]\n",
      "all_quantiles after squeezing shape: (144, 50)\n",
      "Error with cow SE-5c06d92d-2808, lactation 5: too many values to unpack (expected 2)\n"
     ]
    },
    {
     "name": "stderr",
     "output_type": "stream",
     "text": [
      "/Users/user/anaconda3/envs/GIGACOW/lib/python3.11/site-packages/torch/optim/lr_scheduler.py:60: UserWarning: The verbose parameter is deprecated. Please use get_last_lr() to access the learning rate.\n",
      "  warnings.warn(\n",
      " 10%|█         | 241/2315 [01:31<12:41,  2.72 Segments/s]"
     ]
    },
    {
     "name": "stdout",
     "output_type": "stream",
     "text": [
      "all_quantiles shape: (395, 1, 50)\n",
      "all_quantiles content: [[[21.109222 21.109222 35.72867  ... 73.963165 74.94087  75.82283 ]]\n",
      "\n",
      " [[21.073795 21.073795 35.807465 ... 74.32327  75.30556  76.19133 ]]\n",
      "\n",
      " [[21.109222 21.109222 35.72867  ... 73.963165 74.94087  75.82283 ]]\n",
      "\n",
      " ...\n",
      "\n",
      " [[25.35838  25.35838  26.27679  ... 30.742548 31.179905 31.619738]]\n",
      "\n",
      " [[25.35838  25.35838  26.27679  ... 30.742548 31.179905 31.619738]]\n",
      "\n",
      " [[25.35838  25.35838  26.27679  ... 30.742548 31.179905 31.619738]]]\n",
      "all_quantiles after squeezing shape: (395, 50)\n",
      "Error with cow SE-5c06d92d-2811, lactation 3: too many values to unpack (expected 2)\n"
     ]
    },
    {
     "name": "stderr",
     "output_type": "stream",
     "text": [
      "/Users/user/anaconda3/envs/GIGACOW/lib/python3.11/site-packages/torch/optim/lr_scheduler.py:60: UserWarning: The verbose parameter is deprecated. Please use get_last_lr() to access the learning rate.\n",
      "  warnings.warn(\n",
      " 10%|█         | 243/2315 [01:31<10:20,  3.34 Segments/s]"
     ]
    },
    {
     "name": "stdout",
     "output_type": "stream",
     "text": [
      "all_quantiles shape: (382, 1, 50)\n",
      "all_quantiles content: [[[37.18885  37.18885  37.430214 ... 44.39392  44.483376 44.574165]]\n",
      "\n",
      " [[37.13361  37.13361  37.37792  ... 44.35005  44.44008  44.532204]]\n",
      "\n",
      " [[37.02315  37.02315  37.273323 ... 44.26231  44.353485 44.447895]]\n",
      "\n",
      " ...\n",
      "\n",
      " [[26.36292  26.36292  27.18054  ... 35.790157 35.996437 36.317635]]\n",
      "\n",
      " [[26.36292  26.36292  27.18054  ... 35.790157 35.996437 36.317635]]\n",
      "\n",
      " [[26.36292  26.36292  27.18054  ... 35.790157 35.996437 36.317635]]]\n",
      "all_quantiles after squeezing shape: (382, 50)\n",
      "Error with cow SE-5c06d92d-2816, lactation 3: too many values to unpack (expected 2)\n"
     ]
    },
    {
     "name": "stderr",
     "output_type": "stream",
     "text": [
      "/Users/user/anaconda3/envs/GIGACOW/lib/python3.11/site-packages/torch/optim/lr_scheduler.py:60: UserWarning: The verbose parameter is deprecated. Please use get_last_lr() to access the learning rate.\n",
      "  warnings.warn(\n",
      " 11%|█         | 244/2315 [01:31<11:02,  3.13 Segments/s]"
     ]
    },
    {
     "name": "stdout",
     "output_type": "stream",
     "text": [
      "all_quantiles shape: (154, 1, 50)\n",
      "all_quantiles content: [[[38.214504 38.214504 37.99427  ... 42.333603 42.29221  42.274857]]\n",
      "\n",
      " [[38.091312 38.091312 37.883682 ... 42.23556  42.195892 42.180252]]\n",
      "\n",
      " [[37.96812  37.96812  37.77307  ... 42.137527 42.099953 42.085266]]\n",
      "\n",
      " ...\n",
      "\n",
      " [[19.61243  19.61243  21.293747 ... 27.539253 27.77071  27.970886]]\n",
      "\n",
      " [[19.61243  19.61243  21.293747 ... 27.539253 27.77071  27.970886]]\n",
      "\n",
      " [[19.61243  19.61243  21.293747 ... 27.539253 27.77071  27.970886]]]\n",
      "all_quantiles after squeezing shape: (154, 50)\n",
      "Error with cow SE-5c06d92d-2817, lactation 3: too many values to unpack (expected 2)\n"
     ]
    },
    {
     "name": "stderr",
     "output_type": "stream",
     "text": [
      "/Users/user/anaconda3/envs/GIGACOW/lib/python3.11/site-packages/torch/optim/lr_scheduler.py:60: UserWarning: The verbose parameter is deprecated. Please use get_last_lr() to access the learning rate.\n",
      "  warnings.warn(\n",
      " 11%|█         | 245/2315 [01:32<11:46,  2.93 Segments/s]"
     ]
    },
    {
     "name": "stdout",
     "output_type": "stream",
     "text": [
      "all_quantiles shape: (329, 1, 50)\n",
      "all_quantiles content: [[[16.503822 16.503822 28.525484 ... 52.804565 53.419495 54.43878 ]]\n",
      "\n",
      " [[16.084265 16.084265 28.985285 ... 54.562374 55.190655 56.251335]]\n",
      "\n",
      " [[16.503822 16.503822 28.525484 ... 52.804565 53.419495 54.43878 ]]\n",
      "\n",
      " ...\n",
      "\n",
      " [[21.783255 21.783255 22.739649 ... 30.685709 31.132126 31.631468]]\n",
      "\n",
      " [[21.783255 21.783255 22.739649 ... 30.685709 31.132126 31.631468]]\n",
      "\n",
      " [[21.783255 21.783255 22.739649 ... 30.685709 31.132126 31.631468]]]\n",
      "all_quantiles after squeezing shape: (329, 50)\n",
      "Error with cow SE-5c06d92d-2817, lactation 4: too many values to unpack (expected 2)\n"
     ]
    },
    {
     "name": "stderr",
     "output_type": "stream",
     "text": [
      "/Users/user/anaconda3/envs/GIGACOW/lib/python3.11/site-packages/torch/optim/lr_scheduler.py:60: UserWarning: The verbose parameter is deprecated. Please use get_last_lr() to access the learning rate.\n",
      "  warnings.warn(\n",
      " 11%|█         | 246/2315 [01:32<11:35,  2.97 Segments/s]"
     ]
    },
    {
     "name": "stdout",
     "output_type": "stream",
     "text": [
      "all_quantiles shape: (61, 1, 50)\n",
      "all_quantiles content: [[[24.91305  24.91305  33.452866 ... 53.624725 54.37336  54.494473]]\n",
      "\n",
      " [[19.43488  19.43488  29.681944 ... 53.30391  54.24366  54.388046]]\n",
      "\n",
      " [[20.043564 20.043564 30.10094  ... 53.339577 54.258156 54.399677]]\n",
      "\n",
      " ...\n",
      "\n",
      " [[54.12996  54.12996  53.56445  ... 55.335617 55.06363  55.06363 ]]\n",
      "\n",
      " [[54.738647 54.738647 53.983444 ... 55.371284 55.078125 55.075455]]\n",
      "\n",
      " [[55.347332 55.347332 54.402435 ... 55.40676  55.09243  55.08728 ]]]\n",
      "all_quantiles after squeezing shape: (61, 50)\n",
      "Error with cow SE-5c06d92d-2817, lactation 5: too many values to unpack (expected 2)\n"
     ]
    },
    {
     "name": "stderr",
     "output_type": "stream",
     "text": [
      "/Users/user/anaconda3/envs/GIGACOW/lib/python3.11/site-packages/torch/optim/lr_scheduler.py:60: UserWarning: The verbose parameter is deprecated. Please use get_last_lr() to access the learning rate.\n",
      "  warnings.warn(\n",
      " 11%|█         | 247/2315 [01:33<12:20,  2.79 Segments/s]"
     ]
    },
    {
     "name": "stdout",
     "output_type": "stream",
     "text": [
      "all_quantiles shape: (267, 1, 50)\n",
      "all_quantiles content: [[[42.64919  42.64919  44.02737  ... 49.903103 50.870132 51.28441 ]]\n",
      "\n",
      " [[42.515354 42.515354 43.89571  ... 49.811554 50.774384 51.187515]]\n",
      "\n",
      " [[42.38151  42.38151  43.76405  ... 49.72     50.678825 51.09062 ]]\n",
      "\n",
      " ...\n",
      "\n",
      " [[12.401723 12.401723 14.271582 ... 29.197596 29.251099 29.372787]]\n",
      "\n",
      " [[12.401723 12.401723 14.271582 ... 29.197596 29.251099 29.372787]]\n",
      "\n",
      " [[12.401723 12.401723 14.271582 ... 29.197596 29.251099 29.372787]]]\n",
      "all_quantiles after squeezing shape: (267, 50)\n",
      "Error with cow SE-5c06d92d-2818, lactation 3: too many values to unpack (expected 2)\n"
     ]
    },
    {
     "name": "stderr",
     "output_type": "stream",
     "text": [
      "/Users/user/anaconda3/envs/GIGACOW/lib/python3.11/site-packages/torch/optim/lr_scheduler.py:60: UserWarning: The verbose parameter is deprecated. Please use get_last_lr() to access the learning rate.\n",
      "  warnings.warn(\n",
      " 11%|█         | 248/2315 [01:33<12:57,  2.66 Segments/s]"
     ]
    },
    {
     "name": "stdout",
     "output_type": "stream",
     "text": [
      "all_quantiles shape: (253, 1, 50)\n",
      "all_quantiles content: [[[31.457937 31.457937 33.490788 ... 65.14568  65.38715  65.75222 ]]\n",
      "\n",
      " [[31.457937 31.457937 33.490788 ... 65.14568  65.38715  65.75222 ]]\n",
      "\n",
      " [[31.429659 31.429659 33.463528 ... 65.06367  65.30781  65.6744  ]]\n",
      "\n",
      " ...\n",
      "\n",
      " [[23.48225  23.48225  25.803185 ... 42.004967 43.052483 43.77384 ]]\n",
      "\n",
      " [[23.453974 23.453974 25.77591  ... 41.92295  42.973137 43.696022]]\n",
      "\n",
      " [[23.453974 23.453974 25.77591  ... 41.92295  42.973137 43.696022]]]\n",
      "all_quantiles after squeezing shape: (253, 50)\n",
      "Error with cow SE-5c06d92d-2818, lactation 4: too many values to unpack (expected 2)\n"
     ]
    },
    {
     "name": "stderr",
     "output_type": "stream",
     "text": [
      "/Users/user/anaconda3/envs/GIGACOW/lib/python3.11/site-packages/torch/optim/lr_scheduler.py:60: UserWarning: The verbose parameter is deprecated. Please use get_last_lr() to access the learning rate.\n",
      "  warnings.warn(\n",
      " 11%|█         | 249/2315 [01:33<13:51,  2.49 Segments/s]"
     ]
    },
    {
     "name": "stdout",
     "output_type": "stream",
     "text": [
      "all_quantiles shape: (299, 1, 50)\n",
      "all_quantiles content: [[[52.6474   52.6474   53.753265 ... 63.940235 64.019585 64.076805]]\n",
      "\n",
      " [[52.58824  52.58824  53.69507  ... 63.868332 63.947678 64.00528 ]]\n",
      "\n",
      " [[52.529083 52.529083 53.636883 ... 63.796234 63.87577  63.933372]]\n",
      "\n",
      " ...\n",
      "\n",
      " [[35.07662  35.07662  36.470997 ... 42.55123  42.666817 42.762947]]\n",
      "\n",
      " [[35.017452 35.017452 36.41281  ... 42.47913  42.59491  42.69123 ]]\n",
      "\n",
      " [[35.017452 35.017452 36.41281  ... 42.47913  42.59491  42.69123 ]]]\n",
      "all_quantiles after squeezing shape: (299, 50)\n",
      "Error with cow SE-5c06d92d-2821, lactation 3: too many values to unpack (expected 2)\n"
     ]
    },
    {
     "name": "stderr",
     "output_type": "stream",
     "text": [
      "/Users/user/anaconda3/envs/GIGACOW/lib/python3.11/site-packages/torch/optim/lr_scheduler.py:60: UserWarning: The verbose parameter is deprecated. Please use get_last_lr() to access the learning rate.\n",
      "  warnings.warn(\n",
      " 11%|█         | 250/2315 [01:34<14:28,  2.38 Segments/s]"
     ]
    },
    {
     "name": "stdout",
     "output_type": "stream",
     "text": [
      "all_quantiles shape: (306, 1, 50)\n",
      "all_quantiles content: [[[32.23195  32.23195  36.82673  ... 69.61212  69.83757  70.10689 ]]\n",
      "\n",
      " [[32.092644 32.092644 36.73775  ... 69.862366 70.088005 70.355415]]\n",
      "\n",
      " [[32.127476 32.127476 36.759995 ... 69.799614 70.025444 70.29343 ]]\n",
      "\n",
      " ...\n",
      "\n",
      " [[42.85251  42.85251  43.61142  ... 50.5291   50.73166  51.156803]]\n",
      "\n",
      " [[42.88733  42.88733  43.63365  ... 50.466537 50.668907 51.094624]]\n",
      "\n",
      " [[42.922153 42.922153 43.655884 ... 50.403973 50.606155 51.032635]]]\n",
      "all_quantiles after squeezing shape: (306, 50)\n",
      "Error with cow SE-5c06d92d-2821, lactation 4: too many values to unpack (expected 2)\n"
     ]
    },
    {
     "name": "stderr",
     "output_type": "stream",
     "text": [
      "/Users/user/anaconda3/envs/GIGACOW/lib/python3.11/site-packages/torch/optim/lr_scheduler.py:60: UserWarning: The verbose parameter is deprecated. Please use get_last_lr() to access the learning rate.\n",
      "  warnings.warn(\n",
      " 11%|█         | 252/2315 [01:34<11:15,  3.05 Segments/s]"
     ]
    },
    {
     "name": "stdout",
     "output_type": "stream",
     "text": [
      "all_quantiles shape: (205, 1, 50)\n",
      "all_quantiles content: [[[13.980102 13.980102 19.88542  ... 55.957413 56.14586  56.455418]]\n",
      "\n",
      " [[14.431667 14.431667 21.180916 ... 58.032986 58.22868  58.565712]]\n",
      "\n",
      " [[13.980102 13.980102 19.88542  ... 55.957413 56.14586  56.455418]]\n",
      "\n",
      " ...\n",
      "\n",
      " [[11.180424 11.180424 11.85329  ... 43.08929  43.2312   43.372917]]\n",
      "\n",
      " [[11.135267 11.135267 11.723733 ... 42.881775 43.022915 43.161774]]\n",
      "\n",
      " [[11.120223 11.120223 11.680554 ... 42.812534 42.95349  43.091393]]]\n",
      "all_quantiles after squeezing shape: (205, 50)\n",
      "Error with cow SE-5c06d92d-2825, lactation 3: too many values to unpack (expected 2)\n"
     ]
    },
    {
     "name": "stderr",
     "output_type": "stream",
     "text": [
      "/Users/user/anaconda3/envs/GIGACOW/lib/python3.11/site-packages/torch/optim/lr_scheduler.py:60: UserWarning: The verbose parameter is deprecated. Please use get_last_lr() to access the learning rate.\n",
      "  warnings.warn(\n",
      " 11%|█         | 253/2315 [01:35<12:02,  2.85 Segments/s]"
     ]
    },
    {
     "name": "stdout",
     "output_type": "stream",
     "text": [
      "all_quantiles shape: (335, 1, 50)\n",
      "all_quantiles content: [[[41.663696 41.663696 43.09963  ... 50.836563 50.87967  50.730133]]\n",
      "\n",
      " [[41.606476 41.606476 43.040623 ... 50.775715 50.819202 50.67253 ]]\n",
      "\n",
      " [[41.549267 41.549267 42.981613 ... 50.714493 50.758743 50.61512 ]]\n",
      "\n",
      " ...\n",
      "\n",
      " [[23.812222 23.812222 24.687576 ... 31.787968 32.04317  32.771492]]\n",
      "\n",
      " [[23.812222 23.812222 24.687576 ... 31.787968 32.04317  32.771492]]\n",
      "\n",
      " [[23.812222 23.812222 24.687576 ... 31.787968 32.04317  32.771492]]]\n",
      "all_quantiles after squeezing shape: (335, 50)\n",
      "Error with cow SE-5c06d92d-2826, lactation 3: too many values to unpack (expected 2)\n"
     ]
    },
    {
     "name": "stderr",
     "output_type": "stream",
     "text": [
      "/Users/user/anaconda3/envs/GIGACOW/lib/python3.11/site-packages/torch/optim/lr_scheduler.py:60: UserWarning: The verbose parameter is deprecated. Please use get_last_lr() to access the learning rate.\n",
      "  warnings.warn(\n",
      " 11%|█         | 254/2315 [01:35<12:53,  2.67 Segments/s]"
     ]
    },
    {
     "name": "stdout",
     "output_type": "stream",
     "text": [
      "all_quantiles shape: (269, 1, 50)\n",
      "all_quantiles content: [[[31.50041  31.50041  33.021282 ... 52.615734 54.005623 55.740547]]\n",
      "\n",
      " [[31.515848 31.515848 33.0325   ... 52.580452 53.965374 55.698013]]\n",
      "\n",
      " [[31.531286 31.531286 33.043694 ... 52.54497  53.925133 55.65529 ]]\n",
      "\n",
      " ...\n",
      "\n",
      " [[35.654926 35.654926 36.033916 ... 43.100548 43.18371  44.269753]]\n",
      "\n",
      " [[35.67036  35.67036  36.04512  ... 43.065067 43.143654 44.227028]]\n",
      "\n",
      " [[35.685802 35.685802 36.056328 ... 43.029785 43.103405 44.184494]]]\n",
      "all_quantiles after squeezing shape: (269, 50)\n",
      "Error with cow SE-5c06d92d-2826, lactation 4: too many values to unpack (expected 2)\n"
     ]
    },
    {
     "name": "stderr",
     "output_type": "stream",
     "text": [
      "/Users/user/anaconda3/envs/GIGACOW/lib/python3.11/site-packages/torch/optim/lr_scheduler.py:60: UserWarning: The verbose parameter is deprecated. Please use get_last_lr() to access the learning rate.\n",
      "  warnings.warn(\n",
      " 11%|█         | 255/2315 [01:36<13:20,  2.57 Segments/s]"
     ]
    },
    {
     "name": "stdout",
     "output_type": "stream",
     "text": [
      "all_quantiles shape: (274, 1, 50)\n",
      "all_quantiles content: [[[45.04931  45.04931  44.644863 ... 50.855064 51.177597 51.441956]]\n",
      "\n",
      " [[44.922604 44.922604 44.53074  ... 50.754738 51.076122 51.33953 ]]\n",
      "\n",
      " [[44.7959   44.7959   44.41663  ... 50.65441  50.974655 51.237297]]\n",
      "\n",
      " ...\n",
      "\n",
      " [[10.839188 10.839188 13.832903 ... 23.758411 23.776531 23.79074 ]]\n",
      "\n",
      " [[10.839188 10.839188 13.832903 ... 23.758411 23.776531 23.79074 ]]\n",
      "\n",
      " [[10.839188 10.839188 13.832903 ... 23.758411 23.776531 23.79074 ]]]\n",
      "all_quantiles after squeezing shape: (274, 50)\n",
      "Error with cow SE-5c06d92d-2828, lactation 3: too many values to unpack (expected 2)\n"
     ]
    },
    {
     "name": "stderr",
     "output_type": "stream",
     "text": [
      "/Users/user/anaconda3/envs/GIGACOW/lib/python3.11/site-packages/torch/optim/lr_scheduler.py:60: UserWarning: The verbose parameter is deprecated. Please use get_last_lr() to access the learning rate.\n",
      "  warnings.warn(\n",
      " 11%|█         | 256/2315 [01:36<13:24,  2.56 Segments/s]"
     ]
    },
    {
     "name": "stdout",
     "output_type": "stream",
     "text": [
      "all_quantiles shape: (275, 1, 50)\n",
      "all_quantiles content: [[[13.566065 13.566065 24.110935 ... 59.257317 60.066605 61.079403]]\n",
      "\n",
      " [[13.566065 13.566065 24.110935 ... 59.257317 60.066605 61.079403]]\n",
      "\n",
      " [[13.719666 13.719666 24.139141 ... 59.052654 59.85298  60.851665]]\n",
      "\n",
      " ...\n",
      "\n",
      " [[24.011158 24.011158 26.028585 ... 45.355415 45.536613 45.58544 ]]\n",
      "\n",
      " [[24.011158 24.011158 26.028585 ... 45.355415 45.536613 45.58544 ]]\n",
      "\n",
      " [[24.011158 24.011158 26.028585 ... 45.355415 45.536613 45.58544 ]]]\n",
      "all_quantiles after squeezing shape: (275, 50)\n",
      "Error with cow SE-5c06d92d-2828, lactation 4: too many values to unpack (expected 2)\n"
     ]
    },
    {
     "name": "stderr",
     "output_type": "stream",
     "text": [
      "/Users/user/anaconda3/envs/GIGACOW/lib/python3.11/site-packages/torch/optim/lr_scheduler.py:60: UserWarning: The verbose parameter is deprecated. Please use get_last_lr() to access the learning rate.\n",
      "  warnings.warn(\n",
      " 11%|█         | 257/2315 [01:36<13:28,  2.55 Segments/s]"
     ]
    },
    {
     "name": "stdout",
     "output_type": "stream",
     "text": [
      "all_quantiles shape: (353, 1, 50)\n",
      "all_quantiles content: [[[50.103054 50.103054 50.81451  ... 59.376144 59.34963  59.406467]]\n",
      "\n",
      " [[50.030457 50.030457 50.757847 ... 59.320446 59.295273 59.352684]]\n",
      "\n",
      " [[49.957848 49.957848 50.701187 ... 59.264755 59.241104 59.298706]]\n",
      "\n",
      " ...\n",
      "\n",
      " [[25.417805 25.417805 31.550264 ... 40.45887  40.86227  41.09058 ]]\n",
      "\n",
      " [[25.417805 25.417805 31.550264 ... 40.45887  40.86227  41.09058 ]]\n",
      "\n",
      " [[25.417805 25.417805 31.550264 ... 40.45887  40.86227  41.09058 ]]]\n",
      "all_quantiles after squeezing shape: (353, 50)\n",
      "Error with cow SE-5c06d92d-2829, lactation 3: too many values to unpack (expected 2)\n"
     ]
    },
    {
     "name": "stderr",
     "output_type": "stream",
     "text": [
      "/Users/user/anaconda3/envs/GIGACOW/lib/python3.11/site-packages/torch/optim/lr_scheduler.py:60: UserWarning: The verbose parameter is deprecated. Please use get_last_lr() to access the learning rate.\n",
      "  warnings.warn(\n",
      " 11%|█         | 258/2315 [01:37<13:23,  2.56 Segments/s]"
     ]
    },
    {
     "name": "stdout",
     "output_type": "stream",
     "text": [
      "all_quantiles shape: (239, 1, 50)\n",
      "all_quantiles content: [[[27.791882 27.791882 31.226086 ... 77.68993  77.978325 80.967514]]\n",
      "\n",
      " [[27.791882 27.791882 31.226086 ... 77.68993  77.978325 80.967514]]\n",
      "\n",
      " [[27.840183 27.840183 31.260393 ... 77.5341   77.82345  80.80044 ]]\n",
      "\n",
      " ...\n",
      "\n",
      " [[39.33506  39.33506  39.430107 ... 40.470314 40.921783 41.06369 ]]\n",
      "\n",
      " [[39.38335  39.38335  39.464436 ... 40.314674 40.766712 40.896606]]\n",
      "\n",
      " [[39.431652 39.431652 39.49876  ... 40.158844 40.61184  40.729523]]]\n",
      "all_quantiles after squeezing shape: (239, 50)\n",
      "Error with cow SE-5c06d92d-2829, lactation 4: too many values to unpack (expected 2)\n"
     ]
    },
    {
     "name": "stderr",
     "output_type": "stream",
     "text": [
      "/Users/user/anaconda3/envs/GIGACOW/lib/python3.11/site-packages/torch/optim/lr_scheduler.py:60: UserWarning: The verbose parameter is deprecated. Please use get_last_lr() to access the learning rate.\n",
      "  warnings.warn(\n",
      " 11%|█         | 259/2315 [01:37<13:02,  2.63 Segments/s]"
     ]
    },
    {
     "name": "stdout",
     "output_type": "stream",
     "text": [
      "all_quantiles shape: (171, 1, 50)\n",
      "all_quantiles content: [[[39.603035 39.603035 39.601246 ... 39.91604  40.019417 40.09781 ]]\n",
      "\n",
      " [[39.236652 39.236652 39.26079  ... 39.90555  40.00835  40.086555]]\n",
      "\n",
      " [[38.870274 38.870274 38.920353 ... 39.89525  39.99729  40.0753  ]]\n",
      "\n",
      " ...\n",
      "\n",
      " [[22.383118 22.383118 23.600399 ... 39.424706 39.503094 39.561653]]\n",
      "\n",
      " [[22.383118 22.383118 23.600399 ... 39.424706 39.503094 39.561653]]\n",
      "\n",
      " [[22.383118 22.383118 23.600399 ... 39.424706 39.503094 39.561653]]]\n",
      "all_quantiles after squeezing shape: (171, 50)\n",
      "Error with cow SE-5c06d92d-2830, lactation 2: too many values to unpack (expected 2)\n"
     ]
    },
    {
     "name": "stderr",
     "output_type": "stream",
     "text": [
      "/Users/user/anaconda3/envs/GIGACOW/lib/python3.11/site-packages/torch/optim/lr_scheduler.py:60: UserWarning: The verbose parameter is deprecated. Please use get_last_lr() to access the learning rate.\n",
      "  warnings.warn(\n",
      " 11%|█         | 260/2315 [01:38<13:32,  2.53 Segments/s]"
     ]
    },
    {
     "name": "stdout",
     "output_type": "stream",
     "text": [
      "all_quantiles shape: (449, 1, 50)\n",
      "all_quantiles content: [[[38.608253 38.608253 48.121452 ... 62.701984 63.16223  63.945766]]\n",
      "\n",
      " [[38.76556  38.76556  48.47282  ... 63.08746  63.54446  64.33296 ]]\n",
      "\n",
      " [[38.745903 38.745903 48.428905 ... 63.039394 63.496586 64.284706]]\n",
      "\n",
      " ...\n",
      "\n",
      " [[31.647278 31.647278 32.57327  ... 45.64228  46.249767 46.809578]]\n",
      "\n",
      " [[31.647278 31.647278 32.57327  ... 45.64228  46.249767 46.809578]]\n",
      "\n",
      " [[31.647278 31.647278 32.57327  ... 45.64228  46.249767 46.809578]]]\n",
      "all_quantiles after squeezing shape: (449, 50)\n",
      "Error with cow SE-5c06d92d-2830, lactation 3: too many values to unpack (expected 2)\n"
     ]
    },
    {
     "name": "stderr",
     "output_type": "stream",
     "text": [
      "/Users/user/anaconda3/envs/GIGACOW/lib/python3.11/site-packages/torch/optim/lr_scheduler.py:60: UserWarning: The verbose parameter is deprecated. Please use get_last_lr() to access the learning rate.\n",
      "  warnings.warn(\n",
      " 11%|█▏        | 261/2315 [01:38<12:44,  2.69 Segments/s]"
     ]
    },
    {
     "name": "stdout",
     "output_type": "stream",
     "text": [
      "all_quantiles shape: (65, 1, 50)\n",
      "all_quantiles content: [[[38.44627  38.44627  39.54694  ... 40.052605 40.081215 40.10086 ]]\n",
      "\n",
      " [[38.082764 38.082764 39.173454 ... 40.0095   40.044975 40.068245]]\n",
      "\n",
      " [[37.71926  37.71926  38.799976 ... 39.96639  40.00873  40.03582 ]]\n",
      "\n",
      " ...\n",
      "\n",
      " [[16.636013 16.636013 17.138243 ... 37.46853  37.909126 38.146782]]\n",
      "\n",
      " [[16.636013 16.636013 17.138243 ... 37.46853  37.909126 38.146782]]\n",
      "\n",
      " [[16.636013 16.636013 17.138243 ... 37.46853  37.909126 38.146782]]]\n",
      "all_quantiles after squeezing shape: (65, 50)\n",
      "Error with cow SE-5c06d92d-2831, lactation 2: too many values to unpack (expected 2)\n"
     ]
    },
    {
     "name": "stderr",
     "output_type": "stream",
     "text": [
      "/Users/user/anaconda3/envs/GIGACOW/lib/python3.11/site-packages/torch/optim/lr_scheduler.py:60: UserWarning: The verbose parameter is deprecated. Please use get_last_lr() to access the learning rate.\n",
      "  warnings.warn(\n",
      " 11%|█▏        | 262/2315 [01:38<13:34,  2.52 Segments/s]"
     ]
    },
    {
     "name": "stdout",
     "output_type": "stream",
     "text": [
      "all_quantiles shape: (389, 1, 50)\n",
      "all_quantiles content: [[[23.207806 23.207806 24.932432 ... 58.04577  58.796688 59.288406]]\n",
      "\n",
      " [[22.883844 22.883844 24.333334 ... 60.044857 60.84957  61.317062]]\n",
      "\n",
      " [[22.893953 22.893953 24.352074 ... 59.982487 60.785294 61.25374 ]]\n",
      "\n",
      " ...\n",
      "\n",
      " [[26.53886  26.53886  31.091904 ... 37.49237  37.690353 38.43193 ]]\n",
      "\n",
      " [[26.53886  26.53886  31.091904 ... 37.49237  37.690353 38.43193 ]]\n",
      "\n",
      " [[26.53886  26.53886  31.091904 ... 37.49237  37.690353 38.43193 ]]]\n",
      "all_quantiles after squeezing shape: (389, 50)\n",
      "Error with cow SE-5c06d92d-2831, lactation 3: too many values to unpack (expected 2)\n"
     ]
    },
    {
     "name": "stderr",
     "output_type": "stream",
     "text": [
      "/Users/user/anaconda3/envs/GIGACOW/lib/python3.11/site-packages/torch/optim/lr_scheduler.py:60: UserWarning: The verbose parameter is deprecated. Please use get_last_lr() to access the learning rate.\n",
      "  warnings.warn(\n",
      " 11%|█▏        | 263/2315 [01:39<12:48,  2.67 Segments/s]"
     ]
    },
    {
     "name": "stdout",
     "output_type": "stream",
     "text": [
      "all_quantiles shape: (74, 1, 50)\n",
      "all_quantiles content: [[[23.608564 23.608564 29.511738 ... 63.866997 64.38446  64.19239 ]]\n",
      "\n",
      " [[23.608564 23.608564 29.511738 ... 63.866997 64.38446  64.19239 ]]\n",
      "\n",
      " [[24.107313 24.107313 29.938816 ... 63.932034 64.44454  64.26563 ]]\n",
      "\n",
      " ...\n",
      "\n",
      " [[58.521576 58.521576 59.40783  ... 68.43109  68.598366 69.31801 ]]\n",
      "\n",
      " [[59.020336 59.020336 59.83491  ... 68.49632  68.65864  69.39125 ]]\n",
      "\n",
      " [[59.519096 59.519096 60.261986 ... 68.56136  68.71872  69.4643  ]]]\n",
      "all_quantiles after squeezing shape: (74, 50)\n",
      "Error with cow SE-5c06d92d-2831, lactation 4: too many values to unpack (expected 2)\n"
     ]
    },
    {
     "name": "stderr",
     "output_type": "stream",
     "text": [
      "/Users/user/anaconda3/envs/GIGACOW/lib/python3.11/site-packages/torch/optim/lr_scheduler.py:60: UserWarning: The verbose parameter is deprecated. Please use get_last_lr() to access the learning rate.\n",
      "  warnings.warn(\n",
      " 11%|█▏        | 264/2315 [01:39<15:13,  2.25 Segments/s]"
     ]
    },
    {
     "name": "stdout",
     "output_type": "stream",
     "text": [
      "all_quantiles shape: (678, 1, 50)\n",
      "all_quantiles content: [[[33.47693  33.47693  34.50321  ... 39.385605 39.822384 40.45906 ]]\n",
      "\n",
      " [[33.44028  33.44028  34.465015 ... 39.377213 39.8138   40.449333]]\n",
      "\n",
      " [[33.403618 33.403618 34.426807 ... 39.36863  39.805412 40.439606]]\n",
      "\n",
      " ...\n",
      "\n",
      " [[25.229729 25.229729 25.906837 ... 37.49056  37.89425  38.280296]]\n",
      "\n",
      " [[25.229729 25.229729 25.906837 ... 37.49056  37.89425  38.280296]]\n",
      "\n",
      " [[25.229729 25.229729 25.906837 ... 37.49056  37.89425  38.280296]]]\n",
      "all_quantiles after squeezing shape: (678, 50)\n",
      "Error with cow SE-5c06d92d-2832, lactation 3: too many values to unpack (expected 2)\n"
     ]
    },
    {
     "name": "stderr",
     "output_type": "stream",
     "text": [
      "/Users/user/anaconda3/envs/GIGACOW/lib/python3.11/site-packages/torch/optim/lr_scheduler.py:60: UserWarning: The verbose parameter is deprecated. Please use get_last_lr() to access the learning rate.\n",
      "  warnings.warn(\n",
      " 11%|█▏        | 265/2315 [01:40<14:32,  2.35 Segments/s]"
     ]
    },
    {
     "name": "stdout",
     "output_type": "stream",
     "text": [
      "all_quantiles shape: (326, 1, 50)\n",
      "all_quantiles content: [[[36.12882  36.12882  36.293816 ... 43.72635  43.832207 43.359756]]\n",
      "\n",
      " [[36.075073 36.075073 36.24083  ... 43.673515 43.780895 43.31264 ]]\n",
      "\n",
      " [[36.02134  36.02134  36.187828 ... 43.620872 43.7294   43.26553 ]]\n",
      "\n",
      " ...\n",
      "\n",
      " [[21.887314 21.887314 22.25188  ... 29.77314  30.190277 30.884552]]\n",
      "\n",
      " [[21.887314 21.887314 22.25188  ... 29.77314  30.190277 30.884552]]\n",
      "\n",
      " [[21.887314 21.887314 22.25188  ... 29.77314  30.190277 30.884552]]]\n",
      "all_quantiles after squeezing shape: (326, 50)\n",
      "Error with cow SE-5c06d92d-2834, lactation 3: too many values to unpack (expected 2)\n"
     ]
    },
    {
     "name": "stderr",
     "output_type": "stream",
     "text": [
      "/Users/user/anaconda3/envs/GIGACOW/lib/python3.11/site-packages/torch/optim/lr_scheduler.py:60: UserWarning: The verbose parameter is deprecated. Please use get_last_lr() to access the learning rate.\n",
      "  warnings.warn(\n",
      " 11%|█▏        | 266/2315 [01:40<15:23,  2.22 Segments/s]"
     ]
    },
    {
     "name": "stdout",
     "output_type": "stream",
     "text": [
      "all_quantiles shape: (250, 1, 50)\n",
      "all_quantiles content: [[[45.02933  45.02933  46.256542 ... 51.737404 52.040863 52.43015 ]]\n",
      "\n",
      " [[44.965233 44.965233 46.18969  ... 51.702118 52.006336 52.395058]]\n",
      "\n",
      " [[44.901115 44.901115 46.12286  ... 51.66702  51.971626 52.35977 ]]\n",
      "\n",
      " ...\n",
      "\n",
      " [[29.131435 29.131435 29.68068  ... 43.00842  43.44864  43.693733]]\n",
      "\n",
      " [[29.067326 29.067326 29.613838 ... 42.973328 43.41392  43.658638]]\n",
      "\n",
      " [[29.067326 29.067326 29.613838 ... 42.973328 43.41392  43.658638]]]\n",
      "all_quantiles after squeezing shape: (250, 50)\n",
      "Error with cow SE-5c06d92d-2835, lactation 3: too many values to unpack (expected 2)\n"
     ]
    },
    {
     "name": "stderr",
     "output_type": "stream",
     "text": [
      "/Users/user/anaconda3/envs/GIGACOW/lib/python3.11/site-packages/torch/optim/lr_scheduler.py:60: UserWarning: The verbose parameter is deprecated. Please use get_last_lr() to access the learning rate.\n",
      "  warnings.warn(\n",
      " 12%|█▏        | 267/2315 [01:41<16:43,  2.04 Segments/s]"
     ]
    },
    {
     "name": "stdout",
     "output_type": "stream",
     "text": [
      "all_quantiles shape: (287, 1, 50)\n",
      "all_quantiles content: [[[16.45118  16.45118  22.578703 ... 56.809425 56.973076 57.14245 ]]\n",
      "\n",
      " [[16.20022  16.20022  22.432636 ... 57.22866  57.39174  57.549095]]\n",
      "\n",
      " [[16.45118  16.45118  22.578703 ... 56.809425 56.973076 57.14245 ]]\n",
      "\n",
      " ...\n",
      "\n",
      " [[25.046778 25.046778 27.581953 ... 42.451477 42.62848  43.2209  ]]\n",
      "\n",
      " [[25.046778 25.046778 27.581953 ... 42.451477 42.62848  43.2209  ]]\n",
      "\n",
      " [[25.046778 25.046778 27.581953 ... 42.451477 42.62848  43.2209  ]]]\n",
      "all_quantiles after squeezing shape: (287, 50)\n",
      "Error with cow SE-5c06d92d-2835, lactation 4: too many values to unpack (expected 2)\n"
     ]
    },
    {
     "name": "stderr",
     "output_type": "stream",
     "text": [
      "/Users/user/anaconda3/envs/GIGACOW/lib/python3.11/site-packages/torch/optim/lr_scheduler.py:60: UserWarning: The verbose parameter is deprecated. Please use get_last_lr() to access the learning rate.\n",
      "  warnings.warn(\n",
      " 12%|█▏        | 268/2315 [01:41<15:08,  2.25 Segments/s]"
     ]
    },
    {
     "name": "stdout",
     "output_type": "stream",
     "text": [
      "all_quantiles shape: (18, 1, 50)\n",
      "all_quantiles content: [[[20.050024 20.050024 20.049952 20.050049 20.049952 20.713425 26.340818\n",
      "   26.495026 26.495075 26.49765  26.571415 27.372501 28.091955 28.147743\n",
      "   28.158522 28.219223 28.60508  29.412031 29.800034 29.942131 30.02367\n",
      "   30.087183 30.147743 30.200768 30.242634 30.272102 30.273438 30.540657\n",
      "   34.563828 35.118866 35.089016 35.080624 35.095215 35.806274 37.322807\n",
      "   37.531757 37.46891  37.432003 37.5309   38.326454 39.788437 40.263176\n",
      "   40.312386 40.35797  40.556145 41.12968  41.52832  41.125103 40.857693\n",
      "   40.92407 ]]\n",
      "\n",
      " [[20.050024 20.050024 20.049952 20.050049 20.049952 20.713425 26.340818\n",
      "   26.495026 26.495075 26.49765  26.571415 27.372501 28.091955 28.147743\n",
      "   28.158522 28.219223 28.60508  29.412031 29.800034 29.942131 30.02367\n",
      "   30.087183 30.147743 30.200768 30.242634 30.272102 30.273438 30.540657\n",
      "   34.563828 35.118866 35.089016 35.080624 35.095215 35.806274 37.322807\n",
      "   37.531757 37.46891  37.432003 37.5309   38.326454 39.788437 40.263176\n",
      "   40.312386 40.35797  40.556145 41.12968  41.52832  41.125103 40.857693\n",
      "   40.92407 ]]\n",
      "\n",
      " [[21.934128 21.934128 21.934105 21.934128 21.934078 22.560787 28.114319\n",
      "   28.329515 28.329515 28.331804 28.397655 29.16379  29.9685   30.043936\n",
      "   30.05457  30.113363 30.485437 31.273746 31.673717 31.82354  31.905745\n",
      "   31.968115 32.028294 32.082558 32.12681  32.159042 32.16448  32.41663\n",
      "   36.110687 36.627293 36.60927  36.608887 36.627293 37.27808  38.659096\n",
      "   38.85307  38.801193 38.773823 38.868332 39.587498 40.90252  41.32957\n",
      "   41.373634 41.41502  41.593933 42.111774 42.47398  42.123413 41.9096\n",
      "   41.993904]]\n",
      "\n",
      " [[23.81823  23.81823  23.818182 23.81823  23.818207 24.408197 29.887817\n",
      "   30.163956 30.164003 30.16591  30.223846 30.955122 31.845043 31.940079\n",
      "   31.950665 32.007504 32.3658   33.135365 33.547497 33.70495  33.787727\n",
      "   33.84924  33.90875  33.964348 34.010983 34.045887 34.055614 34.292507\n",
      "   37.657642 38.13572  38.12952  38.13715  38.15927  38.74979  39.995575\n",
      "   40.1742   40.133667 40.11564  40.20567  40.848637 42.016598 42.39559\n",
      "   42.43526  42.472076 42.631718 43.093487 43.419838 43.121906 42.961693\n",
      "   43.063164]]\n",
      "\n",
      " [[25.702333 25.702333 25.702284 25.702333 25.702284 26.255606 31.66132\n",
      "   31.998444 31.998491 32.000015 32.050083 32.746456 33.721542 33.83627\n",
      "   33.846664 33.90169  34.24616  34.99708  35.421276 35.586357 35.669613\n",
      "   35.730267 35.7893   35.846043 35.895348 35.93273  35.946747 36.168385\n",
      "   39.204502 39.644142 39.649773 39.66541  39.691254 40.221596 41.331955\n",
      "   41.49542  41.46614  41.457367 41.543102 42.10949  43.130875 43.4618\n",
      "   43.496704 43.52913  43.6697   44.075394 44.3655   44.120216 44.01359\n",
      "   44.13299 ]]\n",
      "\n",
      " [[27.586435 27.586435 27.586388 27.58646  27.586412 28.103018 33.434772\n",
      "   33.832886 33.83298  33.83417  33.876274 34.537792 35.598087 35.73241\n",
      "   35.74276  35.79583  36.126472 36.858845 37.29496  37.467766 37.55169\n",
      "   37.6112   37.669945 37.727734 37.779522 37.81967  37.83779  38.044262\n",
      "   40.751457 41.15257  41.17002  41.193672 41.22324  41.6934   42.668343\n",
      "   42.81664  42.79852  42.799187 42.88044  43.370625 44.244957 44.528008\n",
      "   44.55814  44.58637  44.7073   45.057297 45.31116  45.118713 45.06569\n",
      "   45.202446]]\n",
      "\n",
      " [[29.47054  29.47054  29.470516 29.47054  29.470516 29.95045  35.208225\n",
      "   35.66737  35.667465 35.668278 35.702515 36.32908  37.474632 37.628605\n",
      "   37.638805 37.689972 38.00683  38.720562 39.168644 39.34927  39.43357\n",
      "   39.49232  39.550396 39.609528 39.66379  39.706512 39.728832 39.920235\n",
      "   42.298317 42.661    42.690277 42.721935 42.755314 43.16511  44.004818\n",
      "   44.13776  44.13099  44.140816 44.217873 44.631767 45.359035 45.594215\n",
      "   45.619583 45.643425 45.745083 46.0392   46.25702  46.117016 46.117783\n",
      "   46.271896]]\n",
      "\n",
      " [[31.354666 31.354666 31.354593 31.354666 31.354618 31.797861 36.9817\n",
      "   37.501858 37.501907 37.50248  37.528656 38.12041  39.351177 39.524742\n",
      "   39.5349   39.58411  39.88719  40.58218  41.042423 41.23068  41.315647\n",
      "   41.373253 41.43095  41.491314 41.547966 41.593456 41.61997  41.796017\n",
      "   43.84527  44.169426 44.21053  44.2502   44.2873   44.636917 45.341206\n",
      "   45.45898  45.463276 45.482822 45.555115 45.89271  46.473312 46.66042\n",
      "   46.681023 46.700478 46.783066 47.020912 47.202682 47.115517 47.169685\n",
      "   47.341537]]\n",
      "\n",
      " [[33.23877  33.23877  33.238697 33.23877  33.23872  33.64527  38.7552\n",
      "   39.336323 39.33639  39.336582 39.354893 39.911697 41.227722 41.420887\n",
      "   41.430996 41.478252 41.7675   42.443943 42.916203 43.112087 43.197536\n",
      "   43.254375 43.3115   43.37301  43.43214  43.480297 43.5111   43.67199\n",
      "   45.39213  45.677753 45.730877 45.77846  45.819283 46.108723 46.67759\n",
      "   46.7803   46.795654 46.824646 46.892357 47.153854 47.587395 47.72663\n",
      "   47.74246  47.757526 47.820854 48.002815 48.148342 48.113823 48.22197\n",
      "   48.410984]]\n",
      "\n",
      " [[35.12287  35.12287  35.12281  35.12287  35.12285  35.492657 40.528675\n",
      "   41.17081  41.170883 41.170692 41.181087 41.70308  43.104218 43.317078\n",
      "   43.327    43.372437 43.64786  44.305656 44.789886 44.993492 45.079613\n",
      "   45.135303 45.19205  45.254707 45.3165   45.367146 45.40214  45.547962\n",
      "   46.938988 47.186184 47.251125 47.306725 47.35126  47.580524 48.014065\n",
      "   48.101425 48.127937 48.166466 48.229786 48.41499  48.701473 48.79284\n",
      "   48.8039   48.814583 48.85864  48.98472  49.0942   49.112125 49.27406\n",
      "   49.48044 ]]\n",
      "\n",
      " [[37.006973 37.006973 37.006927 37.006996 37.006927 37.34007  42.30216\n",
      "   43.005302 43.005325 43.004845 43.007328 43.494366 44.980762 45.21322\n",
      "   45.22309  45.26658  45.52822  46.167374 46.663567 46.874996 46.9615\n",
      "   47.016335 47.0726   47.136497 47.20068  47.25408  47.29328  47.42374\n",
      "   48.485947 48.69461  48.77138  48.834896 48.883343 49.05233  49.350452\n",
      "   49.422646 49.46041  49.508286 49.567223 49.67594  49.81556  49.859047\n",
      "   49.865337 49.871635 49.89662  49.96643  50.039864 50.110626 50.325966\n",
      "   50.55008 ]]\n",
      "\n",
      " [[38.891075 38.891075 38.89103  38.891098 38.89103  39.187477 44.075657\n",
      "   44.839764 44.83981  44.838955 44.833515 45.2857   46.857307 47.10941\n",
      "   47.11914  47.160717 47.40858  48.028996 48.537445 48.75631  48.843575\n",
      "   48.897358 48.953056 49.018288 49.084854 49.141026 49.184322 49.299713\n",
      "   50.032806 50.203037 50.291634 50.36316  50.41542  50.524044 50.686836\n",
      "   50.743866 50.792885 50.849915 50.90465  50.93689  50.929832 50.925255\n",
      "   50.92678  50.928684 50.93441  50.948334 50.985714 51.10893  51.37806\n",
      "   51.619526]]\n",
      "\n",
      " [[40.775192 40.775192 40.77513  40.775204 40.775143 41.03489  45.849133\n",
      "   46.67423  46.674274 46.673103 46.659756 47.07699  48.733852 49.005554\n",
      "   49.015236 49.05486  49.28889  49.890755 50.411125 50.637722 50.725555\n",
      "   50.77839  50.833702 50.899982 50.969124 51.027866 51.07536  51.175594\n",
      "   51.579758 51.711464 51.811886 51.891514 51.947308 51.995945 52.023125\n",
      "   52.065086 52.125164 52.19192  52.241898 52.19803  52.04391  51.99165\n",
      "   51.98784  51.98593  51.972195 51.930233 51.93138  52.10743  52.43015\n",
      "   52.68898 ]]\n",
      "\n",
      " [[42.659294 42.659294 42.659237 42.65932  42.659237 42.882298 47.62261\n",
      "   48.508713 48.508762 48.50726  48.485897 48.86832  50.610397 50.901695\n",
      "   50.91133  50.948997 51.16925  51.75247  52.284813 52.519226 52.607536\n",
      "   52.65932  52.71425  52.781773 52.8533   52.91471  52.96659  53.05147\n",
      "   53.12662  53.219887 53.332134 53.419685 53.47948  53.46756  53.3596\n",
      "   53.386307 53.45764  53.533554 53.579327 53.459167 53.157997 53.05767\n",
      "   53.049465 53.042984 53.010178 52.912136 52.877045 53.105736 53.482056\n",
      "   53.75862 ]]\n",
      "\n",
      " [[44.5434   44.5434   44.54334  44.543423 44.543346 44.729694 49.396084\n",
      "   50.3432   50.343227 50.34139  50.312138 50.659657 52.486897 52.797886\n",
      "   52.80733  52.843185 53.04961  53.614185 54.158493 54.400635 54.489513\n",
      "   54.540443 54.594707 54.663467 54.737568 54.80165  54.85763  54.92735\n",
      "   54.673477 54.728413 54.85239  54.94795  55.01146  54.93946  54.69589\n",
      "   54.707527 54.79011  54.875374 54.916573 54.720116 54.27227  54.12388\n",
      "   54.11091  54.100037 54.047966 53.89404  53.822704 54.10423  54.53415\n",
      "   54.828068]]\n",
      "\n",
      " [[46.4275   46.4275   46.42745  46.427532 46.42744  46.577133 51.169548\n",
      "   52.17767  52.177715 52.17552  52.13833  52.45099  54.36344  54.69403\n",
      "   54.703426 54.737328 54.92997  55.475807 56.03237  56.282043 56.3714\n",
      "   56.421467 56.47535  56.545162 56.621838 56.688496 56.748672 56.803318\n",
      "   56.220432 56.236744 56.372643 56.476303 56.54335  56.411167 56.03237\n",
      "   56.028748 56.1224   56.217194 56.254    55.981255 55.38635  55.190086\n",
      "   55.172344 55.157085 55.08575  54.875942 54.76837  55.10273  55.58624\n",
      "   55.897713]]\n",
      "\n",
      " [[48.311604 48.311604 48.311554 48.311638 48.311543 48.42454  52.943024\n",
      "   54.012154 54.012154 54.00965  53.964565 54.242275 56.239986 56.590225\n",
      "   56.599472 56.631466 56.81028  57.337566 57.90605  58.163452 58.25348\n",
      "   58.3024   58.355904 58.42695  58.506012 58.57544  58.639717 58.6792\n",
      "   57.767296 57.74517  57.89299  58.004566 58.07533  57.88307  57.36866\n",
      "   57.349968 57.454872 57.559013 57.591248 57.242393 56.500435 56.256294\n",
      "   56.233788 56.21414  56.123543 55.857845 55.714226 56.100845 56.638336\n",
      "   56.967163]]\n",
      "\n",
      " [[50.195705 50.195705 50.195656 50.19574  50.19567  50.271942 54.716515\n",
      "   55.84662  55.84664  55.843784 55.790806 56.03356  58.11653  58.486362\n",
      "   58.49557  58.525608 58.69064  59.199284 59.77974  60.044956 60.135365\n",
      "   60.18352  60.236355 60.308743 60.390182 60.46228  60.53095  60.555073\n",
      "   59.314156 59.253597 59.413338 59.532738 59.60731  59.354782 58.705326\n",
      "   58.670998 58.787346 58.90064  58.928867 58.50315  57.614517 57.32269\n",
      "   57.295227 57.271385 57.16133  56.83956  56.659885 57.099342 57.690426\n",
      "   58.036804]]]\n",
      "all_quantiles after squeezing shape: (18, 50)\n",
      "Error with cow SE-5c06d92d-2835, lactation 5: too many values to unpack (expected 2)\n"
     ]
    },
    {
     "name": "stderr",
     "output_type": "stream",
     "text": [
      "/Users/user/anaconda3/envs/GIGACOW/lib/python3.11/site-packages/torch/optim/lr_scheduler.py:60: UserWarning: The verbose parameter is deprecated. Please use get_last_lr() to access the learning rate.\n",
      "  warnings.warn(\n",
      " 12%|█▏        | 269/2315 [01:42<15:34,  2.19 Segments/s]"
     ]
    },
    {
     "name": "stdout",
     "output_type": "stream",
     "text": [
      "all_quantiles shape: (14, 1, 50)\n",
      "all_quantiles content: [[[18.521032  18.521032  18.528164  18.537718  18.551254  18.572294\n",
      "   18.618847  18.9041    20.157753  18.058657  17.931913  17.94753\n",
      "   17.96279   17.98029   18.000244  18.022823  18.04924   18.083405\n",
      "   18.133307  18.206047  18.28518   18.312788  18.234396  18.11037\n",
      "   18.052006  17.991543  17.437553  17.167044  17.4819    17.660141\n",
      "   17.72661   17.769241  17.806387  17.839336  17.863607  17.859411\n",
      "   17.898369  18.148375  18.552017  18.755722  18.85686   18.894005\n",
      "   18.879509  18.882084  18.890093  18.920326  18.934822  18.915844\n",
      "   18.913841  18.913935 ]]\n",
      "\n",
      " [[17.850145  17.850145  17.857075  17.866385  17.879593  17.899872\n",
      "   17.943775  18.208313  19.397402  17.950249  17.859411  17.87343\n",
      "   17.887138  17.902851  17.92085   17.941402  17.965889  17.998505\n",
      "   18.047499  18.120909  18.204117  18.243313  18.187857  18.08834\n",
      "   18.041039  17.991209  17.535448  17.355013  17.680836  17.857265\n",
      "   17.92078   17.960405  17.995405  18.030594  18.072939  18.105936\n",
      "   18.161821  18.391275  18.756008  18.941545  19.079494  19.269323\n",
      "   19.282103  19.285393  19.29636   19.349957  19.43245   19.452\n",
      "   19.455051  19.455719 ]]\n",
      "\n",
      " [[17.179262  17.179262  17.18598   17.195068  17.207909  17.227459\n",
      "   17.268705  17.512537  18.637037  17.841839  17.786907  17.799328\n",
      "   17.81149   17.825413  17.841434  17.860006  17.88256   17.91358\n",
      "   17.961716  18.03572   18.123077  18.173838  18.141317  18.066357\n",
      "   18.030024  17.990875  17.63339   17.542934  17.879725  18.054436\n",
      "   18.114996  18.151522  18.184471  18.221807  18.28227   18.352459\n",
      "   18.425322  18.634176  18.959951  19.127369  19.30213   19.64464\n",
      "   19.684694  19.688702  19.702625  19.779682  19.929981  19.988155\n",
      "   19.996357  19.997404 ]]\n",
      "\n",
      " [[16.508375  16.508375  16.51489   16.523735  16.536236  16.555035\n",
      "   16.593647  16.816748  17.876684  17.73343   17.714405  17.725252\n",
      "   17.73579   17.747974  17.762064  17.778563  17.799234  17.828655\n",
      "   17.875933  17.950583  18.042015  18.104362  18.094778  18.044329\n",
      "   18.019056  17.99059   17.731237  17.730951  18.078566  18.25161\n",
      "   18.309164  18.342686  18.37349   18.413067  18.491602  18.598986\n",
      "   18.688774  18.877077  19.163942  19.313192  19.524717  20.020054\n",
      "   20.087337  20.091915  20.108984  20.209215  20.427608  20.524214\n",
      "   20.537758  20.539093 ]]\n",
      "\n",
      " [[15.83749   15.83749   15.843802  15.852409  15.864574  15.882611\n",
      "   15.918565  16.120981  17.11632   17.625021  17.641926  17.651129\n",
      "   17.660141  17.670536  17.68267   17.697144  17.715906  17.74373\n",
      "   17.790127  17.86542   17.960978  18.034887  18.048239  18.022346\n",
      "   18.008041  17.990255  17.82913   17.91892   18.277502  18.448734\n",
      "   18.503332  18.53385   18.562555  18.604279  18.700933  18.845558\n",
      "   18.952227  19.11993   19.367933  19.499016  19.747353  20.395372\n",
      "   20.489931  20.495222  20.515251  20.638943  20.92514   21.06037\n",
      "   21.079063  21.08078  ]]\n",
      "\n",
      " [[15.166611  15.166611  15.1727085 15.1810875 15.19289   15.210198\n",
      "   15.243494  15.425193  16.355967  17.516636  17.569399  17.577028\n",
      "   17.58449   17.593098  17.603277  17.615723  17.632555  17.658806\n",
      "   17.704344  17.78028   17.879915  17.965412  18.0017    18.000364\n",
      "   17.997026  17.98997   17.92698   18.106888  18.47639   18.645906\n",
      "   18.6975    18.725014  18.751574  18.795538  18.910265  19.092083\n",
      "   19.21568   19.362831  19.571922  19.68484   19.969986  20.77069\n",
      "   20.892525  20.898531  20.921516  21.068573  21.422766  21.596527\n",
      "   21.620369  21.622467 ]]\n",
      "\n",
      " [[14.495718  14.495718  14.501619  14.509761  14.521216  14.537775\n",
      "   14.568436  14.729404  15.595614  17.408228  17.496895  17.502928\n",
      "   17.50884   17.51566   17.523884  17.534279  17.549252  17.573881\n",
      "   17.61856   17.695093  17.798828  17.896032  17.955112  17.978334\n",
      "   17.98606   17.989635  18.024921  18.294811  18.67528   18.843079\n",
      "   18.891668  18.916178  18.94064   18.98675   19.119596  19.338608\n",
      "   19.47918   19.605684  19.775915  19.87071   20.192575  21.146059\n",
      "   21.295166  21.301746  21.32778   21.498299  21.9203    22.132683\n",
      "   22.16158   22.164248 ]]\n",
      "\n",
      " [[13.824838  13.824838  13.830524  13.838433  13.849556  13.865352\n",
      "   13.893366  14.0336275 14.83525   17.299818  17.424417  17.428827\n",
      "   17.433167  17.438221  17.444468  17.452885  17.465925  17.488932\n",
      "   17.532778  17.609953  17.717766  17.826557  17.908573  17.956352\n",
      "   17.975044  17.989302  18.122816  18.48278   18.874216  19.040203\n",
      "   19.085836  19.107342  19.129658  19.178009  19.328928  19.585133\n",
      "   19.742632  19.848585  19.979906  20.056532  20.415163  21.521378\n",
      "   21.697807  21.705055  21.734047  21.928024  22.417831  22.668839\n",
      "   22.702885  22.705935 ]]\n",
      "\n",
      " [[13.153953  13.153953  13.159441  13.167108  13.177871  13.19294\n",
      "   13.218295  13.337838  14.074898  17.19141   17.351913  17.354727\n",
      "   17.357517  17.360783  17.365074  17.371464  17.382574  17.404032\n",
      "   17.446972  17.52479   17.636728  17.757082  17.862034  17.934322\n",
      "   17.964077  17.989016  18.220663  18.670797  19.073057  19.237375\n",
      "   19.280005  19.298506  19.318724  19.36922   19.538258  19.831703\n",
      "   20.006084  20.091484  20.18385   20.242357  20.637798  21.896744\n",
      "   22.100351  22.108364  22.140406  22.357557  22.915457  23.204994\n",
      "   23.244188  23.247719 ]]\n",
      "\n",
      " [[12.48306   12.48306   12.488354  12.49578   12.506199  12.520527\n",
      "   12.543224  12.64205   13.314545  17.083     17.27941   17.280626\n",
      "   17.281866  17.283344  17.28568   17.29002   17.29927   17.319082\n",
      "   17.361212  17.439627  17.555666  17.687607  17.815495  17.91234\n",
      "   17.953062  17.988682  18.318558  18.858767  19.271994  19.4345\n",
      "   19.474173  19.48967   19.507742  19.560432  19.747686  20.07818\n",
      "   20.269537  20.334385  20.38784   20.42818   20.860434  22.27211\n",
      "   22.502993  22.511673  22.546577  22.787285  23.41299   23.74115\n",
      "   23.785494  23.789406 ]]\n",
      "\n",
      " [[11.812185  11.812185  11.817252  11.824452  11.8345375 11.8481045\n",
      "   11.868155  11.946273  12.55418   16.974592  17.20693   17.206526\n",
      "   17.206192  17.205906  17.206287  17.208601  17.21592   17.234182\n",
      "   17.275406  17.354464  17.474604  17.618155  17.768955  17.890358\n",
      "   17.942047  17.988396  18.416405  19.046736  19.470882  19.631672\n",
      "   19.66834   19.680834  19.696806  19.751642  19.957018  20.324707\n",
      "   20.53299   20.577288  20.591831  20.614004  21.083069  22.64738\n",
      "   22.905634  22.914982  22.952843  23.216915  23.910713  24.277113\n",
      "   24.326895  24.331093 ]]\n",
      "\n",
      " [[11.1413    11.1413    11.146152  11.153137  11.162853  11.17568\n",
      "   11.193097  11.2504835 11.793828  16.866182  17.134428  17.132425\n",
      "   17.13054   17.128468  17.126894  17.12718   17.132591  17.149233\n",
      "   17.189621  17.269325  17.393541  17.54868   17.722416  17.868328\n",
      "   17.93108   17.988062  18.514347  19.234657  19.669771  19.828842\n",
      "   19.862507  19.871998  19.885826  19.942904  20.16635   20.57128\n",
      "   20.796442  20.82014   20.79582   20.799828  21.305656  23.022795\n",
      "   23.308182  23.318289  23.359106  23.64664   24.408243  24.813269\n",
      "   24.868105  24.872873 ]]\n",
      "\n",
      " [[11.1413    11.1413    11.146152  11.153137  11.162853  11.17568\n",
      "   11.193097  11.2504835 11.793828  16.866182  17.134428  17.132425\n",
      "   17.13054   17.128468  17.126894  17.12718   17.132591  17.149233\n",
      "   17.189621  17.269325  17.393541  17.54868   17.722416  17.868328\n",
      "   17.93108   17.988062  18.514347  19.234657  19.669771  19.828842\n",
      "   19.862507  19.871998  19.885826  19.942904  20.16635   20.57128\n",
      "   20.796442  20.82014   20.79582   20.799828  21.305656  23.022795\n",
      "   23.308182  23.318289  23.359106  23.64664   24.408243  24.813269\n",
      "   24.868105  24.872873 ]]\n",
      "\n",
      " [[11.1413    11.1413    11.146152  11.153137  11.162853  11.17568\n",
      "   11.193097  11.2504835 11.793828  16.866182  17.134428  17.132425\n",
      "   17.13054   17.128468  17.126894  17.12718   17.132591  17.149233\n",
      "   17.189621  17.269325  17.393541  17.54868   17.722416  17.868328\n",
      "   17.93108   17.988062  18.514347  19.234657  19.669771  19.828842\n",
      "   19.862507  19.871998  19.885826  19.942904  20.16635   20.57128\n",
      "   20.796442  20.82014   20.79582   20.799828  21.305656  23.022795\n",
      "   23.308182  23.318289  23.359106  23.64664   24.408243  24.813269\n",
      "   24.868105  24.872873 ]]]\n",
      "all_quantiles after squeezing shape: (14, 50)\n",
      "Error with cow SE-5c06d92d-2837, lactation 2: too many values to unpack (expected 2)\n"
     ]
    },
    {
     "name": "stderr",
     "output_type": "stream",
     "text": [
      "/Users/user/anaconda3/envs/GIGACOW/lib/python3.11/site-packages/torch/optim/lr_scheduler.py:60: UserWarning: The verbose parameter is deprecated. Please use get_last_lr() to access the learning rate.\n",
      "  warnings.warn(\n",
      " 12%|█▏        | 270/2315 [01:42<14:45,  2.31 Segments/s]"
     ]
    },
    {
     "name": "stdout",
     "output_type": "stream",
     "text": [
      "all_quantiles shape: (37, 1, 50)\n",
      "all_quantiles content: [[[13.516377  13.516377  14.153886  ... 35.65235   35.709667  35.7831   ]]\n",
      "\n",
      " [[-2.6078222 -2.6078222 -1.4674425 ... 31.263447  31.376932  31.54125  ]]\n",
      "\n",
      " [[13.516377  13.516377  14.153886  ... 35.65235   35.709667  35.7831   ]]\n",
      "\n",
      " ...\n",
      "\n",
      " [[32.059204  32.059204  32.118427  ... 40.699764  40.69214   40.661427 ]]\n",
      "\n",
      " [[32.865417  32.865417  32.899498  ... 40.91911   40.908813  40.873528 ]]\n",
      "\n",
      " [[33.671616  33.671616  33.680557  ... 41.138645  41.12549   41.085434 ]]]\n",
      "all_quantiles after squeezing shape: (37, 50)\n",
      "Error with cow SE-5c06d92d-2837, lactation 3: too many values to unpack (expected 2)\n"
     ]
    },
    {
     "name": "stderr",
     "output_type": "stream",
     "text": [
      "/Users/user/anaconda3/envs/GIGACOW/lib/python3.11/site-packages/torch/optim/lr_scheduler.py:60: UserWarning: The verbose parameter is deprecated. Please use get_last_lr() to access the learning rate.\n",
      "  warnings.warn(\n",
      " 12%|█▏        | 271/2315 [01:43<16:27,  2.07 Segments/s]"
     ]
    },
    {
     "name": "stdout",
     "output_type": "stream",
     "text": [
      "all_quantiles shape: (382, 1, 50)\n",
      "all_quantiles content: [[[40.61575  40.61575  41.519512 ... 54.68101  54.50916  53.975674]]\n",
      "\n",
      " [[40.570557 40.570557 41.47378  ... 54.609676 54.439545 53.910255]]\n",
      "\n",
      " [[40.525364 40.525364 41.428062 ... 54.53815  54.369926 53.845024]]\n",
      "\n",
      " ...\n",
      "\n",
      " [[24.663889 24.663889 25.37936  ... 29.4631   29.920578 30.916594]]\n",
      "\n",
      " [[24.663889 24.663889 25.37936  ... 29.4631   29.920578 30.916594]]\n",
      "\n",
      " [[24.663889 24.663889 25.37936  ... 29.4631   29.920578 30.916594]]]\n",
      "all_quantiles after squeezing shape: (382, 50)\n",
      "Error with cow SE-5c06d92d-2839, lactation 3: too many values to unpack (expected 2)\n"
     ]
    },
    {
     "name": "stderr",
     "output_type": "stream",
     "text": [
      "/Users/user/anaconda3/envs/GIGACOW/lib/python3.11/site-packages/torch/optim/lr_scheduler.py:60: UserWarning: The verbose parameter is deprecated. Please use get_last_lr() to access the learning rate.\n",
      "  warnings.warn(\n",
      " 12%|█▏        | 272/2315 [01:43<16:13,  2.10 Segments/s]"
     ]
    },
    {
     "name": "stdout",
     "output_type": "stream",
     "text": [
      "all_quantiles shape: (388, 1, 50)\n",
      "all_quantiles content: [[[42.401455 42.401455 43.065258 ... 59.12876  57.012363 57.08542 ]]\n",
      "\n",
      " [[42.33173  42.33173  43.007465 ... 59.05037  56.95457  57.031628]]\n",
      "\n",
      " [[42.261993 42.261993 42.949688 ... 58.972164 56.89659  56.977844]]\n",
      "\n",
      " ...\n",
      "\n",
      " [[17.578423 17.578423 22.49409  ... 31.287193 36.35502  37.963486]]\n",
      "\n",
      " [[17.578423 17.578423 22.49409  ... 31.287193 36.35502  37.963486]]\n",
      "\n",
      " [[17.578423 17.578423 22.49409  ... 31.287193 36.35502  37.963486]]]\n",
      "all_quantiles after squeezing shape: (388, 50)\n",
      "Error with cow SE-5c06d92d-2840, lactation 3: too many values to unpack (expected 2)\n"
     ]
    },
    {
     "name": "stderr",
     "output_type": "stream",
     "text": [
      "/Users/user/anaconda3/envs/GIGACOW/lib/python3.11/site-packages/torch/optim/lr_scheduler.py:60: UserWarning: The verbose parameter is deprecated. Please use get_last_lr() to access the learning rate.\n",
      "  warnings.warn(\n",
      " 12%|█▏        | 273/2315 [01:44<16:36,  2.05 Segments/s]"
     ]
    },
    {
     "name": "stdout",
     "output_type": "stream",
     "text": [
      "all_quantiles shape: (226, 1, 50)\n",
      "all_quantiles content: [[[18.088745 18.088745 21.529243 ... 77.23446  77.908134 77.747536]]\n",
      "\n",
      " [[18.088745 18.088745 21.529243 ... 77.23446  77.908134 77.747536]]\n",
      "\n",
      " [[18.18738  18.18738  21.61069  ... 77.064514 77.73495  77.57778 ]]\n",
      "\n",
      " ...\n",
      "\n",
      " [[39.98039  39.98039  39.613125 ... 39.541622 39.463615 40.076828]]\n",
      "\n",
      " [[40.079    40.079    39.69459  ... 39.371872 39.29043  39.907265]]\n",
      "\n",
      " [[40.17762  40.17762  39.77605  ... 39.202118 39.117237 39.737507]]]\n",
      "all_quantiles after squeezing shape: (226, 50)\n",
      "Error with cow SE-5c06d92d-2840, lactation 4: too many values to unpack (expected 2)\n"
     ]
    },
    {
     "name": "stderr",
     "output_type": "stream",
     "text": [
      "/Users/user/anaconda3/envs/GIGACOW/lib/python3.11/site-packages/torch/optim/lr_scheduler.py:60: UserWarning: The verbose parameter is deprecated. Please use get_last_lr() to access the learning rate.\n",
      "  warnings.warn(\n",
      " 12%|█▏        | 274/2315 [01:44<16:31,  2.06 Segments/s]"
     ]
    },
    {
     "name": "stdout",
     "output_type": "stream",
     "text": [
      "all_quantiles shape: (315, 1, 50)\n",
      "all_quantiles content: [[[26.588547 26.588547 32.545483 ... 60.355373 60.640144 61.050415]]\n",
      "\n",
      " [[26.612125 26.612125 32.594357 ... 60.569378 60.85567  61.267853]]\n",
      "\n",
      " [[26.588547 26.588547 32.545483 ... 60.355373 60.640144 61.050415]]\n",
      "\n",
      " ...\n",
      "\n",
      " [[22.955166 22.955166 25.020193 ... 27.399254 27.474403 27.548409]]\n",
      "\n",
      " [[22.955166 22.955166 25.020193 ... 27.399254 27.474403 27.548409]]\n",
      "\n",
      " [[22.955166 22.955166 25.020193 ... 27.399254 27.474403 27.548409]]]\n",
      "all_quantiles after squeezing shape: (315, 50)\n",
      "Error with cow SE-5c06d92d-2843, lactation 3: too many values to unpack (expected 2)\n"
     ]
    },
    {
     "name": "stderr",
     "output_type": "stream",
     "text": [
      "/Users/user/anaconda3/envs/GIGACOW/lib/python3.11/site-packages/torch/optim/lr_scheduler.py:60: UserWarning: The verbose parameter is deprecated. Please use get_last_lr() to access the learning rate.\n",
      "  warnings.warn(\n",
      " 12%|█▏        | 275/2315 [01:45<16:44,  2.03 Segments/s]"
     ]
    },
    {
     "name": "stdout",
     "output_type": "stream",
     "text": [
      "all_quantiles shape: (261, 1, 50)\n",
      "all_quantiles content: [[[20.563255 20.563255 22.817541 ... 55.690193 55.92785  56.480217]]\n",
      "\n",
      " [[20.520937 20.520937 22.78161  ... 55.771446 56.007767 56.560898]]\n",
      "\n",
      " [[20.563255 20.563255 22.817541 ... 55.690193 55.92785  56.480217]]\n",
      "\n",
      " ...\n",
      "\n",
      " [[31.477879 31.477879 32.089996 ... 34.7332   35.274506 35.68687 ]]\n",
      "\n",
      " [[31.520187 31.520187 32.125927 ... 34.651947 35.194588 35.606194]]\n",
      "\n",
      " [[31.562483 31.562483 32.16188  ... 34.570885 35.11448  35.525513]]]\n",
      "all_quantiles after squeezing shape: (261, 50)\n",
      "Error with cow SE-5c06d92d-2843, lactation 4: too many values to unpack (expected 2)\n"
     ]
    },
    {
     "name": "stderr",
     "output_type": "stream",
     "text": [
      "/Users/user/anaconda3/envs/GIGACOW/lib/python3.11/site-packages/torch/optim/lr_scheduler.py:60: UserWarning: The verbose parameter is deprecated. Please use get_last_lr() to access the learning rate.\n",
      "  warnings.warn(\n",
      " 12%|█▏        | 277/2315 [01:45<11:20,  2.99 Segments/s]"
     ]
    },
    {
     "name": "stdout",
     "output_type": "stream",
     "text": [
      "all_quantiles shape: (48, 1, 50)\n",
      "all_quantiles content: [[[11.511839  11.511839  12.886643  ... 39.728165  39.822575  39.917183 ]]\n",
      "\n",
      " [[11.511839  11.511839  12.886643  ... 39.728165  39.822575  39.917183 ]]\n",
      "\n",
      " [[11.561941  11.561941  12.884855  ... 39.108753  39.224335  39.33468  ]]\n",
      "\n",
      " ...\n",
      "\n",
      " [[12.764788  12.764788  12.841678  ... 24.243067  24.863241  25.35467  ]]\n",
      "\n",
      " [[12.7898445 12.7898445 12.840772  ... 23.933409  24.564075  25.063322 ]]\n",
      "\n",
      " [[12.839937  12.839937  12.838984  ... 23.314     23.965645  24.480915 ]]]\n",
      "all_quantiles after squeezing shape: (48, 50)\n",
      "Error with cow SE-5c06d92d-2845, lactation 3: too many values to unpack (expected 2)\n"
     ]
    },
    {
     "name": "stderr",
     "output_type": "stream",
     "text": [
      "/Users/user/anaconda3/envs/GIGACOW/lib/python3.11/site-packages/torch/optim/lr_scheduler.py:60: UserWarning: The verbose parameter is deprecated. Please use get_last_lr() to access the learning rate.\n",
      "  warnings.warn(\n",
      " 12%|█▏        | 278/2315 [01:45<11:58,  2.83 Segments/s]"
     ]
    },
    {
     "name": "stdout",
     "output_type": "stream",
     "text": [
      "all_quantiles shape: (258, 1, 50)\n",
      "all_quantiles content: [[[41.10553  41.10553  41.541412 ... 47.064972 47.154236 47.237965]]\n",
      "\n",
      " [[41.030796 41.030796 41.468334 ... 46.998974 47.089    47.174454]]\n",
      "\n",
      " [[40.956055 40.956055 41.39526  ... 46.933174 47.023773 47.11075 ]]\n",
      "\n",
      " ...\n",
      "\n",
      " [[22.047758 22.047758 22.908186 ... 30.286978 30.51529  31.012152]]\n",
      "\n",
      " [[21.973026 21.973026 22.835123 ... 30.221176 30.450058 30.948544]]\n",
      "\n",
      " [[21.973026 21.973026 22.835123 ... 30.221176 30.450058 30.948544]]]\n",
      "all_quantiles after squeezing shape: (258, 50)\n",
      "Error with cow SE-5c06d92d-2846, lactation 3: too many values to unpack (expected 2)\n"
     ]
    },
    {
     "name": "stderr",
     "output_type": "stream",
     "text": [
      "/Users/user/anaconda3/envs/GIGACOW/lib/python3.11/site-packages/torch/optim/lr_scheduler.py:60: UserWarning: The verbose parameter is deprecated. Please use get_last_lr() to access the learning rate.\n",
      "  warnings.warn(\n",
      " 12%|█▏        | 279/2315 [01:46<12:13,  2.77 Segments/s]"
     ]
    },
    {
     "name": "stdout",
     "output_type": "stream",
     "text": [
      "all_quantiles shape: (270, 1, 50)\n",
      "all_quantiles content: [[[30.824196 30.824196 32.288742 ... 47.660065 47.98832  48.49605 ]]\n",
      "\n",
      " [[30.845558 30.845558 32.31835  ... 47.75009  48.080063 48.59047 ]]\n",
      "\n",
      " [[30.834877 30.834877 32.303547 ... 47.705074 48.034283 48.543167]]\n",
      "\n",
      " ...\n",
      "\n",
      " [[27.984297 27.984297 28.349136 ... 35.663795 35.801125 35.915752]]\n",
      "\n",
      " [[27.973627 27.973627 28.33433  ... 35.61859  35.75535  35.868454]]\n",
      "\n",
      " [[27.973627 27.973627 28.33433  ... 35.61859  35.75535  35.868454]]]\n",
      "all_quantiles after squeezing shape: (270, 50)\n",
      "Error with cow SE-5c06d92d-2846, lactation 4: too many values to unpack (expected 2)\n"
     ]
    },
    {
     "name": "stderr",
     "output_type": "stream",
     "text": [
      "/Users/user/anaconda3/envs/GIGACOW/lib/python3.11/site-packages/torch/optim/lr_scheduler.py:60: UserWarning: The verbose parameter is deprecated. Please use get_last_lr() to access the learning rate.\n",
      "  warnings.warn(\n",
      " 12%|█▏        | 280/2315 [01:46<11:20,  2.99 Segments/s]"
     ]
    },
    {
     "name": "stdout",
     "output_type": "stream",
     "text": [
      "all_quantiles shape: (28, 1, 50)\n",
      "all_quantiles content: [[[10.19001  10.19001  10.19001  ... 28.238201 28.46384  29.757975]]\n",
      "\n",
      " [[10.19001  10.19001  10.19001  ... 28.238201 28.46384  29.757975]]\n",
      "\n",
      " [[11.557245 11.557245 11.557673 ... 29.077148 29.290483 30.511951]]\n",
      "\n",
      " ...\n",
      "\n",
      " [[43.003773 43.003773 43.01438  ... 48.373795 48.304367 47.85099 ]]\n",
      "\n",
      " [[44.37102  44.37102  44.38206  ... 49.212646 49.13101  48.604965]]\n",
      "\n",
      " [[45.738266 45.738266 45.749744 ... 50.05169  49.957657 49.358936]]]\n",
      "all_quantiles after squeezing shape: (28, 50)\n",
      "Error with cow SE-5c06d92d-2846, lactation 5: too many values to unpack (expected 2)\n"
     ]
    },
    {
     "name": "stderr",
     "output_type": "stream",
     "text": [
      "/Users/user/anaconda3/envs/GIGACOW/lib/python3.11/site-packages/torch/optim/lr_scheduler.py:60: UserWarning: The verbose parameter is deprecated. Please use get_last_lr() to access the learning rate.\n",
      "  warnings.warn(\n",
      " 12%|█▏        | 281/2315 [01:46<11:47,  2.88 Segments/s]"
     ]
    },
    {
     "name": "stdout",
     "output_type": "stream",
     "text": [
      "all_quantiles shape: (265, 1, 50)\n",
      "all_quantiles content: [[[33.294197 33.294197 34.950768 ... 43.634987 43.891716 44.73324 ]]\n",
      "\n",
      " [[33.235615 33.235615 34.890984 ... 43.567657 43.824    44.66209 ]]\n",
      "\n",
      " [[33.17703  33.17703  34.8312   ... 43.500137 43.7561   44.591137]]\n",
      "\n",
      " ...\n",
      "\n",
      " [[17.944086 17.944086 19.288563 ... 25.966358 26.125717 26.129723]]\n",
      "\n",
      " [[17.885517 17.885517 19.228767 ... 25.898933 26.058004 26.058674]]\n",
      "\n",
      " [[17.826925 17.826925 19.168997 ... 25.831507 25.990105 25.98772 ]]]\n",
      "all_quantiles after squeezing shape: (265, 50)\n",
      "Error with cow SE-5c06d92d-2847, lactation 3: too many values to unpack (expected 2)\n"
     ]
    },
    {
     "name": "stderr",
     "output_type": "stream",
     "text": [
      "/Users/user/anaconda3/envs/GIGACOW/lib/python3.11/site-packages/torch/optim/lr_scheduler.py:60: UserWarning: The verbose parameter is deprecated. Please use get_last_lr() to access the learning rate.\n",
      "  warnings.warn(\n",
      " 12%|█▏        | 282/2315 [01:47<12:05,  2.80 Segments/s]"
     ]
    },
    {
     "name": "stdout",
     "output_type": "stream",
     "text": [
      "all_quantiles shape: (258, 1, 50)\n",
      "all_quantiles content: [[[47.357174 47.357174 47.435986 ... 58.654785 58.688545 58.20179 ]]\n",
      "\n",
      " [[47.274662 47.274662 47.354103 ... 58.559418 58.595272 58.115387]]\n",
      "\n",
      " [[47.19213  47.19213  47.27224  ... 58.46405  58.501816 58.029366]]\n",
      "\n",
      " ...\n",
      "\n",
      " [[26.312792 26.312792 26.55815  ... 34.347534 34.854126 36.24611 ]]\n",
      "\n",
      " [[26.230251 26.230251 26.476276 ... 34.252167 34.760666 36.159897]]\n",
      "\n",
      " [[26.230251 26.230251 26.476276 ... 34.252167 34.760666 36.159897]]]\n",
      "all_quantiles after squeezing shape: (258, 50)\n",
      "Error with cow SE-5c06d92d-2852, lactation 3: too many values to unpack (expected 2)\n"
     ]
    },
    {
     "name": "stderr",
     "output_type": "stream",
     "text": [
      "/Users/user/anaconda3/envs/GIGACOW/lib/python3.11/site-packages/torch/optim/lr_scheduler.py:60: UserWarning: The verbose parameter is deprecated. Please use get_last_lr() to access the learning rate.\n",
      "  warnings.warn(\n",
      " 12%|█▏        | 283/2315 [01:47<12:28,  2.72 Segments/s]"
     ]
    },
    {
     "name": "stdout",
     "output_type": "stream",
     "text": [
      "all_quantiles shape: (353, 1, 50)\n",
      "all_quantiles content: [[[17.710377 17.710377 26.955925 ... 55.444523 55.457493 55.34172 ]]\n",
      "\n",
      " [[17.619574 17.619574 26.977444 ... 55.727196 55.727768 55.589294]]\n",
      "\n",
      " [[17.710377 17.710377 26.955925 ... 55.444523 55.457493 55.34172 ]]\n",
      "\n",
      " ...\n",
      "\n",
      " [[23.067366 23.067366 25.686718 ... 38.776875 39.50653  40.73677 ]]\n",
      "\n",
      " [[23.082506 23.082506 25.683128 ... 38.72986  39.461327 40.695568]]\n",
      "\n",
      " [[23.097633 23.097633 25.679552 ... 38.682747 39.416313 40.654182]]]\n",
      "all_quantiles after squeezing shape: (353, 50)\n",
      "Error with cow SE-5c06d92d-2852, lactation 4: too many values to unpack (expected 2)\n"
     ]
    },
    {
     "name": "stderr",
     "output_type": "stream",
     "text": [
      "/Users/user/anaconda3/envs/GIGACOW/lib/python3.11/site-packages/torch/optim/lr_scheduler.py:60: UserWarning: The verbose parameter is deprecated. Please use get_last_lr() to access the learning rate.\n",
      "  warnings.warn(\n",
      " 12%|█▏        | 284/2315 [01:47<11:50,  2.86 Segments/s]"
     ]
    },
    {
     "name": "stdout",
     "output_type": "stream",
     "text": [
      "all_quantiles shape: (58, 1, 50)\n",
      "all_quantiles content: [[[28.15066   28.15066   29.527592  ... 32.73382   32.72648   32.697678 ]]\n",
      "\n",
      " [[27.765434  27.765434  29.175465  ... 32.52411   32.518864  32.493114 ]]\n",
      "\n",
      " [[27.380209  27.380209  28.82334   ... 32.3143    32.31125   32.288647 ]]\n",
      "\n",
      " ...\n",
      "\n",
      " [[ 7.7336903  7.7336903 10.864818  ... 21.6156    21.722221  21.860695 ]]\n",
      "\n",
      " [[ 7.7336903  7.7336903 10.864818  ... 21.6156    21.722221  21.860695 ]]\n",
      "\n",
      " [[ 7.7336903  7.7336903 10.864818  ... 21.6156    21.722221  21.860695 ]]]\n",
      "all_quantiles after squeezing shape: (58, 50)\n",
      "Error with cow SE-5c06d92d-2855, lactation 2: too many values to unpack (expected 2)\n"
     ]
    },
    {
     "name": "stderr",
     "output_type": "stream",
     "text": [
      "/Users/user/anaconda3/envs/GIGACOW/lib/python3.11/site-packages/torch/optim/lr_scheduler.py:60: UserWarning: The verbose parameter is deprecated. Please use get_last_lr() to access the learning rate.\n",
      "  warnings.warn(\n",
      " 12%|█▏        | 285/2315 [01:48<12:09,  2.78 Segments/s]"
     ]
    },
    {
     "name": "stdout",
     "output_type": "stream",
     "text": [
      "all_quantiles shape: (255, 1, 50)\n",
      "all_quantiles content: [[[12.174559 12.174559 12.441587 ... 56.034847 57.165714 58.910175]]\n",
      "\n",
      " [[12.174559 12.174559 12.441587 ... 56.034847 57.165714 58.910175]]\n",
      "\n",
      " [[12.219763 12.219763 12.492513 ... 55.966377 57.094955 58.834072]]\n",
      "\n",
      " ...\n",
      "\n",
      " [[25.862146 25.862146 27.87815  ... 35.303593 35.72855  35.863686]]\n",
      "\n",
      " [[25.907312 25.907312 27.929102 ... 35.23512  35.657883 35.787678]]\n",
      "\n",
      " [[25.952482 25.952482 27.980053 ... 35.16674  35.58712  35.71148 ]]]\n",
      "all_quantiles after squeezing shape: (255, 50)\n",
      "Error with cow SE-5c06d92d-2855, lactation 3: too many values to unpack (expected 2)\n"
     ]
    },
    {
     "name": "stderr",
     "output_type": "stream",
     "text": [
      "/Users/user/anaconda3/envs/GIGACOW/lib/python3.11/site-packages/torch/optim/lr_scheduler.py:60: UserWarning: The verbose parameter is deprecated. Please use get_last_lr() to access the learning rate.\n",
      "  warnings.warn(\n",
      " 12%|█▏        | 286/2315 [01:48<11:45,  2.87 Segments/s]"
     ]
    },
    {
     "name": "stdout",
     "output_type": "stream",
     "text": [
      "all_quantiles shape: (90, 1, 50)\n",
      "all_quantiles content: [[[34.22388  34.22388  33.95183  ... 35.754967 35.815617 35.86235 ]]\n",
      "\n",
      " [[34.04836  34.04836  33.80002  ... 35.70347  35.764313 35.81066 ]]\n",
      "\n",
      " [[33.872837 33.872837 33.648216 ... 35.65235  35.712624 35.758972]]\n",
      "\n",
      " ...\n",
      "\n",
      " [[28.256208 28.256208 28.790354 ... 34.010315 34.06725  34.103394]]\n",
      "\n",
      " [[28.256208 28.256208 28.790354 ... 34.010315 34.06725  34.103394]]\n",
      "\n",
      " [[28.256208 28.256208 28.790354 ... 34.010315 34.06725  34.103394]]]\n",
      "all_quantiles after squeezing shape: (90, 50)\n",
      "Error with cow SE-5c06d92d-2859, lactation 2: too many values to unpack (expected 2)\n"
     ]
    },
    {
     "name": "stderr",
     "output_type": "stream",
     "text": [
      "/Users/user/anaconda3/envs/GIGACOW/lib/python3.11/site-packages/torch/optim/lr_scheduler.py:60: UserWarning: The verbose parameter is deprecated. Please use get_last_lr() to access the learning rate.\n",
      "  warnings.warn(\n",
      " 12%|█▏        | 287/2315 [01:49<12:29,  2.71 Segments/s]"
     ]
    },
    {
     "name": "stdout",
     "output_type": "stream",
     "text": [
      "all_quantiles shape: (314, 1, 50)\n",
      "all_quantiles content: [[[22.21229  22.21229  28.786705 ... 51.32141  51.550293 51.743313]]\n",
      "\n",
      " [[20.894505 20.894505 28.241873 ... 52.797695 53.050995 53.258133]]\n",
      "\n",
      " [[20.963871 20.963871 28.270529 ... 52.72007  52.97203  53.178593]]\n",
      "\n",
      " ...\n",
      "\n",
      " [[31.679464 31.679464 32.70104  ... 40.716362 40.768433 40.860558]]\n",
      "\n",
      " [[31.714153 31.714153 32.715378 ... 40.677452 40.729137 40.820694]]\n",
      "\n",
      " [[31.714153 31.714153 32.715378 ... 40.677452 40.729137 40.820694]]]\n",
      "all_quantiles after squeezing shape: (314, 50)\n",
      "Error with cow SE-5c06d92d-2859, lactation 3: too many values to unpack (expected 2)\n"
     ]
    },
    {
     "name": "stderr",
     "output_type": "stream",
     "text": [
      "/Users/user/anaconda3/envs/GIGACOW/lib/python3.11/site-packages/torch/optim/lr_scheduler.py:60: UserWarning: The verbose parameter is deprecated. Please use get_last_lr() to access the learning rate.\n",
      "  warnings.warn(\n",
      " 12%|█▏        | 288/2315 [01:49<12:20,  2.74 Segments/s]"
     ]
    },
    {
     "name": "stdout",
     "output_type": "stream",
     "text": [
      "all_quantiles shape: (150, 1, 50)\n",
      "all_quantiles content: [[[29.001474 29.001474 30.663013 ... 50.626945 50.86403  51.147648]]\n",
      "\n",
      " [[29.001474 29.001474 30.663013 ... 50.626945 50.86403  51.147648]]\n",
      "\n",
      " [[29.001474 29.001474 30.663013 ... 50.626945 50.86403  51.147648]]\n",
      "\n",
      " ...\n",
      "\n",
      " [[35.476494 35.476494 37.604008 ... 47.346684 47.92957  48.36502 ]]\n",
      "\n",
      " [[36.619137 36.619137 38.828896 ... 46.767616 47.41192  47.87388 ]]\n",
      "\n",
      " [[36.55566  36.55566  38.76084  ... 46.79985  47.44072  47.901154]]]\n",
      "all_quantiles after squeezing shape: (150, 50)\n",
      "Error with cow SE-5c06d92d-2859, lactation 4: too many values to unpack (expected 2)\n"
     ]
    },
    {
     "name": "stderr",
     "output_type": "stream",
     "text": [
      "/Users/user/anaconda3/envs/GIGACOW/lib/python3.11/site-packages/torch/optim/lr_scheduler.py:60: UserWarning: The verbose parameter is deprecated. Please use get_last_lr() to access the learning rate.\n",
      "  warnings.warn(\n",
      " 12%|█▏        | 289/2315 [01:49<11:53,  2.84 Segments/s]"
     ]
    },
    {
     "name": "stdout",
     "output_type": "stream",
     "text": [
      "all_quantiles shape: (74, 1, 50)\n",
      "all_quantiles content: [[[34.415913 34.415913 34.519405 ... 35.193253 35.19783  35.21881 ]]\n",
      "\n",
      " [[34.061573 34.061573 34.170208 ... 35.144615 35.150528 35.17189 ]]\n",
      "\n",
      " [[33.70723  33.70723  33.821022 ... 35.095978 35.103035 35.12497 ]]\n",
      "\n",
      " ...\n",
      "\n",
      " [[10.674858 10.674858 11.123776 ... 31.938457 32.02038  32.077694]]\n",
      "\n",
      " [[10.674858 10.674858 11.123776 ... 31.938457 32.02038  32.077694]]\n",
      "\n",
      " [[10.674858 10.674858 11.123776 ... 31.938457 32.02038  32.077694]]]\n",
      "all_quantiles after squeezing shape: (74, 50)\n",
      "Error with cow SE-5c06d92d-2864, lactation 2: too many values to unpack (expected 2)\n"
     ]
    },
    {
     "name": "stderr",
     "output_type": "stream",
     "text": [
      "/Users/user/anaconda3/envs/GIGACOW/lib/python3.11/site-packages/torch/optim/lr_scheduler.py:60: UserWarning: The verbose parameter is deprecated. Please use get_last_lr() to access the learning rate.\n",
      "  warnings.warn(\n",
      " 13%|█▎        | 290/2315 [01:50<11:53,  2.84 Segments/s]"
     ]
    },
    {
     "name": "stdout",
     "output_type": "stream",
     "text": [
      "all_quantiles shape: (153, 1, 50)\n",
      "all_quantiles content: [[[14.871573 14.871573 16.84296  ... 37.67309  38.651848 41.44354 ]]\n",
      "\n",
      " [[14.927006 14.927006 16.885853 ... 37.55989  38.530922 41.2961  ]]\n",
      "\n",
      " [[14.927006 14.927006 16.885853 ... 37.55989  38.530922 41.2961  ]]\n",
      "\n",
      " ...\n",
      "\n",
      " [[21.328281 21.328281 21.84143  ... 24.480724 24.56398  24.257753]]\n",
      "\n",
      " [[21.355986 21.355986 21.862888 ... 24.424076 24.503515 24.184034]]\n",
      "\n",
      " [[21.383703 21.383703 21.884335 ... 24.367426 24.443054 24.110317]]]\n",
      "all_quantiles after squeezing shape: (153, 50)\n",
      "Error with cow SE-5c06d92d-2864, lactation 3: too many values to unpack (expected 2)\n"
     ]
    },
    {
     "name": "stderr",
     "output_type": "stream",
     "text": [
      "/Users/user/anaconda3/envs/GIGACOW/lib/python3.11/site-packages/torch/optim/lr_scheduler.py:60: UserWarning: The verbose parameter is deprecated. Please use get_last_lr() to access the learning rate.\n",
      "  warnings.warn(\n",
      " 13%|█▎        | 291/2315 [01:50<12:25,  2.72 Segments/s]"
     ]
    },
    {
     "name": "stdout",
     "output_type": "stream",
     "text": [
      "all_quantiles shape: (250, 1, 50)\n",
      "all_quantiles content: [[[44.29817  44.29817  44.87496  ... 55.927658 56.152916 56.032753]]\n",
      "\n",
      " [[44.250664 44.250664 44.826256 ... 55.854412 56.0791   55.96294 ]]\n",
      "\n",
      " [[44.203167 44.203167 44.77754  ... 55.780792 56.005665 55.892944]]\n",
      "\n",
      " ...\n",
      "\n",
      " [[32.518147 32.518147 32.793476 ... 37.70733  37.89749  38.698387]]\n",
      "\n",
      " [[32.470642 32.470642 32.744762 ... 37.633896 37.823868 38.62858 ]]\n",
      "\n",
      " [[32.470642 32.470642 32.744762 ... 37.633896 37.823868 38.62858 ]]]\n",
      "all_quantiles after squeezing shape: (250, 50)\n",
      "Error with cow SE-5c06d92d-2866, lactation 3: too many values to unpack (expected 2)\n"
     ]
    },
    {
     "name": "stderr",
     "output_type": "stream",
     "text": [
      "/Users/user/anaconda3/envs/GIGACOW/lib/python3.11/site-packages/torch/optim/lr_scheduler.py:60: UserWarning: The verbose parameter is deprecated. Please use get_last_lr() to access the learning rate.\n",
      "  warnings.warn(\n",
      " 13%|█▎        | 292/2315 [01:50<11:54,  2.83 Segments/s]"
     ]
    },
    {
     "name": "stdout",
     "output_type": "stream",
     "text": [
      "all_quantiles shape: (88, 1, 50)\n",
      "all_quantiles content: [[[14.5606985 14.5606985 14.915155  ... 40.244865  39.896584  38.803864 ]]\n",
      "\n",
      " [[14.66825   14.66825   15.042663  ... 38.856506  38.336945  36.895943 ]]\n",
      "\n",
      " [[14.5606985 14.5606985 14.915155  ... 40.244865  39.896584  38.803864 ]]\n",
      "\n",
      " ...\n",
      "\n",
      " [[13.378119  13.378119  13.5123005 ... 55.51853   57.05223   59.79061  ]]\n",
      "\n",
      " [[13.366199  13.366199  13.498138  ... 55.672832  57.225418  60.002705 ]]\n",
      "\n",
      " [[13.35423   13.35423   13.483953  ... 55.82714   57.3986    60.214615 ]]]\n",
      "all_quantiles after squeezing shape: (88, 50)\n",
      "Error with cow SE-5c06d92d-2866, lactation 4: too many values to unpack (expected 2)\n"
     ]
    },
    {
     "name": "stderr",
     "output_type": "stream",
     "text": [
      "/Users/user/anaconda3/envs/GIGACOW/lib/python3.11/site-packages/torch/optim/lr_scheduler.py:60: UserWarning: The verbose parameter is deprecated. Please use get_last_lr() to access the learning rate.\n",
      "  warnings.warn(\n",
      " 13%|█▎        | 293/2315 [01:51<12:54,  2.61 Segments/s]"
     ]
    },
    {
     "name": "stdout",
     "output_type": "stream",
     "text": [
      "all_quantiles shape: (318, 1, 50)\n",
      "all_quantiles content: [[[18.312609 18.312609 28.412794 ... 65.6044   65.92922  66.17317 ]]\n",
      "\n",
      " [[18.312609 18.312609 28.412794 ... 65.6044   65.92922  66.17317 ]]\n",
      "\n",
      " [[18.324364 18.324364 28.412533 ... 65.5035   65.82756  66.07056 ]]\n",
      "\n",
      " ...\n",
      "\n",
      " [[22.005474 22.005474 28.328728 ... 33.95939  33.95443  33.979034]]\n",
      "\n",
      " [[22.005474 22.005474 28.328728 ... 33.95939  33.95443  33.979034]]\n",
      "\n",
      " [[22.005474 22.005474 28.328728 ... 33.95939  33.95443  33.979034]]]\n",
      "all_quantiles after squeezing shape: (318, 50)\n",
      "Error with cow SE-5c06d92d-2869, lactation 3: too many values to unpack (expected 2)\n"
     ]
    },
    {
     "name": "stderr",
     "output_type": "stream",
     "text": [
      "/Users/user/anaconda3/envs/GIGACOW/lib/python3.11/site-packages/torch/optim/lr_scheduler.py:60: UserWarning: The verbose parameter is deprecated. Please use get_last_lr() to access the learning rate.\n",
      "  warnings.warn(\n",
      " 13%|█▎        | 294/2315 [01:51<13:06,  2.57 Segments/s]"
     ]
    },
    {
     "name": "stdout",
     "output_type": "stream",
     "text": [
      "all_quantiles shape: (225, 1, 50)\n",
      "all_quantiles content: [[[27.647448 27.647448 29.14698  ... 64.06727  64.73484  67.24815 ]]\n",
      "\n",
      " [[27.647448 27.647448 29.14698  ... 64.06727  64.73484  67.24815 ]]\n",
      "\n",
      " [[27.678919 27.678919 29.171728 ... 63.947105 64.611435 67.11216 ]]\n",
      "\n",
      " ...\n",
      "\n",
      " [[34.66954  34.66954  34.660255 ... 37.27646  37.209892 36.890602]]\n",
      "\n",
      " [[34.70104  34.70104  34.68499  ... 37.156296 37.086487 36.754417]]\n",
      "\n",
      " [[34.73252  34.73252  34.7097   ... 37.036133 36.96308  36.618233]]]\n",
      "all_quantiles after squeezing shape: (225, 50)\n",
      "Error with cow SE-5c06d92d-2869, lactation 4: too many values to unpack (expected 2)\n"
     ]
    },
    {
     "name": "stderr",
     "output_type": "stream",
     "text": [
      "/Users/user/anaconda3/envs/GIGACOW/lib/python3.11/site-packages/torch/optim/lr_scheduler.py:60: UserWarning: The verbose parameter is deprecated. Please use get_last_lr() to access the learning rate.\n",
      "  warnings.warn(\n",
      " 13%|█▎        | 296/2315 [01:52<10:17,  3.27 Segments/s]"
     ]
    },
    {
     "name": "stdout",
     "output_type": "stream",
     "text": [
      "all_quantiles shape: (314, 1, 50)\n",
      "all_quantiles content: [[[37.23876  37.23876  37.282215 ... 56.20575  56.45294  57.79037 ]]\n",
      "\n",
      " [[37.23876  37.23876  37.282215 ... 56.20575  56.45294  57.79037 ]]\n",
      "\n",
      " [[37.16308  37.16308  37.21994  ... 56.103897 56.350323 57.6828  ]]\n",
      "\n",
      " ...\n",
      "\n",
      " [[13.855654 13.855654 18.04465  ... 24.755857 24.788475 24.487782]]\n",
      "\n",
      " [[13.855654 13.855654 18.04465  ... 24.755857 24.788475 24.487782]]\n",
      "\n",
      " [[13.855654 13.855654 18.04465  ... 24.755857 24.788475 24.487782]]]\n",
      "all_quantiles after squeezing shape: (314, 50)\n",
      "Error with cow SE-5c06d92d-2870, lactation 3: too many values to unpack (expected 2)\n"
     ]
    },
    {
     "name": "stderr",
     "output_type": "stream",
     "text": [
      "/Users/user/anaconda3/envs/GIGACOW/lib/python3.11/site-packages/torch/optim/lr_scheduler.py:60: UserWarning: The verbose parameter is deprecated. Please use get_last_lr() to access the learning rate.\n",
      "  warnings.warn(\n",
      " 13%|█▎        | 297/2315 [01:52<11:41,  2.87 Segments/s]"
     ]
    },
    {
     "name": "stdout",
     "output_type": "stream",
     "text": [
      "all_quantiles shape: (221, 1, 50)\n",
      "all_quantiles content: [[[15.422821 15.422821 16.518068 ... 61.353874 61.62853  62.021065]]\n",
      "\n",
      " [[15.422821 15.422821 16.518068 ... 61.353874 61.62853  62.021065]]\n",
      "\n",
      " [[15.480185 15.480185 16.570711 ... 61.204334 61.478806 61.870384]]\n",
      "\n",
      " ...\n",
      "\n",
      " [[27.869177 27.869177 27.94082  ... 28.91798  29.159925 29.296303]]\n",
      "\n",
      " [[27.926538 27.926538 27.993452 ... 28.768538 29.0102   29.14562 ]]\n",
      "\n",
      " [[27.983892 27.983892 28.046106 ... 28.619194 28.860474 28.994844]]]\n",
      "all_quantiles after squeezing shape: (221, 50)\n",
      "Error with cow SE-5c06d92d-2870, lactation 4: too many values to unpack (expected 2)\n"
     ]
    },
    {
     "name": "stderr",
     "output_type": "stream",
     "text": [
      "/Users/user/anaconda3/envs/GIGACOW/lib/python3.11/site-packages/torch/optim/lr_scheduler.py:60: UserWarning: The verbose parameter is deprecated. Please use get_last_lr() to access the learning rate.\n",
      "  warnings.warn(\n",
      " 13%|█▎        | 298/2315 [01:52<12:08,  2.77 Segments/s]"
     ]
    },
    {
     "name": "stdout",
     "output_type": "stream",
     "text": [
      "all_quantiles shape: (358, 1, 50)\n",
      "all_quantiles content: [[[23.101019 23.101019 23.822521 ... 35.25524  35.4352   35.624027]]\n",
      "\n",
      " [[23.101019 23.101019 23.822521 ... 35.25524  35.4352   35.624027]]\n",
      "\n",
      " [[23.101019 23.101019 23.822521 ... 35.25524  35.4352   35.624027]]\n",
      "\n",
      " ...\n",
      "\n",
      " [[23.101019 23.101019 23.822521 ... 35.25524  35.4352   35.624027]]\n",
      "\n",
      " [[23.101019 23.101019 23.822521 ... 35.25524  35.4352   35.624027]]\n",
      "\n",
      " [[23.101019 23.101019 23.822521 ... 35.25524  35.4352   35.624027]]]\n",
      "all_quantiles after squeezing shape: (358, 50)\n",
      "Error with cow SE-5c06d92d-2875, lactation 2: too many values to unpack (expected 2)\n"
     ]
    },
    {
     "name": "stderr",
     "output_type": "stream",
     "text": [
      "/Users/user/anaconda3/envs/GIGACOW/lib/python3.11/site-packages/torch/optim/lr_scheduler.py:60: UserWarning: The verbose parameter is deprecated. Please use get_last_lr() to access the learning rate.\n",
      "  warnings.warn(\n",
      " 13%|█▎        | 299/2315 [01:53<12:32,  2.68 Segments/s]"
     ]
    },
    {
     "name": "stdout",
     "output_type": "stream",
     "text": [
      "all_quantiles shape: (319, 1, 50)\n",
      "all_quantiles content: [[[36.30849  36.30849  37.730408 ... 57.117077 57.34291  57.507893]]\n",
      "\n",
      " [[36.375736 36.375736 37.79619  ... 57.22599  57.452583 57.617565]]\n",
      "\n",
      " [[36.30849  36.30849  37.730408 ... 57.117077 57.34291  57.507893]]\n",
      "\n",
      " ...\n",
      "\n",
      " [[25.750803 25.750803 27.403748 ... 40.005493 40.133476 40.311623]]\n",
      "\n",
      " [[25.717186 25.717186 27.370857 ... 39.95113  40.078735 40.256687]]\n",
      "\n",
      " [[25.717186 25.717186 27.370857 ... 39.95113  40.078735 40.256687]]]\n",
      "all_quantiles after squeezing shape: (319, 50)\n",
      "Error with cow SE-5c06d92d-2877, lactation 3: too many values to unpack (expected 2)\n"
     ]
    },
    {
     "name": "stderr",
     "output_type": "stream",
     "text": [
      "/Users/user/anaconda3/envs/GIGACOW/lib/python3.11/site-packages/torch/optim/lr_scheduler.py:60: UserWarning: The verbose parameter is deprecated. Please use get_last_lr() to access the learning rate.\n",
      "  warnings.warn(\n",
      " 13%|█▎        | 300/2315 [01:53<12:38,  2.66 Segments/s]"
     ]
    },
    {
     "name": "stdout",
     "output_type": "stream",
     "text": [
      "all_quantiles shape: (262, 1, 50)\n",
      "all_quantiles content: [[[37.35993  37.35993  39.466095 ... 71.087456 72.52598  73.773575]]\n",
      "\n",
      " [[37.370037 37.370037 39.469524 ... 70.98236  72.41535  73.65837 ]]\n",
      "\n",
      " [[37.38017  37.38017  39.47294  ... 70.877266 72.30492  73.54298 ]]\n",
      "\n",
      " ...\n",
      "\n",
      " [[39.99108  39.99108  40.355885 ... 43.75133  43.795586 43.804546]]\n",
      "\n",
      " [[40.001198 40.001198 40.359306 ... 43.64605  43.685146 43.689342]]\n",
      "\n",
      " [[40.011307 40.011307 40.36274  ... 43.540955 43.574715 43.574142]]]\n",
      "all_quantiles after squeezing shape: (262, 50)\n",
      "Error with cow SE-5c06d92d-2877, lactation 4: too many values to unpack (expected 2)\n"
     ]
    },
    {
     "name": "stderr",
     "output_type": "stream",
     "text": [
      "/Users/user/anaconda3/envs/GIGACOW/lib/python3.11/site-packages/torch/optim/lr_scheduler.py:60: UserWarning: The verbose parameter is deprecated. Please use get_last_lr() to access the learning rate.\n",
      "  warnings.warn(\n",
      " 13%|█▎        | 301/2315 [01:53<11:36,  2.89 Segments/s]"
     ]
    },
    {
     "name": "stdout",
     "output_type": "stream",
     "text": [
      "all_quantiles shape: (13, 1, 50)\n",
      "all_quantiles content: [[[ 7.652092   7.652092   7.652092   7.652092   7.652092   7.65233\n",
      "    7.465315   5.5974007  6.52399    7.628584   8.265305   8.69875\n",
      "    8.776903   8.785391   8.787584   8.789539   8.791828   8.79488\n",
      "    8.798361   8.8160515  8.846188   8.944464   9.135628   9.325837\n",
      "    9.798192   9.842395   9.890604  10.033273  10.112905  10.126638\n",
      "   10.130024  10.124493   9.430313  10.042666  10.125446  10.13546\n",
      "   11.141967  10.462952  10.375786  10.365486  10.35223   10.336017\n",
      "   10.319327  10.299969  10.273837  10.264586  10.385227  10.421467\n",
      "   10.418797  10.418223 ]]\n",
      "\n",
      " [[ 7.652092   7.652092   7.652092   7.652092   7.652092   7.65233\n",
      "    7.465315   5.5974007  6.52399    7.628584   8.265305   8.69875\n",
      "    8.776903   8.785391   8.787584   8.789539   8.791828   8.79488\n",
      "    8.798361   8.8160515  8.846188   8.944464   9.135628   9.325837\n",
      "    9.798192   9.842395   9.890604  10.033273  10.112905  10.126638\n",
      "   10.130024  10.124493   9.430313  10.042666  10.125446  10.13546\n",
      "   11.141967  10.462952  10.375786  10.365486  10.35223   10.336017\n",
      "   10.319327  10.299969  10.273837  10.264586  10.385227  10.421467\n",
      "   10.418797  10.418223 ]]\n",
      "\n",
      " [[12.253903  12.253903  12.253951  12.253809  12.253903  12.254046\n",
      "   12.257242  12.346077  13.170052  14.045667  14.660691  15.087271\n",
      "   15.092181  14.917182  14.842939  14.833783  14.834356  14.836597\n",
      "   14.839744  17.108917  18.606901  18.70184   18.913935  22.718239\n",
      "   23.845434  23.924017  24.065304  24.318123  24.45631   24.488163\n",
      "   24.494553  24.493979  24.529741  26.067636  26.158428  26.168156\n",
      "   27.62003   28.240871  28.202343  28.197575  28.191278  28.18327\n",
      "   28.17583   28.167818  28.173923  28.33204   28.739641  28.875826\n",
      "   28.885937  28.886604 ]]\n",
      "\n",
      " [[12.253903  12.253903  12.253951  12.253809  12.253903  12.254046\n",
      "   12.257242  12.346077  13.170052  14.045667  14.660691  15.087271\n",
      "   15.092181  14.917182  14.842939  14.833783  14.834356  14.836597\n",
      "   14.839744  17.108917  18.606901  18.70184   18.913935  22.718239\n",
      "   23.845434  23.924017  24.065304  24.318123  24.45631   24.488163\n",
      "   24.494553  24.493979  24.529741  26.067636  26.158428  26.168156\n",
      "   27.62003   28.240871  28.202343  28.197575  28.191278  28.18327\n",
      "   28.17583   28.167818  28.173923  28.33204   28.739641  28.875826\n",
      "   28.885937  28.886604 ]]\n",
      "\n",
      " [[17.718529  17.718529  17.718624  17.718506  17.718529  17.718554\n",
      "   17.947626  20.360136  21.062231  21.665953  22.255228  22.673653\n",
      "   22.591543  22.198723  22.033691  22.01128   22.00985   22.011137\n",
      "   22.013903  26.956652  30.197716  30.288792  30.525682  38.621662\n",
      "   40.52648   40.64598   40.897842  41.281414  41.48912   41.542244\n",
      "   41.552544  41.557693  42.460247  45.09735   45.197773  45.206738\n",
      "   47.187706  49.352264  49.371338  49.37315   49.375153  49.37687\n",
      "   49.380493  49.386024  49.430084  49.78714   50.535583  50.7904\n",
      "   50.815773  50.81768  ]]\n",
      "\n",
      " [[15.705251  15.705251  15.705298  15.705203  15.705276  15.705298\n",
      "   15.851164  17.407585  18.154572  18.85848   19.457245  19.878674\n",
      "   19.828606  19.516087  19.38448   19.36693   19.366217  19.367933\n",
      "   19.370794  23.328495  25.9274    26.019953  26.247643  32.762527\n",
      "   34.380817  34.485245  34.69639   35.031796  35.213852  35.25915\n",
      "   35.268116  35.271072  35.854244  38.08632   38.183308  38.19256\n",
      "   39.978504  41.57448   41.572186  41.571617  41.570564  41.568756\n",
      "   41.56818   41.568756  41.598984  41.88261   42.505455  42.716595\n",
      "   42.73643   42.73777  ]]\n",
      "\n",
      " [[15.992855  15.992855  15.992928  15.992832  15.992855  15.992903\n",
      "   16.150665  17.829393  18.569946  19.259548  19.856977  20.27793\n",
      "   20.223331  19.89932   19.762897  19.74473   19.743872  19.74554\n",
      "   19.748352  23.846865  26.537418  26.629782  26.858805  33.59952\n",
      "   35.25877   35.365437  35.582256  35.924625  36.110306  36.15675\n",
      "   36.16581   36.169147  36.798     39.087963  39.185333  39.194584\n",
      "   41.008377  42.6856    42.686363  42.68608   42.68551   42.68417\n",
      "   42.68417   42.6856    42.71774   43.01176   43.652534  43.870163\n",
      "   43.890377  43.89229  ]]\n",
      "\n",
      " [[16.280483  16.280483  16.28053   16.280436  16.280483  16.280508\n",
      "   16.450167  18.251156  18.985342  19.660616  20.256662  20.677233\n",
      "   20.618057  20.282507  20.14141   20.122478  20.121527  20.123148\n",
      "   20.12596   24.365137  27.147436  27.239656  27.469967  34.436512\n",
      "   36.13677   36.245487  36.468124  36.817455  37.00676   37.054348\n",
      "   37.0636    37.067314  37.74166   40.08951   40.187454  40.19661\n",
      "   42.038246  43.79663   43.800545  43.80064   43.80045   43.799686\n",
      "   43.80016   43.802353  43.836403  44.141006  44.799805  45.023537\n",
      "   45.044704  45.046425 ]]\n",
      "\n",
      " [[16.568089  16.568089  16.56816   16.56804   16.568111  16.568111\n",
      "   16.749645  18.672966  19.400715  20.061682  20.656395  21.076488\n",
      "   21.012735  20.665787  20.519876  20.50023   20.49918   20.500755\n",
      "   20.503521  24.883461  27.757502  27.849483  28.081081  35.273552\n",
      "   37.01472   37.125587  37.354088  37.71019   37.90331   37.951946\n",
      "   37.961384  37.965298  38.685417  41.09106   41.189476  41.19863\n",
      "   43.068214  44.90776   44.914722  44.915104  44.915386  44.915104\n",
      "   44.91625   44.919014  44.955254  45.270348  45.946884  46.17672\n",
      "   46.199036  46.200752 ]]\n",
      "\n",
      " [[16.855717  16.855717  16.855764  16.855669  16.855694  16.855717\n",
      "   17.049145  19.094753  19.81611   20.462751  21.056128  21.475792\n",
      "   21.407413  21.049023  20.898294  20.878029  20.876837  20.878315\n",
      "   20.881176  25.401735  28.367567  28.459263  28.692293  36.110542\n",
      "   37.892673  38.005684  38.24005   38.60302   38.799667  38.849545\n",
      "   38.859177  38.86347   39.629074  42.09261   42.1916    42.20066\n",
      "   44.09809   46.018883  46.0288    46.02976   46.030235  46.03052\n",
      "   46.032333  46.035763  46.07401   46.399498  47.09396   47.330284\n",
      "   47.353172  47.35489  ]]\n",
      "\n",
      " [[17.143345  17.143345  17.143368  17.143272  17.14332   17.14332\n",
      "   17.348646  19.516539  20.231485  20.86382   21.455812  21.875095\n",
      "   21.802092  21.432257  21.276808  21.255732  21.25454   21.255922\n",
      "   21.258734  25.920057  28.977585  29.069136  29.303406  36.947582\n",
      "   38.77063   38.885784  39.12592   39.49585   39.696213  39.747044\n",
      "   39.75706   39.761448  40.572834  43.09425   43.193623  43.202686\n",
      "   45.12796   47.130013  47.142982  47.14422   47.145172  47.146034\n",
      "   47.148323  47.15252   47.192764  47.528645  48.241234  48.483658\n",
      "   48.50731   48.509216 ]]\n",
      "\n",
      " [[17.430925  17.430925  17.430996  17.430878  17.430925  17.430948\n",
      "   17.648125  19.93835   20.646858  21.264887  21.855545  22.274351\n",
      "   22.196815  21.81549   21.655224  21.63353   21.632195  21.63353\n",
      "   21.636341  26.438332  29.58765   29.678965  29.91457   37.784622\n",
      "   39.64853   39.76588   40.011883  40.38868   40.592575  40.644737\n",
      "   40.654755  40.659615  41.516495  44.0958    44.195652  44.204807\n",
      "   46.157738  48.241234  48.25716   48.258686  48.260117  48.26145\n",
      "   48.264404  48.269173  48.311615  48.657795  49.38831   49.637222\n",
      "   49.661446  49.663544 ]]\n",
      "\n",
      " [[26.346922  26.346922  26.347042  26.346897  26.346897  26.346706\n",
      "   26.932428  33.013916  33.523582  33.69801   34.246635  34.65209\n",
      "   34.43267   33.69586   33.387543  33.344223  33.33955   33.33936\n",
      "   33.341503  42.505787  48.498917  48.583984  48.860023  63.73229\n",
      "   66.86507   67.04912   67.47532   68.065544  68.38312   68.4699\n",
      "   68.48621   68.50043   70.7715    75.14429   75.25978   75.26788\n",
      "   78.08399   82.68604   82.7961    82.808304  82.82318   82.84054\n",
      "   82.86133   82.88822   82.99293   83.66356   84.949875  85.39276\n",
      "   85.4414    85.44617  ]]]\n",
      "all_quantiles after squeezing shape: (13, 50)\n",
      "Error with cow SE-5c06d92d-2885, lactation 3: too many values to unpack (expected 2)\n"
     ]
    },
    {
     "name": "stderr",
     "output_type": "stream",
     "text": [
      "/Users/user/anaconda3/envs/GIGACOW/lib/python3.11/site-packages/torch/optim/lr_scheduler.py:60: UserWarning: The verbose parameter is deprecated. Please use get_last_lr() to access the learning rate.\n",
      "  warnings.warn(\n",
      " 13%|█▎        | 302/2315 [01:54<12:00,  2.79 Segments/s]"
     ]
    },
    {
     "name": "stdout",
     "output_type": "stream",
     "text": [
      "all_quantiles shape: (278, 1, 50)\n",
      "all_quantiles content: [[[14.614916 14.614916 17.319273 ... 52.48794  52.730556 52.171516]]\n",
      "\n",
      " [[14.302826 14.302826 17.041922 ... 52.987476 53.22876  52.611156]]\n",
      "\n",
      " [[14.614916 14.614916 17.319273 ... 52.48794  52.730556 52.171516]]\n",
      "\n",
      " ...\n",
      "\n",
      " [[26.47332  26.47332  27.859795 ... 33.497906 33.80394  35.463142]]\n",
      "\n",
      " [[26.47332  26.47332  27.859795 ... 33.497906 33.80394  35.463142]]\n",
      "\n",
      " [[26.47332  26.47332  27.859795 ... 33.497906 33.80394  35.463142]]]\n",
      "all_quantiles after squeezing shape: (278, 50)\n",
      "Error with cow SE-5c06d92d-2886, lactation 3: too many values to unpack (expected 2)\n"
     ]
    },
    {
     "name": "stderr",
     "output_type": "stream",
     "text": [
      "/Users/user/anaconda3/envs/GIGACOW/lib/python3.11/site-packages/torch/optim/lr_scheduler.py:60: UserWarning: The verbose parameter is deprecated. Please use get_last_lr() to access the learning rate.\n",
      "  warnings.warn(\n",
      " 13%|█▎        | 303/2315 [01:54<12:14,  2.74 Segments/s]"
     ]
    },
    {
     "name": "stdout",
     "output_type": "stream",
     "text": [
      "all_quantiles shape: (258, 1, 50)\n",
      "all_quantiles content: [[[25.307524 25.307524 29.28059  ... 51.702118 51.834484 51.75247 ]]\n",
      "\n",
      " [[25.307524 25.307524 29.28059  ... 51.702118 51.834484 51.75247 ]]\n",
      "\n",
      " [[25.317944 25.317944 29.27891  ... 51.65634  51.789665 51.713943]]\n",
      "\n",
      " ...\n",
      "\n",
      " [[27.956749 27.956749 28.849815 ... 40.0774   40.45753  41.96682 ]]\n",
      "\n",
      " [[27.967192 27.967192 28.848122 ... 40.031624 40.412712 41.92829 ]]\n",
      "\n",
      " [[27.967192 27.967192 28.848122 ... 40.031624 40.412712 41.92829 ]]]\n",
      "all_quantiles after squeezing shape: (258, 50)\n",
      "Error with cow SE-5c06d92d-2886, lactation 4: too many values to unpack (expected 2)\n"
     ]
    },
    {
     "name": "stderr",
     "output_type": "stream",
     "text": [
      "/Users/user/anaconda3/envs/GIGACOW/lib/python3.11/site-packages/torch/optim/lr_scheduler.py:60: UserWarning: The verbose parameter is deprecated. Please use get_last_lr() to access the learning rate.\n",
      "  warnings.warn(\n",
      " 13%|█▎        | 304/2315 [01:55<12:23,  2.71 Segments/s]"
     ]
    },
    {
     "name": "stdout",
     "output_type": "stream",
     "text": [
      "all_quantiles shape: (292, 1, 50)\n",
      "all_quantiles content: [[[30.346823 30.346823 32.680786 ... 36.95011  37.14161  37.571526]]\n",
      "\n",
      " [[30.20274  30.20274  32.508335 ... 36.870384 37.062263 37.48913 ]]\n",
      "\n",
      " [[30.058653 30.058653 32.335888 ... 36.790657 36.982727 37.40692 ]]\n",
      "\n",
      " ...\n",
      "\n",
      " [[20.116854 20.116854 20.437096 ... 31.286333 31.503963 31.726265]]\n",
      "\n",
      " [[20.116854 20.116854 20.437096 ... 31.286333 31.503963 31.726265]]\n",
      "\n",
      " [[20.116854 20.116854 20.437096 ... 31.286333 31.503963 31.726265]]]\n",
      "all_quantiles after squeezing shape: (292, 50)\n",
      "Error with cow SE-5c06d92d-2888, lactation 2: too many values to unpack (expected 2)\n"
     ]
    },
    {
     "name": "stderr",
     "output_type": "stream",
     "text": [
      "/Users/user/anaconda3/envs/GIGACOW/lib/python3.11/site-packages/torch/optim/lr_scheduler.py:60: UserWarning: The verbose parameter is deprecated. Please use get_last_lr() to access the learning rate.\n",
      "  warnings.warn(\n",
      " 13%|█▎        | 305/2315 [01:55<12:26,  2.69 Segments/s]"
     ]
    },
    {
     "name": "stdout",
     "output_type": "stream",
     "text": [
      "all_quantiles shape: (244, 1, 50)\n",
      "all_quantiles content: [[[34.64304  34.64304  36.3216   ... 50.70114  50.77324  50.867653]]\n",
      "\n",
      " [[34.64522  34.64522  36.318478 ... 50.66585  50.73929  50.834084]]\n",
      "\n",
      " [[34.647415 34.647415 36.315357 ... 50.63076  50.705147 50.800323]]\n",
      "\n",
      " ...\n",
      "\n",
      " [[35.199272 35.199272 35.52853  ... 41.780853 42.106243 42.335697]]\n",
      "\n",
      " [[35.199272 35.199272 35.52853  ... 41.780853 42.106243 42.335697]]\n",
      "\n",
      " [[35.201466 35.201466 35.525406 ... 41.745758 42.071915 42.30232 ]]]\n",
      "all_quantiles after squeezing shape: (244, 50)\n",
      "Error with cow SE-5c06d92d-2890, lactation 3: too many values to unpack (expected 2)\n"
     ]
    },
    {
     "name": "stderr",
     "output_type": "stream",
     "text": [
      "/Users/user/anaconda3/envs/GIGACOW/lib/python3.11/site-packages/torch/optim/lr_scheduler.py:60: UserWarning: The verbose parameter is deprecated. Please use get_last_lr() to access the learning rate.\n",
      "  warnings.warn(\n",
      " 13%|█▎        | 306/2315 [01:55<12:55,  2.59 Segments/s]"
     ]
    },
    {
     "name": "stdout",
     "output_type": "stream",
     "text": [
      "all_quantiles shape: (318, 1, 50)\n",
      "all_quantiles content: [[[44.205364 44.205364 44.91911  ... 62.69073  62.339016 60.72483 ]]\n",
      "\n",
      " [[44.11634  44.11634  44.82868  ... 62.565804 62.220955 60.6266  ]]\n",
      "\n",
      " [[44.027317 44.027317 44.738247 ... 62.440872 62.10308  60.528374]]\n",
      "\n",
      " ...\n",
      "\n",
      " [[15.272367 15.272367 15.529931 ... 22.110653 23.951149 28.81689 ]]\n",
      "\n",
      " [[15.183353 15.183353 15.439498 ... 21.985815 23.832987 28.71866 ]]\n",
      "\n",
      " [[15.094328 15.094328 15.349066 ... 21.860981 23.714924 28.620527]]]\n",
      "all_quantiles after squeezing shape: (318, 50)\n",
      "Error with cow SE-5c06d92d-2894, lactation 3: too many values to unpack (expected 2)\n"
     ]
    },
    {
     "name": "stderr",
     "output_type": "stream",
     "text": [
      "/Users/user/anaconda3/envs/GIGACOW/lib/python3.11/site-packages/torch/optim/lr_scheduler.py:60: UserWarning: The verbose parameter is deprecated. Please use get_last_lr() to access the learning rate.\n",
      "  warnings.warn(\n",
      " 13%|█▎        | 307/2315 [01:56<12:17,  2.72 Segments/s]"
     ]
    },
    {
     "name": "stdout",
     "output_type": "stream",
     "text": [
      "all_quantiles shape: (74, 1, 50)\n",
      "all_quantiles content: [[[36.755493 36.755493 37.011494 ... 41.25576  41.31813  41.40358 ]]\n",
      "\n",
      " [[36.678627 36.678627 36.931908 ... 41.143986 41.205784 41.290474]]\n",
      "\n",
      " [[36.601765 36.601765 36.852306 ... 41.03203  41.093826 41.176983]]\n",
      "\n",
      " ...\n",
      "\n",
      " [[31.22133  31.22133  31.280863 ... 33.202457 33.24213  33.24604 ]]\n",
      "\n",
      " [[31.144463 31.144463 31.201279 ... 33.090687 33.12998  33.132553]]\n",
      "\n",
      " [[31.067604 31.067604 31.121672 ... 32.97882  33.01773  33.019447]]]\n",
      "all_quantiles after squeezing shape: (74, 50)\n",
      "Error with cow SE-5c06d92d-2895, lactation 2: too many values to unpack (expected 2)\n"
     ]
    },
    {
     "name": "stderr",
     "output_type": "stream",
     "text": [
      "/Users/user/anaconda3/envs/GIGACOW/lib/python3.11/site-packages/torch/optim/lr_scheduler.py:60: UserWarning: The verbose parameter is deprecated. Please use get_last_lr() to access the learning rate.\n",
      "  warnings.warn(\n",
      " 13%|█▎        | 308/2315 [01:56<12:11,  2.75 Segments/s]"
     ]
    },
    {
     "name": "stdout",
     "output_type": "stream",
     "text": [
      "all_quantiles shape: (13, 1, 50)\n",
      "all_quantiles content: [[[ 6.718445   6.718445   6.7675056  6.908798   7.1306047  7.3038282\n",
      "    7.379234   7.4063177  7.4191327  7.42889    7.4385223  7.448554\n",
      "    7.45883    7.4690695  7.479739   7.4979663  7.5747247  7.7886224\n",
      "    7.996857   8.108007   8.184028   8.2736845  8.447945   8.643448\n",
      "    8.709073   8.736324   8.761573   8.792615   8.848047   8.961821\n",
      "    9.1204405  9.23419    9.283233   9.311485   9.368825   9.476686\n",
      "    9.551406   9.576106   9.585428   9.591651   9.5968485  9.601665\n",
      "    9.606004   9.609795   9.613299   9.616303   9.61895    9.621191\n",
      "    9.623384   9.625006 ]]\n",
      "\n",
      " [[ 6.549105   6.549105   6.304806   6.153571   6.2708616  6.4172807\n",
      "    6.4870057  6.514281   6.529522   6.543135   6.557822   6.573868\n",
      "    6.5907474  6.607508   6.622672   6.6287875  6.595385   6.581545\n",
      "    6.66492    6.735813   6.786883   6.872344   7.236814   7.846641\n",
      "    8.023691   8.036685   8.046412   8.073473   8.148766   8.331275\n",
      "    8.6054325  8.810329   8.894658   8.915019   8.880377   8.784938\n",
      "    8.721137   8.710718   8.716416   8.724594   8.732462   8.739853\n",
      "    8.746433   8.752179   8.757353   8.761835   8.765721   8.768988\n",
      "    8.772135   8.774471 ]]\n",
      "\n",
      " [[ 6.5773306  6.5773306  6.381917   6.2794447  6.414151   6.56504\n",
      "    6.6357136  6.662953   6.6777883  6.690758   6.7046046  6.719649\n",
      "    6.735432   6.7511077  6.7655087  6.7736506  6.7586184  6.782722\n",
      "    6.886911   6.9645047  7.0197344  7.105899   7.438671   7.9794526\n",
      "    8.1379175  8.1532955  8.165598   8.193326   8.265328   8.436346\n",
      "    8.691287   8.880973   8.959413   8.981085   8.961797   8.900213\n",
      "    8.859515   8.85496    8.861256   8.8691     8.876538   8.883476\n",
      "    8.889699   8.895111   8.899999   8.904266   8.907938   8.911037\n",
      "    8.913994   8.916187 ]]\n",
      "\n",
      " [[ 6.612611   6.612611   6.4783154  6.436783   6.593263   6.7497373\n",
      "    6.8215904  6.8487945  6.863129   6.875288   6.8880916  6.901872\n",
      "    6.9162846  6.9305897  6.9440722  6.9547296  6.9626327  7.034206\n",
      "    7.1643944  7.2503805  7.3108077  7.3978543  7.69099    8.145439\n",
      "    8.280706   8.299065   8.314586   8.343148   8.411002   8.567715\n",
      "    8.798575   8.969283   9.04038    9.063673   9.063554   9.044337\n",
      "    9.032488   9.035254   9.042287   9.049726   9.056616   9.063029\n",
      "    9.068775   9.073782   9.078336   9.08227    9.085703   9.088564\n",
      "    9.09133    9.093428 ]]\n",
      "\n",
      " [[ 6.6196623  6.6196623  6.4975977  6.4682484  6.6290913  6.786674\n",
      "    6.858766   6.8859634  6.900197   6.912195   6.9247837  6.938314\n",
      "    6.952452   6.9664955  6.9797754  6.990945   7.0034504  7.084489\n",
      "    7.219898   7.3075533  7.3690295  7.4562306  7.7414627  8.178627\n",
      "    8.309269   8.328223   8.344388   8.373117   8.440137   8.593988\n",
      "    8.820033   8.986926   9.056568   9.080219   9.083891   9.073162\n",
      "    9.067082   9.071302   9.078503   9.08587    9.092617   9.098935\n",
      "    9.1046095  9.109497   9.114003   9.117866   9.121251   9.124041\n",
      "    9.126854   9.128857 ]]\n",
      "\n",
      " [[ 6.633776   6.633776   6.536153   6.5311904  6.7007303  6.860554\n",
      "    6.9331226  6.960296   6.974327   6.98601    6.998175   7.0112104\n",
      "    7.024789   7.0382953  7.051193   7.063377   7.085061   7.1850896\n",
      "    7.3308825  7.4219103  7.4854493  7.5730205  7.8423734  8.245039\n",
      "    8.366394   8.386493   8.4040165  8.433032   8.498406   8.646536\n",
      "    8.862948   9.02226    9.088945   9.11324    9.124613   9.130812\n",
      "    9.136271   9.143424   9.15091    9.158111   9.164667   9.170747\n",
      "    9.1762295  9.180975   9.185338   9.189057   9.192348   9.195089\n",
      "    9.19776    9.199715 ]]\n",
      "\n",
      " [[ 6.6408305  6.6408305  6.555438   6.56265    6.7365584  6.897491\n",
      "    6.9702983  6.997466   7.0113955  7.0229173  7.034868   7.047653\n",
      "    7.060969   7.0741887  7.0869083  7.0995927  7.1258664  7.2353716\n",
      "    7.3863864  7.479083   7.543671   7.631397   7.892847   8.278251\n",
      "    8.394933   8.415651   8.433795   8.463025   8.527541   8.67281\n",
      "    8.884406   9.039903   9.105158   9.129763   9.14495    9.1596365\n",
      "    9.170865   9.179473   9.187126   9.194255   9.200667   9.206653\n",
      "    9.212041   9.216738   9.220982   9.224653   9.227896   9.230614\n",
      "    9.233236   9.235144 ]]\n",
      "\n",
      " [[ 6.669053   6.669053   6.6325517  6.688523   6.879848   7.045251\n",
      "    7.119      7.1461434  7.1596622  7.17054    7.1816626  7.1934342\n",
      "    7.205641   7.217777   7.229757   7.244456   7.2890873  7.436561\n",
      "    7.6083775  7.7077746  7.776534   7.8649516  8.094705   8.41105\n",
      "    8.509159   8.532262   8.553004   8.582854   8.64408    8.7779045\n",
      "    8.970237   9.11057    9.169912   9.195828   9.22637    9.274912\n",
      "    9.309244   9.323716   9.331965   9.33876    9.344745   9.350275\n",
      "    9.355307   9.35967    9.363627   9.367108   9.370089   9.372616\n",
      "    9.375143   9.376907 ]]\n",
      "\n",
      " [[ 6.767836   6.767836   6.9024625  7.129073   7.381362   7.5624046\n",
      "    7.6394672  7.666492   7.6786036  7.687235   7.6954     7.703662\n",
      "    7.7120185  7.720363   7.729709   7.7514763  7.860374   8.140695\n",
      "    8.385336   8.508217   8.591544   8.682406   8.801186   8.875847\n",
      "    8.908987   8.940363   8.970189   9.002352   9.052014   9.145713\n",
      "    9.270644   9.35781    9.396601   9.427118   9.511256   9.678459\n",
      "    9.793567   9.82852    9.838914   9.844518   9.848951   9.853028\n",
      "    9.856725   9.85992    9.862947   9.865522   9.867811   9.869765\n",
      "    9.871674   9.873056 ]]\n",
      "\n",
      " [[ 6.7890015  6.7890015  6.960299   7.2234745  7.488832   7.673228\n",
      "    7.7509937  7.7779946  7.7898026  7.7979565  7.8054843  7.8130007\n",
      "    7.8205347  7.828057   7.8368425  7.860124   7.9827785  8.29159\n",
      "    8.551825   8.679748   8.766186   8.857573   8.952581   8.975434\n",
      "    8.994675   9.027814   9.059572   9.092259   9.139395   9.224558\n",
      "    9.335017   9.41081    9.445143   9.476686   9.572315   9.764934\n",
      "    9.897351   9.93669    9.947538   9.952903   9.957004   9.960747\n",
      "    9.964179   9.967112   9.969949   9.972333   9.97448    9.976244\n",
      "    9.978104   9.97939  ]]\n",
      "\n",
      " [[ 6.838393   6.838393   7.095253   7.44375    7.7395916  7.931804\n",
      "    8.011222   8.038181   8.049268   8.0563     8.062363   8.06812\n",
      "    8.073711   8.0793495  8.086824   8.113623   8.268428   8.643651\n",
      "    8.940315   9.079968   9.173679   9.266293   9.305835   9.207832\n",
      "    9.194589   9.2318535  9.268188   9.301995   9.343362   9.40845\n",
      "    9.485245   9.534407   9.558511   9.592319   9.71477    9.966683\n",
      "   10.139513  10.189104  10.201001  10.205793  10.209106  10.212111\n",
      "   10.214876  10.21726   10.219622  10.221528  10.223341  10.224819\n",
      "   10.226392  10.227441 ]]\n",
      "\n",
      " [[ 6.9230633  6.9230633  7.326606   7.82136    8.169466   8.375075\n",
      "    8.457338   8.48419    8.494073   8.499181   8.502715   8.505464\n",
      "    8.507752   8.510137   8.515346   8.548224   8.758092   9.247195\n",
      "    9.606277   9.766053   9.87227    9.966957   9.9114065  9.606242\n",
      "    9.537268   9.581685   9.625745   9.661555   9.693027   9.723735\n",
      "    9.742713   9.746361   9.752798   9.790539   9.959006  10.312557\n",
      "   10.554647  10.62181   10.635495  10.639334  10.641288  10.643005\n",
      "   10.644673  10.646105  10.647535  10.648775  10.649967  10.650921\n",
      "   10.652017  10.652685 ]]\n",
      "\n",
      " [[ 6.9301186  6.9301186  7.345885   7.852827   8.205288   8.412015\n",
      "    8.494514   8.521366   8.531136   8.536088   8.539409   8.541905\n",
      "    8.5439205  8.546042   8.551061   8.584428   8.798909   9.297479\n",
      "    9.661781   9.823239   9.930468  10.025358   9.961867   9.63943\n",
      "    9.56583    9.610844   9.655547   9.6915245  9.722161   9.749985\n",
      "    9.7641945  9.764028   9.768963   9.807086   9.979343  10.341381\n",
      "   10.589241  10.657859  10.671711  10.675454  10.677314  10.678911\n",
      "   10.680509  10.681819  10.683203  10.684347  10.685539  10.686444\n",
      "   10.687447  10.688162 ]]]\n",
      "all_quantiles after squeezing shape: (13, 50)\n",
      "Error with cow SE-5c06d92d-2895, lactation 3: too many values to unpack (expected 2)\n"
     ]
    },
    {
     "name": "stderr",
     "output_type": "stream",
     "text": [
      "/Users/user/anaconda3/envs/GIGACOW/lib/python3.11/site-packages/torch/optim/lr_scheduler.py:60: UserWarning: The verbose parameter is deprecated. Please use get_last_lr() to access the learning rate.\n",
      "  warnings.warn(\n",
      " 13%|█▎        | 309/2315 [01:57<12:42,  2.63 Segments/s]"
     ]
    },
    {
     "name": "stdout",
     "output_type": "stream",
     "text": [
      "all_quantiles shape: (141, 1, 50)\n",
      "all_quantiles content: [[[29.604637 29.604637 29.651129 ... 30.676365 30.560589 30.41706 ]]\n",
      "\n",
      " [[29.161768 29.161768 29.240793 ... 30.628202 30.517578 30.37939 ]]\n",
      "\n",
      " [[28.718876 28.718876 28.830458 ... 30.580137 30.474567 30.341719]]\n",
      "\n",
      " ...\n",
      "\n",
      " [[ 9.67499   9.67499  11.186063 ... 28.51114  28.623388 28.723429]]\n",
      "\n",
      " [[ 9.67499   9.67499  11.186063 ... 28.51114  28.623388 28.723429]]\n",
      "\n",
      " [[ 9.67499   9.67499  11.186063 ... 28.51114  28.623388 28.723429]]]\n",
      "all_quantiles after squeezing shape: (141, 50)\n",
      "Error with cow SE-5c06d92d-2896, lactation 2: too many values to unpack (expected 2)\n"
     ]
    },
    {
     "name": "stderr",
     "output_type": "stream",
     "text": [
      "/Users/user/anaconda3/envs/GIGACOW/lib/python3.11/site-packages/torch/optim/lr_scheduler.py:60: UserWarning: The verbose parameter is deprecated. Please use get_last_lr() to access the learning rate.\n",
      "  warnings.warn(\n",
      " 13%|█▎        | 310/2315 [01:57<14:11,  2.36 Segments/s]"
     ]
    },
    {
     "name": "stdout",
     "output_type": "stream",
     "text": [
      "all_quantiles shape: (219, 1, 50)\n",
      "all_quantiles content: [[[27.97855  27.97855  30.889416 ... 48.929024 48.99845  49.168583]]\n",
      "\n",
      " [[27.900993 27.900993 31.137764 ... 51.008793 51.032066 51.172256]]\n",
      "\n",
      " [[27.9032   27.9032   31.130682 ... 50.94948  50.973892 51.11484 ]]\n",
      "\n",
      " ...\n",
      "\n",
      " [[28.459442 28.459442 29.349636 ... 36.03496  36.38935  36.746216]]\n",
      "\n",
      " [[28.461658 28.461658 29.342543 ... 35.975647 36.331367 36.688995]]\n",
      "\n",
      " [[28.461658 28.461658 29.342543 ... 35.975647 36.331367 36.688995]]]\n",
      "all_quantiles after squeezing shape: (219, 50)\n",
      "Error with cow SE-5c06d92d-2896, lactation 3: too many values to unpack (expected 2)\n"
     ]
    },
    {
     "name": "stderr",
     "output_type": "stream",
     "text": [
      "/Users/user/anaconda3/envs/GIGACOW/lib/python3.11/site-packages/torch/optim/lr_scheduler.py:60: UserWarning: The verbose parameter is deprecated. Please use get_last_lr() to access the learning rate.\n",
      "  warnings.warn(\n",
      " 13%|█▎        | 311/2315 [01:58<14:23,  2.32 Segments/s]"
     ]
    },
    {
     "name": "stdout",
     "output_type": "stream",
     "text": [
      "all_quantiles shape: (72, 1, 50)\n",
      "all_quantiles content: [[[24.342308 24.342308 25.078463 ... 50.99163  51.631355 52.639576]]\n",
      "\n",
      " [[24.342308 24.342308 25.078463 ... 50.99163  51.631355 52.639576]]\n",
      "\n",
      " [[24.342308 24.342308 25.078463 ... 50.99163  51.631355 52.639576]]\n",
      "\n",
      " ...\n",
      "\n",
      " [[ 9.405613  9.405613  9.320235 ... 35.201073 35.18715  34.77459 ]]\n",
      "\n",
      " [[11.014174 11.014174 11.017275 ... 36.901665 36.958122 36.69834 ]]\n",
      "\n",
      " [[10.784364 10.784364 10.774851 ... 36.65867  36.705208 36.423492]]]\n",
      "all_quantiles after squeezing shape: (72, 50)\n",
      "Error with cow SE-5c06d92d-2896, lactation 4: too many values to unpack (expected 2)\n"
     ]
    },
    {
     "name": "stderr",
     "output_type": "stream",
     "text": [
      "/Users/user/anaconda3/envs/GIGACOW/lib/python3.11/site-packages/torch/optim/lr_scheduler.py:60: UserWarning: The verbose parameter is deprecated. Please use get_last_lr() to access the learning rate.\n",
      "  warnings.warn(\n",
      " 13%|█▎        | 312/2315 [01:58<13:07,  2.54 Segments/s]"
     ]
    },
    {
     "name": "stdout",
     "output_type": "stream",
     "text": [
      "all_quantiles shape: (22, 1, 50)\n",
      "all_quantiles content: [[[28.164446 28.164446 28.165293 ... 33.776474 33.777905 33.778477]]\n",
      "\n",
      " [[27.637499 27.637499 27.638376 ... 33.54187  33.54702  33.54969 ]]\n",
      "\n",
      " [[27.110538 27.110538 27.111471 ... 33.30717  33.316135 33.321   ]]\n",
      "\n",
      " ...\n",
      "\n",
      " [[18.679296 18.679296 18.680906 ... 29.55303  29.62122  29.66175 ]]\n",
      "\n",
      " [[18.679296 18.679296 18.680906 ... 29.55303  29.62122  29.66175 ]]\n",
      "\n",
      " [[18.679296 18.679296 18.680906 ... 29.55303  29.62122  29.66175 ]]]\n",
      "all_quantiles after squeezing shape: (22, 50)\n",
      "Error with cow SE-5c06d92d-2897, lactation 2: too many values to unpack (expected 2)\n"
     ]
    },
    {
     "name": "stderr",
     "output_type": "stream",
     "text": [
      "/Users/user/anaconda3/envs/GIGACOW/lib/python3.11/site-packages/torch/optim/lr_scheduler.py:60: UserWarning: The verbose parameter is deprecated. Please use get_last_lr() to access the learning rate.\n",
      "  warnings.warn(\n",
      " 14%|█▎        | 313/2315 [01:58<14:34,  2.29 Segments/s]"
     ]
    },
    {
     "name": "stdout",
     "output_type": "stream",
     "text": [
      "all_quantiles shape: (296, 1, 50)\n",
      "all_quantiles content: [[[19.077372 19.077372 23.116446 ... 58.727264 59.03778  59.4841  ]]\n",
      "\n",
      " [[19.077372 19.077372 23.116446 ... 58.727264 59.03778  59.4841  ]]\n",
      "\n",
      " [[19.077372 19.077372 23.116446 ... 58.727264 59.03778  59.4841  ]]\n",
      "\n",
      " ...\n",
      "\n",
      " [[26.85262  26.85262  30.200981 ... 34.31692  34.523582 34.651375]]\n",
      "\n",
      " [[26.87515  26.87515  30.221521 ... 34.246254 34.452534 34.579372]]\n",
      "\n",
      " [[26.897692 26.897692 30.24206  ... 34.17549  34.381485 34.50737 ]]]\n",
      "all_quantiles after squeezing shape: (296, 50)\n",
      "Error with cow SE-5c06d92d-2897, lactation 3: too many values to unpack (expected 2)\n"
     ]
    },
    {
     "name": "stderr",
     "output_type": "stream",
     "text": [
      "/Users/user/anaconda3/envs/GIGACOW/lib/python3.11/site-packages/torch/optim/lr_scheduler.py:60: UserWarning: The verbose parameter is deprecated. Please use get_last_lr() to access the learning rate.\n",
      "  warnings.warn(\n",
      " 14%|█▎        | 314/2315 [01:59<16:27,  2.03 Segments/s]"
     ]
    },
    {
     "name": "stdout",
     "output_type": "stream",
     "text": [
      "all_quantiles shape: (346, 1, 50)\n",
      "all_quantiles content: [[[37.500107 37.500107 37.973965 ... 46.909904 45.92762  45.04375 ]]\n",
      "\n",
      " [[37.38817  37.38817  37.870785 ... 46.837807 45.870018 44.99893 ]]\n",
      "\n",
      " [[37.276245 37.276245 37.7676   ... 46.765896 45.81222  44.954105]]\n",
      "\n",
      " ...\n",
      "\n",
      " [[19.7029   19.7029   21.567917 ... 35.460373 36.76281  37.916756]]\n",
      "\n",
      " [[19.7029   19.7029   21.567917 ... 35.460373 36.76281  37.916756]]\n",
      "\n",
      " [[19.7029   19.7029   21.567917 ... 35.460373 36.76281  37.916756]]]\n",
      "all_quantiles after squeezing shape: (346, 50)\n",
      "Error with cow SE-5c06d92d-2899, lactation 2: too many values to unpack (expected 2)\n"
     ]
    },
    {
     "name": "stderr",
     "output_type": "stream",
     "text": [
      "/Users/user/anaconda3/envs/GIGACOW/lib/python3.11/site-packages/torch/optim/lr_scheduler.py:60: UserWarning: The verbose parameter is deprecated. Please use get_last_lr() to access the learning rate.\n",
      "  warnings.warn(\n",
      " 14%|█▎        | 315/2315 [01:59<16:07,  2.07 Segments/s]"
     ]
    },
    {
     "name": "stdout",
     "output_type": "stream",
     "text": [
      "all_quantiles shape: (341, 1, 50)\n",
      "all_quantiles content: [[[18.09151  18.09151  24.721478 ... 57.705307 58.137127 58.434486]]\n",
      "\n",
      " [[18.09151  18.09151  24.721478 ... 57.705307 58.137127 58.434486]]\n",
      "\n",
      " [[18.12849  18.12849  24.729275 ... 57.432552 57.861324 58.157345]]\n",
      "\n",
      " ...\n",
      "\n",
      " [[22.294788 22.294788 25.606201 ... 26.713179 26.780508 26.93958 ]]\n",
      "\n",
      " [[22.294788 22.294788 25.606201 ... 26.713179 26.780508 26.93958 ]]\n",
      "\n",
      " [[22.294788 22.294788 25.606201 ... 26.713179 26.780508 26.93958 ]]]\n",
      "all_quantiles after squeezing shape: (341, 50)\n",
      "Error with cow SE-5c06d92d-2900, lactation 3: too many values to unpack (expected 2)\n"
     ]
    },
    {
     "name": "stderr",
     "output_type": "stream",
     "text": [
      "/Users/user/anaconda3/envs/GIGACOW/lib/python3.11/site-packages/torch/optim/lr_scheduler.py:60: UserWarning: The verbose parameter is deprecated. Please use get_last_lr() to access the learning rate.\n",
      "  warnings.warn(\n",
      " 14%|█▎        | 316/2315 [02:00<15:05,  2.21 Segments/s]"
     ]
    },
    {
     "name": "stdout",
     "output_type": "stream",
     "text": [
      "all_quantiles shape: (252, 1, 50)\n",
      "all_quantiles content: [[[14.512514 14.512514 16.239977 ... 39.628983 39.66732  39.691925]]\n",
      "\n",
      " [[14.512514 14.512514 16.239977 ... 39.628983 39.66732  39.691925]]\n",
      "\n",
      " [[14.570736 14.570736 16.284918 ... 39.54582  39.585495 39.614105]]\n",
      "\n",
      " ...\n",
      "\n",
      " [[22.053074 22.053074 22.059668 ... 28.84941  29.067421 29.622171]]\n",
      "\n",
      " [[22.082184 22.082184 22.082138 ... 28.807735 29.026508 29.583359]]\n",
      "\n",
      " [[22.11131  22.11131  22.104609 ... 28.766249 28.985498 29.544449]]]\n",
      "all_quantiles after squeezing shape: (252, 50)\n",
      "Error with cow SE-5c06d92d-2900, lactation 4: too many values to unpack (expected 2)\n"
     ]
    },
    {
     "name": "stderr",
     "output_type": "stream",
     "text": [
      "/Users/user/anaconda3/envs/GIGACOW/lib/python3.11/site-packages/torch/optim/lr_scheduler.py:60: UserWarning: The verbose parameter is deprecated. Please use get_last_lr() to access the learning rate.\n",
      "  warnings.warn(\n",
      " 14%|█▎        | 317/2315 [02:00<13:28,  2.47 Segments/s]"
     ]
    },
    {
     "name": "stdout",
     "output_type": "stream",
     "text": [
      "all_quantiles shape: (23, 1, 50)\n",
      "all_quantiles content: [[[32.534653 32.534653 32.53777  ... 34.107494 34.118652 34.121895]]\n",
      "\n",
      " [[31.65173  31.65173  31.654728 ... 33.996582 34.01308  34.017754]]\n",
      "\n",
      " [[30.768805 30.768805 30.771685 ... 33.88567  33.907604 33.913708]]\n",
      "\n",
      " ...\n",
      "\n",
      " [[16.641973 16.641973 16.643034 ... 32.110786 32.220078 32.247448]]\n",
      "\n",
      " [[16.641973 16.641973 16.643034 ... 32.110786 32.220078 32.247448]]\n",
      "\n",
      " [[16.641973 16.641973 16.643034 ... 32.110786 32.220078 32.247448]]]\n",
      "all_quantiles after squeezing shape: (23, 50)\n",
      "Error with cow SE-5c06d92d-2904, lactation 2: too many values to unpack (expected 2)\n"
     ]
    },
    {
     "name": "stderr",
     "output_type": "stream",
     "text": [
      "/Users/user/anaconda3/envs/GIGACOW/lib/python3.11/site-packages/torch/optim/lr_scheduler.py:60: UserWarning: The verbose parameter is deprecated. Please use get_last_lr() to access the learning rate.\n",
      "  warnings.warn(\n",
      " 14%|█▎        | 318/2315 [02:01<13:27,  2.47 Segments/s]"
     ]
    },
    {
     "name": "stdout",
     "output_type": "stream",
     "text": [
      "all_quantiles shape: (264, 1, 50)\n",
      "all_quantiles content: [[[16.493523 16.493523 25.526833 ... 51.78299  52.080917 52.67601 ]]\n",
      "\n",
      " [[16.354357 16.354357 25.420618 ... 51.974297 52.27413  52.876472]]\n",
      "\n",
      " [[16.493523 16.493523 25.526833 ... 51.78299  52.080917 52.67601 ]]\n",
      "\n",
      " ...\n",
      "\n",
      " [[25.81743  25.81743  32.642982 ... 38.965607 39.14776  39.241405]]\n",
      "\n",
      " [[25.81743  25.81743  32.642982 ... 38.965607 39.14776  39.241405]]\n",
      "\n",
      " [[25.81743  25.81743  32.642982 ... 38.965607 39.14776  39.241405]]]\n",
      "all_quantiles after squeezing shape: (264, 50)\n",
      "Error with cow SE-5c06d92d-2904, lactation 3: too many values to unpack (expected 2)\n"
     ]
    },
    {
     "name": "stderr",
     "output_type": "stream",
     "text": [
      "/Users/user/anaconda3/envs/GIGACOW/lib/python3.11/site-packages/torch/optim/lr_scheduler.py:60: UserWarning: The verbose parameter is deprecated. Please use get_last_lr() to access the learning rate.\n",
      "  warnings.warn(\n",
      " 14%|█▍        | 319/2315 [02:01<13:58,  2.38 Segments/s]"
     ]
    },
    {
     "name": "stdout",
     "output_type": "stream",
     "text": [
      "all_quantiles shape: (262, 1, 50)\n",
      "all_quantiles content: [[[33.36847  33.36847  35.31705  ... 50.601578 50.9613   51.299854]]\n",
      "\n",
      " [[33.36847  33.36847  35.31705  ... 50.601578 50.9613   51.299854]]\n",
      "\n",
      " [[33.40219  33.40219  35.345364 ... 50.598904 50.957485 51.296425]]\n",
      "\n",
      " ...\n",
      "\n",
      " [[42.34093  42.34093  42.84886  ... 49.89624  49.984356 50.34618 ]]\n",
      "\n",
      " [[42.37467  42.37467  42.877174 ... 49.893566 49.980927 50.342365]]\n",
      "\n",
      " [[42.408394 42.408394 42.905487 ... 49.8909   49.97711  50.338936]]]\n",
      "all_quantiles after squeezing shape: (262, 50)\n",
      "Error with cow SE-5c06d92d-2904, lactation 4: too many values to unpack (expected 2)\n"
     ]
    },
    {
     "name": "stderr",
     "output_type": "stream",
     "text": [
      "/Users/user/anaconda3/envs/GIGACOW/lib/python3.11/site-packages/torch/optim/lr_scheduler.py:60: UserWarning: The verbose parameter is deprecated. Please use get_last_lr() to access the learning rate.\n",
      "  warnings.warn(\n",
      " 14%|█▍        | 321/2315 [02:01<10:30,  3.16 Segments/s]"
     ]
    },
    {
     "name": "stdout",
     "output_type": "stream",
     "text": [
      "all_quantiles shape: (258, 1, 50)\n",
      "all_quantiles content: [[[28.963135 28.963135 33.91377  ... 55.809402 55.872913 55.950928]]\n",
      "\n",
      " [[28.998707 28.998707 33.980057 ... 56.011578 56.072613 56.146812]]\n",
      "\n",
      " [[28.963135 28.963135 33.91377  ... 55.809402 55.872913 55.950928]]\n",
      "\n",
      " ...\n",
      "\n",
      " [[24.481129 24.481129 25.560474 ... 30.315588 30.698776 31.279755]]\n",
      "\n",
      " [[24.481129 24.481129 25.560474 ... 30.315588 30.698776 31.279755]]\n",
      "\n",
      " [[24.481129 24.481129 25.560474 ... 30.315588 30.698776 31.279755]]]\n",
      "all_quantiles after squeezing shape: (258, 50)\n",
      "Error with cow SE-5c06d92d-2911, lactation 3: too many values to unpack (expected 2)\n"
     ]
    },
    {
     "name": "stderr",
     "output_type": "stream",
     "text": [
      "/Users/user/anaconda3/envs/GIGACOW/lib/python3.11/site-packages/torch/optim/lr_scheduler.py:60: UserWarning: The verbose parameter is deprecated. Please use get_last_lr() to access the learning rate.\n",
      "  warnings.warn(\n",
      " 14%|█▍        | 322/2315 [02:02<11:06,  2.99 Segments/s]"
     ]
    },
    {
     "name": "stdout",
     "output_type": "stream",
     "text": [
      "all_quantiles shape: (267, 1, 50)\n",
      "all_quantiles content: [[[32.71407  32.71407  34.773575 ... 53.169437 53.04928  52.945896]]\n",
      "\n",
      " [[32.885956 32.885956 34.974262 ... 53.765675 53.580666 53.42903 ]]\n",
      "\n",
      " [[32.866848 32.866848 34.951973 ... 53.6993   53.521534 53.375435]]\n",
      "\n",
      " ...\n",
      "\n",
      " [[27.863169 27.863169 29.109787 ... 36.338425 38.053703 39.31389 ]]\n",
      "\n",
      " [[27.844059 27.844059 29.087496 ... 36.27224  37.994576 39.26029 ]]\n",
      "\n",
      " [[27.824974 27.824974 29.065191 ... 36.206055 37.93564  39.206505]]]\n",
      "all_quantiles after squeezing shape: (267, 50)\n",
      "Error with cow SE-5c06d92d-2911, lactation 4: too many values to unpack (expected 2)\n"
     ]
    },
    {
     "name": "stderr",
     "output_type": "stream",
     "text": [
      "/Users/user/anaconda3/envs/GIGACOW/lib/python3.11/site-packages/torch/optim/lr_scheduler.py:60: UserWarning: The verbose parameter is deprecated. Please use get_last_lr() to access the learning rate.\n",
      "  warnings.warn(\n",
      " 14%|█▍        | 324/2315 [02:02<09:13,  3.60 Segments/s]"
     ]
    },
    {
     "name": "stdout",
     "output_type": "stream",
     "text": [
      "all_quantiles shape: (335, 1, 50)\n",
      "all_quantiles content: [[[35.11207  35.11207  37.88134  ... 60.05211  60.111614 60.23559 ]]\n",
      "\n",
      " [[35.11207  35.11207  37.88134  ... 60.05211  60.111614 60.23559 ]]\n",
      "\n",
      " [[35.08136  35.08136  37.851227 ... 59.971046 60.031315 60.15587 ]]\n",
      "\n",
      " ...\n",
      "\n",
      " [[24.301195 24.301195 27.284336 ... 31.5279   31.836508 32.237625]]\n",
      "\n",
      " [[24.301195 24.301195 27.284336 ... 31.5279   31.836508 32.237625]]\n",
      "\n",
      " [[24.301195 24.301195 27.284336 ... 31.5279   31.836508 32.237625]]]\n",
      "all_quantiles after squeezing shape: (335, 50)\n",
      "Error with cow SE-5c06d92d-2914, lactation 3: too many values to unpack (expected 2)\n"
     ]
    },
    {
     "name": "stderr",
     "output_type": "stream",
     "text": [
      "/Users/user/anaconda3/envs/GIGACOW/lib/python3.11/site-packages/torch/optim/lr_scheduler.py:60: UserWarning: The verbose parameter is deprecated. Please use get_last_lr() to access the learning rate.\n",
      "  warnings.warn(\n",
      " 14%|█▍        | 325/2315 [02:02<09:28,  3.50 Segments/s]"
     ]
    },
    {
     "name": "stdout",
     "output_type": "stream",
     "text": [
      "all_quantiles shape: (67, 1, 50)\n",
      "all_quantiles content: [[[31.80581  31.80581  35.111427 ... 50.498577 50.657078 50.82493 ]]\n",
      "\n",
      " [[31.80581  31.80581  35.111427 ... 50.498577 50.657078 50.82493 ]]\n",
      "\n",
      " [[31.80581  31.80581  35.111427 ... 50.498577 50.657078 50.82493 ]]\n",
      "\n",
      " ...\n",
      "\n",
      " [[31.13768  31.13768  34.599506 ... 50.685688 50.851437 51.027107]]\n",
      "\n",
      " [[30.803608 30.803608 34.343563 ... 50.779152 50.948524 51.128193]]\n",
      "\n",
      " [[30.469547 30.469547 34.087585 ... 50.872803 51.04561  51.229477]]]\n",
      "all_quantiles after squeezing shape: (67, 50)\n",
      "Error with cow SE-5c06d92d-2914, lactation 4: too many values to unpack (expected 2)\n"
     ]
    },
    {
     "name": "stderr",
     "output_type": "stream",
     "text": [
      "/Users/user/anaconda3/envs/GIGACOW/lib/python3.11/site-packages/torch/optim/lr_scheduler.py:60: UserWarning: The verbose parameter is deprecated. Please use get_last_lr() to access the learning rate.\n",
      "  warnings.warn(\n",
      " 14%|█▍        | 326/2315 [02:03<09:52,  3.35 Segments/s]"
     ]
    },
    {
     "name": "stdout",
     "output_type": "stream",
     "text": [
      "all_quantiles shape: (105, 1, 50)\n",
      "all_quantiles content: [[[35.605583 35.605583 35.405243 ... 38.056564 38.137814 38.2267  ]]\n",
      "\n",
      " [[35.480057 35.480057 35.30398  ... 38.022232 38.10768  38.199615]]\n",
      "\n",
      " [[35.35453  35.35453  35.202686 ... 37.98771  38.077736 38.17253 ]]\n",
      "\n",
      " ...\n",
      "\n",
      " [[22.801876 22.801876 25.07485  ... 34.54504  35.070324 35.46295 ]]\n",
      "\n",
      " [[22.801876 22.801876 25.07485  ... 34.54504  35.070324 35.46295 ]]\n",
      "\n",
      " [[22.801876 22.801876 25.07485  ... 34.54504  35.070324 35.46295 ]]]\n",
      "all_quantiles after squeezing shape: (105, 50)\n",
      "Error with cow SE-5c06d92d-2915, lactation 2: too many values to unpack (expected 2)\n"
     ]
    },
    {
     "name": "stderr",
     "output_type": "stream",
     "text": [
      "/Users/user/anaconda3/envs/GIGACOW/lib/python3.11/site-packages/torch/optim/lr_scheduler.py:60: UserWarning: The verbose parameter is deprecated. Please use get_last_lr() to access the learning rate.\n",
      "  warnings.warn(\n",
      " 14%|█▍        | 327/2315 [02:03<11:03,  3.00 Segments/s]"
     ]
    },
    {
     "name": "stdout",
     "output_type": "stream",
     "text": [
      "all_quantiles shape: (423, 1, 50)\n",
      "all_quantiles content: [[[32.468784 32.468784 40.374516 ... 56.752205 56.9952   56.632805]]\n",
      "\n",
      " [[33.0392   33.0392   41.050385 ... 57.323837 57.567596 57.105446]]\n",
      "\n",
      " [[32.468784 32.468784 40.374516 ... 56.752205 56.9952   56.632805]]\n",
      "\n",
      " ...\n",
      "\n",
      " [[12.389802 12.389802 16.584265 ... 36.62615  36.850353 40.00244 ]]\n",
      "\n",
      " [[12.389802 12.389802 16.584265 ... 36.62615  36.850353 40.00244 ]]\n",
      "\n",
      " [[12.389802 12.389802 16.584265 ... 36.62615  36.850353 40.00244 ]]]\n",
      "all_quantiles after squeezing shape: (423, 50)\n",
      "Error with cow SE-5c06d92d-2915, lactation 3: too many values to unpack (expected 2)\n"
     ]
    },
    {
     "name": "stderr",
     "output_type": "stream",
     "text": [
      "/Users/user/anaconda3/envs/GIGACOW/lib/python3.11/site-packages/torch/optim/lr_scheduler.py:60: UserWarning: The verbose parameter is deprecated. Please use get_last_lr() to access the learning rate.\n",
      "  warnings.warn(\n",
      " 14%|█▍        | 328/2315 [02:04<10:45,  3.08 Segments/s]"
     ]
    },
    {
     "name": "stdout",
     "output_type": "stream",
     "text": [
      "all_quantiles shape: (54, 1, 50)\n",
      "all_quantiles content: [[[43.2139   43.2139   43.24206  ... 48.366924 48.532295 48.851013]]\n",
      "\n",
      " [[43.05355  43.05355  43.058037 ... 48.202133 48.372837 48.70567 ]]\n",
      "\n",
      " [[43.133736 43.133736 43.150032 ... 48.28453  48.452568 48.77834 ]]\n",
      "\n",
      " ...\n",
      "\n",
      " [[47.06236  47.06236  47.658424 ... 52.325436 52.355003 52.341652]]\n",
      "\n",
      " [[47.14254  47.14254  47.750435 ... 52.407837 52.434536 52.414513]]\n",
      "\n",
      " [[47.22271  47.22271  47.84244  ... 52.490425 52.514076 52.48718 ]]]\n",
      "all_quantiles after squeezing shape: (54, 50)\n",
      "Error with cow SE-5c06d92d-2915, lactation 4: too many values to unpack (expected 2)\n"
     ]
    },
    {
     "name": "stderr",
     "output_type": "stream",
     "text": [
      "/Users/user/anaconda3/envs/GIGACOW/lib/python3.11/site-packages/torch/optim/lr_scheduler.py:60: UserWarning: The verbose parameter is deprecated. Please use get_last_lr() to access the learning rate.\n",
      "  warnings.warn(\n",
      " 14%|█▍        | 329/2315 [02:04<11:55,  2.78 Segments/s]"
     ]
    },
    {
     "name": "stdout",
     "output_type": "stream",
     "text": [
      "all_quantiles shape: (557, 1, 50)\n",
      "all_quantiles content: [[[18.531273 18.531273 34.720802 ... 56.533623 56.83422  57.39002 ]]\n",
      "\n",
      " [[18.317484 18.317484 35.442257 ... 57.76329  58.056637 58.563995]]\n",
      "\n",
      " [[18.531273 18.531273 34.720802 ... 56.533623 56.83422  57.39002 ]]\n",
      "\n",
      " ...\n",
      "\n",
      " [[22.022985 22.022985 22.937143 ... 36.45096  36.865234 38.217926]]\n",
      "\n",
      " [[22.022985 22.022985 22.937143 ... 36.45096  36.865234 38.217926]]\n",
      "\n",
      " [[22.022985 22.022985 22.937143 ... 36.45096  36.865234 38.217926]]]\n",
      "all_quantiles after squeezing shape: (557, 50)\n",
      "Error with cow SE-5c06d92d-2916, lactation 3: too many values to unpack (expected 2)\n"
     ]
    },
    {
     "name": "stderr",
     "output_type": "stream",
     "text": [
      "/Users/user/anaconda3/envs/GIGACOW/lib/python3.11/site-packages/torch/optim/lr_scheduler.py:60: UserWarning: The verbose parameter is deprecated. Please use get_last_lr() to access the learning rate.\n",
      "  warnings.warn(\n",
      " 14%|█▍        | 330/2315 [02:04<12:07,  2.73 Segments/s]"
     ]
    },
    {
     "name": "stdout",
     "output_type": "stream",
     "text": [
      "all_quantiles shape: (291, 1, 50)\n",
      "all_quantiles content: [[[35.110294 35.110294 46.38649  ... 72.405815 73.87848  75.0679  ]]\n",
      "\n",
      " [[35.158108 35.158108 46.474155 ... 72.574425 74.05319  75.24586 ]]\n",
      "\n",
      " [[35.110294 35.110294 46.38649  ... 72.405815 73.87848  75.0679  ]]\n",
      "\n",
      " ...\n",
      "\n",
      " [[21.432852 21.432852 21.317972 ... 24.160097 23.895548 24.148655]]\n",
      "\n",
      " [[21.385027 21.385027 21.230316 ... 23.99149  23.720741 23.9707  ]]\n",
      "\n",
      " [[21.33721  21.33721  21.14265  ... 23.822784 23.545933 23.792646]]]\n",
      "all_quantiles after squeezing shape: (291, 50)\n",
      "Error with cow SE-5c06d92d-2918, lactation 3: too many values to unpack (expected 2)\n"
     ]
    },
    {
     "name": "stderr",
     "output_type": "stream",
     "text": [
      "/Users/user/anaconda3/envs/GIGACOW/lib/python3.11/site-packages/torch/optim/lr_scheduler.py:60: UserWarning: The verbose parameter is deprecated. Please use get_last_lr() to access the learning rate.\n",
      "  warnings.warn(\n",
      " 14%|█▍        | 332/2315 [02:05<09:43,  3.40 Segments/s]"
     ]
    },
    {
     "name": "stdout",
     "output_type": "stream",
     "text": [
      "all_quantiles shape: (256, 1, 50)\n",
      "all_quantiles content: [[[29.916668 29.916668 32.23754  ... 53.29895  53.48911  53.58696 ]]\n",
      "\n",
      " [[29.916668 29.916668 32.23754  ... 53.29895  53.48911  53.58696 ]]\n",
      "\n",
      " [[29.863823 29.863823 32.179962 ... 53.219604 53.41072  53.515816]]\n",
      "\n",
      " ...\n",
      "\n",
      " [[16.494    16.494    17.614603 ... 33.139038 33.602333 35.51216 ]]\n",
      "\n",
      " [[16.494    16.494    17.614603 ... 33.139038 33.602333 35.51216 ]]\n",
      "\n",
      " [[16.494    16.494    17.614603 ... 33.139038 33.602333 35.51216 ]]]\n",
      "all_quantiles after squeezing shape: (256, 50)\n",
      "Error with cow SE-5c06d92d-2919, lactation 3: too many values to unpack (expected 2)\n"
     ]
    },
    {
     "name": "stderr",
     "output_type": "stream",
     "text": [
      "/Users/user/anaconda3/envs/GIGACOW/lib/python3.11/site-packages/torch/optim/lr_scheduler.py:60: UserWarning: The verbose parameter is deprecated. Please use get_last_lr() to access the learning rate.\n",
      "  warnings.warn(\n",
      " 14%|█▍        | 333/2315 [02:05<10:32,  3.14 Segments/s]"
     ]
    },
    {
     "name": "stdout",
     "output_type": "stream",
     "text": [
      "all_quantiles shape: (299, 1, 50)\n",
      "all_quantiles content: [[[31.068718 31.068718 33.113728 ... 49.95632  49.956127 50.110626]]\n",
      "\n",
      " [[31.068718 31.068718 33.113728 ... 49.95632  49.956127 50.110626]]\n",
      "\n",
      " [[31.02784  31.02784  33.06689  ... 49.90616  49.910164 50.068474]]\n",
      "\n",
      " ...\n",
      "\n",
      " [[19.010258 19.010258 19.293617 ... 35.193825 36.34739  37.67624 ]]\n",
      "\n",
      " [[18.969368 18.969368 19.246758 ... 35.143852 36.301136 37.634182]]\n",
      "\n",
      " [[18.928503 18.928503 19.199907 ... 35.09369  36.255074 37.591934]]]\n",
      "all_quantiles after squeezing shape: (299, 50)\n",
      "Error with cow SE-5c06d92d-2919, lactation 4: too many values to unpack (expected 2)\n"
     ]
    },
    {
     "name": "stderr",
     "output_type": "stream",
     "text": [
      "/Users/user/anaconda3/envs/GIGACOW/lib/python3.11/site-packages/torch/optim/lr_scheduler.py:60: UserWarning: The verbose parameter is deprecated. Please use get_last_lr() to access the learning rate.\n",
      "  warnings.warn(\n",
      " 14%|█▍        | 334/2315 [02:05<10:05,  3.27 Segments/s]"
     ]
    },
    {
     "name": "stdout",
     "output_type": "stream",
     "text": [
      "all_quantiles shape: (36, 1, 50)\n",
      "all_quantiles content: [[[32.803875 32.803875 33.08872  ... 32.971382 32.96671  32.978153]]\n",
      "\n",
      " [[32.256596 32.256596 32.533447 ... 32.858086 32.858086 32.87182 ]]\n",
      "\n",
      " [[31.709312 31.709312 31.978184 ... 32.74479  32.749462 32.765484]]\n",
      "\n",
      " ...\n",
      "\n",
      " [[15.290855 15.290855 15.320109 ... 29.34618  29.49028  29.57592 ]]\n",
      "\n",
      " [[15.290855 15.290855 15.320109 ... 29.34618  29.49028  29.57592 ]]\n",
      "\n",
      " [[15.290855 15.290855 15.320109 ... 29.34618  29.49028  29.57592 ]]]\n",
      "all_quantiles after squeezing shape: (36, 50)\n",
      "Error with cow SE-5c06d92d-2920, lactation 2: too many values to unpack (expected 2)\n"
     ]
    },
    {
     "name": "stderr",
     "output_type": "stream",
     "text": [
      "/Users/user/anaconda3/envs/GIGACOW/lib/python3.11/site-packages/torch/optim/lr_scheduler.py:60: UserWarning: The verbose parameter is deprecated. Please use get_last_lr() to access the learning rate.\n",
      "  warnings.warn(\n",
      " 14%|█▍        | 335/2315 [02:06<10:49,  3.05 Segments/s]"
     ]
    },
    {
     "name": "stdout",
     "output_type": "stream",
     "text": [
      "all_quantiles shape: (312, 1, 50)\n",
      "all_quantiles content: [[[15.315259  15.315259  36.05423   ... 58.710285  58.95958   59.279633 ]]\n",
      "\n",
      " [[15.3307905 15.3307905 36.875927  ... 60.640144  60.882378  61.20796  ]]\n",
      "\n",
      " [[15.326917  15.326917  36.670494  ... 60.157776  60.401726  60.725975 ]]\n",
      "\n",
      " ...\n",
      "\n",
      " [[15.08994   15.08994   24.139763  ... 30.728434  31.078339  31.318665 ]]\n",
      "\n",
      " [[15.08994   15.08994   24.139763  ... 30.728434  31.078339  31.318665 ]]\n",
      "\n",
      " [[15.08994   15.08994   24.139763  ... 30.728434  31.078339  31.318665 ]]]\n",
      "all_quantiles after squeezing shape: (312, 50)\n",
      "Error with cow SE-5c06d92d-2920, lactation 3: too many values to unpack (expected 2)\n"
     ]
    },
    {
     "name": "stderr",
     "output_type": "stream",
     "text": [
      "/Users/user/anaconda3/envs/GIGACOW/lib/python3.11/site-packages/torch/optim/lr_scheduler.py:60: UserWarning: The verbose parameter is deprecated. Please use get_last_lr() to access the learning rate.\n",
      "  warnings.warn(\n",
      " 15%|█▍        | 336/2315 [02:06<11:08,  2.96 Segments/s]"
     ]
    },
    {
     "name": "stdout",
     "output_type": "stream",
     "text": [
      "all_quantiles shape: (153, 1, 50)\n",
      "all_quantiles content: [[[35.645924 35.645924 38.74619  ... 53.28102  53.429604 53.7529  ]]\n",
      "\n",
      " [[35.645924 35.645924 38.74619  ... 53.28102  53.429604 53.7529  ]]\n",
      "\n",
      " [[23.60041  23.60041  32.75938  ... 56.861687 57.043266 57.708546]]\n",
      "\n",
      " ...\n",
      "\n",
      " [[47.065685 47.065685 44.42198  ... 49.886322 50.00381  50.002476]]\n",
      "\n",
      " [[47.222126 47.222126 44.49973  ... 49.839973 49.956894 49.951168]]\n",
      "\n",
      " [[47.37856  47.37856  44.577488 ... 49.79343  49.909973 49.899864]]]\n",
      "all_quantiles after squeezing shape: (153, 50)\n",
      "Error with cow SE-5c06d92d-2920, lactation 4: too many values to unpack (expected 2)\n"
     ]
    },
    {
     "name": "stderr",
     "output_type": "stream",
     "text": [
      "/Users/user/anaconda3/envs/GIGACOW/lib/python3.11/site-packages/torch/optim/lr_scheduler.py:60: UserWarning: The verbose parameter is deprecated. Please use get_last_lr() to access the learning rate.\n",
      "  warnings.warn(\n",
      " 15%|█▍        | 337/2315 [02:07<10:59,  3.00 Segments/s]"
     ]
    },
    {
     "name": "stdout",
     "output_type": "stream",
     "text": [
      "all_quantiles shape: (73, 1, 50)\n",
      "all_quantiles content: [[[33.678085 33.678085 33.95923  ... 35.42595  35.41813  35.4105  ]]\n",
      "\n",
      " [[33.34662  33.34662  33.658207 ... 35.351753 35.345078 35.33802 ]]\n",
      "\n",
      " [[33.015156 33.015156 33.35719  ... 35.27775  35.271835 35.26554 ]]\n",
      "\n",
      " ...\n",
      "\n",
      " [[11.469972 11.469972 13.790965 ... 30.463694 30.51281  30.557728]]\n",
      "\n",
      " [[11.469972 11.469972 13.790965 ... 30.463694 30.51281  30.557728]]\n",
      "\n",
      " [[11.469972 11.469972 13.790965 ... 30.463694 30.51281  30.557728]]]\n",
      "all_quantiles after squeezing shape: (73, 50)\n",
      "Error with cow SE-5c06d92d-2922, lactation 2: too many values to unpack (expected 2)\n"
     ]
    },
    {
     "name": "stderr",
     "output_type": "stream",
     "text": [
      "/Users/user/anaconda3/envs/GIGACOW/lib/python3.11/site-packages/torch/optim/lr_scheduler.py:60: UserWarning: The verbose parameter is deprecated. Please use get_last_lr() to access the learning rate.\n",
      "  warnings.warn(\n",
      " 15%|█▍        | 338/2315 [02:07<11:34,  2.85 Segments/s]"
     ]
    },
    {
     "name": "stdout",
     "output_type": "stream",
     "text": [
      "all_quantiles shape: (348, 1, 50)\n",
      "all_quantiles content: [[[19.3573   19.3573   34.634007 ... 53.83758  54.307365 55.779648]]\n",
      "\n",
      " [[19.3573   19.3573   34.634007 ... 53.83758  54.307365 55.779648]]\n",
      "\n",
      " [[19.407581 19.407581 36.173725 ... 56.946754 57.439423 59.028812]]\n",
      "\n",
      " ...\n",
      "\n",
      " [[18.9003   18.9003   20.640814 ... 25.581741 25.840757 26.251028]]\n",
      "\n",
      " [[18.9003   18.9003   20.640814 ... 25.581741 25.840757 26.251028]]\n",
      "\n",
      " [[18.9003   18.9003   20.640814 ... 25.581741 25.840757 26.251028]]]\n",
      "all_quantiles after squeezing shape: (348, 50)\n",
      "Error with cow SE-5c06d92d-2922, lactation 3: too many values to unpack (expected 2)\n"
     ]
    },
    {
     "name": "stderr",
     "output_type": "stream",
     "text": [
      "/Users/user/anaconda3/envs/GIGACOW/lib/python3.11/site-packages/torch/optim/lr_scheduler.py:60: UserWarning: The verbose parameter is deprecated. Please use get_last_lr() to access the learning rate.\n",
      "  warnings.warn(\n",
      " 15%|█▍        | 339/2315 [02:07<11:31,  2.86 Segments/s]"
     ]
    },
    {
     "name": "stdout",
     "output_type": "stream",
     "text": [
      "all_quantiles shape: (114, 1, 50)\n",
      "all_quantiles content: [[[27.707148 27.707148 29.112219 ... 62.101936 61.64665  61.313244]]\n",
      "\n",
      " [[27.559782 27.559782 28.978704 ... 62.29076  61.820984 61.47098 ]]\n",
      "\n",
      " [[27.707148 27.707148 29.112219 ... 62.101936 61.64665  61.313244]]\n",
      "\n",
      " ...\n",
      "\n",
      " [[43.768547 43.768547 43.665897 ... 41.516685 42.65079  44.10782 ]]\n",
      "\n",
      " [[43.9159   43.9159   43.799435 ... 41.327667 42.476463 43.95008 ]]\n",
      "\n",
      " [[44.063248 44.063248 43.93295  ... 41.138836 42.30232  43.792152]]]\n",
      "all_quantiles after squeezing shape: (114, 50)\n",
      "Error with cow SE-5c06d92d-2922, lactation 4: too many values to unpack (expected 2)\n"
     ]
    },
    {
     "name": "stderr",
     "output_type": "stream",
     "text": [
      "/Users/user/anaconda3/envs/GIGACOW/lib/python3.11/site-packages/torch/optim/lr_scheduler.py:60: UserWarning: The verbose parameter is deprecated. Please use get_last_lr() to access the learning rate.\n",
      "  warnings.warn(\n",
      " 15%|█▍        | 340/2315 [02:08<11:13,  2.93 Segments/s]"
     ]
    },
    {
     "name": "stdout",
     "output_type": "stream",
     "text": [
      "all_quantiles shape: (87, 1, 50)\n",
      "all_quantiles content: [[[32.974518 32.974518 33.268475 ... 44.032288 44.3758   44.573975]]\n",
      "\n",
      " [[32.93759  32.93759  33.22959  ... 43.943405 44.28253  44.478035]]\n",
      "\n",
      " [[32.90067  32.90067  33.1907   ... 43.854523 44.18888  44.382286]]\n",
      "\n",
      " ...\n",
      "\n",
      " [[29.023767 29.023767 29.107666 ... 34.523582 34.370613 34.322548]]\n",
      "\n",
      " [[28.986858 28.986858 29.068768 ... 34.4347   34.277153 34.22661 ]]\n",
      "\n",
      " [[28.949926 28.949926 29.02988  ... 34.345818 34.183502 34.13086 ]]]\n",
      "all_quantiles after squeezing shape: (87, 50)\n",
      "Error with cow SE-5c06d92d-2926, lactation 2: too many values to unpack (expected 2)\n"
     ]
    },
    {
     "name": "stderr",
     "output_type": "stream",
     "text": [
      "/Users/user/anaconda3/envs/GIGACOW/lib/python3.11/site-packages/torch/optim/lr_scheduler.py:60: UserWarning: The verbose parameter is deprecated. Please use get_last_lr() to access the learning rate.\n",
      "  warnings.warn(\n",
      " 15%|█▍        | 341/2315 [02:08<12:04,  2.72 Segments/s]"
     ]
    },
    {
     "name": "stdout",
     "output_type": "stream",
     "text": [
      "all_quantiles shape: (360, 1, 50)\n",
      "all_quantiles content: [[[27.706884 27.706884 28.042948 ... 37.838936 37.97474  37.607384]]\n",
      "\n",
      " [[27.640253 27.640253 27.982796 ... 37.78534  37.923622 37.56275 ]]\n",
      "\n",
      " [[27.573622 27.573622 27.922653 ... 37.731934 37.872314 37.51831 ]]\n",
      "\n",
      " ...\n",
      "\n",
      " [[19.777452 19.777452 20.88567  ... 31.47583  31.887913 32.30219 ]]\n",
      "\n",
      " [[19.777452 19.777452 20.88567  ... 31.47583  31.887913 32.30219 ]]\n",
      "\n",
      " [[19.777452 19.777452 20.88567  ... 31.47583  31.887913 32.30219 ]]]\n",
      "all_quantiles after squeezing shape: (360, 50)\n",
      "Error with cow SE-5c06d92d-2927, lactation 2: too many values to unpack (expected 2)\n"
     ]
    },
    {
     "name": "stderr",
     "output_type": "stream",
     "text": [
      "/Users/user/anaconda3/envs/GIGACOW/lib/python3.11/site-packages/torch/optim/lr_scheduler.py:60: UserWarning: The verbose parameter is deprecated. Please use get_last_lr() to access the learning rate.\n",
      "  warnings.warn(\n",
      " 15%|█▍        | 342/2315 [02:08<12:04,  2.72 Segments/s]"
     ]
    },
    {
     "name": "stdout",
     "output_type": "stream",
     "text": [
      "all_quantiles shape: (209, 1, 50)\n",
      "all_quantiles content: [[[27.523392 27.523392 28.624546 ... 43.3218   43.72272  44.105335]]\n",
      "\n",
      " [[27.47317  27.47317  28.570175 ... 43.214035 43.61324  43.99376 ]]\n",
      "\n",
      " [[27.42294  27.42294  28.51579  ... 43.10665  43.503567 43.88199 ]]\n",
      "\n",
      " ...\n",
      "\n",
      " [[18.734396 18.734396 19.10776  ... 24.500654 24.54891  24.547195]]\n",
      "\n",
      " [[18.734396 18.734396 19.10776  ... 24.500654 24.54891  24.547195]]\n",
      "\n",
      " [[18.734396 18.734396 19.10776  ... 24.500654 24.54891  24.547195]]]\n",
      "all_quantiles after squeezing shape: (209, 50)\n",
      "Error with cow SE-5c06d92d-2928, lactation 2: too many values to unpack (expected 2)\n"
     ]
    },
    {
     "name": "stderr",
     "output_type": "stream",
     "text": [
      "/Users/user/anaconda3/envs/GIGACOW/lib/python3.11/site-packages/torch/optim/lr_scheduler.py:60: UserWarning: The verbose parameter is deprecated. Please use get_last_lr() to access the learning rate.\n",
      "  warnings.warn(\n",
      " 15%|█▍        | 343/2315 [02:09<12:11,  2.70 Segments/s]"
     ]
    },
    {
     "name": "stdout",
     "output_type": "stream",
     "text": [
      "all_quantiles shape: (260, 1, 50)\n",
      "all_quantiles content: [[[31.248236 31.248236 32.71178  ... 53.50933  53.58829  53.772163]]\n",
      "\n",
      " [[31.248236 31.248236 32.71178  ... 53.50933  53.58829  53.772163]]\n",
      "\n",
      " [[31.245338 31.245338 32.706844 ... 53.442955 53.522297 53.70598 ]]\n",
      "\n",
      " ...\n",
      "\n",
      " [[30.498957 30.498957 31.436491 ... 36.340714 36.513138 36.637306]]\n",
      "\n",
      " [[30.498957 30.498957 31.436491 ... 36.340714 36.513138 36.637306]]\n",
      "\n",
      " [[30.498957 30.498957 31.436491 ... 36.340714 36.513138 36.637306]]]\n",
      "all_quantiles after squeezing shape: (260, 50)\n",
      "Error with cow SE-5c06d92d-2928, lactation 3: too many values to unpack (expected 2)\n"
     ]
    },
    {
     "name": "stderr",
     "output_type": "stream",
     "text": [
      "/Users/user/anaconda3/envs/GIGACOW/lib/python3.11/site-packages/torch/optim/lr_scheduler.py:60: UserWarning: The verbose parameter is deprecated. Please use get_last_lr() to access the learning rate.\n",
      "  warnings.warn(\n",
      " 15%|█▍        | 344/2315 [02:09<11:40,  2.81 Segments/s]"
     ]
    },
    {
     "name": "stdout",
     "output_type": "stream",
     "text": [
      "all_quantiles shape: (87, 1, 50)\n",
      "all_quantiles content: [[[33.417034 33.417034 33.59599  ... 56.90422  57.035446 57.13768 ]]\n",
      "\n",
      " [[33.30343  33.30343  33.47988  ... 56.98738  57.118607 57.22084 ]]\n",
      "\n",
      " [[33.417034 33.417034 33.59599  ... 56.90422  57.035446 57.13768 ]]\n",
      "\n",
      " ...\n",
      "\n",
      " [[42.73349  42.73349  43.114998 ... 50.091553 50.22659  50.320053]]\n",
      "\n",
      " [[42.847107 42.847107 43.231083 ... 50.00858  50.143433 50.23689 ]]\n",
      "\n",
      " [[42.960728 42.960728 43.347157 ... 49.925423 50.06046  50.153923]]]\n",
      "all_quantiles after squeezing shape: (87, 50)\n",
      "Error with cow SE-5c06d92d-2928, lactation 4: too many values to unpack (expected 2)\n"
     ]
    },
    {
     "name": "stderr",
     "output_type": "stream",
     "text": [
      "/Users/user/anaconda3/envs/GIGACOW/lib/python3.11/site-packages/torch/optim/lr_scheduler.py:60: UserWarning: The verbose parameter is deprecated. Please use get_last_lr() to access the learning rate.\n",
      "  warnings.warn(\n",
      " 15%|█▍        | 345/2315 [02:09<10:45,  3.05 Segments/s]"
     ]
    },
    {
     "name": "stdout",
     "output_type": "stream",
     "text": [
      "all_quantiles shape: (28, 1, 50)\n",
      "all_quantiles content: [[[29.755692 29.755692 29.802029 ... 30.272959 30.276012 30.278778]]\n",
      "\n",
      " [[29.31286  29.31286  29.35762  ... 30.212498 30.215929 30.218983]]\n",
      "\n",
      " [[28.870026 28.870026 28.913218 ... 30.152035 30.155848 30.159187]]\n",
      "\n",
      " ...\n",
      "\n",
      " [[18.684923 18.684923 18.691837 ... 28.76072  28.77407  28.784657]]\n",
      "\n",
      " [[18.684923 18.684923 18.691837 ... 28.76072  28.77407  28.784657]]\n",
      "\n",
      " [[18.684923 18.684923 18.691837 ... 28.76072  28.77407  28.784657]]]\n",
      "all_quantiles after squeezing shape: (28, 50)\n",
      "Error with cow SE-5c06d92d-2929, lactation 2: too many values to unpack (expected 2)\n"
     ]
    },
    {
     "name": "stderr",
     "output_type": "stream",
     "text": [
      "/Users/user/anaconda3/envs/GIGACOW/lib/python3.11/site-packages/torch/optim/lr_scheduler.py:60: UserWarning: The verbose parameter is deprecated. Please use get_last_lr() to access the learning rate.\n",
      "  warnings.warn(\n",
      " 15%|█▍        | 346/2315 [02:10<11:20,  2.89 Segments/s]"
     ]
    },
    {
     "name": "stdout",
     "output_type": "stream",
     "text": [
      "all_quantiles shape: (352, 1, 50)\n",
      "all_quantiles content: [[[27.513956 27.513956 36.438274 ... 60.45723  60.545536 60.81371 ]]\n",
      "\n",
      " [[27.513956 27.513956 36.438274 ... 60.45723  60.545536 60.81371 ]]\n",
      "\n",
      " [[27.486132 27.486132 36.393867 ... 60.344505 60.432816 60.700607]]\n",
      "\n",
      " ...\n",
      "\n",
      " [[17.717922 17.717922 20.809208 ... 20.832253 20.911694 20.938015]]\n",
      "\n",
      " [[17.717922 17.717922 20.809208 ... 20.832253 20.911694 20.938015]]\n",
      "\n",
      " [[17.717922 17.717922 20.809208 ... 20.832253 20.911694 20.938015]]]\n",
      "all_quantiles after squeezing shape: (352, 50)\n",
      "Error with cow SE-5c06d92d-2929, lactation 3: too many values to unpack (expected 2)\n"
     ]
    },
    {
     "name": "stderr",
     "output_type": "stream",
     "text": [
      "/Users/user/anaconda3/envs/GIGACOW/lib/python3.11/site-packages/torch/optim/lr_scheduler.py:60: UserWarning: The verbose parameter is deprecated. Please use get_last_lr() to access the learning rate.\n",
      "  warnings.warn(\n",
      " 15%|█▍        | 347/2315 [02:10<11:28,  2.86 Segments/s]"
     ]
    },
    {
     "name": "stdout",
     "output_type": "stream",
     "text": [
      "all_quantiles shape: (182, 1, 50)\n",
      "all_quantiles content: [[[34.71205  34.71205  36.394867 ... 54.66251  54.82025  54.752728]]\n",
      "\n",
      " [[34.71205  34.71205  36.394867 ... 54.66251  54.82025  54.752728]]\n",
      "\n",
      " [[34.71205  34.71205  36.394867 ... 54.66251  54.82025  54.752728]]\n",
      "\n",
      " ...\n",
      "\n",
      " [[36.739124 36.739124 37.070892 ... 38.87787  41.347885 43.979836]]\n",
      "\n",
      " [[36.755608 36.755608 37.076378 ... 38.749313 41.2384   43.89248 ]]\n",
      "\n",
      " [[36.772083 36.772083 37.081882 ... 38.62114  41.128727 43.804928]]]\n",
      "all_quantiles after squeezing shape: (182, 50)\n",
      "Error with cow SE-5c06d92d-2929, lactation 4: too many values to unpack (expected 2)\n"
     ]
    },
    {
     "name": "stderr",
     "output_type": "stream",
     "text": [
      "/Users/user/anaconda3/envs/GIGACOW/lib/python3.11/site-packages/torch/optim/lr_scheduler.py:60: UserWarning: The verbose parameter is deprecated. Please use get_last_lr() to access the learning rate.\n",
      "  warnings.warn(\n",
      " 15%|█▌        | 348/2315 [02:10<11:43,  2.80 Segments/s]"
     ]
    },
    {
     "name": "stdout",
     "output_type": "stream",
     "text": [
      "all_quantiles shape: (225, 1, 50)\n",
      "all_quantiles content: [[[30.47446  30.47446  30.766443 ... 35.60705  35.965347 36.34548 ]]\n",
      "\n",
      " [[30.392147 30.392147 30.682802 ... 35.54182  35.89716  36.273956]]\n",
      "\n",
      " [[30.30983  30.30983  30.599176 ... 35.47659  35.82897  36.20262 ]]\n",
      "\n",
      " ...\n",
      "\n",
      " [[21.749437 21.749437 21.9007   ... 28.691387 28.734777 28.779602]]\n",
      "\n",
      " [[21.749437 21.749437 21.9007   ... 28.691387 28.734777 28.779602]]\n",
      "\n",
      " [[21.749437 21.749437 21.9007   ... 28.691387 28.734777 28.779602]]]\n",
      "all_quantiles after squeezing shape: (225, 50)\n",
      "Error with cow SE-5c06d92d-2930, lactation 2: too many values to unpack (expected 2)\n"
     ]
    },
    {
     "name": "stderr",
     "output_type": "stream",
     "text": [
      "/Users/user/anaconda3/envs/GIGACOW/lib/python3.11/site-packages/torch/optim/lr_scheduler.py:60: UserWarning: The verbose parameter is deprecated. Please use get_last_lr() to access the learning rate.\n",
      "  warnings.warn(\n",
      " 15%|█▌        | 349/2315 [02:11<11:24,  2.87 Segments/s]"
     ]
    },
    {
     "name": "stdout",
     "output_type": "stream",
     "text": [
      "all_quantiles shape: (112, 1, 50)\n",
      "all_quantiles content: [[[37.089336 37.089336 37.62096  ... 42.927742 43.09902  43.212505]]\n",
      "\n",
      " [[37.00263  37.00263  37.537766 ... 42.909813 43.08071  43.193813]]\n",
      "\n",
      " [[36.91592  36.91592  37.45456  ... 42.891884 43.06221  43.175312]]\n",
      "\n",
      " ...\n",
      "\n",
      " [[27.551449 27.551449 28.468822 ... 40.962215 41.068268 41.16974 ]]\n",
      "\n",
      " [[27.551449 27.551449 28.468822 ... 40.962215 41.068268 41.16974 ]]\n",
      "\n",
      " [[27.551449 27.551449 28.468822 ... 40.962215 41.068268 41.16974 ]]]\n",
      "all_quantiles after squeezing shape: (112, 50)\n",
      "Error with cow SE-5c06d92d-2932, lactation 2: too many values to unpack (expected 2)\n"
     ]
    },
    {
     "name": "stderr",
     "output_type": "stream",
     "text": [
      "/Users/user/anaconda3/envs/GIGACOW/lib/python3.11/site-packages/torch/optim/lr_scheduler.py:60: UserWarning: The verbose parameter is deprecated. Please use get_last_lr() to access the learning rate.\n",
      "  warnings.warn(\n",
      " 15%|█▌        | 350/2315 [02:11<11:48,  2.77 Segments/s]"
     ]
    },
    {
     "name": "stdout",
     "output_type": "stream",
     "text": [
      "all_quantiles shape: (303, 1, 50)\n",
      "all_quantiles content: [[[21.317196 21.317196 31.724524 ... 69.04888  69.96555  71.05808 ]]\n",
      "\n",
      " [[21.129416 21.129416 31.660936 ... 69.45267  70.376396 71.47541 ]]\n",
      "\n",
      " [[21.317196 21.317196 31.724524 ... 69.04888  69.96555  71.05808 ]]\n",
      "\n",
      " ...\n",
      "\n",
      " [[35.26015  35.26015  36.44619  ... 39.059258 39.464756 40.07187 ]]\n",
      "\n",
      " [[35.3071   35.3071   36.46209  ... 38.958168 39.362144 39.967537]]\n",
      "\n",
      " [[35.447918 35.447918 36.50979  ... 38.65528  39.054108 39.65454 ]]]\n",
      "all_quantiles after squeezing shape: (303, 50)\n",
      "Error with cow SE-5c06d92d-2932, lactation 3: too many values to unpack (expected 2)\n"
     ]
    },
    {
     "name": "stderr",
     "output_type": "stream",
     "text": [
      "/Users/user/anaconda3/envs/GIGACOW/lib/python3.11/site-packages/torch/optim/lr_scheduler.py:60: UserWarning: The verbose parameter is deprecated. Please use get_last_lr() to access the learning rate.\n",
      "  warnings.warn(\n",
      " 15%|█▌        | 351/2315 [02:12<11:37,  2.82 Segments/s]"
     ]
    },
    {
     "name": "stdout",
     "output_type": "stream",
     "text": [
      "all_quantiles shape: (63, 1, 50)\n",
      "all_quantiles content: [[[19.470001 19.470001 21.635532 ... 52.04792  52.40307  52.619743]]\n",
      "\n",
      " [[19.470001 19.470001 21.635532 ... 52.04792  52.40307  52.619743]]\n",
      "\n",
      " [[19.470001 19.470001 21.635532 ... 52.04792  52.40307  52.619743]]\n",
      "\n",
      " ...\n",
      "\n",
      " [[35.855434 35.855434 42.265404 ... 65.02838  65.013695 65.01045 ]]\n",
      "\n",
      " [[36.28664  36.28664  42.808292 ... 65.37018  65.34538  65.33661 ]]\n",
      "\n",
      " [[36.71783  36.71783  43.351185 ... 65.71159  65.67726  65.662766]]]\n",
      "all_quantiles after squeezing shape: (63, 50)\n",
      "Error with cow SE-5c06d92d-2932, lactation 4: too many values to unpack (expected 2)\n"
     ]
    },
    {
     "name": "stderr",
     "output_type": "stream",
     "text": [
      "/Users/user/anaconda3/envs/GIGACOW/lib/python3.11/site-packages/torch/optim/lr_scheduler.py:60: UserWarning: The verbose parameter is deprecated. Please use get_last_lr() to access the learning rate.\n",
      "  warnings.warn(\n",
      " 15%|█▌        | 352/2315 [02:12<11:44,  2.79 Segments/s]"
     ]
    },
    {
     "name": "stdout",
     "output_type": "stream",
     "text": [
      "all_quantiles shape: (83, 1, 50)\n",
      "all_quantiles content: [[[27.538721 27.538721 27.368282 ... 29.313755 29.361153 29.399681]]\n",
      "\n",
      " [[27.45697  27.45697  27.300858 ... 29.28667  29.33626  29.376984]]\n",
      "\n",
      " [[27.375225 27.375225 27.233433 ... 29.259775 29.311275 29.354382]]\n",
      "\n",
      " ...\n",
      "\n",
      " [[20.999086 20.999086 21.974312 ... 27.156828 27.362919 27.59142 ]]\n",
      "\n",
      " [[20.999086 20.999086 21.974312 ... 27.156828 27.362919 27.59142 ]]\n",
      "\n",
      " [[20.999086 20.999086 21.974312 ... 27.156828 27.362919 27.59142 ]]]\n",
      "all_quantiles after squeezing shape: (83, 50)\n",
      "Error with cow SE-5c06d92d-2937, lactation 2: too many values to unpack (expected 2)\n"
     ]
    },
    {
     "name": "stderr",
     "output_type": "stream",
     "text": [
      "/Users/user/anaconda3/envs/GIGACOW/lib/python3.11/site-packages/torch/optim/lr_scheduler.py:60: UserWarning: The verbose parameter is deprecated. Please use get_last_lr() to access the learning rate.\n",
      "  warnings.warn(\n",
      " 15%|█▌        | 353/2315 [02:12<12:18,  2.66 Segments/s]"
     ]
    },
    {
     "name": "stdout",
     "output_type": "stream",
     "text": [
      "all_quantiles shape: (295, 1, 50)\n",
      "all_quantiles content: [[[18.920921 18.920921 24.205126 ... 49.44668  49.770355 50.12264 ]]\n",
      "\n",
      " [[18.515968 18.515968 23.863506 ... 52.703476 53.08094  53.487587]]\n",
      "\n",
      " [[18.920921 18.920921 24.205126 ... 49.44668  49.770355 50.12264 ]]\n",
      "\n",
      " ...\n",
      "\n",
      " [[21.617092 21.617092 26.47959  ... 27.762411 27.73037  27.718258]]\n",
      "\n",
      " [[21.617092 21.617092 26.47959  ... 27.762411 27.73037  27.718258]]\n",
      "\n",
      " [[21.617092 21.617092 26.47959  ... 27.762411 27.73037  27.718258]]]\n",
      "all_quantiles after squeezing shape: (295, 50)\n",
      "Error with cow SE-5c06d92d-2937, lactation 3: too many values to unpack (expected 2)\n"
     ]
    },
    {
     "name": "stderr",
     "output_type": "stream",
     "text": [
      "/Users/user/anaconda3/envs/GIGACOW/lib/python3.11/site-packages/torch/optim/lr_scheduler.py:60: UserWarning: The verbose parameter is deprecated. Please use get_last_lr() to access the learning rate.\n",
      "  warnings.warn(\n",
      " 15%|█▌        | 354/2315 [02:13<12:50,  2.54 Segments/s]"
     ]
    },
    {
     "name": "stdout",
     "output_type": "stream",
     "text": [
      "all_quantiles shape: (182, 1, 50)\n",
      "all_quantiles content: [[[21.84168  21.84168  26.644194 ... 47.04876  47.25952  47.50595 ]]\n",
      "\n",
      " [[21.84168  21.84168  26.644194 ... 47.04876  47.25952  47.50595 ]]\n",
      "\n",
      " [[21.84168  21.84168  26.644194 ... 47.04876  47.25952  47.50595 ]]\n",
      "\n",
      " ...\n",
      "\n",
      " [[31.713871 31.713871 31.68392  ... 33.664036 33.979034 34.184265]]\n",
      "\n",
      " [[31.79413  31.79413  31.724894 ... 33.55522  33.87108  34.075928]]\n",
      "\n",
      " [[31.874393 31.874393 31.765877 ... 33.446407 33.763027 33.96759 ]]]\n",
      "all_quantiles after squeezing shape: (182, 50)\n",
      "Error with cow SE-5c06d92d-2937, lactation 4: too many values to unpack (expected 2)\n"
     ]
    },
    {
     "name": "stderr",
     "output_type": "stream",
     "text": [
      "/Users/user/anaconda3/envs/GIGACOW/lib/python3.11/site-packages/torch/optim/lr_scheduler.py:60: UserWarning: The verbose parameter is deprecated. Please use get_last_lr() to access the learning rate.\n",
      "  warnings.warn(\n",
      " 15%|█▌        | 355/2315 [02:13<13:12,  2.47 Segments/s]"
     ]
    },
    {
     "name": "stdout",
     "output_type": "stream",
     "text": [
      "all_quantiles shape: (173, 1, 50)\n",
      "all_quantiles content: [[[36.36419  36.36419  37.61103  ... 44.117928 44.16542  44.226265]]\n",
      "\n",
      " [[36.32623  36.32623  37.56783  ... 44.096565 44.14463  44.20528 ]]\n",
      "\n",
      " [[36.28826  36.28826  37.52464  ... 44.075203 44.123646 44.184494]]\n",
      "\n",
      " ...\n",
      "\n",
      " [[29.909443 29.909443 30.268145 ... 40.499493 40.60383  40.678215]]\n",
      "\n",
      " [[29.871464 29.871464 30.224955 ... 40.478134 40.582848 40.65742 ]]\n",
      "\n",
      " [[29.833508 29.833508 30.181753 ... 40.456768 40.561863 40.636635]]]\n",
      "all_quantiles after squeezing shape: (173, 50)\n",
      "Error with cow SE-5c06d92d-2941, lactation 2: too many values to unpack (expected 2)\n"
     ]
    },
    {
     "name": "stderr",
     "output_type": "stream",
     "text": [
      "/Users/user/anaconda3/envs/GIGACOW/lib/python3.11/site-packages/torch/optim/lr_scheduler.py:60: UserWarning: The verbose parameter is deprecated. Please use get_last_lr() to access the learning rate.\n",
      "  warnings.warn(\n",
      " 15%|█▌        | 356/2315 [02:14<12:37,  2.59 Segments/s]"
     ]
    },
    {
     "name": "stdout",
     "output_type": "stream",
     "text": [
      "all_quantiles shape: (99, 1, 50)\n",
      "all_quantiles content: [[[33.020638 33.020638 34.194946 ... 60.837746 61.221123 61.35025 ]]\n",
      "\n",
      " [[31.021688 31.021688 32.15704  ... 61.742397 62.163925 62.30087 ]]\n",
      "\n",
      " [[31.221579 31.221579 32.360813 ... 61.65199  62.06951  62.205883]]\n",
      "\n",
      " ...\n",
      "\n",
      " [[50.41146  50.41146  51.92484  ... 52.966118 53.019524 53.079987]]\n",
      "\n",
      " [[50.611366 50.611366 52.128624 ... 52.87571  52.9253   52.98481 ]]\n",
      "\n",
      " [[50.811256 50.811256 52.33242  ... 52.78511  52.831074 52.889633]]]\n",
      "all_quantiles after squeezing shape: (99, 50)\n",
      "Error with cow SE-5c06d92d-2941, lactation 3: too many values to unpack (expected 2)\n"
     ]
    },
    {
     "name": "stderr",
     "output_type": "stream",
     "text": [
      "/Users/user/anaconda3/envs/GIGACOW/lib/python3.11/site-packages/torch/optim/lr_scheduler.py:60: UserWarning: The verbose parameter is deprecated. Please use get_last_lr() to access the learning rate.\n",
      "  warnings.warn(\n",
      " 15%|█▌        | 357/2315 [02:14<12:31,  2.61 Segments/s]"
     ]
    },
    {
     "name": "stdout",
     "output_type": "stream",
     "text": [
      "all_quantiles shape: (191, 1, 50)\n",
      "all_quantiles content: [[[44.539738 44.539738 44.964706 ... 51.888657 51.704407 51.70231 ]]\n",
      "\n",
      " [[44.485546 44.485546 44.91851  ... 51.85375  51.67255  51.671978]]\n",
      "\n",
      " [[44.431355 44.431355 44.87232  ... 51.81904  51.6407   51.641464]]\n",
      "\n",
      " ...\n",
      "\n",
      " [[34.189987 34.189987 36.14038  ... 45.232773 45.64533  45.886612]]\n",
      "\n",
      " [[34.135807 34.135807 36.094177 ... 45.19787  45.61367  45.856094]]\n",
      "\n",
      " [[34.0816   34.0816   36.047985 ... 45.16315  45.581818 45.825764]]]\n",
      "all_quantiles after squeezing shape: (191, 50)\n",
      "Error with cow SE-5c06d92d-2947, lactation 2: too many values to unpack (expected 2)\n"
     ]
    },
    {
     "name": "stderr",
     "output_type": "stream",
     "text": [
      "/Users/user/anaconda3/envs/GIGACOW/lib/python3.11/site-packages/torch/optim/lr_scheduler.py:60: UserWarning: The verbose parameter is deprecated. Please use get_last_lr() to access the learning rate.\n",
      "  warnings.warn(\n",
      " 15%|█▌        | 358/2315 [02:14<12:34,  2.59 Segments/s]"
     ]
    },
    {
     "name": "stdout",
     "output_type": "stream",
     "text": [
      "all_quantiles shape: (286, 1, 50)\n",
      "all_quantiles content: [[[25.60625  25.60625  37.153435 ... 70.29495  70.70656  71.876144]]\n",
      "\n",
      " [[25.60625  25.60625  37.153435 ... 70.29495  70.70656  71.876144]]\n",
      "\n",
      " [[25.601196 25.601196 37.059284 ... 70.05386  70.46127  71.6156  ]]\n",
      "\n",
      " ...\n",
      "\n",
      " [[25.076271 25.076271 27.33066  ... 45.149418 45.11223  44.698715]]\n",
      "\n",
      " [[25.076271 25.076271 27.33066  ... 45.149418 45.11223  44.698715]]\n",
      "\n",
      " [[25.076271 25.076271 27.33066  ... 45.149418 45.11223  44.698715]]]\n",
      "all_quantiles after squeezing shape: (286, 50)\n",
      "Error with cow SE-5c06d92d-2947, lactation 3: too many values to unpack (expected 2)\n"
     ]
    },
    {
     "name": "stderr",
     "output_type": "stream",
     "text": [
      "/Users/user/anaconda3/envs/GIGACOW/lib/python3.11/site-packages/torch/optim/lr_scheduler.py:60: UserWarning: The verbose parameter is deprecated. Please use get_last_lr() to access the learning rate.\n",
      "  warnings.warn(\n",
      " 16%|█▌        | 359/2315 [02:15<11:25,  2.85 Segments/s]"
     ]
    },
    {
     "name": "stdout",
     "output_type": "stream",
     "text": [
      "all_quantiles shape: (27, 1, 50)\n",
      "all_quantiles content: [[[27.477812 27.477812 27.47624  ... 55.787273 55.856705 55.920788]]\n",
      "\n",
      " [[35.33455  35.33455  35.32984  ... 46.472168 46.359253 46.510506]]\n",
      "\n",
      " [[34.730183 34.730183 34.725723 ... 47.18876  47.089954 47.234154]]\n",
      "\n",
      " ...\n",
      "\n",
      " [[15.390443 15.390443 15.393781 ... 70.11852  70.46833  70.39795 ]]\n",
      "\n",
      " [[14.181708 14.181708 14.185524 ... 71.551704 71.92936  71.84581 ]]\n",
      "\n",
      " [[11.764239 11.764239 11.769056 ... 74.41807  74.85161  74.74117 ]]]\n",
      "all_quantiles after squeezing shape: (27, 50)\n",
      "Error with cow SE-5c06d92d-2947, lactation 4: too many values to unpack (expected 2)\n"
     ]
    },
    {
     "name": "stderr",
     "output_type": "stream",
     "text": [
      "/Users/user/anaconda3/envs/GIGACOW/lib/python3.11/site-packages/torch/optim/lr_scheduler.py:60: UserWarning: The verbose parameter is deprecated. Please use get_last_lr() to access the learning rate.\n",
      "  warnings.warn(\n",
      " 16%|█▌        | 360/2315 [02:15<11:12,  2.91 Segments/s]"
     ]
    },
    {
     "name": "stdout",
     "output_type": "stream",
     "text": [
      "all_quantiles shape: (103, 1, 50)\n",
      "all_quantiles content: [[[37.10791  37.10791  37.37523  ... 39.937016 39.874836 39.853096]]\n",
      "\n",
      " [[37.058292 37.058292 37.323093 ... 39.92309  39.8653   39.846798]]\n",
      "\n",
      " [[37.008686 37.008686 37.27096  ... 39.909554 39.85557  39.840508]]\n",
      "\n",
      " ...\n",
      "\n",
      " [[32.14656  32.14656  32.162033 ... 38.570404 38.902855 39.227867]]\n",
      "\n",
      " [[32.09695  32.09695  32.109905 ... 38.55686  38.892937 39.22176 ]]\n",
      "\n",
      " [[32.047333 32.047333 32.057774 ... 38.543125 38.88321  39.21547 ]]]\n",
      "all_quantiles after squeezing shape: (103, 50)\n",
      "Error with cow SE-5c06d92d-2948, lactation 2: too many values to unpack (expected 2)\n"
     ]
    },
    {
     "name": "stderr",
     "output_type": "stream",
     "text": [
      "/Users/user/anaconda3/envs/GIGACOW/lib/python3.11/site-packages/torch/optim/lr_scheduler.py:60: UserWarning: The verbose parameter is deprecated. Please use get_last_lr() to access the learning rate.\n",
      "  warnings.warn(\n",
      " 16%|█▌        | 361/2315 [02:15<13:29,  2.42 Segments/s]"
     ]
    },
    {
     "name": "stdout",
     "output_type": "stream",
     "text": [
      "all_quantiles shape: (473, 1, 50)\n",
      "all_quantiles content: [[[16.523682 16.523682 24.654984 ... 56.859776 56.99825  57.15313 ]]\n",
      "\n",
      " [[16.523682 16.523682 24.654984 ... 56.859776 56.99825  57.15313 ]]\n",
      "\n",
      " [[16.523682 16.523682 24.654984 ... 56.859776 56.99825  57.15313 ]]\n",
      "\n",
      " ...\n",
      "\n",
      " [[18.978058 18.978058 20.425737 ... 35.230827 35.28633  35.336876]]\n",
      "\n",
      " [[18.978058 18.978058 20.425737 ... 35.230827 35.28633  35.336876]]\n",
      "\n",
      " [[18.978058 18.978058 20.425737 ... 35.230827 35.28633  35.336876]]]\n",
      "all_quantiles after squeezing shape: (473, 50)\n",
      "Error with cow SE-5c06d92d-2948, lactation 3: too many values to unpack (expected 2)\n"
     ]
    },
    {
     "name": "stderr",
     "output_type": "stream",
     "text": [
      "/Users/user/anaconda3/envs/GIGACOW/lib/python3.11/site-packages/torch/optim/lr_scheduler.py:60: UserWarning: The verbose parameter is deprecated. Please use get_last_lr() to access the learning rate.\n",
      "  warnings.warn(\n",
      " 16%|█▌        | 362/2315 [02:16<14:32,  2.24 Segments/s]"
     ]
    },
    {
     "name": "stdout",
     "output_type": "stream",
     "text": [
      "all_quantiles shape: (147, 1, 50)\n",
      "all_quantiles content: [[[33.54994  33.54994  34.135246 ... 39.66045  39.73503  39.839172]]\n",
      "\n",
      " [[33.5025   33.5025   34.092438 ... 39.66217  39.736553 39.839745]]\n",
      "\n",
      " [[33.455055 33.455055 34.04964  ... 39.663696 39.737892 39.840317]]\n",
      "\n",
      " ...\n",
      "\n",
      " [[26.718699 26.718699 27.971066 ... 39.897728 39.93435  39.92748 ]]\n",
      "\n",
      " [[26.718699 26.718699 27.971066 ... 39.897728 39.93435  39.92748 ]]\n",
      "\n",
      " [[26.718699 26.718699 27.971066 ... 39.897728 39.93435  39.92748 ]]]\n",
      "all_quantiles after squeezing shape: (147, 50)\n",
      "Error with cow SE-5c06d92d-2949, lactation 2: too many values to unpack (expected 2)\n"
     ]
    },
    {
     "name": "stderr",
     "output_type": "stream",
     "text": [
      "/Users/user/anaconda3/envs/GIGACOW/lib/python3.11/site-packages/torch/optim/lr_scheduler.py:60: UserWarning: The verbose parameter is deprecated. Please use get_last_lr() to access the learning rate.\n",
      "  warnings.warn(\n",
      " 16%|█▌        | 363/2315 [02:16<14:34,  2.23 Segments/s]"
     ]
    },
    {
     "name": "stdout",
     "output_type": "stream",
     "text": [
      "all_quantiles shape: (289, 1, 50)\n",
      "all_quantiles content: [[[29.06953  29.06953  32.32355  ... 50.480457 51.124954 51.637268]]\n",
      "\n",
      " [[28.648865 28.648865 32.307266 ... 52.472874 53.196716 53.771782]]\n",
      "\n",
      " [[28.660236 28.660236 32.30771  ... 52.4189   53.140827 53.71418 ]]\n",
      "\n",
      " ...\n",
      "\n",
      " [[32.10517  32.10517  32.441105 ... 36.103058 36.174202 36.234474]]\n",
      "\n",
      " [[32.10517  32.10517  32.441105 ... 36.103058 36.174202 36.234474]]\n",
      "\n",
      " [[32.10517  32.10517  32.441105 ... 36.103058 36.174202 36.234474]]]\n",
      "all_quantiles after squeezing shape: (289, 50)\n",
      "Error with cow SE-5c06d92d-2949, lactation 3: too many values to unpack (expected 2)\n"
     ]
    },
    {
     "name": "stderr",
     "output_type": "stream",
     "text": [
      "/Users/user/anaconda3/envs/GIGACOW/lib/python3.11/site-packages/torch/optim/lr_scheduler.py:60: UserWarning: The verbose parameter is deprecated. Please use get_last_lr() to access the learning rate.\n",
      "  warnings.warn(\n",
      " 16%|█▌        | 364/2315 [02:17<14:40,  2.22 Segments/s]"
     ]
    },
    {
     "name": "stdout",
     "output_type": "stream",
     "text": [
      "all_quantiles shape: (108, 1, 50)\n",
      "all_quantiles content: [[[24.03364  24.03364  25.929878 ... 57.623096 58.960724 59.67731 ]]\n",
      "\n",
      " [[24.03364  24.03364  25.929878 ... 57.623096 58.960724 59.67731 ]]\n",
      "\n",
      " [[24.251629 24.251629 26.130413 ... 57.5283   58.852005 59.56783 ]]\n",
      "\n",
      " ...\n",
      "\n",
      " [[47.13842  47.13842  47.187912 ... 47.57805  47.444153 48.05889 ]]\n",
      "\n",
      " [[47.356388 47.356388 47.38846  ... 47.483253 47.335434 47.94941 ]]\n",
      "\n",
      " [[47.57436  47.57436  47.589016 ... 47.38846  47.226906 47.839546]]]\n",
      "all_quantiles after squeezing shape: (108, 50)\n",
      "Error with cow SE-5c06d92d-2949, lactation 4: too many values to unpack (expected 2)\n"
     ]
    },
    {
     "name": "stderr",
     "output_type": "stream",
     "text": [
      "/Users/user/anaconda3/envs/GIGACOW/lib/python3.11/site-packages/torch/optim/lr_scheduler.py:60: UserWarning: The verbose parameter is deprecated. Please use get_last_lr() to access the learning rate.\n",
      "  warnings.warn(\n",
      " 16%|█▌        | 365/2315 [02:17<14:36,  2.22 Segments/s]"
     ]
    },
    {
     "name": "stdout",
     "output_type": "stream",
     "text": [
      "all_quantiles shape: (90, 1, 50)\n",
      "all_quantiles content: [[[30.821924 30.821924 30.930872 ... 38.030243 38.030815 38.031197]]\n",
      "\n",
      " [[30.809324 30.809324 30.919294 ... 37.98542  37.986565 37.98752 ]]\n",
      "\n",
      " [[30.79673  30.79673  30.907713 ... 37.940407 37.94231  37.94384 ]]\n",
      "\n",
      " ...\n",
      "\n",
      " [[29.726063 29.726063 29.92339  ... 34.127235 34.18522  34.22737 ]]\n",
      "\n",
      " [[29.713463 29.713463 29.911816 ... 34.082413 34.140778 34.183693]]\n",
      "\n",
      " [[29.713463 29.713463 29.911816 ... 34.082413 34.140778 34.183693]]]\n",
      "all_quantiles after squeezing shape: (90, 50)\n",
      "Error with cow SE-5c06d92d-2950, lactation 2: too many values to unpack (expected 2)\n"
     ]
    },
    {
     "name": "stderr",
     "output_type": "stream",
     "text": [
      "/Users/user/anaconda3/envs/GIGACOW/lib/python3.11/site-packages/torch/optim/lr_scheduler.py:60: UserWarning: The verbose parameter is deprecated. Please use get_last_lr() to access the learning rate.\n",
      "  warnings.warn(\n",
      " 16%|█▌        | 366/2315 [02:18<14:21,  2.26 Segments/s]"
     ]
    },
    {
     "name": "stdout",
     "output_type": "stream",
     "text": [
      "all_quantiles shape: (273, 1, 50)\n",
      "all_quantiles content: [[[24.981808 24.981808 34.165653 ... 56.0812   57.07798  57.474323]]\n",
      "\n",
      " [[24.981808 24.981808 34.165653 ... 56.0812   57.07798  57.474323]]\n",
      "\n",
      " [[24.00012  24.00012  34.21311  ... 58.634563 59.769436 60.21213 ]]\n",
      "\n",
      " ...\n",
      "\n",
      " [[32.802643 32.802643 33.787464 ... 35.739708 35.635567 35.66303 ]]\n",
      "\n",
      " [[32.802643 32.802643 33.787464 ... 35.739708 35.635567 35.66303 ]]\n",
      "\n",
      " [[32.802643 32.802643 33.787464 ... 35.739708 35.635567 35.66303 ]]]\n",
      "all_quantiles after squeezing shape: (273, 50)\n",
      "Error with cow SE-5c06d92d-2950, lactation 3: too many values to unpack (expected 2)\n"
     ]
    },
    {
     "name": "stderr",
     "output_type": "stream",
     "text": [
      "/Users/user/anaconda3/envs/GIGACOW/lib/python3.11/site-packages/torch/optim/lr_scheduler.py:60: UserWarning: The verbose parameter is deprecated. Please use get_last_lr() to access the learning rate.\n",
      "  warnings.warn(\n",
      " 16%|█▌        | 367/2315 [02:18<16:20,  1.99 Segments/s]"
     ]
    },
    {
     "name": "stdout",
     "output_type": "stream",
     "text": [
      "all_quantiles shape: (200, 1, 50)\n",
      "all_quantiles content: [[[28.316772 28.316772 30.315052 ... 54.139137 54.474068 54.780766]]\n",
      "\n",
      " [[28.316772 28.316772 30.315052 ... 54.139137 54.474068 54.780766]]\n",
      "\n",
      " [[28.316772 28.316772 30.315052 ... 54.139137 54.474068 54.780766]]\n",
      "\n",
      " ...\n",
      "\n",
      " [[22.722828 22.722828 22.708044 ... 36.693954 36.83853  37.119865]]\n",
      "\n",
      " [[22.67735  22.67735  22.646212 ... 36.552048 36.6951   36.976433]]\n",
      "\n",
      " [[22.63186  22.63186  22.584366 ... 36.41033  36.551857 36.83262 ]]]\n",
      "all_quantiles after squeezing shape: (200, 50)\n",
      "Error with cow SE-5c06d92d-2950, lactation 4: too many values to unpack (expected 2)\n"
     ]
    },
    {
     "name": "stderr",
     "output_type": "stream",
     "text": [
      "/Users/user/anaconda3/envs/GIGACOW/lib/python3.11/site-packages/torch/optim/lr_scheduler.py:60: UserWarning: The verbose parameter is deprecated. Please use get_last_lr() to access the learning rate.\n",
      "  warnings.warn(\n",
      " 16%|█▌        | 368/2315 [02:19<16:30,  1.97 Segments/s]"
     ]
    },
    {
     "name": "stdout",
     "output_type": "stream",
     "text": [
      "all_quantiles shape: (246, 1, 50)\n",
      "all_quantiles content: [[[45.4537   45.4537   46.960415 ... 57.504654 57.839966 58.02574 ]]\n",
      "\n",
      " [[45.32901  45.32901  46.840523 ... 57.395363 57.733536 57.932087]]\n",
      "\n",
      " [[45.204334 45.204334 46.720623 ... 57.28588  57.62691  57.83882 ]]\n",
      "\n",
      " ...\n",
      "\n",
      " [[12.662315 12.662315 15.427755 ... 28.741646 29.836082 33.434772]]\n",
      "\n",
      " [[12.662315 12.662315 15.427755 ... 28.741646 29.836082 33.434772]]\n",
      "\n",
      " [[12.662315 12.662315 15.427755 ... 28.741646 29.836082 33.434772]]]\n",
      "all_quantiles after squeezing shape: (246, 50)\n",
      "Error with cow SE-5c06d92d-2954, lactation 2: too many values to unpack (expected 2)\n"
     ]
    },
    {
     "name": "stderr",
     "output_type": "stream",
     "text": [
      "/Users/user/anaconda3/envs/GIGACOW/lib/python3.11/site-packages/torch/optim/lr_scheduler.py:60: UserWarning: The verbose parameter is deprecated. Please use get_last_lr() to access the learning rate.\n",
      "  warnings.warn(\n",
      " 16%|█▌        | 369/2315 [02:19<16:57,  1.91 Segments/s]"
     ]
    },
    {
     "name": "stdout",
     "output_type": "stream",
     "text": [
      "all_quantiles shape: (343, 1, 50)\n",
      "all_quantiles content: [[[35.256744 35.256744 44.082188 ... 72.06802  72.37282  72.42355 ]]\n",
      "\n",
      " [[35.256744 35.256744 44.082188 ... 72.06802  72.37282  72.42355 ]]\n",
      "\n",
      " [[35.2044   35.2044   44.015095 ... 71.964455 72.26982  72.32361 ]]\n",
      "\n",
      " ...\n",
      "\n",
      " [[17.50977  17.50977  21.345043 ... 36.952305 37.40959  38.591385]]\n",
      "\n",
      " [[17.50977  17.50977  21.345043 ... 36.952305 37.40959  38.591385]]\n",
      "\n",
      " [[17.50977  17.50977  21.345043 ... 36.952305 37.40959  38.591385]]]\n",
      "all_quantiles after squeezing shape: (343, 50)\n",
      "Error with cow SE-5c06d92d-2954, lactation 3: too many values to unpack (expected 2)\n"
     ]
    },
    {
     "name": "stderr",
     "output_type": "stream",
     "text": [
      "/Users/user/anaconda3/envs/GIGACOW/lib/python3.11/site-packages/torch/optim/lr_scheduler.py:60: UserWarning: The verbose parameter is deprecated. Please use get_last_lr() to access the learning rate.\n",
      "  warnings.warn(\n",
      " 16%|█▌        | 370/2315 [02:20<16:04,  2.02 Segments/s]"
     ]
    },
    {
     "name": "stdout",
     "output_type": "stream",
     "text": [
      "all_quantiles shape: (174, 1, 50)\n",
      "all_quantiles content: [[[34.543793 34.543793 34.77595  ... 41.326904 41.71295  42.06867 ]]\n",
      "\n",
      " [[34.47324  34.47324  34.707092 ... 41.259575 41.64257  41.996002]]\n",
      "\n",
      " [[34.402687 34.402687 34.638245 ... 41.19186  41.572376 41.923332]]\n",
      "\n",
      " ...\n",
      "\n",
      " [[22.479284 22.479284 23.001516 ... 29.76675  29.68483  29.658794]]\n",
      "\n",
      " [[22.408737 22.408737 22.932648 ... 29.69904  29.614542 29.586218]]\n",
      "\n",
      " [[22.408737 22.408737 22.932648 ... 29.69904  29.614542 29.586218]]]\n",
      "all_quantiles after squeezing shape: (174, 50)\n",
      "Error with cow SE-5c06d92d-2955, lactation 2: too many values to unpack (expected 2)\n"
     ]
    },
    {
     "name": "stderr",
     "output_type": "stream",
     "text": [
      "/Users/user/anaconda3/envs/GIGACOW/lib/python3.11/site-packages/torch/optim/lr_scheduler.py:60: UserWarning: The verbose parameter is deprecated. Please use get_last_lr() to access the learning rate.\n",
      "  warnings.warn(\n",
      " 16%|█▌        | 371/2315 [02:20<15:29,  2.09 Segments/s]"
     ]
    },
    {
     "name": "stdout",
     "output_type": "stream",
     "text": [
      "all_quantiles shape: (273, 1, 50)\n",
      "all_quantiles content: [[[15.790522 15.790522 24.694311 ... 53.58658  53.349113 53.277588]]\n",
      "\n",
      " [[15.326285 15.326285 24.574577 ... 54.42371  54.15001  54.05979 ]]\n",
      "\n",
      " [[15.790522 15.790522 24.694311 ... 53.58658  53.349113 53.277588]]\n",
      "\n",
      " ...\n",
      "\n",
      " [[26.76333  26.76333  27.52459  ... 33.801937 34.41763  34.788895]]\n",
      "\n",
      " [[26.76333  26.76333  27.52459  ... 33.801937 34.41763  34.788895]]\n",
      "\n",
      " [[26.76333  26.76333  27.52459  ... 33.801937 34.41763  34.788895]]]\n",
      "all_quantiles after squeezing shape: (273, 50)\n",
      "Error with cow SE-5c06d92d-2955, lactation 3: too many values to unpack (expected 2)\n"
     ]
    },
    {
     "name": "stderr",
     "output_type": "stream",
     "text": [
      "/Users/user/anaconda3/envs/GIGACOW/lib/python3.11/site-packages/torch/optim/lr_scheduler.py:60: UserWarning: The verbose parameter is deprecated. Please use get_last_lr() to access the learning rate.\n",
      "  warnings.warn(\n",
      " 16%|█▌        | 372/2315 [02:21<14:15,  2.27 Segments/s]"
     ]
    },
    {
     "name": "stdout",
     "output_type": "stream",
     "text": [
      "all_quantiles shape: (118, 1, 50)\n",
      "all_quantiles content: [[[26.009212 26.009212 27.673994 ... 51.249123 51.299664 51.27926 ]]\n",
      "\n",
      " [[26.009212 26.009212 27.673994 ... 51.249123 51.299664 51.27926 ]]\n",
      "\n",
      " [[26.092339 26.092339 27.745295 ... 51.197243 51.249123 51.230812]]\n",
      "\n",
      " ...\n",
      "\n",
      " [[35.568573 35.568573 35.87259  ... 45.284653 45.469666 45.718765]]\n",
      "\n",
      " [[35.651707 35.651707 35.943863 ... 45.232582 45.41893  45.67051 ]]\n",
      "\n",
      " [[35.734833 35.734833 36.015163 ... 45.180893 45.36819  45.622063]]]\n",
      "all_quantiles after squeezing shape: (118, 50)\n",
      "Error with cow SE-5c06d92d-2955, lactation 4: too many values to unpack (expected 2)\n"
     ]
    },
    {
     "name": "stderr",
     "output_type": "stream",
     "text": [
      "/Users/user/anaconda3/envs/GIGACOW/lib/python3.11/site-packages/torch/optim/lr_scheduler.py:60: UserWarning: The verbose parameter is deprecated. Please use get_last_lr() to access the learning rate.\n",
      "  warnings.warn(\n",
      " 16%|█▌        | 373/2315 [02:21<14:25,  2.24 Segments/s]"
     ]
    },
    {
     "name": "stdout",
     "output_type": "stream",
     "text": [
      "all_quantiles shape: (111, 1, 50)\n",
      "all_quantiles content: [[[39.777565 39.777565 39.941166 ... 43.618008 43.674088 43.738365]]\n",
      "\n",
      " [[39.71207  39.71207  39.87445  ... 43.57338  43.629265 43.69335 ]]\n",
      "\n",
      " [[39.646564 39.646564 39.807735 ... 43.528557 43.58444  43.64834 ]]\n",
      "\n",
      " ...\n",
      "\n",
      " [[32.703526 32.703526 32.73648  ... 38.789368 38.83953  38.86757 ]]\n",
      "\n",
      " [[32.63803  32.63803  32.669758 ... 38.744926 38.794518 38.822365]]\n",
      "\n",
      " [[32.572525 32.572525 32.60305  ... 38.700294 38.749886 38.77716 ]]]\n",
      "all_quantiles after squeezing shape: (111, 50)\n",
      "Error with cow SE-5c06d92d-2963, lactation 2: too many values to unpack (expected 2)\n"
     ]
    },
    {
     "name": "stderr",
     "output_type": "stream",
     "text": [
      "/Users/user/anaconda3/envs/GIGACOW/lib/python3.11/site-packages/torch/optim/lr_scheduler.py:60: UserWarning: The verbose parameter is deprecated. Please use get_last_lr() to access the learning rate.\n",
      "  warnings.warn(\n",
      " 16%|█▌        | 374/2315 [02:22<15:41,  2.06 Segments/s]"
     ]
    },
    {
     "name": "stdout",
     "output_type": "stream",
     "text": [
      "all_quantiles shape: (388, 1, 50)\n",
      "all_quantiles content: [[[23.27777  23.27777  25.30701  ... 43.266678 43.45913  43.629456]]\n",
      "\n",
      " [[23.180687 23.180687 25.263762 ... 43.675037 43.871304 44.043156]]\n",
      "\n",
      " [[23.189508 23.189508 25.267696 ... 43.637844 43.833923 44.005585]]\n",
      "\n",
      " ...\n",
      "\n",
      " [[26.331675 26.331675 26.667297 ... 30.420113 30.493355 30.613897]]\n",
      "\n",
      " [[26.331675 26.331675 26.667297 ... 30.420113 30.493355 30.613897]]\n",
      "\n",
      " [[26.331675 26.331675 26.667297 ... 30.420113 30.493355 30.613897]]]\n",
      "all_quantiles after squeezing shape: (388, 50)\n",
      "Error with cow SE-5c06d92d-2963, lactation 3: too many values to unpack (expected 2)\n"
     ]
    },
    {
     "name": "stderr",
     "output_type": "stream",
     "text": [
      "/Users/user/anaconda3/envs/GIGACOW/lib/python3.11/site-packages/torch/optim/lr_scheduler.py:60: UserWarning: The verbose parameter is deprecated. Please use get_last_lr() to access the learning rate.\n",
      "  warnings.warn(\n",
      " 16%|█▌        | 375/2315 [02:22<14:58,  2.16 Segments/s]"
     ]
    },
    {
     "name": "stdout",
     "output_type": "stream",
     "text": [
      "all_quantiles shape: (140, 1, 50)\n",
      "all_quantiles content: [[[27.705448 27.705448 29.707336 ... 36.419296 36.409187 36.406326]]\n",
      "\n",
      " [[27.602236 27.602236 29.600573 ... 36.396217 36.388016 36.385727]]\n",
      "\n",
      " [[27.499039 27.499039 29.493809 ... 36.37333  36.366463 36.36532 ]]\n",
      "\n",
      " ...\n",
      "\n",
      " [[13.566756 13.566756 15.081477 ... 33.271885 33.482075 33.60691 ]]\n",
      "\n",
      " [[13.566756 13.566756 15.081477 ... 33.271885 33.482075 33.60691 ]]\n",
      "\n",
      " [[13.566756 13.566756 15.081477 ... 33.271885 33.482075 33.60691 ]]]\n",
      "all_quantiles after squeezing shape: (140, 50)\n",
      "Error with cow SE-5c06d92d-2964, lactation 2: too many values to unpack (expected 2)\n"
     ]
    },
    {
     "name": "stderr",
     "output_type": "stream",
     "text": [
      "/Users/user/anaconda3/envs/GIGACOW/lib/python3.11/site-packages/torch/optim/lr_scheduler.py:60: UserWarning: The verbose parameter is deprecated. Please use get_last_lr() to access the learning rate.\n",
      "  warnings.warn(\n",
      " 16%|█▌        | 376/2315 [02:23<14:36,  2.21 Segments/s]"
     ]
    },
    {
     "name": "stdout",
     "output_type": "stream",
     "text": [
      "all_quantiles shape: (259, 1, 50)\n",
      "all_quantiles content: [[[43.63997  43.63997  44.742847 ... 50.43831  50.52814  50.57621 ]]\n",
      "\n",
      " [[43.56161  43.56161  44.661983 ... 50.372314 50.462723 50.512314]]\n",
      "\n",
      " [[43.48327  43.48327  44.58114  ... 50.30613  50.3973   50.44861 ]]\n",
      "\n",
      " ...\n",
      "\n",
      " [[23.5824   23.5824   24.045073 ... 33.503056 33.78582  34.23443 ]]\n",
      "\n",
      " [[23.5824   23.5824   24.045073 ... 33.503056 33.78582  34.23443 ]]\n",
      "\n",
      " [[23.5824   23.5824   24.045073 ... 33.503056 33.78582  34.23443 ]]]\n",
      "all_quantiles after squeezing shape: (259, 50)\n",
      "Error with cow SE-5c06d92d-2966, lactation 2: too many values to unpack (expected 2)\n"
     ]
    },
    {
     "name": "stderr",
     "output_type": "stream",
     "text": [
      "/Users/user/anaconda3/envs/GIGACOW/lib/python3.11/site-packages/torch/optim/lr_scheduler.py:60: UserWarning: The verbose parameter is deprecated. Please use get_last_lr() to access the learning rate.\n",
      "  warnings.warn(\n",
      " 16%|█▋        | 377/2315 [02:23<13:54,  2.32 Segments/s]"
     ]
    },
    {
     "name": "stdout",
     "output_type": "stream",
     "text": [
      "all_quantiles shape: (236, 1, 50)\n",
      "all_quantiles content: [[[14.577508 14.577508 19.275331 ... 59.132195 61.153603 64.03408 ]]\n",
      "\n",
      " [[14.259529 14.259529 19.011307 ... 59.45301  61.517143 64.45732 ]]\n",
      "\n",
      " [[14.577508 14.577508 19.275331 ... 59.132195 61.153603 64.03408 ]]\n",
      "\n",
      " ...\n",
      "\n",
      " [[30.412495 30.412495 32.42439  ... 43.152237 43.05515  42.954063]]\n",
      "\n",
      " [[30.476105 30.476105 32.47719  ... 43.08815  42.982483 42.869373]]\n",
      "\n",
      " [[30.53969  30.53969  32.529995 ... 43.023872 42.909813 42.78488 ]]]\n",
      "all_quantiles after squeezing shape: (236, 50)\n",
      "Error with cow SE-5c06d92d-2966, lactation 3: too many values to unpack (expected 2)\n"
     ]
    },
    {
     "name": "stderr",
     "output_type": "stream",
     "text": [
      "/Users/user/anaconda3/envs/GIGACOW/lib/python3.11/site-packages/torch/optim/lr_scheduler.py:60: UserWarning: The verbose parameter is deprecated. Please use get_last_lr() to access the learning rate.\n",
      "  warnings.warn(\n",
      " 16%|█▋        | 378/2315 [02:23<13:39,  2.36 Segments/s]"
     ]
    },
    {
     "name": "stdout",
     "output_type": "stream",
     "text": [
      "all_quantiles shape: (379, 1, 50)\n",
      "all_quantiles content: [[[34.059082 34.059082 35.35191  ... 42.17815  42.6857   43.29586 ]]\n",
      "\n",
      " [[34.018276 34.018276 35.305714 ... 42.125698 42.631527 43.239784]]\n",
      "\n",
      " [[33.97746  33.97746  35.25952  ... 42.073437 42.57717  43.18371 ]]\n",
      "\n",
      " ...\n",
      "\n",
      " [[26.428478 26.428478 26.712835 ... 32.37858  32.547283 32.803345]]\n",
      "\n",
      " [[26.428478 26.428478 26.712835 ... 32.37858  32.547283 32.803345]]\n",
      "\n",
      " [[26.428478 26.428478 26.712835 ... 32.37858  32.547283 32.803345]]]\n",
      "all_quantiles after squeezing shape: (379, 50)\n",
      "Error with cow SE-5c06d92d-2971, lactation 2: too many values to unpack (expected 2)\n"
     ]
    },
    {
     "name": "stderr",
     "output_type": "stream",
     "text": [
      "/Users/user/anaconda3/envs/GIGACOW/lib/python3.11/site-packages/torch/optim/lr_scheduler.py:60: UserWarning: The verbose parameter is deprecated. Please use get_last_lr() to access the learning rate.\n",
      "  warnings.warn(\n",
      " 16%|█▋        | 379/2315 [02:24<13:08,  2.46 Segments/s]"
     ]
    },
    {
     "name": "stdout",
     "output_type": "stream",
     "text": [
      "all_quantiles shape: (124, 1, 50)\n",
      "all_quantiles content: [[[34.124523 34.124523 34.44177  ... 40.425873 40.432735 40.42473 ]]\n",
      "\n",
      " [[34.132156 34.132156 34.449646 ... 40.431976 40.439796 40.433117]]\n",
      "\n",
      " [[34.139797 34.139797 34.457527 ... 40.437885 40.44704  40.441513]]\n",
      "\n",
      " ...\n",
      "\n",
      " [[35.04912  35.04912  35.39469  ... 41.155243 41.29753  41.447067]]\n",
      "\n",
      " [[35.056774 35.056774 35.40256  ... 41.161346 41.30459  41.45546 ]]\n",
      "\n",
      " [[35.064415 35.064415 35.41044  ... 41.167255 41.311836 41.464043]]]\n",
      "all_quantiles after squeezing shape: (124, 50)\n",
      "Error with cow SE-5c06d92d-2982, lactation 2: too many values to unpack (expected 2)\n"
     ]
    },
    {
     "name": "stderr",
     "output_type": "stream",
     "text": [
      "/Users/user/anaconda3/envs/GIGACOW/lib/python3.11/site-packages/torch/optim/lr_scheduler.py:60: UserWarning: The verbose parameter is deprecated. Please use get_last_lr() to access the learning rate.\n",
      "  warnings.warn(\n",
      " 16%|█▋        | 380/2315 [02:24<12:53,  2.50 Segments/s]"
     ]
    },
    {
     "name": "stdout",
     "output_type": "stream",
     "text": [
      "all_quantiles shape: (269, 1, 50)\n",
      "all_quantiles content: [[[15.696478 15.696478 16.914248 ... 49.170876 49.49436  49.83196 ]]\n",
      "\n",
      " [[15.58125  15.58125  16.692995 ... 49.340816 49.668312 50.00992 ]]\n",
      "\n",
      " [[15.696478 15.696478 16.914248 ... 49.170876 49.49436  49.83196 ]]\n",
      "\n",
      " ...\n",
      "\n",
      " [[23.790884 23.790884 32.45765  ... 37.21943  37.2715   37.335205]]\n",
      "\n",
      " [[23.790884 23.790884 32.45765  ... 37.21943  37.2715   37.335205]]\n",
      "\n",
      " [[23.790884 23.790884 32.45765  ... 37.21943  37.2715   37.335205]]]\n",
      "all_quantiles after squeezing shape: (269, 50)\n",
      "Error with cow SE-5c06d92d-2982, lactation 3: too many values to unpack (expected 2)\n"
     ]
    },
    {
     "name": "stderr",
     "output_type": "stream",
     "text": [
      "/Users/user/anaconda3/envs/GIGACOW/lib/python3.11/site-packages/torch/optim/lr_scheduler.py:60: UserWarning: The verbose parameter is deprecated. Please use get_last_lr() to access the learning rate.\n",
      "  warnings.warn(\n",
      " 16%|█▋        | 381/2315 [02:25<12:55,  2.49 Segments/s]"
     ]
    },
    {
     "name": "stdout",
     "output_type": "stream",
     "text": [
      "all_quantiles shape: (151, 1, 50)\n",
      "all_quantiles content: [[[41.361782 41.361782 41.927216 ... 49.244686 49.335285 49.41845 ]]\n",
      "\n",
      " [[41.31658  41.31658  41.879772 ... 49.194527 49.284935 49.367714]]\n",
      "\n",
      " [[41.27139  41.27139  41.832314 ... 49.14455  49.23439  49.316975]]\n",
      "\n",
      " ...\n",
      "\n",
      " [[34.627663 34.627663 34.857105 ... 41.781994 41.817284 41.856194]]\n",
      "\n",
      " [[34.58247  34.58247  34.809647 ... 41.731834 41.76693  41.805458]]\n",
      "\n",
      " [[34.537266 34.537266 34.762215 ... 41.681858 41.71638  41.754723]]]\n",
      "all_quantiles after squeezing shape: (151, 50)\n",
      "Error with cow SE-5c06d92d-2984, lactation 2: too many values to unpack (expected 2)\n"
     ]
    },
    {
     "name": "stderr",
     "output_type": "stream",
     "text": [
      "/Users/user/anaconda3/envs/GIGACOW/lib/python3.11/site-packages/torch/optim/lr_scheduler.py:60: UserWarning: The verbose parameter is deprecated. Please use get_last_lr() to access the learning rate.\n",
      "  warnings.warn(\n",
      " 17%|█▋        | 382/2315 [02:25<12:52,  2.50 Segments/s]"
     ]
    },
    {
     "name": "stdout",
     "output_type": "stream",
     "text": [
      "all_quantiles shape: (287, 1, 50)\n",
      "all_quantiles content: [[[28.053009 28.053009 32.65611  ... 54.859543 55.501743 56.05316 ]]\n",
      "\n",
      " [[27.207422 27.207422 32.10282  ... 55.664444 56.3509   56.92978 ]]\n",
      "\n",
      " [[27.249704 27.249704 32.130493 ... 55.624195 56.308556 56.88572 ]]\n",
      "\n",
      " ...\n",
      "\n",
      " [[39.341686 39.341686 40.042126 ... 44.113728 44.163322 44.35196 ]]\n",
      "\n",
      " [[39.341686 39.341686 40.042126 ... 44.113728 44.163322 44.35196 ]]\n",
      "\n",
      " [[39.341686 39.341686 40.042126 ... 44.113728 44.163322 44.35196 ]]]\n",
      "all_quantiles after squeezing shape: (287, 50)\n",
      "Error with cow SE-5c06d92d-2984, lactation 3: too many values to unpack (expected 2)\n"
     ]
    },
    {
     "name": "stderr",
     "output_type": "stream",
     "text": [
      "/Users/user/anaconda3/envs/GIGACOW/lib/python3.11/site-packages/torch/optim/lr_scheduler.py:60: UserWarning: The verbose parameter is deprecated. Please use get_last_lr() to access the learning rate.\n",
      "  warnings.warn(\n",
      " 17%|█▋        | 383/2315 [02:25<12:15,  2.63 Segments/s]"
     ]
    },
    {
     "name": "stdout",
     "output_type": "stream",
     "text": [
      "all_quantiles shape: (76, 1, 50)\n",
      "all_quantiles content: [[[27.049517 27.049517 27.853346 ... 62.992283 62.869644 62.010956]]\n",
      "\n",
      " [[27.049517 27.049517 27.853346 ... 62.992283 62.869644 62.010956]]\n",
      "\n",
      " [[27.167679 27.167679 28.061771 ... 62.867924 62.756157 61.930084]]\n",
      "\n",
      " ...\n",
      "\n",
      " [[35.557793 35.557793 42.8591   ... 54.022594 54.70352  56.189728]]\n",
      "\n",
      " [[35.67597  35.67597  43.067528 ... 53.89805  54.59003  56.108856]]\n",
      "\n",
      " [[35.794136 35.794136 43.27594  ... 53.7735   54.476738 56.027985]]]\n",
      "all_quantiles after squeezing shape: (76, 50)\n",
      "Error with cow SE-5c06d92d-2984, lactation 4: too many values to unpack (expected 2)\n"
     ]
    },
    {
     "name": "stderr",
     "output_type": "stream",
     "text": [
      "/Users/user/anaconda3/envs/GIGACOW/lib/python3.11/site-packages/torch/optim/lr_scheduler.py:60: UserWarning: The verbose parameter is deprecated. Please use get_last_lr() to access the learning rate.\n",
      "  warnings.warn(\n",
      " 17%|█▋        | 384/2315 [02:26<11:47,  2.73 Segments/s]"
     ]
    },
    {
     "name": "stdout",
     "output_type": "stream",
     "text": [
      "all_quantiles shape: (123, 1, 50)\n",
      "all_quantiles content: [[[37.03934  37.03934  37.35393  ... 41.71257  41.88709  42.140385]]\n",
      "\n",
      " [[36.997097 36.997097 37.313343 ... 41.67766  41.851997 42.103386]]\n",
      "\n",
      " [[36.95485  36.95485  37.27275  ... 41.64276  41.816902 42.066574]]\n",
      "\n",
      " ...\n",
      "\n",
      " [[31.927824 31.927824 32.442726 ... 37.488174 37.63523  37.67357 ]]\n",
      "\n",
      " [[31.885582 31.885582 32.402134 ... 37.45327  37.600136 37.636757]]\n",
      "\n",
      " [[31.843327 31.843327 32.36154  ... 37.418365 37.56504  37.599754]]]\n",
      "all_quantiles after squeezing shape: (123, 50)\n",
      "Error with cow SE-5c06d92d-2987, lactation 2: too many values to unpack (expected 2)\n"
     ]
    },
    {
     "name": "stderr",
     "output_type": "stream",
     "text": [
      "/Users/user/anaconda3/envs/GIGACOW/lib/python3.11/site-packages/torch/optim/lr_scheduler.py:60: UserWarning: The verbose parameter is deprecated. Please use get_last_lr() to access the learning rate.\n",
      "  warnings.warn(\n",
      " 17%|█▋        | 385/2315 [02:26<11:59,  2.68 Segments/s]"
     ]
    },
    {
     "name": "stdout",
     "output_type": "stream",
     "text": [
      "all_quantiles shape: (295, 1, 50)\n",
      "all_quantiles content: [[[31.315243 31.315243 34.529972 ... 53.11413  53.51906  53.989407]]\n",
      "\n",
      " [[31.319784 31.319784 34.52511  ... 53.05786  53.46203  53.931427]]\n",
      "\n",
      " [[31.324327 31.324327 34.520256 ... 53.001595 53.404808 53.873634]]\n",
      "\n",
      " ...\n",
      "\n",
      " [[32.644913 32.644913 33.10851  ... 36.605263 36.794662 37.036705]]\n",
      "\n",
      " [[32.649456 32.649456 33.103657 ... 36.548805 36.737823 36.978912]]\n",
      "\n",
      " [[32.66307  32.66307  33.0891   ... 36.379814 36.566544 36.805344]]]\n",
      "all_quantiles after squeezing shape: (295, 50)\n",
      "Error with cow SE-5c06d92d-2987, lactation 3: too many values to unpack (expected 2)\n"
     ]
    },
    {
     "name": "stderr",
     "output_type": "stream",
     "text": [
      "/Users/user/anaconda3/envs/GIGACOW/lib/python3.11/site-packages/torch/optim/lr_scheduler.py:60: UserWarning: The verbose parameter is deprecated. Please use get_last_lr() to access the learning rate.\n",
      "  warnings.warn(\n",
      " 17%|█▋        | 386/2315 [02:26<11:48,  2.72 Segments/s]"
     ]
    },
    {
     "name": "stdout",
     "output_type": "stream",
     "text": [
      "all_quantiles shape: (133, 1, 50)\n",
      "all_quantiles content: [[[20.218252 20.218252 23.28112  ... 56.575394 58.117104 61.397552]]\n",
      "\n",
      " [[20.218252 20.218252 23.28112  ... 56.575394 58.117104 61.397552]]\n",
      "\n",
      " [[20.218252 20.218252 23.28112  ... 56.575394 58.117104 61.397552]]\n",
      "\n",
      " ...\n",
      "\n",
      " [[41.669937 41.669937 42.884468 ... 49.284172 48.59314  46.82007 ]]\n",
      "\n",
      " [[41.84434  41.84434  43.043823 ... 49.225044 48.515507 46.701622]]\n",
      "\n",
      " [[42.018745 42.018745 43.20322  ... 49.165726 48.438263 46.582985]]]\n",
      "all_quantiles after squeezing shape: (133, 50)\n",
      "Error with cow SE-5c06d92d-2987, lactation 4: too many values to unpack (expected 2)\n"
     ]
    },
    {
     "name": "stderr",
     "output_type": "stream",
     "text": [
      "/Users/user/anaconda3/envs/GIGACOW/lib/python3.11/site-packages/torch/optim/lr_scheduler.py:60: UserWarning: The verbose parameter is deprecated. Please use get_last_lr() to access the learning rate.\n",
      "  warnings.warn(\n",
      " 17%|█▋        | 387/2315 [02:27<11:53,  2.70 Segments/s]"
     ]
    },
    {
     "name": "stdout",
     "output_type": "stream",
     "text": [
      "all_quantiles shape: (239, 1, 50)\n",
      "all_quantiles content: [[[35.59157  35.59157  37.01633  ... 47.105408 47.10941  47.125244]]\n",
      "\n",
      " [[35.51709  35.51709  36.95036  ... 47.048187 47.053146 47.07031 ]]\n",
      "\n",
      " [[35.44262  35.44262  36.88438  ... 46.990776 46.99688  47.01557 ]]\n",
      "\n",
      " ...\n",
      "\n",
      " [[18.83452  18.83452  22.172045 ... 34.224224 34.461594 34.763622]]\n",
      "\n",
      " [[18.83452  18.83452  22.172045 ... 34.224224 34.461594 34.763622]]\n",
      "\n",
      " [[18.83452  18.83452  22.172045 ... 34.224224 34.461594 34.763622]]]\n",
      "all_quantiles after squeezing shape: (239, 50)\n",
      "Error with cow SE-5c06d92d-2990, lactation 2: too many values to unpack (expected 2)\n"
     ]
    },
    {
     "name": "stderr",
     "output_type": "stream",
     "text": [
      "/Users/user/anaconda3/envs/GIGACOW/lib/python3.11/site-packages/torch/optim/lr_scheduler.py:60: UserWarning: The verbose parameter is deprecated. Please use get_last_lr() to access the learning rate.\n",
      "  warnings.warn(\n",
      " 17%|█▋        | 388/2315 [02:27<11:49,  2.72 Segments/s]"
     ]
    },
    {
     "name": "stdout",
     "output_type": "stream",
     "text": [
      "all_quantiles shape: (173, 1, 50)\n",
      "all_quantiles content: [[[20.18435  20.18435  26.972294 ... 52.799034 53.069683 53.141975]]\n",
      "\n",
      " [[19.4888   19.4888   26.385498 ... 53.878975 54.16145  54.15001 ]]\n",
      "\n",
      " [[19.671833 19.671833 26.53992  ... 53.59478  53.874207 53.884693]]\n",
      "\n",
      " ...\n",
      "\n",
      " [[28.640663 28.640663 34.106693 ... 39.669605 39.79664  40.88745 ]]\n",
      "\n",
      " [[28.640663 28.640663 34.106693 ... 39.669605 39.79664  40.88745 ]]\n",
      "\n",
      " [[28.640663 28.640663 34.106693 ... 39.669605 39.79664  40.88745 ]]]\n",
      "all_quantiles after squeezing shape: (173, 50)\n",
      "Error with cow SE-5c06d92d-2990, lactation 3: too many values to unpack (expected 2)\n"
     ]
    },
    {
     "name": "stderr",
     "output_type": "stream",
     "text": [
      "/Users/user/anaconda3/envs/GIGACOW/lib/python3.11/site-packages/torch/optim/lr_scheduler.py:60: UserWarning: The verbose parameter is deprecated. Please use get_last_lr() to access the learning rate.\n",
      "  warnings.warn(\n",
      " 17%|█▋        | 389/2315 [02:27<11:59,  2.68 Segments/s]"
     ]
    },
    {
     "name": "stdout",
     "output_type": "stream",
     "text": [
      "all_quantiles shape: (281, 1, 50)\n",
      "all_quantiles content: [[[33.71937  33.71937  36.604282 ... 54.70428  55.13668  55.649563]]\n",
      "\n",
      " [[33.77247  33.77247  36.664986 ... 54.813385 55.246353 55.760002]]\n",
      "\n",
      " [[33.71937  33.71937  36.604282 ... 54.70428  55.13668  55.649563]]\n",
      "\n",
      " ...\n",
      "\n",
      " [[18.375921 18.375921 19.060694 ... 23.188877 23.423193 23.74897 ]]\n",
      "\n",
      " [[18.322813 18.322813 19.000006 ... 23.07987  23.31333  23.63863 ]]\n",
      "\n",
      " [[18.269724 18.269724 18.939293 ... 22.970676 23.203753 23.528097]]]\n",
      "all_quantiles after squeezing shape: (281, 50)\n",
      "Error with cow SE-5c06d92d-2991, lactation 2: too many values to unpack (expected 2)\n"
     ]
    },
    {
     "name": "stderr",
     "output_type": "stream",
     "text": [
      "/Users/user/anaconda3/envs/GIGACOW/lib/python3.11/site-packages/torch/optim/lr_scheduler.py:60: UserWarning: The verbose parameter is deprecated. Please use get_last_lr() to access the learning rate.\n",
      "  warnings.warn(\n",
      " 17%|█▋        | 390/2315 [02:28<11:40,  2.75 Segments/s]"
     ]
    },
    {
     "name": "stdout",
     "output_type": "stream",
     "text": [
      "all_quantiles shape: (125, 1, 50)\n",
      "all_quantiles content: [[[35.963806 35.963806 35.942566 ... 38.194656 38.31024  38.391685]]\n",
      "\n",
      " [[35.925705 35.925705 35.906696 ... 38.183594 38.298035 38.379288]]\n",
      "\n",
      " [[35.8876   35.8876   35.87081  ... 38.17215  38.28602  38.36689 ]]\n",
      "\n",
      " ...\n",
      "\n",
      " [[31.315619 31.315619 31.56545  ... 36.823845 36.84368  36.87439 ]]\n",
      "\n",
      " [[31.277512 31.277512 31.529581 ... 36.81259  36.831856 36.8618  ]]\n",
      "\n",
      " [[31.277512 31.277512 31.529581 ... 36.81259  36.831856 36.8618  ]]]\n",
      "all_quantiles after squeezing shape: (125, 50)\n",
      "Error with cow SE-5c06d92d-2993, lactation 2: too many values to unpack (expected 2)\n"
     ]
    },
    {
     "name": "stderr",
     "output_type": "stream",
     "text": [
      "/Users/user/anaconda3/envs/GIGACOW/lib/python3.11/site-packages/torch/optim/lr_scheduler.py:60: UserWarning: The verbose parameter is deprecated. Please use get_last_lr() to access the learning rate.\n",
      "  warnings.warn(\n",
      " 17%|█▋        | 391/2315 [02:28<12:11,  2.63 Segments/s]"
     ]
    },
    {
     "name": "stdout",
     "output_type": "stream",
     "text": [
      "all_quantiles shape: (289, 1, 50)\n",
      "all_quantiles content: [[[28.595398 28.595398 32.50186  ... 47.45121  47.626495 47.781178]]\n",
      "\n",
      " [[28.448055 28.448055 32.441887 ... 47.730827 47.908974 48.06595 ]]\n",
      "\n",
      " [[28.469109 28.469109 32.450462 ... 47.69096  47.868538 48.025322]]\n",
      "\n",
      " ...\n",
      "\n",
      " [[34.636696 34.636696 34.96079  ... 35.98919  36.04374  36.099625]]\n",
      "\n",
      " [[34.65774  34.65774  34.969353 ... 35.949326 36.003304 36.058804]]\n",
      "\n",
      " [[34.65774  34.65774  34.969353 ... 35.949326 36.003304 36.058804]]]\n",
      "all_quantiles after squeezing shape: (289, 50)\n",
      "Error with cow SE-5c06d92d-2993, lactation 3: too many values to unpack (expected 2)\n"
     ]
    },
    {
     "name": "stderr",
     "output_type": "stream",
     "text": [
      "/Users/user/anaconda3/envs/GIGACOW/lib/python3.11/site-packages/torch/optim/lr_scheduler.py:60: UserWarning: The verbose parameter is deprecated. Please use get_last_lr() to access the learning rate.\n",
      "  warnings.warn(\n",
      " 17%|█▋        | 392/2315 [02:29<11:59,  2.67 Segments/s]"
     ]
    },
    {
     "name": "stdout",
     "output_type": "stream",
     "text": [
      "all_quantiles shape: (147, 1, 50)\n",
      "all_quantiles content: [[[37.440132 37.440132 38.630627 ... 54.849052 54.77314  54.985996]]\n",
      "\n",
      " [[37.440132 37.440132 38.630627 ... 54.849052 54.77314  54.985996]]\n",
      "\n",
      " [[37.440132 37.440132 38.630627 ... 54.849052 54.77314  54.985996]]\n",
      "\n",
      " ...\n",
      "\n",
      " [[44.745125 44.745125 44.94882  ... 52.985382 53.750607 53.91941 ]]\n",
      "\n",
      " [[44.8045   44.8045   45.000195 ... 52.970314 53.742023 53.910828]]\n",
      "\n",
      " [[44.863903 44.863903 45.051537 ... 52.95505  53.733826 53.902245]]]\n",
      "all_quantiles after squeezing shape: (147, 50)\n",
      "Error with cow SE-5c06d92d-2993, lactation 4: too many values to unpack (expected 2)\n"
     ]
    },
    {
     "name": "stderr",
     "output_type": "stream",
     "text": [
      "/Users/user/anaconda3/envs/GIGACOW/lib/python3.11/site-packages/torch/optim/lr_scheduler.py:60: UserWarning: The verbose parameter is deprecated. Please use get_last_lr() to access the learning rate.\n",
      "  warnings.warn(\n",
      " 17%|█▋        | 393/2315 [02:29<11:55,  2.69 Segments/s]"
     ]
    },
    {
     "name": "stdout",
     "output_type": "stream",
     "text": [
      "all_quantiles shape: (208, 1, 50)\n",
      "all_quantiles content: [[[39.93137  39.93137  40.53054  ... 49.54853  49.91798  50.399204]]\n",
      "\n",
      " [[39.875744 39.875744 40.477646 ... 49.49131  49.858856 50.337406]]\n",
      "\n",
      " [[39.82014  39.82014  40.42473  ... 49.43409  49.79992  50.275227]]\n",
      "\n",
      " ...\n",
      "\n",
      " [[28.474365 28.474365 29.632591 ... 37.76703  37.745285 37.644577]]\n",
      "\n",
      " [[28.418766 28.418766 29.579674 ... 37.71     37.686157 37.582397]]\n",
      "\n",
      " [[28.418766 28.418766 29.579674 ... 37.71     37.686157 37.582397]]]\n",
      "all_quantiles after squeezing shape: (208, 50)\n",
      "Error with cow SE-5c06d92d-3007, lactation 2: too many values to unpack (expected 2)\n"
     ]
    },
    {
     "name": "stderr",
     "output_type": "stream",
     "text": [
      "/Users/user/anaconda3/envs/GIGACOW/lib/python3.11/site-packages/torch/optim/lr_scheduler.py:60: UserWarning: The verbose parameter is deprecated. Please use get_last_lr() to access the learning rate.\n",
      "  warnings.warn(\n",
      " 17%|█▋        | 394/2315 [02:29<12:01,  2.66 Segments/s]"
     ]
    },
    {
     "name": "stdout",
     "output_type": "stream",
     "text": [
      "all_quantiles shape: (276, 1, 50)\n",
      "all_quantiles content: [[[31.96292  31.96292  32.411514 ... 40.484997 40.702248 41.071507]]\n",
      "\n",
      " [[31.96292  31.96292  32.411514 ... 40.484997 40.702248 41.071507]]\n",
      "\n",
      " [[31.945694 31.945694 32.391987 ... 40.439606 40.65647  41.023823]]\n",
      "\n",
      " ...\n",
      "\n",
      " [[29.594666 29.594666 29.728127 ... 34.236908 34.39665  34.55887 ]]\n",
      "\n",
      " [[29.594666 29.594666 29.728127 ... 34.236908 34.39665  34.55887 ]]\n",
      "\n",
      " [[29.594666 29.594666 29.728127 ... 34.236908 34.39665  34.55887 ]]]\n",
      "all_quantiles after squeezing shape: (276, 50)\n",
      "Error with cow SE-5c06d92d-3007, lactation 3: too many values to unpack (expected 2)\n"
     ]
    },
    {
     "name": "stderr",
     "output_type": "stream",
     "text": [
      "/Users/user/anaconda3/envs/GIGACOW/lib/python3.11/site-packages/torch/optim/lr_scheduler.py:60: UserWarning: The verbose parameter is deprecated. Please use get_last_lr() to access the learning rate.\n",
      "  warnings.warn(\n",
      " 17%|█▋        | 395/2315 [02:30<11:33,  2.77 Segments/s]"
     ]
    },
    {
     "name": "stdout",
     "output_type": "stream",
     "text": [
      "all_quantiles shape: (78, 1, 50)\n",
      "all_quantiles content: [[[28.4616   28.4616   28.674578 ... 45.036697 45.908165 48.125072]]\n",
      "\n",
      " [[28.4616   28.4616   28.674578 ... 45.036697 45.908165 48.125072]]\n",
      "\n",
      " [[28.704596 28.704596 28.921175 ... 45.269394 46.124077 48.291203]]\n",
      "\n",
      " ...\n",
      "\n",
      " [[46.444157 46.444157 46.9213   ... 62.2591   61.894226 60.41012 ]]\n",
      "\n",
      " [[46.687172 46.687172 47.16787  ... 62.491795 62.110134 60.57625 ]]\n",
      "\n",
      " [[46.930172 46.930172 47.414444 ... 62.72449  62.32624  60.742184]]]\n",
      "all_quantiles after squeezing shape: (78, 50)\n",
      "Error with cow SE-5c06d92d-3007, lactation 4: too many values to unpack (expected 2)\n"
     ]
    },
    {
     "name": "stderr",
     "output_type": "stream",
     "text": [
      "/Users/user/anaconda3/envs/GIGACOW/lib/python3.11/site-packages/torch/optim/lr_scheduler.py:60: UserWarning: The verbose parameter is deprecated. Please use get_last_lr() to access the learning rate.\n",
      "  warnings.warn(\n",
      " 17%|█▋        | 396/2315 [02:30<11:41,  2.73 Segments/s]"
     ]
    },
    {
     "name": "stdout",
     "output_type": "stream",
     "text": [
      "all_quantiles shape: (239, 1, 50)\n",
      "all_quantiles content: [[[21.527838 21.527838 26.411295 ... 46.817966 46.436306 45.973015]]\n",
      "\n",
      " [[21.551191 21.551191 26.41895  ... 46.789547 46.411514 45.95318 ]]\n",
      "\n",
      " [[21.574556 21.574556 26.42659  ... 46.760937 46.386528 45.933533]]\n",
      "\n",
      " ...\n",
      "\n",
      " [[27.672266 27.672266 28.423988 ... 39.297672 39.907646 40.761944]]\n",
      "\n",
      " [[27.672266 27.672266 28.423988 ... 39.297672 39.907646 40.761944]]\n",
      "\n",
      " [[27.672266 27.672266 28.423988 ... 39.297672 39.907646 40.761944]]]\n",
      "all_quantiles after squeezing shape: (239, 50)\n",
      "Error with cow SE-5c06d92d-3008, lactation 2: too many values to unpack (expected 2)\n"
     ]
    },
    {
     "name": "stderr",
     "output_type": "stream",
     "text": [
      "/Users/user/anaconda3/envs/GIGACOW/lib/python3.11/site-packages/torch/optim/lr_scheduler.py:60: UserWarning: The verbose parameter is deprecated. Please use get_last_lr() to access the learning rate.\n",
      "  warnings.warn(\n",
      " 17%|█▋        | 397/2315 [02:30<11:57,  2.67 Segments/s]"
     ]
    },
    {
     "name": "stdout",
     "output_type": "stream",
     "text": [
      "all_quantiles shape: (256, 1, 50)\n",
      "all_quantiles content: [[[30.115091 30.115091 33.97318  ... 55.488205 55.70049  55.86052 ]]\n",
      "\n",
      " [[30.115091 30.115091 33.97318  ... 55.488205 55.70049  55.86052 ]]\n",
      "\n",
      " [[30.10286  30.10286  33.95146  ... 55.45578  55.668446 55.828667]]\n",
      "\n",
      " ...\n",
      "\n",
      " [[26.5432   26.5432   27.633095 ... 46.014214 46.291924 46.601486]]\n",
      "\n",
      " [[26.5432   26.5432   27.633095 ... 46.014214 46.291924 46.601486]]\n",
      "\n",
      " [[26.5432   26.5432   27.633095 ... 46.014214 46.291924 46.601486]]]\n",
      "all_quantiles after squeezing shape: (256, 50)\n",
      "Error with cow SE-5c06d92d-3008, lactation 3: too many values to unpack (expected 2)\n"
     ]
    },
    {
     "name": "stderr",
     "output_type": "stream",
     "text": [
      "/Users/user/anaconda3/envs/GIGACOW/lib/python3.11/site-packages/torch/optim/lr_scheduler.py:60: UserWarning: The verbose parameter is deprecated. Please use get_last_lr() to access the learning rate.\n",
      "  warnings.warn(\n",
      " 17%|█▋        | 398/2315 [02:31<12:23,  2.58 Segments/s]"
     ]
    },
    {
     "name": "stdout",
     "output_type": "stream",
     "text": [
      "all_quantiles shape: (424, 1, 50)\n",
      "all_quantiles content: [[[35.163425 35.163425 45.344402 ... 62.21561  62.431145 62.55436 ]]\n",
      "\n",
      " [[35.447777 35.447777 46.167778 ... 63.713646 63.932224 64.04209 ]]\n",
      "\n",
      " [[35.432804 35.432804 46.124443 ... 63.63449  63.853455 63.9637  ]]\n",
      "\n",
      " ...\n",
      "\n",
      " [[30.045258 30.045258 30.523432 ... 35.251617 35.409164 35.775566]]\n",
      "\n",
      " [[30.045258 30.045258 30.523432 ... 35.251617 35.409164 35.775566]]\n",
      "\n",
      " [[30.045258 30.045258 30.523432 ... 35.251617 35.409164 35.775566]]]\n",
      "all_quantiles after squeezing shape: (424, 50)\n",
      "Error with cow SE-5c06d92d-3009, lactation 2: too many values to unpack (expected 2)\n"
     ]
    },
    {
     "name": "stderr",
     "output_type": "stream",
     "text": [
      "/Users/user/anaconda3/envs/GIGACOW/lib/python3.11/site-packages/torch/optim/lr_scheduler.py:60: UserWarning: The verbose parameter is deprecated. Please use get_last_lr() to access the learning rate.\n",
      "  warnings.warn(\n",
      " 17%|█▋        | 399/2315 [02:31<12:09,  2.63 Segments/s]"
     ]
    },
    {
     "name": "stdout",
     "output_type": "stream",
     "text": [
      "all_quantiles shape: (183, 1, 50)\n",
      "all_quantiles content: [[[34.193504 34.193504 37.152576 ... 54.310608 54.586983 54.787827]]\n",
      "\n",
      " [[34.193504 34.193504 37.152576 ... 54.310608 54.586983 54.787827]]\n",
      "\n",
      " [[34.193504 34.193504 37.152576 ... 54.310608 54.586983 54.787827]]\n",
      "\n",
      " ...\n",
      "\n",
      " [[31.919266 31.919266 31.82075  ... 43.001747 43.115044 43.43872 ]]\n",
      "\n",
      " [[31.900787 31.900787 31.77738  ... 42.909813 43.02196  43.3464  ]]\n",
      "\n",
      " [[31.88231  31.88231  31.734013 ... 42.817875 42.928505 43.25428 ]]]\n",
      "all_quantiles after squeezing shape: (183, 50)\n",
      "Error with cow SE-5c06d92d-3009, lactation 3: too many values to unpack (expected 2)\n"
     ]
    },
    {
     "name": "stderr",
     "output_type": "stream",
     "text": [
      "/Users/user/anaconda3/envs/GIGACOW/lib/python3.11/site-packages/torch/optim/lr_scheduler.py:60: UserWarning: The verbose parameter is deprecated. Please use get_last_lr() to access the learning rate.\n",
      "  warnings.warn(\n",
      " 17%|█▋        | 400/2315 [02:32<15:06,  2.11 Segments/s]"
     ]
    },
    {
     "name": "stdout",
     "output_type": "stream",
     "text": [
      "all_quantiles shape: (272, 1, 50)\n",
      "all_quantiles content: [[[40.7804   40.7804   44.35105  ... 51.917076 51.94149  51.870155]]\n",
      "\n",
      " [[40.709747 40.709747 44.269943 ... 51.847267 51.87263  51.8034  ]]\n",
      "\n",
      " [[40.639084 40.639084 44.188858 ... 51.777264 51.80378  51.73683 ]]\n",
      "\n",
      " ...\n",
      "\n",
      " [[21.70223  21.70223  22.454475 ... 33.05378  33.344364 33.867073]]\n",
      "\n",
      " [[21.70223  21.70223  22.454475 ... 33.05378  33.344364 33.867073]]\n",
      "\n",
      " [[21.70223  21.70223  22.454475 ... 33.05378  33.344364 33.867073]]]\n",
      "all_quantiles after squeezing shape: (272, 50)\n",
      "Error with cow SE-5c06d92d-3010, lactation 2: too many values to unpack (expected 2)\n"
     ]
    },
    {
     "name": "stderr",
     "output_type": "stream",
     "text": [
      "/Users/user/anaconda3/envs/GIGACOW/lib/python3.11/site-packages/torch/optim/lr_scheduler.py:60: UserWarning: The verbose parameter is deprecated. Please use get_last_lr() to access the learning rate.\n",
      "  warnings.warn(\n",
      " 17%|█▋        | 401/2315 [02:32<16:20,  1.95 Segments/s]"
     ]
    },
    {
     "name": "stdout",
     "output_type": "stream",
     "text": [
      "all_quantiles shape: (346, 1, 50)\n",
      "all_quantiles content: [[[29.229164 29.229164 37.575783 ... 54.59194  54.75483  54.80137 ]]\n",
      "\n",
      " [[29.213797 29.213797 37.536106 ... 54.533764 54.69742  54.745865]]\n",
      "\n",
      " [[29.198431 29.198431 37.49642  ... 54.47559  54.640198 54.690357]]\n",
      "\n",
      " ...\n",
      "\n",
      " [[23.958862 23.958862 23.966324 ... 34.63154  35.07023  35.777855]]\n",
      "\n",
      " [[23.943506 23.943506 23.926651 ... 34.573364 35.012817 35.72235 ]]\n",
      "\n",
      " [[23.92814  23.92814  23.886967 ... 34.515    34.955597 35.666847]]]\n",
      "all_quantiles after squeezing shape: (346, 50)\n",
      "Error with cow SE-5c06d92d-3010, lactation 3: too many values to unpack (expected 2)\n"
     ]
    },
    {
     "name": "stderr",
     "output_type": "stream",
     "text": [
      "/Users/user/anaconda3/envs/GIGACOW/lib/python3.11/site-packages/torch/optim/lr_scheduler.py:60: UserWarning: The verbose parameter is deprecated. Please use get_last_lr() to access the learning rate.\n",
      "  warnings.warn(\n",
      " 17%|█▋        | 402/2315 [02:33<15:12,  2.10 Segments/s]"
     ]
    },
    {
     "name": "stdout",
     "output_type": "stream",
     "text": [
      "all_quantiles shape: (266, 1, 50)\n",
      "all_quantiles content: [[[46.09738  46.09738  47.339203 ... 50.80986  50.91438  50.92621 ]]\n",
      "\n",
      " [[45.985687 45.985687 47.229347 ... 50.7679   50.87242  50.886345]]\n",
      "\n",
      " [[45.874    45.874    47.119484 ... 50.725746 50.83065  50.84629 ]]\n",
      "\n",
      " ...\n",
      "\n",
      " [[16.724443 16.724443 18.444586 ... 39.723778 39.936825 40.42377 ]]\n",
      "\n",
      " [[16.724443 16.724443 18.444586 ... 39.723778 39.936825 40.42377 ]]\n",
      "\n",
      " [[16.724443 16.724443 18.444586 ... 39.723778 39.936825 40.42377 ]]]\n",
      "all_quantiles after squeezing shape: (266, 50)\n",
      "Error with cow SE-5c06d92d-3012, lactation 2: too many values to unpack (expected 2)\n"
     ]
    },
    {
     "name": "stderr",
     "output_type": "stream",
     "text": [
      "/Users/user/anaconda3/envs/GIGACOW/lib/python3.11/site-packages/torch/optim/lr_scheduler.py:60: UserWarning: The verbose parameter is deprecated. Please use get_last_lr() to access the learning rate.\n",
      "  warnings.warn(\n",
      " 17%|█▋        | 403/2315 [02:33<14:33,  2.19 Segments/s]"
     ]
    },
    {
     "name": "stdout",
     "output_type": "stream",
     "text": [
      "all_quantiles shape: (345, 1, 50)\n",
      "all_quantiles content: [[[31.017422 31.017422 33.254955 ... 60.972214 60.96954  60.732647]]\n",
      "\n",
      " [[31.017422 31.017422 33.254955 ... 60.972214 60.96954  60.732647]]\n",
      "\n",
      " [[31.040071 31.040071 33.272934 ... 60.931583 60.930824 60.700417]]\n",
      "\n",
      " ...\n",
      "\n",
      " [[38.78369  38.78369  39.42287  ... 47.056004 47.727013 49.62177 ]]\n",
      "\n",
      " [[38.806343 38.806343 39.440845 ... 47.01557  47.688293 49.58954 ]]\n",
      "\n",
      " [[38.828968 38.828968 39.45883  ... 46.97494  47.649765 49.557114]]]\n",
      "all_quantiles after squeezing shape: (345, 50)\n",
      "Error with cow SE-5c06d92d-3012, lactation 3: too many values to unpack (expected 2)\n"
     ]
    },
    {
     "name": "stderr",
     "output_type": "stream",
     "text": [
      "/Users/user/anaconda3/envs/GIGACOW/lib/python3.11/site-packages/torch/optim/lr_scheduler.py:60: UserWarning: The verbose parameter is deprecated. Please use get_last_lr() to access the learning rate.\n",
      "  warnings.warn(\n",
      " 17%|█▋        | 404/2315 [02:34<14:02,  2.27 Segments/s]"
     ]
    },
    {
     "name": "stdout",
     "output_type": "stream",
     "text": [
      "all_quantiles shape: (362, 1, 50)\n",
      "all_quantiles content: [[[30.048967 30.048967 31.816528 ... 42.469402 42.47417  42.516136]]\n",
      "\n",
      " [[30.020063 30.020063 31.78259  ... 42.420956 42.425915 42.46864 ]]\n",
      "\n",
      " [[29.991161 29.991161 31.748652 ... 42.37213  42.37823  42.420956]]\n",
      "\n",
      " ...\n",
      "\n",
      " [[22.881245 22.881245 23.400188 ... 30.418968 30.575369 30.716036]]\n",
      "\n",
      " [[22.881245 22.881245 23.400188 ... 30.418968 30.575369 30.716036]]\n",
      "\n",
      " [[22.881245 22.881245 23.400188 ... 30.418968 30.575369 30.716036]]]\n",
      "all_quantiles after squeezing shape: (362, 50)\n",
      "Error with cow SE-5c06d92d-3013, lactation 2: too many values to unpack (expected 2)\n"
     ]
    },
    {
     "name": "stderr",
     "output_type": "stream",
     "text": [
      "/Users/user/anaconda3/envs/GIGACOW/lib/python3.11/site-packages/torch/optim/lr_scheduler.py:60: UserWarning: The verbose parameter is deprecated. Please use get_last_lr() to access the learning rate.\n",
      "  warnings.warn(\n",
      " 17%|█▋        | 405/2315 [02:34<14:11,  2.24 Segments/s]"
     ]
    },
    {
     "name": "stdout",
     "output_type": "stream",
     "text": [
      "all_quantiles shape: (277, 1, 50)\n",
      "all_quantiles content: [[[32.784866 32.784866 34.82802  ... 47.952457 48.174095 48.270035]]\n",
      "\n",
      " [[32.760735 32.760735 34.79879  ... 47.89276  48.11439  48.21033 ]]\n",
      "\n",
      " [[32.7366   32.7366   34.769558 ... 47.83325  48.054504 48.150635]]\n",
      "\n",
      " ...\n",
      "\n",
      " [[26.172487 26.172487 26.820433 ... 31.62937  31.787203 31.909084]]\n",
      "\n",
      " [[26.148348 26.148348 26.791225 ... 31.56986  31.727407 31.849384]]\n",
      "\n",
      " [[26.148348 26.148348 26.791225 ... 31.56986  31.727407 31.849384]]]\n",
      "all_quantiles after squeezing shape: (277, 50)\n",
      "Error with cow SE-5c06d92d-3014, lactation 2: too many values to unpack (expected 2)\n"
     ]
    },
    {
     "name": "stderr",
     "output_type": "stream",
     "text": [
      "/Users/user/anaconda3/envs/GIGACOW/lib/python3.11/site-packages/torch/optim/lr_scheduler.py:60: UserWarning: The verbose parameter is deprecated. Please use get_last_lr() to access the learning rate.\n",
      "  warnings.warn(\n",
      " 18%|█▊        | 406/2315 [02:35<13:37,  2.34 Segments/s]"
     ]
    },
    {
     "name": "stdout",
     "output_type": "stream",
     "text": [
      "all_quantiles shape: (286, 1, 50)\n",
      "all_quantiles content: [[[22.89852  22.89852  29.191349 ... 49.99447  49.69749  49.357224]]\n",
      "\n",
      " [[22.89852  22.89852  29.191349 ... 49.99447  49.69749  49.357224]]\n",
      "\n",
      " [[22.911526 22.911526 29.18558  ... 49.934578 49.64218  49.308777]]\n",
      "\n",
      " ...\n",
      "\n",
      " [[26.593136 26.593136 27.552425 ... 32.98464  33.998585 35.58855 ]]\n",
      "\n",
      " [[26.606165 26.606165 27.546642 ... 32.924652 33.943462 35.54001 ]]\n",
      "\n",
      " [[26.619171 26.619171 27.540873 ... 32.86476  33.88815  35.49156 ]]]\n",
      "all_quantiles after squeezing shape: (286, 50)\n",
      "Error with cow SE-5c06d92d-3014, lactation 3: too many values to unpack (expected 2)\n"
     ]
    },
    {
     "name": "stderr",
     "output_type": "stream",
     "text": [
      "/Users/user/anaconda3/envs/GIGACOW/lib/python3.11/site-packages/torch/optim/lr_scheduler.py:60: UserWarning: The verbose parameter is deprecated. Please use get_last_lr() to access the learning rate.\n",
      "  warnings.warn(\n",
      " 18%|█▊        | 407/2315 [02:35<13:29,  2.36 Segments/s]"
     ]
    },
    {
     "name": "stdout",
     "output_type": "stream",
     "text": [
      "all_quantiles shape: (221, 1, 50)\n",
      "all_quantiles content: [[[36.15849  36.15849  37.14616  ... 45.264626 45.60833  45.854946]]\n",
      "\n",
      " [[36.120064 36.120064 37.103054 ... 45.202446 45.54443  45.79029 ]]\n",
      "\n",
      " [[36.081623 36.081623 37.05996  ... 45.140266 45.48073  45.725437]]\n",
      "\n",
      " ...\n",
      "\n",
      " [[27.741045 27.741045 27.707659 ... 31.667707 31.639002 31.659222]]\n",
      "\n",
      " [[27.702604 27.702604 27.664564 ... 31.605623 31.575298 31.594372]]\n",
      "\n",
      " [[27.664179 27.664179 27.621458 ... 31.54354  31.511402 31.529615]]]\n",
      "all_quantiles after squeezing shape: (221, 50)\n",
      "Error with cow SE-5c06d92d-3015, lactation 2: too many values to unpack (expected 2)\n"
     ]
    },
    {
     "name": "stderr",
     "output_type": "stream",
     "text": [
      "/Users/user/anaconda3/envs/GIGACOW/lib/python3.11/site-packages/torch/optim/lr_scheduler.py:60: UserWarning: The verbose parameter is deprecated. Please use get_last_lr() to access the learning rate.\n",
      "  warnings.warn(\n",
      " 18%|█▊        | 408/2315 [02:35<13:17,  2.39 Segments/s]"
     ]
    },
    {
     "name": "stdout",
     "output_type": "stream",
     "text": [
      "all_quantiles shape: (271, 1, 50)\n",
      "all_quantiles content: [[[32.622444 32.622444 37.809814 ... 56.61373  56.81667  57.162285]]\n",
      "\n",
      " [[32.632446 32.632446 37.805058 ... 56.563946 56.767082 57.11269 ]]\n",
      "\n",
      " [[32.64246  32.64246  37.8003   ... 56.513977 56.717487 57.063103]]\n",
      "\n",
      " ...\n",
      "\n",
      " [[35.304653 35.304653 36.53532  ... 43.261333 43.524933 43.849945]]\n",
      "\n",
      " [[35.314667 35.314667 36.530563 ... 43.211365 43.475338 43.800354]]\n",
      "\n",
      " [[35.324654 35.324654 36.52582  ... 43.161583 43.42575  43.750572]]]\n",
      "all_quantiles after squeezing shape: (271, 50)\n",
      "Error with cow SE-5c06d92d-3015, lactation 3: too many values to unpack (expected 2)\n"
     ]
    },
    {
     "name": "stderr",
     "output_type": "stream",
     "text": [
      "/Users/user/anaconda3/envs/GIGACOW/lib/python3.11/site-packages/torch/optim/lr_scheduler.py:60: UserWarning: The verbose parameter is deprecated. Please use get_last_lr() to access the learning rate.\n",
      "  warnings.warn(\n",
      " 18%|█▊        | 409/2315 [02:36<12:22,  2.57 Segments/s]"
     ]
    },
    {
     "name": "stdout",
     "output_type": "stream",
     "text": [
      "all_quantiles shape: (15, 1, 50)\n",
      "all_quantiles content: [[[40.42332  40.42332  40.42604  40.430496 40.43765  40.448666 40.46545\n",
      "   40.488052 40.5148   40.542652 40.57121  40.598534 40.621994 40.64207\n",
      "   40.66157  40.686844 40.72981  40.808105 40.932465 41.085052 41.22648\n",
      "   41.33606  41.401386 41.388035 41.292095 41.2507   41.278458 41.30592\n",
      "   41.321846 41.328526 41.32414  41.310116 41.322517 41.587444 42.14983\n",
      "   42.41562  42.443275 42.414093 42.379185 42.360687 42.36622  42.390823\n",
      "   42.417526 42.437935 42.45052  42.456245 42.458153 42.459293 42.459103\n",
      "   42.458916]]\n",
      "\n",
      " [[40.42332  40.42332  40.42604  40.430496 40.43765  40.448666 40.46545\n",
      "   40.488052 40.5148   40.542652 40.57121  40.598534 40.621994 40.64207\n",
      "   40.66157  40.686844 40.72981  40.808105 40.932465 41.085052 41.22648\n",
      "   41.33606  41.401386 41.388035 41.292095 41.2507   41.278458 41.30592\n",
      "   41.321846 41.328526 41.32414  41.310116 41.322517 41.587444 42.14983\n",
      "   42.41562  42.443275 42.414093 42.379185 42.360687 42.36622  42.390823\n",
      "   42.417526 42.437935 42.45052  42.456245 42.458153 42.459293 42.459103\n",
      "   42.458916]]\n",
      "\n",
      " [[41.84508  41.84508  41.847206 41.850876 41.857075 41.867302 41.884758\n",
      "   41.91394  41.957806 42.00444  42.040825 42.068623 42.09037  42.10849\n",
      "   42.126133 42.14973  42.190933 42.267418 42.38949  42.539215 42.677498\n",
      "   42.784496 42.851162 42.85021  42.784115 42.76886  42.804623 42.83228\n",
      "   42.847443 42.853832 42.850018 42.837715 42.84935  43.08777  43.593975\n",
      "   43.833347 43.85929  43.834686 43.806458 43.794247 43.805122 43.833347\n",
      "   43.862534 43.88466  43.89801  43.9043   43.906975 43.90831  43.9085\n",
      "   43.90831 ]]\n",
      "\n",
      " [[43.26683  43.26683  43.268394 43.271255 43.2765   43.28587  43.304157\n",
      "   43.33973  43.40081  43.46628  43.510437 43.538666 43.558784 43.5749\n",
      "   43.590736 43.61248  43.65225  43.72654  43.84651  43.993378 44.128605\n",
      "   44.233036 44.30084  44.312378 44.276234 44.287014 44.330597 44.358635\n",
      "   44.37313  44.379135 44.375896 44.365406 44.375988 44.58828  45.038033\n",
      "   45.251083 45.275116 45.25566  45.233536 45.227814 45.24383  45.27607\n",
      "   45.30754  45.331192 45.345497 45.352745 45.355606 45.357323 45.357895\n",
      "   45.357704]]\n",
      "\n",
      " [[44.688583 44.688583 44.689545 44.691654 44.695927 44.704483 44.72346\n",
      "   44.765617 44.843815 44.928024 44.980095 45.00875  45.02716  45.041275\n",
      "   45.055344 45.07537  45.113373 45.185852 45.303436 45.44754  45.57972\n",
      "   45.681572 45.750423 45.77465  45.768353 45.80517  45.856567 45.885086\n",
      "   45.898724 45.90444  45.901775 45.893    45.90273  46.088787 46.481895\n",
      "   46.669006 46.69113  46.676254 46.6608   46.661377 46.68274  46.718597\n",
      "   46.75255  46.777725 46.793175 46.800804 46.80443  46.806145 46.80729\n",
      "   46.80748 ]]\n",
      "\n",
      " [[46.11033  46.11033  46.110725 46.112034 46.11535  46.1231   46.142815\n",
      "   46.191406 46.28682  46.389866 46.449707 46.47884  46.49553  46.507694\n",
      "   46.519897 46.538254 46.57459  46.64507  46.760464 46.901703 47.03064\n",
      "   47.130203 47.200108 47.23682  47.26038  47.323414 47.382637 47.411346\n",
      "   47.424316 47.429752 47.427845 47.4205   47.429466 47.589302 47.92595\n",
      "   48.086735 48.107147 48.096848 48.087883 48.095127 48.121643 48.161125\n",
      "   48.197556 48.224255 48.24066  48.249245 48.253056 48.255157 48.256683\n",
      "   48.256874]]\n",
      "\n",
      " [[47.53208  47.53208  47.531902 47.532402 47.534798 47.541714 47.562145\n",
      "   47.617268 47.729824 47.851658 47.919323 47.948933 47.963905 47.974106\n",
      "   47.984455 48.001144 48.035713 48.10438  48.217392 48.355865 48.481747\n",
      "   48.57874  48.649693 48.69909  48.7525   48.841476 48.908707 48.937798\n",
      "   48.94991  48.95506  48.953724 48.948193 48.95611  49.089813 49.369812\n",
      "   49.50447  49.523354 49.517437 49.515152 49.528694 49.560547 49.603653\n",
      "   49.642754 49.67079  49.688145 49.6973   49.70188  49.70417  49.706078\n",
      "   49.70627 ]]\n",
      "\n",
      " [[48.95383  48.95383  48.953068 48.952793 48.954197 48.96035  48.9815\n",
      "   49.04306  49.172832 49.3135   49.38898  49.418922 49.432323 49.440525\n",
      "   49.449013 49.46403  49.49684  49.563694 49.67441  49.80993  49.93286\n",
      "   50.02727  50.099373 50.161266 50.244522 50.359726 50.434685 50.464153\n",
      "   50.475597 50.480366 50.479603 50.47588  50.48275  50.59013  50.814053\n",
      "   50.922203 50.93918  50.93841  50.942226 50.962254 50.999447 51.04618\n",
      "   51.08776  51.117325 51.135635 51.145744 51.150322 51.153374 51.15528\n",
      "   51.156044]]\n",
      "\n",
      " [[50.37558  50.37558  50.374237 50.373184 50.373627 50.37894  50.400852\n",
      "   50.46892  50.615784 50.775333 50.85859  50.889015 50.900696 50.906944\n",
      "   50.913616 50.92678  50.958157 51.022907 51.13134  51.26409  51.383873\n",
      "   51.475903 51.548958 51.62344  51.736732 51.87788  51.960754 51.99051\n",
      "   52.001186 52.005573 52.005573 52.00338  52.009583 52.090645 52.257915\n",
      "   52.340122 52.355194 52.359005 52.3695   52.39582  52.438354 52.48871\n",
      "   52.53277  52.563854 52.58312  52.593994 52.599144 52.602383 52.604675\n",
      "   52.60544 ]]\n",
      "\n",
      " [[51.79733  51.79733  51.79541  51.79357  51.793053 51.797554 51.8202\n",
      "   51.894737 52.058815 52.23713  52.3282   52.359104 52.36907  52.373363\n",
      "   52.378178 52.38967  52.41928  52.48222  52.58827  52.718353 52.83489\n",
      "   52.92444  52.99864  53.08561  53.22885  53.396034 53.486725 53.516865\n",
      "   53.526875 53.530884 53.531452 53.53107  53.53622  53.591156 53.701973\n",
      "   53.75786  53.77121  53.7796   53.796577 53.829575 53.87726  53.931046\n",
      "   53.977966 54.010582 54.03061  54.04224  54.047775 54.051395 54.05407\n",
      "   54.054832]]\n",
      "\n",
      " [[53.21908  53.21908  53.216583 53.213966 53.212475 53.21617  53.239536\n",
      "   53.32057  53.501797 53.69897  53.797817 53.829147 53.83749  53.839775\n",
      "   53.842735 53.85256  53.880405 53.941532 54.045296 54.172417 54.286003\n",
      "   54.37298  54.448223 54.54788  54.72088  54.91419  55.012894 55.043217\n",
      "   55.052372 55.056286 55.05743  55.05867  55.062862 55.091663 55.145836\n",
      "   55.17578  55.18703  55.200382 55.223843 55.263134 55.31597  55.373764\n",
      "   55.422974 55.457115 55.478096 55.490494 55.496593 55.50041  55.503273\n",
      "   55.50461 ]]\n",
      "\n",
      " [[54.64083  54.64083  54.637756 54.63435  54.6319   54.634758 54.65889\n",
      "   54.746437 54.9448   55.16076  55.26743  55.299232 55.30586  55.306194\n",
      "   55.30729  55.315445 55.34162  55.400753 55.502224 55.62658  55.737114\n",
      "   55.821514 55.897903 56.010056 56.212997 56.432343 56.538864 56.569576\n",
      "   56.57806  56.58159  56.58321  56.586266 56.5897   56.592175 56.58989\n",
      "   56.59332  56.603237 56.621166 56.65092  56.6967   56.75487  56.816288\n",
      "   56.86798  56.903645 56.925774 56.938744 56.945225 56.949234 56.952858\n",
      "   56.954002]]\n",
      "\n",
      " [[56.06258  56.06258  56.058933 56.054733 56.051323 56.053387 56.078243\n",
      "   56.172253 56.387783 56.6226   56.737087 56.769276 56.774235 56.772564\n",
      "   56.771896 56.778286 56.8028   56.860065 56.959248 57.08065  57.18813\n",
      "   57.270145 57.34749  57.47232  57.705116 57.950497 58.064842 58.096027\n",
      "   58.103657 58.106804 58.10928  58.113857 58.11634  58.09269  58.033943\n",
      "   58.011055 58.019253 58.04176  58.078194 58.130264 58.19378  58.25882\n",
      "   58.31299  58.35018  58.37326  58.386993 58.39405  58.398247 58.402252\n",
      "   58.403397]]\n",
      "\n",
      " [[57.48434  57.48434  57.4801   57.47511  57.47075  57.472    57.49757\n",
      "   57.598087 57.83081  58.084393 58.206703 58.239365 58.242603 58.238983\n",
      "   58.236504 58.241127 58.263924 58.31928  58.416267 58.53491  58.63914\n",
      "   58.71868  58.79717  58.934498 59.19714  59.468746 59.59091  59.622288\n",
      "   59.629345 59.63201  59.63516  59.641457 59.643173 59.593006 59.477993\n",
      "   59.428978 59.43527  59.462357 59.505272 59.564014 59.632683 59.701344\n",
      "   59.757996 59.7969   59.820744 59.83524  59.84268  59.84726  59.851456\n",
      "   59.853172]]\n",
      "\n",
      " [[58.906086 58.906086 58.90127  58.89549  58.890175 58.89063  58.9169\n",
      "   59.02393  59.27379  59.546234 59.67631  59.709404 59.711025 59.7054\n",
      "   59.70106  59.704018 59.72514  59.7785   59.873196 59.98907  60.090256\n",
      "   60.16712  60.24685  60.396767 60.68926  60.9869   61.116886 61.148735\n",
      "   61.154842 61.157513 61.161037 61.169052 61.16981  61.093517 60.922047\n",
      "   60.846706 60.851093 60.88314  60.932537 60.99758  61.071587 61.143875\n",
      "   61.203003 61.24344  61.268234 61.283684 61.291313 61.296272 61.30085\n",
      "   61.302567]]]\n",
      "all_quantiles after squeezing shape: (15, 50)\n",
      "Error with cow SE-5c06d92d-3015, lactation 4: too many values to unpack (expected 2)\n"
     ]
    },
    {
     "name": "stderr",
     "output_type": "stream",
     "text": [
      "/Users/user/anaconda3/envs/GIGACOW/lib/python3.11/site-packages/torch/optim/lr_scheduler.py:60: UserWarning: The verbose parameter is deprecated. Please use get_last_lr() to access the learning rate.\n",
      "  warnings.warn(\n",
      " 18%|█▊        | 410/2315 [02:36<12:29,  2.54 Segments/s]"
     ]
    },
    {
     "name": "stdout",
     "output_type": "stream",
     "text": [
      "all_quantiles shape: (281, 1, 50)\n",
      "all_quantiles content: [[[45.938957 45.938957 47.624847 ... 56.66828  56.780243 56.8058  ]]\n",
      "\n",
      " [[45.870625 45.870625 47.554672 ... 56.59046  56.70299  56.7297  ]]\n",
      "\n",
      " [[45.802303 45.802303 47.48447  ... 56.512447 56.625744 56.653976]]\n",
      "\n",
      " ...\n",
      "\n",
      " [[27.013206 27.013206 28.181421 ... 35.09922  35.372543 35.792923]]\n",
      "\n",
      " [[27.013206 27.013206 28.181421 ... 35.09922  35.372543 35.792923]]\n",
      "\n",
      " [[27.013206 27.013206 28.181421 ... 35.09922  35.372543 35.792923]]]\n",
      "all_quantiles after squeezing shape: (281, 50)\n",
      "Error with cow SE-5c06d92d-3017, lactation 2: too many values to unpack (expected 2)\n"
     ]
    },
    {
     "name": "stderr",
     "output_type": "stream",
     "text": [
      "/Users/user/anaconda3/envs/GIGACOW/lib/python3.11/site-packages/torch/optim/lr_scheduler.py:60: UserWarning: The verbose parameter is deprecated. Please use get_last_lr() to access the learning rate.\n",
      "  warnings.warn(\n",
      " 18%|█▊        | 411/2315 [02:36<12:31,  2.53 Segments/s]"
     ]
    },
    {
     "name": "stdout",
     "output_type": "stream",
     "text": [
      "all_quantiles shape: (335, 1, 50)\n",
      "all_quantiles content: [[[34.34124  34.34124  36.662483 ... 57.118416 57.278442 57.395363]]\n",
      "\n",
      " [[34.3392   34.3392   36.65402  ... 57.074734 57.235336 57.352448]]\n",
      "\n",
      " [[34.337173 34.337173 36.64552  ... 57.031246 57.19185  57.309723]]\n",
      "\n",
      " ...\n",
      "\n",
      " [[33.66109  33.66109  33.832024 ... 42.562294 42.819405 43.08529 ]]\n",
      "\n",
      " [[33.659054 33.659054 33.82355  ... 42.518806 42.776108 43.042183]]\n",
      "\n",
      " [[33.657013 33.657013 33.815083 ... 42.47513  42.73281  42.99946 ]]]\n",
      "all_quantiles after squeezing shape: (335, 50)\n",
      "Error with cow SE-5c06d92d-3017, lactation 3: too many values to unpack (expected 2)\n"
     ]
    },
    {
     "name": "stderr",
     "output_type": "stream",
     "text": [
      "/Users/user/anaconda3/envs/GIGACOW/lib/python3.11/site-packages/torch/optim/lr_scheduler.py:60: UserWarning: The verbose parameter is deprecated. Please use get_last_lr() to access the learning rate.\n",
      "  warnings.warn(\n",
      " 18%|█▊        | 412/2315 [02:37<12:18,  2.58 Segments/s]"
     ]
    },
    {
     "name": "stdout",
     "output_type": "stream",
     "text": [
      "all_quantiles shape: (179, 1, 50)\n",
      "all_quantiles content: [[[36.99697  36.99697  37.09397  ... 40.939903 40.642925 40.286446]]\n",
      "\n",
      " [[36.9446   36.9446   37.04301  ... 40.908432 40.620995 40.27538 ]]\n",
      "\n",
      " [[36.892223 36.892223 36.99204  ... 40.877148 40.59906  40.26413 ]]\n",
      "\n",
      " ...\n",
      "\n",
      " [[27.779554 27.779554 28.12376  ... 35.415363 36.776543 38.32531 ]]\n",
      "\n",
      " [[27.674805 27.674805 28.021824 ... 35.352516 36.73258  38.302994]]\n",
      "\n",
      " [[27.622437 27.622437 27.970863 ... 35.32114  36.71055  38.29193 ]]]\n",
      "all_quantiles after squeezing shape: (179, 50)\n",
      "Error with cow SE-5c06d92d-3019, lactation 2: too many values to unpack (expected 2)\n"
     ]
    },
    {
     "name": "stderr",
     "output_type": "stream",
     "text": [
      "/Users/user/anaconda3/envs/GIGACOW/lib/python3.11/site-packages/torch/optim/lr_scheduler.py:60: UserWarning: The verbose parameter is deprecated. Please use get_last_lr() to access the learning rate.\n",
      "  warnings.warn(\n",
      " 18%|█▊        | 413/2315 [02:37<12:24,  2.55 Segments/s]"
     ]
    },
    {
     "name": "stdout",
     "output_type": "stream",
     "text": [
      "all_quantiles shape: (327, 1, 50)\n",
      "all_quantiles content: [[[22.420073 22.420073 27.584171 ... 49.89052  50.063324 50.2491  ]]\n",
      "\n",
      " [[22.435379 22.435379 27.58659  ... 49.84665  50.018883 50.204277]]\n",
      "\n",
      " [[22.450686 22.450686 27.589035 ... 49.802395 49.97463  50.159645]]\n",
      "\n",
      " ...\n",
      "\n",
      " [[27.3813   27.3813   28.372168 ... 35.62355  35.687637 35.752678]]\n",
      "\n",
      " [[27.3813   27.3813   28.372168 ... 35.62355  35.687637 35.752678]]\n",
      "\n",
      " [[27.3813   27.3813   28.372168 ... 35.62355  35.687637 35.752678]]]\n",
      "all_quantiles after squeezing shape: (327, 50)\n",
      "Error with cow SE-5c06d92d-3019, lactation 3: too many values to unpack (expected 2)\n"
     ]
    },
    {
     "name": "stderr",
     "output_type": "stream",
     "text": [
      "/Users/user/anaconda3/envs/GIGACOW/lib/python3.11/site-packages/torch/optim/lr_scheduler.py:60: UserWarning: The verbose parameter is deprecated. Please use get_last_lr() to access the learning rate.\n",
      "  warnings.warn(\n",
      " 18%|█▊        | 414/2315 [02:38<11:12,  2.83 Segments/s]"
     ]
    },
    {
     "name": "stdout",
     "output_type": "stream",
     "text": [
      "all_quantiles shape: (22, 1, 50)\n",
      "all_quantiles content: [[[27.942204 27.942204 27.941786 ... 44.924732 45.04547  45.09754 ]]\n",
      "\n",
      " [[27.942204 27.942204 27.941786 ... 44.924732 45.04547  45.09754 ]]\n",
      "\n",
      " [[28.006386 28.006386 28.007221 ... 45.16926  45.280075 45.32795 ]]\n",
      "\n",
      " ...\n",
      "\n",
      " [[29.097364 29.097364 29.119778 ... 49.32804  49.266434 49.243355]]\n",
      "\n",
      " [[29.161547 29.161547 29.185223 ... 49.572754 49.500847 49.473568]]\n",
      "\n",
      " [[29.22573  29.22573  29.250645 ... 49.817463 49.73526  49.70398 ]]]\n",
      "all_quantiles after squeezing shape: (22, 50)\n",
      "Error with cow SE-5c06d92d-3019, lactation 4: too many values to unpack (expected 2)\n"
     ]
    },
    {
     "name": "stderr",
     "output_type": "stream",
     "text": [
      "/Users/user/anaconda3/envs/GIGACOW/lib/python3.11/site-packages/torch/optim/lr_scheduler.py:60: UserWarning: The verbose parameter is deprecated. Please use get_last_lr() to access the learning rate.\n",
      "  warnings.warn(\n",
      " 18%|█▊        | 415/2315 [02:38<11:15,  2.81 Segments/s]"
     ]
    },
    {
     "name": "stdout",
     "output_type": "stream",
     "text": [
      "all_quantiles shape: (194, 1, 50)\n",
      "all_quantiles content: [[[42.302902 42.302902 42.595848 ... 49.112125 49.163242 49.21837 ]]\n",
      "\n",
      " [[42.231655 42.231655 42.52994  ... 49.078747 49.13101  49.186897]]\n",
      "\n",
      " [[42.160416 42.160416 42.46403  ... 49.045177 49.09897  49.155235]]\n",
      "\n",
      " ...\n",
      "\n",
      " [[28.624737 28.624737 29.940735 ... 42.69104  42.97981  43.17169 ]]\n",
      "\n",
      " [[28.553486 28.553486 29.874826 ... 42.65747  42.94777  43.14022 ]]\n",
      "\n",
      " [[28.553486 28.553486 29.874826 ... 42.65747  42.94777  43.14022 ]]]\n",
      "all_quantiles after squeezing shape: (194, 50)\n",
      "Error with cow SE-5c06d92d-3020, lactation 2: too many values to unpack (expected 2)\n"
     ]
    },
    {
     "name": "stderr",
     "output_type": "stream",
     "text": [
      "/Users/user/anaconda3/envs/GIGACOW/lib/python3.11/site-packages/torch/optim/lr_scheduler.py:60: UserWarning: The verbose parameter is deprecated. Please use get_last_lr() to access the learning rate.\n",
      "  warnings.warn(\n",
      " 18%|█▊        | 416/2315 [02:38<11:31,  2.75 Segments/s]"
     ]
    },
    {
     "name": "stdout",
     "output_type": "stream",
     "text": [
      "all_quantiles shape: (286, 1, 50)\n",
      "all_quantiles content: [[[20.600698 20.600698 27.630758 ... 58.25233  58.572193 58.893585]]\n",
      "\n",
      " [[20.600698 20.600698 27.630758 ... 58.25233  58.572193 58.893585]]\n",
      "\n",
      " [[20.697784 20.697784 27.666138 ... 58.113476 58.43334  58.7595  ]]\n",
      "\n",
      " ...\n",
      "\n",
      " [[29.823172 29.823172 30.993212 ... 45.058628 45.37334  46.15993 ]]\n",
      "\n",
      " [[29.823172 29.823172 30.993212 ... 45.058628 45.37334  46.15993 ]]\n",
      "\n",
      " [[29.823172 29.823172 30.993212 ... 45.058628 45.37334  46.15993 ]]]\n",
      "all_quantiles after squeezing shape: (286, 50)\n",
      "Error with cow SE-5c06d92d-3020, lactation 3: too many values to unpack (expected 2)\n"
     ]
    },
    {
     "name": "stderr",
     "output_type": "stream",
     "text": [
      "/Users/user/anaconda3/envs/GIGACOW/lib/python3.11/site-packages/torch/optim/lr_scheduler.py:60: UserWarning: The verbose parameter is deprecated. Please use get_last_lr() to access the learning rate.\n",
      "  warnings.warn(\n",
      " 18%|█▊        | 417/2315 [02:39<11:23,  2.78 Segments/s]"
     ]
    },
    {
     "name": "stdout",
     "output_type": "stream",
     "text": [
      "all_quantiles shape: (77, 1, 50)\n",
      "all_quantiles content: [[[31.126356 31.126356 33.052967 ... 54.93145  54.981037 54.98829 ]]\n",
      "\n",
      " [[31.433344 31.433344 33.33311  ... 54.97284  55.02262  55.031013]]\n",
      "\n",
      " [[31.740284 31.740284 33.6133   ... 55.014034 55.0642   55.07374 ]]\n",
      "\n",
      " ...\n",
      "\n",
      " [[53.841312 53.841312 53.78493  ... 57.990643 58.06217  58.145714]]\n",
      "\n",
      " [[54.148273 54.148273 54.065083 ... 58.032036 58.10375  58.18844 ]]\n",
      "\n",
      " [[54.45524  54.45524  54.34525  ... 58.073425 58.145332 58.231163]]]\n",
      "all_quantiles after squeezing shape: (77, 50)\n",
      "Error with cow SE-5c06d92d-3020, lactation 4: too many values to unpack (expected 2)\n"
     ]
    },
    {
     "name": "stderr",
     "output_type": "stream",
     "text": [
      "/Users/user/anaconda3/envs/GIGACOW/lib/python3.11/site-packages/torch/optim/lr_scheduler.py:60: UserWarning: The verbose parameter is deprecated. Please use get_last_lr() to access the learning rate.\n",
      "  warnings.warn(\n",
      " 18%|█▊        | 418/2315 [02:39<11:40,  2.71 Segments/s]"
     ]
    },
    {
     "name": "stdout",
     "output_type": "stream",
     "text": [
      "all_quantiles shape: (328, 1, 50)\n",
      "all_quantiles content: [[[31.855106 31.855106 32.21482  ... 39.94503  40.05909  40.30437 ]]\n",
      "\n",
      " [[31.81709  31.81709  32.17608  ... 39.902687 40.016747 40.262028]]\n",
      "\n",
      " [[31.779068 31.779068 32.137344 ... 39.860153 39.974594 40.219498]]\n",
      "\n",
      " ...\n",
      "\n",
      " [[21.400635 21.400635 21.561754 ... 28.24373  28.45106  28.61366 ]]\n",
      "\n",
      " [[21.400635 21.400635 21.561754 ... 28.24373  28.45106  28.61366 ]]\n",
      "\n",
      " [[21.400635 21.400635 21.561754 ... 28.24373  28.45106  28.61366 ]]]\n",
      "all_quantiles after squeezing shape: (328, 50)\n",
      "Error with cow SE-5c06d92d-3022, lactation 2: too many values to unpack (expected 2)\n"
     ]
    },
    {
     "name": "stderr",
     "output_type": "stream",
     "text": [
      "/Users/user/anaconda3/envs/GIGACOW/lib/python3.11/site-packages/torch/optim/lr_scheduler.py:60: UserWarning: The verbose parameter is deprecated. Please use get_last_lr() to access the learning rate.\n",
      "  warnings.warn(\n",
      " 18%|█▊        | 419/2315 [02:39<11:34,  2.73 Segments/s]"
     ]
    },
    {
     "name": "stdout",
     "output_type": "stream",
     "text": [
      "all_quantiles shape: (173, 1, 50)\n",
      "all_quantiles content: [[[31.40574  31.40574  31.917917 ... 39.42623  39.845467 40.424538]]\n",
      "\n",
      " [[31.392752 31.392752 31.902824 ... 39.3919   39.809227 40.38372 ]]\n",
      "\n",
      " [[31.379765 31.379765 31.887722 ... 39.357758 39.772797 40.3429  ]]\n",
      "\n",
      " ...\n",
      "\n",
      " [[29.198175 29.198175 29.350245 ... 33.620262 33.656788 33.50382 ]]\n",
      "\n",
      " [[29.185186 29.185186 29.33514  ... 33.586216 33.620262 33.463097]]\n",
      "\n",
      " [[29.1722   29.1722   29.320038 ... 33.552074 33.583927 33.42228 ]]]\n",
      "all_quantiles after squeezing shape: (173, 50)\n",
      "Error with cow SE-5c06d92d-3023, lactation 2: too many values to unpack (expected 2)\n"
     ]
    },
    {
     "name": "stderr",
     "output_type": "stream",
     "text": [
      "/Users/user/anaconda3/envs/GIGACOW/lib/python3.11/site-packages/torch/optim/lr_scheduler.py:60: UserWarning: The verbose parameter is deprecated. Please use get_last_lr() to access the learning rate.\n",
      "  warnings.warn(\n",
      " 18%|█▊        | 420/2315 [02:40<11:43,  2.69 Segments/s]"
     ]
    },
    {
     "name": "stdout",
     "output_type": "stream",
     "text": [
      "all_quantiles shape: (287, 1, 50)\n",
      "all_quantiles content: [[[19.488834 19.488834 27.435064 ... 44.644547 44.60926  44.905277]]\n",
      "\n",
      " [[19.302713 19.302713 27.406311 ... 44.878006 44.831467 45.128822]]\n",
      "\n",
      " [[19.333744 19.333744 27.41109  ... 44.839283 44.794273 45.091625]]\n",
      "\n",
      " ...\n",
      "\n",
      " [[28.20593  28.20593  28.781555 ... 33.69732  34.216595 34.42974 ]]\n",
      "\n",
      " [[28.20593  28.20593  28.781555 ... 33.69732  34.216595 34.42974 ]]\n",
      "\n",
      " [[28.20593  28.20593  28.781555 ... 33.69732  34.216595 34.42974 ]]]\n",
      "all_quantiles after squeezing shape: (287, 50)\n",
      "Error with cow SE-5c06d92d-3023, lactation 3: too many values to unpack (expected 2)\n"
     ]
    },
    {
     "name": "stderr",
     "output_type": "stream",
     "text": [
      "/Users/user/anaconda3/envs/GIGACOW/lib/python3.11/site-packages/torch/optim/lr_scheduler.py:60: UserWarning: The verbose parameter is deprecated. Please use get_last_lr() to access the learning rate.\n",
      "  warnings.warn(\n",
      " 18%|█▊        | 421/2315 [02:40<11:14,  2.81 Segments/s]"
     ]
    },
    {
     "name": "stdout",
     "output_type": "stream",
     "text": [
      "all_quantiles shape: (92, 1, 50)\n",
      "all_quantiles content: [[[28.467417 28.467417 28.804827 ... 54.35505  54.689976 54.767033]]\n",
      "\n",
      " [[28.467417 28.467417 28.804827 ... 54.35505  54.689976 54.767033]]\n",
      "\n",
      " [[28.599905 28.599905 28.936386 ... 54.23069  54.564285 54.644585]]\n",
      "\n",
      " ...\n",
      "\n",
      " [[40.127323 40.127323 40.382645 ... 43.43853  43.6121   43.985935]]\n",
      "\n",
      " [[40.259827 40.259827 40.514202 ... 43.31436  43.486214 43.863487]]\n",
      "\n",
      " [[40.392326 40.392326 40.645775 ... 43.190384 43.360325 43.740845]]]\n",
      "all_quantiles after squeezing shape: (92, 50)\n",
      "Error with cow SE-5c06d92d-3023, lactation 4: too many values to unpack (expected 2)\n"
     ]
    },
    {
     "name": "stderr",
     "output_type": "stream",
     "text": [
      "/Users/user/anaconda3/envs/GIGACOW/lib/python3.11/site-packages/torch/optim/lr_scheduler.py:60: UserWarning: The verbose parameter is deprecated. Please use get_last_lr() to access the learning rate.\n",
      "  warnings.warn(\n",
      " 18%|█▊        | 422/2315 [02:40<11:25,  2.76 Segments/s]"
     ]
    },
    {
     "name": "stdout",
     "output_type": "stream",
     "text": [
      "all_quantiles shape: (222, 1, 50)\n",
      "all_quantiles content: [[[39.80986  39.80986  40.79245  ... 48.556137 48.646736 48.74077 ]]\n",
      "\n",
      " [[39.748554 39.748554 40.730198 ... 48.492237 48.582836 48.67706 ]]\n",
      "\n",
      " [[39.68724  39.68724  40.667927 ... 48.428154 48.518944 48.613167]]\n",
      "\n",
      " ...\n",
      "\n",
      " [[26.320862 26.320862 27.095879 ... 34.482193 34.5953   34.694862]]\n",
      "\n",
      " [[26.25954  26.25954  27.033627 ... 34.4182   34.531403 34.630966]]\n",
      "\n",
      " [[26.25954  26.25954  27.033627 ... 34.4182   34.531403 34.630966]]]\n",
      "all_quantiles after squeezing shape: (222, 50)\n",
      "Error with cow SE-5c06d92d-3024, lactation 2: too many values to unpack (expected 2)\n"
     ]
    },
    {
     "name": "stderr",
     "output_type": "stream",
     "text": [
      "/Users/user/anaconda3/envs/GIGACOW/lib/python3.11/site-packages/torch/optim/lr_scheduler.py:60: UserWarning: The verbose parameter is deprecated. Please use get_last_lr() to access the learning rate.\n",
      "  warnings.warn(\n",
      " 18%|█▊        | 423/2315 [02:41<11:48,  2.67 Segments/s]"
     ]
    },
    {
     "name": "stdout",
     "output_type": "stream",
     "text": [
      "all_quantiles shape: (277, 1, 50)\n",
      "all_quantiles content: [[[38.686775 38.686775 40.6232   ... 53.01056  53.232956 53.360363]]\n",
      "\n",
      " [[42.79957  42.79957  44.957638 ... 56.03523  56.193157 55.795856]]\n",
      "\n",
      " [[42.68206  42.68206  44.83379  ... 55.948826 56.108475 55.726242]]\n",
      "\n",
      " ...\n",
      "\n",
      " [[10.602224 10.602224 11.025286 ... 32.356453 33.01773  36.731243]]\n",
      "\n",
      " [[10.602224 10.602224 11.025286 ... 32.356453 33.01773  36.731243]]\n",
      "\n",
      " [[10.602224 10.602224 11.025286 ... 32.356453 33.01773  36.731243]]]\n",
      "all_quantiles after squeezing shape: (277, 50)\n",
      "Error with cow SE-5c06d92d-3024, lactation 3: too many values to unpack (expected 2)\n"
     ]
    },
    {
     "name": "stderr",
     "output_type": "stream",
     "text": [
      "/Users/user/anaconda3/envs/GIGACOW/lib/python3.11/site-packages/torch/optim/lr_scheduler.py:60: UserWarning: The verbose parameter is deprecated. Please use get_last_lr() to access the learning rate.\n",
      "  warnings.warn(\n",
      " 18%|█▊        | 424/2315 [02:41<10:46,  2.93 Segments/s]"
     ]
    },
    {
     "name": "stdout",
     "output_type": "stream",
     "text": [
      "all_quantiles shape: (18, 1, 50)\n",
      "all_quantiles content: [[[  2.4164677   2.4164677   2.452433    2.6131866   3.0654907\n",
      "     3.6497233   4.1122317   4.3760777   4.4791937   4.5336246\n",
      "     4.6222925   4.805517    5.229187    6.852388    7.667851\n",
      "     7.7723265   7.7937603   7.793951    7.798886    8.097792\n",
      "     9.156775    9.628629    9.72321     9.783577   10.06906\n",
      "    10.726571   10.987616   10.999298   10.971307   10.936546\n",
      "    11.015654   12.922715   13.789557   13.725232   13.698196\n",
      "    13.683318   13.67483    14.298773   15.85164    15.954685\n",
      "    15.987253   16.017008   16.04023    16.055202   16.063166\n",
      "    16.066504   16.067553   16.0676     16.067362   16.067171 ]]\n",
      "\n",
      " [[-11.577486  -11.577486  -11.504936  -11.195827  -10.381125\n",
      "    -9.37171    -8.524203   -7.988953   -7.777691   -7.6883554\n",
      "    -7.576728   -7.3460817  -6.547212   -3.0896187  -1.9026517\n",
      "    -1.8432617  -1.9330978  -2.0810843  -2.1748066  -1.5123129\n",
      "     0.6221771   1.2668132   1.3506651   1.421237    1.9215345\n",
      "     3.129935    3.5615442   3.489351    3.3207893   3.1149864\n",
      "     3.149438    7.434034    9.023833    8.745241    8.63266\n",
      "     8.547187    8.46169     9.824896   13.348603   13.529277\n",
      "    13.543653   13.552475   13.553953   13.548183   13.538074\n",
      "    13.526583   13.51633    13.508128   13.50193    13.497399 ]]\n",
      "\n",
      " [[  2.4164677   2.4164677   2.452433    2.6131866   3.0654907\n",
      "     3.6497233   4.1122317   4.3760777   4.4791937   4.5336246\n",
      "     4.6222925   4.805517    5.229187    6.852388    7.667851\n",
      "     7.7723265   7.7937603   7.793951    7.798886    8.097792\n",
      "     9.156775    9.628629    9.72321     9.783577   10.06906\n",
      "    10.726571   10.987616   10.999298   10.971307   10.936546\n",
      "    11.015654   12.922715   13.789557   13.725232   13.698196\n",
      "    13.683318   13.67483    14.298773   15.85164    15.954685\n",
      "    15.987253   16.017008   16.04023    16.055202   16.063166\n",
      "    16.066504   16.067553   16.0676     16.067362   16.067171 ]]\n",
      "\n",
      " [[  2.4164677   2.4164677   2.452433    2.6131866   3.0654907\n",
      "     3.6497233   4.1122317   4.3760777   4.4791937   4.5336246\n",
      "     4.6222925   4.805517    5.229187    6.852388    7.667851\n",
      "     7.7723265   7.7937603   7.793951    7.798886    8.097792\n",
      "     9.156775    9.628629    9.72321     9.783577   10.06906\n",
      "    10.726571   10.987616   10.999298   10.971307   10.936546\n",
      "    11.015654   12.922715   13.789557   13.725232   13.698196\n",
      "    13.683318   13.67483    14.298773   15.85164    15.954685\n",
      "    15.987253   16.017008   16.04023    16.055202   16.063166\n",
      "    16.066504   16.067553   16.0676     16.067362   16.067171 ]]\n",
      "\n",
      " [[  3.5826323   3.5826323   3.6155343   3.763938    4.186046\n",
      "     4.73485     5.165267    5.406499    5.5006022   5.552125\n",
      "     5.638885    5.8181286   6.2105656   7.6808925   8.465385\n",
      "     8.573627    8.604312    8.6169      8.630013    8.89864\n",
      "     9.867977   10.325456   10.420918   10.480452   10.748005\n",
      "    11.359644   11.606431   11.625147   11.608839   11.588358\n",
      "    11.671161   13.380098   14.186716   14.140177   14.12034\n",
      "    14.111375   14.10923    14.671611   16.060257   16.156769\n",
      "    16.19091    16.222382   16.247416   16.264105   16.273594\n",
      "    16.278172   16.280127   16.28089    16.281176   16.281319 ]]\n",
      "\n",
      " [[  4.7487974   4.7487974   4.7786474   4.9146886   5.3066015\n",
      "     5.819964    6.218314    6.4369082   6.522       6.5706253\n",
      "     6.6554785   6.830764    7.1919203   8.5093975   9.262943\n",
      "     9.374928    9.414887    9.439802    9.461164    9.699488\n",
      "    10.579181   11.022282   11.118626   11.177301   11.426973\n",
      "    11.992693   12.22527    12.250996   12.24637    12.240171\n",
      "    12.326669   13.837481   14.583826   14.555216   14.542484\n",
      "    14.539384   14.543676   15.044355   16.268873   16.358948\n",
      "    16.394472   16.427755   16.454649   16.473007   16.484022\n",
      "    16.48984    16.4927     16.494226   16.494942   16.495466 ]]\n",
      "\n",
      " [[  5.9149504   5.9149504   5.9417605   6.065452    6.427145\n",
      "     6.9050903   7.271337    7.4673295   7.543421    7.589125\n",
      "     7.672047    7.843399    8.173299    9.337902   10.060477\n",
      "    10.176206   10.225463   10.262728   10.292315   10.500312\n",
      "    11.290407   11.719108   11.816335   11.874174   12.105918\n",
      "    12.625742   12.844132   12.876797   12.883949   12.8919115\n",
      "    12.982224   14.294862   14.980984   14.970207   14.964581\n",
      "    14.967393   14.978122   15.417194   16.477442   16.561031\n",
      "    16.598177   16.63313    16.661787   16.681957   16.69445\n",
      "    16.701508   16.705322   16.707468   16.708755   16.709566 ]]\n",
      "\n",
      " [[  7.0811152   7.0811152   7.1048737   7.2161913   7.5477\n",
      "     7.9902167   8.324372    8.49775     8.564817    8.607626\n",
      "     8.688641    8.856022    9.154654   10.166407   10.85801\n",
      "    10.9775305  11.036038   11.085652   11.123442   11.30116\n",
      "    12.00161    12.415934   12.514043   12.571025   12.784886\n",
      "    13.258815   13.462949   13.5026455  13.521457   13.543748\n",
      "    13.637686   14.752293   15.378141   15.385199   15.3867235\n",
      "    15.395403   15.412521   15.790033   16.686058   16.763115\n",
      "    16.801786   16.838503   16.86902    16.890812   16.904926\n",
      "    16.913128   16.917944   16.920757   16.922522   16.923761 ]]\n",
      "\n",
      " [[  8.24728     8.24728     8.267986    8.366954    8.668243\n",
      "     9.075332    9.377408    9.5281725   9.586226    9.626126\n",
      "     9.705221    9.868669   10.13602    10.994887   11.655568\n",
      "    11.7788315  11.84659    11.908579   11.954594   12.101984\n",
      "    12.712859   13.112736   13.21175    13.267899   13.46383\n",
      "    13.891864   14.081788   14.128469   14.159036   14.195538\n",
      "    14.293194   15.209675   15.775298   15.80019    15.808867\n",
      "    15.823412   15.846919   16.162872   16.894627   16.965246\n",
      "    17.005444   17.043877   17.076206   17.099714   17.115355\n",
      "    17.124796   17.130518   17.134094   17.136288   17.137909 ]]\n",
      "\n",
      " [[  9.4134445   9.4134445   9.4311      9.517699    9.788798\n",
      "    10.160458   10.430443   10.558593   10.607623   10.644626\n",
      "    10.721814   10.881292   11.117386   11.823403   12.453103\n",
      "    12.580109   12.657189   12.73148    12.785745   12.902832\n",
      "    13.424063   13.809537   13.909483   13.964747   14.142822\n",
      "    14.524888   14.700626   14.754318   14.796542   14.847326\n",
      "    14.94875    15.667056   16.17241    16.215229   16.230965\n",
      "    16.251421   16.281366   16.535711   17.103195   17.167377\n",
      "    17.209053   17.24925    17.283392   17.308664   17.325783\n",
      "    17.336464   17.343092   17.347383   17.350101   17.352057 ]]\n",
      "\n",
      " [[ 10.579609   10.579609   10.594213   10.668445   10.909354\n",
      "    11.245572   11.48349    11.589002   11.629033   11.663127\n",
      "    11.738396   11.893928   12.098765   12.651884   13.250661\n",
      "    13.38141    13.46774    13.554406   13.616872   13.703704\n",
      "    14.135264   14.506363   14.60719    14.661621   14.821767\n",
      "    15.157962   15.319466   15.380119   15.434122   15.499115\n",
      "    15.604258   16.12444    16.569567   16.63022    16.653109\n",
      "    16.67943    16.715813   16.908503   17.311811   17.369509\n",
      "    17.412663   17.454624   17.490578   17.517567   17.536211\n",
      "    17.548132   17.555714   17.560625   17.563915   17.566156 ]]\n",
      "\n",
      " [[ 11.745774   11.745774   11.757326   11.819207   12.029899\n",
      "    12.330692   12.536519   12.619423   12.650442   12.681639\n",
      "    12.754965   12.906563   13.0801325  13.480401   14.048194\n",
      "    14.18271    14.278316   14.377332   14.447998   14.504527\n",
      "    14.846492   15.203189   15.304899   15.358472   15.500736\n",
      "    15.791011   15.938305   16.005945   16.071653   16.150951\n",
      "    16.259766   16.581821   16.966724   17.045212   17.075205\n",
      "    17.107439   17.150259   17.281342   17.52038    17.57164\n",
      "    17.616272   17.660046   17.697763   17.726469   17.74664\n",
      "    17.7598     17.768288   17.773962   17.777681   17.780304 ]]\n",
      "\n",
      " [[ 12.911939   12.911939   12.92044    12.969952   13.150453\n",
      "    13.415813   13.589561   13.649833   13.67185    13.700128\n",
      "    13.771569   13.919187   14.061499   14.308893   14.845729\n",
      "    14.984035   15.088891   15.200233   15.27915    15.305376\n",
      "    15.5576935  15.900015   16.002607   16.055346   16.17968\n",
      "    16.42406    16.557169   16.631794   16.709185   16.802692\n",
      "    16.915321   17.039204   17.363882   17.460203   17.497349\n",
      "    17.535448   17.584658   17.654133   17.728994   17.773771\n",
      "    17.81993    17.865372   17.90495    17.93542    17.957067\n",
      "    17.97142    17.98091    17.987251   17.991495   17.994404 ]]\n",
      "\n",
      " [[ 14.078098   14.078098   14.083552   14.120704   14.2710085\n",
      "    14.500934   14.64259    14.680266   14.693248   14.718639\n",
      "    14.788138   14.931822   15.042866   15.137398   15.643274\n",
      "    15.785313   15.8994665  16.023159   16.1103     16.1062\n",
      "    16.26892    16.596842   16.700315   16.752195   16.858648\n",
      "    17.057133   17.17596    17.257643   17.346716   17.454529\n",
      "    17.57083    17.496586   17.760992   17.875195   17.919493\n",
      "    17.963505   18.019056   18.026972   17.937565   17.975903\n",
      "    18.023539   18.070793   18.112135   18.144321   18.167496\n",
      "    18.183088   18.193483   18.20054    18.205309   18.2086   ]]\n",
      "\n",
      " [[ 15.244263   15.244263   15.246659   15.271461   15.391553\n",
      "    15.586054   15.695631   15.710675   15.714658   15.73714\n",
      "    15.804731   15.944457   16.024231   15.965891   16.44082\n",
      "    16.586613   16.710043   16.846085   16.94143    16.90705\n",
      "    16.980146   17.29362    17.398048   17.449068   17.537594\n",
      "    17.690182   17.794823   17.883444   17.984295   18.106318\n",
      "    18.226337   17.953968   18.158148   18.290186   18.341637\n",
      "    18.391466   18.453503   18.39981    18.146181   18.177986\n",
      "    18.227196   18.276165   18.31932    18.353224   18.377924\n",
      "    18.394756   18.406103   18.41383    18.419075   18.422699 ]]\n",
      "\n",
      " [[ 16.410427   16.410427   16.409773   16.42221    16.512102\n",
      "    16.671175   16.748667   16.741096   16.736065   16.755629\n",
      "    16.821312   16.957092   17.005598   16.794395   17.238367\n",
      "    17.387915   17.520594   17.66901    17.77258    17.707895\n",
      "    17.69135    17.990446   18.095755   18.145918   18.21656\n",
      "    18.32323    18.413687   18.509245   18.621826   18.758106\n",
      "    18.881845   18.411398   18.555307   18.705177   18.76378\n",
      "    18.819475   18.887949   18.772602   18.35475    18.380117\n",
      "    18.430805   18.48154    18.526505   18.562174   18.588305\n",
      "    18.606424   18.618727   18.62712    18.632793   18.636894 ]]\n",
      "\n",
      " [[ 17.576593   17.576593   17.572886   17.572962   17.63265\n",
      "    17.7563     17.8017     17.771511   17.757475   17.77414\n",
      "    17.837894   17.969715   17.986965   17.6229     18.035913\n",
      "    18.189192   18.331194   18.49191    18.60373    18.50872\n",
      "    18.402576   18.687271   18.793463   18.842793   18.895506\n",
      "    18.956303   19.032478   19.135141   19.259357   19.409895\n",
      "    19.537352   18.86878    18.952465   19.120167   19.185877\n",
      "    19.247532   19.322348   19.145441   18.563318   18.582249\n",
      "    18.634462   18.686914   18.733692   18.771076   18.798733\n",
      "    18.818092   18.8313     18.840408   18.846607   18.85109  ]]\n",
      "\n",
      " [[ 18.742758   18.742758   18.735998   18.723715   18.753206\n",
      "    18.841421   18.854736   18.801933   18.778877   18.792635\n",
      "    18.85448    18.982351   18.968332   18.451391   18.833458\n",
      "    18.990505   19.141745   19.314837   19.43488    19.309568\n",
      "    19.11378    19.384098   19.49117    19.53964    19.574474\n",
      "    19.589376   19.651316   19.760942   19.896887   20.061731\n",
      "    20.192862   19.326162   19.349575   19.535208   19.60802\n",
      "    19.675493   19.756794   19.51828    18.771935   18.784332\n",
      "    18.838072   18.892288   18.940926   18.979979   19.009209\n",
      "    19.029713   19.043922   19.05365    19.060421   19.06519  ]]]\n",
      "all_quantiles after squeezing shape: (18, 50)\n",
      "Error with cow SE-5c06d92d-3024, lactation 4: too many values to unpack (expected 2)\n"
     ]
    },
    {
     "name": "stderr",
     "output_type": "stream",
     "text": [
      "/Users/user/anaconda3/envs/GIGACOW/lib/python3.11/site-packages/torch/optim/lr_scheduler.py:60: UserWarning: The verbose parameter is deprecated. Please use get_last_lr() to access the learning rate.\n",
      "  warnings.warn(\n",
      " 18%|█▊        | 425/2315 [02:42<11:32,  2.73 Segments/s]"
     ]
    },
    {
     "name": "stdout",
     "output_type": "stream",
     "text": [
      "all_quantiles shape: (247, 1, 50)\n",
      "all_quantiles content: [[[38.932617 38.932617 40.480854 ... 47.60017  47.814175 47.986984]]\n",
      "\n",
      " [[38.86823  38.86823  40.42189  ... 47.552105 47.76573  47.938534]]\n",
      "\n",
      " [[38.80384  38.80384  40.36293  ... 47.50404  47.717285 47.8899  ]]\n",
      "\n",
      " ...\n",
      "\n",
      " [[22.900568 22.900568 25.79882  ... 35.63595  35.75039  35.897446]]\n",
      "\n",
      " [[22.900568 22.900568 25.79882  ... 35.63595  35.75039  35.897446]]\n",
      "\n",
      " [[22.900568 22.900568 25.79882  ... 35.63595  35.75039  35.897446]]]\n",
      "all_quantiles after squeezing shape: (247, 50)\n",
      "Error with cow SE-5c06d92d-3027, lactation 2: too many values to unpack (expected 2)\n"
     ]
    },
    {
     "name": "stderr",
     "output_type": "stream",
     "text": [
      "/Users/user/anaconda3/envs/GIGACOW/lib/python3.11/site-packages/torch/optim/lr_scheduler.py:60: UserWarning: The verbose parameter is deprecated. Please use get_last_lr() to access the learning rate.\n",
      "  warnings.warn(\n",
      " 18%|█▊        | 426/2315 [02:42<11:51,  2.66 Segments/s]"
     ]
    },
    {
     "name": "stdout",
     "output_type": "stream",
     "text": [
      "all_quantiles shape: (312, 1, 50)\n",
      "all_quantiles content: [[[17.815971 17.815971 26.450907 ... 51.299095 51.23043  51.214977]]\n",
      "\n",
      " [[17.458033 17.458033 26.300562 ... 51.567265 51.472855 51.448246]]\n",
      "\n",
      " [[17.815971 17.815971 26.450907 ... 51.299095 51.23043  51.214977]]\n",
      "\n",
      " ...\n",
      "\n",
      " [[31.32826  31.32826  32.126926 ... 41.17527  42.077824 42.40818 ]]\n",
      "\n",
      " [[31.32826  31.32826  32.126926 ... 41.17527  42.077824 42.40818 ]]\n",
      "\n",
      " [[31.32826  31.32826  32.126926 ... 41.17527  42.077824 42.40818 ]]]\n",
      "all_quantiles after squeezing shape: (312, 50)\n",
      "Error with cow SE-5c06d92d-3027, lactation 3: too many values to unpack (expected 2)\n"
     ]
    },
    {
     "name": "stderr",
     "output_type": "stream",
     "text": [
      "/Users/user/anaconda3/envs/GIGACOW/lib/python3.11/site-packages/torch/optim/lr_scheduler.py:60: UserWarning: The verbose parameter is deprecated. Please use get_last_lr() to access the learning rate.\n",
      "  warnings.warn(\n",
      " 18%|█▊        | 427/2315 [02:42<11:54,  2.64 Segments/s]"
     ]
    },
    {
     "name": "stdout",
     "output_type": "stream",
     "text": [
      "all_quantiles shape: (229, 1, 50)\n",
      "all_quantiles content: [[[38.73688  38.73688  39.61178  ... 44.280243 44.34719  44.504925]]\n",
      "\n",
      " [[38.69008  38.69008  39.5632   ... 44.247433 44.314953 44.47231 ]]\n",
      "\n",
      " [[38.643288 38.643288 39.514626 ... 44.214626 44.28253  44.44008 ]]\n",
      "\n",
      " ...\n",
      "\n",
      " [[28.114223 28.114223 28.584087 ... 36.805153 37.03632  37.132835]]\n",
      "\n",
      " [[28.067434 28.067434 28.53551  ... 36.772156 37.00428  37.10041 ]]\n",
      "\n",
      " [[28.067434 28.067434 28.53551  ... 36.772156 37.00428  37.10041 ]]]\n",
      "all_quantiles after squeezing shape: (229, 50)\n",
      "Error with cow SE-5c06d92d-3029, lactation 2: too many values to unpack (expected 2)\n"
     ]
    },
    {
     "name": "stderr",
     "output_type": "stream",
     "text": [
      "/Users/user/anaconda3/envs/GIGACOW/lib/python3.11/site-packages/torch/optim/lr_scheduler.py:60: UserWarning: The verbose parameter is deprecated. Please use get_last_lr() to access the learning rate.\n",
      "  warnings.warn(\n",
      " 18%|█▊        | 428/2315 [02:43<11:59,  2.62 Segments/s]"
     ]
    },
    {
     "name": "stdout",
     "output_type": "stream",
     "text": [
      "all_quantiles shape: (259, 1, 50)\n",
      "all_quantiles content: [[[15.439713 15.439713 30.245613 ... 55.194473 55.68447  56.050873]]\n",
      "\n",
      " [[14.106463 14.106463 30.731047 ... 57.544327 58.088303 58.489037]]\n",
      "\n",
      " [[15.439713 15.439713 30.245613 ... 55.194473 55.68447  56.050873]]\n",
      "\n",
      " ...\n",
      "\n",
      " [[24.570465 24.570465 26.921284 ... 39.10179  39.22157  39.35318 ]]\n",
      "\n",
      " [[24.570465 24.570465 26.921284 ... 39.10179  39.22157  39.35318 ]]\n",
      "\n",
      " [[24.570465 24.570465 26.921284 ... 39.10179  39.22157  39.35318 ]]]\n",
      "all_quantiles after squeezing shape: (259, 50)\n",
      "Error with cow SE-5c06d92d-3029, lactation 3: too many values to unpack (expected 2)\n"
     ]
    },
    {
     "name": "stderr",
     "output_type": "stream",
     "text": [
      "/Users/user/anaconda3/envs/GIGACOW/lib/python3.11/site-packages/torch/optim/lr_scheduler.py:60: UserWarning: The verbose parameter is deprecated. Please use get_last_lr() to access the learning rate.\n",
      "  warnings.warn(\n",
      " 19%|█▊        | 429/2315 [02:43<12:24,  2.53 Segments/s]"
     ]
    },
    {
     "name": "stdout",
     "output_type": "stream",
     "text": [
      "all_quantiles shape: (341, 1, 50)\n",
      "all_quantiles content: [[[45.227562 45.227562 46.250828 ... 57.181168 58.183098 57.76882 ]]\n",
      "\n",
      " [[45.151337 45.151337 46.173992 ... 57.110405 58.10909  57.700157]]\n",
      "\n",
      " [[45.07514  45.07514  46.097134 ... 57.039642 58.03528  57.6313  ]]\n",
      "\n",
      " ...\n",
      "\n",
      " [[18.781853 18.781853 19.585598 ... 32.643986 32.546616 33.885098]]\n",
      "\n",
      " [[18.781853 18.781853 19.585598 ... 32.643986 32.546616 33.885098]]\n",
      "\n",
      " [[18.781853 18.781853 19.585598 ... 32.643986 32.546616 33.885098]]]\n",
      "all_quantiles after squeezing shape: (341, 50)\n",
      "Error with cow SE-5c06d92d-3030, lactation 2: too many values to unpack (expected 2)\n"
     ]
    },
    {
     "name": "stderr",
     "output_type": "stream",
     "text": [
      "/Users/user/anaconda3/envs/GIGACOW/lib/python3.11/site-packages/torch/optim/lr_scheduler.py:60: UserWarning: The verbose parameter is deprecated. Please use get_last_lr() to access the learning rate.\n",
      "  warnings.warn(\n",
      " 19%|█▊        | 430/2315 [02:44<12:23,  2.54 Segments/s]"
     ]
    },
    {
     "name": "stdout",
     "output_type": "stream",
     "text": [
      "all_quantiles shape: (249, 1, 50)\n",
      "all_quantiles content: [[[31.157244 31.157244 34.007145 ... 60.78224  62.321663 63.357353]]\n",
      "\n",
      " [[31.030678 31.030678 33.90875  ... 61.01036  62.58316  63.637733]]\n",
      "\n",
      " [[31.062315 31.062315 33.933353 ... 60.95333  62.51774  63.567734]]\n",
      "\n",
      " ...\n",
      "\n",
      " [[39.16268  39.16268  40.2312   ... 46.34304  45.793915 45.611187]]\n",
      "\n",
      " [[39.19432  39.19432  40.25581  ... 46.28582  45.728683 45.541   ]]\n",
      "\n",
      " [[39.22597  39.22597  40.280415 ... 46.22879  45.66326  45.471   ]]]\n",
      "all_quantiles after squeezing shape: (249, 50)\n",
      "Error with cow SE-5c06d92d-3030, lactation 3: too many values to unpack (expected 2)\n"
     ]
    },
    {
     "name": "stderr",
     "output_type": "stream",
     "text": [
      "/Users/user/anaconda3/envs/GIGACOW/lib/python3.11/site-packages/torch/optim/lr_scheduler.py:60: UserWarning: The verbose parameter is deprecated. Please use get_last_lr() to access the learning rate.\n",
      "  warnings.warn(\n",
      " 19%|█▊        | 431/2315 [02:44<12:16,  2.56 Segments/s]"
     ]
    },
    {
     "name": "stdout",
     "output_type": "stream",
     "text": [
      "all_quantiles shape: (250, 1, 50)\n",
      "all_quantiles content: [[[43.899204 43.899204 43.976627 ... 53.059002 53.227997 53.28121 ]]\n",
      "\n",
      " [[43.82317  43.82317  43.903515 ... 52.976227 53.144264 53.199768]]\n",
      "\n",
      " [[43.747135 43.747135 43.83039  ... 52.893063 53.06053  53.118324]]\n",
      "\n",
      " ...\n",
      "\n",
      " [[25.04369  25.04369  25.842928 ... 32.457256 32.497787 33.086967]]\n",
      "\n",
      " [[24.96767  24.96767  25.769793 ... 32.37419  32.414055 33.005714]]\n",
      "\n",
      " [[24.96767  24.96767  25.769793 ... 32.37419  32.414055 33.005714]]]\n",
      "all_quantiles after squeezing shape: (250, 50)\n",
      "Error with cow SE-5c06d92d-3031, lactation 2: too many values to unpack (expected 2)\n"
     ]
    },
    {
     "name": "stderr",
     "output_type": "stream",
     "text": [
      "/Users/user/anaconda3/envs/GIGACOW/lib/python3.11/site-packages/torch/optim/lr_scheduler.py:60: UserWarning: The verbose parameter is deprecated. Please use get_last_lr() to access the learning rate.\n",
      "  warnings.warn(\n",
      " 19%|█▊        | 432/2315 [02:44<12:24,  2.53 Segments/s]"
     ]
    },
    {
     "name": "stdout",
     "output_type": "stream",
     "text": [
      "all_quantiles shape: (362, 1, 50)\n",
      "all_quantiles content: [[[24.268793 24.268793 34.25913  ... 54.637142 54.693985 54.82349 ]]\n",
      "\n",
      " [[24.304688 24.304688 34.514954 ... 55.04608  55.08537  55.213737]]\n",
      "\n",
      " [[24.268793 24.268793 34.25913  ... 54.637142 54.693985 54.82349 ]]\n",
      "\n",
      " ...\n",
      "\n",
      " [[22.693575 22.693575 23.034811 ... 36.69262  37.51583  37.705803]]\n",
      "\n",
      " [[22.693575 22.693575 23.034811 ... 36.69262  37.51583  37.705803]]\n",
      "\n",
      " [[22.693575 22.693575 23.034811 ... 36.69262  37.51583  37.705803]]]\n",
      "all_quantiles after squeezing shape: (362, 50)\n",
      "Error with cow SE-5c06d92d-3031, lactation 3: too many values to unpack (expected 2)\n"
     ]
    },
    {
     "name": "stderr",
     "output_type": "stream",
     "text": [
      "/Users/user/anaconda3/envs/GIGACOW/lib/python3.11/site-packages/torch/optim/lr_scheduler.py:60: UserWarning: The verbose parameter is deprecated. Please use get_last_lr() to access the learning rate.\n",
      "  warnings.warn(\n",
      " 19%|█▊        | 433/2315 [02:45<15:02,  2.09 Segments/s]"
     ]
    },
    {
     "name": "stdout",
     "output_type": "stream",
     "text": [
      "all_quantiles shape: (210, 1, 50)\n",
      "all_quantiles content: [[[33.313274 33.313274 34.290325 ... 40.26909  40.95325  41.175842]]\n",
      "\n",
      " [[33.26507  33.26507  34.250618 ... 40.228844 40.909573 41.132927]]\n",
      "\n",
      " [[33.216885 33.216885 34.210907 ... 40.18898  40.8659   41.08963 ]]\n",
      "\n",
      " ...\n",
      "\n",
      " [[23.33772  23.33772  26.070463 ... 31.954765 31.932638 32.23467 ]]\n",
      "\n",
      " [[23.33772  23.33772  26.070463 ... 31.954765 31.932638 32.23467 ]]\n",
      "\n",
      " [[23.33772  23.33772  26.070463 ... 31.954765 31.932638 32.23467 ]]]\n",
      "all_quantiles after squeezing shape: (210, 50)\n",
      "Error with cow SE-5c06d92d-3033, lactation 2: too many values to unpack (expected 2)\n"
     ]
    },
    {
     "name": "stderr",
     "output_type": "stream",
     "text": [
      "/Users/user/anaconda3/envs/GIGACOW/lib/python3.11/site-packages/torch/optim/lr_scheduler.py:60: UserWarning: The verbose parameter is deprecated. Please use get_last_lr() to access the learning rate.\n",
      "  warnings.warn(\n",
      " 19%|█▊        | 434/2315 [02:46<15:57,  1.97 Segments/s]"
     ]
    },
    {
     "name": "stdout",
     "output_type": "stream",
     "text": [
      "all_quantiles shape: (285, 1, 50)\n",
      "all_quantiles content: [[[29.080212 29.080212 30.374847 ... 45.172306 45.57743  45.841022]]\n",
      "\n",
      " [[29.079449 29.079449 30.374908 ... 45.13874  45.542717 45.80593 ]]\n",
      "\n",
      " [[29.077934 29.077934 30.375004 ... 45.0716   45.473476 45.735737]]\n",
      "\n",
      " ...\n",
      "\n",
      " [[28.866041 28.866041 30.389082 ... 35.667797 35.79426  35.908318]]\n",
      "\n",
      " [[28.866041 28.866041 30.389082 ... 35.667797 35.79426  35.908318]]\n",
      "\n",
      " [[28.866041 28.866041 30.389082 ... 35.667797 35.79426  35.908318]]]\n",
      "all_quantiles after squeezing shape: (285, 50)\n",
      "Error with cow SE-5c06d92d-3033, lactation 3: too many values to unpack (expected 2)\n"
     ]
    },
    {
     "name": "stderr",
     "output_type": "stream",
     "text": [
      "/Users/user/anaconda3/envs/GIGACOW/lib/python3.11/site-packages/torch/optim/lr_scheduler.py:60: UserWarning: The verbose parameter is deprecated. Please use get_last_lr() to access the learning rate.\n",
      "  warnings.warn(\n",
      " 19%|█▉        | 435/2315 [02:46<14:10,  2.21 Segments/s]"
     ]
    },
    {
     "name": "stdout",
     "output_type": "stream",
     "text": [
      "all_quantiles shape: (69, 1, 50)\n",
      "all_quantiles content: [[[26.768803 26.768803 28.368162 ... 41.524693 41.604042 41.6811  ]]\n",
      "\n",
      " [[23.429966 23.429966 25.757479 ... 42.178722 42.2863   42.391968]]\n",
      "\n",
      " [[23.626364 23.626364 25.911057 ... 42.140194 42.246056 42.350384]]\n",
      "\n",
      " ...\n",
      "\n",
      " [[36.196136 36.196136 35.739456 ... 39.678    39.67762  39.673805]]\n",
      "\n",
      " [[36.392532 36.392532 35.893036 ... 39.639664 39.63737  39.63203 ]]\n",
      "\n",
      " [[36.588932 36.588932 36.046604 ... 39.601135 39.59732  39.590073]]]\n",
      "all_quantiles after squeezing shape: (69, 50)\n",
      "Error with cow SE-5c06d92d-3033, lactation 4: too many values to unpack (expected 2)\n"
     ]
    },
    {
     "name": "stderr",
     "output_type": "stream",
     "text": [
      "/Users/user/anaconda3/envs/GIGACOW/lib/python3.11/site-packages/torch/optim/lr_scheduler.py:60: UserWarning: The verbose parameter is deprecated. Please use get_last_lr() to access the learning rate.\n",
      "  warnings.warn(\n",
      " 19%|█▉        | 436/2315 [02:46<13:27,  2.33 Segments/s]"
     ]
    },
    {
     "name": "stdout",
     "output_type": "stream",
     "text": [
      "all_quantiles shape: (193, 1, 50)\n",
      "all_quantiles content: [[[33.388004 33.388004 34.46356  ... 44.48471  45.3968   48.042866]]\n",
      "\n",
      " [[33.355103 33.355103 34.42795  ... 44.439507 45.347214 47.98145 ]]\n",
      "\n",
      " [[33.32221  33.32221  34.39233  ... 44.394302 45.297623 47.920033]]\n",
      "\n",
      " ...\n",
      "\n",
      " [[27.104937 27.104937 27.660059 ... 35.858727 35.921097 36.307526]]\n",
      "\n",
      " [[27.072048 27.072048 27.624428 ... 35.813522 35.871506 36.24611 ]]\n",
      "\n",
      " [[27.039146 27.039146 27.58882  ... 35.76832  35.821915 36.184692]]]\n",
      "all_quantiles after squeezing shape: (193, 50)\n",
      "Error with cow SE-5c06d92d-3034, lactation 2: too many values to unpack (expected 2)\n"
     ]
    },
    {
     "name": "stderr",
     "output_type": "stream",
     "text": [
      "/Users/user/anaconda3/envs/GIGACOW/lib/python3.11/site-packages/torch/optim/lr_scheduler.py:60: UserWarning: The verbose parameter is deprecated. Please use get_last_lr() to access the learning rate.\n",
      "  warnings.warn(\n",
      " 19%|█▉        | 437/2315 [02:47<13:13,  2.37 Segments/s]"
     ]
    },
    {
     "name": "stdout",
     "output_type": "stream",
     "text": [
      "all_quantiles shape: (377, 1, 50)\n",
      "all_quantiles content: [[[26.474749 26.474749 36.086132 ... 52.04372  52.087784 52.115627]]\n",
      "\n",
      " [[26.474749 26.474749 36.086132 ... 52.04372  52.087784 52.115627]]\n",
      "\n",
      " [[26.462317 26.462317 36.032722 ... 51.95923  52.005764 52.035522]]\n",
      "\n",
      " ...\n",
      "\n",
      " [[24.226105 24.226105 26.417444 ... 36.756897 37.25338  37.613106]]\n",
      "\n",
      " [[24.226105 24.226105 26.417444 ... 36.756897 37.25338  37.613106]]\n",
      "\n",
      " [[24.226105 24.226105 26.417444 ... 36.756897 37.25338  37.613106]]]\n",
      "all_quantiles after squeezing shape: (377, 50)\n",
      "Error with cow SE-5c06d92d-3034, lactation 3: too many values to unpack (expected 2)\n"
     ]
    },
    {
     "name": "stderr",
     "output_type": "stream",
     "text": [
      "/Users/user/anaconda3/envs/GIGACOW/lib/python3.11/site-packages/torch/optim/lr_scheduler.py:60: UserWarning: The verbose parameter is deprecated. Please use get_last_lr() to access the learning rate.\n",
      "  warnings.warn(\n",
      " 19%|█▉        | 438/2315 [02:47<12:50,  2.44 Segments/s]"
     ]
    },
    {
     "name": "stdout",
     "output_type": "stream",
     "text": [
      "all_quantiles shape: (250, 1, 50)\n",
      "all_quantiles content: [[[41.681618 41.681618 41.93954  ... 49.62234  49.75128  49.86744 ]]\n",
      "\n",
      " [[41.591854 41.591854 41.873203 ... 49.58515  49.715805 49.835205]]\n",
      "\n",
      " [[41.502117 41.502117 41.806843 ... 49.54796  49.68052  49.802776]]\n",
      "\n",
      " ...\n",
      "\n",
      " [[18.70476  18.70476  24.95414  ... 40.10544  40.703773 41.574287]]\n",
      "\n",
      " [[18.70476  18.70476  24.95414  ... 40.10544  40.703773 41.574287]]\n",
      "\n",
      " [[18.70476  18.70476  24.95414  ... 40.10544  40.703773 41.574287]]]\n",
      "all_quantiles after squeezing shape: (250, 50)\n",
      "Error with cow SE-5c06d92d-3035, lactation 2: too many values to unpack (expected 2)\n"
     ]
    },
    {
     "name": "stderr",
     "output_type": "stream",
     "text": [
      "/Users/user/anaconda3/envs/GIGACOW/lib/python3.11/site-packages/torch/optim/lr_scheduler.py:60: UserWarning: The verbose parameter is deprecated. Please use get_last_lr() to access the learning rate.\n",
      "  warnings.warn(\n",
      " 19%|█▉        | 439/2315 [02:47<12:35,  2.48 Segments/s]"
     ]
    },
    {
     "name": "stdout",
     "output_type": "stream",
     "text": [
      "all_quantiles shape: (304, 1, 50)\n",
      "all_quantiles content: [[[21.07632  21.07632  30.380796 ... 58.995247 59.115597 59.375954]]\n",
      "\n",
      " [[20.639956 20.639956 30.214966 ... 59.462166 59.577938 59.841347]]\n",
      "\n",
      " [[21.07632  21.07632  30.380796 ... 58.995247 59.115597 59.375954]]\n",
      "\n",
      " ...\n",
      "\n",
      " [[35.37967  35.37967  35.816048 ... 43.688393 43.956753 44.129753]]\n",
      "\n",
      " [[35.37967  35.37967  35.816048 ... 43.688393 43.956753 44.129753]]\n",
      "\n",
      " [[35.37967  35.37967  35.816048 ... 43.688393 43.956753 44.129753]]]\n",
      "all_quantiles after squeezing shape: (304, 50)\n",
      "Error with cow SE-5c06d92d-3035, lactation 3: too many values to unpack (expected 2)\n"
     ]
    },
    {
     "name": "stderr",
     "output_type": "stream",
     "text": [
      "/Users/user/anaconda3/envs/GIGACOW/lib/python3.11/site-packages/torch/optim/lr_scheduler.py:60: UserWarning: The verbose parameter is deprecated. Please use get_last_lr() to access the learning rate.\n",
      "  warnings.warn(\n",
      " 19%|█▉        | 440/2315 [02:48<12:31,  2.50 Segments/s]"
     ]
    },
    {
     "name": "stdout",
     "output_type": "stream",
     "text": [
      "all_quantiles shape: (355, 1, 50)\n",
      "all_quantiles content: [[[37.942623 37.942623 46.470592 ... 59.7517   60.321995 60.910416]]\n",
      "\n",
      " [[37.902714 37.902714 46.397423 ... 59.65919  60.228157 60.81543 ]]\n",
      "\n",
      " [[37.8628   37.8628   46.324226 ... 59.566498 60.134506 60.720444]]\n",
      "\n",
      " ...\n",
      "\n",
      " [[23.971426 23.971426 20.858324 ... 27.360916 27.514265 27.663803]]\n",
      "\n",
      " [[23.971426 23.971426 20.858324 ... 27.360916 27.514265 27.663803]]\n",
      "\n",
      " [[23.971426 23.971426 20.858324 ... 27.360916 27.514265 27.663803]]]\n",
      "all_quantiles after squeezing shape: (355, 50)\n",
      "Error with cow SE-5c06d92d-3036, lactation 2: too many values to unpack (expected 2)\n"
     ]
    },
    {
     "name": "stderr",
     "output_type": "stream",
     "text": [
      "/Users/user/anaconda3/envs/GIGACOW/lib/python3.11/site-packages/torch/optim/lr_scheduler.py:60: UserWarning: The verbose parameter is deprecated. Please use get_last_lr() to access the learning rate.\n",
      "  warnings.warn(\n",
      " 19%|█▉        | 441/2315 [02:48<12:21,  2.53 Segments/s]"
     ]
    },
    {
     "name": "stdout",
     "output_type": "stream",
     "text": [
      "all_quantiles shape: (328, 1, 50)\n",
      "all_quantiles content: [[[41.944244 41.944244 42.25043  ... 50.030518 50.44079  50.730324]]\n",
      "\n",
      " [[41.866077 41.866077 42.173462 ... 49.945255 50.354385 50.64373 ]]\n",
      "\n",
      " [[41.78792  41.78792  42.096508 ... 49.860188 50.267982 50.557137]]\n",
      "\n",
      " ...\n",
      "\n",
      " [[17.01026  17.01026  17.699205 ... 22.865868 22.887802 23.125265]]\n",
      "\n",
      " [[17.01026  17.01026  17.699205 ... 22.865868 22.887802 23.125265]]\n",
      "\n",
      " [[17.01026  17.01026  17.699205 ... 22.865868 22.887802 23.125265]]]\n",
      "all_quantiles after squeezing shape: (328, 50)\n",
      "Error with cow SE-5c06d92d-3037, lactation 2: too many values to unpack (expected 2)\n"
     ]
    },
    {
     "name": "stderr",
     "output_type": "stream",
     "text": [
      "/Users/user/anaconda3/envs/GIGACOW/lib/python3.11/site-packages/torch/optim/lr_scheduler.py:60: UserWarning: The verbose parameter is deprecated. Please use get_last_lr() to access the learning rate.\n",
      "  warnings.warn(\n",
      " 19%|█▉        | 442/2315 [02:49<12:10,  2.56 Segments/s]"
     ]
    },
    {
     "name": "stdout",
     "output_type": "stream",
     "text": [
      "all_quantiles shape: (258, 1, 50)\n",
      "all_quantiles content: [[[13.870524 13.870524 22.591627 ... 48.68278  48.65398  48.650932]]\n",
      "\n",
      " [[13.870524 13.870524 22.591627 ... 48.68278  48.65398  48.650932]]\n",
      "\n",
      " [[13.915919 13.915919 22.608505 ... 48.5178   48.49415  48.49472 ]]\n",
      "\n",
      " ...\n",
      "\n",
      " [[19.591034 19.591034 24.719154 ... 27.893827 28.50914  28.9814  ]]\n",
      "\n",
      " [[19.591034 19.591034 24.719154 ... 27.893827 28.50914  28.9814  ]]\n",
      "\n",
      " [[19.591034 19.591034 24.719154 ... 27.893827 28.50914  28.9814  ]]]\n",
      "all_quantiles after squeezing shape: (258, 50)\n",
      "Error with cow SE-5c06d92d-3039, lactation 2: too many values to unpack (expected 2)\n"
     ]
    },
    {
     "name": "stderr",
     "output_type": "stream",
     "text": [
      "/Users/user/anaconda3/envs/GIGACOW/lib/python3.11/site-packages/torch/optim/lr_scheduler.py:60: UserWarning: The verbose parameter is deprecated. Please use get_last_lr() to access the learning rate.\n",
      "  warnings.warn(\n",
      " 19%|█▉        | 443/2315 [02:49<12:42,  2.46 Segments/s]"
     ]
    },
    {
     "name": "stdout",
     "output_type": "stream",
     "text": [
      "all_quantiles shape: (265, 1, 50)\n",
      "all_quantiles content: [[[23.702353 23.702353 28.738914 ... 49.033356 49.482155 49.812313]]\n",
      "\n",
      " [[23.663927 23.663927 28.668688 ... 48.85368  49.299812 49.627876]]\n",
      "\n",
      " [[23.663927 23.663927 28.668688 ... 48.85368  49.299812 49.627876]]\n",
      "\n",
      " ...\n",
      "\n",
      " [[20.3205   20.3205   22.558594 ... 33.235836 33.432198 33.59146 ]]\n",
      "\n",
      " [[20.3205   20.3205   22.558594 ... 33.235836 33.432198 33.59146 ]]\n",
      "\n",
      " [[20.3205   20.3205   22.558594 ... 33.235836 33.432198 33.59146 ]]]\n",
      "all_quantiles after squeezing shape: (265, 50)\n",
      "Error with cow SE-5c06d92d-3039, lactation 3: too many values to unpack (expected 2)\n"
     ]
    },
    {
     "name": "stderr",
     "output_type": "stream",
     "text": [
      "/Users/user/anaconda3/envs/GIGACOW/lib/python3.11/site-packages/torch/optim/lr_scheduler.py:60: UserWarning: The verbose parameter is deprecated. Please use get_last_lr() to access the learning rate.\n",
      "  warnings.warn(\n",
      " 19%|█▉        | 445/2315 [02:49<09:35,  3.25 Segments/s]"
     ]
    },
    {
     "name": "stdout",
     "output_type": "stream",
     "text": [
      "all_quantiles shape: (212, 1, 50)\n",
      "all_quantiles content: [[[42.29078  42.29078  42.268852 ... 45.937157 45.638275 45.501514]]\n",
      "\n",
      " [[42.174995 42.174995 42.161945 ... 45.867157 45.57323  45.44048 ]]\n",
      "\n",
      " [[42.05921  42.05921  42.05502  ... 45.797153 45.508385 45.379257]]\n",
      "\n",
      " ...\n",
      "\n",
      " [[18.32304  18.32304  20.137728 ... 31.460665 32.18422  32.858944]]\n",
      "\n",
      " [[18.32304  18.32304  20.137728 ... 31.460665 32.18422  32.858944]]\n",
      "\n",
      " [[18.32304  18.32304  20.137728 ... 31.460665 32.18422  32.858944]]]\n",
      "all_quantiles after squeezing shape: (212, 50)\n",
      "Error with cow SE-5c06d92d-3040, lactation 2: too many values to unpack (expected 2)\n"
     ]
    },
    {
     "name": "stderr",
     "output_type": "stream",
     "text": [
      "/Users/user/anaconda3/envs/GIGACOW/lib/python3.11/site-packages/torch/optim/lr_scheduler.py:60: UserWarning: The verbose parameter is deprecated. Please use get_last_lr() to access the learning rate.\n",
      "  warnings.warn(\n",
      " 19%|█▉        | 446/2315 [02:50<10:31,  2.96 Segments/s]"
     ]
    },
    {
     "name": "stdout",
     "output_type": "stream",
     "text": [
      "all_quantiles shape: (260, 1, 50)\n",
      "all_quantiles content: [[[27.767275 27.767275 29.467953 ... 49.90921  50.46539  50.99392 ]]\n",
      "\n",
      " [[27.76619  27.76619  29.468643 ... 49.96986  50.52757  51.05762 ]]\n",
      "\n",
      " [[27.767275 27.767275 29.467953 ... 49.90921  50.46539  50.99392 ]]\n",
      "\n",
      " ...\n",
      "\n",
      " [[28.046953 28.046953 29.290009 ... 34.332943 34.488583 34.58309 ]]\n",
      "\n",
      " [[28.046953 28.046953 29.290009 ... 34.332943 34.488583 34.58309 ]]\n",
      "\n",
      " [[28.046953 28.046953 29.290009 ... 34.332943 34.488583 34.58309 ]]]\n",
      "all_quantiles after squeezing shape: (260, 50)\n",
      "Error with cow SE-5c06d92d-3040, lactation 3: too many values to unpack (expected 2)\n"
     ]
    },
    {
     "name": "stderr",
     "output_type": "stream",
     "text": [
      "/Users/user/anaconda3/envs/GIGACOW/lib/python3.11/site-packages/torch/optim/lr_scheduler.py:60: UserWarning: The verbose parameter is deprecated. Please use get_last_lr() to access the learning rate.\n",
      "  warnings.warn(\n",
      " 19%|█▉        | 447/2315 [02:50<10:21,  3.01 Segments/s]"
     ]
    },
    {
     "name": "stdout",
     "output_type": "stream",
     "text": [
      "all_quantiles shape: (90, 1, 50)\n",
      "all_quantiles content: [[[31.966162 31.966162 32.17623  ... 56.108093 56.501957 56.70757 ]]\n",
      "\n",
      " [[32.017765 32.017765 32.23326  ... 55.931282 56.32095  56.524086]]\n",
      "\n",
      " [[32.069347 32.069347 32.290318 ... 55.75466  56.13975  56.340786]]\n",
      "\n",
      " ...\n",
      "\n",
      " [[36.455547 36.455547 37.137974 ... 40.740776 40.74173  40.755844]]\n",
      "\n",
      " [[36.507164 36.507164 37.19498  ... 40.564156 40.560722 40.572548]]\n",
      "\n",
      " [[36.55877  36.55877  37.25201  ... 40.387535 40.379524 40.38906 ]]]\n",
      "all_quantiles after squeezing shape: (90, 50)\n",
      "Error with cow SE-5c06d92d-3040, lactation 4: too many values to unpack (expected 2)\n"
     ]
    },
    {
     "name": "stderr",
     "output_type": "stream",
     "text": [
      "/Users/user/anaconda3/envs/GIGACOW/lib/python3.11/site-packages/torch/optim/lr_scheduler.py:60: UserWarning: The verbose parameter is deprecated. Please use get_last_lr() to access the learning rate.\n",
      "  warnings.warn(\n",
      " 19%|█▉        | 448/2315 [02:51<11:33,  2.69 Segments/s]"
     ]
    },
    {
     "name": "stdout",
     "output_type": "stream",
     "text": [
      "all_quantiles shape: (584, 1, 50)\n",
      "all_quantiles content: [[[44.704983 44.704983 45.04578  ... 54.411507 54.738804 55.21507 ]]\n",
      "\n",
      " [[44.628796 44.628796 44.97441  ... 54.367638 54.694363 55.169296]]\n",
      "\n",
      " [[44.55261  44.55261  44.90303  ... 54.323574 54.649925 55.123707]]\n",
      "\n",
      " ...\n",
      "\n",
      " [[18.574047 18.574047 20.558666 ... 39.347267 39.479633 39.52408 ]]\n",
      "\n",
      " [[18.574047 18.574047 20.558666 ... 39.347267 39.479633 39.52408 ]]\n",
      "\n",
      " [[18.574047 18.574047 20.558666 ... 39.347267 39.479633 39.52408 ]]]\n",
      "all_quantiles after squeezing shape: (584, 50)\n",
      "Error with cow SE-5c06d92d-3041, lactation 2: too many values to unpack (expected 2)\n"
     ]
    },
    {
     "name": "stderr",
     "output_type": "stream",
     "text": [
      "/Users/user/anaconda3/envs/GIGACOW/lib/python3.11/site-packages/torch/optim/lr_scheduler.py:60: UserWarning: The verbose parameter is deprecated. Please use get_last_lr() to access the learning rate.\n",
      "  warnings.warn(\n",
      " 19%|█▉        | 449/2315 [02:51<10:36,  2.93 Segments/s]"
     ]
    },
    {
     "name": "stdout",
     "output_type": "stream",
     "text": [
      "all_quantiles shape: (17, 1, 50)\n",
      "all_quantiles content: [[[40.035057 40.035057 40.043472 40.053726 40.065952 40.08045  40.097282\n",
      "   40.11593  40.13796  40.164898 40.19933  40.241573 40.283485 40.31491\n",
      "   40.350006 40.395832 40.45391  40.528675 40.614697 40.68775  40.74802\n",
      "   40.801907 40.839195 40.849113 40.8288   40.798187 40.790936 40.81583\n",
      "   40.888596 41.036797 41.21113  41.31384  41.35818  41.380787 41.45546\n",
      "   42.15088  43.198013 43.278313 43.25199  43.274685 43.338013 43.49613\n",
      "   43.779755 44.068527 44.226265 44.280052 44.333454 44.481274 44.856644\n",
      "   45.668407]]\n",
      "\n",
      " [[40.035057 40.035057 40.043472 40.053726 40.065952 40.08045  40.097282\n",
      "   40.11593  40.13796  40.164898 40.19933  40.241573 40.283485 40.31491\n",
      "   40.350006 40.395832 40.45391  40.528675 40.614697 40.68775  40.74802\n",
      "   40.801907 40.839195 40.849113 40.8288   40.798187 40.790936 40.81583\n",
      "   40.888596 41.036797 41.21113  41.31384  41.35818  41.380787 41.45546\n",
      "   42.15088  43.198013 43.278313 43.25199  43.274685 43.338013 43.49613\n",
      "   43.779755 44.068527 44.226265 44.280052 44.333454 44.481274 44.856644\n",
      "   45.668407]]\n",
      "\n",
      " [[41.13009  41.13009  41.13796  41.147587 41.159534 41.177174 41.212227\n",
      "   41.260574 41.293427 41.32037  41.353367 41.397667 41.455696 41.513153\n",
      "   41.55979  41.60676  41.66498  41.74366  41.84313  41.93487  42.00668\n",
      "   42.06438  42.10396  42.119118 42.1093   42.09213  42.094704 42.122932\n",
      "   42.193317 42.333504 42.500877 42.605682 42.655945 42.682648 42.75427\n",
      "   43.38703  44.34261  44.43493  44.429203 44.45743  44.517136 44.660187\n",
      "   44.914246 45.17288  45.315548 45.366478 45.417976 45.55492  45.89176\n",
      "   46.606255]]\n",
      "\n",
      " [[42.22512  42.22512  42.23244  42.241455 42.253136 42.273876 42.327164\n",
      "   42.405174 42.448902 42.47589  42.50736  42.553852 42.62781  42.711494\n",
      "   42.76948  42.817738 42.875957 42.958736 43.07146  43.182083 43.265438\n",
      "   43.326855 43.36872  43.389034 43.38989  43.386078 43.39838  43.43004\n",
      "   43.498135 43.63022  43.790623 43.897438 43.953705 43.98451  44.052883\n",
      "   44.623566 45.48683  45.591923 45.60604  45.64037  45.69645  45.82405\n",
      "   46.048927 46.277237 46.404648 46.452713 46.502872 46.62819  46.926876\n",
      "   47.54448 ]]\n",
      "\n",
      " [[43.320152 43.320152 43.326923 43.33532  43.346737 43.37058  43.442104\n",
      "   43.549774 43.60442  43.631313 43.66145  43.70999  43.79997  43.909786\n",
      "   43.979214 44.02857  44.08703  44.173904 44.299793 44.429203 44.52419\n",
      "   44.589325 44.63339  44.659042 44.670387 44.68012  44.702053 44.737244\n",
      "   44.802757 44.926926 45.080376 45.189285 45.251556 45.28637  45.3516\n",
      "   45.859715 46.631237 46.748924 46.783066 46.823116 46.87557  46.988106\n",
      "   47.18361  47.38159  47.493744 47.53914  47.587585 47.701645 47.961994\n",
      "   48.48232 ]]\n",
      "\n",
      " [[44.41521  44.41521  44.42141  44.42918  44.440315 44.46728  44.55707\n",
      "   44.694424 44.759895 44.786785 44.81544  44.86613  44.972134 45.108078\n",
      "   45.188995 45.2395   45.2981   45.38889  45.528122 45.676514 45.782757\n",
      "   45.8519   45.89815  45.928955 45.95089  45.974064 46.00582  46.04435\n",
      "   46.10748  46.223732 46.37003  46.481133 46.54932  46.58832  46.65031\n",
      "   47.09606  47.77546  47.905922 47.96009  48.005672 48.055077 48.15216\n",
      "   48.3181   48.485756 48.58303  48.62537  48.67248  48.77491  48.997112\n",
      "   49.420357]]\n",
      "\n",
      " [[45.51023  45.51023  45.515903 45.52305  45.53392  45.56396  45.672035\n",
      "   45.839024 45.915413 45.94226  45.969486 46.02222  46.144295 46.30642\n",
      "   46.398685 46.450375 46.50917  46.603962 46.75646  46.923733 47.041508\n",
      "   47.114277 47.16301  47.198864 47.231388 47.268105 47.30949  47.35155\n",
      "   47.4122   47.52035  47.659775 47.77298  47.84708  47.890087 47.949028\n",
      "   48.332405 48.920055 49.06273  49.136925 49.188614 49.2342   49.31621\n",
      "   49.45259  49.5903   49.672127 49.711605 49.757195 49.848557 50.03223\n",
      "   50.35839 ]]\n",
      "\n",
      " [[46.605278 46.605278 46.610367 46.616932 46.6275   46.660686 46.78695\n",
      "   46.983692 47.07088  47.09773  47.123478 47.17841  47.316452 47.50471\n",
      "   47.60842  47.661304 47.720146 47.819134 47.98479  48.170853 48.300167\n",
      "   48.376842 48.427673 48.468876 48.511982 48.561954 48.61326  48.658657\n",
      "   48.716927 48.817158 48.949528 49.06473  49.14484  49.192043 49.24774\n",
      "   49.568745 50.064278 50.219727 50.31395  50.37136  50.41332  50.480267\n",
      "   50.587273 50.694653 50.76122  50.798035 50.8419   50.92182  51.067352\n",
      "   51.296425]]\n",
      "\n",
      " [[47.70032  47.70032  47.70486  47.71079  47.7211   47.75736  47.901917\n",
      "   48.128292 48.226402 48.253155 48.27757  48.3345   48.488617 48.703003\n",
      "   48.818207 48.872135 48.931313 49.03412  49.213123 49.418068 49.558926\n",
      "   49.63932  49.69244  49.738785 49.79248  49.85599  49.916836 49.96586\n",
      "   50.02165  50.113964 50.23918  50.35667  50.4425   50.494    50.54626\n",
      "   50.80509  51.208687 51.37653  51.49097  51.5543   51.592636 51.64413\n",
      "   51.721954 51.79882  51.85051  51.88427  51.926804 51.995277 52.10247\n",
      "   52.234264]]\n",
      "\n",
      " [[48.795353 48.795353 48.799355 48.80465  48.8147   48.85406  49.016857\n",
      "   49.27294  49.381874 49.408627 49.43156  49.490692 49.660778 49.90129\n",
      "   50.027893 50.08311  50.14229  50.24919  50.441547 50.665188 50.817585\n",
      "   50.901886 50.957203 51.008602 51.073074 51.14994  51.220608 51.27306\n",
      "   51.32637  51.41058  51.528927 51.648518 51.740456 51.795765 51.84498\n",
      "   52.041435 52.352905 52.53353  52.667995 52.736855 52.77195  52.80819\n",
      "   52.856636 52.903175 52.939415 52.970886 53.01151  53.06854  53.13759\n",
      "   53.172493]]\n",
      "\n",
      " [[49.89039  49.89039  49.893833 49.898525 49.90828  49.950764 50.131817\n",
      "   50.41754  50.53735  50.564144 50.5856   50.64678  50.832935 51.099583\n",
      "   51.237675 51.29404  51.35326  51.464363 51.669785 51.9124   52.07634\n",
      "   52.164364 52.22187  52.278614 52.353573 52.44398  52.52428  52.580162\n",
      "   52.631092 52.707386 52.81868  52.940273 53.038216 53.09753  53.143883\n",
      "   53.277588 53.497505 53.69034  53.845024 53.9196   53.95126  53.972054\n",
      "   53.991318 54.00753  54.02851  54.05712  54.096222 54.142185 54.172707\n",
      "   54.110336]]\n",
      "\n",
      " [[50.98543  50.98543  50.988316 50.992393 51.001884 51.047443 51.246784\n",
      "   51.56217  51.69284  51.71957  51.739643 51.80297  52.0051   52.29788\n",
      "   52.44741  52.50487  52.564335 52.679443 52.898212 53.15962  53.334904\n",
      "   53.426838 53.486725 53.548523 53.63407  53.737926 53.828045 53.887268\n",
      "   53.935814 54.004093 54.108334 54.232212 54.335976 54.399487 54.4424\n",
      "   54.513927 54.64191  54.847332 55.02186  55.10254  55.130386 55.13611\n",
      "   55.12581  55.111885 55.117798 55.143543 55.180927 55.21545  55.207825\n",
      "   55.048367]]\n",
      "\n",
      " [[52.08047  52.08047  52.082806 52.086254 52.09546  52.14417  52.361702\n",
      "   52.706814 52.84834  52.875042 52.893684 52.959057 53.17726  53.496216\n",
      "   53.65715  53.715797 53.775402 53.89442  54.12655  54.40683  54.59366\n",
      "   54.689312 54.751396 54.81853  54.91466  55.031868 55.13172  55.194473\n",
      "   55.240532 55.300808 55.39818  55.523872 55.63373  55.701443 55.74112\n",
      "   55.750275 55.786133 56.004333 56.198883 56.285286 56.3097   56.299973\n",
      "   56.26049  56.216236 56.20708  56.22959  56.26583  56.28891  56.242943\n",
      "   55.986404]]\n",
      "\n",
      " [[53.175507 53.175507 53.177288 53.180126 53.18906  53.24085  53.47667\n",
      "   53.851414 54.003857 54.03051  54.04768  54.11525  54.34942  54.69446\n",
      "   54.866886 54.926727 54.986427 55.109592 55.35488  55.65395  55.852413\n",
      "   55.951782 56.016155 56.088448 56.19516  56.325817 56.43549  56.501575\n",
      "   56.545254 56.597515 56.687923 56.81572  56.93149  57.0034   57.039642\n",
      "   56.986618 56.930542 57.16133  57.375713 57.468033 57.48901  57.46422\n",
      "   57.39498  57.320595 57.29599  57.316208 57.350536 57.362366 57.27787\n",
      "   56.92444 ]]\n",
      "\n",
      " [[54.270542 54.270542 54.271767 54.274    54.282654 54.33756  54.591606\n",
      "   54.996037 55.159355 55.185986 55.20172  55.271336 55.521584 55.8928\n",
      "   56.076622 56.13761  56.197453 56.324673 56.58321  56.90117  57.11107\n",
      "   57.214355 57.280922 57.35836  57.47566  57.619858 57.73916  57.80868\n",
      "   57.850075 57.89423  57.977577 58.107567 58.22925  58.305164 58.338543\n",
      "   58.222958 58.07495  58.317947 58.55293  58.65078  58.668327 58.628082\n",
      "   58.52966  58.424755 58.385273 58.402443 58.43544  58.43563  58.31318\n",
      "   57.86228 ]]\n",
      "\n",
      " [[55.365585 55.365585 55.366264 55.367863 55.37624  55.43424  55.70657\n",
      "   56.14066  56.314827 56.34143  56.355762 56.427525 56.693745 57.091095\n",
      "   57.286354 57.348488 57.408573 57.53965  57.811638 58.14829  58.369827\n",
      "   58.476734 58.545685 58.62837  58.756157 58.913803 59.04293  59.115887\n",
      "   59.1547   59.191036 59.26723  59.399414 59.527016 59.60712  59.63707\n",
      "   59.4593   59.21936  59.474945 59.729763 59.833717 59.84745  59.792133\n",
      "   59.66415  59.529305 59.474373 59.48887  59.519955 59.509087 59.348293\n",
      "   58.800503]]\n",
      "\n",
      " [[56.460617 56.460617 56.460747 56.461723 56.469833 56.530926 56.821537\n",
      "   57.285282 57.470318 57.496902 57.509804 57.58362  57.865902 58.289383\n",
      "   58.49609  58.559418 58.619595 58.75482  59.039875 59.3956   59.628387\n",
      "   59.7393   59.810448 59.89828  60.036755 60.207745 60.346603 60.422993\n",
      "   60.459423 60.487747 60.556984 60.69126  60.824966 60.908886 60.935783\n",
      "   60.69565  60.36358  60.63194  60.90679  61.016273 61.02676  60.95619\n",
      "   60.798832 60.63366  60.56347  60.5751   60.60486  60.582542 60.38341\n",
      "   59.73835 ]]]\n",
      "all_quantiles after squeezing shape: (17, 50)\n",
      "Error with cow SE-5c06d92d-3041, lactation 3: too many values to unpack (expected 2)\n"
     ]
    },
    {
     "name": "stderr",
     "output_type": "stream",
     "text": [
      "/Users/user/anaconda3/envs/GIGACOW/lib/python3.11/site-packages/torch/optim/lr_scheduler.py:60: UserWarning: The verbose parameter is deprecated. Please use get_last_lr() to access the learning rate.\n",
      "  warnings.warn(\n",
      " 19%|█▉        | 450/2315 [02:51<11:13,  2.77 Segments/s]"
     ]
    },
    {
     "name": "stdout",
     "output_type": "stream",
     "text": [
      "all_quantiles shape: (386, 1, 50)\n",
      "all_quantiles content: [[[35.290146 35.290146 37.914597 ... 58.501244 58.735466 58.925434]]\n",
      "\n",
      " [[35.28545  35.28545  37.90474  ... 58.444214 58.678055 58.86726 ]]\n",
      "\n",
      " [[35.28074  35.28074  37.894855 ... 58.386993 58.620453 58.80909 ]]\n",
      "\n",
      " ...\n",
      "\n",
      " [[33.5881   33.5881   34.340202 ... 37.845802 37.878227 37.895393]]\n",
      "\n",
      " [[33.5881   33.5881   34.340202 ... 37.845802 37.878227 37.895393]]\n",
      "\n",
      " [[33.5881   33.5881   34.340202 ... 37.845802 37.878227 37.895393]]]\n",
      "all_quantiles after squeezing shape: (386, 50)\n",
      "Error with cow SE-5c06d92d-3043, lactation 2: too many values to unpack (expected 2)\n"
     ]
    },
    {
     "name": "stderr",
     "output_type": "stream",
     "text": [
      "/Users/user/anaconda3/envs/GIGACOW/lib/python3.11/site-packages/torch/optim/lr_scheduler.py:60: UserWarning: The verbose parameter is deprecated. Please use get_last_lr() to access the learning rate.\n",
      "  warnings.warn(\n",
      " 19%|█▉        | 451/2315 [02:52<11:19,  2.74 Segments/s]"
     ]
    },
    {
     "name": "stdout",
     "output_type": "stream",
     "text": [
      "all_quantiles shape: (221, 1, 50)\n",
      "all_quantiles content: [[[30.601501 30.601501 31.968401 ... 61.258125 61.982155 62.866592]]\n",
      "\n",
      " [[30.669735 30.669735 32.03032  ... 61.196518 61.91826  62.800217]]\n",
      "\n",
      " [[30.73797  30.73797  32.092236 ... 61.13472  61.854362 62.734028]]\n",
      "\n",
      " ...\n",
      "\n",
      " [[45.68482  45.68482  45.65024  ... 47.62745  47.88055  48.202705]]\n",
      "\n",
      " [[45.753067 45.753067 45.712162 ... 47.565838 47.81685  48.13614 ]]\n",
      "\n",
      " [[45.821327 45.821327 45.774067 ... 47.50423  47.75295  48.069763]]]\n",
      "all_quantiles after squeezing shape: (221, 50)\n",
      "Error with cow SE-5c06d92d-3043, lactation 3: too many values to unpack (expected 2)\n"
     ]
    },
    {
     "name": "stderr",
     "output_type": "stream",
     "text": [
      "/Users/user/anaconda3/envs/GIGACOW/lib/python3.11/site-packages/torch/optim/lr_scheduler.py:60: UserWarning: The verbose parameter is deprecated. Please use get_last_lr() to access the learning rate.\n",
      "  warnings.warn(\n",
      " 20%|█▉        | 452/2315 [02:52<11:28,  2.70 Segments/s]"
     ]
    },
    {
     "name": "stdout",
     "output_type": "stream",
     "text": [
      "all_quantiles shape: (299, 1, 50)\n",
      "all_quantiles content: [[[34.708775 34.708775 34.9807   ... 46.60206  46.842    47.113987]]\n",
      "\n",
      " [[34.688972 34.688972 34.967815 ... 46.56658  46.805954 47.07775 ]]\n",
      "\n",
      " [[34.669197 34.669197 34.954914 ... 46.530724 46.770092 47.041317]]\n",
      "\n",
      " ...\n",
      "\n",
      " [[28.832436 28.832436 31.151926 ... 35.996628 36.182022 36.315536]]\n",
      "\n",
      " [[28.812645 28.812645 31.13904  ... 35.96115  36.145973 36.279106]]\n",
      "\n",
      " [[28.812645 28.812645 31.13904  ... 35.96115  36.145973 36.279106]]]\n",
      "all_quantiles after squeezing shape: (299, 50)\n",
      "Error with cow SE-5c06d92d-3044, lactation 2: too many values to unpack (expected 2)\n"
     ]
    },
    {
     "name": "stderr",
     "output_type": "stream",
     "text": [
      "/Users/user/anaconda3/envs/GIGACOW/lib/python3.11/site-packages/torch/optim/lr_scheduler.py:60: UserWarning: The verbose parameter is deprecated. Please use get_last_lr() to access the learning rate.\n",
      "  warnings.warn(\n",
      " 20%|█▉        | 453/2315 [02:52<11:36,  2.67 Segments/s]"
     ]
    },
    {
     "name": "stdout",
     "output_type": "stream",
     "text": [
      "all_quantiles shape: (314, 1, 50)\n",
      "all_quantiles content: [[[32.76304  32.76304  35.702168 ... 51.98803  52.08225  52.212334]]\n",
      "\n",
      " [[32.754467 32.754467 35.685062 ... 51.942825 52.03743  52.16961 ]]\n",
      "\n",
      " [[32.745872 32.745872 35.667965 ... 51.89724  51.992798 52.126694]]\n",
      "\n",
      " ...\n",
      "\n",
      " [[30.075811 30.075811 30.350433 ... 37.75978  38.09471  38.817596]]\n",
      "\n",
      " [[30.067228 30.067228 30.33334  ... 37.714577 38.04989  38.77468 ]]\n",
      "\n",
      " [[30.058645 30.058645 30.316244 ... 37.66899  38.005257 38.731956]]]\n",
      "all_quantiles after squeezing shape: (314, 50)\n",
      "Error with cow SE-5c06d92d-3044, lactation 3: too many values to unpack (expected 2)\n"
     ]
    },
    {
     "name": "stderr",
     "output_type": "stream",
     "text": [
      "/Users/user/anaconda3/envs/GIGACOW/lib/python3.11/site-packages/torch/optim/lr_scheduler.py:60: UserWarning: The verbose parameter is deprecated. Please use get_last_lr() to access the learning rate.\n",
      "  warnings.warn(\n",
      " 20%|█▉        | 455/2315 [02:53<09:00,  3.44 Segments/s]"
     ]
    },
    {
     "name": "stdout",
     "output_type": "stream",
     "text": [
      "all_quantiles shape: (321, 1, 50)\n",
      "all_quantiles content: [[[22.402525 22.402525 27.308273 ... 55.591007 55.8712   56.08406 ]]\n",
      "\n",
      " [[22.402525 22.402525 27.308273 ... 55.591007 55.8712   56.08406 ]]\n",
      "\n",
      " [[22.4375   22.4375   27.329445 ... 55.53493  55.81493  56.028366]]\n",
      "\n",
      " ...\n",
      "\n",
      " [[33.48961  33.48961  34.01855  ... 37.802315 38.009262 38.446808]]\n",
      "\n",
      " [[33.48961  33.48961  34.01855  ... 37.802315 38.009262 38.446808]]\n",
      "\n",
      " [[33.48961  33.48961  34.01855  ... 37.802315 38.009262 38.446808]]]\n",
      "all_quantiles after squeezing shape: (321, 50)\n",
      "Error with cow SE-5c06d92d-3045, lactation 2: too many values to unpack (expected 2)\n"
     ]
    },
    {
     "name": "stderr",
     "output_type": "stream",
     "text": [
      "/Users/user/anaconda3/envs/GIGACOW/lib/python3.11/site-packages/torch/optim/lr_scheduler.py:60: UserWarning: The verbose parameter is deprecated. Please use get_last_lr() to access the learning rate.\n",
      "  warnings.warn(\n",
      " 20%|█▉        | 456/2315 [02:53<09:34,  3.23 Segments/s]"
     ]
    },
    {
     "name": "stdout",
     "output_type": "stream",
     "text": [
      "all_quantiles shape: (216, 1, 50)\n",
      "all_quantiles content: [[[15.709519 15.709519 17.756557 ... 58.740997 59.148212 59.261513]]\n",
      "\n",
      " [[15.609001 15.609001 17.663622 ... 58.825874 59.233665 59.34486 ]]\n",
      "\n",
      " [[15.809989 15.809989 17.84954  ... 58.65631  59.062954 59.177776]]\n",
      "\n",
      " ...\n",
      "\n",
      " [[37.615166 37.615166 38.02354  ... 40.22999  40.5365   41.064262]]\n",
      "\n",
      " [[37.71565  37.71565  38.116512 ... 40.14511  40.45124  40.98053 ]]\n",
      "\n",
      " [[37.816143 37.816143 38.209473 ... 40.060234 40.365788 40.89718 ]]]\n",
      "all_quantiles after squeezing shape: (216, 50)\n",
      "Error with cow SE-5c06d92d-3045, lactation 3: too many values to unpack (expected 2)\n"
     ]
    },
    {
     "name": "stderr",
     "output_type": "stream",
     "text": [
      "/Users/user/anaconda3/envs/GIGACOW/lib/python3.11/site-packages/torch/optim/lr_scheduler.py:60: UserWarning: The verbose parameter is deprecated. Please use get_last_lr() to access the learning rate.\n",
      "  warnings.warn(\n",
      " 20%|█▉        | 457/2315 [02:54<09:27,  3.27 Segments/s]"
     ]
    },
    {
     "name": "stdout",
     "output_type": "stream",
     "text": [
      "all_quantiles shape: (41, 1, 50)\n",
      "all_quantiles content: [[[36.59782  36.59782  29.926353 ... 38.57479  38.570404 38.56411 ]]\n",
      "\n",
      " [[34.978176 34.978176 30.537914 ... 38.238335 38.253403 38.261032]]\n",
      "\n",
      " [[33.358532 33.358532 31.149487 ... 37.90207  37.9364   37.957954]]\n",
      "\n",
      " ...\n",
      "\n",
      " [[30.119228 30.119228 32.372627 ... 37.229347 37.30259  37.35161 ]]\n",
      "\n",
      " [[30.119228 30.119228 32.372627 ... 37.229347 37.30259  37.35161 ]]\n",
      "\n",
      " [[30.119228 30.119228 32.372627 ... 37.229347 37.30259  37.35161 ]]]\n",
      "all_quantiles after squeezing shape: (41, 50)\n",
      "Error with cow SE-5c06d92d-3046, lactation 1: too many values to unpack (expected 2)\n"
     ]
    },
    {
     "name": "stderr",
     "output_type": "stream",
     "text": [
      "/Users/user/anaconda3/envs/GIGACOW/lib/python3.11/site-packages/torch/optim/lr_scheduler.py:60: UserWarning: The verbose parameter is deprecated. Please use get_last_lr() to access the learning rate.\n",
      "  warnings.warn(\n",
      " 20%|█▉        | 458/2315 [02:54<10:10,  3.04 Segments/s]"
     ]
    },
    {
     "name": "stdout",
     "output_type": "stream",
     "text": [
      "all_quantiles shape: (362, 1, 50)\n",
      "all_quantiles content: [[[29.211508 29.211508 33.459198 ... 57.014465 57.240486 57.508274]]\n",
      "\n",
      " [[28.813803 28.813803 33.166313 ... 57.7177   57.948494 58.221817]]\n",
      "\n",
      " [[29.056847 29.056847 33.345306 ... 57.28798  57.515717 57.785793]]\n",
      "\n",
      " ...\n",
      "\n",
      " [[36.79     36.79     39.040077 ... 43.61267  43.749237 43.911552]]\n",
      "\n",
      " [[36.79     36.79     39.040077 ... 43.61267  43.749237 43.911552]]\n",
      "\n",
      " [[36.79     36.79     39.040077 ... 43.61267  43.749237 43.911552]]]\n",
      "all_quantiles after squeezing shape: (362, 50)\n",
      "Error with cow SE-5c06d92d-3046, lactation 2: too many values to unpack (expected 2)\n"
     ]
    },
    {
     "name": "stderr",
     "output_type": "stream",
     "text": [
      "/Users/user/anaconda3/envs/GIGACOW/lib/python3.11/site-packages/torch/optim/lr_scheduler.py:60: UserWarning: The verbose parameter is deprecated. Please use get_last_lr() to access the learning rate.\n",
      "  warnings.warn(\n",
      " 20%|█▉        | 459/2315 [02:54<10:23,  2.98 Segments/s]"
     ]
    },
    {
     "name": "stdout",
     "output_type": "stream",
     "text": [
      "all_quantiles shape: (148, 1, 50)\n",
      "all_quantiles content: [[[29.88447  29.88447  32.47955  ... 53.116985 52.61898  52.54116 ]]\n",
      "\n",
      " [[29.88447  29.88447  32.47955  ... 53.116985 52.61898  52.54116 ]]\n",
      "\n",
      " [[29.88447  29.88447  32.47955  ... 53.116985 52.61898  52.54116 ]]\n",
      "\n",
      " ...\n",
      "\n",
      " [[49.905617 49.905617 49.868427 ... 56.589508 58.190914 58.715626]]\n",
      "\n",
      " [[50.06839  50.06839  50.00981  ... 56.617737 58.236122 58.765793]]\n",
      "\n",
      " [[50.23116  50.23116  50.151165 ... 56.646152 58.281322 58.815956]]]\n",
      "all_quantiles after squeezing shape: (148, 50)\n",
      "Error with cow SE-5c06d92d-3046, lactation 3: too many values to unpack (expected 2)\n"
     ]
    },
    {
     "name": "stderr",
     "output_type": "stream",
     "text": [
      "/Users/user/anaconda3/envs/GIGACOW/lib/python3.11/site-packages/torch/optim/lr_scheduler.py:60: UserWarning: The verbose parameter is deprecated. Please use get_last_lr() to access the learning rate.\n",
      "  warnings.warn(\n",
      " 20%|█▉        | 461/2315 [02:55<08:37,  3.58 Segments/s]"
     ]
    },
    {
     "name": "stdout",
     "output_type": "stream",
     "text": [
      "all_quantiles shape: (399, 1, 50)\n",
      "all_quantiles content: [[[34.219624 34.219624 36.488785 ... 55.56278  55.79872  56.111904]]\n",
      "\n",
      " [[34.21453  34.21453  36.479042 ... 55.5109   55.74627  56.059643]]\n",
      "\n",
      " [[34.209442 34.209442 36.469303 ... 55.458828 55.6942   56.00719 ]]\n",
      "\n",
      " ...\n",
      "\n",
      " [[32.377075 32.377075 32.966194 ... 36.758804 36.904526 37.12845 ]]\n",
      "\n",
      " [[32.377075 32.377075 32.966194 ... 36.758804 36.904526 37.12845 ]]\n",
      "\n",
      " [[32.377075 32.377075 32.966194 ... 36.758804 36.904526 37.12845 ]]]\n",
      "all_quantiles after squeezing shape: (399, 50)\n",
      "Error with cow SE-5c06d92d-3047, lactation 2: too many values to unpack (expected 2)\n"
     ]
    },
    {
     "name": "stderr",
     "output_type": "stream",
     "text": [
      "/Users/user/anaconda3/envs/GIGACOW/lib/python3.11/site-packages/torch/optim/lr_scheduler.py:60: UserWarning: The verbose parameter is deprecated. Please use get_last_lr() to access the learning rate.\n",
      "  warnings.warn(\n",
      " 20%|█▉        | 462/2315 [02:55<09:26,  3.27 Segments/s]"
     ]
    },
    {
     "name": "stdout",
     "output_type": "stream",
     "text": [
      "all_quantiles shape: (198, 1, 50)\n",
      "all_quantiles content: [[[38.17451  38.17451  40.412426 ... 57.275963 57.453346 57.590485]]\n",
      "\n",
      " [[38.17451  38.17451  40.412426 ... 57.275963 57.453346 57.590485]]\n",
      "\n",
      " [[38.17451  38.17451  40.412426 ... 57.275963 57.453346 57.590485]]\n",
      "\n",
      " ...\n",
      "\n",
      " [[46.29476  46.29476  46.26188  ... 49.64065  49.840164 50.00229 ]]\n",
      "\n",
      " [[46.360775 46.360775 46.309433 ... 49.578663 49.778362 49.940487]]\n",
      "\n",
      " [[46.426807 46.426807 46.356987 ... 49.516483 49.716373 49.87888 ]]]\n",
      "all_quantiles after squeezing shape: (198, 50)\n",
      "Error with cow SE-5c06d92d-3047, lactation 3: too many values to unpack (expected 2)\n"
     ]
    },
    {
     "name": "stderr",
     "output_type": "stream",
     "text": [
      "/Users/user/anaconda3/envs/GIGACOW/lib/python3.11/site-packages/torch/optim/lr_scheduler.py:60: UserWarning: The verbose parameter is deprecated. Please use get_last_lr() to access the learning rate.\n",
      "  warnings.warn(\n",
      " 20%|██        | 463/2315 [02:55<09:52,  3.12 Segments/s]"
     ]
    },
    {
     "name": "stdout",
     "output_type": "stream",
     "text": [
      "all_quantiles shape: (204, 1, 50)\n",
      "all_quantiles content: [[[37.945683  37.945683  38.75775   ... 46.557045  46.671295  48.229404 ]]\n",
      "\n",
      " [[37.81571   37.81571   38.63848   ... 46.426388  46.545406  48.099518 ]]\n",
      "\n",
      " [[37.685734  37.685734  38.51922   ... 46.29574   46.419716  47.969627 ]]\n",
      "\n",
      " ...\n",
      "\n",
      " [[11.9508505 11.9508505 14.903903  ... 20.43104   21.514702  22.255993 ]]\n",
      "\n",
      " [[11.9508505 11.9508505 14.903903  ... 20.43104   21.514702  22.255993 ]]\n",
      "\n",
      " [[11.9508505 11.9508505 14.903903  ... 20.43104   21.514702  22.255993 ]]]\n",
      "all_quantiles after squeezing shape: (204, 50)\n",
      "Error with cow SE-5c06d92d-3048, lactation 2: too many values to unpack (expected 2)\n"
     ]
    },
    {
     "name": "stderr",
     "output_type": "stream",
     "text": [
      "/Users/user/anaconda3/envs/GIGACOW/lib/python3.11/site-packages/torch/optim/lr_scheduler.py:60: UserWarning: The verbose parameter is deprecated. Please use get_last_lr() to access the learning rate.\n",
      "  warnings.warn(\n",
      " 20%|██        | 464/2315 [02:56<10:20,  2.98 Segments/s]"
     ]
    },
    {
     "name": "stdout",
     "output_type": "stream",
     "text": [
      "all_quantiles shape: (262, 1, 50)\n",
      "all_quantiles content: [[[25.561892 25.561892 28.529322 ... 48.79875  48.986626 49.24736 ]]\n",
      "\n",
      " [[25.561892 25.561892 28.529322 ... 48.79875  48.986626 49.24736 ]]\n",
      "\n",
      " [[25.556898 25.556898 28.51417  ... 48.72932  48.91796  49.17946 ]]\n",
      "\n",
      " ...\n",
      "\n",
      " [[24.261284 24.261284 24.590145 ... 30.735682 31.151962 31.575584]]\n",
      "\n",
      " [[24.261284 24.261284 24.590145 ... 30.735682 31.151962 31.575584]]\n",
      "\n",
      " [[24.261284 24.261284 24.590145 ... 30.735682 31.151962 31.575584]]]\n",
      "all_quantiles after squeezing shape: (262, 50)\n",
      "Error with cow SE-5c06d92d-3048, lactation 3: too many values to unpack (expected 2)\n"
     ]
    },
    {
     "name": "stderr",
     "output_type": "stream",
     "text": [
      "/Users/user/anaconda3/envs/GIGACOW/lib/python3.11/site-packages/torch/optim/lr_scheduler.py:60: UserWarning: The verbose parameter is deprecated. Please use get_last_lr() to access the learning rate.\n",
      "  warnings.warn(\n",
      " 20%|██        | 465/2315 [02:56<10:13,  3.02 Segments/s]"
     ]
    },
    {
     "name": "stdout",
     "output_type": "stream",
     "text": [
      "all_quantiles shape: (93, 1, 50)\n",
      "all_quantiles content: [[[29.620218 29.620218 29.720306 ... 50.29564  49.95956  49.68395 ]]\n",
      "\n",
      " [[29.748903 29.748903 29.849648 ... 50.263214 49.939728 49.67327 ]]\n",
      "\n",
      " [[29.877565 29.877565 29.979013 ... 50.23079  49.91989  49.66259 ]]\n",
      "\n",
      " ...\n",
      "\n",
      " [[41.201664 41.201664 41.361534 ... 47.377586 48.179245 48.715206]]\n",
      "\n",
      " [[41.33035  41.33035  41.490875 ... 47.34516  48.1596   48.704147]]\n",
      "\n",
      " [[41.459023 41.459023 41.620228 ... 47.312737 48.139763 48.693466]]]\n",
      "all_quantiles after squeezing shape: (93, 50)\n",
      "Error with cow SE-5c06d92d-3048, lactation 4: too many values to unpack (expected 2)\n"
     ]
    },
    {
     "name": "stderr",
     "output_type": "stream",
     "text": [
      "/Users/user/anaconda3/envs/GIGACOW/lib/python3.11/site-packages/torch/optim/lr_scheduler.py:60: UserWarning: The verbose parameter is deprecated. Please use get_last_lr() to access the learning rate.\n",
      "  warnings.warn(\n",
      " 20%|██        | 467/2315 [02:57<08:18,  3.71 Segments/s]"
     ]
    },
    {
     "name": "stdout",
     "output_type": "stream",
     "text": [
      "all_quantiles shape: (291, 1, 50)\n",
      "all_quantiles content: [[[33.955406 33.955406 34.81791  ... 55.649372 55.834766 55.96981 ]]\n",
      "\n",
      " [[33.955406 33.955406 34.81791  ... 55.649372 55.834766 55.96981 ]]\n",
      "\n",
      " [[33.939945 33.939945 34.802696 ... 55.577847 55.76324  55.898094]]\n",
      "\n",
      " ...\n",
      "\n",
      " [[29.504627 29.504627 30.435465 ... 35.107994 35.201454 35.347557]]\n",
      "\n",
      " [[29.504627 29.504627 30.435465 ... 35.107994 35.201454 35.347557]]\n",
      "\n",
      " [[29.504627 29.504627 30.435465 ... 35.107994 35.201454 35.347557]]]\n",
      "all_quantiles after squeezing shape: (291, 50)\n",
      "Error with cow SE-5c06d92d-3049, lactation 2: too many values to unpack (expected 2)\n"
     ]
    },
    {
     "name": "stderr",
     "output_type": "stream",
     "text": [
      "/Users/user/anaconda3/envs/GIGACOW/lib/python3.11/site-packages/torch/optim/lr_scheduler.py:60: UserWarning: The verbose parameter is deprecated. Please use get_last_lr() to access the learning rate.\n",
      "  warnings.warn(\n",
      " 20%|██        | 468/2315 [02:57<09:15,  3.32 Segments/s]"
     ]
    },
    {
     "name": "stdout",
     "output_type": "stream",
     "text": [
      "all_quantiles shape: (253, 1, 50)\n",
      "all_quantiles content: [[[20.66245  20.66245  24.472166 ... 67.7351   68.2621   68.55202 ]]\n",
      "\n",
      " [[20.66245  20.66245  24.472166 ... 67.7351   68.2621   68.55202 ]]\n",
      "\n",
      " [[20.725536 20.725536 24.52774  ... 67.48104  68.003845 68.29147 ]]\n",
      "\n",
      " ...\n",
      "\n",
      " [[28.579353 28.579353 31.446623 ... 35.839844 35.845947 35.85396 ]]\n",
      "\n",
      " [[28.610909 28.610909 31.47441  ... 35.712624 35.71682  35.723495]]\n",
      "\n",
      " [[28.642439 28.642439 31.502197 ... 35.585594 35.587692 35.593224]]]\n",
      "all_quantiles after squeezing shape: (253, 50)\n",
      "Error with cow SE-5c06d92d-3049, lactation 3: too many values to unpack (expected 2)\n"
     ]
    },
    {
     "name": "stderr",
     "output_type": "stream",
     "text": [
      "/Users/user/anaconda3/envs/GIGACOW/lib/python3.11/site-packages/torch/optim/lr_scheduler.py:60: UserWarning: The verbose parameter is deprecated. Please use get_last_lr() to access the learning rate.\n",
      "  warnings.warn(\n",
      " 20%|██        | 469/2315 [02:57<09:56,  3.09 Segments/s]"
     ]
    },
    {
     "name": "stdout",
     "output_type": "stream",
     "text": [
      "all_quantiles shape: (292, 1, 50)\n",
      "all_quantiles content: [[[27.27673  27.27673  27.277203 ... 26.465128 26.525497 26.689528]]\n",
      "\n",
      " [[25.717339 25.717339 25.772732 ... 26.819706 26.909254 27.07491 ]]\n",
      "\n",
      " [[24.157942 24.157942 24.268269 ... 27.174187 27.293108 27.460194]]\n",
      "\n",
      " ...\n",
      "\n",
      " [[19.479774 19.479774 19.754839 ... 28.23782  28.444574 28.61614 ]]\n",
      "\n",
      " [[19.479774 19.479774 19.754839 ... 28.23782  28.444574 28.61614 ]]\n",
      "\n",
      " [[19.479774 19.479774 19.754839 ... 28.23782  28.444574 28.61614 ]]]\n",
      "all_quantiles after squeezing shape: (292, 50)\n",
      "Error with cow SE-5c06d92d-3050, lactation 1: too many values to unpack (expected 2)\n"
     ]
    },
    {
     "name": "stderr",
     "output_type": "stream",
     "text": [
      "/Users/user/anaconda3/envs/GIGACOW/lib/python3.11/site-packages/torch/optim/lr_scheduler.py:60: UserWarning: The verbose parameter is deprecated. Please use get_last_lr() to access the learning rate.\n",
      "  warnings.warn(\n",
      " 20%|██        | 470/2315 [02:58<11:08,  2.76 Segments/s]"
     ]
    },
    {
     "name": "stdout",
     "output_type": "stream",
     "text": [
      "all_quantiles shape: (640, 1, 50)\n",
      "all_quantiles content: [[[29.11539  29.11539  41.85804  ... 58.22544  58.567616 58.852573]]\n",
      "\n",
      " [[29.11539  29.11539  41.85804  ... 58.22544  58.567616 58.852573]]\n",
      "\n",
      " [[29.048431 29.048431 41.6713   ... 58.051296 58.393288 58.67958 ]]\n",
      "\n",
      " ...\n",
      "\n",
      " [[23.020983 23.020983 24.865782 ... 42.35954  42.709923 43.110275]]\n",
      "\n",
      " [[23.020983 23.020983 24.865782 ... 42.35954  42.709923 43.110275]]\n",
      "\n",
      " [[23.020983 23.020983 24.865782 ... 42.35954  42.709923 43.110275]]]\n",
      "all_quantiles after squeezing shape: (640, 50)\n",
      "Error with cow SE-5c06d92d-3052, lactation 2: too many values to unpack (expected 2)\n"
     ]
    },
    {
     "name": "stderr",
     "output_type": "stream",
     "text": [
      "/Users/user/anaconda3/envs/GIGACOW/lib/python3.11/site-packages/torch/optim/lr_scheduler.py:60: UserWarning: The verbose parameter is deprecated. Please use get_last_lr() to access the learning rate.\n",
      "  warnings.warn(\n",
      " 20%|██        | 471/2315 [02:58<11:17,  2.72 Segments/s]"
     ]
    },
    {
     "name": "stdout",
     "output_type": "stream",
     "text": [
      "all_quantiles shape: (257, 1, 50)\n",
      "all_quantiles content: [[[31.30263  31.30263  39.229156 ... 47.940826 48.046112 48.078156]]\n",
      "\n",
      " [[31.245504 31.245504 39.154682 ... 47.859764 47.96486  47.997665]]\n",
      "\n",
      " [[31.18839  31.18839  39.080215 ... 47.7787   47.883606 47.917366]]\n",
      "\n",
      " ...\n",
      "\n",
      " [[16.280365 16.280365 19.64315  ... 26.607704 26.670074 26.946829]]\n",
      "\n",
      " [[16.280365 16.280365 19.64315  ... 26.607704 26.670074 26.946829]]\n",
      "\n",
      " [[16.280365 16.280365 19.64315  ... 26.607704 26.670074 26.946829]]]\n",
      "all_quantiles after squeezing shape: (257, 50)\n",
      "Error with cow SE-5c06d92d-3054, lactation 2: too many values to unpack (expected 2)\n"
     ]
    },
    {
     "name": "stderr",
     "output_type": "stream",
     "text": [
      "/Users/user/anaconda3/envs/GIGACOW/lib/python3.11/site-packages/torch/optim/lr_scheduler.py:60: UserWarning: The verbose parameter is deprecated. Please use get_last_lr() to access the learning rate.\n",
      "  warnings.warn(\n",
      " 20%|██        | 472/2315 [02:58<11:07,  2.76 Segments/s]"
     ]
    },
    {
     "name": "stdout",
     "output_type": "stream",
     "text": [
      "all_quantiles shape: (135, 1, 50)\n",
      "all_quantiles content: [[[37.710762 37.710762 38.43943  ... 56.58855  57.047844 57.589146]]\n",
      "\n",
      " [[37.710762 37.710762 38.43943  ... 56.58855  57.047844 57.589146]]\n",
      "\n",
      " [[37.725986 37.725986 38.457752 ... 56.510162 56.96602  57.503315]]\n",
      "\n",
      " ...\n",
      "\n",
      " [[39.704464 39.704464 40.84034  ... 46.33751  46.3417   46.33007 ]]\n",
      "\n",
      " [[39.719673 39.719673 40.858673 ... 46.259304 46.260067 46.24405 ]]\n",
      "\n",
      " [[39.7349   39.7349   40.876995 ... 46.180916 46.178432 46.158028]]]\n",
      "all_quantiles after squeezing shape: (135, 50)\n",
      "Error with cow SE-5c06d92d-3054, lactation 3: too many values to unpack (expected 2)\n"
     ]
    },
    {
     "name": "stderr",
     "output_type": "stream",
     "text": [
      "/Users/user/anaconda3/envs/GIGACOW/lib/python3.11/site-packages/torch/optim/lr_scheduler.py:60: UserWarning: The verbose parameter is deprecated. Please use get_last_lr() to access the learning rate.\n",
      "  warnings.warn(\n",
      " 20%|██        | 473/2315 [02:59<11:22,  2.70 Segments/s]"
     ]
    },
    {
     "name": "stdout",
     "output_type": "stream",
     "text": [
      "all_quantiles shape: (376, 1, 50)\n",
      "all_quantiles content: [[[32.184647 32.184647 36.032032 ... 51.68571  51.87111  52.443123]]\n",
      "\n",
      " [[32.167828 32.167828 36.00681  ... 51.62716  51.812172 52.382847]]\n",
      "\n",
      " [[32.150993 32.150993 35.981583 ... 51.568413 51.75323  52.32277 ]]\n",
      "\n",
      " ...\n",
      "\n",
      " [[26.077442 26.077442 26.872812 ... 30.38473  30.487154 30.565166]]\n",
      "\n",
      " [[26.077442 26.077442 26.872812 ... 30.38473  30.487154 30.565166]]\n",
      "\n",
      " [[26.077442 26.077442 26.872812 ... 30.38473  30.487154 30.565166]]]\n",
      "all_quantiles after squeezing shape: (376, 50)\n",
      "Error with cow SE-5c06d92d-3056, lactation 2: too many values to unpack (expected 2)\n"
     ]
    },
    {
     "name": "stderr",
     "output_type": "stream",
     "text": [
      "/Users/user/anaconda3/envs/GIGACOW/lib/python3.11/site-packages/torch/optim/lr_scheduler.py:60: UserWarning: The verbose parameter is deprecated. Please use get_last_lr() to access the learning rate.\n",
      "  warnings.warn(\n",
      " 20%|██        | 474/2315 [02:59<10:58,  2.79 Segments/s]"
     ]
    },
    {
     "name": "stdout",
     "output_type": "stream",
     "text": [
      "all_quantiles shape: (117, 1, 50)\n",
      "all_quantiles content: [[[41.11229  41.11229  41.92215  ... 53.82576  53.83758  53.883553]]\n",
      "\n",
      " [[41.11229  41.11229  41.92215  ... 53.82576  53.83758  53.883553]]\n",
      "\n",
      " [[41.179825 41.179825 41.97855  ... 53.792572 53.80745  53.85418 ]]\n",
      "\n",
      " ...\n",
      "\n",
      " [[44.995296 44.995296 45.164608 ... 51.924892 52.088737 52.200695]]\n",
      "\n",
      " [[45.029068 45.029068 45.1928   ... 51.908493 52.07348  52.186012]]\n",
      "\n",
      " [[45.062824 45.062824 45.220997 ... 51.891895 52.058216 52.171326]]]\n",
      "all_quantiles after squeezing shape: (117, 50)\n",
      "Error with cow SE-5c06d92d-3056, lactation 3: too many values to unpack (expected 2)\n"
     ]
    },
    {
     "name": "stderr",
     "output_type": "stream",
     "text": [
      "/Users/user/anaconda3/envs/GIGACOW/lib/python3.11/site-packages/torch/optim/lr_scheduler.py:60: UserWarning: The verbose parameter is deprecated. Please use get_last_lr() to access the learning rate.\n",
      "  warnings.warn(\n",
      " 21%|██        | 475/2315 [03:00<11:12,  2.74 Segments/s]"
     ]
    },
    {
     "name": "stdout",
     "output_type": "stream",
     "text": [
      "all_quantiles shape: (302, 1, 50)\n",
      "all_quantiles content: [[[28.405344 28.405344 30.372679 ... 46.815872 46.926308 46.578026]]\n",
      "\n",
      " [[28.405344 28.405344 30.372679 ... 46.815872 46.926308 46.578026]]\n",
      "\n",
      " [[28.382933 28.382933 30.344389 ... 46.762085 46.875187 46.534348]]\n",
      "\n",
      " ...\n",
      "\n",
      " [[21.67884  21.67884  21.890268 ... 30.680464 31.607721 33.463383]]\n",
      "\n",
      " [[21.656416 21.656416 21.861994 ... 30.626678 31.556606 33.41961 ]]\n",
      "\n",
      " [[21.633995 21.633995 21.833729 ... 30.572796 31.505678 33.375835]]]\n",
      "all_quantiles after squeezing shape: (302, 50)\n",
      "Error with cow SE-5c06d92d-3059, lactation 2: too many values to unpack (expected 2)\n"
     ]
    },
    {
     "name": "stderr",
     "output_type": "stream",
     "text": [
      "/Users/user/anaconda3/envs/GIGACOW/lib/python3.11/site-packages/torch/optim/lr_scheduler.py:60: UserWarning: The verbose parameter is deprecated. Please use get_last_lr() to access the learning rate.\n",
      "  warnings.warn(\n",
      " 21%|██        | 476/2315 [03:00<11:00,  2.79 Segments/s]"
     ]
    },
    {
     "name": "stdout",
     "output_type": "stream",
     "text": [
      "all_quantiles shape: (69, 1, 50)\n",
      "all_quantiles content: [[[23.768896 23.768896 23.660324 ... 26.40047  26.385021 26.39408 ]]\n",
      "\n",
      " [[23.64159  23.64159  23.57006  ... 26.322077 26.308727 26.31874 ]]\n",
      "\n",
      " [[23.514286 23.514286 23.479797 ... 26.24378  26.232338 26.243399]]\n",
      "\n",
      " ...\n",
      "\n",
      " [[19.1859   19.1859   20.410908 ... 23.57912  23.637865 23.681355]]\n",
      "\n",
      " [[19.1859   19.1859   20.410908 ... 23.57912  23.637865 23.681355]]\n",
      "\n",
      " [[19.1859   19.1859   20.410908 ... 23.57912  23.637865 23.681355]]]\n",
      "all_quantiles after squeezing shape: (69, 50)\n",
      "Error with cow SE-5c06d92d-3060, lactation 1: too many values to unpack (expected 2)\n"
     ]
    },
    {
     "name": "stderr",
     "output_type": "stream",
     "text": [
      "/Users/user/anaconda3/envs/GIGACOW/lib/python3.11/site-packages/torch/optim/lr_scheduler.py:60: UserWarning: The verbose parameter is deprecated. Please use get_last_lr() to access the learning rate.\n",
      "  warnings.warn(\n",
      " 21%|██        | 477/2315 [03:00<11:18,  2.71 Segments/s]"
     ]
    },
    {
     "name": "stdout",
     "output_type": "stream",
     "text": [
      "all_quantiles shape: (253, 1, 50)\n",
      "all_quantiles content: [[[20.548784 20.548784 24.778557 ... 48.67248  48.65551  48.61698 ]]\n",
      "\n",
      " [[20.548784 20.548784 24.778557 ... 48.67248  48.65551  48.61698 ]]\n",
      "\n",
      " [[20.561897 20.561897 24.780201 ... 48.59314  48.577496 48.53992 ]]\n",
      "\n",
      " ...\n",
      "\n",
      " [[23.800009 23.800009 25.18947  ... 29.048634 29.27332  29.50821 ]]\n",
      "\n",
      " [[23.800009 23.800009 25.18947  ... 29.048634 29.27332  29.50821 ]]\n",
      "\n",
      " [[23.800009 23.800009 25.18947  ... 29.048634 29.27332  29.50821 ]]]\n",
      "all_quantiles after squeezing shape: (253, 50)\n",
      "Error with cow SE-5c06d92d-3060, lactation 2: too many values to unpack (expected 2)\n"
     ]
    },
    {
     "name": "stderr",
     "output_type": "stream",
     "text": [
      "/Users/user/anaconda3/envs/GIGACOW/lib/python3.11/site-packages/torch/optim/lr_scheduler.py:60: UserWarning: The verbose parameter is deprecated. Please use get_last_lr() to access the learning rate.\n",
      "  warnings.warn(\n",
      " 21%|██        | 478/2315 [03:01<11:27,  2.67 Segments/s]"
     ]
    },
    {
     "name": "stdout",
     "output_type": "stream",
     "text": [
      "all_quantiles shape: (229, 1, 50)\n",
      "all_quantiles content: [[[21.182058 21.182058 24.319601 ... 60.7748   60.881424 61.01036 ]]\n",
      "\n",
      " [[21.182058 21.182058 24.319601 ... 60.7748   60.881424 61.01036 ]]\n",
      "\n",
      " [[21.202171 21.202171 24.336218 ... 60.641476 60.748672 60.87761 ]]\n",
      "\n",
      " ...\n",
      "\n",
      " [[25.733948 25.733948 28.06934  ... 30.681324 30.890081 30.996704]]\n",
      "\n",
      " [[25.754093 25.754093 28.085922 ... 30.548191 30.75733  30.86395 ]]\n",
      "\n",
      " [[25.77423  25.77423  28.102516 ... 30.415058 30.62458  30.731201]]]\n",
      "all_quantiles after squeezing shape: (229, 50)\n",
      "Error with cow SE-5c06d92d-3060, lactation 3: too many values to unpack (expected 2)\n"
     ]
    },
    {
     "name": "stderr",
     "output_type": "stream",
     "text": [
      "/Users/user/anaconda3/envs/GIGACOW/lib/python3.11/site-packages/torch/optim/lr_scheduler.py:60: UserWarning: The verbose parameter is deprecated. Please use get_last_lr() to access the learning rate.\n",
      "  warnings.warn(\n",
      " 21%|██        | 479/2315 [03:01<11:40,  2.62 Segments/s]"
     ]
    },
    {
     "name": "stdout",
     "output_type": "stream",
     "text": [
      "all_quantiles shape: (264, 1, 50)\n",
      "all_quantiles content: [[[23.812843 23.812843 30.113827 ... 46.94023  46.876526 46.502113]]\n",
      "\n",
      " [[23.505997 23.505997 30.266092 ... 47.953987 47.76287  47.026062]]\n",
      "\n",
      " [[23.51879  23.51879  30.25975  ... 47.912025 47.72587  47.004124]]\n",
      "\n",
      " ...\n",
      "\n",
      " [[26.855682 26.855682 28.603815 ... 36.886024 38.085747 41.30783 ]]\n",
      "\n",
      " [[26.855682 26.855682 28.603815 ... 36.886024 38.085747 41.30783 ]]\n",
      "\n",
      " [[26.855682 26.855682 28.603815 ... 36.886024 38.085747 41.30783 ]]]\n",
      "all_quantiles after squeezing shape: (264, 50)\n",
      "Error with cow SE-5c06d92d-3062, lactation 2: too many values to unpack (expected 2)\n"
     ]
    },
    {
     "name": "stderr",
     "output_type": "stream",
     "text": [
      "/Users/user/anaconda3/envs/GIGACOW/lib/python3.11/site-packages/torch/optim/lr_scheduler.py:60: UserWarning: The verbose parameter is deprecated. Please use get_last_lr() to access the learning rate.\n",
      "  warnings.warn(\n",
      " 21%|██        | 480/2315 [03:02<11:48,  2.59 Segments/s]"
     ]
    },
    {
     "name": "stdout",
     "output_type": "stream",
     "text": [
      "all_quantiles shape: (331, 1, 50)\n",
      "all_quantiles content: [[[34.35757  34.35757  38.058388 ... 54.502487 54.76608  54.911613]]\n",
      "\n",
      " [[34.35757  34.35757  38.058388 ... 54.502487 54.76608  54.911613]]\n",
      "\n",
      " [[34.35093  34.35093  38.041294 ... 54.465294 54.729267 54.87442 ]]\n",
      "\n",
      " ...\n",
      "\n",
      " [[32.09859  32.09859  32.228256 ... 41.88232  42.12246  42.289543]]\n",
      "\n",
      " [[32.09196  32.09196  32.21116  ... 41.84532  42.085266 42.25254 ]]\n",
      "\n",
      " [[32.085335 32.085335 32.194065 ... 41.80832  42.048454 42.215347]]]\n",
      "all_quantiles after squeezing shape: (331, 50)\n",
      "Error with cow SE-5c06d92d-3062, lactation 3: too many values to unpack (expected 2)\n"
     ]
    },
    {
     "name": "stderr",
     "output_type": "stream",
     "text": [
      "/Users/user/anaconda3/envs/GIGACOW/lib/python3.11/site-packages/torch/optim/lr_scheduler.py:60: UserWarning: The verbose parameter is deprecated. Please use get_last_lr() to access the learning rate.\n",
      "  warnings.warn(\n",
      " 21%|██        | 482/2315 [03:02<09:06,  3.36 Segments/s]"
     ]
    },
    {
     "name": "stdout",
     "output_type": "stream",
     "text": [
      "all_quantiles shape: (276, 1, 50)\n",
      "all_quantiles content: [[[25.41126  25.41126  28.746664 ... 46.999355 47.199436 47.319218]]\n",
      "\n",
      " [[25.41126  25.41126  28.746664 ... 46.999355 47.199436 47.319218]]\n",
      "\n",
      " [[25.390612 25.390612 28.721832 ... 46.94023  47.13955  47.25933 ]]\n",
      "\n",
      " ...\n",
      "\n",
      " [[19.754612 19.754612 21.94165  ... 30.762098 30.826569 30.906961]]\n",
      "\n",
      " [[19.733965 19.733965 21.916807 ... 30.702782 30.766867 30.847166]]\n",
      "\n",
      " [[19.71332  19.71332  21.891975 ... 30.643559 30.707071 30.787277]]]\n",
      "all_quantiles after squeezing shape: (276, 50)\n",
      "Error with cow SE-5c06d92d-3063, lactation 2: too many values to unpack (expected 2)\n"
     ]
    },
    {
     "name": "stderr",
     "output_type": "stream",
     "text": [
      "/Users/user/anaconda3/envs/GIGACOW/lib/python3.11/site-packages/torch/optim/lr_scheduler.py:60: UserWarning: The verbose parameter is deprecated. Please use get_last_lr() to access the learning rate.\n",
      "  warnings.warn(\n",
      " 21%|██        | 485/2315 [03:02<06:41,  4.56 Segments/s]"
     ]
    },
    {
     "name": "stdout",
     "output_type": "stream",
     "text": [
      "all_quantiles shape: (410, 1, 50)\n",
      "all_quantiles content: [[[18.392038 18.392038 33.12093  ... 54.35524  55.002594 55.646133]]\n",
      "\n",
      " [[18.390047 18.390047 33.256615 ... 54.605484 55.26085  55.912018]]\n",
      "\n",
      " [[18.390535 18.390535 33.22271  ... 54.54273  55.196377 55.84545 ]]\n",
      "\n",
      " ...\n",
      "\n",
      " [[18.571175 18.571175 20.940851 ... 31.897259 31.835651 31.778622]]\n",
      "\n",
      " [[18.571175 18.571175 20.940851 ... 31.897259 31.835651 31.778622]]\n",
      "\n",
      " [[18.571175 18.571175 20.940851 ... 31.897259 31.835651 31.778622]]]\n",
      "all_quantiles after squeezing shape: (410, 50)\n",
      "Error with cow SE-5c06d92d-3065, lactation 2: too many values to unpack (expected 2)\n"
     ]
    },
    {
     "name": "stderr",
     "output_type": "stream",
     "text": [
      "/Users/user/anaconda3/envs/GIGACOW/lib/python3.11/site-packages/torch/optim/lr_scheduler.py:60: UserWarning: The verbose parameter is deprecated. Please use get_last_lr() to access the learning rate.\n",
      "  warnings.warn(\n",
      " 21%|██        | 486/2315 [03:03<07:27,  4.09 Segments/s]"
     ]
    },
    {
     "name": "stdout",
     "output_type": "stream",
     "text": [
      "all_quantiles shape: (160, 1, 50)\n",
      "all_quantiles content: [[[38.826225 38.826225 40.374706 ... 56.362724 56.682774 56.6185  ]]\n",
      "\n",
      " [[38.826225 38.826225 40.374706 ... 56.362724 56.682774 56.6185  ]]\n",
      "\n",
      " [[38.826225 38.826225 40.374706 ... 56.362724 56.682774 56.6185  ]]\n",
      "\n",
      " ...\n",
      "\n",
      " [[46.295845 46.295845 46.73011  ... 59.97486  61.389347 63.386345]]\n",
      "\n",
      " [[46.356583 46.356583 46.7818   ... 60.004234 61.427494 63.441277]]\n",
      "\n",
      " [[46.41731  46.41731  46.833466 ... 60.033607 61.46583  63.4964  ]]]\n",
      "all_quantiles after squeezing shape: (160, 50)\n",
      "Error with cow SE-5c06d92d-3065, lactation 3: too many values to unpack (expected 2)\n"
     ]
    },
    {
     "name": "stderr",
     "output_type": "stream",
     "text": [
      "/Users/user/anaconda3/envs/GIGACOW/lib/python3.11/site-packages/torch/optim/lr_scheduler.py:60: UserWarning: The verbose parameter is deprecated. Please use get_last_lr() to access the learning rate.\n",
      "  warnings.warn(\n",
      " 21%|██        | 488/2315 [03:03<07:04,  4.31 Segments/s]"
     ]
    },
    {
     "name": "stdout",
     "output_type": "stream",
     "text": [
      "all_quantiles shape: (379, 1, 50)\n",
      "all_quantiles content: [[[17.654812 17.654812 28.05978  ... 57.39746  58.024406 58.408356]]\n",
      "\n",
      " [[17.654812 17.654812 28.05978  ... 57.39746  58.024406 58.408356]]\n",
      "\n",
      " [[17.646265 17.646265 28.01001  ... 57.2052   57.827374 58.209034]]\n",
      "\n",
      " ...\n",
      "\n",
      " [[16.09851  16.09851  19.004654 ... 22.362326 22.19944  22.13707 ]]\n",
      "\n",
      " [[16.09851  16.09851  19.004654 ... 22.362326 22.19944  22.13707 ]]\n",
      "\n",
      " [[16.09851  16.09851  19.004654 ... 22.362326 22.19944  22.13707 ]]]\n",
      "all_quantiles after squeezing shape: (379, 50)\n",
      "Error with cow SE-5c06d92d-3068, lactation 2: too many values to unpack (expected 2)\n"
     ]
    },
    {
     "name": "stderr",
     "output_type": "stream",
     "text": [
      "/Users/user/anaconda3/envs/GIGACOW/lib/python3.11/site-packages/torch/optim/lr_scheduler.py:60: UserWarning: The verbose parameter is deprecated. Please use get_last_lr() to access the learning rate.\n",
      "  warnings.warn(\n",
      " 21%|██        | 489/2315 [03:03<07:50,  3.88 Segments/s]"
     ]
    },
    {
     "name": "stdout",
     "output_type": "stream",
     "text": [
      "all_quantiles shape: (171, 1, 50)\n",
      "all_quantiles content: [[[26.110506 26.110506 32.555626 ... 54.024696 54.449844 54.788208]]\n",
      "\n",
      " [[26.110506 26.110506 32.555626 ... 54.024696 54.449844 54.788208]]\n",
      "\n",
      " [[26.110506 26.110506 32.555626 ... 54.024696 54.449844 54.788208]]\n",
      "\n",
      " ...\n",
      "\n",
      " [[37.22825  37.22825  36.89501  ... 38.97934  39.2004   39.866447]]\n",
      "\n",
      " [[37.318645 37.318645 36.930298 ... 38.85708  39.076233 39.74533 ]]\n",
      "\n",
      " [[37.40903  37.40903  36.965572 ... 38.734627 38.952446 39.623833]]]\n",
      "all_quantiles after squeezing shape: (171, 50)\n",
      "Error with cow SE-5c06d92d-3068, lactation 3: too many values to unpack (expected 2)\n"
     ]
    },
    {
     "name": "stderr",
     "output_type": "stream",
     "text": [
      "/Users/user/anaconda3/envs/GIGACOW/lib/python3.11/site-packages/torch/optim/lr_scheduler.py:60: UserWarning: The verbose parameter is deprecated. Please use get_last_lr() to access the learning rate.\n",
      "  warnings.warn(\n",
      " 21%|██        | 490/2315 [03:04<08:16,  3.68 Segments/s]"
     ]
    },
    {
     "name": "stdout",
     "output_type": "stream",
     "text": [
      "all_quantiles shape: (103, 1, 50)\n",
      "all_quantiles content: [[[24.328327 24.328327 24.73341  ... 32.516003 32.678604 32.77273 ]]\n",
      "\n",
      " [[24.340265 24.340265 24.741594 ... 32.484818 32.645893 32.73983 ]]\n",
      "\n",
      " [[24.352203 24.352203 24.749779 ... 32.453728 32.613182 32.70693 ]]\n",
      "\n",
      " ...\n",
      "\n",
      " [[25.522255 25.522255 25.552065 ... 29.400728 29.41103  29.477406]]\n",
      "\n",
      " [[25.534195 25.534195 25.56026  ... 29.369638 29.378319 29.444504]]\n",
      "\n",
      " [[25.546133 25.546133 25.568443 ... 29.338453 29.345606 29.411507]]]\n",
      "all_quantiles after squeezing shape: (103, 50)\n",
      "Error with cow SE-5c06d92d-3070, lactation 1: too many values to unpack (expected 2)\n"
     ]
    },
    {
     "name": "stderr",
     "output_type": "stream",
     "text": [
      "/Users/user/anaconda3/envs/GIGACOW/lib/python3.11/site-packages/torch/optim/lr_scheduler.py:60: UserWarning: The verbose parameter is deprecated. Please use get_last_lr() to access the learning rate.\n",
      "  warnings.warn(\n",
      " 21%|██        | 491/2315 [03:04<09:07,  3.33 Segments/s]"
     ]
    },
    {
     "name": "stdout",
     "output_type": "stream",
     "text": [
      "all_quantiles shape: (336, 1, 50)\n",
      "all_quantiles content: [[[19.486498 19.486498 32.084774 ... 49.77188  49.898525 50.0782  ]]\n",
      "\n",
      " [[19.306778 19.306778 32.306396 ... 50.538826 50.667763 50.851246]]\n",
      "\n",
      " [[19.486498 19.486498 32.084774 ... 49.77188  49.898525 50.0782  ]]\n",
      "\n",
      " ...\n",
      "\n",
      " [[24.76375  24.76375  25.577007 ... 27.249716 27.314949 27.375603]]\n",
      "\n",
      " [[24.76375  24.76375  25.577007 ... 27.249716 27.314949 27.375603]]\n",
      "\n",
      " [[24.76375  24.76375  25.577007 ... 27.249716 27.314949 27.375603]]]\n",
      "all_quantiles after squeezing shape: (336, 50)\n",
      "Error with cow SE-5c06d92d-3070, lactation 2: too many values to unpack (expected 2)\n"
     ]
    },
    {
     "name": "stderr",
     "output_type": "stream",
     "text": [
      "/Users/user/anaconda3/envs/GIGACOW/lib/python3.11/site-packages/torch/optim/lr_scheduler.py:60: UserWarning: The verbose parameter is deprecated. Please use get_last_lr() to access the learning rate.\n",
      "  warnings.warn(\n",
      " 21%|██▏       | 492/2315 [03:04<09:19,  3.26 Segments/s]"
     ]
    },
    {
     "name": "stdout",
     "output_type": "stream",
     "text": [
      "all_quantiles shape: (105, 1, 50)\n",
      "all_quantiles content: [[[19.56947  19.56947  19.59138  ... 57.93152  57.148743 56.968307]]\n",
      "\n",
      " [[19.56947  19.56947  19.59138  ... 57.93152  57.148743 56.968307]]\n",
      "\n",
      " [[20.499979 20.499979 20.529938 ... 57.27081  56.585503 56.476974]]\n",
      "\n",
      " ...\n",
      "\n",
      " [[43.76274  43.76274  43.994495 ... 40.751266 42.5066   44.1967  ]]\n",
      "\n",
      " [[43.995365 43.995365 44.229137 ... 40.586086 42.365646 44.073868]]\n",
      "\n",
      " [[44.227997 44.227997 44.463776 ... 40.420914 42.225075 43.951035]]]\n",
      "all_quantiles after squeezing shape: (105, 50)\n",
      "Error with cow SE-5c06d92d-3070, lactation 3: too many values to unpack (expected 2)\n"
     ]
    },
    {
     "name": "stderr",
     "output_type": "stream",
     "text": [
      "/Users/user/anaconda3/envs/GIGACOW/lib/python3.11/site-packages/torch/optim/lr_scheduler.py:60: UserWarning: The verbose parameter is deprecated. Please use get_last_lr() to access the learning rate.\n",
      "  warnings.warn(\n",
      " 21%|██▏       | 493/2315 [03:05<08:56,  3.39 Segments/s]"
     ]
    },
    {
     "name": "stdout",
     "output_type": "stream",
     "text": [
      "all_quantiles shape: (16, 1, 50)\n",
      "all_quantiles content: [[[21.483719  21.483719  21.486156  21.493744  21.517456  21.598522\n",
      "   21.664822  21.704924  21.753227  21.803988  21.808779  21.735643\n",
      "   21.741747  21.75808   21.797346  21.943497  22.221922  22.539091\n",
      "   22.66159   22.691343  22.705603  22.696161  22.29929   22.391127\n",
      "   22.849321  23.268366  23.386955  23.389769  23.367977  23.345707\n",
      "   23.333073  23.331356  23.33641   23.342466  23.345232  23.34218\n",
      "   23.334167  23.326302  23.323248  23.328304  23.343468  23.371696\n",
      "   23.419094  23.491383  23.591518  23.7092    23.821447  23.90623\n",
      "   23.956013  23.97356  ]]\n",
      "\n",
      " [[20.358807  20.358807  20.36103   20.36795   20.390951  20.608318\n",
      "   20.823502  20.862019  20.906317  20.953869  21.035957  21.137737\n",
      "   21.153044  21.169136  21.207188  21.376633  21.762323  22.077011\n",
      "   22.189163  22.21694   22.232533  22.28503   22.075367  22.1735\n",
      "   22.58215   22.95556   23.063562  23.070383  23.056934  23.044012\n",
      "   23.039103  23.042725  23.05131   23.060465  23.066902  23.068905\n",
      "   23.066711  23.064137  23.065186  23.072338  23.087788  23.114872\n",
      "   23.159218  23.226357  23.319054  23.427961  23.531532  23.609924\n",
      "   23.656652  23.674679 ]]\n",
      "\n",
      " [[19.2339    19.2339    19.235903  19.242155  19.264446  19.618116\n",
      "   19.982182  20.019114  20.059406  20.103764  20.263123  20.539856\n",
      "   20.564295  20.58022   20.617056  20.809769  21.302723  21.61491\n",
      "   21.71676   21.74251   21.759413  21.873999  21.851397  21.955872\n",
      "   22.314928  22.642803  22.740173  22.750948  22.745989  22.742271\n",
      "   22.745132  22.75405   22.766254  22.778461  22.78862   22.795582\n",
      "   22.799206  22.802113  22.807026  22.816277  22.832201  22.858046\n",
      "   22.899246  22.96133   23.046778  23.146627  23.24152   23.313616\n",
      "   23.357487  23.375795 ]]\n",
      "\n",
      " [[18.10899   18.10899   18.110783  18.116354  18.137949  18.627905\n",
      "   19.140863  19.176208  19.212496  19.253635  19.490337  19.94195\n",
      "   19.975565  19.99128   20.026897  20.242907  20.843147  21.152805\n",
      "   21.244333  21.268106  21.286345  21.46287   21.627474  21.738243\n",
      "   22.047709  22.330044  22.416735  22.431612  22.434948  22.440624\n",
      "   22.451115  22.46542   22.481155  22.496462  22.510336  22.522257\n",
      "   22.531748  22.539948  22.548866  22.560404  22.576616  22.601128\n",
      "   22.63937   22.696302  22.77441   22.865294  22.951506  23.017406\n",
      "   23.058126  23.077011 ]]\n",
      "\n",
      " [[16.984081  16.984081  16.98566   16.99056   17.011438  17.637718\n",
      "   18.299532  18.333303  18.365585  18.40353   18.717503  19.344067\n",
      "   19.386839  19.402336  19.43674   19.67604   20.383574  20.690702\n",
      "   20.771933  20.793676  20.813274  21.051788  21.403456  21.520708\n",
      "   21.780489  22.017193  22.093391  22.112177  22.124002  22.138882\n",
      "   22.15719   22.176743  22.196054  22.21446   22.232056  22.248981\n",
      "   22.264194  22.277927  22.290705  22.304344  22.321033  22.344303\n",
      "   22.379494  22.431276  22.50204   22.583864  22.66159   22.721195\n",
      "   22.75877   22.77813  ]]\n",
      "\n",
      " [[15.859175  15.859175  15.860533  15.8647585 15.884948  16.647505\n",
      "   17.458212  17.490398  17.518686  17.553389  17.944693  18.74616\n",
      "   18.798136  18.813395  18.846607  19.109154  19.923973  20.228601\n",
      "   20.29953   20.31927   20.340157  20.640753  21.179483  21.303082\n",
      "   21.51327   21.704435  21.77      21.792791  21.812962  21.837234\n",
      "   21.863174  21.888113  21.911001  21.932411  21.953773  21.97566\n",
      "   21.996737  22.015762  22.032642  22.048283  22.065449  22.087479\n",
      "   22.119522  22.166348  22.229576  22.302626  22.371576  22.424889\n",
      "   22.459602  22.479246 ]]\n",
      "\n",
      " [[14.734268  14.734268  14.735413  14.738964  14.758431  15.657306\n",
      "   16.616903  16.647482  16.671776  16.703283  17.17186   18.14828\n",
      "   18.209385  18.224478  18.25645   18.54229   19.464397  19.766497\n",
      "   19.827127  19.844843  19.867085  20.229626  20.95556   21.085453\n",
      "   21.246052  21.391676  21.446562  21.473408  21.502018  21.535492\n",
      "   21.569204  21.599436  21.625948  21.650455  21.675394  21.702385\n",
      "   21.729229  21.753693  21.774529  21.792315  21.809769  21.830652\n",
      "   21.859646  21.901321  21.957205  22.021292  22.081661  22.12858\n",
      "   22.160244  22.180462 ]]\n",
      "\n",
      " [[13.609355  13.609355  13.6102915 13.613164  13.63194   14.667106\n",
      "   15.775573  15.804577  15.824854  15.853167  16.399075  17.550373\n",
      "   17.620659  17.635511  17.666317  17.975426  19.004822  19.304394\n",
      "   19.3547    19.370413  19.393991  19.81859   20.731592  20.867825\n",
      "   20.97888   21.078873  21.12317   21.154022  21.190977  21.233845\n",
      "   21.275187  21.310804  21.340847  21.368456  21.397114  21.429108\n",
      "   21.461678  21.491623  21.516418  21.536255  21.554182  21.57383\n",
      "   21.59977   21.636295  21.684837  21.739958  21.791649  21.832275\n",
      "   21.860981  21.88158  ]]\n",
      "\n",
      " [[12.484443  12.484443  12.485169  12.487364  12.505435  13.676905\n",
      "   14.934254  14.961672  14.977944  15.00306   15.626239  16.95249\n",
      "   17.03193   17.04657   17.076183  17.408562  18.545221  18.84229\n",
      "   18.8823    18.895983  18.920921  19.407461  20.50762   20.650244\n",
      "   20.71166   20.766068  20.799828  20.834589  20.880032  20.9321\n",
      "   20.981216  21.022177  21.055746  21.086454  21.118832  21.155787\n",
      "   21.19422   21.229506  21.258257  21.280336  21.298504  21.317005\n",
      "   21.339893  21.371174  21.412468  21.45872   21.501635  21.536064\n",
      "   21.561623  21.582792 ]]\n",
      "\n",
      " [[11.359549  11.359549  11.360038  11.361575  11.378932  12.686694\n",
      "   14.092934  14.118767  14.131033  14.152932  14.85343   16.354584\n",
      "   16.44323   16.45763   16.486025  16.841698  18.085623  18.380213\n",
      "   18.409872  18.421555  18.447876  18.996382  20.283651  20.432663\n",
      "   20.444393  20.45331   20.476389  20.515251  20.56899   20.630405\n",
      "   20.687244  20.733547  20.770645  20.804451  20.84055   20.882463\n",
      "   20.926714  20.967436  21.000147  21.024275  21.043015  21.05999\n",
      "   21.080017  21.106243  21.140099  21.17729   21.21172   21.239853\n",
      "   21.26236   21.283913 ]]\n",
      "\n",
      " [[10.23463   10.23463   10.234916  10.235774  10.252427  11.696506\n",
      "   13.251602  13.275873  13.284135  13.302803  14.080596  15.756702\n",
      "   15.854502  15.868688  15.895867  16.274834  17.626047  17.91811\n",
      "   17.93747   17.947124  17.974758  18.585348  20.05968   20.215034\n",
      "   20.17722   20.140505  20.152998  20.195818  20.258045  20.32871\n",
      "   20.393229  20.444918  20.485544  20.522451  20.56222   20.609236\n",
      "   20.659208  20.705317  20.742035  20.768261  20.78738   20.803164\n",
      "   20.82014   20.841215  20.867727  20.895956  20.921707  20.943544\n",
      "   20.963095  20.985126 ]]\n",
      "\n",
      " [[ 9.109712   9.109712   9.109795   9.109974   9.125924  10.7063055\n",
      "   12.410283  12.432968  12.437201  12.452698  13.307786  15.15882\n",
      "   15.265751  15.27977   15.305734  15.707945  17.166471  17.456007\n",
      "   17.465067  17.472696  17.501688  18.17422   19.835758  19.997404\n",
      "   19.91      19.827745  19.829607  19.876432  19.94705   20.02697\n",
      "   20.099258  20.15624   20.200539  20.2404    20.283937  20.335913\n",
      "   20.3917    20.443247  20.483873  20.512293  20.53175   20.54634\n",
      "   20.560265  20.57619   20.595264  20.614717  20.63179   20.64724\n",
      "   20.663738  20.686243 ]]\n",
      "\n",
      " [[ 9.109712   9.109712   9.109795   9.109974   9.125924  10.7063055\n",
      "   12.410283  12.432968  12.437201  12.452698  13.307786  15.15882\n",
      "   15.265751  15.27977   15.305734  15.707945  17.166471  17.456007\n",
      "   17.465067  17.472696  17.501688  18.17422   19.835758  19.997404\n",
      "   19.91      19.827745  19.829607  19.876432  19.94705   20.02697\n",
      "   20.099258  20.15624   20.200539  20.2404    20.283937  20.335913\n",
      "   20.3917    20.443247  20.483873  20.512293  20.53175   20.54634\n",
      "   20.560265  20.57619   20.595264  20.614717  20.63179   20.64724\n",
      "   20.663738  20.686243 ]]\n",
      "\n",
      " [[ 9.109712   9.109712   9.109795   9.109974   9.125924  10.7063055\n",
      "   12.410283  12.432968  12.437201  12.452698  13.307786  15.15882\n",
      "   15.265751  15.27977   15.305734  15.707945  17.166471  17.456007\n",
      "   17.465067  17.472696  17.501688  18.17422   19.835758  19.997404\n",
      "   19.91      19.827745  19.829607  19.876432  19.94705   20.02697\n",
      "   20.099258  20.15624   20.200539  20.2404    20.283937  20.335913\n",
      "   20.3917    20.443247  20.483873  20.512293  20.53175   20.54634\n",
      "   20.560265  20.57619   20.595264  20.614717  20.63179   20.64724\n",
      "   20.663738  20.686243 ]]\n",
      "\n",
      " [[ 9.109712   9.109712   9.109795   9.109974   9.125924  10.7063055\n",
      "   12.410283  12.432968  12.437201  12.452698  13.307786  15.15882\n",
      "   15.265751  15.27977   15.305734  15.707945  17.166471  17.456007\n",
      "   17.465067  17.472696  17.501688  18.17422   19.835758  19.997404\n",
      "   19.91      19.827745  19.829607  19.876432  19.94705   20.02697\n",
      "   20.099258  20.15624   20.200539  20.2404    20.283937  20.335913\n",
      "   20.3917    20.443247  20.483873  20.512293  20.53175   20.54634\n",
      "   20.560265  20.57619   20.595264  20.614717  20.63179   20.64724\n",
      "   20.663738  20.686243 ]]\n",
      "\n",
      " [[ 9.109712   9.109712   9.109795   9.109974   9.125924  10.7063055\n",
      "   12.410283  12.432968  12.437201  12.452698  13.307786  15.15882\n",
      "   15.265751  15.27977   15.305734  15.707945  17.166471  17.456007\n",
      "   17.465067  17.472696  17.501688  18.17422   19.835758  19.997404\n",
      "   19.91      19.827745  19.829607  19.876432  19.94705   20.02697\n",
      "   20.099258  20.15624   20.200539  20.2404    20.283937  20.335913\n",
      "   20.3917    20.443247  20.483873  20.512293  20.53175   20.54634\n",
      "   20.560265  20.57619   20.595264  20.614717  20.63179   20.64724\n",
      "   20.663738  20.686243 ]]]\n",
      "all_quantiles after squeezing shape: (16, 50)\n",
      "Error with cow SE-5c06d92d-3071, lactation 1: too many values to unpack (expected 2)\n"
     ]
    },
    {
     "name": "stderr",
     "output_type": "stream",
     "text": [
      "/Users/user/anaconda3/envs/GIGACOW/lib/python3.11/site-packages/torch/optim/lr_scheduler.py:60: UserWarning: The verbose parameter is deprecated. Please use get_last_lr() to access the learning rate.\n",
      "  warnings.warn(\n",
      " 21%|██▏       | 494/2315 [03:05<09:56,  3.05 Segments/s]"
     ]
    },
    {
     "name": "stdout",
     "output_type": "stream",
     "text": [
      "all_quantiles shape: (253, 1, 50)\n",
      "all_quantiles content: [[[34.80581  34.80581  37.22117  ... 56.621357 56.751442 56.88591 ]]\n",
      "\n",
      " [[34.80581  34.80581  37.22117  ... 56.621357 56.751442 56.88591 ]]\n",
      "\n",
      " [[34.715878 34.715878 37.127663 ... 56.495667 56.625935 56.760788]]\n",
      "\n",
      " ...\n",
      "\n",
      " [[12.231636 12.231636 13.751578 ... 25.08545  25.271416 25.477219]]\n",
      "\n",
      " [[12.231636 12.231636 13.751578 ... 25.08545  25.271416 25.477219]]\n",
      "\n",
      " [[12.231636 12.231636 13.751578 ... 25.08545  25.271416 25.477219]]]\n",
      "all_quantiles after squeezing shape: (253, 50)\n",
      "Error with cow SE-5c06d92d-3071, lactation 2: too many values to unpack (expected 2)\n"
     ]
    },
    {
     "name": "stderr",
     "output_type": "stream",
     "text": [
      "/Users/user/anaconda3/envs/GIGACOW/lib/python3.11/site-packages/torch/optim/lr_scheduler.py:60: UserWarning: The verbose parameter is deprecated. Please use get_last_lr() to access the learning rate.\n",
      "  warnings.warn(\n",
      " 21%|██▏       | 495/2315 [03:06<10:22,  2.92 Segments/s]"
     ]
    },
    {
     "name": "stdout",
     "output_type": "stream",
     "text": [
      "all_quantiles shape: (232, 1, 50)\n",
      "all_quantiles content: [[[37.03816  37.03816  37.542248 ... 57.394215 52.473446 52.377125]]\n",
      "\n",
      " [[37.03816  37.03816  37.542248 ... 57.394215 52.473446 52.377125]]\n",
      "\n",
      " [[36.954853 36.954853 37.46066  ... 57.349014 52.469826 52.376366]]\n",
      "\n",
      " ...\n",
      "\n",
      " [[18.045855 18.045855 18.94145  ... 47.08786  51.64261  52.183342]]\n",
      "\n",
      " [[17.962551 17.962551 18.859863 ... 47.042652 51.63889  52.182575]]\n",
      "\n",
      " [[17.879248 17.879248 18.7783   ... 46.99745  51.635265 52.18172 ]]]\n",
      "all_quantiles after squeezing shape: (232, 50)\n",
      "Error with cow SE-5c06d92d-3071, lactation 3: too many values to unpack (expected 2)\n"
     ]
    },
    {
     "name": "stderr",
     "output_type": "stream",
     "text": [
      "/Users/user/anaconda3/envs/GIGACOW/lib/python3.11/site-packages/torch/optim/lr_scheduler.py:60: UserWarning: The verbose parameter is deprecated. Please use get_last_lr() to access the learning rate.\n",
      "  warnings.warn(\n",
      " 21%|██▏       | 496/2315 [03:06<10:16,  2.95 Segments/s]"
     ]
    },
    {
     "name": "stdout",
     "output_type": "stream",
     "text": [
      "all_quantiles shape: (124, 1, 50)\n",
      "all_quantiles content: [[[29.54312  29.54312  30.433964 ... 32.146168 32.186222 32.2093  ]]\n",
      "\n",
      " [[29.40141  29.40141  30.28355  ... 32.11279  32.15313  32.17659 ]]\n",
      "\n",
      " [[29.259691 29.259691 30.13314  ... 32.079315 32.120037 32.143974]]\n",
      "\n",
      " ...\n",
      "\n",
      " [[20.189917 20.189917 20.506859 ... 29.939747 30.00307  30.052185]]\n",
      "\n",
      " [[20.189917 20.189917 20.506859 ... 29.939747 30.00307  30.052185]]\n",
      "\n",
      " [[20.189917 20.189917 20.506859 ... 29.939747 30.00307  30.052185]]]\n",
      "all_quantiles after squeezing shape: (124, 50)\n",
      "Error with cow SE-5c06d92d-3072, lactation 1: too many values to unpack (expected 2)\n"
     ]
    },
    {
     "name": "stderr",
     "output_type": "stream",
     "text": [
      "/Users/user/anaconda3/envs/GIGACOW/lib/python3.11/site-packages/torch/optim/lr_scheduler.py:60: UserWarning: The verbose parameter is deprecated. Please use get_last_lr() to access the learning rate.\n",
      "  warnings.warn(\n",
      " 21%|██▏       | 497/2315 [03:06<10:39,  2.84 Segments/s]"
     ]
    },
    {
     "name": "stdout",
     "output_type": "stream",
     "text": [
      "all_quantiles shape: (293, 1, 50)\n",
      "all_quantiles content: [[[16.566538 16.566538 25.103426 ... 51.92108  52.18639  52.509308]]\n",
      "\n",
      " [[14.040173 14.040173 24.365723 ... 57.440186 57.728    58.088875]]\n",
      "\n",
      " [[16.566538 16.566538 25.103426 ... 51.92108  52.18639  52.509308]]\n",
      "\n",
      " ...\n",
      "\n",
      " [[26.672052 26.672052 28.054237 ... 29.84438  30.02033  30.191326]]\n",
      "\n",
      " [[26.672052 26.672052 28.054237 ... 29.84438  30.02033  30.191326]]\n",
      "\n",
      " [[26.672052 26.672052 28.054237 ... 29.84438  30.02033  30.191326]]]\n",
      "all_quantiles after squeezing shape: (293, 50)\n",
      "Error with cow SE-5c06d92d-3072, lactation 2: too many values to unpack (expected 2)\n"
     ]
    },
    {
     "name": "stderr",
     "output_type": "stream",
     "text": [
      "/Users/user/anaconda3/envs/GIGACOW/lib/python3.11/site-packages/torch/optim/lr_scheduler.py:60: UserWarning: The verbose parameter is deprecated. Please use get_last_lr() to access the learning rate.\n",
      "  warnings.warn(\n",
      " 22%|██▏       | 498/2315 [03:07<09:51,  3.07 Segments/s]"
     ]
    },
    {
     "name": "stdout",
     "output_type": "stream",
     "text": [
      "all_quantiles shape: (25, 1, 50)\n",
      "all_quantiles content: [[[32.79531  32.79531  32.792816 ... 37.760162 37.760925 37.760735]]\n",
      "\n",
      " [[31.546425 31.546425 31.54788  ... 37.71515  37.716293 37.716866]]\n",
      "\n",
      " [[30.29754  30.29754  30.302917 ... 37.670135 37.671852 37.672997]]\n",
      "\n",
      " ...\n",
      "\n",
      " [[10.315394 10.315394 10.383725 ... 36.949158 36.9606   36.968994]]\n",
      "\n",
      " [[10.315394 10.315394 10.383725 ... 36.949158 36.9606   36.968994]]\n",
      "\n",
      " [[10.315394 10.315394 10.383725 ... 36.949158 36.9606   36.968994]]]\n",
      "all_quantiles after squeezing shape: (25, 50)\n",
      "Error with cow SE-5c06d92d-3073, lactation 1: too many values to unpack (expected 2)\n"
     ]
    },
    {
     "name": "stderr",
     "output_type": "stream",
     "text": [
      "/Users/user/anaconda3/envs/GIGACOW/lib/python3.11/site-packages/torch/optim/lr_scheduler.py:60: UserWarning: The verbose parameter is deprecated. Please use get_last_lr() to access the learning rate.\n",
      "  warnings.warn(\n",
      " 22%|██▏       | 499/2315 [03:07<10:37,  2.85 Segments/s]"
     ]
    },
    {
     "name": "stdout",
     "output_type": "stream",
     "text": [
      "all_quantiles shape: (391, 1, 50)\n",
      "all_quantiles content: [[[39.141476 39.141476 43.949875 ... 61.335945 61.75308  62.43992 ]]\n",
      "\n",
      " [[39.121296 39.121296 43.918144 ... 61.270138 61.68632  62.37144 ]]\n",
      "\n",
      " [[39.101097 39.101097 43.88641  ... 61.204525 61.619564 62.30278 ]]\n",
      "\n",
      " ...\n",
      "\n",
      " [[31.833504 31.833504 32.46286  ... 37.521744 37.587166 37.6503  ]]\n",
      "\n",
      " [[31.833504 31.833504 32.46286  ... 37.521744 37.587166 37.6503  ]]\n",
      "\n",
      " [[31.833504 31.833504 32.46286  ... 37.521744 37.587166 37.6503  ]]]\n",
      "all_quantiles after squeezing shape: (391, 50)\n",
      "Error with cow SE-5c06d92d-3073, lactation 2: too many values to unpack (expected 2)\n"
     ]
    },
    {
     "name": "stderr",
     "output_type": "stream",
     "text": [
      "/Users/user/anaconda3/envs/GIGACOW/lib/python3.11/site-packages/torch/optim/lr_scheduler.py:60: UserWarning: The verbose parameter is deprecated. Please use get_last_lr() to access the learning rate.\n",
      "  warnings.warn(\n",
      " 22%|██▏       | 500/2315 [03:07<10:31,  2.87 Segments/s]"
     ]
    },
    {
     "name": "stdout",
     "output_type": "stream",
     "text": [
      "all_quantiles shape: (103, 1, 50)\n",
      "all_quantiles content: [[[17.746328 17.746328 20.058037 ... 53.04012  53.45001  53.846165]]\n",
      "\n",
      " [[17.746328 17.746328 20.058037 ... 53.04012  53.45001  53.846165]]\n",
      "\n",
      " [[17.746328 17.746328 20.058037 ... 53.04012  53.45001  53.846165]]\n",
      "\n",
      " ...\n",
      "\n",
      " [[47.310066 47.310066 49.415936 ... 58.07495  58.24566  58.444405]]\n",
      "\n",
      " [[47.709568 47.709568 49.81267  ... 58.14304  58.3107   58.506393]]\n",
      "\n",
      " [[48.10909  48.10909  50.20939  ... 58.210945 58.375546 58.568573]]]\n",
      "all_quantiles after squeezing shape: (103, 50)\n",
      "Error with cow SE-5c06d92d-3073, lactation 3: too many values to unpack (expected 2)\n"
     ]
    },
    {
     "name": "stderr",
     "output_type": "stream",
     "text": [
      "/Users/user/anaconda3/envs/GIGACOW/lib/python3.11/site-packages/torch/optim/lr_scheduler.py:60: UserWarning: The verbose parameter is deprecated. Please use get_last_lr() to access the learning rate.\n",
      "  warnings.warn(\n",
      " 22%|██▏       | 501/2315 [03:08<09:54,  3.05 Segments/s]"
     ]
    },
    {
     "name": "stdout",
     "output_type": "stream",
     "text": [
      "all_quantiles shape: (16, 1, 50)\n",
      "all_quantiles content: [[[23.004     23.004     23.00433   23.005062  23.006605  22.973549\n",
      "   22.771942  22.998213  24.001694  24.552559  24.613024  24.428797\n",
      "   23.366642  23.6037    24.469112  25.07634   25.367546  25.598858\n",
      "   25.283955  23.622322  23.581219  23.608112  23.651028  23.71168\n",
      "   23.784733  23.87409   24.233961  24.22967   23.070238  23.07391\n",
      "   23.116539  23.160027  23.189878  23.206997  23.216248  23.221111\n",
      "   23.223112  23.571873  26.250551  26.696205  26.702785  26.704693\n",
      "   26.707458  26.71175   26.718328  26.727104  26.736069  26.742554\n",
      "   26.74303   26.73626  ]]\n",
      "\n",
      " [[21.856485  21.856485  21.85681   21.857548  21.859121  21.881104\n",
      "   22.007656  22.232533  23.147583  23.648453  23.705244  23.595428\n",
      "   22.917437  23.148632  23.938965  24.494576  24.75953   24.970102\n",
      "   24.763918  23.493862  23.464298  23.488663  23.527718  23.582933\n",
      "   23.649595  23.732946  24.089718  24.230719  23.289204  23.304033\n",
      "   23.351622  23.397684  23.428963  23.447275  23.457813  23.464298\n",
      "   23.46983   23.788738  26.205442  26.61352   26.621056  26.624584\n",
      "   26.628971  26.634787  26.64318   26.654434  26.666641  26.67732\n",
      "   26.68295   26.681614 ]]\n",
      "\n",
      " [[20.708965  20.708965  20.709288  20.710028  20.711624  20.788694\n",
      "   21.243357  21.466827  22.293495  22.744345  22.79749   22.762035\n",
      "   22.468231  22.693563  23.40882   23.912811  24.151562  24.341345\n",
      "   24.243832  23.36545   23.34733   23.369263  23.40436   23.454187\n",
      "   23.514462  23.591757  23.94552   24.231813  23.508118  23.534107\n",
      "   23.58675   23.63534   23.668098  23.687506  23.699284  23.70758\n",
      "   23.716448  24.0057    26.160429  26.530647  26.539515  26.544474\n",
      "   26.550388  26.557827  26.568125  26.581764  26.597118  26.612091\n",
      "   26.622866  26.626968 ]]\n",
      "\n",
      " [[19.561445  19.561445  19.561779  19.562506  19.564129  19.696272\n",
      "   20.47907   20.701134  21.43936   21.840261  21.889734  21.928667\n",
      "   22.019003  22.238516  22.878624  23.331047  23.543571  23.712585\n",
      "   23.723791  23.23699   23.23036   23.249865  23.281048  23.325396\n",
      "   23.379326  23.45066   23.801231  24.23291   23.727081  23.764181\n",
      "   23.821878  23.872948  23.907278  23.92783   23.940657  23.950863\n",
      "   23.96307   24.222565  26.115513  26.447773  26.457882  26.464367\n",
      "   26.471806  26.48096   26.493073  26.509094  26.527594  26.546858\n",
      "   26.562786  26.572323 ]]\n",
      "\n",
      " [[18.413937  18.413937  18.414246  18.414999  18.41663   18.603836\n",
      "   19.714783  19.935453  20.58525   20.936155  20.981955  21.095299\n",
      "   21.569801  21.783447  22.348475  22.74928   22.935604  23.083782\n",
      "   23.203753  23.10853   23.11344   23.130465  23.157692  23.19665\n",
      "   23.244188  23.30947   23.657034  24.234007  23.946     23.9943\n",
      "   24.05696   24.110603  24.146414  24.16806   24.182129  24.194145\n",
      "   24.209688  24.439526  26.070404  26.364992  26.376343  26.384256\n",
      "   26.393223  26.403904  26.418112  26.436329  26.458166  26.481724\n",
      "   26.50261   26.517675 ]]\n",
      "\n",
      " [[17.266417  17.266417  17.266739  17.267466  17.269146  17.511415\n",
      "   18.950499  19.169735  19.731163  20.032047  20.0742    20.261908\n",
      "   21.120619  21.328354  21.818304  22.16754   22.327637  22.454977\n",
      "   22.683716  22.98007   22.99652   23.011015  23.03438   23.067854\n",
      "   23.109102  23.168325  23.51279   24.235058  24.16501   24.224329\n",
      "   24.292088  24.348257  24.385498  24.40834   24.4236    24.437428\n",
      "   24.456406  24.656391  26.02539   26.282118  26.294708  26.304245\n",
      "   26.31464   26.32694   26.34306   26.363659  26.388645  26.416492\n",
      "   26.442528  26.46303  ]]\n",
      "\n",
      " [[16.118896  16.118896  16.119217  16.119957  16.121649  16.418982\n",
      "   18.18621   18.404055  18.87703   19.127964  19.166445  19.428514\n",
      "   20.671415  20.873306  21.288132  21.585773  21.719624  21.82622\n",
      "   22.163677  22.85161   22.879553  22.891665  22.911072  22.939062\n",
      "   22.973919  23.027182  23.368597  24.236105  24.383974  24.454403\n",
      "   24.527216  24.585865  24.624681  24.64857   24.665163  24.680614\n",
      "   24.703026  24.873352  25.980377  26.19934   26.212976  26.224136\n",
      "   26.236153  26.24998   26.268005  26.290989  26.319122  26.35126\n",
      "   26.382446  26.408384 ]]\n",
      "\n",
      " [[14.9713745 14.9713745 14.971709  14.972437  14.974153  15.326559\n",
      "   17.421913  17.638372  18.022919  18.223858  18.258667  18.595146\n",
      "   20.22221   20.41824   20.757986  21.003984  21.11168   21.19746\n",
      "   21.643589  22.723198  22.762583  22.772215  22.787762  22.810266\n",
      "   22.83883   22.886038  23.224354  24.237202  24.60289   24.684523\n",
      "   24.762295  24.823523  24.863815  24.888802  24.906635  24.923897\n",
      "   24.949646  25.090218  25.935364  26.116562  26.131437  26.144028\n",
      "   26.157568  26.17302   26.192951  26.218224  26.249695  26.28603\n",
      "   26.322363  26.353739 ]]\n",
      "\n",
      " [[13.823855  13.823855  13.824188  13.824927  13.826644  14.234138\n",
      "   16.657627  16.872692  17.168783  17.319775  17.350912  17.761755\n",
      "   19.773005  19.963192  20.227789  20.422243  20.503712  20.568657\n",
      "   21.12355   22.594738  22.645664  22.652817  22.664404  22.68152\n",
      "   22.703695  22.744846  23.080156  24.238253  24.821854  24.914597\n",
      "   24.997425  25.061178  25.102947  25.129078  25.148056  25.16718\n",
      "   25.196266  25.307178  25.89035   26.033686  26.049805  26.06392\n",
      "   26.07908   26.096056  26.117802  26.145647  26.180172  26.220798\n",
      "   26.262283  26.299095 ]]\n",
      "\n",
      " [[12.676346  12.676346  12.676668  12.677407  12.679148  13.141703\n",
      "   15.893363  16.106964  16.314697  16.415667  16.443157  16.928364\n",
      "   19.323801  19.508123  19.697643  19.840479  19.895695  19.939898\n",
      "   20.603561  22.466228  22.528696  22.533417  22.541094  22.552729\n",
      "   22.568558  22.60375   22.935913  24.239302  25.040817  25.14472\n",
      "   25.232504  25.298786  25.34213   25.369358  25.38948   25.410461\n",
      "   25.442884  25.52414   25.845335  25.950811  25.968266  25.983809\n",
      "   26.000498  26.019096  26.042747  26.072979  26.11065   26.155565\n",
      "   26.202202  26.24445  ]]\n",
      "\n",
      " [[11.528837  11.528837  11.529147  11.529886  11.531663  12.049281\n",
      "   15.1290655 15.341282  15.460586  15.51156   15.5353775 16.095018\n",
      "   18.874596  19.05303   19.16747   19.258738  19.28773   19.311094\n",
      "   20.083523  22.33777   22.411776  22.414017  22.417736  22.423983\n",
      "   22.433424  22.462606  22.791624  24.240446  25.259733  25.374794\n",
      "   25.467632  25.536442  25.581217  25.609636  25.631044  25.653648\n",
      "   25.689602  25.741003  25.800226  25.868034  25.886631  25.903797\n",
      "   25.92182   25.94223   25.967693  26.000212  26.04122   26.090336\n",
      "   26.14212   26.189804 ]]\n",
      "\n",
      " [[10.381316  10.381316  10.381627  10.382379  10.384167  10.95686\n",
      "   14.364767  14.5756    14.606451  14.607453  14.627646  15.261626\n",
      "   18.425392  18.597984  18.637299  18.676971  18.679737  18.682312\n",
      "   19.563482  22.20931   22.294855  22.294567  22.294472  22.295141\n",
      "   22.298336  22.321415  22.647427  24.241495  25.478697  25.604868\n",
      "   25.70276   25.774096  25.82035   25.849867  25.872517  25.89693\n",
      "   25.93622   25.957869  25.755308  25.785255  25.8049    25.823689\n",
      "   25.843332  25.865173  25.892735  25.927544  25.971697  26.025105\n",
      "   26.082039  26.135254 ]]\n",
      "\n",
      " [[10.381316  10.381316  10.381627  10.382379  10.384167  10.95686\n",
      "   14.364767  14.5756    14.606451  14.607453  14.627646  15.261626\n",
      "   18.425392  18.597984  18.637299  18.676971  18.679737  18.682312\n",
      "   19.563482  22.20931   22.294855  22.294567  22.294472  22.295141\n",
      "   22.298336  22.321415  22.647427  24.241495  25.478697  25.604868\n",
      "   25.70276   25.774096  25.82035   25.849867  25.872517  25.89693\n",
      "   25.93622   25.957869  25.755308  25.785255  25.8049    25.823689\n",
      "   25.843332  25.865173  25.892735  25.927544  25.971697  26.025105\n",
      "   26.082039  26.135254 ]]\n",
      "\n",
      " [[10.381316  10.381316  10.381627  10.382379  10.384167  10.95686\n",
      "   14.364767  14.5756    14.606451  14.607453  14.627646  15.261626\n",
      "   18.425392  18.597984  18.637299  18.676971  18.679737  18.682312\n",
      "   19.563482  22.20931   22.294855  22.294567  22.294472  22.295141\n",
      "   22.298336  22.321415  22.647427  24.241495  25.478697  25.604868\n",
      "   25.70276   25.774096  25.82035   25.849867  25.872517  25.89693\n",
      "   25.93622   25.957869  25.755308  25.785255  25.8049    25.823689\n",
      "   25.843332  25.865173  25.892735  25.927544  25.971697  26.025105\n",
      "   26.082039  26.135254 ]]\n",
      "\n",
      " [[10.381316  10.381316  10.381627  10.382379  10.384167  10.95686\n",
      "   14.364767  14.5756    14.606451  14.607453  14.627646  15.261626\n",
      "   18.425392  18.597984  18.637299  18.676971  18.679737  18.682312\n",
      "   19.563482  22.20931   22.294855  22.294567  22.294472  22.295141\n",
      "   22.298336  22.321415  22.647427  24.241495  25.478697  25.604868\n",
      "   25.70276   25.774096  25.82035   25.849867  25.872517  25.89693\n",
      "   25.93622   25.957869  25.755308  25.785255  25.8049    25.823689\n",
      "   25.843332  25.865173  25.892735  25.927544  25.971697  26.025105\n",
      "   26.082039  26.135254 ]]\n",
      "\n",
      " [[10.381316  10.381316  10.381627  10.382379  10.384167  10.95686\n",
      "   14.364767  14.5756    14.606451  14.607453  14.627646  15.261626\n",
      "   18.425392  18.597984  18.637299  18.676971  18.679737  18.682312\n",
      "   19.563482  22.20931   22.294855  22.294567  22.294472  22.295141\n",
      "   22.298336  22.321415  22.647427  24.241495  25.478697  25.604868\n",
      "   25.70276   25.774096  25.82035   25.849867  25.872517  25.89693\n",
      "   25.93622   25.957869  25.755308  25.785255  25.8049    25.823689\n",
      "   25.843332  25.865173  25.892735  25.927544  25.971697  26.025105\n",
      "   26.082039  26.135254 ]]]\n",
      "all_quantiles after squeezing shape: (16, 50)\n",
      "Error with cow SE-5c06d92d-3075, lactation 1: too many values to unpack (expected 2)\n"
     ]
    },
    {
     "name": "stderr",
     "output_type": "stream",
     "text": [
      "/Users/user/anaconda3/envs/GIGACOW/lib/python3.11/site-packages/torch/optim/lr_scheduler.py:60: UserWarning: The verbose parameter is deprecated. Please use get_last_lr() to access the learning rate.\n",
      "  warnings.warn(\n",
      " 22%|██▏       | 502/2315 [03:08<10:27,  2.89 Segments/s]"
     ]
    },
    {
     "name": "stdout",
     "output_type": "stream",
     "text": [
      "all_quantiles shape: (325, 1, 50)\n",
      "all_quantiles content: [[[34.14334  34.14334  35.22441  ... 50.710297 50.940514 51.08261 ]]\n",
      "\n",
      " [[34.1102   34.1102   35.19175  ... 50.656696 50.887108 51.03035 ]]\n",
      "\n",
      " [[34.07706  34.07706  35.159077 ... 50.60329  50.833702 50.977898]]\n",
      "\n",
      " ...\n",
      "\n",
      " [[23.439394 23.439394 24.67215  ... 33.408356 33.721066 34.136677]]\n",
      "\n",
      " [[23.406256 23.406256 24.639475 ... 33.354855 33.667755 34.08413 ]]\n",
      "\n",
      " [[23.373114 23.373114 24.606812 ... 33.301258 33.61435  34.031677]]]\n",
      "all_quantiles after squeezing shape: (325, 50)\n",
      "Error with cow SE-5c06d92d-3075, lactation 2: too many values to unpack (expected 2)\n"
     ]
    },
    {
     "name": "stderr",
     "output_type": "stream",
     "text": [
      "/Users/user/anaconda3/envs/GIGACOW/lib/python3.11/site-packages/torch/optim/lr_scheduler.py:60: UserWarning: The verbose parameter is deprecated. Please use get_last_lr() to access the learning rate.\n",
      "  warnings.warn(\n",
      " 22%|██▏       | 503/2315 [03:08<10:11,  2.96 Segments/s]"
     ]
    },
    {
     "name": "stdout",
     "output_type": "stream",
     "text": [
      "all_quantiles shape: (51, 1, 50)\n",
      "all_quantiles content: [[[25.603382 25.603382 25.894022 ... 31.284428 31.312845 31.33564 ]]\n",
      "\n",
      " [[25.31125  25.31125  25.670464 ... 31.26049  31.289003 31.311798]]\n",
      "\n",
      " [[25.01912  25.01912  25.446892 ... 31.236744 31.265066 31.287956]]\n",
      "\n",
      " ...\n",
      "\n",
      " [[12.165451 12.165451 15.610051 ... 30.186653 30.215073 30.240059]]\n",
      "\n",
      " [[12.165451 12.165451 15.610051 ... 30.186653 30.215073 30.240059]]\n",
      "\n",
      " [[12.165451 12.165451 15.610051 ... 30.186653 30.215073 30.240059]]]\n",
      "all_quantiles after squeezing shape: (51, 50)\n",
      "Error with cow SE-5c06d92d-3076, lactation 1: too many values to unpack (expected 2)\n"
     ]
    },
    {
     "name": "stderr",
     "output_type": "stream",
     "text": [
      "/Users/user/anaconda3/envs/GIGACOW/lib/python3.11/site-packages/torch/optim/lr_scheduler.py:60: UserWarning: The verbose parameter is deprecated. Please use get_last_lr() to access the learning rate.\n",
      "  warnings.warn(\n",
      " 22%|██▏       | 504/2315 [03:09<10:45,  2.81 Segments/s]"
     ]
    },
    {
     "name": "stdout",
     "output_type": "stream",
     "text": [
      "all_quantiles shape: (297, 1, 50)\n",
      "all_quantiles content: [[[30.782198 30.782198 31.922005 ... 47.028156 47.08767  47.028347]]\n",
      "\n",
      " [[30.768717 30.768717 31.909943 ... 47.055622 47.113987 47.052574]]\n",
      "\n",
      " [[30.782198 30.782198 31.922005 ... 47.028156 47.08767  47.028347]]\n",
      "\n",
      " ...\n",
      "\n",
      " [[34.758274 34.758274 35.48038  ... 38.876343 39.315605 39.94274 ]]\n",
      "\n",
      " [[34.77175  34.77175  35.492443 ... 38.848877 39.28928  39.918514]]\n",
      "\n",
      " [[34.785233 34.785233 35.50451  ... 38.82103  39.262962 39.89448 ]]]\n",
      "all_quantiles after squeezing shape: (297, 50)\n",
      "Error with cow SE-5c06d92d-3076, lactation 2: too many values to unpack (expected 2)\n"
     ]
    },
    {
     "name": "stderr",
     "output_type": "stream",
     "text": [
      "/Users/user/anaconda3/envs/GIGACOW/lib/python3.11/site-packages/torch/optim/lr_scheduler.py:60: UserWarning: The verbose parameter is deprecated. Please use get_last_lr() to access the learning rate.\n",
      "  warnings.warn(\n",
      " 22%|██▏       | 505/2315 [03:09<10:53,  2.77 Segments/s]"
     ]
    },
    {
     "name": "stdout",
     "output_type": "stream",
     "text": [
      "all_quantiles shape: (197, 1, 50)\n",
      "all_quantiles content: [[[38.21635  38.21635  39.82253  ... 49.518013 49.717327 49.942398]]\n",
      "\n",
      " [[38.21635  38.21635  39.82253  ... 49.518013 49.717327 49.942398]]\n",
      "\n",
      " [[38.21635  38.21635  39.82253  ... 49.518013 49.717327 49.942398]]\n",
      "\n",
      " ...\n",
      "\n",
      " [[39.398106 39.398106 39.683758 ... 45.69359  46.529198 47.427937]]\n",
      "\n",
      " [[39.40772  39.40772  39.68264  ... 45.6625   46.503254 47.40734 ]]\n",
      "\n",
      " [[39.417324 39.417324 39.681503 ... 45.6316   46.477318 47.386932]]]\n",
      "all_quantiles after squeezing shape: (197, 50)\n",
      "Error with cow SE-5c06d92d-3076, lactation 3: too many values to unpack (expected 2)\n"
     ]
    },
    {
     "name": "stderr",
     "output_type": "stream",
     "text": [
      "/Users/user/anaconda3/envs/GIGACOW/lib/python3.11/site-packages/torch/optim/lr_scheduler.py:60: UserWarning: The verbose parameter is deprecated. Please use get_last_lr() to access the learning rate.\n",
      "  warnings.warn(\n",
      " 22%|██▏       | 506/2315 [03:09<10:38,  2.83 Segments/s]"
     ]
    },
    {
     "name": "stdout",
     "output_type": "stream",
     "text": [
      "all_quantiles shape: (77, 1, 50)\n",
      "all_quantiles content: [[[35.294903 35.294903 34.179432 ... 37.08515  37.801743 38.07602 ]]\n",
      "\n",
      " [[35.17298  35.17298  34.12301  ... 37.063217 37.7676   38.038635]]\n",
      "\n",
      " [[35.05105  35.05105  34.06658  ... 37.041473 37.73346  38.00125 ]]\n",
      "\n",
      " ...\n",
      "\n",
      " [[26.272451 26.272451 30.004011 ... 35.463524 35.280037 35.30464 ]]\n",
      "\n",
      " [[26.272451 26.272451 30.004011 ... 35.463524 35.280037 35.30464 ]]\n",
      "\n",
      " [[26.272451 26.272451 30.004011 ... 35.463524 35.280037 35.30464 ]]]\n",
      "all_quantiles after squeezing shape: (77, 50)\n",
      "Error with cow SE-5c06d92d-3078, lactation 1: too many values to unpack (expected 2)\n"
     ]
    },
    {
     "name": "stderr",
     "output_type": "stream",
     "text": [
      "/Users/user/anaconda3/envs/GIGACOW/lib/python3.11/site-packages/torch/optim/lr_scheduler.py:60: UserWarning: The verbose parameter is deprecated. Please use get_last_lr() to access the learning rate.\n",
      "  warnings.warn(\n",
      " 22%|██▏       | 507/2315 [03:10<11:05,  2.72 Segments/s]"
     ]
    },
    {
     "name": "stdout",
     "output_type": "stream",
     "text": [
      "all_quantiles shape: (325, 1, 50)\n",
      "all_quantiles content: [[[28.74261  28.74261  35.081398 ... 54.161068 54.414173 54.402542]]\n",
      "\n",
      " [[28.74261  28.74261  35.081398 ... 54.161068 54.414173 54.402542]]\n",
      "\n",
      " [[27.431356 27.431356 34.73793  ... 56.461143 56.689835 56.498528]]\n",
      "\n",
      " ...\n",
      "\n",
      " [[37.453053 37.453053 37.362846 ... 38.88092  39.298054 40.478706]]\n",
      "\n",
      " [[37.484276 37.484276 37.37103  ... 38.82599  39.24389  40.42873 ]]\n",
      "\n",
      " [[37.515495 37.515495 37.379215 ... 38.771248 39.18972  40.37876 ]]]\n",
      "all_quantiles after squeezing shape: (325, 50)\n",
      "Error with cow SE-5c06d92d-3078, lactation 2: too many values to unpack (expected 2)\n"
     ]
    },
    {
     "name": "stderr",
     "output_type": "stream",
     "text": [
      "/Users/user/anaconda3/envs/GIGACOW/lib/python3.11/site-packages/torch/optim/lr_scheduler.py:60: UserWarning: The verbose parameter is deprecated. Please use get_last_lr() to access the learning rate.\n",
      "  warnings.warn(\n",
      " 22%|██▏       | 508/2315 [03:10<11:16,  2.67 Segments/s]"
     ]
    },
    {
     "name": "stdout",
     "output_type": "stream",
     "text": [
      "all_quantiles shape: (146, 1, 50)\n",
      "all_quantiles content: [[[35.281345 35.281345 36.347103 ... 53.73478  53.760715 53.908916]]\n",
      "\n",
      " [[35.281345 35.281345 36.347103 ... 53.73478  53.760715 53.908916]]\n",
      "\n",
      " [[35.281345 35.281345 36.347103 ... 53.73478  53.760715 53.908916]]\n",
      "\n",
      " ...\n",
      "\n",
      " [[50.23346  50.23346  50.23535  ... 53.881264 54.17366  54.318996]]\n",
      "\n",
      " [[50.355022 50.355022 50.348267 ... 53.88241  54.176903 54.322243]]\n",
      "\n",
      " [[50.476597 50.476597 50.46117  ... 53.883553 54.180523 54.325485]]]\n",
      "all_quantiles after squeezing shape: (146, 50)\n",
      "Error with cow SE-5c06d92d-3078, lactation 3: too many values to unpack (expected 2)\n"
     ]
    },
    {
     "name": "stderr",
     "output_type": "stream",
     "text": [
      "/Users/user/anaconda3/envs/GIGACOW/lib/python3.11/site-packages/torch/optim/lr_scheduler.py:60: UserWarning: The verbose parameter is deprecated. Please use get_last_lr() to access the learning rate.\n",
      "  warnings.warn(\n",
      " 22%|██▏       | 509/2315 [03:10<10:53,  2.76 Segments/s]"
     ]
    },
    {
     "name": "stdout",
     "output_type": "stream",
     "text": [
      "all_quantiles shape: (118, 1, 50)\n",
      "all_quantiles content: [[[29.168783 29.168783 28.868372 ... 33.824825 33.600044 33.081818]]\n",
      "\n",
      " [[29.148922 29.148922 28.86347  ... 33.828068 33.61206  33.110046]]\n",
      "\n",
      " [[29.129076 29.129076 28.858578 ... 33.83131  33.624363 33.138084]]\n",
      "\n",
      " ...\n",
      "\n",
      " [[26.8854   26.8854   28.305674 ... 34.198284 34.994793 36.32927 ]]\n",
      "\n",
      " [[26.865541 26.865541 28.300774 ... 34.20143  35.007    36.357403]]\n",
      "\n",
      " [[26.865541 26.865541 28.300774 ... 34.20143  35.007    36.357403]]]\n",
      "all_quantiles after squeezing shape: (118, 50)\n",
      "Error with cow SE-5c06d92d-3080, lactation 1: too many values to unpack (expected 2)\n"
     ]
    },
    {
     "name": "stderr",
     "output_type": "stream",
     "text": [
      "/Users/user/anaconda3/envs/GIGACOW/lib/python3.11/site-packages/torch/optim/lr_scheduler.py:60: UserWarning: The verbose parameter is deprecated. Please use get_last_lr() to access the learning rate.\n",
      "  warnings.warn(\n",
      " 22%|██▏       | 510/2315 [03:11<11:34,  2.60 Segments/s]/Users/user/anaconda3/envs/GIGACOW/lib/python3.11/site-packages/torch/optim/lr_scheduler.py:60: UserWarning: The verbose parameter is deprecated. Please use get_last_lr() to access the learning rate.\n",
      "  warnings.warn(\n",
      " 22%|██▏       | 510/2315 [03:11<11:17,  2.66 Segments/s]"
     ]
    },
    {
     "name": "stdout",
     "output_type": "stream",
     "text": [
      "all_quantiles shape: (499, 1, 50)\n",
      "all_quantiles content: [[[21.605646 21.605646 30.408085 ... 51.257893 51.63288  51.955605]]\n",
      "\n",
      " [[21.607256 21.607256 30.452633 ... 51.37272  51.748844 52.07214 ]]\n",
      "\n",
      " [[21.605646 21.605646 30.408085 ... 51.257893 51.63288  51.955605]]\n",
      "\n",
      " ...\n",
      "\n",
      " [[21.316242 21.316242 22.368393 ... 30.51691  30.703926 30.929089]]\n",
      "\n",
      " [[21.316242 21.316242 22.368393 ... 30.51691  30.703926 30.929089]]\n",
      "\n",
      " [[21.316242 21.316242 22.368393 ... 30.51691  30.703926 30.929089]]]\n",
      "all_quantiles after squeezing shape: (499, 50)\n",
      "Error with cow SE-5c06d92d-3080, lactation 2: too many values to unpack (expected 2)\n"
     ]
    },
    {
     "name": "stderr",
     "output_type": "stream",
     "text": [
      "\n"
     ]
    },
    {
     "ename": "KeyboardInterrupt",
     "evalue": "",
     "output_type": "error",
     "traceback": [
      "\u001b[0;31m---------------------------------------------------------------------------\u001b[0m",
      "\u001b[0;31mKeyboardInterrupt\u001b[0m                         Traceback (most recent call last)",
      "Cell \u001b[0;32mIn[35], line 78\u001b[0m\n\u001b[1;32m     75\u001b[0m     \u001b[38;5;28;01mreturn\u001b[39;00m dataset, params_dict\n\u001b[1;32m     77\u001b[0m \u001b[38;5;66;03m# Apply the quantile-based curve fitting function\u001b[39;00m\n\u001b[0;32m---> 78\u001b[0m data, params_dict \u001b[38;5;241m=\u001b[39m \u001b[43mfit_wilmink_lactation_curve_with_vqr\u001b[49m\u001b[43m(\u001b[49m\u001b[43mdata\u001b[49m\u001b[43m,\u001b[49m\u001b[43m \u001b[49m\u001b[43mquantile\u001b[49m\u001b[38;5;241;43m=\u001b[39;49m\u001b[38;5;241;43m0.7\u001b[39;49m\u001b[43m)\u001b[49m\n",
      "Cell \u001b[0;32mIn[35], line 44\u001b[0m, in \u001b[0;36mfit_wilmink_lactation_curve_with_vqr\u001b[0;34m(dataset, quantile)\u001b[0m\n\u001b[1;32m     41\u001b[0m     \u001b[38;5;28;01mcontinue\u001b[39;00m\n\u001b[1;32m     43\u001b[0m \u001b[38;5;28;01mtry\u001b[39;00m:\n\u001b[0;32m---> 44\u001b[0m     \u001b[43mvqr\u001b[49m\u001b[38;5;241;43m.\u001b[39;49m\u001b[43mfit\u001b[49m\u001b[43m(\u001b[49m\u001b[43mx_data\u001b[49m\u001b[43m,\u001b[49m\u001b[43m \u001b[49m\u001b[43my_data\u001b[49m\u001b[43m)\u001b[49m\n\u001b[1;32m     45\u001b[0m     all_quantiles \u001b[38;5;241m=\u001b[39m vqr\u001b[38;5;241m.\u001b[39mpredict(x_data)\n\u001b[1;32m     46\u001b[0m     \u001b[38;5;28mprint\u001b[39m(\u001b[38;5;124mf\u001b[39m\u001b[38;5;124m\"\u001b[39m\u001b[38;5;124mall_quantiles shape: \u001b[39m\u001b[38;5;132;01m{\u001b[39;00mall_quantiles\u001b[38;5;241m.\u001b[39mshape\u001b[38;5;132;01m}\u001b[39;00m\u001b[38;5;124m\"\u001b[39m)  \u001b[38;5;66;03m# Debugging: check the shape of the output\u001b[39;00m\n",
      "File \u001b[0;32m~/anaconda3/envs/GIGACOW/lib/python3.11/site-packages/vqr/api.py:289\u001b[0m, in \u001b[0;36mVectorQuantileRegressor.fit\u001b[0;34m(self, X, Y)\u001b[0m\n\u001b[1;32m    286\u001b[0m \u001b[38;5;66;03m# Scale features to zero-mean\u001b[39;00m\n\u001b[1;32m    287\u001b[0m X_scaled \u001b[38;5;241m=\u001b[39m \u001b[38;5;28mself\u001b[39m\u001b[38;5;241m.\u001b[39m_scaler\u001b[38;5;241m.\u001b[39mfit_transform(X)\n\u001b[0;32m--> 289\u001b[0m \u001b[38;5;28mself\u001b[39m\u001b[38;5;241m.\u001b[39mfitted_vqf_: CVQF \u001b[38;5;241m=\u001b[39m \u001b[38;5;28;43mself\u001b[39;49m\u001b[38;5;241;43m.\u001b[39;49m\u001b[43msolver\u001b[49m\u001b[38;5;241;43m.\u001b[39;49m\u001b[43msolve_vqr\u001b[49m\u001b[43m(\u001b[49m\u001b[43mY\u001b[49m\u001b[38;5;241;43m=\u001b[39;49m\u001b[43mY\u001b[49m\u001b[43m,\u001b[49m\u001b[43m \u001b[49m\u001b[43mX\u001b[49m\u001b[38;5;241;43m=\u001b[39;49m\u001b[43mX_scaled\u001b[49m\u001b[43m)\u001b[49m\n\u001b[1;32m    290\u001b[0m \u001b[38;5;28;01mreturn\u001b[39;00m \u001b[38;5;28mself\u001b[39m\n",
      "File \u001b[0;32m~/anaconda3/envs/GIGACOW/lib/python3.11/site-packages/vqr/solvers/regularized_lse.py:163\u001b[0m, in \u001b[0;36mRegularizedDualVQRSolver.solve_vqr\u001b[0;34m(self, Y, X)\u001b[0m\n\u001b[1;32m    162\u001b[0m \u001b[38;5;28;01mdef\u001b[39;00m \u001b[38;5;21msolve_vqr\u001b[39m(\u001b[38;5;28mself\u001b[39m, Y: Array, X: Array) \u001b[38;5;241m-\u001b[39m\u001b[38;5;241m>\u001b[39m DiscreteCVQF:\n\u001b[0;32m--> 163\u001b[0m     \u001b[38;5;28;01mreturn\u001b[39;00m \u001b[38;5;28;43mself\u001b[39;49m\u001b[38;5;241;43m.\u001b[39;49m\u001b[43m_solve\u001b[49m\u001b[43m(\u001b[49m\u001b[43mY\u001b[49m\u001b[43m,\u001b[49m\u001b[43m \u001b[49m\u001b[43mX\u001b[49m\u001b[43m)\u001b[49m\n",
      "File \u001b[0;32m~/anaconda3/envs/GIGACOW/lib/python3.11/site-packages/vqr/solvers/regularized_lse.py:281\u001b[0m, in \u001b[0;36mRegularizedDualVQRSolver._solve\u001b[0;34m(self, Y, X)\u001b[0m\n\u001b[1;32m    276\u001b[0m         final_loss \u001b[38;5;241m=\u001b[39m \u001b[38;5;28mself\u001b[39m\u001b[38;5;241m.\u001b[39m_train_minibatch(\n\u001b[1;32m    277\u001b[0m             T, Y_th, U_th, psi, X_th, b, net, optimizer, scheduler, pbar\n\u001b[1;32m    278\u001b[0m         )\n\u001b[1;32m    280\u001b[0m     \u001b[38;5;28;01melse\u001b[39;00m:\n\u001b[0;32m--> 281\u001b[0m         final_loss \u001b[38;5;241m=\u001b[39m \u001b[38;5;28;43mself\u001b[39;49m\u001b[38;5;241;43m.\u001b[39;49m\u001b[43m_train_fullbatch\u001b[49m\u001b[43m(\u001b[49m\n\u001b[1;32m    282\u001b[0m \u001b[43m            \u001b[49m\u001b[43mT\u001b[49m\u001b[43m,\u001b[49m\u001b[43m \u001b[49m\u001b[43mY_th\u001b[49m\u001b[43m,\u001b[49m\u001b[43m \u001b[49m\u001b[43mU_th\u001b[49m\u001b[43m,\u001b[49m\u001b[43m \u001b[49m\u001b[43mpsi\u001b[49m\u001b[43m,\u001b[49m\u001b[43m \u001b[49m\u001b[43mX_th\u001b[49m\u001b[43m,\u001b[49m\u001b[43m \u001b[49m\u001b[43mb\u001b[49m\u001b[43m,\u001b[49m\u001b[43m \u001b[49m\u001b[43mnet\u001b[49m\u001b[43m,\u001b[49m\u001b[43m \u001b[49m\u001b[43moptimizer\u001b[49m\u001b[43m,\u001b[49m\u001b[43m \u001b[49m\u001b[43mscheduler\u001b[49m\u001b[43m,\u001b[49m\u001b[43m \u001b[49m\u001b[43mpbar\u001b[49m\n\u001b[1;32m    283\u001b[0m \u001b[43m        \u001b[49m\u001b[43m)\u001b[49m\n\u001b[1;32m    285\u001b[0m train_time \u001b[38;5;241m=\u001b[39m time() \u001b[38;5;241m-\u001b[39m start_time\n\u001b[1;32m    287\u001b[0m \u001b[38;5;66;03m# Move data back to main memory, and free GPU memory for inference\u001b[39;00m\n",
      "File \u001b[0;32m~/anaconda3/envs/GIGACOW/lib/python3.11/site-packages/vqr/solvers/regularized_lse.py:400\u001b[0m, in \u001b[0;36mRegularizedDualVQRSolver._train_fullbatch\u001b[0;34m(self, T, Y, U, psi, X, b, net, optimizer, scheduler, pbar)\u001b[0m\n\u001b[1;32m    398\u001b[0m constraint_loss \u001b[38;5;241m=\u001b[39m phi\u001b[38;5;241m.\u001b[39mT \u001b[38;5;241m@\u001b[39m mu\n\u001b[1;32m    399\u001b[0m objective \u001b[38;5;241m=\u001b[39m psi\u001b[38;5;241m.\u001b[39mT \u001b[38;5;241m@\u001b[39m nu \u001b[38;5;241m+\u001b[39m constraint_loss\n\u001b[0;32m--> 400\u001b[0m \u001b[43mobjective\u001b[49m\u001b[38;5;241;43m.\u001b[39;49m\u001b[43mbackward\u001b[49m\u001b[43m(\u001b[49m\u001b[43m)\u001b[49m\n\u001b[1;32m    401\u001b[0m optimizer\u001b[38;5;241m.\u001b[39mstep()\n\u001b[1;32m    402\u001b[0m scheduler\u001b[38;5;241m.\u001b[39mstep(objective)\n",
      "File \u001b[0;32m~/anaconda3/envs/GIGACOW/lib/python3.11/site-packages/torch/_tensor.py:465\u001b[0m, in \u001b[0;36mTensor.backward\u001b[0;34m(self, gradient, retain_graph, create_graph, inputs)\u001b[0m\n\u001b[1;32m    462\u001b[0m     \u001b[38;5;66;03m# All strings are unicode in Python 3.\u001b[39;00m\n\u001b[1;32m    463\u001b[0m     \u001b[38;5;28;01mreturn\u001b[39;00m torch\u001b[38;5;241m.\u001b[39m_tensor_str\u001b[38;5;241m.\u001b[39m_str(\u001b[38;5;28mself\u001b[39m, tensor_contents\u001b[38;5;241m=\u001b[39mtensor_contents)\n\u001b[0;32m--> 465\u001b[0m \u001b[38;5;28;01mdef\u001b[39;00m \u001b[38;5;21mbackward\u001b[39m(\n\u001b[1;32m    466\u001b[0m     \u001b[38;5;28mself\u001b[39m, gradient\u001b[38;5;241m=\u001b[39m\u001b[38;5;28;01mNone\u001b[39;00m, retain_graph\u001b[38;5;241m=\u001b[39m\u001b[38;5;28;01mNone\u001b[39;00m, create_graph\u001b[38;5;241m=\u001b[39m\u001b[38;5;28;01mFalse\u001b[39;00m, inputs\u001b[38;5;241m=\u001b[39m\u001b[38;5;28;01mNone\u001b[39;00m\n\u001b[1;32m    467\u001b[0m ):\n\u001b[1;32m    468\u001b[0m \u001b[38;5;250m    \u001b[39m\u001b[38;5;124mr\u001b[39m\u001b[38;5;124;03m\"\"\"Computes the gradient of current tensor wrt graph leaves.\u001b[39;00m\n\u001b[1;32m    469\u001b[0m \n\u001b[1;32m    470\u001b[0m \u001b[38;5;124;03m    The graph is differentiated using the chain rule. If the tensor is\u001b[39;00m\n\u001b[0;32m   (...)\u001b[0m\n\u001b[1;32m    509\u001b[0m \u001b[38;5;124;03m            used to compute the :attr:`tensors`.\u001b[39;00m\n\u001b[1;32m    510\u001b[0m \u001b[38;5;124;03m    \"\"\"\u001b[39;00m\n\u001b[1;32m    511\u001b[0m     \u001b[38;5;28;01mif\u001b[39;00m has_torch_function_unary(\u001b[38;5;28mself\u001b[39m):\n",
      "\u001b[0;31mKeyboardInterrupt\u001b[0m: "
     ]
    }
   ],
   "source": [
    "# Define the Wilmink Lactation Curve function\n",
    "def wilmink_lactation_curve(dim, a, b, c, d):\n",
    "    dim = np.array(dim, dtype=float)\n",
    "    return a + b * dim + c * np.exp(-d * dim)\n",
    "\n",
    "# Function to remove outliers\n",
    "def remove_outliers(group, threshold=3.5):\n",
    "    mean = np.mean(group['DailyYield'])\n",
    "    std_dev = np.std(group['DailyYield'])\n",
    "    return group[(group['DailyYield'] > mean - threshold * std_dev) & (group['DailyYield'] < mean + threshold * std_dev)]\n",
    "\n",
    "# Function to smooth the data\n",
    "def smooth_data(group, window=5):\n",
    "    group = group.copy()\n",
    "    group['DailyYield'] = group['DailyYield'].rolling(window, min_periods=1).mean()\n",
    "    return group\n",
    "\n",
    "# Quantile loss function\n",
    "def quantile_loss(params, dim, yield_data_quantile):\n",
    "    a, b, c, d = params\n",
    "    predictions = wilmink_lactation_curve(dim, a, b, c, d)\n",
    "    residuals = yield_data_quantile - predictions\n",
    "    loss = np.sum(np.abs(residuals))\n",
    "    return loss\n",
    "\n",
    "# Function to fit the Wilmink curve using VQR for quantile estimation\n",
    "def fit_wilmink_lactation_curve_with_vqr(dataset, quantile=0.7):\n",
    "    dataset['ExpectedYield'] = np.nan\n",
    "    params_dict = {}\n",
    "\n",
    "    vqr_solver = RegularizedDualVQRSolver(verbose=False, epsilon=1e-2, num_epochs=1000, lr=0.9)\n",
    "    vqr = VectorQuantileRegressor(solver=vqr_solver)\n",
    "\n",
    "    for (animal_number, lactation_number), group in tqdm(dataset.groupby(['SE_Number', 'LactationNumber']), unit=\" Segments\"):\n",
    "        group = remove_outliers(group)\n",
    "        group = smooth_data(group)\n",
    "        x_data = group['DaysInMilk'].values.reshape(-1, 1).astype(float)\n",
    "        y_data = group['DailyYield'].values.reshape(-1, 1).astype(float)\n",
    "\n",
    "        if len(x_data) < 10 or len(y_data) < 10:\n",
    "            continue\n",
    "\n",
    "        try:\n",
    "            vqr.fit(x_data, y_data)\n",
    "            all_quantiles = vqr.predict(x_data)\n",
    "            print(f\"all_quantiles shape: {all_quantiles.shape}\")  # Debugging: check the shape of the output\n",
    "            print(f\"all_quantiles content: {all_quantiles}\")  # Debugging: print the content of the output\n",
    "\n",
    "            # Squeeze out the unnecessary dimension\n",
    "            all_quantiles = np.squeeze(all_quantiles, axis=1)\n",
    "            print(f\"all_quantiles after squeezing shape: {all_quantiles.shape}\")  # Check shape after squeezing\n",
    "\n",
    "            # Expecting two dimensions: (n_samples, n_quantiles)\n",
    "            quantile_index = int(quantile * (all_quantiles.shape[1] - 1))\n",
    "            y_data_quantile = all_quantiles[:, quantile_index]\n",
    "\n",
    "            initial_guesses = [np.mean(y_data), 0, np.mean(y_data) / 2, 0.1]\n",
    "            bounds = ([-np.inf, -np.inf, -np.inf, 0], [np.inf, np.inf, np.inf, np.inf])\n",
    "\n",
    "            result = minimize(\n",
    "                quantile_loss, initial_guesses, args=(x_data.flatten(), y_data_quantile),\n",
    "                method='L-BFGS-B', bounds=bounds\n",
    "            )\n",
    "\n",
    "            if result.success:\n",
    "                popt = result.x\n",
    "                params_dict[(animal_number, lactation_number)] = {'a': popt[0], 'b': popt[1], 'c': popt[2], 'd': popt[3]}\n",
    "                dataset.loc[group.index, 'ExpectedYield'] = wilmink_lactation_curve(group['DaysInMilk'], *popt)\n",
    "            else:\n",
    "                print(f\"Optimization failed for cow {animal_number}, lactation {lactation_number}.\")\n",
    "        except Exception as e:\n",
    "            print(f\"Error with cow {animal_number}, lactation {lactation_number}: {e}\")\n",
    "\n",
    "    dataset['ExpectedYield'] = dataset['ExpectedYield'].fillna(0)\n",
    "    return dataset, params_dict\n",
    "\n",
    "# Apply the quantile-based curve fitting function\n",
    "data, params_dict = fit_wilmink_lactation_curve_with_vqr(data, quantile=0.7)"
   ]
  }
 ],
 "metadata": {
  "kernelspec": {
   "display_name": "GIGACOW",
   "language": "python",
   "name": "python3"
  },
  "language_info": {
   "codemirror_mode": {
    "name": "ipython",
    "version": 3
   },
   "file_extension": ".py",
   "mimetype": "text/x-python",
   "name": "python",
   "nbconvert_exporter": "python",
   "pygments_lexer": "ipython3",
   "version": "3.11.9"
  }
 },
 "nbformat": 4,
 "nbformat_minor": 2
}
