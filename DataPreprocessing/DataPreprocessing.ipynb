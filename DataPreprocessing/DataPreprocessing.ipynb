{
 "cells": [
  {
   "cell_type": "code",
   "execution_count": 1,
   "metadata": {},
   "outputs": [],
   "source": [
    "from PreProcessYield import MilkDataProcessor\n",
    "from PreProcessFertility import FertilityDataProcessor\n",
    "from PreProcessCalving import CalvingDataProcessor\n",
    "%load_ext autoreload\n",
    "%autoreload 2"
   ]
  },
  {
   "cell_type": "code",
   "execution_count": 2,
   "metadata": {},
   "outputs": [],
   "source": [
    "start_date = '2022-01-01 00:00:00'\n",
    "end_date = '2024-08-18 23:00:00'"
   ]
  },
  {
   "cell_type": "code",
   "execution_count": 3,
   "metadata": {},
   "outputs": [
    {
     "name": "stderr",
     "output_type": "stream",
     "text": [
      "2024-08-26 08:19:04,379 - INFO - Loading Milk Data...\n",
      "2024-08-26 08:19:25,511 - INFO - Loading Breed & Birth Data...\n",
      "2024-08-26 08:19:40,161 - INFO - Rows after merging breed & birth data: 10475975\n",
      "2024-08-26 08:19:40,163 - INFO - Breed & Birth Data Loaded Successfully\n",
      "2024-08-26 08:19:40,166 - INFO - Milk Data Loaded Successfully\n",
      "2024-08-26 08:19:40,423 - INFO - Adding Global Irradiance and THI_adj...\n",
      "Adding Global Irradiance and THI_adj to 5f7f33d6: 100%|██████████| 15/15 [00:10<00:00,  1.41it/s]\n",
      "2024-08-26 08:19:51,077 - INFO - Global Irradiance and THI_adj Added Successfully\n",
      "2024-08-26 08:19:51,078 - INFO - Adding Weather Data...\n",
      "2024-08-26 08:19:51,677 - INFO - Merging weather and milk data...\n",
      "Merging weather and milk data: 100%|██████████| 12/12 [00:00<00:00, 45.91farm/s]\n",
      "2024-08-26 08:21:32,449 - WARNING - No matching weather data found for farm 6d38bc90\n",
      "2024-08-26 08:21:41,536 - INFO - Concatenating results...\n",
      "2024-08-26 08:21:53,581 - INFO - Total rows after concatenation: 10475975\n",
      "2024-08-26 08:21:53,585 - INFO - Dropping rows with missing TotalYield...\n",
      "2024-08-26 08:22:00,188 - INFO - Dropping unnecessary columns...\n",
      "2024-08-26 08:22:01,925 - INFO - Renaming columns...\n",
      "2024-08-26 08:22:01,932 - INFO - Saving the final merged data to CSV...\n",
      "2024-08-26 08:22:47,787 - INFO - Weather Data Added Successfully\n",
      "2024-08-26 08:22:48,984 - INFO - Preprocessing Done!\n"
     ]
    }
   ],
   "source": [
    "processor = MilkDataProcessor()\n",
    "processor.preprocess(start_date=start_date, end_date=end_date)"
   ]
  },
  {
   "cell_type": "code",
   "execution_count": 4,
   "metadata": {},
   "outputs": [
    {
     "name": "stderr",
     "output_type": "stream",
     "text": [
      "2024-08-26 08:22:50,526 - INFO - Loading Insemination Data...\n",
      "2024-08-26 08:22:50,602 - INFO - Insemination Data Loaded Successfully\n",
      "2024-08-26 08:22:50,602 - INFO - Loading Breed & Birth Data...\n",
      "2024-08-26 08:22:50,718 - INFO - Breed & Birth Data Loaded Successfully\n",
      "2024-08-26 08:22:50,719 - INFO - Loading Calving Data...\n",
      "2024-08-26 08:22:50,757 - INFO - Calving Data Loaded Successfully\n",
      "2024-08-26 08:22:50,758 - INFO - Loading Lactation Data...\n",
      "2024-08-26 08:22:53,374 - INFO - Lactation Data Loaded Successfully\n",
      "2024-08-26 08:22:53,374 - INFO - Adding Lactation Numbers...\n",
      "2024-08-26 08:29:13,153 - INFO - Lactation Numbers Added Successfully\n",
      "2024-08-26 08:29:13,157 - INFO - Calculating Derived Data...\n",
      "2024-08-26 08:29:13,791 - INFO - Derived Data Calculated Successfully\n",
      "2024-08-26 08:29:13,796 - INFO - Adding Global Irradiance and THI_adj...\n",
      "Adding Global Irradiance and THI_adj to 5f7f33d6: 100%|██████████| 15/15 [00:08<00:00,  1.68it/s]\n",
      "2024-08-26 08:29:22,738 - INFO - Global Irradiance and THI_adj Added Successfully\n",
      "2024-08-26 08:29:22,739 - INFO - Adding Weather Data...\n",
      "2024-08-26 08:29:23,104 - INFO - Merging weather and fertility data...\n",
      "Merging weather and fertility data: 100%|██████████| 11/11 [00:00<00:00, 191.14farm/s]\n",
      "2024-08-26 08:29:23,163 - INFO - Concatenating results...\n",
      "2024-08-26 08:29:23,166 - INFO - Total rows after concatenation: 16523\n",
      "2024-08-26 08:29:23,167 - INFO - Dropping rows with missing InseminationDate...\n",
      "2024-08-26 08:29:23,171 - INFO - Dropping unnecessary columns...\n",
      "2024-08-26 08:29:23,173 - INFO - Renaming columns to reflect mean values...\n",
      "2024-08-26 08:29:23,173 - INFO - Saving the final merged data to CSV...\n",
      "2024-08-26 08:29:23,342 - INFO - Weather Data Added Successfully\n",
      "2024-08-26 08:29:23,349 - INFO - Preprocessing Done!\n"
     ]
    }
   ],
   "source": [
    "processor = FertilityDataProcessor()\n",
    "processor.preprocess(start_date=start_date, end_date=end_date)"
   ]
  },
  {
   "cell_type": "code",
   "execution_count": 5,
   "metadata": {},
   "outputs": [
    {
     "name": "stderr",
     "output_type": "stream",
     "text": [
      "2024-08-26 08:29:23,376 - INFO - Loading Calving Data...\n"
     ]
    },
    {
     "name": "stderr",
     "output_type": "stream",
     "text": [
      "2024-08-26 08:29:23,410 - INFO - Calving Data Loaded Successfully\n",
      "2024-08-26 08:29:23,410 - INFO - Loading Breed & Birth Data...\n",
      "2024-08-26 08:29:23,530 - INFO - Breed & Birth Data Loaded Successfully\n",
      "2024-08-26 08:29:23,535 - INFO - Adding Global Irradiance and THI_adj...\n",
      "Adding Global Irradiance and THI_adj to 5f7f33d6: 100%|██████████| 15/15 [00:08<00:00,  1.72it/s]\n",
      "2024-08-26 08:29:32,248 - INFO - Global Irradiance and THI_adj Added Successfully\n",
      "2024-08-26 08:29:32,250 - INFO - Adding Weather Data...\n",
      "2024-08-26 08:29:32,621 - INFO - Merging weather and calving data...\n",
      "Merging weather and calving data: 100%|██████████| 11/11 [00:00<00:00, 236.86farm/s]\n",
      "2024-08-26 08:29:32,669 - INFO - Concatenating results...\n",
      "2024-08-26 08:29:32,670 - INFO - Total rows after concatenation: 6442\n",
      "2024-08-26 08:29:32,670 - INFO - Dropping rows with missing CalvingDate...\n",
      "2024-08-26 08:29:32,672 - INFO - Dropping unnecessary columns...\n",
      "2024-08-26 08:29:32,672 - INFO - Renaming columns to reflect mean values...\n",
      "2024-08-26 08:29:32,673 - INFO - Saving the final merged data to CSV...\n",
      "2024-08-26 08:29:32,706 - INFO - Weather Data Added Successfully\n",
      "2024-08-26 08:29:32,711 - INFO - Preprocessing Done!\n"
     ]
    }
   ],
   "source": [
    "processor = CalvingDataProcessor()\n",
    "processor.preprocess(start_date=start_date, end_date=end_date)"
   ]
  }
 ],
 "metadata": {
  "kernelspec": {
   "display_name": "Doris",
   "language": "python",
   "name": "python3"
  },
  "language_info": {
   "codemirror_mode": {
    "name": "ipython",
    "version": 3
   },
   "file_extension": ".py",
   "mimetype": "text/x-python",
   "name": "python",
   "nbconvert_exporter": "python",
   "pygments_lexer": "ipython3",
   "version": "3.11.9"
  }
 },
 "nbformat": 4,
 "nbformat_minor": 2
}
