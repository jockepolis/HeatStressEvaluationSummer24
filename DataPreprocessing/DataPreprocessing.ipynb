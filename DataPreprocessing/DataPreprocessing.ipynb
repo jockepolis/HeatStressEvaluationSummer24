{
 "cells": [
  {
   "cell_type": "code",
   "execution_count": 1,
   "metadata": {},
   "outputs": [],
   "source": [
    "from PreProcessYield import MilkDataProcessor\n",
    "from PreProcessFertility import FertilityDataProcessor\n",
    "from PreProcessCalving import CalvingDataProcessor\n",
    "%load_ext autoreload\n",
    "%autoreload 2"
   ]
  },
  {
   "cell_type": "code",
   "execution_count": 2,
   "metadata": {},
   "outputs": [
    {
     "name": "stderr",
     "output_type": "stream",
     "text": [
      "2024-07-31 16:50:58,762 - INFO - Loading Milk Data...\n",
      "2024-07-31 16:51:14,953 - INFO - Loading Breed & Birth Data...\n",
      "2024-07-31 16:51:24,239 - INFO - Rows after merging breed & birth data: 7883150\n",
      "2024-07-31 16:51:24,241 - INFO - Breed & Birth Data Loaded Successfully\n",
      "2024-07-31 16:51:24,243 - INFO - Milk Data Loaded Successfully\n",
      "2024-07-31 16:51:24,407 - INFO - Adding Global Irradiance and THI_adj...\n",
      "Adding Global Irradiance and THI_adj to 5f7f33d6: 100%|██████████| 15/15 [00:06<00:00,  2.32it/s]\n",
      "2024-07-31 16:51:30,899 - INFO - Global Irradiance and THI_adj Added Successfully\n",
      "2024-07-31 16:51:30,900 - INFO - Adding Weather Data...\n",
      "2024-07-31 16:51:31,429 - INFO - Merging weather and milk data...\n",
      "Merging weather and milk data: 100%|██████████| 11/11 [00:00<00:00, 38.51farm/s]\n",
      "2024-07-31 16:52:48,534 - INFO - Concatenating results...\n",
      "2024-07-31 16:52:55,299 - INFO - Total rows after concatenation: 7883150\n",
      "2024-07-31 16:52:55,308 - INFO - Dropping rows with missing TotalYield...\n",
      "2024-07-31 16:52:57,720 - INFO - Dropping unnecessary columns...\n",
      "2024-07-31 16:52:58,555 - INFO - Renaming columns...\n",
      "2024-07-31 16:52:58,556 - INFO - Saving the final merged data to CSV...\n",
      "2024-07-31 16:53:33,191 - INFO - Weather Data Added Successfully\n",
      "2024-07-31 16:53:33,710 - INFO - Preprocessing Done!\n"
     ]
    }
   ],
   "source": [
    "processor = MilkDataProcessor()\n",
    "start_date = '2022-01-01 00:00:00'\n",
    "end_date = '2023-11-13 23:00:00'\n",
    "processor.preprocess(start_date=start_date, end_date=end_date)"
   ]
  },
  {
   "cell_type": "code",
   "execution_count": 3,
   "metadata": {},
   "outputs": [
    {
     "name": "stderr",
     "output_type": "stream",
     "text": [
      "2024-07-31 16:53:34,771 - INFO - Loading Insemination Data...\n",
      "2024-07-31 16:53:34,824 - INFO - Insemination Data Loaded Successfully\n",
      "2024-07-31 16:53:34,824 - INFO - Loading Breed & Birth Data...\n",
      "2024-07-31 16:53:34,909 - INFO - Breed & Birth Data Loaded Successfully\n",
      "2024-07-31 16:53:34,910 - INFO - Loading Calving Data...\n",
      "2024-07-31 16:53:34,945 - INFO - Calving Data Loaded Successfully\n",
      "2024-07-31 16:53:34,945 - INFO - Loading Lactation Data...\n",
      "2024-07-31 16:53:37,273 - INFO - Lactation Data Loaded Successfully\n",
      "2024-07-31 16:53:37,274 - INFO - Adding Lactation Numbers...\n",
      "2024-07-31 16:58:21,934 - INFO - Lactation Numbers Added Successfully\n",
      "2024-07-31 16:58:21,937 - INFO - Calculating Derived Data...\n",
      "2024-07-31 16:58:22,446 - INFO - Derived Data Calculated Successfully\n",
      "2024-07-31 16:58:22,450 - INFO - Adding Global Irradiance and THI_adj...\n",
      "Adding Global Irradiance and THI_adj to 5f7f33d6: 100%|██████████| 15/15 [00:04<00:00,  3.39it/s]\n",
      "2024-07-31 16:58:26,875 - INFO - Global Irradiance and THI_adj Added Successfully\n",
      "2024-07-31 16:58:26,877 - INFO - Adding Weather Data...\n",
      "2024-07-31 16:58:27,165 - INFO - Merging weather and fertility data...\n",
      "Merging weather and fertility data: 100%|██████████| 11/11 [00:00<00:00, 216.44farm/s]\n",
      "2024-07-31 16:58:27,217 - INFO - Concatenating results...\n",
      "2024-07-31 16:58:27,220 - INFO - Total rows after concatenation: 12515\n",
      "2024-07-31 16:58:27,221 - INFO - Dropping rows with missing InseminationDate...\n",
      "2024-07-31 16:58:27,224 - INFO - Dropping unnecessary columns...\n",
      "2024-07-31 16:58:27,226 - INFO - Renaming columns to reflect mean values...\n",
      "2024-07-31 16:58:27,226 - INFO - Saving the final merged data to CSV...\n",
      "2024-07-31 16:58:27,361 - INFO - Weather Data Added Successfully\n",
      "2024-07-31 16:58:27,367 - INFO - Preprocessing Done!\n"
     ]
    }
   ],
   "source": [
    "processor = FertilityDataProcessor()\n",
    "start_date = '2022-01-01 00:00:00'\n",
    "end_date = '2023-11-13 23:00:00'\n",
    "processor.preprocess(start_date=start_date, end_date=end_date)"
   ]
  },
  {
   "cell_type": "code",
   "execution_count": 4,
   "metadata": {},
   "outputs": [
    {
     "name": "stderr",
     "output_type": "stream",
     "text": [
      "2024-07-31 16:58:27,417 - INFO - Loading Calving Data...\n",
      "2024-07-31 16:58:27,548 - INFO - Calving Data Loaded Successfully\n",
      "2024-07-31 16:58:27,548 - INFO - Loading Breed & Birth Data...\n",
      "2024-07-31 16:58:27,724 - INFO - Breed & Birth Data Loaded Successfully\n",
      "2024-07-31 16:58:27,735 - INFO - Adding Global Irradiance and THI_adj...\n",
      "Adding Global Irradiance and THI_adj to 5f7f33d6: 100%|██████████| 15/15 [00:04<00:00,  3.36it/s]\n",
      "2024-07-31 16:58:32,208 - INFO - Global Irradiance and THI_adj Added Successfully\n",
      "2024-07-31 16:58:32,208 - INFO - Adding Weather Data...\n",
      "2024-07-31 16:58:32,493 - INFO - Merging weather and calving data...\n",
      "Merging weather and calving data: 100%|██████████| 11/11 [00:00<00:00, 288.87farm/s]\n",
      "2024-07-31 16:58:32,532 - INFO - Concatenating results...\n",
      "2024-07-31 16:58:32,533 - INFO - Total rows after concatenation: 4918\n",
      "2024-07-31 16:58:32,533 - INFO - Dropping rows with missing CalvingDate...\n",
      "2024-07-31 16:58:32,534 - INFO - Dropping unnecessary columns...\n",
      "2024-07-31 16:58:32,535 - INFO - Renaming columns to reflect mean values...\n",
      "2024-07-31 16:58:32,535 - INFO - Saving the final merged data to CSV...\n",
      "2024-07-31 16:58:32,559 - INFO - Weather Data Added Successfully\n",
      "2024-07-31 16:58:32,564 - INFO - Preprocessing Done!\n"
     ]
    }
   ],
   "source": [
    "processor = CalvingDataProcessor()\n",
    "start_date = '2022-01-01 00:00:00'\n",
    "end_date = '2023-11-13 23:00:00'\n",
    "processor.preprocess(start_date=start_date, end_date=end_date)"
   ]
  }
 ],
 "metadata": {
  "kernelspec": {
   "display_name": "Doris",
   "language": "python",
   "name": "python3"
  },
  "language_info": {
   "codemirror_mode": {
    "name": "ipython",
    "version": 3
   },
   "file_extension": ".py",
   "mimetype": "text/x-python",
   "name": "python",
   "nbconvert_exporter": "python",
   "pygments_lexer": "ipython3",
   "version": "3.11.9"
  }
 },
 "nbformat": 4,
 "nbformat_minor": 2
}
