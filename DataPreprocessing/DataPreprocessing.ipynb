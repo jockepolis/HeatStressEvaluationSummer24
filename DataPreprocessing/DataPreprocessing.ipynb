{
 "cells": [
  {
   "cell_type": "code",
   "execution_count": 3,
   "metadata": {},
   "outputs": [
    {
     "name": "stdout",
     "output_type": "stream",
     "text": [
      "The autoreload extension is already loaded. To reload it, use:\n",
      "  %reload_ext autoreload\n"
     ]
    }
   ],
   "source": [
    "from PreProcessYield import MilkDataProcessor\n",
    "from PreProcessFertility import FertilityDataProcessor\n",
    "from PreProcessCalving import CalvingDataProcessor\n",
    "%load_ext autoreload\n",
    "%autoreload 2"
   ]
  },
  {
   "cell_type": "code",
   "execution_count": 4,
   "metadata": {},
   "outputs": [
    {
     "name": "stderr",
     "output_type": "stream",
     "text": [
      "2024-07-30 11:20:32,261 - INFO - Loading Milk Data...\n"
     ]
    },
    {
     "name": "stderr",
     "output_type": "stream",
     "text": [
      "2024-07-30 11:20:50,822 - INFO - Loading Breed & Birth Data...\n",
      "2024-07-30 11:21:03,259 - INFO - Rows after merging breed & birth data: 7883150\n",
      "2024-07-30 11:21:03,262 - INFO - Breed & Birth Data Loaded Successfully\n",
      "2024-07-30 11:21:03,265 - INFO - Milk Data Loaded Successfully\n",
      "2024-07-30 11:21:03,464 - INFO - Adding Global Irradiance and THI_adj...\n",
      "Adding Global Irradiance and THI_adj to 5f7f33d6: 100%|██████████| 15/15 [00:05<00:00,  2.63it/s]\n",
      "2024-07-30 11:21:09,228 - INFO - Global Irradiance and THI_adj Added Successfully\n",
      "2024-07-30 11:21:09,229 - INFO - Adding Weather Data...\n",
      "2024-07-30 11:21:09,672 - INFO - Merging weather and milk data...\n",
      "Merging weather and milk data: 100%|██████████| 11/11 [00:00<00:00, 25.32farm/s]\n",
      "2024-07-30 11:22:34,126 - INFO - Concatenating results...\n",
      "2024-07-30 11:22:41,130 - INFO - Total rows after concatenation: 7883150\n",
      "2024-07-30 11:22:41,134 - INFO - Dropping rows with missing TotalYield...\n",
      "2024-07-30 11:22:43,524 - INFO - Dropping unnecessary columns...\n",
      "2024-07-30 11:22:44,220 - INFO - Renaming columns...\n",
      "2024-07-30 11:22:44,221 - INFO - Saving the final merged data to CSV...\n",
      "2024-07-30 11:23:20,746 - INFO - Weather Data Added Successfully\n",
      "2024-07-30 11:23:21,362 - INFO - Preprocessing Done!\n"
     ]
    }
   ],
   "source": [
    "processor = MilkDataProcessor()\n",
    "start_date = '2022-01-01 00:00:00'\n",
    "end_date = '2023-11-13 23:00:00'\n",
    "processor.preprocess(start_date=start_date, end_date=end_date)"
   ]
  },
  {
   "cell_type": "code",
   "execution_count": 5,
   "metadata": {},
   "outputs": [
    {
     "name": "stderr",
     "output_type": "stream",
     "text": [
      "2024-07-30 11:23:22,655 - INFO - Loading Insemination Data...\n",
      "2024-07-30 11:23:22,699 - INFO - Insemination Data Loaded Successfully\n",
      "2024-07-30 11:23:22,700 - INFO - Loading Breed & Birth Data...\n",
      "2024-07-30 11:23:22,784 - INFO - Breed & Birth Data Loaded Successfully\n",
      "2024-07-30 11:23:22,785 - INFO - Loading Calving Data...\n",
      "2024-07-30 11:23:22,819 - INFO - Calving Data Loaded Successfully\n",
      "2024-07-30 11:23:22,819 - INFO - Loading Lactation Data...\n",
      "2024-07-30 11:23:25,189 - INFO - Lactation Data Loaded Successfully\n",
      "2024-07-30 11:23:25,190 - INFO - Adding Lactation Numbers...\n",
      "2024-07-30 11:28:12,441 - INFO - Lactation Numbers Added Successfully\n",
      "2024-07-30 11:28:12,443 - INFO - Calculating Derived Data...\n",
      "2024-07-30 11:28:12,541 - INFO - Derived Data Calculated Successfully\n",
      "2024-07-30 11:28:12,544 - INFO - Adding Global Irradiance and THI_adj...\n",
      "Adding Global Irradiance and THI_adj to 5f7f33d6: 100%|██████████| 15/15 [00:04<00:00,  3.22it/s]\n",
      "2024-07-30 11:28:17,200 - INFO - Global Irradiance and THI_adj Added Successfully\n",
      "2024-07-30 11:28:17,201 - INFO - Adding Weather Data...\n",
      "2024-07-30 11:28:17,478 - INFO - Merging weather and fertility data...\n",
      "Merging weather and fertility data: 100%|██████████| 11/11 [00:00<00:00, 220.41farm/s]\n",
      "2024-07-30 11:28:17,529 - INFO - Concatenating results...\n",
      "2024-07-30 11:28:17,532 - INFO - Total rows after concatenation: 12515\n",
      "2024-07-30 11:28:17,532 - INFO - Dropping rows with missing InseminationDate...\n",
      "2024-07-30 11:28:17,536 - INFO - Dropping unnecessary columns...\n",
      "2024-07-30 11:28:17,538 - INFO - Renaming columns to reflect mean values...\n",
      "2024-07-30 11:28:17,538 - INFO - Saving the final merged data to CSV...\n",
      "2024-07-30 11:28:17,665 - INFO - Weather Data Added Successfully\n",
      "2024-07-30 11:28:17,669 - INFO - Preprocessing Done!\n"
     ]
    }
   ],
   "source": [
    "processor = FertilityDataProcessor()\n",
    "start_date = '2022-01-01 00:00:00'\n",
    "end_date = '2023-11-13 23:00:00'\n",
    "processor.preprocess(start_date=start_date, end_date=end_date)"
   ]
  },
  {
   "cell_type": "code",
   "execution_count": 6,
   "metadata": {},
   "outputs": [
    {
     "name": "stderr",
     "output_type": "stream",
     "text": [
      "2024-07-30 11:28:17,718 - INFO - Loading Calving Data...\n",
      "2024-07-30 11:28:17,747 - INFO - Calving Data Loaded Successfully\n",
      "2024-07-30 11:28:17,747 - INFO - Loading Breed & Birth Data...\n",
      "2024-07-30 11:28:17,814 - INFO - Breed & Birth Data Loaded Successfully\n",
      "2024-07-30 11:28:17,818 - INFO - Adding Global Irradiance and THI_adj...\n",
      "Adding Global Irradiance and THI_adj to 5f7f33d6: 100%|██████████| 15/15 [00:04<00:00,  3.34it/s]\n",
      "2024-07-30 11:28:22,307 - INFO - Global Irradiance and THI_adj Added Successfully\n",
      "2024-07-30 11:28:22,307 - INFO - Adding Weather Data...\n",
      "2024-07-30 11:28:22,636 - INFO - Merging weather and calving data...\n",
      "Merging weather and calving data: 100%|██████████| 11/11 [00:00<00:00, 290.58farm/s]\n",
      "2024-07-30 11:28:22,675 - INFO - Concatenating results...\n",
      "2024-07-30 11:28:22,676 - INFO - Total rows after concatenation: 4918\n",
      "2024-07-30 11:28:22,676 - INFO - Dropping rows with missing CalvingDate...\n",
      "2024-07-30 11:28:22,677 - INFO - Dropping unnecessary columns...\n",
      "2024-07-30 11:28:22,678 - INFO - Renaming columns to reflect mean values...\n",
      "2024-07-30 11:28:22,678 - INFO - Saving the final merged data to CSV...\n",
      "2024-07-30 11:28:22,702 - INFO - Weather Data Added Successfully\n",
      "2024-07-30 11:28:22,706 - INFO - Preprocessing Done!\n"
     ]
    }
   ],
   "source": [
    "processor = CalvingDataProcessor()\n",
    "start_date = '2022-01-01 00:00:00'\n",
    "end_date = '2023-11-13 23:00:00'\n",
    "processor.preprocess(start_date=start_date, end_date=end_date)"
   ]
  }
 ],
 "metadata": {
  "kernelspec": {
   "display_name": "Doris",
   "language": "python",
   "name": "python3"
  },
  "language_info": {
   "codemirror_mode": {
    "name": "ipython",
    "version": 3
   },
   "file_extension": ".py",
   "mimetype": "text/x-python",
   "name": "python",
   "nbconvert_exporter": "python",
   "pygments_lexer": "ipython3",
   "version": "3.11.9"
  }
 },
 "nbformat": 4,
 "nbformat_minor": 2
}
