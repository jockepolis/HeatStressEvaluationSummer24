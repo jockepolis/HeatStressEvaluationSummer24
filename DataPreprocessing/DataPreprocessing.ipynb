{
 "cells": [
  {
   "cell_type": "code",
   "execution_count": 7,
   "metadata": {},
   "outputs": [
    {
     "name": "stdout",
     "output_type": "stream",
     "text": [
      "The autoreload extension is already loaded. To reload it, use:\n",
      "  %reload_ext autoreload\n"
     ]
    }
   ],
   "source": [
    "from PreProcessYield import MilkDataProcessor\n",
    "from PreProcessFertility import FertilityDataProcessor\n",
    "from PreProcessCalving import CalvingDataProcessor\n",
    "%load_ext autoreload\n",
    "%autoreload 2"
   ]
  },
  {
   "cell_type": "code",
   "execution_count": 8,
   "metadata": {},
   "outputs": [],
   "source": [
    "start_date = '2022-01-01 00:00:00'\n",
    "end_date = '2024-08-18 23:00:00'"
   ]
  },
  {
   "cell_type": "code",
   "execution_count": 9,
   "metadata": {},
   "outputs": [
    {
     "name": "stderr",
     "output_type": "stream",
     "text": [
      "2024-08-27 09:52:31,231 - INFO - Loading Milk Data...\n",
      "2024-08-27 09:52:55,363 - INFO - Loading Breed & Birth Data...\n",
      "2024-08-27 09:53:07,667 - INFO - Rows after merging breed & birth data: 10475975\n",
      "2024-08-27 09:53:07,669 - INFO - Breed & Birth Data Loaded Successfully\n",
      "2024-08-27 09:53:07,672 - INFO - Milk Data Loaded Successfully\n",
      "2024-08-27 09:53:07,870 - INFO - Adding Global Irradiance and THI_adj...\n",
      "Adding Global Irradiance and THI_adj to 5f7f33d6: 100%|██████████| 15/15 [00:06<00:00,  2.42it/s]\n",
      "2024-08-27 09:53:14,078 - INFO - Global Irradiance and THI_adj Added Successfully\n",
      "2024-08-27 09:53:14,078 - INFO - Adding Weather Data...\n",
      "2024-08-27 09:53:14,671 - INFO - Merging weather and milk data...\n",
      "Merging weather and milk data: 100%|██████████| 12/12 [00:00<00:00, 117.04farm/s]\n",
      "2024-08-27 09:54:55,313 - WARNING - No matching weather data found for farm 6d38bc90\n",
      "2024-08-27 09:55:03,806 - INFO - Concatenating results...\n",
      "2024-08-27 09:55:15,258 - INFO - Total rows after concatenation: 10475975\n",
      "2024-08-27 09:55:15,260 - INFO - Dropping rows with missing TotalYield...\n",
      "2024-08-27 09:55:19,179 - INFO - Dropping unnecessary columns...\n",
      "2024-08-27 09:55:20,104 - INFO - Renaming columns...\n",
      "2024-08-27 09:55:20,106 - INFO - Saving the final merged data to CSV...\n",
      "2024-08-27 09:56:05,998 - INFO - Weather Data Added Successfully\n",
      "2024-08-27 09:56:07,205 - INFO - Preprocessing Done!\n"
     ]
    }
   ],
   "source": [
    "processor = MilkDataProcessor()\n",
    "processor.preprocess(start_date=start_date, end_date=end_date)"
   ]
  },
  {
   "cell_type": "code",
   "execution_count": 10,
   "metadata": {},
   "outputs": [
    {
     "name": "stderr",
     "output_type": "stream",
     "text": [
      "2024-08-27 09:56:08,773 - INFO - Loading Insemination Data...\n",
      "2024-08-27 09:56:08,833 - INFO - Insemination Data Loaded Successfully\n",
      "2024-08-27 09:56:08,833 - INFO - Loading Breed & Birth Data...\n",
      "2024-08-27 09:56:08,977 - INFO - Breed & Birth Data Loaded Successfully\n",
      "2024-08-27 09:56:08,978 - INFO - Loading Calving Data...\n",
      "2024-08-27 09:56:09,015 - INFO - Calving Data Loaded Successfully\n",
      "2024-08-27 09:56:09,016 - INFO - Loading Lactation Data...\n",
      "2024-08-27 09:56:11,981 - INFO - Lactation Data Loaded Successfully\n",
      "2024-08-27 09:56:11,981 - INFO - Adding Lactation Numbers...\n"
     ]
    },
    {
     "ename": "KeyboardInterrupt",
     "evalue": "",
     "output_type": "error",
     "traceback": [
      "\u001b[0;31m---------------------------------------------------------------------------\u001b[0m",
      "\u001b[0;31mKeyboardInterrupt\u001b[0m                         Traceback (most recent call last)",
      "Cell \u001b[0;32mIn[10], line 2\u001b[0m\n\u001b[1;32m      1\u001b[0m processor \u001b[38;5;241m=\u001b[39m FertilityDataProcessor()\n\u001b[0;32m----> 2\u001b[0m \u001b[43mprocessor\u001b[49m\u001b[38;5;241;43m.\u001b[39;49m\u001b[43mpreprocess\u001b[49m\u001b[43m(\u001b[49m\u001b[43mstart_date\u001b[49m\u001b[38;5;241;43m=\u001b[39;49m\u001b[43mstart_date\u001b[49m\u001b[43m,\u001b[49m\u001b[43m \u001b[49m\u001b[43mend_date\u001b[49m\u001b[38;5;241;43m=\u001b[39;49m\u001b[43mend_date\u001b[49m\u001b[43m)\u001b[49m\n",
      "File \u001b[0;32m~/Desktop/Sommarjobb24/HeatStressEvaluation/DataPreprocessing/PreProcessFertility.py:407\u001b[0m, in \u001b[0;36mFertilityDataProcessor.preprocess\u001b[0;34m(self, start_date, end_date, farms)\u001b[0m\n\u001b[1;32m    405\u001b[0m \u001b[38;5;28mself\u001b[39m\u001b[38;5;241m.\u001b[39mload_calving_data(start_date, end_date)\n\u001b[1;32m    406\u001b[0m \u001b[38;5;28mself\u001b[39m\u001b[38;5;241m.\u001b[39mload_lactation_data()\n\u001b[0;32m--> 407\u001b[0m \u001b[38;5;28;43mself\u001b[39;49m\u001b[38;5;241;43m.\u001b[39;49m\u001b[43madd_lactation_numbers\u001b[49m\u001b[43m(\u001b[49m\u001b[43m)\u001b[49m\n\u001b[1;32m    408\u001b[0m \u001b[38;5;28mself\u001b[39m\u001b[38;5;241m.\u001b[39mload_calculated_data()\n\u001b[1;32m    410\u001b[0m coord_directory \u001b[38;5;241m=\u001b[39m os\u001b[38;5;241m.\u001b[39mpath\u001b[38;5;241m.\u001b[39mjoin(\u001b[38;5;28mself\u001b[39m\u001b[38;5;241m.\u001b[39mparent_directory, \u001b[38;5;124m'\u001b[39m\u001b[38;5;124mData\u001b[39m\u001b[38;5;124m'\u001b[39m, \u001b[38;5;124m'\u001b[39m\u001b[38;5;124mWeatherData\u001b[39m\u001b[38;5;124m'\u001b[39m, \u001b[38;5;124m'\u001b[39m\u001b[38;5;124mCoordinates\u001b[39m\u001b[38;5;124m'\u001b[39m, \u001b[38;5;124m'\u001b[39m\u001b[38;5;124mCoordinates.csv\u001b[39m\u001b[38;5;124m'\u001b[39m)\n",
      "File \u001b[0;32m~/Desktop/Sommarjobb24/HeatStressEvaluation/DataPreprocessing/PreProcessFertility.py:137\u001b[0m, in \u001b[0;36mFertilityDataProcessor.add_lactation_numbers\u001b[0;34m(self)\u001b[0m\n\u001b[1;32m    135\u001b[0m grouped \u001b[38;5;241m=\u001b[39m \u001b[38;5;28mself\u001b[39m\u001b[38;5;241m.\u001b[39mfertility_data\u001b[38;5;241m.\u001b[39mgroupby(\u001b[38;5;124m'\u001b[39m\u001b[38;5;124mSE_Number\u001b[39m\u001b[38;5;124m'\u001b[39m)\n\u001b[1;32m    136\u001b[0m \u001b[38;5;28;01mfor\u001b[39;00m se_number, group \u001b[38;5;129;01min\u001b[39;00m grouped:\n\u001b[0;32m--> 137\u001b[0m     cow_lactation_data \u001b[38;5;241m=\u001b[39m \u001b[38;5;28mself\u001b[39m\u001b[38;5;241m.\u001b[39mlactation_data[\u001b[38;5;28;43mself\u001b[39;49m\u001b[38;5;241;43m.\u001b[39;49m\u001b[43mlactation_data\u001b[49m\u001b[43m[\u001b[49m\u001b[38;5;124;43m'\u001b[39;49m\u001b[38;5;124;43mSE_Number\u001b[39;49m\u001b[38;5;124;43m'\u001b[39;49m\u001b[43m]\u001b[49m\u001b[43m \u001b[49m\u001b[38;5;241;43m==\u001b[39;49m\u001b[43m \u001b[49m\u001b[43mse_number\u001b[49m]\u001b[38;5;241m.\u001b[39msort_values(\u001b[38;5;124m'\u001b[39m\u001b[38;5;124mLactationInfoDate\u001b[39m\u001b[38;5;124m'\u001b[39m)\n\u001b[1;32m    138\u001b[0m     \u001b[38;5;28;01mif\u001b[39;00m cow_lactation_data\u001b[38;5;241m.\u001b[39mempty:\n\u001b[1;32m    139\u001b[0m         \u001b[38;5;28;01mcontinue\u001b[39;00m\n",
      "File \u001b[0;32m~/anaconda3/envs/GIGACOW/lib/python3.11/site-packages/pandas/core/ops/common.py:76\u001b[0m, in \u001b[0;36m_unpack_zerodim_and_defer.<locals>.new_method\u001b[0;34m(self, other)\u001b[0m\n\u001b[1;32m     72\u001b[0m             \u001b[38;5;28;01mreturn\u001b[39;00m \u001b[38;5;28mNotImplemented\u001b[39m\n\u001b[1;32m     74\u001b[0m other \u001b[38;5;241m=\u001b[39m item_from_zerodim(other)\n\u001b[0;32m---> 76\u001b[0m \u001b[38;5;28;01mreturn\u001b[39;00m \u001b[43mmethod\u001b[49m\u001b[43m(\u001b[49m\u001b[38;5;28;43mself\u001b[39;49m\u001b[43m,\u001b[49m\u001b[43m \u001b[49m\u001b[43mother\u001b[49m\u001b[43m)\u001b[49m\n",
      "File \u001b[0;32m~/anaconda3/envs/GIGACOW/lib/python3.11/site-packages/pandas/core/arraylike.py:40\u001b[0m, in \u001b[0;36mOpsMixin.__eq__\u001b[0;34m(self, other)\u001b[0m\n\u001b[1;32m     38\u001b[0m \u001b[38;5;129m@unpack_zerodim_and_defer\u001b[39m(\u001b[38;5;124m\"\u001b[39m\u001b[38;5;124m__eq__\u001b[39m\u001b[38;5;124m\"\u001b[39m)\n\u001b[1;32m     39\u001b[0m \u001b[38;5;28;01mdef\u001b[39;00m \u001b[38;5;21m__eq__\u001b[39m(\u001b[38;5;28mself\u001b[39m, other):\n\u001b[0;32m---> 40\u001b[0m     \u001b[38;5;28;01mreturn\u001b[39;00m \u001b[38;5;28;43mself\u001b[39;49m\u001b[38;5;241;43m.\u001b[39;49m\u001b[43m_cmp_method\u001b[49m\u001b[43m(\u001b[49m\u001b[43mother\u001b[49m\u001b[43m,\u001b[49m\u001b[43m \u001b[49m\u001b[43moperator\u001b[49m\u001b[38;5;241;43m.\u001b[39;49m\u001b[43meq\u001b[49m\u001b[43m)\u001b[49m\n",
      "File \u001b[0;32m~/anaconda3/envs/GIGACOW/lib/python3.11/site-packages/pandas/core/series.py:6119\u001b[0m, in \u001b[0;36mSeries._cmp_method\u001b[0;34m(self, other, op)\u001b[0m\n\u001b[1;32m   6116\u001b[0m lvalues \u001b[38;5;241m=\u001b[39m \u001b[38;5;28mself\u001b[39m\u001b[38;5;241m.\u001b[39m_values\n\u001b[1;32m   6117\u001b[0m rvalues \u001b[38;5;241m=\u001b[39m extract_array(other, extract_numpy\u001b[38;5;241m=\u001b[39m\u001b[38;5;28;01mTrue\u001b[39;00m, extract_range\u001b[38;5;241m=\u001b[39m\u001b[38;5;28;01mTrue\u001b[39;00m)\n\u001b[0;32m-> 6119\u001b[0m res_values \u001b[38;5;241m=\u001b[39m \u001b[43mops\u001b[49m\u001b[38;5;241;43m.\u001b[39;49m\u001b[43mcomparison_op\u001b[49m\u001b[43m(\u001b[49m\u001b[43mlvalues\u001b[49m\u001b[43m,\u001b[49m\u001b[43m \u001b[49m\u001b[43mrvalues\u001b[49m\u001b[43m,\u001b[49m\u001b[43m \u001b[49m\u001b[43mop\u001b[49m\u001b[43m)\u001b[49m\n\u001b[1;32m   6121\u001b[0m \u001b[38;5;28;01mreturn\u001b[39;00m \u001b[38;5;28mself\u001b[39m\u001b[38;5;241m.\u001b[39m_construct_result(res_values, name\u001b[38;5;241m=\u001b[39mres_name)\n",
      "File \u001b[0;32m~/anaconda3/envs/GIGACOW/lib/python3.11/site-packages/pandas/core/ops/array_ops.py:344\u001b[0m, in \u001b[0;36mcomparison_op\u001b[0;34m(left, right, op)\u001b[0m\n\u001b[1;32m    341\u001b[0m     \u001b[38;5;28;01mreturn\u001b[39;00m invalid_comparison(lvalues, rvalues, op)\n\u001b[1;32m    343\u001b[0m \u001b[38;5;28;01melif\u001b[39;00m lvalues\u001b[38;5;241m.\u001b[39mdtype \u001b[38;5;241m==\u001b[39m \u001b[38;5;28mobject\u001b[39m \u001b[38;5;129;01mor\u001b[39;00m \u001b[38;5;28misinstance\u001b[39m(rvalues, \u001b[38;5;28mstr\u001b[39m):\n\u001b[0;32m--> 344\u001b[0m     res_values \u001b[38;5;241m=\u001b[39m \u001b[43mcomp_method_OBJECT_ARRAY\u001b[49m\u001b[43m(\u001b[49m\u001b[43mop\u001b[49m\u001b[43m,\u001b[49m\u001b[43m \u001b[49m\u001b[43mlvalues\u001b[49m\u001b[43m,\u001b[49m\u001b[43m \u001b[49m\u001b[43mrvalues\u001b[49m\u001b[43m)\u001b[49m\n\u001b[1;32m    346\u001b[0m \u001b[38;5;28;01melse\u001b[39;00m:\n\u001b[1;32m    347\u001b[0m     res_values \u001b[38;5;241m=\u001b[39m _na_arithmetic_op(lvalues, rvalues, op, is_cmp\u001b[38;5;241m=\u001b[39m\u001b[38;5;28;01mTrue\u001b[39;00m)\n",
      "File \u001b[0;32m~/anaconda3/envs/GIGACOW/lib/python3.11/site-packages/pandas/core/ops/array_ops.py:129\u001b[0m, in \u001b[0;36mcomp_method_OBJECT_ARRAY\u001b[0;34m(op, x, y)\u001b[0m\n\u001b[1;32m    127\u001b[0m     result \u001b[38;5;241m=\u001b[39m libops\u001b[38;5;241m.\u001b[39mvec_compare(x\u001b[38;5;241m.\u001b[39mravel(), y\u001b[38;5;241m.\u001b[39mravel(), op)\n\u001b[1;32m    128\u001b[0m \u001b[38;5;28;01melse\u001b[39;00m:\n\u001b[0;32m--> 129\u001b[0m     result \u001b[38;5;241m=\u001b[39m \u001b[43mlibops\u001b[49m\u001b[38;5;241;43m.\u001b[39;49m\u001b[43mscalar_compare\u001b[49m\u001b[43m(\u001b[49m\u001b[43mx\u001b[49m\u001b[38;5;241;43m.\u001b[39;49m\u001b[43mravel\u001b[49m\u001b[43m(\u001b[49m\u001b[43m)\u001b[49m\u001b[43m,\u001b[49m\u001b[43m \u001b[49m\u001b[43my\u001b[49m\u001b[43m,\u001b[49m\u001b[43m \u001b[49m\u001b[43mop\u001b[49m\u001b[43m)\u001b[49m\n\u001b[1;32m    130\u001b[0m \u001b[38;5;28;01mreturn\u001b[39;00m result\u001b[38;5;241m.\u001b[39mreshape(x\u001b[38;5;241m.\u001b[39mshape)\n",
      "\u001b[0;31mKeyboardInterrupt\u001b[0m: "
     ]
    }
   ],
   "source": [
    "processor = FertilityDataProcessor()\n",
    "processor.preprocess(start_date=start_date, end_date=end_date)"
   ]
  },
  {
   "cell_type": "code",
   "execution_count": null,
   "metadata": {},
   "outputs": [
    {
     "name": "stderr",
     "output_type": "stream",
     "text": [
      "2024-08-26 08:29:23,376 - INFO - Loading Calving Data...\n"
     ]
    },
    {
     "name": "stderr",
     "output_type": "stream",
     "text": [
      "2024-08-26 08:29:23,410 - INFO - Calving Data Loaded Successfully\n",
      "2024-08-26 08:29:23,410 - INFO - Loading Breed & Birth Data...\n",
      "2024-08-26 08:29:23,530 - INFO - Breed & Birth Data Loaded Successfully\n",
      "2024-08-26 08:29:23,535 - INFO - Adding Global Irradiance and THI_adj...\n",
      "Adding Global Irradiance and THI_adj to 5f7f33d6: 100%|██████████| 15/15 [00:08<00:00,  1.72it/s]\n",
      "2024-08-26 08:29:32,248 - INFO - Global Irradiance and THI_adj Added Successfully\n",
      "2024-08-26 08:29:32,250 - INFO - Adding Weather Data...\n",
      "2024-08-26 08:29:32,621 - INFO - Merging weather and calving data...\n",
      "Merging weather and calving data: 100%|██████████| 11/11 [00:00<00:00, 236.86farm/s]\n",
      "2024-08-26 08:29:32,669 - INFO - Concatenating results...\n",
      "2024-08-26 08:29:32,670 - INFO - Total rows after concatenation: 6442\n",
      "2024-08-26 08:29:32,670 - INFO - Dropping rows with missing CalvingDate...\n",
      "2024-08-26 08:29:32,672 - INFO - Dropping unnecessary columns...\n",
      "2024-08-26 08:29:32,672 - INFO - Renaming columns to reflect mean values...\n",
      "2024-08-26 08:29:32,673 - INFO - Saving the final merged data to CSV...\n",
      "2024-08-26 08:29:32,706 - INFO - Weather Data Added Successfully\n",
      "2024-08-26 08:29:32,711 - INFO - Preprocessing Done!\n"
     ]
    }
   ],
   "source": [
    "processor = CalvingDataProcessor()\n",
    "processor.preprocess(start_date=start_date, end_date=end_date)"
   ]
  }
 ],
 "metadata": {
  "kernelspec": {
   "display_name": "Doris",
   "language": "python",
   "name": "python3"
  },
  "language_info": {
   "codemirror_mode": {
    "name": "ipython",
    "version": 3
   },
   "file_extension": ".py",
   "mimetype": "text/x-python",
   "name": "python",
   "nbconvert_exporter": "python",
   "pygments_lexer": "ipython3",
   "version": "3.11.9"
  }
 },
 "nbformat": 4,
 "nbformat_minor": 2
}
