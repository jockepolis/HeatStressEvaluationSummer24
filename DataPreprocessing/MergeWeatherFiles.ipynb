{
 "cells": [
  {
   "cell_type": "code",
   "execution_count": 1,
   "metadata": {},
   "outputs": [
    {
     "name": "stdout",
     "output_type": "stream",
     "text": [
      "Merging complete. Files saved to: ../Data/WeatherData/RawMESAN/\n"
     ]
    }
   ],
   "source": [
    "import os\n",
    "import pandas as pd\n",
    "\n",
    "# Define the paths\n",
    "input_folder = \"../Data/WeatherData/DoubleRawMESAN/\"\n",
    "output_folder = \"../Data/WeatherData/RawMESAN/\"\n",
    "\n",
    "# Pseudonyms for the farms\n",
    "pseudonyms = [\n",
    "    \"4eab8365\", \"5b581702\", \"5c06d92d\", \"5f7f33d6\", \"80b99061\",\n",
    "    \"169e580a\", \"752efd72\", \"540275a1\", \"a624fb9a\", \"a756bc39\",\n",
    "    \"ab18b151\", \"ad0a39f5\", \"afdd9a78\", \"f454e660\", \"fced84e9\"\n",
    "]\n",
    "\n",
    "# Loop through each pseudonym and merge the corresponding files\n",
    "for pseudonym in pseudonyms:\n",
    "    # Construct file paths\n",
    "    file_2022_2023 = os.path.join(input_folder, f\"{pseudonym}_2022-2023.csv\")\n",
    "    file_2023_2024 = os.path.join(input_folder, f\"{pseudonym}_2023-2024.csv\")\n",
    "\n",
    "    # Read the CSV files\n",
    "    df_2022_2023 = pd.read_csv(file_2022_2023)\n",
    "    df_2023_2024 = pd.read_csv(file_2023_2024)\n",
    "\n",
    "    # Concatenate the dataframes\n",
    "    merged_df = pd.concat([df_2022_2023, df_2023_2024])\n",
    "\n",
    "    # Ensure the data is sorted by date/time if necessary\n",
    "    #merged_df['Tid'] = pd.to_datetime(merged_df['Tid'])\n",
    "    #merged_df.sort_values(by='Tid', inplace=True)\n",
    "\n",
    "    # Save the merged dataframe to the output folder with the new name\n",
    "    output_file = os.path.join(output_folder, f\"{pseudonym}_2022-2024.csv\")\n",
    "    merged_df.to_csv(output_file, index=False)\n",
    "\n",
    "print(\"Merging complete. Files saved to:\", output_folder)"
   ]
  }
 ],
 "metadata": {
  "kernelspec": {
   "display_name": "GIGACOW",
   "language": "python",
   "name": "python3"
  },
  "language_info": {
   "codemirror_mode": {
    "name": "ipython",
    "version": 3
   },
   "file_extension": ".py",
   "mimetype": "text/x-python",
   "name": "python",
   "nbconvert_exporter": "python",
   "pygments_lexer": "ipython3",
   "version": "3.11.9"
  }
 },
 "nbformat": 4,
 "nbformat_minor": 2
}
