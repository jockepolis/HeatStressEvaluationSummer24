{
 "cells": [
  {
   "cell_type": "code",
   "execution_count": 14,
   "metadata": {},
   "outputs": [
    {
     "name": "stdout",
     "output_type": "stream",
     "text": [
      "The autoreload extension is already loaded. To reload it, use:\n",
      "  %reload_ext autoreload\n"
     ]
    }
   ],
   "source": [
    "import numpy as np\n",
    "import pandas as pd\n",
    "import matplotlib.pyplot as plt\n",
    "import seaborn as sns\n",
    "from tqdm import tqdm\n",
    "from scipy.optimize import curve_fit\n",
    "\n",
    "%load_ext autoreload\n",
    "%autoreload 2"
   ]
  },
  {
   "cell_type": "markdown",
   "metadata": {},
   "source": [
    "### Load data"
   ]
  },
  {
   "cell_type": "code",
   "execution_count": 4,
   "metadata": {},
   "outputs": [
    {
     "data": {
      "text/html": [
       "<div>\n",
       "<style scoped>\n",
       "    .dataframe tbody tr th:only-of-type {\n",
       "        vertical-align: middle;\n",
       "    }\n",
       "\n",
       "    .dataframe tbody tr th {\n",
       "        vertical-align: top;\n",
       "    }\n",
       "\n",
       "    .dataframe thead th {\n",
       "        text-align: right;\n",
       "    }\n",
       "</style>\n",
       "<table border=\"1\" class=\"dataframe\">\n",
       "  <thead>\n",
       "    <tr style=\"text-align: right;\">\n",
       "      <th></th>\n",
       "      <th>FarmName_Pseudo</th>\n",
       "      <th>SE_Number</th>\n",
       "      <th>AnimalNumber</th>\n",
       "      <th>StartDate</th>\n",
       "      <th>StartTime</th>\n",
       "      <th>LactationNumber</th>\n",
       "      <th>DaysInMilk</th>\n",
       "      <th>TotalYield</th>\n",
       "      <th>DateTime</th>\n",
       "      <th>BreedName</th>\n",
       "      <th>Temperature</th>\n",
       "      <th>Relative Humidity</th>\n",
       "      <th>Precipitation</th>\n",
       "      <th>THI_adj</th>\n",
       "      <th>HW</th>\n",
       "      <th>cum_HW</th>\n",
       "    </tr>\n",
       "  </thead>\n",
       "  <tbody>\n",
       "    <tr>\n",
       "      <th>0</th>\n",
       "      <td>a624fb9a</td>\n",
       "      <td>SE-a624fb9a-1425</td>\n",
       "      <td>1425</td>\n",
       "      <td>2022-04-14</td>\n",
       "      <td>17:53:00</td>\n",
       "      <td>1</td>\n",
       "      <td>42.0</td>\n",
       "      <td>7.68</td>\n",
       "      <td>2022-04-14 17:53:00</td>\n",
       "      <td>01 SRB</td>\n",
       "      <td>4.2</td>\n",
       "      <td>86.8</td>\n",
       "      <td>0.0</td>\n",
       "      <td>-836.25624</td>\n",
       "      <td>0</td>\n",
       "      <td>0.0</td>\n",
       "    </tr>\n",
       "    <tr>\n",
       "      <th>1</th>\n",
       "      <td>a624fb9a</td>\n",
       "      <td>SE-a624fb9a-1212</td>\n",
       "      <td>1212</td>\n",
       "      <td>2022-04-14</td>\n",
       "      <td>17:45:00</td>\n",
       "      <td>5</td>\n",
       "      <td>192.0</td>\n",
       "      <td>9.58</td>\n",
       "      <td>2022-04-14 17:45:00</td>\n",
       "      <td>02 SLB</td>\n",
       "      <td>4.2</td>\n",
       "      <td>86.8</td>\n",
       "      <td>0.0</td>\n",
       "      <td>-836.25624</td>\n",
       "      <td>0</td>\n",
       "      <td>0.0</td>\n",
       "    </tr>\n",
       "    <tr>\n",
       "      <th>2</th>\n",
       "      <td>a624fb9a</td>\n",
       "      <td>SE-a624fb9a-1299</td>\n",
       "      <td>1299</td>\n",
       "      <td>2022-04-14</td>\n",
       "      <td>17:54:00</td>\n",
       "      <td>3</td>\n",
       "      <td>138.0</td>\n",
       "      <td>10.94</td>\n",
       "      <td>2022-04-14 17:54:00</td>\n",
       "      <td>01 SRB</td>\n",
       "      <td>4.2</td>\n",
       "      <td>86.8</td>\n",
       "      <td>0.0</td>\n",
       "      <td>-836.25624</td>\n",
       "      <td>0</td>\n",
       "      <td>0.0</td>\n",
       "    </tr>\n",
       "  </tbody>\n",
       "</table>\n",
       "</div>"
      ],
      "text/plain": [
       "  FarmName_Pseudo         SE_Number  AnimalNumber  StartDate StartTime  \\\n",
       "0        a624fb9a  SE-a624fb9a-1425          1425 2022-04-14  17:53:00   \n",
       "1        a624fb9a  SE-a624fb9a-1212          1212 2022-04-14  17:45:00   \n",
       "2        a624fb9a  SE-a624fb9a-1299          1299 2022-04-14  17:54:00   \n",
       "\n",
       "   LactationNumber  DaysInMilk  TotalYield            DateTime BreedName  \\\n",
       "0                1        42.0        7.68 2022-04-14 17:53:00    01 SRB   \n",
       "1                5       192.0        9.58 2022-04-14 17:45:00    02 SLB   \n",
       "2                3       138.0       10.94 2022-04-14 17:54:00    01 SRB   \n",
       "\n",
       "   Temperature  Relative Humidity  Precipitation    THI_adj  HW  cum_HW  \n",
       "0          4.2               86.8            0.0 -836.25624   0     0.0  \n",
       "1          4.2               86.8            0.0 -836.25624   0     0.0  \n",
       "2          4.2               86.8            0.0 -836.25624   0     0.0  "
      ]
     },
     "execution_count": 4,
     "metadata": {},
     "output_type": "execute_result"
    }
   ],
   "source": [
    "milk_data_OG = pd.read_csv('../Data/TheData.csv')\n",
    "milk_data_OG['DateTime'] = pd.to_datetime(milk_data_OG['DateTime'], errors='coerce')\n",
    "milk_data_OG['StartTime'] = pd.to_datetime(milk_data_OG['StartTime'], format='%H:%M:%S', errors='coerce').dt.time\n",
    "milk_data_OG['StartDate'] = pd.to_datetime(milk_data_OG['StartDate'], errors='coerce')\n",
    "milk_data_OG.head(3)"
   ]
  },
  {
   "cell_type": "code",
   "execution_count": 8,
   "metadata": {},
   "outputs": [],
   "source": [
    "milk_data = milk_data_OG.copy()\n",
    "milk_data['CategoricalTime'] = milk_data['StartDate'].dt.month\n",
    "milk_data['Farm_CategoricalTime'] = pd.Categorical(milk_data['FarmName_Pseudo'] + '_' + milk_data['CategoricalTime'].astype(str))\n",
    "DATA = pd.concat([milk_data[['DateTime', 'StartDate', 'SE_Number','FarmName_Pseudo','TotalYield', 'HW', 'cum_HW', 'DaysInMilk', 'LactationNumber','BreedName', 'Farm_CategoricalTime', 'Temperature', 'Relative Humidity', 'THI_adj']]], axis=1)"
   ]
  },
  {
   "cell_type": "markdown",
   "metadata": {},
   "source": [
    "### Select farm by adjusting below variable name\n",
    "#### **Possible farms**\n",
    "> - a624fb9a *\n",
    "> - ab18b151\n",
    "> - 540275a1\n",
    "> - f454e660 *\n",
    "> - afdd9a78\n",
    "> - 5b581702\n",
    "> - 5f7f33d6\n",
    "> - ad0a39f5\n",
    "> - 5c06d92d\n"
   ]
  },
  {
   "cell_type": "code",
   "execution_count": 9,
   "metadata": {},
   "outputs": [
    {
     "name": "stdout",
     "output_type": "stream",
     "text": [
      "The dataframe for Farm f454e660 has 192691 entries and 14 columns\n"
     ]
    }
   ],
   "source": [
    "farm_pseudo  = 'f454e660' # <---------- Adjust here\n",
    "## \n",
    "\n",
    "data = DATA[DATA['FarmName_Pseudo'] == farm_pseudo] # Get the farm data\n",
    "print(f\"The dataframe for Farm {farm_pseudo} has {data.shape[0]} entries and {data.shape[1]} columns\")"
   ]
  },
  {
   "cell_type": "markdown",
   "metadata": {},
   "source": [
    "### Get daily records for chosen farm\n",
    "\n",
    "Here we calculate the daily yield for each cow. We also get the daily mean temperature as well as the daily max temperature etc."
   ]
  },
  {
   "cell_type": "code",
   "execution_count": 16,
   "metadata": {},
   "outputs": [],
   "source": [
    "agg_functions = {\n",
    "    'TotalYield': 'sum', # Daily sum of all the yields. Can be replaced with 'mean' to get daily mean instead\n",
    "    'HW': 'first', # Since the HW indicator will be the same for all instances of the same day (given the same farm), we save the 'first'\n",
    "    'cum_HW': 'first', # Same as for 'HW'\n",
    "    'DaysInMilk': 'first', # Same as for 'HW'\n",
    "    'LactationNumber': 'first', # Same as for 'HW'\n",
    "    'BreedName': 'first', # It will be the same cow, so we save first instance of 'BreedName'\n",
    "    'Temperature': ['mean', 'max'], #Save both the daily Max temperature as well as daily mean temperature\n",
    "    'Relative Humidity': 'mean', # Save daily mean humidity\n",
    "    'THI_adj': 'mean' # save daily mean THI-adjusted\n",
    "}\n",
    "\n",
    "daily_data = data.groupby(['SE_Number', 'StartDate']).agg(agg_functions).reset_index() #Group by animal (SE_Number) and day (StartDate)\n",
    "\n",
    "daily_data.columns = [' '.join(col).strip() if 'first' not in col[1] else col[0] for col in daily_data.columns.values] # Remove the weird 'first' prefixes from the column names\n",
    "\n",
    "# rename the columns to approiate prefixes\n",
    "daily_data = daily_data.rename(columns={\n",
    "    'TotalYield sum': 'DailyTotalYield',\n",
    "    'DaysInMilk first': 'DaysInMilk',\n",
    "    'Temperature mean': 'MeanTemperature',\n",
    "    'Temperature max': 'MaxTemperature',\n",
    "    'Relativ Humidity mean': 'MeanRelHumidity',\n",
    "    'THI_adj mean': 'MeanTHI_adj'\n",
    "})"
   ]
  },
  {
   "cell_type": "markdown",
   "metadata": {},
   "source": [
    "### Normalize based on Wood's Lactation Curve"
   ]
  },
  {
   "cell_type": "code",
   "execution_count": 17,
   "metadata": {},
   "outputs": [
    {
     "name": "stderr",
     "output_type": "stream",
     "text": [
      "  0%|          | 0/220 [00:00<?, ? Cows/s]c:\\Users\\axele\\.conda\\envs\\Doris\\lib\\site-packages\\scipy\\optimize\\_minpack_py.py:1010: OptimizeWarning: Covariance of the parameters could not be estimated\n",
      "  warnings.warn('Covariance of the parameters could not be estimated',\n",
      " 99%|█████████▊| 217/220 [00:12<00:00, 25.34 Cows/s]c:\\Users\\axele\\.conda\\envs\\Doris\\lib\\site-packages\\scipy\\optimize\\_minpack_py.py:1010: OptimizeWarning: Covariance of the parameters could not be estimated\n",
      "  warnings.warn('Covariance of the parameters could not be estimated',\n",
      "100%|██████████| 220/220 [00:12<00:00, 17.87 Cows/s]"
     ]
    },
    {
     "name": "stdout",
     "output_type": "stream",
     "text": [
      "The daily records dataframe for farm f454e660 has 84007 entries and 14 columns\n"
     ]
    },
    {
     "name": "stderr",
     "output_type": "stream",
     "text": [
      "\n"
     ]
    },
    {
     "data": {
      "text/html": [
       "<div>\n",
       "<style scoped>\n",
       "    .dataframe tbody tr th:only-of-type {\n",
       "        vertical-align: middle;\n",
       "    }\n",
       "\n",
       "    .dataframe tbody tr th {\n",
       "        vertical-align: top;\n",
       "    }\n",
       "\n",
       "    .dataframe thead th {\n",
       "        text-align: right;\n",
       "    }\n",
       "</style>\n",
       "<table border=\"1\" class=\"dataframe\">\n",
       "  <thead>\n",
       "    <tr style=\"text-align: right;\">\n",
       "      <th></th>\n",
       "      <th>SE_Number</th>\n",
       "      <th>StartDate</th>\n",
       "      <th>DailyTotalYield</th>\n",
       "      <th>HW</th>\n",
       "      <th>cum_HW</th>\n",
       "      <th>DaysInMilk</th>\n",
       "      <th>LactationNumber</th>\n",
       "      <th>BreedName</th>\n",
       "      <th>MeanTemperature</th>\n",
       "      <th>MaxTemperature</th>\n",
       "      <th>Relative Humidity mean</th>\n",
       "      <th>MeanTHI_adj</th>\n",
       "      <th>ExpectedYield</th>\n",
       "      <th>NormalizedDailyTotalYield</th>\n",
       "    </tr>\n",
       "  </thead>\n",
       "  <tbody>\n",
       "    <tr>\n",
       "      <th>0</th>\n",
       "      <td>SE-7fd04cd3-679</td>\n",
       "      <td>2022-01-01</td>\n",
       "      <td>12.93</td>\n",
       "      <td>0</td>\n",
       "      <td>0.0</td>\n",
       "      <td>339.0</td>\n",
       "      <td>4</td>\n",
       "      <td>04 SJB</td>\n",
       "      <td>1.2</td>\n",
       "      <td>1.2</td>\n",
       "      <td>81.7</td>\n",
       "      <td>-1031.67028</td>\n",
       "      <td>13.574447</td>\n",
       "      <td>0.952525</td>\n",
       "    </tr>\n",
       "    <tr>\n",
       "      <th>1</th>\n",
       "      <td>SE-7fd04cd3-679</td>\n",
       "      <td>2022-01-02</td>\n",
       "      <td>13.72</td>\n",
       "      <td>0</td>\n",
       "      <td>0.0</td>\n",
       "      <td>340.0</td>\n",
       "      <td>4</td>\n",
       "      <td>04 SJB</td>\n",
       "      <td>4.9</td>\n",
       "      <td>4.9</td>\n",
       "      <td>99.0</td>\n",
       "      <td>-892.58760</td>\n",
       "      <td>13.614490</td>\n",
       "      <td>1.007750</td>\n",
       "    </tr>\n",
       "    <tr>\n",
       "      <th>2</th>\n",
       "      <td>SE-7fd04cd3-679</td>\n",
       "      <td>2022-01-03</td>\n",
       "      <td>14.19</td>\n",
       "      <td>0</td>\n",
       "      <td>0.0</td>\n",
       "      <td>341.0</td>\n",
       "      <td>4</td>\n",
       "      <td>04 SJB</td>\n",
       "      <td>4.7</td>\n",
       "      <td>4.7</td>\n",
       "      <td>94.8</td>\n",
       "      <td>-874.35096</td>\n",
       "      <td>13.654533</td>\n",
       "      <td>1.039215</td>\n",
       "    </tr>\n",
       "  </tbody>\n",
       "</table>\n",
       "</div>"
      ],
      "text/plain": [
       "         SE_Number  StartDate  DailyTotalYield  HW  cum_HW  DaysInMilk  \\\n",
       "0  SE-7fd04cd3-679 2022-01-01            12.93   0     0.0       339.0   \n",
       "1  SE-7fd04cd3-679 2022-01-02            13.72   0     0.0       340.0   \n",
       "2  SE-7fd04cd3-679 2022-01-03            14.19   0     0.0       341.0   \n",
       "\n",
       "   LactationNumber BreedName  MeanTemperature  MaxTemperature  \\\n",
       "0                4    04 SJB              1.2             1.2   \n",
       "1                4    04 SJB              4.9             4.9   \n",
       "2                4    04 SJB              4.7             4.7   \n",
       "\n",
       "   Relative Humidity mean  MeanTHI_adj  ExpectedYield  \\\n",
       "0                    81.7  -1031.67028      13.574447   \n",
       "1                    99.0   -892.58760      13.614490   \n",
       "2                    94.8   -874.35096      13.654533   \n",
       "\n",
       "   NormalizedDailyTotalYield  \n",
       "0                   0.952525  \n",
       "1                   1.007750  \n",
       "2                   1.039215  "
      ]
     },
     "execution_count": 17,
     "metadata": {},
     "output_type": "execute_result"
    }
   ],
   "source": [
    "# Define the Wood's Lactation Curve function\n",
    "def woods_lactation_curve(dim, a, b, c):\n",
    "    dim = np.array(dim, dtype=float)\n",
    "    return a * dim**b * np.exp(-c * dim)\n",
    "\n",
    "# Function to fit the Wood's Lactation Curve to the dataset\n",
    "def fit_woods_lactation_curve(dataset):\n",
    "    # Initialize the 'ExpectedYield' column to NaN\n",
    "    dataset['ExpectedYield'] = np.nan\n",
    "    \n",
    "    # Group the dataset by 'SE_Number' and fit the curve for each cow\n",
    "    for animal_number, group in tqdm(dataset.groupby('SE_Number'), unit= \" Cows\"):\n",
    "        # Prepare the data for fitting\n",
    "        x_data = group['DaysInMilk']\n",
    "        y_data = group['DailyTotalYield']\n",
    "        \n",
    "        # Fit the model\n",
    "        try:\n",
    "            # Initial parameter guesses\n",
    "            initial_guesses = [max(y_data), 0.4, 0.0001]\n",
    "            # Bounds on the parameters to prevent overflow\n",
    "            bounds = ([0, 0, 0], [np.inf, 1, 0.1])\n",
    "            popt, pcov = curve_fit(\n",
    "                woods_lactation_curve, x_data, y_data,\n",
    "                p0=initial_guesses, bounds=bounds, maxfev=10000\n",
    "            )\n",
    "            \n",
    "            # Predict the expected yield using the fitted model\n",
    "            group['ExpectedYield'] = woods_lactation_curve(group['DaysInMilk'], *popt)\n",
    "            \n",
    "            # Normalize the DailyTotalYield\n",
    "            group['NormalizedDailyTotalYield'] = group['DailyTotalYield'] / group['ExpectedYield']\n",
    "            \n",
    "            # Update the dataset with the fitted data\n",
    "            dataset.loc[group.index, 'ExpectedYield'] = group['ExpectedYield']\n",
    "            dataset.loc[group.index, 'NormalizedDailyTotalYield'] = group['NormalizedDailyTotalYield']\n",
    "            \n",
    "        except RuntimeError as e:\n",
    "            print(f\"Curve fit failed for cow {animal_number}: {e}\")\n",
    "    \n",
    "    # Fill any NaN values in the newly created columns with 0\n",
    "    dataset['ExpectedYield'].fillna(0, inplace=True)\n",
    "    dataset['NormalizedDailyTotalYield'].fillna(0, inplace=True)\n",
    "    \n",
    "    return dataset\n",
    "\n",
    "daily_data = fit_woods_lactation_curve(daily_data)\n",
    "print(f\"The daily records dataframe for farm {farm_pseudo} has {daily_data.shape[0]} entries and {daily_data.shape[1]} columns\")\n",
    "daily_data.head(3)"
   ]
  },
  {
   "cell_type": "markdown",
   "metadata": {},
   "source": [
    "### Visualisation\n",
    "\n",
    "Following is to visualize difference between **daily yield** between **breeds** and wheter or not it was during a **heatwave** `HW`\n",
    "\n",
    "---\n",
    "\n",
    "`HW = 0` -- No heatwave\n",
    "\n",
    "`HW = 1` -- During a heatwave or heatwave at most 1 week ago"
   ]
  },
  {
   "cell_type": "code",
   "execution_count": 18,
   "metadata": {},
   "outputs": [
    {
     "data": {
      "image/png": "[encoded data removed]",
      "text/plain": [
       "<Figure size 1200x600 with 1 Axes>"
      ]
     },
     "metadata": {},
     "output_type": "display_data"
    }
   ],
   "source": [
    "# plot violinplot\n",
    "plt.figure(figsize=(12, 6))\n",
    "\n",
    "colors = [\"#4374B3\", \"#FF0B04\"]\n",
    "sns.set_palette(sns.color_palette(colors))\n",
    "sns.violinplot(x='BreedName', y='NormalizedDailyTotalYield', hue= 'HW', data=daily_data, split=True, inner=\"quart\", gap=.1, density_norm=\"count\")\n",
    "plt.xlabel('Breed', fontsize=14)\n",
    "plt.ylabel('Normalized Daily Yield', fontsize=14)\n",
    "plt.title(f'Daily Yield by breed for farm {farm_pseudo}', fontsize=16)\n",
    "plt.legend(title='Heatwave', loc='upper right')\n",
    "plt.show()"
   ]
  },
  {
   "cell_type": "code",
   "execution_count": null,
   "metadata": {},
   "outputs": [],
   "source": []
  }
 ],
 "metadata": {
  "kernelspec": {
   "display_name": "Doris",
   "language": "python",
   "name": "python3"
  },
  "language_info": {
   "codemirror_mode": {
    "name": "ipython",
    "version": 3
   },
   "file_extension": ".py",
   "mimetype": "text/x-python",
   "name": "python",
   "nbconvert_exporter": "python",
   "pygments_lexer": "ipython3",
   "version": "3.10.13"
  }
 },
 "nbformat": 4,
 "nbformat_minor": 2
}
