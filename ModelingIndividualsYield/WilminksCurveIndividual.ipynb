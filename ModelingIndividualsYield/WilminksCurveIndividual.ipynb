{
 "cells": [
  {
   "cell_type": "code",
   "execution_count": 7,
   "metadata": {},
   "outputs": [
    {
     "name": "stdout",
     "output_type": "stream",
     "text": [
      "The autoreload extension is already loaded. To reload it, use:\n",
      "  %reload_ext autoreload\n"
     ]
    }
   ],
   "source": [
    "import pandas as pd\n",
    "import matplotlib.pyplot as plt\n",
    "import numpy as np\n",
    "import seaborn as sns\n",
    "from scipy.optimize import curve_fit, OptimizeWarning\n",
    "from tqdm import tqdm\n",
    "import warnings\n",
    "\n",
    "sns.set_theme()\n",
    "sns.set_context(\"notebook\")\n",
    "%load_ext autoreload\n",
    "%autoreload 2"
   ]
  },
  {
   "cell_type": "code",
   "execution_count": 8,
   "metadata": {},
   "outputs": [
    {
     "data": {
      "text/html": [
       "<div>\n",
       "<style scoped>\n",
       "    .dataframe tbody tr th:only-of-type {\n",
       "        vertical-align: middle;\n",
       "    }\n",
       "\n",
       "    .dataframe tbody tr th {\n",
       "        vertical-align: top;\n",
       "    }\n",
       "\n",
       "    .dataframe thead th {\n",
       "        text-align: right;\n",
       "    }\n",
       "</style>\n",
       "<table border=\"1\" class=\"dataframe\">\n",
       "  <thead>\n",
       "    <tr style=\"text-align: right;\">\n",
       "      <th></th>\n",
       "      <th>FarmName_Pseudo</th>\n",
       "      <th>SE_Number</th>\n",
       "      <th>AnimalNumber</th>\n",
       "      <th>StartDate</th>\n",
       "      <th>StartTime</th>\n",
       "      <th>LactationNumber</th>\n",
       "      <th>DaysInMilk</th>\n",
       "      <th>TotalYield</th>\n",
       "      <th>DateTime</th>\n",
       "      <th>YearSeason</th>\n",
       "      <th>...</th>\n",
       "      <th>Mother</th>\n",
       "      <th>Father</th>\n",
       "      <th>CullDecisionDate</th>\n",
       "      <th>Temperature</th>\n",
       "      <th>RelativeHumidity</th>\n",
       "      <th>THI_adj</th>\n",
       "      <th>HW</th>\n",
       "      <th>cum_HW</th>\n",
       "      <th>Temp15Threshold</th>\n",
       "      <th>Age</th>\n",
       "    </tr>\n",
       "  </thead>\n",
       "  <tbody>\n",
       "    <tr>\n",
       "      <th>0</th>\n",
       "      <td>a624fb9a</td>\n",
       "      <td>SE-064c0cec-1189</td>\n",
       "      <td>5189</td>\n",
       "      <td>2022-01-01</td>\n",
       "      <td>06:25:00</td>\n",
       "      <td>7</td>\n",
       "      <td>191</td>\n",
       "      <td>13.90</td>\n",
       "      <td>2022-01-01 06:25:00</td>\n",
       "      <td>2022-1</td>\n",
       "      <td>...</td>\n",
       "      <td>NaN</td>\n",
       "      <td>NaN</td>\n",
       "      <td>2022-12-20</td>\n",
       "      <td>-3.025000</td>\n",
       "      <td>0.930917</td>\n",
       "      <td>28.012944</td>\n",
       "      <td>0</td>\n",
       "      <td>0</td>\n",
       "      <td>0</td>\n",
       "      <td>3095</td>\n",
       "    </tr>\n",
       "    <tr>\n",
       "      <th>1</th>\n",
       "      <td>a624fb9a</td>\n",
       "      <td>SE-064c0cec-1189</td>\n",
       "      <td>5189</td>\n",
       "      <td>2022-01-01</td>\n",
       "      <td>16:41:00</td>\n",
       "      <td>7</td>\n",
       "      <td>191</td>\n",
       "      <td>16.87</td>\n",
       "      <td>2022-01-01 16:41:00</td>\n",
       "      <td>2022-1</td>\n",
       "      <td>...</td>\n",
       "      <td>NaN</td>\n",
       "      <td>NaN</td>\n",
       "      <td>2022-12-20</td>\n",
       "      <td>-3.025000</td>\n",
       "      <td>0.930917</td>\n",
       "      <td>28.012944</td>\n",
       "      <td>0</td>\n",
       "      <td>0</td>\n",
       "      <td>0</td>\n",
       "      <td>3095</td>\n",
       "    </tr>\n",
       "    <tr>\n",
       "      <th>2</th>\n",
       "      <td>a624fb9a</td>\n",
       "      <td>SE-064c0cec-1189</td>\n",
       "      <td>5189</td>\n",
       "      <td>2022-01-02</td>\n",
       "      <td>15:29:00</td>\n",
       "      <td>7</td>\n",
       "      <td>192</td>\n",
       "      <td>20.41</td>\n",
       "      <td>2022-01-02 15:29:00</td>\n",
       "      <td>2022-1</td>\n",
       "      <td>...</td>\n",
       "      <td>NaN</td>\n",
       "      <td>NaN</td>\n",
       "      <td>2022-12-20</td>\n",
       "      <td>-0.279167</td>\n",
       "      <td>0.990542</td>\n",
       "      <td>32.898193</td>\n",
       "      <td>0</td>\n",
       "      <td>0</td>\n",
       "      <td>0</td>\n",
       "      <td>3096</td>\n",
       "    </tr>\n",
       "    <tr>\n",
       "      <th>3</th>\n",
       "      <td>a624fb9a</td>\n",
       "      <td>SE-064c0cec-1189</td>\n",
       "      <td>5189</td>\n",
       "      <td>2022-01-02</td>\n",
       "      <td>03:31:00</td>\n",
       "      <td>7</td>\n",
       "      <td>192</td>\n",
       "      <td>16.28</td>\n",
       "      <td>2022-01-02 03:31:00</td>\n",
       "      <td>2022-1</td>\n",
       "      <td>...</td>\n",
       "      <td>NaN</td>\n",
       "      <td>NaN</td>\n",
       "      <td>2022-12-20</td>\n",
       "      <td>-0.279167</td>\n",
       "      <td>0.990542</td>\n",
       "      <td>32.898193</td>\n",
       "      <td>0</td>\n",
       "      <td>0</td>\n",
       "      <td>0</td>\n",
       "      <td>3096</td>\n",
       "    </tr>\n",
       "    <tr>\n",
       "      <th>4</th>\n",
       "      <td>a624fb9a</td>\n",
       "      <td>SE-064c0cec-1189</td>\n",
       "      <td>5189</td>\n",
       "      <td>2022-01-02</td>\n",
       "      <td>22:44:00</td>\n",
       "      <td>7</td>\n",
       "      <td>192</td>\n",
       "      <td>11.53</td>\n",
       "      <td>2022-01-02 22:44:00</td>\n",
       "      <td>2022-1</td>\n",
       "      <td>...</td>\n",
       "      <td>NaN</td>\n",
       "      <td>NaN</td>\n",
       "      <td>2022-12-20</td>\n",
       "      <td>-0.279167</td>\n",
       "      <td>0.990542</td>\n",
       "      <td>32.898193</td>\n",
       "      <td>0</td>\n",
       "      <td>0</td>\n",
       "      <td>0</td>\n",
       "      <td>3096</td>\n",
       "    </tr>\n",
       "  </tbody>\n",
       "</table>\n",
       "<p>5 rows × 21 columns</p>\n",
       "</div>"
      ],
      "text/plain": [
       "  FarmName_Pseudo         SE_Number  AnimalNumber  StartDate StartTime  \\\n",
       "0        a624fb9a  SE-064c0cec-1189          5189 2022-01-01  06:25:00   \n",
       "1        a624fb9a  SE-064c0cec-1189          5189 2022-01-01  16:41:00   \n",
       "2        a624fb9a  SE-064c0cec-1189          5189 2022-01-02  15:29:00   \n",
       "3        a624fb9a  SE-064c0cec-1189          5189 2022-01-02  03:31:00   \n",
       "4        a624fb9a  SE-064c0cec-1189          5189 2022-01-02  22:44:00   \n",
       "\n",
       "   LactationNumber  DaysInMilk  TotalYield            DateTime YearSeason  \\\n",
       "0                7         191       13.90 2022-01-01 06:25:00     2022-1   \n",
       "1                7         191       16.87 2022-01-01 16:41:00     2022-1   \n",
       "2                7         192       20.41 2022-01-02 15:29:00     2022-1   \n",
       "3                7         192       16.28 2022-01-02 03:31:00     2022-1   \n",
       "4                7         192       11.53 2022-01-02 22:44:00     2022-1   \n",
       "\n",
       "   ... Mother Father CullDecisionDate Temperature  RelativeHumidity  \\\n",
       "0  ...    NaN    NaN       2022-12-20   -3.025000          0.930917   \n",
       "1  ...    NaN    NaN       2022-12-20   -3.025000          0.930917   \n",
       "2  ...    NaN    NaN       2022-12-20   -0.279167          0.990542   \n",
       "3  ...    NaN    NaN       2022-12-20   -0.279167          0.990542   \n",
       "4  ...    NaN    NaN       2022-12-20   -0.279167          0.990542   \n",
       "\n",
       "     THI_adj  HW  cum_HW  Temp15Threshold   Age  \n",
       "0  28.012944   0       0                0  3095  \n",
       "1  28.012944   0       0                0  3095  \n",
       "2  32.898193   0       0                0  3096  \n",
       "3  32.898193   0       0                0  3096  \n",
       "4  32.898193   0       0                0  3096  \n",
       "\n",
       "[5 rows x 21 columns]"
      ]
     },
     "execution_count": 8,
     "metadata": {},
     "output_type": "execute_result"
    }
   ],
   "source": [
    "dtype_dict = {\n",
    "    'FarmName_Pseudo': 'str',\n",
    "    'SE_Number': 'str',\n",
    "    'AnimalNumber': 'Int64',          \n",
    "    'StartDate': 'str',\n",
    "    'StartTime': 'str',\n",
    "    'DateTime': 'str',\n",
    "    'LactationNumber': 'Int64',       \n",
    "    'DaysInMilk': 'Int64', \n",
    "    'YearSeason': 'str',           \n",
    "    'TotalYield': 'float',\n",
    "    'DateTime': 'str',\n",
    "    'BreedName': 'str',\n",
    "    'Age': 'Int64',\n",
    "    'Mother': 'str',\n",
    "    'Father': 'str',\n",
    "    'CullDecisionDate': 'str',\n",
    "    'Temperature': 'float',\n",
    "    'RelativeHumidity': 'float',      \n",
    "    'THI_adj': 'float',\n",
    "    'HW': 'Int64',                    \n",
    "    'cum_HW': 'Int64',                \n",
    "    'Temp15Threshold': 'Int64'        \n",
    "}\n",
    "\n",
    "\n",
    "# Load the CSV with specified dtypes\n",
    "data = pd.read_csv('../Data/MergedData/CleanedYieldData.csv', dtype=dtype_dict)\n",
    "\n",
    "# Convert date and time columns back to datetime and time objects\n",
    "data['DateTime'] = pd.to_datetime(data['DateTime'], errors='coerce')\n",
    "data['StartTime'] = pd.to_datetime(data['StartTime'], format='%H:%M:%S', errors='coerce').dt.time\n",
    "data['StartDate'] = pd.to_datetime(data['StartDate'], errors='coerce')\n",
    "data['CullDecisionDate'] = pd.to_datetime(data['CullDecisionDate'], errors='coerce')\n",
    "data['DateTime'] = pd.to_datetime(data['DateTime'], errors='coerce')\n",
    "data.head()"
   ]
  },
  {
   "cell_type": "code",
   "execution_count": 9,
   "metadata": {},
   "outputs": [
    {
     "data": {
      "text/html": [
       "<div>\n",
       "<style scoped>\n",
       "    .dataframe tbody tr th:only-of-type {\n",
       "        vertical-align: middle;\n",
       "    }\n",
       "\n",
       "    .dataframe tbody tr th {\n",
       "        vertical-align: top;\n",
       "    }\n",
       "\n",
       "    .dataframe thead th {\n",
       "        text-align: right;\n",
       "    }\n",
       "</style>\n",
       "<table border=\"1\" class=\"dataframe\">\n",
       "  <thead>\n",
       "    <tr style=\"text-align: right;\">\n",
       "      <th></th>\n",
       "      <th>SE_Number</th>\n",
       "      <th>FarmName_Pseudo</th>\n",
       "      <th>Date</th>\n",
       "      <th>DailyYield</th>\n",
       "      <th>PreviousDailyYield</th>\n",
       "      <th>DailyYieldChange</th>\n",
       "      <th>HW</th>\n",
       "      <th>MeanTemperature</th>\n",
       "      <th>MeanTHI_adj</th>\n",
       "      <th>DaysInMilk</th>\n",
       "      <th>YearSeason</th>\n",
       "      <th>cum_HW</th>\n",
       "      <th>Temp15Threshold</th>\n",
       "      <th>Age</th>\n",
       "      <th>BreedName</th>\n",
       "      <th>LactationNumber</th>\n",
       "    </tr>\n",
       "  </thead>\n",
       "  <tbody>\n",
       "    <tr>\n",
       "      <th>0</th>\n",
       "      <td>SE-064c0cec-1189</td>\n",
       "      <td>a624fb9a</td>\n",
       "      <td>2022-01-01</td>\n",
       "      <td>30.77</td>\n",
       "      <td>30.77</td>\n",
       "      <td>0.00</td>\n",
       "      <td>0</td>\n",
       "      <td>-3.025000</td>\n",
       "      <td>28.012944</td>\n",
       "      <td>191</td>\n",
       "      <td>2022-1</td>\n",
       "      <td>0</td>\n",
       "      <td>0</td>\n",
       "      <td>3095</td>\n",
       "      <td>02 SLB</td>\n",
       "      <td>7</td>\n",
       "    </tr>\n",
       "    <tr>\n",
       "      <th>1</th>\n",
       "      <td>SE-064c0cec-1189</td>\n",
       "      <td>a624fb9a</td>\n",
       "      <td>2022-01-02</td>\n",
       "      <td>48.22</td>\n",
       "      <td>30.77</td>\n",
       "      <td>17.45</td>\n",
       "      <td>0</td>\n",
       "      <td>-0.279167</td>\n",
       "      <td>32.898193</td>\n",
       "      <td>192</td>\n",
       "      <td>2022-1</td>\n",
       "      <td>0</td>\n",
       "      <td>0</td>\n",
       "      <td>3096</td>\n",
       "      <td>02 SLB</td>\n",
       "      <td>7</td>\n",
       "    </tr>\n",
       "    <tr>\n",
       "      <th>2</th>\n",
       "      <td>SE-064c0cec-1189</td>\n",
       "      <td>a624fb9a</td>\n",
       "      <td>2022-01-03</td>\n",
       "      <td>30.53</td>\n",
       "      <td>48.22</td>\n",
       "      <td>-17.69</td>\n",
       "      <td>0</td>\n",
       "      <td>2.033333</td>\n",
       "      <td>36.760487</td>\n",
       "      <td>193</td>\n",
       "      <td>2022-1</td>\n",
       "      <td>0</td>\n",
       "      <td>0</td>\n",
       "      <td>3097</td>\n",
       "      <td>02 SLB</td>\n",
       "      <td>7</td>\n",
       "    </tr>\n",
       "    <tr>\n",
       "      <th>3</th>\n",
       "      <td>SE-064c0cec-1189</td>\n",
       "      <td>a624fb9a</td>\n",
       "      <td>2022-01-04</td>\n",
       "      <td>42.26</td>\n",
       "      <td>30.53</td>\n",
       "      <td>11.73</td>\n",
       "      <td>0</td>\n",
       "      <td>0.066667</td>\n",
       "      <td>31.939524</td>\n",
       "      <td>194</td>\n",
       "      <td>2022-1</td>\n",
       "      <td>0</td>\n",
       "      <td>0</td>\n",
       "      <td>3098</td>\n",
       "      <td>02 SLB</td>\n",
       "      <td>7</td>\n",
       "    </tr>\n",
       "    <tr>\n",
       "      <th>4</th>\n",
       "      <td>SE-064c0cec-1189</td>\n",
       "      <td>a624fb9a</td>\n",
       "      <td>2022-01-05</td>\n",
       "      <td>38.49</td>\n",
       "      <td>42.26</td>\n",
       "      <td>-3.77</td>\n",
       "      <td>0</td>\n",
       "      <td>-3.700000</td>\n",
       "      <td>26.498206</td>\n",
       "      <td>195</td>\n",
       "      <td>2022-1</td>\n",
       "      <td>0</td>\n",
       "      <td>0</td>\n",
       "      <td>3099</td>\n",
       "      <td>02 SLB</td>\n",
       "      <td>7</td>\n",
       "    </tr>\n",
       "  </tbody>\n",
       "</table>\n",
       "</div>"
      ],
      "text/plain": [
       "          SE_Number FarmName_Pseudo       Date  DailyYield  \\\n",
       "0  SE-064c0cec-1189        a624fb9a 2022-01-01       30.77   \n",
       "1  SE-064c0cec-1189        a624fb9a 2022-01-02       48.22   \n",
       "2  SE-064c0cec-1189        a624fb9a 2022-01-03       30.53   \n",
       "3  SE-064c0cec-1189        a624fb9a 2022-01-04       42.26   \n",
       "4  SE-064c0cec-1189        a624fb9a 2022-01-05       38.49   \n",
       "\n",
       "   PreviousDailyYield  DailyYieldChange  HW  MeanTemperature  MeanTHI_adj  \\\n",
       "0               30.77              0.00   0        -3.025000    28.012944   \n",
       "1               30.77             17.45   0        -0.279167    32.898193   \n",
       "2               48.22            -17.69   0         2.033333    36.760487   \n",
       "3               30.53             11.73   0         0.066667    31.939524   \n",
       "4               42.26             -3.77   0        -3.700000    26.498206   \n",
       "\n",
       "   DaysInMilk YearSeason  cum_HW  Temp15Threshold   Age BreedName  \\\n",
       "0         191     2022-1       0                0  3095    02 SLB   \n",
       "1         192     2022-1       0                0  3096    02 SLB   \n",
       "2         193     2022-1       0                0  3097    02 SLB   \n",
       "3         194     2022-1       0                0  3098    02 SLB   \n",
       "4         195     2022-1       0                0  3099    02 SLB   \n",
       "\n",
       "   LactationNumber  \n",
       "0                7  \n",
       "1                7  \n",
       "2                7  \n",
       "3                7  \n",
       "4                7  "
      ]
     },
     "execution_count": 9,
     "metadata": {},
     "output_type": "execute_result"
    }
   ],
   "source": [
    "# Calculate the DailyYield for each cow each day\n",
    "data['DailyYield'] = data.groupby(['SE_Number', 'StartDate'])['TotalYield'].transform('sum')\n",
    "\n",
    "# Sort the data by AnimalNumber and StartDate\n",
    "data.sort_values(['AnimalNumber', 'StartDate'], inplace=True)\n",
    "\n",
    "# Calculate the previous day's total yield for each cow\n",
    "data['PreviousDailyYield'] = data.groupby('AnimalNumber')['DailyYield'].shift(1)\n",
    "\n",
    "# Calculate the daily yield change for each cow\n",
    "data['DailyYieldChange'] = data['DailyYield'] - data['PreviousDailyYield']\n",
    "\n",
    "# Group and aggregate data\n",
    "data = data.groupby(['SE_Number', 'FarmName_Pseudo', 'StartDate']).agg({\n",
    "    'DailyYield': 'first',\n",
    "    'PreviousDailyYield': 'first',\n",
    "    'DailyYieldChange': 'first',\n",
    "    'HW': 'max',\n",
    "    'Temperature': 'mean',\n",
    "    'THI_adj': 'mean',\n",
    "    'DaysInMilk': 'first',\n",
    "    'YearSeason': 'first',\n",
    "    'cum_HW': 'max',\n",
    "    'Temp15Threshold': 'max',\n",
    "    'Age': 'first',\n",
    "    'BreedName': 'first',\n",
    "    'LactationNumber': 'first'\n",
    "}).reset_index()\n",
    "\n",
    "# Renaming and formatting\n",
    "data.rename(columns={\n",
    "    'Temperature': 'MeanTemperature',\n",
    "    'THI_adj': 'MeanTHI_adj',\n",
    "    'StartDate': 'Date'\n",
    "}, inplace=True)\n",
    "data['Date'] = pd.to_datetime(data['Date'])\n",
    "\n",
    "# Display the first few rows of the transformed data\n",
    "data.head()"
   ]
  },
  {
   "cell_type": "code",
   "execution_count": 10,
   "metadata": {},
   "outputs": [
    {
     "name": "stdout",
     "output_type": "stream",
     "text": [
      "Mean of DailyYield: FarmName_Pseudo\n",
      "5c06d92d    37.389675\n",
      "752efd72    31.151716\n",
      "a624fb9a    33.413694\n",
      "f454e660    30.485127\n",
      "Name: DailyYield, dtype: float64\n",
      "Standard Deviation of DailyYield: FarmName_Pseudo\n",
      "5c06d92d     9.960240\n",
      "752efd72     7.799288\n",
      "a624fb9a    11.050811\n",
      "f454e660    11.833056\n",
      "Name: DailyYield, dtype: float64\n"
     ]
    }
   ],
   "source": [
    "# Check if DailyYield is centered around approx the same for each farm\n",
    "print(\"Mean of DailyYield:\", data.groupby('FarmName_Pseudo')['DailyYield'].mean())\n",
    "print(\"Standard Deviation of DailyYield:\", data.groupby('FarmName_Pseudo')['DailyYield'].std())"
   ]
  },
  {
   "cell_type": "markdown",
   "metadata": {},
   "source": [
    "## Wilmink Lactation Curve\n",
    "$$\n",
    "Y(t) = a + bt + c \\exp(-dt)\n",
    "$$\n",
    "- \\(Y(t)\\): Milk yield at time \\(t\\) post-calving, so t = DaysInMilk\n",
    "- \\(a\\): Intercept, representing baseline milk yield\n",
    "- \\(b\\): Linear increase rate of milk yield over time\n",
    "- \\(c\\): Initial exponential increase in milk yield\n",
    "- \\(d\\): Rate at which the exponential increase declines over time\n",
    "\n",
    "The Wilmink model captures the lactation curve by considering both linear and exponential components, providing a flexible representation of milk production dynamics over the lactation period."
   ]
  },
  {
   "cell_type": "code",
   "execution_count": 11,
   "metadata": {},
   "outputs": [
    {
     "name": "stderr",
     "output_type": "stream",
     "text": [
      "  4%|▍         | 102/2315 [00:06<01:52, 19.68 Segments/s]"
     ]
    },
    {
     "name": "stdout",
     "output_type": "stream",
     "text": [
      "Insufficient data points for cow SE-5c06d92d-2621, lactation 3, skipping.\n"
     ]
    },
    {
     "name": "stderr",
     "output_type": "stream",
     "text": [
      "  5%|▍         | 114/2315 [00:09<04:02,  9.09 Segments/s]"
     ]
    },
    {
     "name": "stdout",
     "output_type": "stream",
     "text": [
      "Insufficient data points for cow SE-5c06d92d-2639, lactation 3, skipping.\n"
     ]
    },
    {
     "name": "stderr",
     "output_type": "stream",
     "text": [
      " 10%|▉         | 230/2315 [00:19<03:29,  9.93 Segments/s]"
     ]
    },
    {
     "name": "stdout",
     "output_type": "stream",
     "text": [
      "Insufficient data points for cow SE-5c06d92d-2804, lactation 5, skipping.\n",
      "Insufficient data points for cow SE-5c06d92d-2815, lactation 2, skipping.\n"
     ]
    },
    {
     "name": "stderr",
     "output_type": "stream",
     "text": [
      " 11%|█         | 247/2315 [00:22<04:20,  7.94 Segments/s]"
     ]
    },
    {
     "name": "stdout",
     "output_type": "stream",
     "text": [
      "Insufficient data points for cow SE-5c06d92d-2824, lactation 3, skipping.\n"
     ]
    },
    {
     "name": "stderr",
     "output_type": "stream",
     "text": [
      " 12%|█▏        | 284/2315 [00:24<01:52, 18.09 Segments/s]"
     ]
    },
    {
     "name": "stdout",
     "output_type": "stream",
     "text": [
      "Insufficient data points for cow SE-5c06d92d-2845, lactation 2, skipping.\n"
     ]
    },
    {
     "name": "stderr",
     "output_type": "stream",
     "text": [
      " 13%|█▎        | 290/2315 [00:25<02:29, 13.50 Segments/s]"
     ]
    },
    {
     "name": "stdout",
     "output_type": "stream",
     "text": [
      "Insufficient data points for cow SE-5c06d92d-2870, lactation 2, skipping.\n"
     ]
    },
    {
     "name": "stderr",
     "output_type": "stream",
     "text": [
      " 15%|█▌        | 350/2315 [00:25<00:36, 53.73 Segments/s]"
     ]
    },
    {
     "name": "stdout",
     "output_type": "stream",
     "text": [
      "Insufficient data points for cow SE-5c06d92d-2911, lactation 2, skipping.\n",
      "Insufficient data points for cow SE-5c06d92d-2914, lactation 2, skipping.\n",
      "Insufficient data points for cow SE-5c06d92d-2919, lactation 2, skipping.\n"
     ]
    },
    {
     "name": "stderr",
     "output_type": "stream",
     "text": [
      " 19%|█▊        | 433/2315 [00:35<04:12,  7.45 Segments/s]"
     ]
    },
    {
     "name": "stdout",
     "output_type": "stream",
     "text": [
      "Insufficient data points for cow SE-5c06d92d-3039, lactation 4, skipping.\n"
     ]
    },
    {
     "name": "stderr",
     "output_type": "stream",
     "text": [
      " 19%|█▉        | 450/2315 [00:37<04:08,  7.50 Segments/s]"
     ]
    },
    {
     "name": "stdout",
     "output_type": "stream",
     "text": [
      "Insufficient data points for cow SE-5c06d92d-3045, lactation 1, skipping.\n",
      "Insufficient data points for cow SE-5c06d92d-3047, lactation 1, skipping.\n",
      "Insufficient data points for cow SE-5c06d92d-3049, lactation 1, skipping.\n"
     ]
    },
    {
     "name": "stderr",
     "output_type": "stream",
     "text": [
      " 22%|██▏       | 519/2315 [00:38<00:37, 47.36 Segments/s]"
     ]
    },
    {
     "name": "stdout",
     "output_type": "stream",
     "text": [
      "Insufficient data points for cow SE-5c06d92d-3063, lactation 1, skipping.\n",
      "Insufficient data points for cow SE-5c06d92d-3063, lactation 3, skipping.\n",
      "Insufficient data points for cow SE-5c06d92d-3065, lactation 1, skipping.\n",
      "Insufficient data points for cow SE-5c06d92d-3068, lactation 1, skipping.\n"
     ]
    },
    {
     "name": "stderr",
     "output_type": "stream",
     "text": [
      " 23%|██▎       | 532/2315 [00:38<00:46, 38.75 Segments/s]"
     ]
    },
    {
     "name": "stdout",
     "output_type": "stream",
     "text": [
      "Insufficient data points for cow SE-5c06d92d-3116, lactation 3, skipping.\n"
     ]
    },
    {
     "name": "stderr",
     "output_type": "stream",
     "text": [
      " 27%|██▋       | 630/2315 [00:45<02:27, 11.45 Segments/s]"
     ]
    },
    {
     "name": "stdout",
     "output_type": "stream",
     "text": [
      "Insufficient data points for cow SE-5c06d92d-3173, lactation 3, skipping.\n"
     ]
    },
    {
     "name": "stderr",
     "output_type": "stream",
     "text": [
      " 32%|███▏      | 738/2315 [00:49<00:32, 48.78 Segments/s]"
     ]
    },
    {
     "name": "stdout",
     "output_type": "stream",
     "text": [
      "Insufficient data points for cow SE-5c06d92d-3267, lactation 2, skipping.\n"
     ]
    },
    {
     "name": "stderr",
     "output_type": "stream",
     "text": [
      " 35%|███▌      | 818/2315 [00:51<00:39, 37.73 Segments/s]"
     ]
    },
    {
     "name": "stdout",
     "output_type": "stream",
     "text": [
      "Insufficient data points for cow SE-5c06d92d-3357, lactation 2, skipping.\n",
      "Insufficient data points for cow SE-5c06d92d-3365, lactation 2, skipping.\n",
      "Insufficient data points for cow SE-5c06d92d-3370, lactation 2, skipping.\n",
      "Insufficient data points for cow SE-5c06d92d-3371, lactation 2, skipping.\n"
     ]
    },
    {
     "name": "stderr",
     "output_type": "stream",
     "text": [
      " 39%|███▉      | 905/2315 [00:53<00:39, 35.99 Segments/s]"
     ]
    },
    {
     "name": "stdout",
     "output_type": "stream",
     "text": [
      "Insufficient data points for cow SE-5c06d92d-3524, lactation 1, skipping.\n"
     ]
    },
    {
     "name": "stderr",
     "output_type": "stream",
     "text": [
      " 40%|███▉      | 917/2315 [00:54<00:47, 29.56 Segments/s]"
     ]
    },
    {
     "name": "stdout",
     "output_type": "stream",
     "text": [
      "Insufficient data points for cow SE-5c06d92d-3530, lactation 1, skipping.\n",
      "Insufficient data points for cow SE-5c06d92d-3536, lactation 1, skipping.\n",
      "Insufficient data points for cow SE-5c06d92d-3537, lactation 1, skipping.\n"
     ]
    },
    {
     "name": "stderr",
     "output_type": "stream",
     "text": [
      " 40%|████      | 937/2315 [00:57<01:41, 13.52 Segments/s]"
     ]
    },
    {
     "name": "stdout",
     "output_type": "stream",
     "text": [
      "Insufficient data points for cow SE-752efd72-0051, lactation 3, skipping.\n"
     ]
    },
    {
     "name": "stderr",
     "output_type": "stream",
     "text": [
      " 43%|████▎     | 1004/2315 [01:03<02:03, 10.64 Segments/s]"
     ]
    },
    {
     "name": "stdout",
     "output_type": "stream",
     "text": [
      "Insufficient data points for cow SE-752efd72-0117, lactation 2, skipping.\n"
     ]
    },
    {
     "name": "stderr",
     "output_type": "stream",
     "text": [
      " 44%|████▍     | 1013/2315 [01:04<01:44, 12.47 Segments/s]"
     ]
    },
    {
     "name": "stdout",
     "output_type": "stream",
     "text": [
      "Insufficient data points for cow SE-752efd72-0129, lactation 2, skipping.\n"
     ]
    },
    {
     "name": "stderr",
     "output_type": "stream",
     "text": [
      " 45%|████▌     | 1045/2315 [01:04<00:50, 25.31 Segments/s]"
     ]
    },
    {
     "name": "stdout",
     "output_type": "stream",
     "text": [
      "Insufficient data points for cow SE-752efd72-0136, lactation 2, skipping.\n",
      "Insufficient data points for cow SE-752efd72-0143, lactation 2, skipping.\n"
     ]
    },
    {
     "name": "stderr",
     "output_type": "stream",
     "text": [
      " 46%|████▌     | 1063/2315 [01:06<01:22, 15.15 Segments/s]"
     ]
    },
    {
     "name": "stdout",
     "output_type": "stream",
     "text": [
      "Insufficient data points for cow SE-752efd72-0166, lactation 1, skipping.\n"
     ]
    },
    {
     "name": "stderr",
     "output_type": "stream",
     "text": [
      " 51%|█████     | 1173/2315 [01:21<01:00, 18.77 Segments/s]"
     ]
    },
    {
     "name": "stdout",
     "output_type": "stream",
     "text": [
      "Insufficient data points for cow SE-752efd72-0232, lactation 1, skipping.\n",
      "Insufficient data points for cow SE-752efd72-0234, lactation 1, skipping.\n",
      "Insufficient data points for cow SE-752efd72-0239, lactation 1, skipping.\n",
      "Insufficient data points for cow SE-752efd72-0243, lactation 1, skipping.\n"
     ]
    },
    {
     "name": "stderr",
     "output_type": "stream",
     "text": [
      " 56%|█████▋    | 1305/2315 [01:32<00:46, 21.64 Segments/s]"
     ]
    },
    {
     "name": "stdout",
     "output_type": "stream",
     "text": [
      "Insufficient data points for cow SE-752efd72-0298, lactation 1, skipping.\n"
     ]
    },
    {
     "name": "stderr",
     "output_type": "stream",
     "text": [
      " 57%|█████▋    | 1319/2315 [01:35<01:39,  9.97 Segments/s]"
     ]
    },
    {
     "name": "stdout",
     "output_type": "stream",
     "text": [
      "Insufficient data points for cow SE-752efd72-0317, lactation 1, skipping.\n"
     ]
    },
    {
     "name": "stderr",
     "output_type": "stream",
     "text": [
      " 58%|█████▊    | 1339/2315 [01:37<01:35, 10.26 Segments/s]"
     ]
    },
    {
     "name": "stdout",
     "output_type": "stream",
     "text": [
      "Insufficient data points for cow SE-752efd72-0329, lactation 1, skipping.\n"
     ]
    },
    {
     "name": "stderr",
     "output_type": "stream",
     "text": [
      " 61%|██████▏   | 1419/2315 [01:39<00:16, 53.64 Segments/s]"
     ]
    },
    {
     "name": "stdout",
     "output_type": "stream",
     "text": [
      "Insufficient data points for cow SE-752efd72-0369, lactation 1, skipping.\n"
     ]
    },
    {
     "name": "stderr",
     "output_type": "stream",
     "text": [
      " 64%|██████▍   | 1490/2315 [01:41<00:27, 29.88 Segments/s]"
     ]
    },
    {
     "name": "stdout",
     "output_type": "stream",
     "text": [
      "Insufficient data points for cow SE-752efd72-0416, lactation 2, skipping.\n"
     ]
    },
    {
     "name": "stderr",
     "output_type": "stream",
     "text": [
      " 65%|██████▌   | 1510/2315 [01:42<00:25, 31.38 Segments/s]"
     ]
    },
    {
     "name": "stdout",
     "output_type": "stream",
     "text": [
      "Insufficient data points for cow SE-752efd72-0439, lactation 2, skipping.\n",
      "Insufficient data points for cow SE-752efd72-0440, lactation 2, skipping.\n"
     ]
    },
    {
     "name": "stderr",
     "output_type": "stream",
     "text": [
      " 66%|██████▌   | 1528/2315 [01:43<00:39, 19.96 Segments/s]"
     ]
    },
    {
     "name": "stdout",
     "output_type": "stream",
     "text": [
      "Insufficient data points for cow SE-752efd72-0446, lactation 2, skipping.\n"
     ]
    },
    {
     "name": "stderr",
     "output_type": "stream",
     "text": [
      " 69%|██████▉   | 1608/2315 [01:46<00:14, 47.81 Segments/s]"
     ]
    },
    {
     "name": "stdout",
     "output_type": "stream",
     "text": [
      "Insufficient data points for cow SE-752efd72-0533, lactation 1, skipping.\n",
      "Insufficient data points for cow SE-752efd72-0544, lactation 1, skipping.\n"
     ]
    },
    {
     "name": "stderr",
     "output_type": "stream",
     "text": [
      " 71%|███████   | 1640/2315 [01:49<00:44, 15.02 Segments/s]"
     ]
    },
    {
     "name": "stdout",
     "output_type": "stream",
     "text": [
      "Insufficient data points for cow SE-752efd72-2751, lactation 5, skipping.\n"
     ]
    },
    {
     "name": "stderr",
     "output_type": "stream",
     "text": [
      " 72%|███████▏  | 1659/2315 [01:54<01:39,  6.61 Segments/s]"
     ]
    },
    {
     "name": "stdout",
     "output_type": "stream",
     "text": [
      "Insufficient data points for cow SE-752efd72-2794, lactation 6, skipping.\n"
     ]
    },
    {
     "name": "stderr",
     "output_type": "stream",
     "text": [
      " 73%|███████▎  | 1692/2315 [01:56<00:41, 15.16 Segments/s]"
     ]
    },
    {
     "name": "stdout",
     "output_type": "stream",
     "text": [
      "Insufficient data points for cow SE-752efd72-2797, lactation 3, skipping.\n",
      "Insufficient data points for cow SE-7fd04cd3-679, lactation 4, skipping.\n",
      "Insufficient data points for cow SE-a624fb9a-1162, lactation 7, skipping.\n",
      "Insufficient data points for cow SE-a624fb9a-1200, lactation 4, skipping.\n"
     ]
    },
    {
     "name": "stderr",
     "output_type": "stream",
     "text": [
      " 74%|███████▎  | 1707/2315 [02:01<01:42,  5.92 Segments/s]"
     ]
    },
    {
     "name": "stdout",
     "output_type": "stream",
     "text": [
      "Insufficient data points for cow SE-a624fb9a-1251, lactation 3, skipping.\n"
     ]
    },
    {
     "name": "stderr",
     "output_type": "stream",
     "text": [
      " 75%|███████▌  | 1739/2315 [02:02<00:43, 13.32 Segments/s]"
     ]
    },
    {
     "name": "stdout",
     "output_type": "stream",
     "text": [
      "Insufficient data points for cow SE-a624fb9a-1267, lactation 3, skipping.\n"
     ]
    },
    {
     "name": "stderr",
     "output_type": "stream",
     "text": [
      " 76%|███████▌  | 1761/2315 [02:05<01:19,  6.95 Segments/s]"
     ]
    },
    {
     "name": "stdout",
     "output_type": "stream",
     "text": [
      "Insufficient data points for cow SE-a624fb9a-1312, lactation 2, skipping.\n"
     ]
    },
    {
     "name": "stderr",
     "output_type": "stream",
     "text": [
      " 77%|███████▋  | 1777/2315 [02:06<00:57,  9.36 Segments/s]"
     ]
    },
    {
     "name": "stdout",
     "output_type": "stream",
     "text": [
      "Insufficient data points for cow SE-a624fb9a-1330, lactation 2, skipping.\n",
      "Insufficient data points for cow SE-a624fb9a-1333, lactation 1, skipping.\n"
     ]
    },
    {
     "name": "stderr",
     "output_type": "stream",
     "text": [
      " 79%|███████▊  | 1822/2315 [02:07<00:19, 24.72 Segments/s]"
     ]
    },
    {
     "name": "stdout",
     "output_type": "stream",
     "text": [
      "Insufficient data points for cow SE-a624fb9a-1373, lactation 1, skipping.\n",
      "Insufficient data points for cow SE-a624fb9a-1374, lactation 1, skipping.\n"
     ]
    },
    {
     "name": "stderr",
     "output_type": "stream",
     "text": [
      " 86%|████████▌ | 1991/2315 [02:16<00:19, 16.71 Segments/s]"
     ]
    },
    {
     "name": "stdout",
     "output_type": "stream",
     "text": [
      "Insufficient data points for cow SE-f454e660-0420, lactation 5, skipping.\n"
     ]
    },
    {
     "name": "stderr",
     "output_type": "stream",
     "text": [
      " 87%|████████▋ | 2003/2315 [02:18<00:27, 11.21 Segments/s]"
     ]
    },
    {
     "name": "stdout",
     "output_type": "stream",
     "text": [
      "Insufficient data points for cow SE-f454e660-0451, lactation 5, skipping.\n"
     ]
    },
    {
     "name": "stderr",
     "output_type": "stream",
     "text": [
      " 88%|████████▊ | 2040/2315 [02:19<00:09, 30.37 Segments/s]"
     ]
    },
    {
     "name": "stdout",
     "output_type": "stream",
     "text": [
      "Insufficient data points for cow SE-f454e660-0465, lactation 2, skipping.\n",
      "Insufficient data points for cow SE-f454e660-0494, lactation 2, skipping.\n"
     ]
    },
    {
     "name": "stderr",
     "output_type": "stream",
     "text": [
      " 89%|████████▉ | 2067/2315 [02:21<00:13, 17.90 Segments/s]"
     ]
    },
    {
     "name": "stdout",
     "output_type": "stream",
     "text": [
      "Insufficient data points for cow SE-f454e660-0545, lactation 4, skipping.\n",
      "Insufficient data points for cow SE-f454e660-0551, lactation 1, skipping.\n",
      "Insufficient data points for cow SE-f454e660-0559, lactation 1, skipping.\n"
     ]
    },
    {
     "name": "stderr",
     "output_type": "stream",
     "text": [
      " 90%|████████▉ | 2076/2315 [02:23<00:17, 13.40 Segments/s]"
     ]
    },
    {
     "name": "stdout",
     "output_type": "stream",
     "text": [
      "Insufficient data points for cow SE-f454e660-0585, lactation 1, skipping.\n"
     ]
    },
    {
     "name": "stderr",
     "output_type": "stream",
     "text": [
      " 93%|█████████▎| 2143/2315 [02:27<00:09, 17.32 Segments/s]"
     ]
    },
    {
     "name": "stdout",
     "output_type": "stream",
     "text": [
      "Insufficient data points for cow SE-f454e660-0713, lactation 2, skipping.\n",
      "Insufficient data points for cow SE-f454e660-0717, lactation 2, skipping.\n"
     ]
    },
    {
     "name": "stderr",
     "output_type": "stream",
     "text": [
      " 94%|█████████▍| 2186/2315 [02:27<00:03, 39.53 Segments/s]"
     ]
    },
    {
     "name": "stdout",
     "output_type": "stream",
     "text": [
      "Insufficient data points for cow SE-f454e660-0726, lactation 2, skipping.\n"
     ]
    },
    {
     "name": "stderr",
     "output_type": "stream",
     "text": [
      " 96%|█████████▌| 2216/2315 [02:28<00:02, 46.45 Segments/s]"
     ]
    },
    {
     "name": "stdout",
     "output_type": "stream",
     "text": [
      "Insufficient data points for cow SE-f454e660-0829, lactation 1, skipping.\n"
     ]
    },
    {
     "name": "stderr",
     "output_type": "stream",
     "text": [
      " 98%|█████████▊| 2265/2315 [02:33<00:03, 13.36 Segments/s]"
     ]
    },
    {
     "name": "stdout",
     "output_type": "stream",
     "text": [
      "Insufficient data points for cow SE-f454e660-509, lactation 3, skipping.\n",
      "Insufficient data points for cow SE-f454e660-510, lactation 2, skipping.\n"
     ]
    },
    {
     "name": "stderr",
     "output_type": "stream",
     "text": [
      " 98%|█████████▊| 2274/2315 [02:34<00:03, 12.38 Segments/s]"
     ]
    },
    {
     "name": "stdout",
     "output_type": "stream",
     "text": [
      "Insufficient data points for cow SE-f454e660-567, lactation 1, skipping.\n"
     ]
    },
    {
     "name": "stderr",
     "output_type": "stream",
     "text": [
      "100%|██████████| 2315/2315 [02:37<00:00, 14.68 Segments/s]\n"
     ]
    },
    {
     "name": "stdout",
     "output_type": "stream",
     "text": [
      "Insufficient data points for cow SE-f454e660-729, lactation 1, skipping.\n"
     ]
    }
   ],
   "source": [
    "# Define the Wilmink Lactation Curve function\n",
    "def wilmink_lactation_curve(dim, a, b, c, d):\n",
    "    dim = np.array(dim, dtype=float)\n",
    "    return a + b * dim + c * np.exp(-d * dim)\n",
    "\n",
    "# Function to detect and remove outliers\n",
    "def remove_outliers(group, threshold=3.5):\n",
    "    mean = np.mean(group['DailyYield'])\n",
    "    std_dev = np.std(group['DailyYield'])\n",
    "    return group[(group['DailyYield'] > mean - threshold * std_dev) & (group['DailyYield'] < mean + threshold * std_dev)]\n",
    "\n",
    "# Function to smooth the data using a rolling average\n",
    "def smooth_data(group, window=5):\n",
    "    group = group.copy()\n",
    "    group['DailyYield'] = group['DailyYield'].rolling(window, min_periods=1).mean()\n",
    "    return group\n",
    "\n",
    "# Function to fit the Wilmink Lactation Curve to the dataset\n",
    "def fit_wilmink_lactation_curve(dataset):\n",
    "    # Initialize the 'ExpectedYield' column to NaN\n",
    "    dataset['ExpectedYield'] = np.nan\n",
    "    params_dict = {}\n",
    "    \n",
    "    valid_indices = []\n",
    "\n",
    "    # Group the dataset by 'SE_Number' and 'LactationNumber' and fit the curve for each segment\n",
    "    for (animal_number, lactation_number), group in tqdm(dataset.groupby(['SE_Number', 'LactationNumber']), unit=\" Segments\"):\n",
    "        # Prepare the data for fitting\n",
    "        group = remove_outliers(group, threshold=3.5)  # Remove outliers with threshold 4\n",
    "        group = smooth_data(group)  # Smooth the data\n",
    "        x_data = group['DaysInMilk'].values\n",
    "        y_data = group['DailyYield'].values\n",
    "        \n",
    "        # Ensure there are no NaN or infinite values in the data\n",
    "        if not np.isfinite(x_data).all() or not np.isfinite(y_data).all():\n",
    "            print(f\"Non-finite values found for cow {animal_number}, lactation {lactation_number}, skipping.\")\n",
    "            continue\n",
    "        \n",
    "        # Ensure there are enough data points to fit the curve\n",
    "        if len(x_data) < 10 or len(y_data) < 10:\n",
    "            print(f\"Insufficient data points for cow {animal_number}, lactation {lactation_number}, skipping.\")\n",
    "            continue\n",
    "\n",
    "        valid_indices.extend(group.index)\n",
    "        \n",
    "        # Fit the model\n",
    "        try:\n",
    "            # Initial parameter guesses\n",
    "            initial_guesses = [np.mean(y_data), 0, np.mean(y_data) / 2, 0.1]\n",
    "            # Bounds on the parameters to prevent overflow\n",
    "            bounds = ([-np.inf, -np.inf, -np.inf, 0], [np.inf, np.inf, np.inf, np.inf])\n",
    "            \n",
    "            with warnings.catch_warnings():\n",
    "                warnings.filterwarnings('error', category=OptimizeWarning)\n",
    "                try:\n",
    "                    popt, pcov = curve_fit(\n",
    "                        wilmink_lactation_curve, x_data, y_data,\n",
    "                        p0=initial_guesses, bounds=bounds, maxfev=30000\n",
    "                    )\n",
    "                    \n",
    "                    # Store the parameters in the dictionary\n",
    "                    params_dict[(animal_number, lactation_number)] = {'a': popt[0], 'b': popt[1], 'c': popt[2], 'd': popt[3]}\n",
    "                    \n",
    "                    # Predict the expected yield using the fitted model\n",
    "                    dataset.loc[group.index, 'ExpectedYield'] = wilmink_lactation_curve(group['DaysInMilk'], *popt)\n",
    "                    \n",
    "                    # Normalize the DailyYield\n",
    "                    dataset.loc[group.index, 'NormalizedDailyYield'] = group['DailyYield'] / dataset.loc[group.index, 'ExpectedYield']\n",
    "                    \n",
    "                    # Calculate the daily yield change and normalize it\n",
    "                    dataset.loc[group.index, 'PreviousDailyYield'] = group['DailyYield'].shift(1)\n",
    "                    dataset.loc[group.index, 'DailyYieldChange'] = group['DailyYield'] - dataset.loc[group.index, 'PreviousDailyYield']\n",
    "                    dataset.loc[group.index, 'NormalizedDailyYieldChange'] = dataset.loc[group.index, 'DailyYieldChange'] / dataset.loc[group.index, 'ExpectedYield']\n",
    "                \n",
    "                except OptimizeWarning:\n",
    "                    print(f\"OptimizeWarning for cow {animal_number}, lactation {lactation_number}, skipping.\")\n",
    "            \n",
    "        except RuntimeError as e:\n",
    "            print(f\"Curve fit failed for cow {animal_number}, lactation {lactation_number}: {e}\")\n",
    "        except ValueError as e:\n",
    "            print(f\"Value error for cow {animal_number}, lactation {lactation_number}: {e}\")\n",
    "    \n",
    "    # Keep only valid indices\n",
    "    dataset = dataset.loc[valid_indices].reset_index(drop=True)\n",
    "    \n",
    "    # Fill any NaN values in the newly created columns with 0\n",
    "    dataset['ExpectedYield'] = dataset['ExpectedYield'].fillna(0)\n",
    "    dataset['NormalizedDailyYield'] = dataset['NormalizedDailyYield'].fillna(0)\n",
    "    dataset['PreviousDailyYield'] = dataset['PreviousDailyYield'].fillna(0)\n",
    "    dataset['DailyYieldChange'] = dataset['DailyYieldChange'].fillna(0)\n",
    "    dataset['NormalizedDailyYieldChange'] = dataset['NormalizedDailyYieldChange'].fillna(0)\n",
    "    \n",
    "    return dataset, params_dict\n",
    "\n",
    "# Apply the curve fitting function to your dataset\n",
    "fitted_data, params_dict = fit_wilmink_lactation_curve(data)"
   ]
  },
  {
   "cell_type": "code",
   "execution_count": 12,
   "metadata": {},
   "outputs": [
    {
     "name": "stdout",
     "output_type": "stream",
     "text": [
      "Mean of NormalizedDailyYield: FarmName_Pseudo\n",
      "5c06d92d    0.999873\n",
      "752efd72    1.000064\n",
      "a624fb9a    1.000214\n",
      "f454e660    0.999874\n",
      "Name: NormalizedDailyYield, dtype: float64\n",
      "Standard Deviation of NormalizedDailyYield: FarmName_Pseudo\n",
      "5c06d92d    0.110106\n",
      "752efd72    0.073153\n",
      "a624fb9a    0.101905\n",
      "f454e660    0.114833\n",
      "Name: NormalizedDailyYield, dtype: float64\n"
     ]
    }
   ],
   "source": [
    "# Check if NormalizedDailyYield is centered around 1 for each unique farm\n",
    "print(\"Mean of NormalizedDailyYield:\", data.groupby('FarmName_Pseudo')['NormalizedDailyYield'].mean())\n",
    "print(\"Standard Deviation of NormalizedDailyYield:\", data.groupby('FarmName_Pseudo')['NormalizedDailyYield'].std())"
   ]
  },
  {
   "cell_type": "code",
   "execution_count": 13,
   "metadata": {},
   "outputs": [
    {
     "data": {
      "text/html": [
       "<div>\n",
       "<style scoped>\n",
       "    .dataframe tbody tr th:only-of-type {\n",
       "        vertical-align: middle;\n",
       "    }\n",
       "\n",
       "    .dataframe tbody tr th {\n",
       "        vertical-align: top;\n",
       "    }\n",
       "\n",
       "    .dataframe thead th {\n",
       "        text-align: right;\n",
       "    }\n",
       "</style>\n",
       "<table border=\"1\" class=\"dataframe\">\n",
       "  <thead>\n",
       "    <tr style=\"text-align: right;\">\n",
       "      <th></th>\n",
       "      <th>SE_Number</th>\n",
       "      <th>LactationNumber</th>\n",
       "      <th>a</th>\n",
       "      <th>b</th>\n",
       "      <th>c</th>\n",
       "      <th>d</th>\n",
       "    </tr>\n",
       "  </thead>\n",
       "  <tbody>\n",
       "    <tr>\n",
       "      <th>0</th>\n",
       "      <td>SE-064c0cec-1189</td>\n",
       "      <td>7</td>\n",
       "      <td>57.928060</td>\n",
       "      <td>-0.115252</td>\n",
       "      <td>-6.063436</td>\n",
       "      <td>17.367795</td>\n",
       "    </tr>\n",
       "    <tr>\n",
       "      <th>1</th>\n",
       "      <td>SE-064c0cec-1189</td>\n",
       "      <td>8</td>\n",
       "      <td>41.195196</td>\n",
       "      <td>-0.080255</td>\n",
       "      <td>-44.398922</td>\n",
       "      <td>0.159012</td>\n",
       "    </tr>\n",
       "    <tr>\n",
       "      <th>2</th>\n",
       "      <td>SE-30dc5787-1389</td>\n",
       "      <td>5</td>\n",
       "      <td>115.924643</td>\n",
       "      <td>-0.343237</td>\n",
       "      <td>12.205804</td>\n",
       "      <td>0.099999</td>\n",
       "    </tr>\n",
       "    <tr>\n",
       "      <th>3</th>\n",
       "      <td>SE-30dc5787-1389</td>\n",
       "      <td>6</td>\n",
       "      <td>52.877694</td>\n",
       "      <td>-0.084404</td>\n",
       "      <td>-32.593600</td>\n",
       "      <td>0.093018</td>\n",
       "    </tr>\n",
       "    <tr>\n",
       "      <th>4</th>\n",
       "      <td>SE-30dc5787-1389</td>\n",
       "      <td>7</td>\n",
       "      <td>47.551089</td>\n",
       "      <td>-0.094727</td>\n",
       "      <td>-45.321451</td>\n",
       "      <td>0.203812</td>\n",
       "    </tr>\n",
       "    <tr>\n",
       "      <th>...</th>\n",
       "      <td>...</td>\n",
       "      <td>...</td>\n",
       "      <td>...</td>\n",
       "      <td>...</td>\n",
       "      <td>...</td>\n",
       "      <td>...</td>\n",
       "    </tr>\n",
       "    <tr>\n",
       "      <th>2227</th>\n",
       "      <td>SE-f454e660-686</td>\n",
       "      <td>1</td>\n",
       "      <td>24.464747</td>\n",
       "      <td>-0.029503</td>\n",
       "      <td>-30.107339</td>\n",
       "      <td>0.322460</td>\n",
       "    </tr>\n",
       "    <tr>\n",
       "      <th>2228</th>\n",
       "      <td>SE-f454e660-688</td>\n",
       "      <td>1</td>\n",
       "      <td>22.360134</td>\n",
       "      <td>0.006013</td>\n",
       "      <td>-0.083601</td>\n",
       "      <td>26.265057</td>\n",
       "    </tr>\n",
       "    <tr>\n",
       "      <th>2229</th>\n",
       "      <td>SE-f454e660-693</td>\n",
       "      <td>1</td>\n",
       "      <td>722399.241220</td>\n",
       "      <td>-24.952569</td>\n",
       "      <td>-722371.384516</td>\n",
       "      <td>0.000035</td>\n",
       "    </tr>\n",
       "    <tr>\n",
       "      <th>2230</th>\n",
       "      <td>SE-f454e660-701</td>\n",
       "      <td>1</td>\n",
       "      <td>25.337203</td>\n",
       "      <td>-0.007307</td>\n",
       "      <td>4.771692</td>\n",
       "      <td>5.566311</td>\n",
       "    </tr>\n",
       "    <tr>\n",
       "      <th>2231</th>\n",
       "      <td>SE-f454e660-712</td>\n",
       "      <td>1</td>\n",
       "      <td>25.797342</td>\n",
       "      <td>-0.036395</td>\n",
       "      <td>-30.408853</td>\n",
       "      <td>0.134107</td>\n",
       "    </tr>\n",
       "  </tbody>\n",
       "</table>\n",
       "<p>2232 rows × 6 columns</p>\n",
       "</div>"
      ],
      "text/plain": [
       "             SE_Number  LactationNumber              a          b  \\\n",
       "0     SE-064c0cec-1189                7      57.928060  -0.115252   \n",
       "1     SE-064c0cec-1189                8      41.195196  -0.080255   \n",
       "2     SE-30dc5787-1389                5     115.924643  -0.343237   \n",
       "3     SE-30dc5787-1389                6      52.877694  -0.084404   \n",
       "4     SE-30dc5787-1389                7      47.551089  -0.094727   \n",
       "...                ...              ...            ...        ...   \n",
       "2227   SE-f454e660-686                1      24.464747  -0.029503   \n",
       "2228   SE-f454e660-688                1      22.360134   0.006013   \n",
       "2229   SE-f454e660-693                1  722399.241220 -24.952569   \n",
       "2230   SE-f454e660-701                1      25.337203  -0.007307   \n",
       "2231   SE-f454e660-712                1      25.797342  -0.036395   \n",
       "\n",
       "                  c          d  \n",
       "0         -6.063436  17.367795  \n",
       "1        -44.398922   0.159012  \n",
       "2         12.205804   0.099999  \n",
       "3        -32.593600   0.093018  \n",
       "4        -45.321451   0.203812  \n",
       "...             ...        ...  \n",
       "2227     -30.107339   0.322460  \n",
       "2228      -0.083601  26.265057  \n",
       "2229 -722371.384516   0.000035  \n",
       "2230       4.771692   5.566311  \n",
       "2231     -30.408853   0.134107  \n",
       "\n",
       "[2232 rows x 6 columns]"
      ]
     },
     "execution_count": 13,
     "metadata": {},
     "output_type": "execute_result"
    }
   ],
   "source": [
    "# Make a dataframe from the parameters dictionary, it should contain Se_Number, LactationNumber, a, b, c, d\n",
    "params_df = pd.DataFrame(params_dict).T.reset_index()\n",
    "params_df.columns = ['SE_Number', 'LactationNumber', 'a', 'b', 'c', 'd']\n",
    "params_df.head(-5)"
   ]
  },
  {
   "cell_type": "code",
   "execution_count": 14,
   "metadata": {},
   "outputs": [],
   "source": [
    "# import random\n",
    "\n",
    "# # Select 20 random groups from the fitted_data\n",
    "# random_groups = random.sample(list(fitted_data.groupby(['SE_Number', 'LactationNumber'])), 20)\n",
    "\n",
    "# # Plot the selected random cows and lactation plots\n",
    "# for (animal_number, lactation_number), group in random_groups:\n",
    "#     plt.figure(figsize=(10, 6))\n",
    "#     plt.scatter(group['Date'], group['DailyYield'], label='Actual Data Points', alpha=0.6)\n",
    "#     plt.plot(group['Date'], group['ExpectedYield'], color='red', label='Expected Yield (Fitted)', linewidth=2)\n",
    "#     plt.plot(group['Date'], group['DailyYield'], color='green', label='Actual Yield', linewidth=2, linestyle='dotted')\n",
    "#     plt.title(f\"Lactation Curve for Cow {animal_number}, Lactation {lactation_number}\")\n",
    "#     plt.xlabel('Date')\n",
    "#     plt.ylabel('Yield')\n",
    "#     plt.legend()\n",
    "#     plt.grid(True)\n",
    "#     plt.tight_layout()\n",
    "#     plt.show()"
   ]
  }
 ],
 "metadata": {
  "kernelspec": {
   "display_name": "GIGACOW",
   "language": "python",
   "name": "python3"
  },
  "language_info": {
   "codemirror_mode": {
    "name": "ipython",
    "version": 3
   },
   "file_extension": ".py",
   "mimetype": "text/x-python",
   "name": "python",
   "nbconvert_exporter": "python",
   "pygments_lexer": "ipython3",
   "version": "3.11.9"
  }
 },
 "nbformat": 4,
 "nbformat_minor": 2
}
